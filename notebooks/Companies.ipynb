{
 "cells": [
  {
   "cell_type": "markdown",
   "metadata": {
    "pycharm": {
     "name": "#%% md\n"
    }
   },
   "source": [
    "# Edgar company search"
   ]
  },
  {
   "cell_type": "code",
   "execution_count": 6,
   "metadata": {
    "pycharm": {
     "name": "#%%\n"
    }
   },
   "outputs": [
    {
     "name": "stdout",
     "output_type": "stream",
     "text": [
      "The autoreload extension is already loaded. To reload it, use:\n",
      "  %reload_ext autoreload\n"
     ]
    }
   ],
   "source": [
    "%load_ext autoreload\n",
    "%autoreload 2"
   ]
  },
  {
   "cell_type": "code",
   "execution_count": 7,
   "metadata": {},
   "outputs": [],
   "source": [
    "import sys\n",
    "\n",
    "if not '..' in sys.path: sys.path.append('..')"
   ]
  },
  {
   "cell_type": "markdown",
   "metadata": {
    "pycharm": {
     "name": "#%% md\n"
    }
   },
   "source": [
    "## Find a company"
   ]
  },
  {
   "cell_type": "code",
   "execution_count": 9,
   "metadata": {
    "pycharm": {
     "name": "#%%\n"
    }
   },
   "outputs": [],
   "source": [
    "from edgar.company import Company"
   ]
  },
  {
   "cell_type": "code",
   "execution_count": 13,
   "metadata": {
    "pycharm": {
     "name": "#%%\n"
    }
   },
   "outputs": [
    {
     "data": {
      "text/html": [
       "\n",
       "        <h3>Expedia Group, Inc.</h3>\n",
       "        <style type=\"text/css\">\n",
       "</style>\n",
       "<table id=\"T_00d13\">\n",
       "  <thead>\n",
       "    <tr>\n",
       "      <th id=\"T_00d13_level0_col0\" class=\"col_heading level0 col0\" >CIK</th>\n",
       "      <th id=\"T_00d13_level0_col1\" class=\"col_heading level0 col1\" >Ticker</th>\n",
       "      <th id=\"T_00d13_level0_col2\" class=\"col_heading level0 col2\" >Industry</th>\n",
       "      <th id=\"T_00d13_level0_col3\" class=\"col_heading level0 col3\" >Exchange(s)</th>\n",
       "    </tr>\n",
       "  </thead>\n",
       "  <tbody>\n",
       "    <tr>\n",
       "      <td id=\"T_00d13_row0_col0\" class=\"data row0 col0\" >1324424</td>\n",
       "      <td id=\"T_00d13_row0_col1\" class=\"data row0 col1\" >EXPE</td>\n",
       "      <td id=\"T_00d13_row0_col2\" class=\"data row0 col2\" >Transportation Services</td>\n",
       "      <td id=\"T_00d13_row0_col3\" class=\"data row0 col3\" >Nasdaq</td>\n",
       "    </tr>\n",
       "  </tbody>\n",
       "</table>\n",
       "\n",
       "        "
      ],
      "text/plain": [
       "Company(cik=1324424, name='Expedia Group, Inc.', tickers=['EXPE'], exchanges=['Nasdaq'], sic=4700, sic_description='Transportation Services', category='Large accelerated filer', fiscal_year_end='1231', entity_type='operating', phone='(206) 481-7200', flags='', business_address=Address(street1='1111 EXPEDIA GROUP WAY W.', street2=None, city='SEATTLE', state_or_country='WA', zipcode='98119', state_or_country_desc='WA'), mailing_address=Address(street1='1111 EXPEDIA GROUP WAY W.', street2=None, city='SEATTLE', state_or_country='WA', zipcode='98119', state_or_country_desc='WA'), filings=pyarrow.Table\n",
       "accessionNumber: string\n",
       "filingDate: string\n",
       "reportDate: string\n",
       "acceptanceDateTime: string\n",
       "act: string\n",
       "form: string\n",
       "fileNumber: string\n",
       "items: string\n",
       "size: int64\n",
       "isXBRL: int64\n",
       "isInlineXBRL: int64\n",
       "primaryDocument: string\n",
       "primaryDocDescription: string\n",
       "----\n",
       "accessionNumber: [[\"0001225208-22-011744\",\"0001225208-22-011743\",\"0001225208-22-011742\",\"0001225208-22-011741\",\"0001324424-22-000065\",...,\"0001225208-12-017193\",\"0001193125-12-322784\",\"0001193125-12-317259\",\"0001193125-12-316789\",\"0001193125-12-299875\"]]\n",
       "filingDate: [[\"2022-11-16\",\"2022-11-16\",\"2022-11-16\",\"2022-11-16\",\"2022-11-04\",...,\"2012-08-02\",\"2012-07-30\",\"2012-07-27\",\"2012-07-26\",\"2012-07-11\"]]\n",
       "reportDate: [[\"2022-11-15\",\"2022-11-15\",\"2022-11-15\",\"2022-11-15\",\"2022-09-30\",...,\"2012-07-31\",\"\",\"2012-06-30\",\"2012-07-26\",\"\"]]\n",
       "acceptanceDateTime: [[\"2022-11-16T16:55:19.000Z\",\"2022-11-16T16:55:17.000Z\",\"2022-11-16T16:55:12.000Z\",\"2022-11-16T16:55:08.000Z\",\"2022-11-03T17:42:33.000Z\",...,\"2012-08-02T20:59:22.000Z\",\"2012-07-30T17:08:55.000Z\",\"2012-07-26T18:21:19.000Z\",\"2012-07-26T16:02:02.000Z\",\"2012-07-11T16:31:44.000Z\"]]\n",
       "act: [[\"\",\"\",\"\",\"\",\"34\",...,\"\",\"\",\"34\",\"34\",\"\"]]\n",
       "form: [[\"4\",\"4\",\"4\",\"4\",\"10-Q\",...,\"4\",\"CORRESP\",\"10-Q\",\"8-K\",\"CORRESP\"]]\n",
       "fileNumber: [[\"\",\"\",\"\",\"\",\"001-37429\",...,\"\",\"\",\"000-51447\",\"000-51447\",\"\"]]\n",
       "items: [[\"\",\"\",\"\",\"\",\"\",...,\"\",\"\",\"\",\"2.02,8.01,9.01\",\"\"]]\n",
       "size: [[21306,9200,19380,15800,8238594,...,12683,49856,9154013,607488,15309]]\n",
       "isXBRL: [[0,0,0,0,1,...,0,0,1,0,0]]\n",
       "..., get_facts=<functools._lru_cache_wrapper object at 0x0000021E64D39900>)"
      ]
     },
     "execution_count": 13,
     "metadata": {},
     "output_type": "execute_result"
    }
   ],
   "source": [
    "company = Company.for_cik(1324424)\n",
    "company"
   ]
  },
  {
   "cell_type": "code",
   "execution_count": null,
   "metadata": {},
   "outputs": [],
   "source": []
  }
 ],
 "metadata": {
  "kernelspec": {
   "display_name": "edgar",
   "language": "python",
   "name": "edgar"
  },
  "language_info": {
   "codemirror_mode": {
    "name": "ipython",
    "version": 3
   },
   "file_extension": ".py",
   "mimetype": "text/x-python",
   "name": "python",
   "nbconvert_exporter": "python",
   "pygments_lexer": "ipython3",
   "version": "3.10.5"
  }
 },
 "nbformat": 4,
 "nbformat_minor": 1
}

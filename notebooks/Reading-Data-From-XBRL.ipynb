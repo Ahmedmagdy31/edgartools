{
 "cells": [
  {
   "cell_type": "markdown",
   "id": "0995a262-7141-4a35-bf45-e7280f21885f",
   "metadata": {},
   "source": [
    "# Reading Data from XBRL Files\n",
    "\n",
    "Some SEC filings, including **10-K's** and **10-Qs**, have XBRL files as attachments. This notebook shows how to access the data within these XBRL files."
   ]
  },
  {
   "cell_type": "markdown",
   "id": "8fde2744-72c3-4cc4-b6cc-cdeb7d803455",
   "metadata": {},
   "source": [
    "[![Open In Colab](https://colab.research.google.com/assets/colab-badge.svg)](http://colab.research.google.com/github/dgunning/edgartools/blob/main/notebooks/Reading-Data-From-XBRL.ipynb)"
   ]
  },
  {
   "cell_type": "markdown",
   "id": "e1d009c9-220c-4242-97af-f57cfb1054ea",
   "metadata": {},
   "source": [
    "## Install edgartools"
   ]
  },
  {
   "cell_type": "code",
   "execution_count": 1,
   "id": "6edccaa6-5b20-4320-a59f-50b982098788",
   "metadata": {},
   "outputs": [
    {
     "name": "stdout",
     "output_type": "stream",
     "text": [
      "Requirement already satisfied: edgartools in /Users/dwight/Library/Application Support/hatch/env/virtual/edgartools/vVxbhE2A/edgartools/lib/python3.11/site-packages (2.27.9)\n",
      "Requirement already satisfied: beautifulsoup4>=4.10.0 in /Users/dwight/Library/Application Support/hatch/env/virtual/edgartools/vVxbhE2A/edgartools/lib/python3.11/site-packages (from edgartools) (4.12.2)\n",
      "Requirement already satisfied: fastcore>=1.5.29 in /Users/dwight/Library/Application Support/hatch/env/virtual/edgartools/vVxbhE2A/edgartools/lib/python3.11/site-packages (from edgartools) (1.5.29)\n",
      "Requirement already satisfied: httpx>=0.25.0 in /Users/dwight/Library/Application Support/hatch/env/virtual/edgartools/vVxbhE2A/edgartools/lib/python3.11/site-packages (from edgartools) (0.25.2)\n",
      "Requirement already satisfied: humanize>=4.0.0 in /Users/dwight/Library/Application Support/hatch/env/virtual/edgartools/vVxbhE2A/edgartools/lib/python3.11/site-packages (from edgartools) (4.9.0)\n",
      "Requirement already satisfied: lxml>=4.4 in /Users/dwight/Library/Application Support/hatch/env/virtual/edgartools/vVxbhE2A/edgartools/lib/python3.11/site-packages (from edgartools) (4.9.3)\n",
      "Requirement already satisfied: nest-asyncio>=1.5.1 in /Users/dwight/Library/Application Support/hatch/env/virtual/edgartools/vVxbhE2A/edgartools/lib/python3.11/site-packages (from edgartools) (1.5.8)\n",
      "Requirement already satisfied: orjson>=3.6.0 in /Users/dwight/Library/Application Support/hatch/env/virtual/edgartools/vVxbhE2A/edgartools/lib/python3.11/site-packages (from edgartools) (3.10.3)\n",
      "Requirement already satisfied: pandas>=2.0.0 in /Users/dwight/Library/Application Support/hatch/env/virtual/edgartools/vVxbhE2A/edgartools/lib/python3.11/site-packages (from edgartools) (2.1.3)\n",
      "Requirement already satisfied: pyarrow>=14.0.0 in /Users/dwight/Library/Application Support/hatch/env/virtual/edgartools/vVxbhE2A/edgartools/lib/python3.11/site-packages (from edgartools) (14.0.1)\n",
      "Requirement already satisfied: pydantic>=2.0.0 in /Users/dwight/Library/Application Support/hatch/env/virtual/edgartools/vVxbhE2A/edgartools/lib/python3.11/site-packages (from edgartools) (2.5.2)\n",
      "Requirement already satisfied: rank-bm25==0.2.1 in /Users/dwight/Library/Application Support/hatch/env/virtual/edgartools/vVxbhE2A/edgartools/lib/python3.11/site-packages (from edgartools) (0.2.1)\n",
      "Requirement already satisfied: rapidfuzz>=3.5.0 in /Users/dwight/Library/Application Support/hatch/env/virtual/edgartools/vVxbhE2A/edgartools/lib/python3.11/site-packages (from edgartools) (3.5.2)\n",
      "Requirement already satisfied: rich>=13.0.0 in /Users/dwight/Library/Application Support/hatch/env/virtual/edgartools/vVxbhE2A/edgartools/lib/python3.11/site-packages (from edgartools) (13.7.0)\n",
      "Requirement already satisfied: stamina>=24.2.0 in /Users/dwight/Library/Application Support/hatch/env/virtual/edgartools/vVxbhE2A/edgartools/lib/python3.11/site-packages (from edgartools) (24.2.0)\n",
      "Requirement already satisfied: tabulate>=0.9.0 in /Users/dwight/Library/Application Support/hatch/env/virtual/edgartools/vVxbhE2A/edgartools/lib/python3.11/site-packages (from edgartools) (0.9.0)\n",
      "Requirement already satisfied: tenacity<8.4.0 in /Users/dwight/Library/Application Support/hatch/env/virtual/edgartools/vVxbhE2A/edgartools/lib/python3.11/site-packages (from edgartools) (8.3.0)\n",
      "Requirement already satisfied: textdistance>=4.5.0 in /Users/dwight/Library/Application Support/hatch/env/virtual/edgartools/vVxbhE2A/edgartools/lib/python3.11/site-packages (from edgartools) (4.6.0)\n",
      "Requirement already satisfied: tqdm>=4.62.0 in /Users/dwight/Library/Application Support/hatch/env/virtual/edgartools/vVxbhE2A/edgartools/lib/python3.11/site-packages (from edgartools) (4.66.1)\n",
      "Requirement already satisfied: unidecode>=1.2.0 in /Users/dwight/Library/Application Support/hatch/env/virtual/edgartools/vVxbhE2A/edgartools/lib/python3.11/site-packages (from edgartools) (1.3.8)\n",
      "Requirement already satisfied: numpy in /Users/dwight/Library/Application Support/hatch/env/virtual/edgartools/vVxbhE2A/edgartools/lib/python3.11/site-packages (from rank-bm25==0.2.1->edgartools) (1.26.2)\n",
      "Requirement already satisfied: soupsieve>1.2 in /Users/dwight/Library/Application Support/hatch/env/virtual/edgartools/vVxbhE2A/edgartools/lib/python3.11/site-packages (from beautifulsoup4>=4.10.0->edgartools) (2.5)\n",
      "Requirement already satisfied: pip in /Users/dwight/Library/Application Support/hatch/env/virtual/edgartools/vVxbhE2A/edgartools/lib/python3.11/site-packages (from fastcore>=1.5.29->edgartools) (24.2)\n",
      "Requirement already satisfied: packaging in /Users/dwight/Library/Application Support/hatch/env/virtual/edgartools/vVxbhE2A/edgartools/lib/python3.11/site-packages (from fastcore>=1.5.29->edgartools) (23.2)\n",
      "Requirement already satisfied: anyio in /Users/dwight/Library/Application Support/hatch/env/virtual/edgartools/vVxbhE2A/edgartools/lib/python3.11/site-packages (from httpx>=0.25.0->edgartools) (4.1.0)\n",
      "Requirement already satisfied: certifi in /Users/dwight/Library/Application Support/hatch/env/virtual/edgartools/vVxbhE2A/edgartools/lib/python3.11/site-packages (from httpx>=0.25.0->edgartools) (2023.11.17)\n",
      "Requirement already satisfied: httpcore==1.* in /Users/dwight/Library/Application Support/hatch/env/virtual/edgartools/vVxbhE2A/edgartools/lib/python3.11/site-packages (from httpx>=0.25.0->edgartools) (1.0.2)\n",
      "Requirement already satisfied: idna in /Users/dwight/Library/Application Support/hatch/env/virtual/edgartools/vVxbhE2A/edgartools/lib/python3.11/site-packages (from httpx>=0.25.0->edgartools) (3.6)\n",
      "Requirement already satisfied: sniffio in /Users/dwight/Library/Application Support/hatch/env/virtual/edgartools/vVxbhE2A/edgartools/lib/python3.11/site-packages (from httpx>=0.25.0->edgartools) (1.3.0)\n",
      "Requirement already satisfied: h11<0.15,>=0.13 in /Users/dwight/Library/Application Support/hatch/env/virtual/edgartools/vVxbhE2A/edgartools/lib/python3.11/site-packages (from httpcore==1.*->httpx>=0.25.0->edgartools) (0.14.0)\n",
      "Requirement already satisfied: python-dateutil>=2.8.2 in /Users/dwight/Library/Application Support/hatch/env/virtual/edgartools/vVxbhE2A/edgartools/lib/python3.11/site-packages (from pandas>=2.0.0->edgartools) (2.8.2)\n",
      "Requirement already satisfied: pytz>=2020.1 in /Users/dwight/Library/Application Support/hatch/env/virtual/edgartools/vVxbhE2A/edgartools/lib/python3.11/site-packages (from pandas>=2.0.0->edgartools) (2023.3.post1)\n",
      "Requirement already satisfied: tzdata>=2022.1 in /Users/dwight/Library/Application Support/hatch/env/virtual/edgartools/vVxbhE2A/edgartools/lib/python3.11/site-packages (from pandas>=2.0.0->edgartools) (2023.3)\n",
      "Requirement already satisfied: annotated-types>=0.4.0 in /Users/dwight/Library/Application Support/hatch/env/virtual/edgartools/vVxbhE2A/edgartools/lib/python3.11/site-packages (from pydantic>=2.0.0->edgartools) (0.6.0)\n",
      "Requirement already satisfied: pydantic-core==2.14.5 in /Users/dwight/Library/Application Support/hatch/env/virtual/edgartools/vVxbhE2A/edgartools/lib/python3.11/site-packages (from pydantic>=2.0.0->edgartools) (2.14.5)\n",
      "Requirement already satisfied: typing-extensions>=4.6.1 in /Users/dwight/Library/Application Support/hatch/env/virtual/edgartools/vVxbhE2A/edgartools/lib/python3.11/site-packages (from pydantic>=2.0.0->edgartools) (4.8.0)\n",
      "Requirement already satisfied: markdown-it-py>=2.2.0 in /Users/dwight/Library/Application Support/hatch/env/virtual/edgartools/vVxbhE2A/edgartools/lib/python3.11/site-packages (from rich>=13.0.0->edgartools) (3.0.0)\n",
      "Requirement already satisfied: pygments<3.0.0,>=2.13.0 in /Users/dwight/Library/Application Support/hatch/env/virtual/edgartools/vVxbhE2A/edgartools/lib/python3.11/site-packages (from rich>=13.0.0->edgartools) (2.17.2)\n",
      "Requirement already satisfied: mdurl~=0.1 in /Users/dwight/Library/Application Support/hatch/env/virtual/edgartools/vVxbhE2A/edgartools/lib/python3.11/site-packages (from markdown-it-py>=2.2.0->rich>=13.0.0->edgartools) (0.1.2)\n",
      "Requirement already satisfied: six>=1.5 in /Users/dwight/Library/Application Support/hatch/env/virtual/edgartools/vVxbhE2A/edgartools/lib/python3.11/site-packages (from python-dateutil>=2.8.2->pandas>=2.0.0->edgartools) (1.16.0)\n"
     ]
    }
   ],
   "source": [
    "!pip install edgartools"
   ]
  },
  {
   "cell_type": "markdown",
   "id": "54fb7dce-cd50-4169-815a-54799fbae1d2",
   "metadata": {},
   "source": [
    "## Import edgar"
   ]
  },
  {
   "cell_type": "code",
   "execution_count": 2,
   "id": "7ff5a292-66ef-4b57-ae7d-6929d212c332",
   "metadata": {},
   "outputs": [
    {
     "data": {
      "text/html": [
       "<pre style=\"white-space:pre;overflow-x:auto;line-height:normal;font-family:Menlo,'DejaVu Sans Mono',consolas,'Courier New',monospace\"><span style=\"color: #7fbfbf; text-decoration-color: #7fbfbf\">[09:13:28] </span><span style=\"color: #000080; text-decoration-color: #000080\">INFO    </span> Identity of the Edgar REST client set to <span style=\"font-weight: bold\">[</span>My Name mname@gmail.com<span style=\"font-weight: bold\">]</span>                  <span style=\"color: #7f7f7f; text-decoration-color: #7f7f7f\">core.py:158</span>\n",
       "</pre>\n"
      ],
      "text/plain": [
       "\u001b[2;36m[09:13:28]\u001b[0m\u001b[2;36m \u001b[0m\u001b[34mINFO    \u001b[0m Identity of the Edgar REST client set to \u001b[1m[\u001b[0mMy Name mname@gmail.com\u001b[1m]\u001b[0m                  \u001b[2mcore.py\u001b[0m\u001b[2m:\u001b[0m\u001b[2m158\u001b[0m\n"
      ]
     },
     "metadata": {},
     "output_type": "display_data"
    }
   ],
   "source": [
    "from edgar import *\n",
    "\n",
    "set_identity(\"My Name mname@gmail.com\")"
   ]
  },
  {
   "cell_type": "markdown",
   "id": "d8668b2c-4dce-480d-9806-ad5588b0fa4c",
   "metadata": {},
   "source": [
    "## Getting a filing with XBRL"
   ]
  },
  {
   "cell_type": "code",
   "execution_count": 3,
   "id": "943cb51e-4c2f-4326-b3b7-2f19c3ff0559",
   "metadata": {},
   "outputs": [],
   "source": [
    "from edgar.xbrl import *"
   ]
  },
  {
   "cell_type": "code",
   "execution_count": 4,
   "id": "1261ef8f-b77a-4847-a5a2-848e2cbc4f8a",
   "metadata": {},
   "outputs": [],
   "source": [
    "filing = Company(\"AAPL\").get_filings(form=\"10-Q\").latest(1)\n",
    "filing\n",
    "filing: Filing = Filing(company='Apple Inc.', cik=320193, form='10-K', filing_date='2023-11-03',\n",
    "                            accession_no='0000320193-23-000106')"
   ]
  },
  {
   "cell_type": "code",
   "execution_count": 5,
   "id": "d9c431d4-2948-4dfc-bd6a-36cf79e7742f",
   "metadata": {},
   "outputs": [],
   "source": [
    "xbrl_data = filing.xbrl()\n",
    "\n",
    "# This is a shortcut for\n",
    "\n",
    "# from edgar.xbrl import XBRLData\n",
    "#XBRLData.extract(filing)"
   ]
  },
  {
   "cell_type": "code",
   "execution_count": 6,
   "id": "eb6c6483-e4d1-47fb-9ead-b22ad4f7dc95",
   "metadata": {},
   "outputs": [
    {
     "data": {
      "text/html": [
       "<pre style=\"white-space:pre;overflow-x:auto;line-height:normal;font-family:Menlo,'DejaVu Sans Mono',consolas,'Courier New',monospace\"></pre>\n"
      ],
      "text/plain": []
     },
     "metadata": {},
     "output_type": "display_data"
    },
    {
     "data": {
      "text/plain": [
       "╭─────────────────────────────────────────── XBRL Data for \u001b[1;38;5;32mApple Inc. \u001b[0m ───────────────────────────────────────────╮\n",
       "│ \u001b[3m              XBRL Instance Document              \u001b[0m                                                              │\n",
       "│ ╭────────────┬─────────────────┬─────────────────╮                                                              │\n",
       "│ │\u001b[1m \u001b[0m\u001b[1mCompany   \u001b[0m\u001b[1m \u001b[0m│\u001b[1m \u001b[0m\u001b[1mNumber of Facts\u001b[0m\u001b[1m \u001b[0m│\u001b[1m \u001b[0m\u001b[1mDocument Period\u001b[0m\u001b[1m \u001b[0m│                                                              │\n",
       "│ ├────────────┼─────────────────┼─────────────────┤                                                              │\n",
       "│ │ Apple Inc. │ 1,164           │ 2023-09-30      │                                                              │\n",
       "│ ╰────────────┴─────────────────┴─────────────────╯                                                              │\n",
       "│ ╭────┬────────────────────────────────────────────────────────────────────────────────────────────────────────╮ │\n",
       "│ │\u001b[1m \u001b[0m\u001b[1m  \u001b[0m\u001b[1m \u001b[0m│\u001b[1m \u001b[0m\u001b[1mStatements                                                                                            \u001b[0m\u001b[1m \u001b[0m│ │\n",
       "│ ├────┼────────────────────────────────────────────────────────────────────────────────────────────────────────┤ │\n",
       "│ │ 0  │ \u001b[38;5;32mCover\u001b[0m\u001b[38;5;160mPage\u001b[0m                                                                                              │ │\n",
       "│ │ 1  │ \u001b[38;5;32mAuditor\u001b[0m\u001b[38;5;160mInformation\u001b[0m                                                                                     │ │\n",
       "│ │ 2  │ \u001b[38;5;32mCONSOLIDATEDSTATEMENTSOFOPERATIONS\u001b[0m                                                                     │ │\n",
       "│ │ 3  │ \u001b[38;5;32mCONSOLIDATEDSTATEMENTSOFCOMPREHENSIVEINCOME\u001b[0m                                                            │ │\n",
       "│ │ 4  │ \u001b[38;5;32mCONSOLIDATEDBALANCESHEETS\u001b[0m                                                                              │ │\n",
       "│ │ 5  │ \u001b[38;5;32mCONSOLIDATEDBALANCESHEETS\u001b[0m\u001b[38;5;160mParenthetical\u001b[0m                                                                 │ │\n",
       "│ │ 6  │ \u001b[38;5;32mCONSOLIDATEDSTATEMENTSOFSHAREHOLDERSEQUITY\u001b[0m                                                             │ │\n",
       "│ │ 7  │ \u001b[38;5;32mCONSOLIDATEDSTATEMENTSOFCASHFLOWS\u001b[0m                                                                      │ │\n",
       "│ │ 8  │ \u001b[38;5;32mSummaryof\u001b[0m\u001b[38;5;160mSignificant\u001b[0m\u001b[38;5;71mAccounting\u001b[0m\u001b[38;5;32mPolicies\u001b[0m                                                                 │ │\n",
       "│ │ 9  │ \u001b[38;5;32mRevenue\u001b[0m                                                                                                │ │\n",
       "│ │ 10 │ \u001b[38;5;32mEarnings\u001b[0m\u001b[38;5;160mPer\u001b[0m\u001b[38;5;71mShare\u001b[0m                                                                                       │ │\n",
       "│ │ 11 │ \u001b[38;5;32mFinancial\u001b[0m\u001b[38;5;160mInstruments\u001b[0m                                                                                   │ │\n",
       "│ │ 12 │ \u001b[38;5;32mProperty\u001b[0m\u001b[38;5;160mPlantand\u001b[0m\u001b[38;5;71mEquipment\u001b[0m                                                                              │ │\n",
       "│ │ 13 │ \u001b[38;5;32mConsolidated\u001b[0m\u001b[38;5;160mFinancial\u001b[0m\u001b[38;5;71mStatement\u001b[0m\u001b[38;5;32mDetails\u001b[0m                                                                  │ │\n",
       "│ │ 14 │ \u001b[38;5;32mIncome\u001b[0m\u001b[38;5;160mTaxes\u001b[0m                                                                                            │ │\n",
       "│ │ 15 │ \u001b[38;5;32mLeases\u001b[0m                                                                                                 │ │\n",
       "│ │ 16 │ \u001b[38;5;32mDebt\u001b[0m                                                                                                   │ │\n",
       "│ │ 17 │ \u001b[38;5;32mShareholders\u001b[0m\u001b[38;5;160mEquity\u001b[0m                                                                                     │ │\n",
       "│ │ 18 │ \u001b[38;5;32mShare\u001b[0m\u001b[38;5;160mBased\u001b[0m\u001b[38;5;71mCompensation\u001b[0m                                                                                 │ │\n",
       "│ │ 19 │ \u001b[38;5;32mCommitments\u001b[0m\u001b[38;5;160mContingenciesand\u001b[0m\u001b[38;5;71mSupply\u001b[0m\u001b[38;5;32mConcentrations\u001b[0m                                                        │ │\n",
       "│ │ 20 │ \u001b[38;5;32mSegment\u001b[0m\u001b[38;5;160mInformationand\u001b[0m\u001b[38;5;71mGeographic\u001b[0m\u001b[38;5;32mData\u001b[0m                                                                    │ │\n",
       "│ │ 21 │ \u001b[38;5;32mSummaryof\u001b[0m\u001b[38;5;160mSignificant\u001b[0m\u001b[38;5;71mAccounting\u001b[0m\u001b[38;5;32mPolicies\u001b[0m\u001b[38;5;160mPolicies\u001b[0m                                                         │ │\n",
       "│ │ 22 │ \u001b[38;5;32mRevenue\u001b[0m\u001b[38;5;160mTables\u001b[0m                                                                                          │ │\n",
       "│ │ 23 │ \u001b[38;5;32mEarnings\u001b[0m\u001b[38;5;160mPer\u001b[0m\u001b[38;5;71mShare\u001b[0m\u001b[38;5;32mTables\u001b[0m                                                                                 │ │\n",
       "│ │ 24 │ \u001b[38;5;32mFinancial\u001b[0m\u001b[38;5;160mInstruments\u001b[0m\u001b[38;5;71mTables\u001b[0m                                                                             │ │\n",
       "│ │ 25 │ \u001b[38;5;32mProperty\u001b[0m\u001b[38;5;160mPlantand\u001b[0m\u001b[38;5;71mEquipment\u001b[0m\u001b[38;5;32mTables\u001b[0m                                                                        │ │\n",
       "│ │ 26 │ \u001b[38;5;32mConsolidated\u001b[0m\u001b[38;5;160mFinancial\u001b[0m\u001b[38;5;71mStatement\u001b[0m\u001b[38;5;32mDetails\u001b[0m\u001b[38;5;160mTables\u001b[0m                                                            │ │\n",
       "│ │ 27 │ \u001b[38;5;32mIncome\u001b[0m\u001b[38;5;160mTaxes\u001b[0m\u001b[38;5;71mTables\u001b[0m                                                                                      │ │\n",
       "│ │ 28 │ \u001b[38;5;32mLeases\u001b[0m\u001b[38;5;160mTables\u001b[0m                                                                                           │ │\n",
       "│ │ 29 │ \u001b[38;5;32mDebt\u001b[0m\u001b[38;5;160mTables\u001b[0m                                                                                             │ │\n",
       "│ │ 30 │ \u001b[38;5;32mShareholders\u001b[0m\u001b[38;5;160mEquity\u001b[0m\u001b[38;5;71mTables\u001b[0m                                                                               │ │\n",
       "│ │ 31 │ \u001b[38;5;32mShare\u001b[0m\u001b[38;5;160mBased\u001b[0m\u001b[38;5;71mCompensation\u001b[0m\u001b[38;5;32mTables\u001b[0m                                                                           │ │\n",
       "│ │ 32 │ \u001b[38;5;32mCommitments\u001b[0m\u001b[38;5;160mContingenciesand\u001b[0m\u001b[38;5;71mSupply\u001b[0m\u001b[38;5;32mConcentrations\u001b[0m\u001b[38;5;160mTables\u001b[0m                                                  │ │\n",
       "│ │ 33 │ \u001b[38;5;32mSegment\u001b[0m\u001b[38;5;160mInformationand\u001b[0m\u001b[38;5;71mGeographic\u001b[0m\u001b[38;5;32mData\u001b[0m\u001b[38;5;160mTables\u001b[0m                                                              │ │\n",
       "│ │ 34 │ \u001b[38;5;32mRevenue\u001b[0m\u001b[38;5;160mAdditional\u001b[0m\u001b[38;5;71mInformation\u001b[0m\u001b[38;5;32mDetails\u001b[0m                                                                    │ │\n",
       "│ │ 35 │ \u001b[38;5;32mRevenue\u001b[0m\u001b[38;5;160mNet\u001b[0m\u001b[38;5;71mSales\u001b[0m\u001b[38;5;32mDisaggregatedby\u001b[0m\u001b[38;5;160mSignificant\u001b[0m\u001b[38;5;71mProductsand\u001b[0m\u001b[38;5;32mServices\u001b[0m\u001b[38;5;160mDetails\u001b[0m                                    │ │\n",
       "│ │ 36 │ \u001b[38;5;32mRevenue\u001b[0m\u001b[38;5;160mDeferred\u001b[0m\u001b[38;5;71mRevenue\u001b[0m\u001b[38;5;32mExpected\u001b[0m\u001b[38;5;160mTimingof\u001b[0m\u001b[38;5;71mRealization\u001b[0m\u001b[38;5;32mDetails\u001b[0m                                               │ │\n",
       "│ │ 37 │ \u001b[38;5;32mEarnings\u001b[0m\u001b[38;5;160mPer\u001b[0m\u001b[38;5;71mShare\u001b[0m\u001b[38;5;32mComputationof\u001b[0m\u001b[38;5;160mBasicand\u001b[0m\u001b[38;5;71mDiluted\u001b[0m\u001b[38;5;32mEarnings\u001b[0m\u001b[38;5;160mPer\u001b[0m\u001b[38;5;71mShare\u001b[0m\u001b[38;5;32mDetails\u001b[0m                                    │ │\n",
       "│ │ 38 │ \u001b[38;5;32mEarnings\u001b[0m\u001b[38;5;160mPer\u001b[0m\u001b[38;5;71mShare\u001b[0m\u001b[38;5;32mAdditional\u001b[0m\u001b[38;5;160mInformation\u001b[0m\u001b[38;5;71mDetails\u001b[0m                                                           │ │\n",
       "│ │ 39 │ \u001b[38;5;32mFinancial\u001b[0m\u001b[38;5;160mInstruments\u001b[0m\u001b[38;5;71mCash\u001b[0m\u001b[38;5;32mCash\u001b[0m\u001b[38;5;160mEquivalentsand\u001b[0m\u001b[38;5;71mMarketable\u001b[0m\u001b[38;5;32mSecurities\u001b[0m\u001b[38;5;160mDetails\u001b[0m                                  │ │\n",
       "│ │ 40 │ \u001b[38;5;32mFinancial\u001b[0m\u001b[38;5;160mInstruments\u001b[0m\u001b[38;5;71mNon\u001b[0m\u001b[38;5;32mCurrent\u001b[0m\u001b[38;5;160mMarketable\u001b[0m\u001b[38;5;71mDebt\u001b[0m\u001b[38;5;32mSecuritiesby\u001b[0m\u001b[38;5;160mContractual\u001b[0m\u001b[38;5;71mMaturity\u001b[0m\u001b[38;5;32mDetails\u001b[0m                     │ │\n",
       "│ │ 41 │ \u001b[38;5;32mFinancial\u001b[0m\u001b[38;5;160mInstruments\u001b[0m\u001b[38;5;71mAdditional\u001b[0m\u001b[38;5;32mInformation\u001b[0m\u001b[38;5;160mDetails\u001b[0m                                                       │ │\n",
       "│ │ 42 │ \u001b[38;5;32mFinancial\u001b[0m\u001b[38;5;160mInstruments\u001b[0m\u001b[38;5;71mNotional\u001b[0m\u001b[38;5;32mAmounts\u001b[0m\u001b[38;5;160mAssociatedwith\u001b[0m\u001b[38;5;71mDerivative\u001b[0m\u001b[38;5;32mInstruments\u001b[0m\u001b[38;5;160mDetails\u001b[0m                          │ │\n",
       "│ │ 43 │ \u001b[38;5;32mFinancial\u001b[0m\u001b[38;5;160mInstruments\u001b[0m\u001b[38;5;71mGross\u001b[0m\u001b[38;5;32mFair\u001b[0m\u001b[38;5;160mValuesof\u001b[0m\u001b[38;5;71mDerivative\u001b[0m\u001b[38;5;32mAssetsand\u001b[0m\u001b[38;5;160mLiabilities\u001b[0m\u001b[38;5;71mDetails\u001b[0m                             │ │\n",
       "│ │ 44 │ \u001b[38;5;32mFinancial\u001b[0m\u001b[38;5;160mInstruments\u001b[0m\u001b[38;5;71mDerivative\u001b[0m\u001b[38;5;32mInstruments\u001b[0m\u001b[38;5;160mDesignatedas\u001b[0m\u001b[38;5;71mFair\u001b[0m\u001b[38;5;32mValue\u001b[0m\u001b[38;5;160mHedgesand\u001b[0m\u001b[38;5;71mRelated\u001b[0m\u001b[38;5;32mHedged\u001b[0m\u001b[38;5;160mItems\u001b[0m\u001b[38;5;71mDetails\u001b[0m       │ │\n",
       "│ │ 45 │ \u001b[38;5;32mProperty\u001b[0m\u001b[38;5;160mPlantand\u001b[0m\u001b[38;5;71mEquipment\u001b[0m\u001b[38;5;32mGross\u001b[0m\u001b[38;5;160mProperty\u001b[0m\u001b[38;5;71mPlantand\u001b[0m\u001b[38;5;32mEquipmentby\u001b[0m\u001b[38;5;160mMajor\u001b[0m\u001b[38;5;71mAsset\u001b[0m\u001b[38;5;32mClassand\u001b[0m\u001b[38;5;160mAccumulated\u001b[0m\u001b[38;5;71mDepreciation\u001b[0m\u001b[38;5;32mDet…\u001b[0m │ │\n",
       "│ │ 46 │ \u001b[38;5;32mProperty\u001b[0m\u001b[38;5;160mPlantand\u001b[0m\u001b[38;5;71mEquipment\u001b[0m\u001b[38;5;32mAdditional\u001b[0m\u001b[38;5;160mInformation\u001b[0m\u001b[38;5;71mDetails\u001b[0m                                                  │ │\n",
       "│ │ 47 │ \u001b[38;5;32mConsolidated\u001b[0m\u001b[38;5;160mFinancial\u001b[0m\u001b[38;5;71mStatement\u001b[0m\u001b[38;5;32mDetails\u001b[0m\u001b[38;5;160mOther\u001b[0m\u001b[38;5;71mNon\u001b[0m\u001b[38;5;32mCurrent\u001b[0m\u001b[38;5;160mAssets\u001b[0m\u001b[38;5;71mDetails\u001b[0m                                      │ │\n",
       "│ │ 48 │ \u001b[38;5;32mConsolidated\u001b[0m\u001b[38;5;160mFinancial\u001b[0m\u001b[38;5;71mStatement\u001b[0m\u001b[38;5;32mDetails\u001b[0m\u001b[38;5;160mOther\u001b[0m\u001b[38;5;71mCurrent\u001b[0m\u001b[38;5;32mLiabilities\u001b[0m\u001b[38;5;160mDetails\u001b[0m                                    │ │\n",
       "│ │ 49 │ \u001b[38;5;32mConsolidated\u001b[0m\u001b[38;5;160mFinancial\u001b[0m\u001b[38;5;71mStatement\u001b[0m\u001b[38;5;32mDetails\u001b[0m\u001b[38;5;160mOther\u001b[0m\u001b[38;5;71mNon\u001b[0m\u001b[38;5;32mCurrent\u001b[0m\u001b[38;5;160mLiabilities\u001b[0m\u001b[38;5;71mDetails\u001b[0m                                 │ │\n",
       "│ │ 50 │ \u001b[38;5;32mConsolidated\u001b[0m\u001b[38;5;160mFinancial\u001b[0m\u001b[38;5;71mStatement\u001b[0m\u001b[38;5;32mDetails\u001b[0m\u001b[38;5;160mOther\u001b[0m\u001b[38;5;71mIncome\u001b[0m\u001b[38;5;32mExpense\u001b[0m\u001b[38;5;160mNet\u001b[0m\u001b[38;5;71mDetails\u001b[0m                                      │ │\n",
       "│ │ 51 │ \u001b[38;5;32mIncome\u001b[0m\u001b[38;5;160mTaxes\u001b[0m\u001b[38;5;71mProvisionfor\u001b[0m\u001b[38;5;32mIncome\u001b[0m\u001b[38;5;160mTaxes\u001b[0m\u001b[38;5;71mDetails\u001b[0m                                                              │ │\n",
       "│ │ 52 │ \u001b[38;5;32mIncome\u001b[0m\u001b[38;5;160mTaxes\u001b[0m\u001b[38;5;71mAdditional\u001b[0m\u001b[38;5;32mInformation\u001b[0m\u001b[38;5;160mDetails\u001b[0m                                                                │ │\n",
       "│ │ 53 │ \u001b[38;5;32mIncome\u001b[0m\u001b[38;5;160mTaxes\u001b[0m\u001b[38;5;71mReconciliationof\u001b[0m\u001b[38;5;32mProvisionfor\u001b[0m\u001b[38;5;160mIncome\u001b[0m\u001b[38;5;71mTaxesto\u001b[0m\u001b[38;5;32mAmount\u001b[0m\u001b[38;5;160mComputedby\u001b[0m\u001b[38;5;71mApplyingthe\u001b[0m\u001b[38;5;32mStatutory\u001b[0m\u001b[38;5;160mFederal\u001b[0m\u001b[38;5;71mIncome\u001b[0m\u001b[38;5;32m…\u001b[0m │ │\n",
       "│ │ 54 │ \u001b[38;5;32mIncome\u001b[0m\u001b[38;5;160mTaxes\u001b[0m\u001b[38;5;71mSignificant\u001b[0m\u001b[38;5;32mComponentsof\u001b[0m\u001b[38;5;160mDeferred\u001b[0m\u001b[38;5;71mTax\u001b[0m\u001b[38;5;32mAssetsand\u001b[0m\u001b[38;5;160mLiabilities\u001b[0m\u001b[38;5;71mDetails\u001b[0m                               │ │\n",
       "│ │ 55 │ \u001b[38;5;32mIncome\u001b[0m\u001b[38;5;160mTaxes\u001b[0m\u001b[38;5;71mAggregate\u001b[0m\u001b[38;5;32mChangesin\u001b[0m\u001b[38;5;160mGross\u001b[0m\u001b[38;5;71mUnrecognized\u001b[0m\u001b[38;5;32mTax\u001b[0m\u001b[38;5;160mBenefits\u001b[0m\u001b[38;5;71mDetails\u001b[0m                                       │ │\n",
       "│ │ 56 │ \u001b[38;5;32mLeases\u001b[0m\u001b[38;5;160mAdditional\u001b[0m\u001b[38;5;71mInformation\u001b[0m\u001b[38;5;32mDetails\u001b[0m                                                                     │ │\n",
       "│ │ 57 │ \u001b[38;5;32mLeases\u001b[0m\u001b[38;5;160mROU\u001b[0m\u001b[38;5;71mAssetsand\u001b[0m\u001b[38;5;32mLease\u001b[0m\u001b[38;5;160mLiabilities\u001b[0m\u001b[38;5;71mDetails\u001b[0m                                                              │ │\n",
       "│ │ 58 │ \u001b[38;5;32mLeases\u001b[0m\u001b[38;5;160mLease\u001b[0m\u001b[38;5;71mLiability\u001b[0m\u001b[38;5;32mMaturities\u001b[0m\u001b[38;5;160mDetails\u001b[0m                                                                  │ │\n",
       "│ │ 59 │ \u001b[38;5;32mDebt\u001b[0m\u001b[38;5;160mAdditional\u001b[0m\u001b[38;5;71mInformation\u001b[0m\u001b[38;5;32mDetails\u001b[0m                                                                       │ │\n",
       "│ │ 60 │ \u001b[38;5;32mDebt\u001b[0m\u001b[38;5;160mSummaryof\u001b[0m\u001b[38;5;71mCash\u001b[0m\u001b[38;5;32mFlows\u001b[0m\u001b[38;5;160mAssociatedwith\u001b[0m\u001b[38;5;71mCommercial\u001b[0m\u001b[38;5;32mPaper\u001b[0m\u001b[38;5;160mDetails\u001b[0m                                             │ │\n",
       "│ │ 61 │ \u001b[38;5;32mDebt\u001b[0m\u001b[38;5;160mSummaryof\u001b[0m\u001b[38;5;71mTerm\u001b[0m\u001b[38;5;32mDebt\u001b[0m\u001b[38;5;160mDetails\u001b[0m                                                                           │ │\n",
       "│ │ 62 │ \u001b[38;5;32mDebt\u001b[0m\u001b[38;5;160mFuture\u001b[0m\u001b[38;5;71mPrincipal\u001b[0m\u001b[38;5;32mPaymentsfor\u001b[0m\u001b[38;5;160mTerm\u001b[0m\u001b[38;5;71mDebt\u001b[0m\u001b[38;5;32mDetails\u001b[0m                                                          │ │\n",
       "│ │ 63 │ \u001b[38;5;32mShareholders\u001b[0m\u001b[38;5;160mEquity\u001b[0m\u001b[38;5;71mAdditional\u001b[0m\u001b[38;5;32mInformation\u001b[0m\u001b[38;5;160mDetails\u001b[0m                                                         │ │\n",
       "│ │ 64 │ \u001b[38;5;32mShareholders\u001b[0m\u001b[38;5;160mEquity\u001b[0m\u001b[38;5;71mSharesof\u001b[0m\u001b[38;5;32mCommon\u001b[0m\u001b[38;5;160mStock\u001b[0m\u001b[38;5;71mDetails\u001b[0m                                                           │ │\n",
       "│ │ 65 │ \u001b[38;5;32mShare\u001b[0m\u001b[38;5;160mBased\u001b[0m\u001b[38;5;71mCompensation\u001b[0m\u001b[38;5;32mAdditional\u001b[0m\u001b[38;5;160mInformation\u001b[0m\u001b[38;5;71mDetails\u001b[0m                                                     │ │\n",
       "│ │ 66 │ \u001b[38;5;32mShare\u001b[0m\u001b[38;5;160mBased\u001b[0m\u001b[38;5;71mCompensation\u001b[0m\u001b[38;5;32mRestricted\u001b[0m\u001b[38;5;160mStock\u001b[0m\u001b[38;5;71mUnit\u001b[0m\u001b[38;5;32mActivityand\u001b[0m\u001b[38;5;160mRelated\u001b[0m\u001b[38;5;71mInformation\u001b[0m\u001b[38;5;32mDetails\u001b[0m                          │ │\n",
       "│ │ 67 │ \u001b[38;5;32mShare\u001b[0m\u001b[38;5;160mBased\u001b[0m\u001b[38;5;71mCompensation\u001b[0m\u001b[38;5;32mSummaryof\u001b[0m\u001b[38;5;160mShare\u001b[0m\u001b[38;5;71mBased\u001b[0m\u001b[38;5;32mCompensation\u001b[0m\u001b[38;5;160mExpenseandthe\u001b[0m\u001b[38;5;71mRelated\u001b[0m\u001b[38;5;32mIncome\u001b[0m\u001b[38;5;160mTax\u001b[0m\u001b[38;5;71mBenefit\u001b[0m\u001b[38;5;32mDetails\u001b[0m       │ │\n",
       "│ │ 68 │ \u001b[38;5;32mCommitments\u001b[0m\u001b[38;5;160mContingenciesand\u001b[0m\u001b[38;5;71mSupply\u001b[0m\u001b[38;5;32mConcentrations\u001b[0m\u001b[38;5;160mFuture\u001b[0m\u001b[38;5;71mPayments\u001b[0m\u001b[38;5;32mUnder\u001b[0m\u001b[38;5;160mUnconditional\u001b[0m\u001b[38;5;71mPurchase\u001b[0m\u001b[38;5;32mObligations\u001b[0m\u001b[38;5;160mDet…\u001b[0m │ │\n",
       "│ │ 69 │ \u001b[38;5;32mSegment\u001b[0m\u001b[38;5;160mInformationand\u001b[0m\u001b[38;5;71mGeographic\u001b[0m\u001b[38;5;32mData\u001b[0m\u001b[38;5;160mInformationby\u001b[0m\u001b[38;5;71mReportable\u001b[0m\u001b[38;5;32mSegment\u001b[0m\u001b[38;5;160mDetails\u001b[0m                               │ │\n",
       "│ │ 70 │ \u001b[38;5;32mSegment\u001b[0m\u001b[38;5;160mInformationand\u001b[0m\u001b[38;5;71mGeographic\u001b[0m\u001b[38;5;32mData\u001b[0m\u001b[38;5;160mReconciliationof\u001b[0m\u001b[38;5;71mSegment\u001b[0m\u001b[38;5;32mOperating\u001b[0m\u001b[38;5;160mIncometothe\u001b[0m\u001b[38;5;71mConsolidated\u001b[0m\u001b[38;5;32mStatementso…\u001b[0m │ │\n",
       "│ │ 71 │ \u001b[38;5;32mSegment\u001b[0m\u001b[38;5;160mInformationand\u001b[0m\u001b[38;5;71mGeographic\u001b[0m\u001b[38;5;32mData\u001b[0m\u001b[38;5;160mNet\u001b[0m\u001b[38;5;71mSales\u001b[0m\u001b[38;5;32mDetails\u001b[0m                                                     │ │\n",
       "│ │ 72 │ \u001b[38;5;32mSegment\u001b[0m\u001b[38;5;160mInformationand\u001b[0m\u001b[38;5;71mGeographic\u001b[0m\u001b[38;5;32mData\u001b[0m\u001b[38;5;160mLong\u001b[0m\u001b[38;5;71mLived\u001b[0m\u001b[38;5;32mAssets\u001b[0m\u001b[38;5;160mDetails\u001b[0m                                              │ │\n",
       "│ │ 73 │ \u001b[38;5;32mAward\u001b[0m\u001b[38;5;160mTiming\u001b[0m\u001b[38;5;71mDisclosure\u001b[0m                                                                                  │ │\n",
       "│ │ 74 │ \u001b[38;5;32mInsider\u001b[0m\u001b[38;5;160mTrading\u001b[0m\u001b[38;5;71mArrangements\u001b[0m                                                                             │ │\n",
       "│ │ 75 │ \u001b[38;5;32mErr\u001b[0m\u001b[38;5;160mComp\u001b[0m\u001b[38;5;71mDisclosure\u001b[0m                                                                                      │ │\n",
       "│ │ 76 │ \u001b[38;5;32mPvp\u001b[0m\u001b[38;5;160mDisclosure\u001b[0m                                                                                          │ │\n",
       "│ │ 77 │ \u001b[38;5;32mInsider\u001b[0m\u001b[38;5;160mTrading\u001b[0m\u001b[38;5;71mPolicies\u001b[0m\u001b[38;5;32mProc\u001b[0m                                                                             │ │\n",
       "│ ╰────┴────────────────────────────────────────────────────────────────────────────────────────────────────────╯ │\n",
       "╰─────────────────────────────────────────────────────────────────────────────────────────────────────────────────╯"
      ]
     },
     "execution_count": 6,
     "metadata": {},
     "output_type": "execute_result"
    }
   ],
   "source": [
    "xbrl_data"
   ]
  },
  {
   "cell_type": "code",
   "execution_count": 7,
   "id": "18977678-e5dd-48e6-802b-225f35ab48c1",
   "metadata": {},
   "outputs": [],
   "source": [
    "statements = xbrl_data.statements"
   ]
  },
  {
   "cell_type": "markdown",
   "id": "4c9a79de-4bc8-407f-b3a9-f4e813c46a33",
   "metadata": {},
   "source": [
    "## Get the statement by name"
   ]
  },
  {
   "cell_type": "code",
   "execution_count": 8,
   "id": "4a909ac4-6831-42e6-8afc-4b21f5c15e17",
   "metadata": {},
   "outputs": [
    {
     "data": {
      "text/html": [
       "<pre style=\"white-space:pre;overflow-x:auto;line-height:normal;font-family:Menlo,'DejaVu Sans Mono',consolas,'Courier New',monospace\"></pre>\n"
      ],
      "text/plain": []
     },
     "metadata": {},
     "output_type": "display_data"
    },
    {
     "data": {
      "text/plain": [
       "                                                    \u001b[1;38;5;196mApple Inc.\u001b[0m                                                     \n",
       "                                                       \u001b[1mCover\u001b[0m                                                       \n",
       "                                                                                                                   \n",
       " \u001b[1m \u001b[0m\u001b[1m                                                      \u001b[0m\u001b[1m \u001b[0m \u001b[1m \u001b[0m\u001b[1m2023                                                  \u001b[0m\u001b[1m \u001b[0m \n",
       " ───────────────────────────────────────────────────────────────────────────────────────────────────────────────── \n",
       "  \u001b[1;38;5;32mCover [Abstract]                                      \u001b[0m                                                           \n",
       "   Entities [Table]                                                                                                \n",
       "    Class of Stock [Axis]                                                                                          \n",
       "     Class of Stock [Domain]                                                                                       \n",
       "      Common Stock, $0.00001 par value per share                                                                   \n",
       "      1.375% Notes due 2024                                                                                        \n",
       "      0.000% Notes due 2025                                                                                        \n",
       "      0.875% Notes due 2025                                                                                        \n",
       "      1.625% Notes due 2026                                                                                        \n",
       "      2.000% Notes due 2027                                                                                        \n",
       "      1.375% Notes due 2029                                                                                        \n",
       "      3.050% Notes due 2029                                                                                        \n",
       "      0.500% Notes due 2031                                                                                        \n",
       "      3.600% Notes due 2042                                                                                        \n",
       "    Entity Information [Line Items]                                                                                \n",
       "     Document Type                                         10-K                                                    \n",
       "     Document Annual Report                                true                                                    \n",
       "     Current Fiscal Year End Date                          --09-30                                                 \n",
       "     Document Period End Date                              2023-09-30                                              \n",
       "     Document Transition Report                            false                                                   \n",
       "     Entity File Number                                    001-36743                                               \n",
       "     Entity Registrant Name                                Apple Inc.                                              \n",
       "     Entity Incorporation, State or Country Code           CA                                                      \n",
       "     Entity Tax Identification Number                      94-2404110                                              \n",
       "     Entity Address, Address Line One                      One Apple Park Way                                      \n",
       "     Entity Address, City or Town                          Cupertino                                               \n",
       "     Entity Address, State or Province                     CA                                                      \n",
       "     Entity Address, Postal Zip Code                       95014                                                   \n",
       "     City Area Code                                        408                                                     \n",
       "     Local Phone Number                                    996-1010                                                \n",
       "     Title of 12(b) Security                               Common Stock, $0.00001 par value per share              \n",
       "     Trading Symbol                                        AAPL                                                    \n",
       "     No Trading Symbol Flag                                true                                                    \n",
       "     Security Exchange Name                                NASDAQ                                                  \n",
       "     Entity Well-known Seasoned Issuer                     Yes                                                     \n",
       "     Entity Voluntary Filers                               No                                                      \n",
       "     Entity Current Reporting Status                       Yes                                                     \n",
       "     Entity Interactive Data Current                       Yes                                                     \n",
       "     Entity Filer Category                                 Large Accelerated Filer                                 \n",
       "     Entity Small Business                                 false                                                   \n",
       "     Entity Emerging Growth Company                        false                                                   \n",
       "     ICFR Auditor Attestation Flag                         true                                                    \n",
       "     Document Financial Statement Error Correction Flag    false                                                   \n",
       "     Entity Shell Company                                  false                                                   \n",
       "     Entity Public Float                                   2591165000000                                           \n",
       "     Entity Common Stock, Shares Outstanding (in shares)   15552752000                                             \n",
       "     Documents Incorporated by Reference                   Portions of the Registrant’s definitive proxy           \n",
       "                                                           statement relating to its 2024 annual meeting of        \n",
       "                                                           shareholders are incorporated by reference into Part    \n",
       "                                                           III of this Annual Report on Form 10-K where            \n",
       "                                                           indicated. The Registrant’s definitive proxy statement  \n",
       "                                                           will be filed with the U.S. Securities and Exchange     \n",
       "                                                           Commission within 120 days after the end of the fiscal  \n",
       "                                                           year to which this report relates.                      \n",
       "     Amendment Flag                                        false                                                   \n",
       "     Document Fiscal Year Focus                            2023                                                    \n",
       "     Document Fiscal Period Focus                          FY                                                      \n",
       "     Entity Central Index Key                              0000320193                                              \n",
       "                                                                                                                   "
      ]
     },
     "execution_count": 8,
     "metadata": {},
     "output_type": "execute_result"
    }
   ],
   "source": [
    "statements['CoverPage']"
   ]
  },
  {
   "cell_type": "markdown",
   "id": "8a30e1eb-1db9-45eb-89fb-4f18a576de91",
   "metadata": {},
   "source": [
    "## Get a statement using the bracket accessor []"
   ]
  },
  {
   "cell_type": "code",
   "execution_count": 9,
   "id": "8ec5d458-a3b1-4fae-85a9-b536b24e84a0",
   "metadata": {},
   "outputs": [
    {
     "data": {
      "text/html": [
       "<pre style=\"white-space:pre;overflow-x:auto;line-height:normal;font-family:Menlo,'DejaVu Sans Mono',consolas,'Courier New',monospace\"></pre>\n"
      ],
      "text/plain": []
     },
     "metadata": {},
     "output_type": "display_data"
    },
    {
     "data": {
      "text/plain": [
       "                                               \u001b[1;38;5;196mApple Inc.\u001b[0m                                                \n",
       "                                            \u001b[1mIncome Statement\u001b[0m                                             \n",
       "                                                                                                         \n",
       " \u001b[1m \u001b[0m\u001b[1m                                               \u001b[0m\u001b[1m \u001b[0m \u001b[1m \u001b[0m\u001b[1m2023           \u001b[0m\u001b[1m \u001b[0m \u001b[1m \u001b[0m\u001b[1m2022           \u001b[0m\u001b[1m \u001b[0m \u001b[1m \u001b[0m\u001b[1m2021           \u001b[0m\u001b[1m \u001b[0m \n",
       " ─────────────────────────────────────────────────────────────────────────────────────────────────────── \n",
       "  \u001b[1;38;5;32mIncome Statement [Abstract]                    \u001b[0m                                                        \n",
       "   Statement [Table]                                                                                     \n",
       "    Product and Service [Axis]                                                                           \n",
       "     Product and Service [Domain]                                                                        \n",
       "      Products                                                                                           \n",
       "      Services                                                                                           \n",
       "    Statement [Line Items]                                                                               \n",
       "     Net sales                                      383,285,000,000   394,328,000,000   365,817,000,000  \n",
       "     Cost of sales                                  214,137,000,000   223,546,000,000   212,981,000,000  \n",
       "     Gross margin                                   169,148,000,000   170,782,000,000   152,836,000,000  \n",
       "  \u001b[1;38;5;32m   Operating expenses:                         \u001b[0m                                                        \n",
       "      Research and development                       29,915,000,000    26,251,000,000    21,914,000,000  \n",
       "      Selling, general and administrative            24,932,000,000    25,094,000,000    21,973,000,000  \n",
       "      Total operating expenses                       54,847,000,000    51,345,000,000    43,887,000,000  \n",
       "     Operating income                               114,301,000,000   119,437,000,000   108,949,000,000  \n",
       "     Other income/(expense), net                       -565,000,000      -334,000,000       258,000,000  \n",
       "     Income before provision for income taxes       113,736,000,000   119,103,000,000   109,207,000,000  \n",
       "     Provision for income taxes                      16,741,000,000    19,300,000,000    14,527,000,000  \n",
       "     Net income                                      96,995,000,000    99,803,000,000    94,680,000,000  \n",
       "  \u001b[1;38;5;32m   Earnings per share:                         \u001b[0m                                                        \n",
       "      Basic (in dollars per share)                             6.16              6.15              5.67  \n",
       "      Diluted (in dollars per share)                           6.13              6.11              5.61  \n",
       "  \u001b[1;38;5;32m   Shares used in computing earnings per share:\u001b[0m                                                        \n",
       "      Basic (in shares)                              15,744,231,000    16,215,963,000    16,701,272,000  \n",
       "      Diluted (in shares)                            15,812,547,000    16,325,819,000    16,864,919,000  \n",
       "                                                                                                         "
      ]
     },
     "execution_count": 9,
     "metadata": {},
     "output_type": "execute_result"
    }
   ],
   "source": [
    "statements['CONSOLIDATEDSTATEMENTSOFOPERATIONS']"
   ]
  },
  {
   "cell_type": "markdown",
   "id": "d9d7106b-6c45-47ce-8898-b2acdb9843a8",
   "metadata": {},
   "source": [
    "## Get the statement by index"
   ]
  },
  {
   "cell_type": "code",
   "execution_count": 10,
   "id": "83910bb3-2fae-4913-b3db-4f145edbac50",
   "metadata": {},
   "outputs": [
    {
     "data": {
      "text/html": [
       "<pre style=\"white-space:pre;overflow-x:auto;line-height:normal;font-family:Menlo,'DejaVu Sans Mono',consolas,'Courier New',monospace\"></pre>\n"
      ],
      "text/plain": []
     },
     "metadata": {},
     "output_type": "display_data"
    },
    {
     "data": {
      "text/plain": [
       "                       \u001b[1;38;5;196mApple Inc.\u001b[0m                        \n",
       "                   \u001b[1mAuditor Information\u001b[0m                   \n",
       "                                                         \n",
       " \u001b[1m \u001b[0m\u001b[1m                              \u001b[0m\u001b[1m \u001b[0m \u001b[1m \u001b[0m\u001b[1m2023                \u001b[0m\u001b[1m \u001b[0m \n",
       " ─────────────────────────────────────────────────────── \n",
       "  \u001b[1;38;5;32mAuditor Information [Abstract]\u001b[0m                         \n",
       "   Auditor Name                    Ernst & Young LLP     \n",
       "   Auditor Location                San Jose, California  \n",
       "   Auditor Firm ID                 42                    \n",
       "                                                         "
      ]
     },
     "execution_count": 10,
     "metadata": {},
     "output_type": "execute_result"
    }
   ],
   "source": [
    "statements[1]"
   ]
  },
  {
   "cell_type": "markdown",
   "id": "82e6554b-ed31-42d7-acd8-9b72588e76d2",
   "metadata": {},
   "source": [
    "## Get the dataframe from the statement"
   ]
  },
  {
   "cell_type": "code",
   "execution_count": 11,
   "id": "379ab41b-6afc-4de6-963e-447dba317dce",
   "metadata": {},
   "outputs": [
    {
     "data": {
      "text/html": [
       "<div>\n",
       "<style scoped>\n",
       "    .dataframe tbody tr th:only-of-type {\n",
       "        vertical-align: middle;\n",
       "    }\n",
       "\n",
       "    .dataframe tbody tr th {\n",
       "        vertical-align: top;\n",
       "    }\n",
       "\n",
       "    .dataframe thead th {\n",
       "        text-align: right;\n",
       "    }\n",
       "</style>\n",
       "<table border=\"1\" class=\"dataframe\">\n",
       "  <thead>\n",
       "    <tr style=\"text-align: right;\">\n",
       "      <th></th>\n",
       "      <th>2023</th>\n",
       "      <th>2022</th>\n",
       "      <th>2021</th>\n",
       "    </tr>\n",
       "    <tr>\n",
       "      <th>label</th>\n",
       "      <th></th>\n",
       "      <th></th>\n",
       "      <th></th>\n",
       "    </tr>\n",
       "  </thead>\n",
       "  <tbody>\n",
       "    <tr>\n",
       "      <th>Statement of Comprehensive Income [Abstract]</th>\n",
       "      <td></td>\n",
       "      <td></td>\n",
       "      <td></td>\n",
       "    </tr>\n",
       "    <tr>\n",
       "      <th>Net income</th>\n",
       "      <td>96995000000</td>\n",
       "      <td>99803000000</td>\n",
       "      <td>94680000000</td>\n",
       "    </tr>\n",
       "    <tr>\n",
       "      <th>Other comprehensive income/(loss):</th>\n",
       "      <td></td>\n",
       "      <td></td>\n",
       "      <td></td>\n",
       "    </tr>\n",
       "    <tr>\n",
       "      <th>Change in foreign currency translation, net of tax</th>\n",
       "      <td>-765000000</td>\n",
       "      <td>-1511000000</td>\n",
       "      <td>501000000</td>\n",
       "    </tr>\n",
       "    <tr>\n",
       "      <th>Change in unrealized gains/losses on derivative instruments, net of tax:</th>\n",
       "      <td></td>\n",
       "      <td></td>\n",
       "      <td></td>\n",
       "    </tr>\n",
       "    <tr>\n",
       "      <th>Change in fair value of derivative instruments</th>\n",
       "      <td>323000000</td>\n",
       "      <td>3212000000</td>\n",
       "      <td>32000000</td>\n",
       "    </tr>\n",
       "    <tr>\n",
       "      <th>Adjustment for net (gains)/losses realized and included in net income</th>\n",
       "      <td>1717000000</td>\n",
       "      <td>1074000000</td>\n",
       "      <td>-1003000000</td>\n",
       "    </tr>\n",
       "    <tr>\n",
       "      <th>Total change in unrealized gains/losses on derivative instruments</th>\n",
       "      <td>-1394000000</td>\n",
       "      <td>2138000000</td>\n",
       "      <td>1035000000</td>\n",
       "    </tr>\n",
       "    <tr>\n",
       "      <th>Change in unrealized gains/losses on marketable debt securities, net of tax:</th>\n",
       "      <td></td>\n",
       "      <td></td>\n",
       "      <td></td>\n",
       "    </tr>\n",
       "    <tr>\n",
       "      <th>Change in fair value of marketable debt securities</th>\n",
       "      <td>1563000000</td>\n",
       "      <td>-12104000000</td>\n",
       "      <td>-694000000</td>\n",
       "    </tr>\n",
       "    <tr>\n",
       "      <th>Adjustment for net (gains)/losses realized and included in net income</th>\n",
       "      <td>1717000000</td>\n",
       "      <td>1074000000</td>\n",
       "      <td>-1003000000</td>\n",
       "    </tr>\n",
       "    <tr>\n",
       "      <th>Total change in unrealized gains/losses on marketable debt securities</th>\n",
       "      <td>1816000000</td>\n",
       "      <td>-11899000000</td>\n",
       "      <td>-967000000</td>\n",
       "    </tr>\n",
       "    <tr>\n",
       "      <th>Total other comprehensive income/(loss)</th>\n",
       "      <td>-343000000</td>\n",
       "      <td>-11272000000</td>\n",
       "      <td>569000000</td>\n",
       "    </tr>\n",
       "    <tr>\n",
       "      <th>Total comprehensive income</th>\n",
       "      <td>96652000000</td>\n",
       "      <td>88531000000</td>\n",
       "      <td>95249000000</td>\n",
       "    </tr>\n",
       "  </tbody>\n",
       "</table>\n",
       "</div>"
      ],
      "text/plain": [
       "                                                           2023          2022  \\\n",
       "label                                                                           \n",
       "Statement of Comprehensive Income [Abstract]                                    \n",
       "Net income                                          96995000000   99803000000   \n",
       "Other comprehensive income/(loss):                                              \n",
       "Change in foreign currency translation, net of tax   -765000000   -1511000000   \n",
       "Change in unrealized gains/losses on derivative...                              \n",
       "Change in fair value of derivative instruments        323000000    3212000000   \n",
       "Adjustment for net (gains)/losses realized and ...   1717000000    1074000000   \n",
       "Total change in unrealized gains/losses on deri...  -1394000000    2138000000   \n",
       "Change in unrealized gains/losses on marketable...                              \n",
       "Change in fair value of marketable debt securities   1563000000  -12104000000   \n",
       "Adjustment for net (gains)/losses realized and ...   1717000000    1074000000   \n",
       "Total change in unrealized gains/losses on mark...   1816000000  -11899000000   \n",
       "Total other comprehensive income/(loss)              -343000000  -11272000000   \n",
       "Total comprehensive income                          96652000000   88531000000   \n",
       "\n",
       "                                                           2021  \n",
       "label                                                            \n",
       "Statement of Comprehensive Income [Abstract]                     \n",
       "Net income                                          94680000000  \n",
       "Other comprehensive income/(loss):                               \n",
       "Change in foreign currency translation, net of tax    501000000  \n",
       "Change in unrealized gains/losses on derivative...               \n",
       "Change in fair value of derivative instruments         32000000  \n",
       "Adjustment for net (gains)/losses realized and ...  -1003000000  \n",
       "Total change in unrealized gains/losses on deri...   1035000000  \n",
       "Change in unrealized gains/losses on marketable...               \n",
       "Change in fair value of marketable debt securities   -694000000  \n",
       "Adjustment for net (gains)/losses realized and ...  -1003000000  \n",
       "Total change in unrealized gains/losses on mark...   -967000000  \n",
       "Total other comprehensive income/(loss)               569000000  \n",
       "Total comprehensive income                          95249000000  "
      ]
     },
     "execution_count": 11,
     "metadata": {},
     "output_type": "execute_result"
    }
   ],
   "source": [
    "statements['CONSOLIDATEDSTATEMENTSOFCOMPREHENSIVEINCOME'].get_dataframe()"
   ]
  },
  {
   "cell_type": "markdown",
   "id": "027ce053-4f53-4ba3-b813-fe7729fc5e9c",
   "metadata": {},
   "source": [
    "## Concepts"
   ]
  },
  {
   "cell_type": "code",
   "execution_count": 12,
   "id": "2b86dad1-24cc-486f-876a-0e7edf1b79be",
   "metadata": {},
   "outputs": [
    {
     "data": {
      "text/plain": [
       "['us-gaap_StatementOfIncomeAndComprehensiveIncomeAbstract',\n",
       " 'us-gaap_NetIncomeLoss',\n",
       " 'us-gaap_ComprehensiveIncomeNetOfTaxAbstract',\n",
       " 'us-gaap_OtherComprehensiveIncomeLossForeignCurrencyTransactionAndTranslationAdjustmentNetOfTax',\n",
       " 'us-gaap_OtherComprehensiveIncomeDerivativesQualifyingAsHedgesNetOfTaxPeriodIncreaseDecreaseAbstract',\n",
       " 'aapl_OtherComprehensiveIncomeLossDerivativeInstrumentGainLossbeforeReclassificationafterTax',\n",
       " 'us-gaap_OtherComprehensiveIncomeLossReclassificationAdjustmentFromAOCIForSaleOfSecuritiesNetOfTax',\n",
       " 'aapl_OtherComprehensiveIncomeLossDerivativeInstrumentGainLossafterReclassificationandTax',\n",
       " 'us-gaap_OtherComprehensiveIncomeAvailableForSaleSecuritiesAdjustmentNetOfTaxPeriodIncreaseDecreaseAbstract',\n",
       " 'us-gaap_OtherComprehensiveIncomeUnrealizedHoldingGainLossOnSecuritiesArisingDuringPeriodNetOfTax',\n",
       " 'us-gaap_OtherComprehensiveIncomeLossReclassificationAdjustmentFromAOCIForSaleOfSecuritiesNetOfTax',\n",
       " 'us-gaap_OtherComprehensiveIncomeLossAvailableForSaleSecuritiesAdjustmentNetOfTax',\n",
       " 'us-gaap_OtherComprehensiveIncomeLossNetOfTaxPortionAttributableToParent',\n",
       " 'us-gaap_ComprehensiveIncomeNetOfTax']"
      ]
     },
     "execution_count": 12,
     "metadata": {},
     "output_type": "execute_result"
    }
   ],
   "source": [
    "statement = statements['CONSOLIDATEDSTATEMENTSOFCOMPREHENSIVEINCOME']\n",
    "statement.concepts"
   ]
  },
  {
   "cell_type": "markdown",
   "id": "707f0354-8c7a-4071-8bf9-27d620ba2c3c",
   "metadata": {},
   "source": [
    "## Labels"
   ]
  },
  {
   "cell_type": "code",
   "execution_count": 13,
   "id": "c28b1af7-e6fa-42bb-8fc9-fd8dc02714b8",
   "metadata": {},
   "outputs": [
    {
     "data": {
      "text/plain": [
       "['Statement of Comprehensive Income [Abstract]',\n",
       " 'Net income',\n",
       " 'Other comprehensive income/(loss):',\n",
       " 'Change in foreign currency translation, net of tax',\n",
       " 'Change in unrealized gains/losses on derivative instruments, net of tax:',\n",
       " 'Change in fair value of derivative instruments',\n",
       " 'Adjustment for net (gains)/losses realized and included in net income',\n",
       " 'Total change in unrealized gains/losses on derivative instruments',\n",
       " 'Change in unrealized gains/losses on marketable debt securities, net of tax:',\n",
       " 'Change in fair value of marketable debt securities',\n",
       " 'Adjustment for net (gains)/losses realized and included in net income',\n",
       " 'Total change in unrealized gains/losses on marketable debt securities',\n",
       " 'Total other comprehensive income/(loss)',\n",
       " 'Total comprehensive income']"
      ]
     },
     "execution_count": 13,
     "metadata": {},
     "output_type": "execute_result"
    }
   ],
   "source": [
    "statement.labels"
   ]
  },
  {
   "cell_type": "code",
   "execution_count": 14,
   "id": "88f9baff-0283-4a85-afd8-1e143c267557",
   "metadata": {},
   "outputs": [
    {
     "data": {
      "text/plain": [
       "'96995000000'"
      ]
     },
     "execution_count": 14,
     "metadata": {},
     "output_type": "execute_result"
    }
   ],
   "source": [
    "statement.get_concept('us-gaap:NetIncomeLoss').value.get('2023')"
   ]
  },
  {
   "cell_type": "markdown",
   "id": "8d8fb670-f8b0-4406-be37-271427510715",
   "metadata": {},
   "source": [
    "## XBRL Instance"
   ]
  },
  {
   "cell_type": "code",
   "execution_count": 17,
   "id": "544c9194-cb42-43d5-b577-576e5789aebc",
   "metadata": {},
   "outputs": [
    {
     "data": {
      "text/html": [
       "<pre style=\"white-space:pre;overflow-x:auto;line-height:normal;font-family:Menlo,'DejaVu Sans Mono',consolas,'Courier New',monospace\"></pre>\n"
      ],
      "text/plain": []
     },
     "metadata": {},
     "output_type": "display_data"
    },
    {
     "data": {
      "text/plain": [
       "╭──────────────────────────────────────────────────── Filings ────────────────────────────────────────────────────╮\n",
       "│                                                                                                                 │\n",
       "│  \u001b[1m \u001b[0m\u001b[1m  \u001b[0m\u001b[1m \u001b[0m \u001b[1m \u001b[0m\u001b[1mcik    \u001b[0m\u001b[1m \u001b[0m \u001b[1m \u001b[0m\u001b[1mcompany                                 \u001b[0m\u001b[1m \u001b[0m \u001b[1;38;5;71m \u001b[0m\u001b[1;38;5;71mform  \u001b[0m\u001b[1;38;5;71m \u001b[0m \u001b[1;38;5;39m \u001b[0m\u001b[1;38;5;39mfiling_date\u001b[0m\u001b[1;38;5;39m \u001b[0m \u001b[1m \u001b[0m\u001b[1maccession_number    \u001b[0m\u001b[1m \u001b[0m        │\n",
       "│  ───────────────────────────────────────────────────────────────────────────────────────────────────────        │\n",
       "│  \u001b[1m \u001b[0m\u001b[1m0 \u001b[0m\u001b[1m \u001b[0m \u001b[1m \u001b[0m\u001b[1m1000275\u001b[0m\u001b[1m \u001b[0m \u001b[1m \u001b[0m\u001b[1mROYAL BANK OF CANADA                    \u001b[0m\u001b[1m \u001b[0m \u001b[1;38;5;71m \u001b[0m\u001b[1;38;5;71m424B2 \u001b[0m\u001b[1;38;5;71m \u001b[0m \u001b[1;38;5;39m \u001b[0m\u001b[1;38;5;39m2024-08-09 \u001b[0m\u001b[1;38;5;39m \u001b[0m \u001b[1m \u001b[0m\u001b[1m0000950103-24-012010\u001b[0m\u001b[1m \u001b[0m        │\n",
       "│   1    1000275   ROYAL BANK OF CANADA                      \u001b[38;5;71m \u001b[0m\u001b[38;5;71m424B2 \u001b[0m\u001b[38;5;71m \u001b[0m \u001b[38;5;39m \u001b[0m\u001b[38;5;39m2024-08-09 \u001b[0m\u001b[38;5;39m \u001b[0m  0000950103-24-012025         │\n",
       "│  \u001b[1m \u001b[0m\u001b[1m2 \u001b[0m\u001b[1m \u001b[0m \u001b[1m \u001b[0m\u001b[1m1001115\u001b[0m\u001b[1m \u001b[0m \u001b[1m \u001b[0m\u001b[1mGEOSPACE TECHNOLOGIES CORP              \u001b[0m\u001b[1m \u001b[0m \u001b[1;38;5;71m \u001b[0m\u001b[1;38;5;71m10-Q  \u001b[0m\u001b[1;38;5;71m \u001b[0m \u001b[1;38;5;39m \u001b[0m\u001b[1;38;5;39m2024-08-09 \u001b[0m\u001b[1;38;5;39m \u001b[0m \u001b[1m \u001b[0m\u001b[1m0001437749-24-025790\u001b[0m\u001b[1m \u001b[0m        │\n",
       "│   3    100122    TUCSON ELECTRIC POWER CO                  \u001b[38;5;71m \u001b[0m\u001b[38;5;71m8-K   \u001b[0m\u001b[38;5;71m \u001b[0m \u001b[38;5;39m \u001b[0m\u001b[38;5;39m2024-08-09 \u001b[0m\u001b[38;5;39m \u001b[0m  0001193125-24-197596         │\n",
       "│  \u001b[1m \u001b[0m\u001b[1m4 \u001b[0m\u001b[1m \u001b[0m \u001b[1m \u001b[0m\u001b[1m1001316\u001b[0m\u001b[1m \u001b[0m \u001b[1m \u001b[0m\u001b[1mTG THERAPEUTICS, INC.                   \u001b[0m\u001b[1m \u001b[0m \u001b[1;38;5;71m \u001b[0m\u001b[1;38;5;71m10-K/A\u001b[0m\u001b[1;38;5;71m \u001b[0m \u001b[1;38;5;39m \u001b[0m\u001b[1;38;5;39m2024-08-09 \u001b[0m\u001b[1;38;5;39m \u001b[0m \u001b[1m \u001b[0m\u001b[1m0001437749-24-025850\u001b[0m\u001b[1m \u001b[0m        │\n",
       "│   5    1001316   TG THERAPEUTICS, INC.                     \u001b[38;5;71m \u001b[0m\u001b[38;5;71m10-Q  \u001b[0m\u001b[38;5;71m \u001b[0m \u001b[38;5;39m \u001b[0m\u001b[38;5;39m2024-08-09 \u001b[0m\u001b[38;5;39m \u001b[0m  0001437749-24-025853         │\n",
       "│  \u001b[1m \u001b[0m\u001b[1m6 \u001b[0m\u001b[1m \u001b[0m \u001b[1m \u001b[0m\u001b[1m1002910\u001b[0m\u001b[1m \u001b[0m \u001b[1m \u001b[0m\u001b[1mAMEREN CORP                             \u001b[0m\u001b[1m \u001b[0m \u001b[1;38;5;71m \u001b[0m\u001b[1;38;5;71m8-K   \u001b[0m\u001b[1;38;5;71m \u001b[0m \u001b[1;38;5;39m \u001b[0m\u001b[1;38;5;39m2024-08-09 \u001b[0m\u001b[1;38;5;39m \u001b[0m \u001b[1m \u001b[0m\u001b[1m0001104659-24-087819\u001b[0m\u001b[1m \u001b[0m        │\n",
       "│   7    1003815   BCTC IV ASSIGNOR CORP                     \u001b[38;5;71m \u001b[0m\u001b[38;5;71m10-Q  \u001b[0m\u001b[38;5;71m \u001b[0m \u001b[38;5;39m \u001b[0m\u001b[38;5;39m2024-08-09 \u001b[0m\u001b[38;5;39m \u001b[0m  0001410578-24-001261         │\n",
       "│  \u001b[1m \u001b[0m\u001b[1m8 \u001b[0m\u001b[1m \u001b[0m \u001b[1m \u001b[0m\u001b[1m1005286\u001b[0m\u001b[1m \u001b[0m \u001b[1m \u001b[0m\u001b[1mLIFECORE BIOMEDICAL, INC. \\DE\\          \u001b[0m\u001b[1m \u001b[0m \u001b[1;38;5;71m \u001b[0m\u001b[1;38;5;71m10-Q  \u001b[0m\u001b[1;38;5;71m \u001b[0m \u001b[1;38;5;39m \u001b[0m\u001b[1;38;5;39m2024-08-09 \u001b[0m\u001b[1;38;5;39m \u001b[0m \u001b[1m \u001b[0m\u001b[1m0001005286-24-000110\u001b[0m\u001b[1m \u001b[0m        │\n",
       "│   9    1005286   LIFECORE BIOMEDICAL, INC. \\DE\\            \u001b[38;5;71m \u001b[0m\u001b[38;5;71m10-Q  \u001b[0m\u001b[38;5;71m \u001b[0m \u001b[38;5;39m \u001b[0m\u001b[38;5;39m2024-08-09 \u001b[0m\u001b[38;5;39m \u001b[0m  0001005286-24-000111         │\n",
       "│  \u001b[1m \u001b[0m\u001b[1m10\u001b[0m\u001b[1m \u001b[0m \u001b[1m \u001b[0m\u001b[1m1005286\u001b[0m\u001b[1m \u001b[0m \u001b[1m \u001b[0m\u001b[1mLIFECORE BIOMEDICAL, INC. \\DE\\          \u001b[0m\u001b[1m \u001b[0m \u001b[1;38;5;71m \u001b[0m\u001b[1;38;5;71m10-Q  \u001b[0m\u001b[1;38;5;71m \u001b[0m \u001b[1;38;5;39m \u001b[0m\u001b[1;38;5;39m2024-08-09 \u001b[0m\u001b[1;38;5;39m \u001b[0m \u001b[1m \u001b[0m\u001b[1m0001005286-24-000112\u001b[0m\u001b[1m \u001b[0m        │\n",
       "│   11   1006028   PURE BIOSCIENCE, INC.                     \u001b[38;5;71m \u001b[0m\u001b[38;5;71m8-K   \u001b[0m\u001b[38;5;71m \u001b[0m \u001b[38;5;39m \u001b[0m\u001b[38;5;39m2024-08-09 \u001b[0m\u001b[38;5;39m \u001b[0m  0001493152-24-030966         │\n",
       "│  \u001b[1m \u001b[0m\u001b[1m12\u001b[0m\u001b[1m \u001b[0m \u001b[1m \u001b[0m\u001b[1m1008848\u001b[0m\u001b[1m \u001b[0m \u001b[1m \u001b[0m\u001b[1mAcorda Therapeutics, Inc.               \u001b[0m\u001b[1m \u001b[0m \u001b[1;38;5;71m \u001b[0m\u001b[1;38;5;71m8-K   \u001b[0m\u001b[1;38;5;71m \u001b[0m \u001b[1;38;5;39m \u001b[0m\u001b[1;38;5;39m2024-08-09 \u001b[0m\u001b[1;38;5;39m \u001b[0m \u001b[1m \u001b[0m\u001b[1m0000950170-24-094382\u001b[0m\u001b[1m \u001b[0m        │\n",
       "│   13   1010324   DRH Phoenix East Construction, Inc.       \u001b[38;5;71m \u001b[0m\u001b[38;5;71m424B2 \u001b[0m\u001b[38;5;71m \u001b[0m \u001b[38;5;39m \u001b[0m\u001b[38;5;39m2024-08-09 \u001b[0m\u001b[38;5;39m \u001b[0m  0001193125-24-197822         │\n",
       "│  \u001b[1m \u001b[0m\u001b[1m14\u001b[0m\u001b[1m \u001b[0m \u001b[1m \u001b[0m\u001b[1m1010326\u001b[0m\u001b[1m \u001b[0m \u001b[1m \u001b[0m\u001b[1mCONTINENTAL HOMES INC                   \u001b[0m\u001b[1m \u001b[0m \u001b[1;38;5;71m \u001b[0m\u001b[1;38;5;71m424B2 \u001b[0m\u001b[1;38;5;71m \u001b[0m \u001b[1;38;5;39m \u001b[0m\u001b[1;38;5;39m2024-08-09 \u001b[0m\u001b[1;38;5;39m \u001b[0m \u001b[1m \u001b[0m\u001b[1m0001193125-24-197822\u001b[0m\u001b[1m \u001b[0m        │\n",
       "│   15   1010337   KDB HOMES INC                             \u001b[38;5;71m \u001b[0m\u001b[38;5;71m424B2 \u001b[0m\u001b[38;5;71m \u001b[0m \u001b[38;5;39m \u001b[0m\u001b[38;5;39m2024-08-09 \u001b[0m\u001b[38;5;39m \u001b[0m  0001193125-24-197822         │\n",
       "│  \u001b[1m \u001b[0m\u001b[1m16\u001b[0m\u001b[1m \u001b[0m \u001b[1m \u001b[0m\u001b[1m1010338\u001b[0m\u001b[1m \u001b[0m \u001b[1m \u001b[0m\u001b[1mCONTINENTAL RESIDENTIAL INC             \u001b[0m\u001b[1m \u001b[0m \u001b[1;38;5;71m \u001b[0m\u001b[1;38;5;71m424B2 \u001b[0m\u001b[1;38;5;71m \u001b[0m \u001b[1;38;5;39m \u001b[0m\u001b[1;38;5;39m2024-08-09 \u001b[0m\u001b[1;38;5;39m \u001b[0m \u001b[1m \u001b[0m\u001b[1m0001193125-24-197822\u001b[0m\u001b[1m \u001b[0m        │\n",
       "│   17   1012019   RUSH ENTERPRISES INC \\TX\\                 \u001b[38;5;71m \u001b[0m\u001b[38;5;71m10-Q  \u001b[0m\u001b[38;5;71m \u001b[0m \u001b[38;5;39m \u001b[0m\u001b[38;5;39m2024-08-09 \u001b[0m\u001b[38;5;39m \u001b[0m  0001437749-24-025891         │\n",
       "│  \u001b[1m \u001b[0m\u001b[1m18\u001b[0m\u001b[1m \u001b[0m \u001b[1m \u001b[0m\u001b[1m101295 \u001b[0m\u001b[1m \u001b[0m \u001b[1m \u001b[0m\u001b[1mUNITED GUARDIAN INC                     \u001b[0m\u001b[1m \u001b[0m \u001b[1;38;5;71m \u001b[0m\u001b[1;38;5;71m8-K   \u001b[0m\u001b[1;38;5;71m \u001b[0m \u001b[1;38;5;39m \u001b[0m\u001b[1;38;5;39m2024-08-09 \u001b[0m\u001b[1;38;5;39m \u001b[0m \u001b[1m \u001b[0m\u001b[1m0001171843-24-004632\u001b[0m\u001b[1m \u001b[0m        │\n",
       "│   19   1013880   TTEC Holdings, Inc.                       \u001b[38;5;71m \u001b[0m\u001b[38;5;71m8-K   \u001b[0m\u001b[38;5;71m \u001b[0m \u001b[38;5;39m \u001b[0m\u001b[38;5;39m2024-08-09 \u001b[0m\u001b[38;5;39m \u001b[0m  0001104659-24-087830         │\n",
       "│  \u001b[1m \u001b[0m\u001b[1m20\u001b[0m\u001b[1m \u001b[0m \u001b[1m \u001b[0m\u001b[1m1014763\u001b[0m\u001b[1m \u001b[0m \u001b[1m \u001b[0m\u001b[1mAinos, Inc.                             \u001b[0m\u001b[1m \u001b[0m \u001b[1;38;5;71m \u001b[0m\u001b[1;38;5;71m8-K   \u001b[0m\u001b[1;38;5;71m \u001b[0m \u001b[1;38;5;39m \u001b[0m\u001b[1;38;5;39m2024-08-09 \u001b[0m\u001b[1;38;5;39m \u001b[0m \u001b[1m \u001b[0m\u001b[1m0001493152-24-030970\u001b[0m\u001b[1m \u001b[0m        │\n",
       "│   21   101538    UNITED STATES ANTIMONY CORP               \u001b[38;5;71m \u001b[0m\u001b[38;5;71m10-Q  \u001b[0m\u001b[38;5;71m \u001b[0m \u001b[38;5;39m \u001b[0m\u001b[38;5;39m2024-08-09 \u001b[0m\u001b[38;5;39m \u001b[0m  0001654954-24-010214         │\n",
       "│  \u001b[1m \u001b[0m\u001b[1m22\u001b[0m\u001b[1m \u001b[0m \u001b[1m \u001b[0m\u001b[1m101538 \u001b[0m\u001b[1m \u001b[0m \u001b[1m \u001b[0m\u001b[1mUNITED STATES ANTIMONY CORP             \u001b[0m\u001b[1m \u001b[0m \u001b[1;38;5;71m \u001b[0m\u001b[1;38;5;71m8-K   \u001b[0m\u001b[1;38;5;71m \u001b[0m \u001b[1;38;5;39m \u001b[0m\u001b[1;38;5;39m2024-08-09 \u001b[0m\u001b[1;38;5;39m \u001b[0m \u001b[1m \u001b[0m\u001b[1m0001654954-24-010187\u001b[0m\u001b[1m \u001b[0m        │\n",
       "│   23   101538    UNITED STATES ANTIMONY CORP               \u001b[38;5;71m \u001b[0m\u001b[38;5;71m8-K   \u001b[0m\u001b[38;5;71m \u001b[0m \u001b[38;5;39m \u001b[0m\u001b[38;5;39m2024-08-09 \u001b[0m\u001b[38;5;39m \u001b[0m  0001654954-24-010212         │\n",
       "│  \u001b[1m \u001b[0m\u001b[1m24\u001b[0m\u001b[1m \u001b[0m \u001b[1m \u001b[0m\u001b[1m1015739\u001b[0m\u001b[1m \u001b[0m \u001b[1m \u001b[0m\u001b[1mAWARE INC /MA/                          \u001b[0m\u001b[1m \u001b[0m \u001b[1;38;5;71m \u001b[0m\u001b[1;38;5;71m10-Q  \u001b[0m\u001b[1;38;5;71m \u001b[0m \u001b[1;38;5;39m \u001b[0m\u001b[1;38;5;39m2024-08-09 \u001b[0m\u001b[1;38;5;39m \u001b[0m \u001b[1m \u001b[0m\u001b[1m0000950170-24-094716\u001b[0m\u001b[1m \u001b[0m        │\n",
       "│   25   1017303   TRANSACT TECHNOLOGIES INC                 \u001b[38;5;71m \u001b[0m\u001b[38;5;71m10-Q  \u001b[0m\u001b[38;5;71m \u001b[0m \u001b[38;5;39m \u001b[0m\u001b[38;5;39m2024-08-09 \u001b[0m\u001b[38;5;39m \u001b[0m  0001140361-24-036631         │\n",
       "│  \u001b[1m \u001b[0m\u001b[1m26\u001b[0m\u001b[1m \u001b[0m \u001b[1m \u001b[0m\u001b[1m1021561\u001b[0m\u001b[1m \u001b[0m \u001b[1m \u001b[0m\u001b[1mNU SKIN ENTERPRISES, INC.               \u001b[0m\u001b[1m \u001b[0m \u001b[1;38;5;71m \u001b[0m\u001b[1;38;5;71m10-Q  \u001b[0m\u001b[1;38;5;71m \u001b[0m \u001b[1;38;5;39m \u001b[0m\u001b[1;38;5;39m2024-08-09 \u001b[0m\u001b[1;38;5;39m \u001b[0m \u001b[1m \u001b[0m\u001b[1m0001140361-24-036467\u001b[0m\u001b[1m \u001b[0m        │\n",
       "│   27   1031235   Global Self Storage, Inc.                 \u001b[38;5;71m \u001b[0m\u001b[38;5;71m10-Q  \u001b[0m\u001b[38;5;71m \u001b[0m \u001b[38;5;39m \u001b[0m\u001b[38;5;39m2024-08-09 \u001b[0m\u001b[38;5;39m \u001b[0m  0000950170-24-094717         │\n",
       "│  \u001b[1m \u001b[0m\u001b[1m28\u001b[0m\u001b[1m \u001b[0m \u001b[1m \u001b[0m\u001b[1m1031235\u001b[0m\u001b[1m \u001b[0m \u001b[1m \u001b[0m\u001b[1mGlobal Self Storage, Inc.               \u001b[0m\u001b[1m \u001b[0m \u001b[1;38;5;71m \u001b[0m\u001b[1;38;5;71m8-K   \u001b[0m\u001b[1;38;5;71m \u001b[0m \u001b[1;38;5;39m \u001b[0m\u001b[1;38;5;39m2024-08-09 \u001b[0m\u001b[1;38;5;39m \u001b[0m \u001b[1m \u001b[0m\u001b[1m0000950170-24-094755\u001b[0m\u001b[1m \u001b[0m        │\n",
       "│   29   103145    VEECO INSTRUMENTS INC                     \u001b[38;5;71m \u001b[0m\u001b[38;5;71mS-8   \u001b[0m\u001b[38;5;71m \u001b[0m \u001b[38;5;39m \u001b[0m\u001b[38;5;39m2024-08-09 \u001b[0m\u001b[38;5;39m \u001b[0m  0001104659-24-087798         │\n",
       "│  \u001b[1m \u001b[0m\u001b[1m30\u001b[0m\u001b[1m \u001b[0m \u001b[1m \u001b[0m\u001b[1m1032208\u001b[0m\u001b[1m \u001b[0m \u001b[1m \u001b[0m\u001b[1mSEMPRA                                  \u001b[0m\u001b[1m \u001b[0m \u001b[1;38;5;71m \u001b[0m\u001b[1;38;5;71m8-K   \u001b[0m\u001b[1;38;5;71m \u001b[0m \u001b[1;38;5;39m \u001b[0m\u001b[1;38;5;39m2024-08-09 \u001b[0m\u001b[1;38;5;39m \u001b[0m \u001b[1m \u001b[0m\u001b[1m0001193125-24-197901\u001b[0m\u001b[1m \u001b[0m        │\n",
       "│   31   1035092   SHORE BANCSHARES INC                      \u001b[38;5;71m \u001b[0m\u001b[38;5;71m10-Q  \u001b[0m\u001b[38;5;71m \u001b[0m \u001b[38;5;39m \u001b[0m\u001b[38;5;39m2024-08-09 \u001b[0m\u001b[38;5;39m \u001b[0m  0001628280-24-036376         │\n",
       "│  \u001b[1m \u001b[0m\u001b[1m32\u001b[0m\u001b[1m \u001b[0m \u001b[1m \u001b[0m\u001b[1m1036044\u001b[0m\u001b[1m \u001b[0m \u001b[1m \u001b[0m\u001b[1mIdentiv, Inc.                           \u001b[0m\u001b[1m \u001b[0m \u001b[1;38;5;71m \u001b[0m\u001b[1;38;5;71m10-Q  \u001b[0m\u001b[1;38;5;71m \u001b[0m \u001b[1;38;5;39m \u001b[0m\u001b[1;38;5;39m2024-08-09 \u001b[0m\u001b[1;38;5;39m \u001b[0m \u001b[1m \u001b[0m\u001b[1m0000950170-24-094283\u001b[0m\u001b[1m \u001b[0m        │\n",
       "│   33   1036262   INTEST CORP                               \u001b[38;5;71m \u001b[0m\u001b[38;5;71m10-Q  \u001b[0m\u001b[38;5;71m \u001b[0m \u001b[38;5;39m \u001b[0m\u001b[38;5;39m2024-08-09 \u001b[0m\u001b[38;5;39m \u001b[0m  0001437749-24-025878         │\n",
       "│  \u001b[1m \u001b[0m\u001b[1m34\u001b[0m\u001b[1m \u001b[0m \u001b[1m \u001b[0m\u001b[1m1038773\u001b[0m\u001b[1m \u001b[0m \u001b[1m \u001b[0m\u001b[1mSMARTFINANCIAL INC.                     \u001b[0m\u001b[1m \u001b[0m \u001b[1;38;5;71m \u001b[0m\u001b[1;38;5;71m10-Q  \u001b[0m\u001b[1;38;5;71m \u001b[0m \u001b[1;38;5;39m \u001b[0m\u001b[1;38;5;39m2024-08-09 \u001b[0m\u001b[1;38;5;39m \u001b[0m \u001b[1m \u001b[0m\u001b[1m0001558370-24-011759\u001b[0m\u001b[1m \u001b[0m        │\n",
       "│   35   1041657   URBAN ONE, INC.                           \u001b[38;5;71m \u001b[0m\u001b[38;5;71m10-Q  \u001b[0m\u001b[38;5;71m \u001b[0m \u001b[38;5;39m \u001b[0m\u001b[38;5;39m2024-08-09 \u001b[0m\u001b[38;5;39m \u001b[0m  0001041657-24-000006         │\n",
       "│  \u001b[1m \u001b[0m\u001b[1m36\u001b[0m\u001b[1m \u001b[0m \u001b[1m \u001b[0m\u001b[1m1041657\u001b[0m\u001b[1m \u001b[0m \u001b[1m \u001b[0m\u001b[1mURBAN ONE, INC.                         \u001b[0m\u001b[1m \u001b[0m \u001b[1;38;5;71m \u001b[0m\u001b[1;38;5;71m8-K   \u001b[0m\u001b[1;38;5;71m \u001b[0m \u001b[1;38;5;39m \u001b[0m\u001b[1;38;5;39m2024-08-09 \u001b[0m\u001b[1;38;5;39m \u001b[0m \u001b[1m \u001b[0m\u001b[1m0001041657-24-000008\u001b[0m\u001b[1m \u001b[0m        │\n",
       "│   37   1045520   CANADIAN IMPERIAL BANK OF COMMERCE /CAN/  \u001b[38;5;71m \u001b[0m\u001b[38;5;71m424B2 \u001b[0m\u001b[38;5;71m \u001b[0m \u001b[38;5;39m \u001b[0m\u001b[38;5;39m2024-08-09 \u001b[0m\u001b[38;5;39m \u001b[0m  0001104659-24-087685         │\n",
       "│  \u001b[1m \u001b[0m\u001b[1m38\u001b[0m\u001b[1m \u001b[0m \u001b[1m \u001b[0m\u001b[1m1045520\u001b[0m\u001b[1m \u001b[0m \u001b[1m \u001b[0m\u001b[1mCANADIAN IMPERIAL BANK OF COMMERCE /CAN/\u001b[0m\u001b[1m \u001b[0m \u001b[1;38;5;71m \u001b[0m\u001b[1;38;5;71m424B2 \u001b[0m\u001b[1;38;5;71m \u001b[0m \u001b[1;38;5;39m \u001b[0m\u001b[1;38;5;39m2024-08-09 \u001b[0m\u001b[1;38;5;39m \u001b[0m \u001b[1m \u001b[0m\u001b[1m0001104659-24-087699\u001b[0m\u001b[1m \u001b[0m        │\n",
       "│   39   1045942   Track Group, Inc.                         \u001b[38;5;71m \u001b[0m\u001b[38;5;71m10-Q  \u001b[0m\u001b[38;5;71m \u001b[0m \u001b[38;5;39m \u001b[0m\u001b[38;5;39m2024-08-09 \u001b[0m\u001b[38;5;39m \u001b[0m  0001437749-24-025664         │\n",
       "│  \u001b[1m \u001b[0m\u001b[1m40\u001b[0m\u001b[1m \u001b[0m \u001b[1m \u001b[0m\u001b[1m1045942\u001b[0m\u001b[1m \u001b[0m \u001b[1m \u001b[0m\u001b[1mTrack Group, Inc.                       \u001b[0m\u001b[1m \u001b[0m \u001b[1;38;5;71m \u001b[0m\u001b[1;38;5;71m8-K   \u001b[0m\u001b[1;38;5;71m \u001b[0m \u001b[1;38;5;39m \u001b[0m\u001b[1;38;5;39m2024-08-09 \u001b[0m\u001b[1;38;5;39m \u001b[0m \u001b[1m \u001b[0m\u001b[1m0001437749-24-025666\u001b[0m\u001b[1m \u001b[0m        │\n",
       "│   41   1046025   HERITAGE FINANCIAL CORP /WA/              \u001b[38;5;71m \u001b[0m\u001b[38;5;71m10-Q  \u001b[0m\u001b[38;5;71m \u001b[0m \u001b[38;5;39m \u001b[0m\u001b[38;5;39m2024-08-09 \u001b[0m\u001b[38;5;39m \u001b[0m  0001046025-24-000164         │\n",
       "│  \u001b[1m \u001b[0m\u001b[1m42\u001b[0m\u001b[1m \u001b[0m \u001b[1m \u001b[0m\u001b[1m1047335\u001b[0m\u001b[1m \u001b[0m \u001b[1m \u001b[0m\u001b[1mNATIONAL HEALTHCARE CORP                \u001b[0m\u001b[1m \u001b[0m \u001b[1;38;5;71m \u001b[0m\u001b[1;38;5;71m8-K   \u001b[0m\u001b[1;38;5;71m \u001b[0m \u001b[1;38;5;39m \u001b[0m\u001b[1;38;5;39m2024-08-09 \u001b[0m\u001b[1;38;5;39m \u001b[0m \u001b[1m \u001b[0m\u001b[1m0001437749-24-025685\u001b[0m\u001b[1m \u001b[0m        │\n",
       "│   43   1047335   NATIONAL HEALTHCARE CORP                  \u001b[38;5;71m \u001b[0m\u001b[38;5;71m8-K   \u001b[0m\u001b[38;5;71m \u001b[0m \u001b[38;5;39m \u001b[0m\u001b[38;5;39m2024-08-09 \u001b[0m\u001b[38;5;39m \u001b[0m  0001437749-24-025687         │\n",
       "│  \u001b[1m \u001b[0m\u001b[1m44\u001b[0m\u001b[1m \u001b[0m \u001b[1m \u001b[0m\u001b[1m1048286\u001b[0m\u001b[1m \u001b[0m \u001b[1m \u001b[0m\u001b[1mMARRIOTT INTERNATIONAL INC /MD/         \u001b[0m\u001b[1m \u001b[0m \u001b[1;38;5;71m \u001b[0m\u001b[1;38;5;71m424B5 \u001b[0m\u001b[1;38;5;71m \u001b[0m \u001b[1;38;5;39m \u001b[0m\u001b[1;38;5;39m2024-08-09 \u001b[0m\u001b[1;38;5;39m \u001b[0m \u001b[1m \u001b[0m\u001b[1m0001193125-24-197825\u001b[0m\u001b[1m \u001b[0m        │\n",
       "│   45   1050915   QUANTA SERVICES, INC.                     \u001b[38;5;71m \u001b[0m\u001b[38;5;71m424B5 \u001b[0m\u001b[38;5;71m \u001b[0m \u001b[38;5;39m \u001b[0m\u001b[38;5;39m2024-08-09 \u001b[0m\u001b[38;5;39m \u001b[0m  0001193125-24-197431         │\n",
       "│  \u001b[1m \u001b[0m\u001b[1m46\u001b[0m\u001b[1m \u001b[0m \u001b[1m \u001b[0m\u001b[1m1050915\u001b[0m\u001b[1m \u001b[0m \u001b[1m \u001b[0m\u001b[1mQUANTA SERVICES, INC.                   \u001b[0m\u001b[1m \u001b[0m \u001b[1;38;5;71m \u001b[0m\u001b[1;38;5;71m8-K   \u001b[0m\u001b[1;38;5;71m \u001b[0m \u001b[1;38;5;39m \u001b[0m\u001b[1;38;5;39m2024-08-09 \u001b[0m\u001b[1;38;5;39m \u001b[0m \u001b[1m \u001b[0m\u001b[1m0001193125-24-197895\u001b[0m\u001b[1m \u001b[0m        │\n",
       "│   47   1051627   AXT INC                                   \u001b[38;5;71m \u001b[0m\u001b[38;5;71m10-Q  \u001b[0m\u001b[38;5;71m \u001b[0m \u001b[38;5;39m \u001b[0m\u001b[38;5;39m2024-08-09 \u001b[0m\u001b[38;5;39m \u001b[0m  0001558370-24-011747         │\n",
       "│  \u001b[1m \u001b[0m\u001b[1m48\u001b[0m\u001b[1m \u001b[0m \u001b[1m \u001b[0m\u001b[1m1052752\u001b[0m\u001b[1m \u001b[0m \u001b[1m \u001b[0m\u001b[1mGETTY REALTY CORP /MD/                  \u001b[0m\u001b[1m \u001b[0m \u001b[1;38;5;71m \u001b[0m\u001b[1;38;5;71m8-K   \u001b[0m\u001b[1;38;5;71m \u001b[0m \u001b[1;38;5;39m \u001b[0m\u001b[1;38;5;39m2024-08-09 \u001b[0m\u001b[1;38;5;39m \u001b[0m \u001b[1m \u001b[0m\u001b[1m0001193125-24-197878\u001b[0m\u001b[1m \u001b[0m        │\n",
       "│   49   1053691   CervoMed Inc.                             \u001b[38;5;71m \u001b[0m\u001b[38;5;71m10-Q  \u001b[0m\u001b[38;5;71m \u001b[0m \u001b[38;5;39m \u001b[0m\u001b[38;5;39m2024-08-09 \u001b[0m\u001b[38;5;39m \u001b[0m  0001437749-24-025875         │\n",
       "│                                                                                                                 │\n",
       "│ Showing 50 of 16,836 filings                                                                                    │\n",
       "╰─────────────────────────────────────────────────────────────────────────────────────────────────────────────────╯"
      ]
     },
     "execution_count": 17,
     "metadata": {},
     "output_type": "execute_result"
    }
   ],
   "source": [
    "filings = get_filings(index=\"xbrl\")\n",
    "filings"
   ]
  },
  {
   "cell_type": "code",
   "execution_count": 21,
   "id": "44bb87fe-a6bf-4a52-bc71-92f715f69b88",
   "metadata": {},
   "outputs": [
    {
     "data": {
      "text/html": [
       "<pre style=\"white-space:pre;overflow-x:auto;line-height:normal;font-family:Menlo,'DejaVu Sans Mono',consolas,'Courier New',monospace\"></pre>\n"
      ],
      "text/plain": []
     },
     "metadata": {},
     "output_type": "display_data"
    },
    {
     "data": {
      "text/plain": [
       "\u001b[3m          XBRL Instance Document          \u001b[0m\n",
       "╭──────────────────────┬─────────────────╮\n",
       "│\u001b[1m \u001b[0m\u001b[1mCompany             \u001b[0m\u001b[1m \u001b[0m│\u001b[1m \u001b[0m\u001b[1mNumber of Facts\u001b[0m\u001b[1m \u001b[0m│\n",
       "├──────────────────────┼─────────────────┤\n",
       "│ ROYAL BANK OF CANADA │ 8               │\n",
       "╰──────────────────────┴─────────────────╯"
      ]
     },
     "execution_count": 21,
     "metadata": {},
     "output_type": "execute_result"
    }
   ],
   "source": [
    "filing = Filing(form='424B2', filing_date='2024-08-09', company='ROYAL BANK OF CANADA', cik=1000275, accession_no='0000950103-24-012010')\n",
    "instance = filing.xbrl()\n",
    "instance"
   ]
  },
  {
   "cell_type": "code",
   "execution_count": 22,
   "id": "d095d24f-f134-4625-8d4d-42e51482d9f9",
   "metadata": {},
   "outputs": [
    {
     "data": {
      "text/html": [
       "<div>\n",
       "<style scoped>\n",
       "    .dataframe tbody tr th:only-of-type {\n",
       "        vertical-align: middle;\n",
       "    }\n",
       "\n",
       "    .dataframe tbody tr th {\n",
       "        vertical-align: top;\n",
       "    }\n",
       "\n",
       "    .dataframe thead th {\n",
       "        text-align: right;\n",
       "    }\n",
       "</style>\n",
       "<table border=\"1\" class=\"dataframe\">\n",
       "  <thead>\n",
       "    <tr style=\"text-align: right;\">\n",
       "      <th></th>\n",
       "      <th>concept</th>\n",
       "      <th>value</th>\n",
       "      <th>units</th>\n",
       "      <th>decimals</th>\n",
       "      <th>start_date</th>\n",
       "      <th>end_date</th>\n",
       "      <th>period_type</th>\n",
       "      <th>duration</th>\n",
       "      <th>context_id</th>\n",
       "      <th>entity_id</th>\n",
       "      <th>dimensions</th>\n",
       "    </tr>\n",
       "  </thead>\n",
       "  <tbody>\n",
       "    <tr>\n",
       "      <th>0</th>\n",
       "      <td>ffd:SubmissnTp</td>\n",
       "      <td>424B2</td>\n",
       "      <td>None</td>\n",
       "      <td>None</td>\n",
       "      <td>2024-08-09</td>\n",
       "      <td>2024-08-09</td>\n",
       "      <td>instant</td>\n",
       "      <td>1 month</td>\n",
       "      <td>c_report</td>\n",
       "      <td>0001000275</td>\n",
       "      <td>{}</td>\n",
       "    </tr>\n",
       "    <tr>\n",
       "      <th>1</th>\n",
       "      <td>ffd:FeeExhibitTp</td>\n",
       "      <td>EX-FILING FEES</td>\n",
       "      <td>None</td>\n",
       "      <td>None</td>\n",
       "      <td>2024-08-09</td>\n",
       "      <td>2024-08-09</td>\n",
       "      <td>instant</td>\n",
       "      <td>1 month</td>\n",
       "      <td>c_report</td>\n",
       "      <td>0001000275</td>\n",
       "      <td>{}</td>\n",
       "    </tr>\n",
       "    <tr>\n",
       "      <th>2</th>\n",
       "      <td>dei:EntityCentralIndexKey</td>\n",
       "      <td>0001000275</td>\n",
       "      <td>None</td>\n",
       "      <td>None</td>\n",
       "      <td>2024-08-09</td>\n",
       "      <td>2024-08-09</td>\n",
       "      <td>instant</td>\n",
       "      <td>1 month</td>\n",
       "      <td>c_report</td>\n",
       "      <td>0001000275</td>\n",
       "      <td>{}</td>\n",
       "    </tr>\n",
       "    <tr>\n",
       "      <th>3</th>\n",
       "      <td>ffd:RegnFileNb</td>\n",
       "      <td>333-275898</td>\n",
       "      <td>None</td>\n",
       "      <td>None</td>\n",
       "      <td>2024-08-09</td>\n",
       "      <td>2024-08-09</td>\n",
       "      <td>instant</td>\n",
       "      <td>1 month</td>\n",
       "      <td>c_report</td>\n",
       "      <td>0001000275</td>\n",
       "      <td>{}</td>\n",
       "    </tr>\n",
       "    <tr>\n",
       "      <th>4</th>\n",
       "      <td>ffd:FormTp</td>\n",
       "      <td>F-3</td>\n",
       "      <td>None</td>\n",
       "      <td>None</td>\n",
       "      <td>2024-08-09</td>\n",
       "      <td>2024-08-09</td>\n",
       "      <td>instant</td>\n",
       "      <td>1 month</td>\n",
       "      <td>c_report</td>\n",
       "      <td>0001000275</td>\n",
       "      <td>{}</td>\n",
       "    </tr>\n",
       "    <tr>\n",
       "      <th>5</th>\n",
       "      <td>dei:EntityRegistrantName</td>\n",
       "      <td>ROYAL BANK OF CANADA</td>\n",
       "      <td>None</td>\n",
       "      <td>None</td>\n",
       "      <td>2024-08-09</td>\n",
       "      <td>2024-08-09</td>\n",
       "      <td>instant</td>\n",
       "      <td>1 month</td>\n",
       "      <td>c_report</td>\n",
       "      <td>0001000275</td>\n",
       "      <td>{}</td>\n",
       "    </tr>\n",
       "    <tr>\n",
       "      <th>6</th>\n",
       "      <td>ffd:NrrtvMaxAggtOfferingPric</td>\n",
       "      <td>1269000</td>\n",
       "      <td>USD</td>\n",
       "      <td>INF</td>\n",
       "      <td>2024-08-09</td>\n",
       "      <td>2024-08-09</td>\n",
       "      <td>instant</td>\n",
       "      <td>1 month</td>\n",
       "      <td>c_report</td>\n",
       "      <td>0001000275</td>\n",
       "      <td>{}</td>\n",
       "    </tr>\n",
       "    <tr>\n",
       "      <th>7</th>\n",
       "      <td>ffd:FnlPrspctsFlg</td>\n",
       "      <td>true</td>\n",
       "      <td>None</td>\n",
       "      <td>None</td>\n",
       "      <td>2024-08-09</td>\n",
       "      <td>2024-08-09</td>\n",
       "      <td>instant</td>\n",
       "      <td>1 month</td>\n",
       "      <td>c_report</td>\n",
       "      <td>0001000275</td>\n",
       "      <td>{}</td>\n",
       "    </tr>\n",
       "  </tbody>\n",
       "</table>\n",
       "</div>"
      ],
      "text/plain": [
       "                        concept                 value units decimals  \\\n",
       "0                ffd:SubmissnTp                 424B2  None     None   \n",
       "1              ffd:FeeExhibitTp        EX-FILING FEES  None     None   \n",
       "2     dei:EntityCentralIndexKey            0001000275  None     None   \n",
       "3                ffd:RegnFileNb            333-275898  None     None   \n",
       "4                    ffd:FormTp                   F-3  None     None   \n",
       "5      dei:EntityRegistrantName  ROYAL BANK OF CANADA  None     None   \n",
       "6  ffd:NrrtvMaxAggtOfferingPric               1269000   USD      INF   \n",
       "7             ffd:FnlPrspctsFlg                  true  None     None   \n",
       "\n",
       "   start_date    end_date period_type duration context_id   entity_id  \\\n",
       "0  2024-08-09  2024-08-09     instant  1 month   c_report  0001000275   \n",
       "1  2024-08-09  2024-08-09     instant  1 month   c_report  0001000275   \n",
       "2  2024-08-09  2024-08-09     instant  1 month   c_report  0001000275   \n",
       "3  2024-08-09  2024-08-09     instant  1 month   c_report  0001000275   \n",
       "4  2024-08-09  2024-08-09     instant  1 month   c_report  0001000275   \n",
       "5  2024-08-09  2024-08-09     instant  1 month   c_report  0001000275   \n",
       "6  2024-08-09  2024-08-09     instant  1 month   c_report  0001000275   \n",
       "7  2024-08-09  2024-08-09     instant  1 month   c_report  0001000275   \n",
       "\n",
       "  dimensions  \n",
       "0         {}  \n",
       "1         {}  \n",
       "2         {}  \n",
       "3         {}  \n",
       "4         {}  \n",
       "5         {}  \n",
       "6         {}  \n",
       "7         {}  "
      ]
     },
     "execution_count": 22,
     "metadata": {},
     "output_type": "execute_result"
    }
   ],
   "source": [
    "instance.facts"
   ]
  },
  {
   "cell_type": "code",
   "execution_count": 29,
   "id": "2b40b822-f66a-4af9-a5e1-87d5901f206e",
   "metadata": {},
   "outputs": [
    {
     "data": {
      "text/html": [
       "<div>\n",
       "<style scoped>\n",
       "    .dataframe tbody tr th:only-of-type {\n",
       "        vertical-align: middle;\n",
       "    }\n",
       "\n",
       "    .dataframe tbody tr th {\n",
       "        vertical-align: top;\n",
       "    }\n",
       "\n",
       "    .dataframe thead th {\n",
       "        text-align: right;\n",
       "    }\n",
       "</style>\n",
       "<table border=\"1\" class=\"dataframe\">\n",
       "  <thead>\n",
       "    <tr style=\"text-align: right;\">\n",
       "      <th></th>\n",
       "      <th>concept</th>\n",
       "      <th>value</th>\n",
       "      <th>units</th>\n",
       "      <th>decimals</th>\n",
       "      <th>start_date</th>\n",
       "      <th>end_date</th>\n",
       "      <th>period_type</th>\n",
       "      <th>duration</th>\n",
       "      <th>context_id</th>\n",
       "      <th>entity_id</th>\n",
       "      <th>dimensions</th>\n",
       "    </tr>\n",
       "  </thead>\n",
       "  <tbody>\n",
       "    <tr>\n",
       "      <th>4</th>\n",
       "      <td>ffd:FormTp</td>\n",
       "      <td>F-3</td>\n",
       "      <td>None</td>\n",
       "      <td>None</td>\n",
       "      <td>2024-08-09</td>\n",
       "      <td>2024-08-09</td>\n",
       "      <td>instant</td>\n",
       "      <td>1 month</td>\n",
       "      <td>c_report</td>\n",
       "      <td>0001000275</td>\n",
       "      <td>{}</td>\n",
       "    </tr>\n",
       "  </tbody>\n",
       "</table>\n",
       "</div>"
      ],
      "text/plain": [
       "      concept value units decimals  start_date    end_date period_type  \\\n",
       "4  ffd:FormTp   F-3  None     None  2024-08-09  2024-08-09     instant   \n",
       "\n",
       "  duration context_id   entity_id dimensions  \n",
       "4  1 month   c_report  0001000275         {}  "
      ]
     },
     "execution_count": 29,
     "metadata": {},
     "output_type": "execute_result"
    }
   ],
   "source": [
    "instance.facts.query(\"concept=='ffd:FormTp'\")"
   ]
  },
  {
   "cell_type": "code",
   "execution_count": 26,
   "id": "416d5aca-98d0-4828-9884-41c9152b7fd9",
   "metadata": {},
   "outputs": [
    {
     "data": {
      "text/html": [
       "<div>\n",
       "<style scoped>\n",
       "    .dataframe tbody tr th:only-of-type {\n",
       "        vertical-align: middle;\n",
       "    }\n",
       "\n",
       "    .dataframe tbody tr th {\n",
       "        vertical-align: top;\n",
       "    }\n",
       "\n",
       "    .dataframe thead th {\n",
       "        text-align: right;\n",
       "    }\n",
       "</style>\n",
       "<table border=\"1\" class=\"dataframe\">\n",
       "  <thead>\n",
       "    <tr style=\"text-align: right;\">\n",
       "      <th></th>\n",
       "      <th>concept</th>\n",
       "      <th>value</th>\n",
       "      <th>units</th>\n",
       "      <th>decimals</th>\n",
       "      <th>start_date</th>\n",
       "      <th>end_date</th>\n",
       "      <th>period_type</th>\n",
       "      <th>duration</th>\n",
       "      <th>context_id</th>\n",
       "      <th>entity_id</th>\n",
       "      <th>dimensions</th>\n",
       "    </tr>\n",
       "  </thead>\n",
       "  <tbody>\n",
       "    <tr>\n",
       "      <th>5</th>\n",
       "      <td>dei:EntityRegistrantName</td>\n",
       "      <td>ROYAL BANK OF CANADA</td>\n",
       "      <td>None</td>\n",
       "      <td>None</td>\n",
       "      <td>2024-08-09</td>\n",
       "      <td>2024-08-09</td>\n",
       "      <td>instant</td>\n",
       "      <td>1 month</td>\n",
       "      <td>c_report</td>\n",
       "      <td>0001000275</td>\n",
       "      <td>{}</td>\n",
       "    </tr>\n",
       "  </tbody>\n",
       "</table>\n",
       "</div>"
      ],
      "text/plain": [
       "                    concept                 value units decimals  start_date  \\\n",
       "5  dei:EntityRegistrantName  ROYAL BANK OF CANADA  None     None  2024-08-09   \n",
       "\n",
       "     end_date period_type duration context_id   entity_id dimensions  \n",
       "5  2024-08-09     instant  1 month   c_report  0001000275         {}  "
      ]
     },
     "execution_count": 26,
     "metadata": {},
     "output_type": "execute_result"
    }
   ],
   "source": [
    "instance.query_facts(concept=\"dei:EntityRegistrantName\")"
   ]
  },
  {
   "cell_type": "code",
   "execution_count": 28,
   "id": "a09238e8-7bc9-4c0d-b74b-7e7717268c70",
   "metadata": {},
   "outputs": [
    {
     "data": {
      "text/html": [
       "<div>\n",
       "<style scoped>\n",
       "    .dataframe tbody tr th:only-of-type {\n",
       "        vertical-align: middle;\n",
       "    }\n",
       "\n",
       "    .dataframe tbody tr th {\n",
       "        vertical-align: top;\n",
       "    }\n",
       "\n",
       "    .dataframe thead th {\n",
       "        text-align: right;\n",
       "    }\n",
       "</style>\n",
       "<table border=\"1\" class=\"dataframe\">\n",
       "  <thead>\n",
       "    <tr style=\"text-align: right;\">\n",
       "      <th></th>\n",
       "      <th>concept</th>\n",
       "      <th>value</th>\n",
       "      <th>units</th>\n",
       "      <th>decimals</th>\n",
       "      <th>start_date</th>\n",
       "      <th>end_date</th>\n",
       "      <th>period_type</th>\n",
       "      <th>duration</th>\n",
       "      <th>context_id</th>\n",
       "      <th>entity_id</th>\n",
       "      <th>dimensions</th>\n",
       "    </tr>\n",
       "  </thead>\n",
       "  <tbody>\n",
       "    <tr>\n",
       "      <th>0</th>\n",
       "      <td>ffd:SubmissnTp</td>\n",
       "      <td>424B2</td>\n",
       "      <td>None</td>\n",
       "      <td>None</td>\n",
       "      <td>2024-08-09</td>\n",
       "      <td>2024-08-09</td>\n",
       "      <td>instant</td>\n",
       "      <td>1 month</td>\n",
       "      <td>c_report</td>\n",
       "      <td>0001000275</td>\n",
       "      <td>{}</td>\n",
       "    </tr>\n",
       "    <tr>\n",
       "      <th>1</th>\n",
       "      <td>ffd:FeeExhibitTp</td>\n",
       "      <td>EX-FILING FEES</td>\n",
       "      <td>None</td>\n",
       "      <td>None</td>\n",
       "      <td>2024-08-09</td>\n",
       "      <td>2024-08-09</td>\n",
       "      <td>instant</td>\n",
       "      <td>1 month</td>\n",
       "      <td>c_report</td>\n",
       "      <td>0001000275</td>\n",
       "      <td>{}</td>\n",
       "    </tr>\n",
       "    <tr>\n",
       "      <th>2</th>\n",
       "      <td>dei:EntityCentralIndexKey</td>\n",
       "      <td>0001000275</td>\n",
       "      <td>None</td>\n",
       "      <td>None</td>\n",
       "      <td>2024-08-09</td>\n",
       "      <td>2024-08-09</td>\n",
       "      <td>instant</td>\n",
       "      <td>1 month</td>\n",
       "      <td>c_report</td>\n",
       "      <td>0001000275</td>\n",
       "      <td>{}</td>\n",
       "    </tr>\n",
       "    <tr>\n",
       "      <th>3</th>\n",
       "      <td>ffd:RegnFileNb</td>\n",
       "      <td>333-275898</td>\n",
       "      <td>None</td>\n",
       "      <td>None</td>\n",
       "      <td>2024-08-09</td>\n",
       "      <td>2024-08-09</td>\n",
       "      <td>instant</td>\n",
       "      <td>1 month</td>\n",
       "      <td>c_report</td>\n",
       "      <td>0001000275</td>\n",
       "      <td>{}</td>\n",
       "    </tr>\n",
       "    <tr>\n",
       "      <th>4</th>\n",
       "      <td>ffd:FormTp</td>\n",
       "      <td>F-3</td>\n",
       "      <td>None</td>\n",
       "      <td>None</td>\n",
       "      <td>2024-08-09</td>\n",
       "      <td>2024-08-09</td>\n",
       "      <td>instant</td>\n",
       "      <td>1 month</td>\n",
       "      <td>c_report</td>\n",
       "      <td>0001000275</td>\n",
       "      <td>{}</td>\n",
       "    </tr>\n",
       "    <tr>\n",
       "      <th>5</th>\n",
       "      <td>dei:EntityRegistrantName</td>\n",
       "      <td>ROYAL BANK OF CANADA</td>\n",
       "      <td>None</td>\n",
       "      <td>None</td>\n",
       "      <td>2024-08-09</td>\n",
       "      <td>2024-08-09</td>\n",
       "      <td>instant</td>\n",
       "      <td>1 month</td>\n",
       "      <td>c_report</td>\n",
       "      <td>0001000275</td>\n",
       "      <td>{}</td>\n",
       "    </tr>\n",
       "    <tr>\n",
       "      <th>6</th>\n",
       "      <td>ffd:NrrtvMaxAggtOfferingPric</td>\n",
       "      <td>1269000</td>\n",
       "      <td>USD</td>\n",
       "      <td>INF</td>\n",
       "      <td>2024-08-09</td>\n",
       "      <td>2024-08-09</td>\n",
       "      <td>instant</td>\n",
       "      <td>1 month</td>\n",
       "      <td>c_report</td>\n",
       "      <td>0001000275</td>\n",
       "      <td>{}</td>\n",
       "    </tr>\n",
       "    <tr>\n",
       "      <th>7</th>\n",
       "      <td>ffd:FnlPrspctsFlg</td>\n",
       "      <td>true</td>\n",
       "      <td>None</td>\n",
       "      <td>None</td>\n",
       "      <td>2024-08-09</td>\n",
       "      <td>2024-08-09</td>\n",
       "      <td>instant</td>\n",
       "      <td>1 month</td>\n",
       "      <td>c_report</td>\n",
       "      <td>0001000275</td>\n",
       "      <td>{}</td>\n",
       "    </tr>\n",
       "  </tbody>\n",
       "</table>\n",
       "</div>"
      ],
      "text/plain": [
       "                        concept                 value units decimals  \\\n",
       "0                ffd:SubmissnTp                 424B2  None     None   \n",
       "1              ffd:FeeExhibitTp        EX-FILING FEES  None     None   \n",
       "2     dei:EntityCentralIndexKey            0001000275  None     None   \n",
       "3                ffd:RegnFileNb            333-275898  None     None   \n",
       "4                    ffd:FormTp                   F-3  None     None   \n",
       "5      dei:EntityRegistrantName  ROYAL BANK OF CANADA  None     None   \n",
       "6  ffd:NrrtvMaxAggtOfferingPric               1269000   USD      INF   \n",
       "7             ffd:FnlPrspctsFlg                  true  None     None   \n",
       "\n",
       "   start_date    end_date period_type duration context_id   entity_id  \\\n",
       "0  2024-08-09  2024-08-09     instant  1 month   c_report  0001000275   \n",
       "1  2024-08-09  2024-08-09     instant  1 month   c_report  0001000275   \n",
       "2  2024-08-09  2024-08-09     instant  1 month   c_report  0001000275   \n",
       "3  2024-08-09  2024-08-09     instant  1 month   c_report  0001000275   \n",
       "4  2024-08-09  2024-08-09     instant  1 month   c_report  0001000275   \n",
       "5  2024-08-09  2024-08-09     instant  1 month   c_report  0001000275   \n",
       "6  2024-08-09  2024-08-09     instant  1 month   c_report  0001000275   \n",
       "7  2024-08-09  2024-08-09     instant  1 month   c_report  0001000275   \n",
       "\n",
       "  dimensions  \n",
       "0         {}  \n",
       "1         {}  \n",
       "2         {}  \n",
       "3         {}  \n",
       "4         {}  \n",
       "5         {}  \n",
       "6         {}  \n",
       "7         {}  "
      ]
     },
     "execution_count": 28,
     "metadata": {},
     "output_type": "execute_result"
    }
   ],
   "source": [
    "instance.query_facts(start_date='2024-08-09')"
   ]
  }
 ],
 "metadata": {
  "kernelspec": {
   "display_name": "Python 3 (ipykernel)",
   "language": "python",
   "name": "python3"
  },
  "language_info": {
   "codemirror_mode": {
    "name": "ipython",
    "version": 3
   },
   "file_extension": ".py",
   "mimetype": "text/x-python",
   "name": "python",
   "nbconvert_exporter": "python",
   "pygments_lexer": "ipython3",
   "version": "3.11.6"
  }
 },
 "nbformat": 4,
 "nbformat_minor": 5
}

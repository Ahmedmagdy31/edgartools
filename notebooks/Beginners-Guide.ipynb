{
 "cells": [
  {
   "cell_type": "markdown",
   "id": "f02d4f2e-c44b-43f0-92fe-1c2d2f94d366",
   "metadata": {},
   "source": [
    "# Beginners Guide\n",
    "\n",
    "This is the beginner's guide to **edgartools** - the easiest way to navigate **SEC Edgar** data."
   ]
  },
  {
   "cell_type": "markdown",
   "id": "22fb98d1bf5bac29",
   "metadata": {},
   "source": [
    "[![Open In Colab](https://colab.research.google.com/assets/colab-badge.svg)](http://colab.research.google.com/github/dgunning/edgartools/blob/main/notebooks/Beginners-Guide.ipynb)"
   ]
  },
  {
   "cell_type": "markdown",
   "id": "5a7e5e88-1d32-4486-9be3-a3cc316dc636",
   "metadata": {},
   "source": [
    "Edgartools is a python library which means you install using pip"
   ]
  },
  {
   "cell_type": "code",
   "execution_count": null,
   "id": "829bcf7b-7b0e-4bfd-a68f-31b48b53cd1f",
   "metadata": {},
   "outputs": [],
   "source": [
    "!pip install -U edgartools"
   ]
  },
  {
   "cell_type": "markdown",
   "id": "a6a2ec39-a1b7-4664-b4df-885ed3516cf4",
   "metadata": {},
   "source": [
    "## Import\n",
    "\n",
    "To get started import the library using `from edgar import *`. This will get you a comprehensive set of the most useful functions.\n",
    "\n",
    "This includes `set_identity` which you will use to identify yourself to the **SEC**. You can use `set_identity('your email address')`."
   ]
  },
  {
   "cell_type": "code",
   "execution_count": 2,
   "id": "7c077924-65c8-4f4c-897c-cce7fce98170",
   "metadata": {},
   "outputs": [
    {
     "data": {
      "text/html": [
       "<pre style=\"white-space:pre;overflow-x:auto;line-height:normal;font-family:Menlo,'DejaVu Sans Mono',consolas,'Courier New',monospace\"><span style=\"color: #7fbfbf; text-decoration-color: #7fbfbf\">[21:12:07] </span><span style=\"color: #000080; text-decoration-color: #000080\">INFO    </span> Identity of the Edgar REST client set to <span style=\"font-weight: bold\">[</span>myemail@domain.com<span style=\"font-weight: bold\">]</span>                       <span style=\"color: #7f7f7f; text-decoration-color: #7f7f7f\">core.py:158</span>\n",
       "</pre>\n"
      ],
      "text/plain": [
       "\u001b[2;36m[21:12:07]\u001b[0m\u001b[2;36m \u001b[0m\u001b[34mINFO    \u001b[0m Identity of the Edgar REST client set to \u001b[1m[\u001b[0mmyemail@domain.com\u001b[1m]\u001b[0m                       \u001b[2mcore.py\u001b[0m\u001b[2m:\u001b[0m\u001b[2m158\u001b[0m\n"
      ]
     },
     "metadata": {},
     "output_type": "display_data"
    }
   ],
   "source": [
    "from edgar import *\n",
    "\n",
    "set_identity(\"myemail@domain.com\")"
   ]
  },
  {
   "cell_type": "markdown",
   "id": "72216c79-8ed9-4061-bd59-8ac9caae281c",
   "metadata": {},
   "source": [
    "Alternatively you can set the environment variable **EDGAR_IDENTITY**"
   ]
  },
  {
   "cell_type": "markdown",
   "id": "f4fae47d-b32c-497c-9bc5-26b52bfdfd7e",
   "metadata": {},
   "source": [
    "## Getting SEC Filings\n",
    "\n",
    "To get a set of filings use `get_filings`"
   ]
  },
  {
   "cell_type": "code",
   "execution_count": 4,
   "id": "3f846609-84ea-4ae5-a0fb-8acbf66ab906",
   "metadata": {},
   "outputs": [
    {
     "data": {
      "text/html": [
       "<pre style=\"white-space:pre;overflow-x:auto;line-height:normal;font-family:Menlo,'DejaVu Sans Mono',consolas,'Courier New',monospace\"></pre>\n"
      ],
      "text/plain": []
     },
     "metadata": {},
     "output_type": "display_data"
    },
    {
     "data": {
      "text/plain": [
       "╭──────────────────────────────────────────────────── Filings ────────────────────────────────────────────────────╮\n",
       "│                                                                                                                 │\n",
       "│  \u001b[1m \u001b[0m\u001b[1m  \u001b[0m\u001b[1m \u001b[0m \u001b[1;38;5;71m \u001b[0m\u001b[1;38;5;71mform  \u001b[0m\u001b[1;38;5;71m \u001b[0m \u001b[1m \u001b[0m\u001b[1mcompany                                  \u001b[0m\u001b[1m \u001b[0m \u001b[1m \u001b[0m\u001b[1mcik    \u001b[0m\u001b[1m \u001b[0m \u001b[1;38;5;39m \u001b[0m\u001b[1;38;5;39mfiling_date\u001b[0m\u001b[1;38;5;39m \u001b[0m \u001b[1m \u001b[0m\u001b[1maccession_number    \u001b[0m\u001b[1m \u001b[0m       │\n",
       "│  ────────────────────────────────────────────────────────────────────────────────────────────────────────       │\n",
       "│  \u001b[1m \u001b[0m\u001b[1m0 \u001b[0m\u001b[1m \u001b[0m \u001b[1;38;5;71m \u001b[0m\u001b[1;38;5;71m10-K  \u001b[0m\u001b[1;38;5;71m \u001b[0m \u001b[1m \u001b[0m\u001b[1mALPHA & OMEGA SEMICONDUCTOR Ltd          \u001b[0m\u001b[1m \u001b[0m \u001b[1m \u001b[0m\u001b[1m1387467\u001b[0m\u001b[1m \u001b[0m \u001b[1;38;5;39m \u001b[0m\u001b[1;38;5;39m2024-08-23 \u001b[0m\u001b[1;38;5;39m \u001b[0m \u001b[1m \u001b[0m\u001b[1m0001387467-24-000073\u001b[0m\u001b[1m \u001b[0m       │\n",
       "│   1   \u001b[38;5;71m \u001b[0m\u001b[38;5;71m10-K  \u001b[0m\u001b[38;5;71m \u001b[0m  BILL Holdings, Inc.                         1786352  \u001b[38;5;39m \u001b[0m\u001b[38;5;39m2024-08-23 \u001b[0m\u001b[38;5;39m \u001b[0m  0001786352-24-000035        │\n",
       "│  \u001b[1m \u001b[0m\u001b[1m2 \u001b[0m\u001b[1m \u001b[0m \u001b[1;38;5;71m \u001b[0m\u001b[1;38;5;71m10-K  \u001b[0m\u001b[1;38;5;71m \u001b[0m \u001b[1m \u001b[0m\u001b[1mETHAN ALLEN INTERIORS INC                \u001b[0m\u001b[1m \u001b[0m \u001b[1m \u001b[0m\u001b[1m896156 \u001b[0m\u001b[1m \u001b[0m \u001b[1;38;5;39m \u001b[0m\u001b[1;38;5;39m2024-08-23 \u001b[0m\u001b[1;38;5;39m \u001b[0m \u001b[1m \u001b[0m\u001b[1m0001437749-24-027664\u001b[0m\u001b[1m \u001b[0m       │\n",
       "│   3   \u001b[38;5;71m \u001b[0m\u001b[38;5;71m10-K  \u001b[0m\u001b[38;5;71m \u001b[0m  Global Innovative Platforms Inc.            1837774  \u001b[38;5;39m \u001b[0m\u001b[38;5;39m2024-08-23 \u001b[0m\u001b[38;5;39m \u001b[0m  0001731122-24-001311        │\n",
       "│  \u001b[1m \u001b[0m\u001b[1m4 \u001b[0m\u001b[1m \u001b[0m \u001b[1;38;5;71m \u001b[0m\u001b[1;38;5;71m10-K  \u001b[0m\u001b[1;38;5;71m \u001b[0m \u001b[1m \u001b[0m\u001b[1mKearny Financial Corp.                   \u001b[0m\u001b[1m \u001b[0m \u001b[1m \u001b[0m\u001b[1m1617242\u001b[0m\u001b[1m \u001b[0m \u001b[1;38;5;39m \u001b[0m\u001b[1;38;5;39m2024-08-23 \u001b[0m\u001b[1;38;5;39m \u001b[0m \u001b[1m \u001b[0m\u001b[1m0001617242-24-000072\u001b[0m\u001b[1m \u001b[0m       │\n",
       "│   5   \u001b[38;5;71m \u001b[0m\u001b[38;5;71m10-K  \u001b[0m\u001b[38;5;71m \u001b[0m  Kimball Electronics, Inc.                   1606757  \u001b[38;5;39m \u001b[0m\u001b[38;5;39m2024-08-23 \u001b[0m\u001b[38;5;39m \u001b[0m  0001606757-24-000024        │\n",
       "│  \u001b[1m \u001b[0m\u001b[1m6 \u001b[0m\u001b[1m \u001b[0m \u001b[1;38;5;71m \u001b[0m\u001b[1;38;5;71m10-K  \u001b[0m\u001b[1;38;5;71m \u001b[0m \u001b[1m \u001b[0m\u001b[1mSYNAPTICS Inc                            \u001b[0m\u001b[1m \u001b[0m \u001b[1m \u001b[0m\u001b[1m817720 \u001b[0m\u001b[1m \u001b[0m \u001b[1;38;5;39m \u001b[0m\u001b[1;38;5;39m2024-08-23 \u001b[0m\u001b[1;38;5;39m \u001b[0m \u001b[1m \u001b[0m\u001b[1m0000950170-24-100261\u001b[0m\u001b[1m \u001b[0m       │\n",
       "│   7   \u001b[38;5;71m \u001b[0m\u001b[38;5;71m10-K  \u001b[0m\u001b[38;5;71m \u001b[0m  UNIFI INC                                   100726   \u001b[38;5;39m \u001b[0m\u001b[38;5;39m2024-08-23 \u001b[0m\u001b[38;5;39m \u001b[0m  0000950170-24-100146        │\n",
       "│  \u001b[1m \u001b[0m\u001b[1m8 \u001b[0m\u001b[1m \u001b[0m \u001b[1;38;5;71m \u001b[0m\u001b[1;38;5;71m10-K  \u001b[0m\u001b[1;38;5;71m \u001b[0m \u001b[1m \u001b[0m\u001b[1mUbiquiti Inc.                            \u001b[0m\u001b[1m \u001b[0m \u001b[1m \u001b[0m\u001b[1m1511737\u001b[0m\u001b[1m \u001b[0m \u001b[1;38;5;39m \u001b[0m\u001b[1;38;5;39m2024-08-23 \u001b[0m\u001b[1;38;5;39m \u001b[0m \u001b[1m \u001b[0m\u001b[1m0001511737-24-000053\u001b[0m\u001b[1m \u001b[0m       │\n",
       "│   9   \u001b[38;5;71m \u001b[0m\u001b[38;5;71m10-K/A\u001b[0m\u001b[38;5;71m \u001b[0m  SinglePoint Inc.                            1443611  \u001b[38;5;39m \u001b[0m\u001b[38;5;39m2024-08-23 \u001b[0m\u001b[38;5;39m \u001b[0m  0001477932-24-005209        │\n",
       "│  \u001b[1m \u001b[0m\u001b[1m10\u001b[0m\u001b[1m \u001b[0m \u001b[1;38;5;71m \u001b[0m\u001b[1;38;5;71m10-K/A\u001b[0m\u001b[1;38;5;71m \u001b[0m \u001b[1m \u001b[0m\u001b[1mVANJIA CORP                              \u001b[0m\u001b[1m \u001b[0m \u001b[1m \u001b[0m\u001b[1m1532383\u001b[0m\u001b[1m \u001b[0m \u001b[1;38;5;39m \u001b[0m\u001b[1;38;5;39m2024-08-23 \u001b[0m\u001b[1;38;5;39m \u001b[0m \u001b[1m \u001b[0m\u001b[1m0001017386-24-000235\u001b[0m\u001b[1m \u001b[0m       │\n",
       "│   11  \u001b[38;5;71m \u001b[0m\u001b[38;5;71m10-K  \u001b[0m\u001b[38;5;71m \u001b[0m  Axos Financial, Inc.                        1299709  \u001b[38;5;39m \u001b[0m\u001b[38;5;39m2024-08-22 \u001b[0m\u001b[38;5;39m \u001b[0m  0001299709-24-000113        │\n",
       "│  \u001b[1m \u001b[0m\u001b[1m12\u001b[0m\u001b[1m \u001b[0m \u001b[1;38;5;71m \u001b[0m\u001b[1;38;5;71m10-K  \u001b[0m\u001b[1;38;5;71m \u001b[0m \u001b[1m \u001b[0m\u001b[1mBIO-TECHNE Corp                          \u001b[0m\u001b[1m \u001b[0m \u001b[1m \u001b[0m\u001b[1m842023 \u001b[0m\u001b[1m \u001b[0m \u001b[1;38;5;39m \u001b[0m\u001b[1;38;5;39m2024-08-22 \u001b[0m\u001b[1;38;5;39m \u001b[0m \u001b[1m \u001b[0m\u001b[1m0001558370-24-012430\u001b[0m\u001b[1m \u001b[0m       │\n",
       "│   13  \u001b[38;5;71m \u001b[0m\u001b[38;5;71m10-K  \u001b[0m\u001b[38;5;71m \u001b[0m  LANCASTER COLONY CORP                       57515    \u001b[38;5;39m \u001b[0m\u001b[38;5;39m2024-08-22 \u001b[0m\u001b[38;5;39m \u001b[0m  0000057515-24-000020        │\n",
       "│  \u001b[1m \u001b[0m\u001b[1m14\u001b[0m\u001b[1m \u001b[0m \u001b[1;38;5;71m \u001b[0m\u001b[1;38;5;71m10-K  \u001b[0m\u001b[1;38;5;71m \u001b[0m \u001b[1m \u001b[0m\u001b[1mNYIAX, INC.                              \u001b[0m\u001b[1m \u001b[0m \u001b[1m \u001b[0m\u001b[1m1679379\u001b[0m\u001b[1m \u001b[0m \u001b[1;38;5;39m \u001b[0m\u001b[1;38;5;39m2024-08-22 \u001b[0m\u001b[1;38;5;39m \u001b[0m \u001b[1m \u001b[0m\u001b[1m0001213900-24-071547\u001b[0m\u001b[1m \u001b[0m       │\n",
       "│   15  \u001b[38;5;71m \u001b[0m\u001b[38;5;71m10-K  \u001b[0m\u001b[38;5;71m \u001b[0m  PARKER HANNIFIN CORP                        76334    \u001b[38;5;39m \u001b[0m\u001b[38;5;39m2024-08-22 \u001b[0m\u001b[38;5;39m \u001b[0m  0000076334-24-000044        │\n",
       "│  \u001b[1m \u001b[0m\u001b[1m16\u001b[0m\u001b[1m \u001b[0m \u001b[1;38;5;71m \u001b[0m\u001b[1;38;5;71m10-K  \u001b[0m\u001b[1;38;5;71m \u001b[0m \u001b[1m \u001b[0m\u001b[1mPAYCOR HCM, INC.                         \u001b[0m\u001b[1m \u001b[0m \u001b[1m \u001b[0m\u001b[1m1839439\u001b[0m\u001b[1m \u001b[0m \u001b[1;38;5;39m \u001b[0m\u001b[1;38;5;39m2024-08-22 \u001b[0m\u001b[1;38;5;39m \u001b[0m \u001b[1m \u001b[0m\u001b[1m0001839439-24-000051\u001b[0m\u001b[1m \u001b[0m       │\n",
       "│   17  \u001b[38;5;71m \u001b[0m\u001b[38;5;71m10-K  \u001b[0m\u001b[38;5;71m \u001b[0m  PELOTON INTERACTIVE, INC.                   1639825  \u001b[38;5;39m \u001b[0m\u001b[38;5;39m2024-08-22 \u001b[0m\u001b[38;5;39m \u001b[0m  0001639825-24-000128        │\n",
       "│  \u001b[1m \u001b[0m\u001b[1m18\u001b[0m\u001b[1m \u001b[0m \u001b[1;38;5;71m \u001b[0m\u001b[1;38;5;71m10-K  \u001b[0m\u001b[1;38;5;71m \u001b[0m \u001b[1m \u001b[0m\u001b[1mWOLFSPEED, INC.                          \u001b[0m\u001b[1m \u001b[0m \u001b[1m \u001b[0m\u001b[1m895419 \u001b[0m\u001b[1m \u001b[0m \u001b[1;38;5;39m \u001b[0m\u001b[1;38;5;39m2024-08-22 \u001b[0m\u001b[1;38;5;39m \u001b[0m \u001b[1m \u001b[0m\u001b[1m0000895419-24-000062\u001b[0m\u001b[1m \u001b[0m       │\n",
       "│   19  \u001b[38;5;71m \u001b[0m\u001b[38;5;71m10-K  \u001b[0m\u001b[38;5;71m \u001b[0m  Adamas One Corp.                            1884072  \u001b[38;5;39m \u001b[0m\u001b[38;5;39m2024-08-21 \u001b[0m\u001b[38;5;39m \u001b[0m  0001199835-24-000368        │\n",
       "│  \u001b[1m \u001b[0m\u001b[1m20\u001b[0m\u001b[1m \u001b[0m \u001b[1;38;5;71m \u001b[0m\u001b[1;38;5;71m10-K  \u001b[0m\u001b[1;38;5;71m \u001b[0m \u001b[1m \u001b[0m\u001b[1mBRINKER INTERNATIONAL, INC               \u001b[0m\u001b[1m \u001b[0m \u001b[1m \u001b[0m\u001b[1m703351 \u001b[0m\u001b[1m \u001b[0m \u001b[1;38;5;39m \u001b[0m\u001b[1;38;5;39m2024-08-21 \u001b[0m\u001b[1;38;5;39m \u001b[0m \u001b[1m \u001b[0m\u001b[1m0000703351-24-000030\u001b[0m\u001b[1m \u001b[0m       │\n",
       "│   21  \u001b[38;5;71m \u001b[0m\u001b[38;5;71m10-K  \u001b[0m\u001b[38;5;71m \u001b[0m  Lumentum Holdings Inc.                      1633978  \u001b[38;5;39m \u001b[0m\u001b[38;5;39m2024-08-21 \u001b[0m\u001b[38;5;39m \u001b[0m  0001628280-24-038024        │\n",
       "│  \u001b[1m \u001b[0m\u001b[1m22\u001b[0m\u001b[1m \u001b[0m \u001b[1;38;5;71m \u001b[0m\u001b[1;38;5;71m10-K  \u001b[0m\u001b[1;38;5;71m \u001b[0m \u001b[1m \u001b[0m\u001b[1mPremier, Inc.                            \u001b[0m\u001b[1m \u001b[0m \u001b[1m \u001b[0m\u001b[1m1577916\u001b[0m\u001b[1m \u001b[0m \u001b[1;38;5;39m \u001b[0m\u001b[1;38;5;39m2024-08-21 \u001b[0m\u001b[1;38;5;39m \u001b[0m \u001b[1m \u001b[0m\u001b[1m0001577916-24-000009\u001b[0m\u001b[1m \u001b[0m       │\n",
       "│   23  \u001b[38;5;71m \u001b[0m\u001b[38;5;71m10-K  \u001b[0m\u001b[38;5;71m \u001b[0m  QUINSTREET, INC                             1117297  \u001b[38;5;39m \u001b[0m\u001b[38;5;39m2024-08-21 \u001b[0m\u001b[38;5;39m \u001b[0m  0000950170-24-099495        │\n",
       "│  \u001b[1m \u001b[0m\u001b[1m24\u001b[0m\u001b[1m \u001b[0m \u001b[1;38;5;71m \u001b[0m\u001b[1;38;5;71m10-K  \u001b[0m\u001b[1;38;5;71m \u001b[0m \u001b[1m \u001b[0m\u001b[1mSANFILIPPO JOHN B & SON INC              \u001b[0m\u001b[1m \u001b[0m \u001b[1m \u001b[0m\u001b[1m880117 \u001b[0m\u001b[1m \u001b[0m \u001b[1;38;5;39m \u001b[0m\u001b[1;38;5;39m2024-08-21 \u001b[0m\u001b[1;38;5;39m \u001b[0m \u001b[1m \u001b[0m\u001b[1m0000950170-24-099489\u001b[0m\u001b[1m \u001b[0m       │\n",
       "│   25  \u001b[38;5;71m \u001b[0m\u001b[38;5;71m10-K  \u001b[0m\u001b[38;5;71m \u001b[0m  C2 Blockchain,Inc.                          1882781  \u001b[38;5;39m \u001b[0m\u001b[38;5;39m2024-08-20 \u001b[0m\u001b[38;5;39m \u001b[0m  0001599916-24-000212        │\n",
       "│  \u001b[1m \u001b[0m\u001b[1m26\u001b[0m\u001b[1m \u001b[0m \u001b[1;38;5;71m \u001b[0m\u001b[1;38;5;71m10-K  \u001b[0m\u001b[1;38;5;71m \u001b[0m \u001b[1m \u001b[0m\u001b[1mCOTY INC.                                \u001b[0m\u001b[1m \u001b[0m \u001b[1m \u001b[0m\u001b[1m1024305\u001b[0m\u001b[1m \u001b[0m \u001b[1;38;5;39m \u001b[0m\u001b[1;38;5;39m2024-08-20 \u001b[0m\u001b[1;38;5;39m \u001b[0m \u001b[1m \u001b[0m\u001b[1m0001024305-24-000035\u001b[0m\u001b[1m \u001b[0m       │\n",
       "│   27  \u001b[38;5;71m \u001b[0m\u001b[38;5;71m10-K  \u001b[0m\u001b[38;5;71m \u001b[0m  Fabrinet                                    1408710  \u001b[38;5;39m \u001b[0m\u001b[38;5;39m2024-08-20 \u001b[0m\u001b[38;5;39m \u001b[0m  0001408710-24-000032        │\n",
       "│  \u001b[1m \u001b[0m\u001b[1m28\u001b[0m\u001b[1m \u001b[0m \u001b[1;38;5;71m \u001b[0m\u001b[1;38;5;71m10-K  \u001b[0m\u001b[1;38;5;71m \u001b[0m \u001b[1m \u001b[0m\u001b[1mWESTERN DIGITAL CORP                     \u001b[0m\u001b[1m \u001b[0m \u001b[1m \u001b[0m\u001b[1m106040 \u001b[0m\u001b[1m \u001b[0m \u001b[1;38;5;39m \u001b[0m\u001b[1;38;5;39m2024-08-20 \u001b[0m\u001b[1;38;5;39m \u001b[0m \u001b[1m \u001b[0m\u001b[1m0000106040-24-000031\u001b[0m\u001b[1m \u001b[0m       │\n",
       "│   29  \u001b[38;5;71m \u001b[0m\u001b[38;5;71m10-K/A\u001b[0m\u001b[38;5;71m \u001b[0m  TLGY ACQUISITION CORP                       1879814  \u001b[38;5;39m \u001b[0m\u001b[38;5;39m2024-08-20 \u001b[0m\u001b[38;5;39m \u001b[0m  0001410578-24-001530        │\n",
       "│  \u001b[1m \u001b[0m\u001b[1m30\u001b[0m\u001b[1m \u001b[0m \u001b[1;38;5;71m \u001b[0m\u001b[1;38;5;71m10-K  \u001b[0m\u001b[1;38;5;71m \u001b[0m \u001b[1m \u001b[0m\u001b[1mESTEE LAUDER COMPANIES INC               \u001b[0m\u001b[1m \u001b[0m \u001b[1m \u001b[0m\u001b[1m1001250\u001b[0m\u001b[1m \u001b[0m \u001b[1;38;5;39m \u001b[0m\u001b[1;38;5;39m2024-08-19 \u001b[0m\u001b[1;38;5;39m \u001b[0m \u001b[1m \u001b[0m\u001b[1m0001001250-24-000116\u001b[0m\u001b[1m \u001b[0m       │\n",
       "│   31  \u001b[38;5;71m \u001b[0m\u001b[38;5;71m10-K  \u001b[0m\u001b[38;5;71m \u001b[0m  GPO Plus, Inc.                              1673475  \u001b[38;5;39m \u001b[0m\u001b[38;5;39m2024-08-19 \u001b[0m\u001b[38;5;39m \u001b[0m  0001640334-24-001319        │\n",
       "│  \u001b[1m \u001b[0m\u001b[1m32\u001b[0m\u001b[1m \u001b[0m \u001b[1;38;5;71m \u001b[0m\u001b[1;38;5;71m10-K  \u001b[0m\u001b[1;38;5;71m \u001b[0m \u001b[1m \u001b[0m\u001b[1mLondax Corp.                             \u001b[0m\u001b[1m \u001b[0m \u001b[1m \u001b[0m\u001b[1m1985554\u001b[0m\u001b[1m \u001b[0m \u001b[1;38;5;39m \u001b[0m\u001b[1;38;5;39m2024-08-19 \u001b[0m\u001b[1;38;5;39m \u001b[0m \u001b[1m \u001b[0m\u001b[1m0001683168-24-005873\u001b[0m\u001b[1m \u001b[0m       │\n",
       "│   33  \u001b[38;5;71m \u001b[0m\u001b[38;5;71m10-K/A\u001b[0m\u001b[38;5;71m \u001b[0m  AI Unlimited Group, Inc.                    1932244  \u001b[38;5;39m \u001b[0m\u001b[38;5;39m2024-08-19 \u001b[0m\u001b[38;5;39m \u001b[0m  0001493152-24-033178        │\n",
       "│  \u001b[1m \u001b[0m\u001b[1m34\u001b[0m\u001b[1m \u001b[0m \u001b[1;38;5;71m \u001b[0m\u001b[1;38;5;71m10-K/A\u001b[0m\u001b[1;38;5;71m \u001b[0m \u001b[1m \u001b[0m\u001b[1mClean Vision Corp                        \u001b[0m\u001b[1m \u001b[0m \u001b[1m \u001b[0m\u001b[1m1391426\u001b[0m\u001b[1m \u001b[0m \u001b[1;38;5;39m \u001b[0m\u001b[1;38;5;39m2024-08-19 \u001b[0m\u001b[1;38;5;39m \u001b[0m \u001b[1m \u001b[0m\u001b[1m0001903596-24-000526\u001b[0m\u001b[1m \u001b[0m       │\n",
       "│   35  \u001b[38;5;71m \u001b[0m\u001b[38;5;71m10-K/A\u001b[0m\u001b[38;5;71m \u001b[0m  Eledon Pharmaceuticals, Inc.                1404281  \u001b[38;5;39m \u001b[0m\u001b[38;5;39m2024-08-19 \u001b[0m\u001b[38;5;39m \u001b[0m  0000950170-24-098575        │\n",
       "│  \u001b[1m \u001b[0m\u001b[1m36\u001b[0m\u001b[1m \u001b[0m \u001b[1;38;5;71m \u001b[0m\u001b[1;38;5;71m10-K/A\u001b[0m\u001b[1;38;5;71m \u001b[0m \u001b[1m \u001b[0m\u001b[1mGBT Technologies Inc.                    \u001b[0m\u001b[1m \u001b[0m \u001b[1m \u001b[0m\u001b[1m1471781\u001b[0m\u001b[1m \u001b[0m \u001b[1;38;5;39m \u001b[0m\u001b[1;38;5;39m2024-08-19 \u001b[0m\u001b[1;38;5;39m \u001b[0m \u001b[1m \u001b[0m\u001b[1m0001731122-24-001280\u001b[0m\u001b[1m \u001b[0m       │\n",
       "│   37  \u001b[38;5;71m \u001b[0m\u001b[38;5;71m10-K/A\u001b[0m\u001b[38;5;71m \u001b[0m  Mega Matrix Corp.                           1036848  \u001b[38;5;39m \u001b[0m\u001b[38;5;39m2024-08-19 \u001b[0m\u001b[38;5;39m \u001b[0m  0001213900-24-070723        │\n",
       "│  \u001b[1m \u001b[0m\u001b[1m38\u001b[0m\u001b[1m \u001b[0m \u001b[1;38;5;71m \u001b[0m\u001b[1;38;5;71m10-K/A\u001b[0m\u001b[1;38;5;71m \u001b[0m \u001b[1m \u001b[0m\u001b[1mThryv Holdings, Inc.                     \u001b[0m\u001b[1m \u001b[0m \u001b[1m \u001b[0m\u001b[1m1556739\u001b[0m\u001b[1m \u001b[0m \u001b[1;38;5;39m \u001b[0m\u001b[1;38;5;39m2024-08-19 \u001b[0m\u001b[1;38;5;39m \u001b[0m \u001b[1m \u001b[0m\u001b[1m0001140361-24-037825\u001b[0m\u001b[1m \u001b[0m       │\n",
       "│   39  \u001b[38;5;71m \u001b[0m\u001b[38;5;71m10-K  \u001b[0m\u001b[38;5;71m \u001b[0m  APPLIED INDUSTRIAL TECHNOLOGIES INC         109563   \u001b[38;5;39m \u001b[0m\u001b[38;5;39m2024-08-16 \u001b[0m\u001b[38;5;39m \u001b[0m  0000109563-24-000078        │\n",
       "│  \u001b[1m \u001b[0m\u001b[1m40\u001b[0m\u001b[1m \u001b[0m \u001b[1;38;5;71m \u001b[0m\u001b[1;38;5;71m10-K  \u001b[0m\u001b[1;38;5;71m \u001b[0m \u001b[1m \u001b[0m\u001b[1mAmcor plc                                \u001b[0m\u001b[1m \u001b[0m \u001b[1m \u001b[0m\u001b[1m1748790\u001b[0m\u001b[1m \u001b[0m \u001b[1;38;5;39m \u001b[0m\u001b[1;38;5;39m2024-08-16 \u001b[0m\u001b[1;38;5;39m \u001b[0m \u001b[1m \u001b[0m\u001b[1m0001748790-24-000022\u001b[0m\u001b[1m \u001b[0m       │\n",
       "│   41  \u001b[38;5;71m \u001b[0m\u001b[38;5;71m10-K  \u001b[0m\u001b[38;5;71m \u001b[0m  Artisan Consumer Goods, Inc.                1530425  \u001b[38;5;39m \u001b[0m\u001b[38;5;39m2024-08-16 \u001b[0m\u001b[38;5;39m \u001b[0m  0001477932-24-005016        │\n",
       "│  \u001b[1m \u001b[0m\u001b[1m42\u001b[0m\u001b[1m \u001b[0m \u001b[1;38;5;71m \u001b[0m\u001b[1;38;5;71m10-K  \u001b[0m\u001b[1;38;5;71m \u001b[0m \u001b[1m \u001b[0m\u001b[1mAtlassian Corp                           \u001b[0m\u001b[1m \u001b[0m \u001b[1m \u001b[0m\u001b[1m1650372\u001b[0m\u001b[1m \u001b[0m \u001b[1;38;5;39m \u001b[0m\u001b[1;38;5;39m2024-08-16 \u001b[0m\u001b[1;38;5;39m \u001b[0m \u001b[1m \u001b[0m\u001b[1m0001650372-24-000036\u001b[0m\u001b[1m \u001b[0m       │\n",
       "│   43  \u001b[38;5;71m \u001b[0m\u001b[38;5;71m10-K  \u001b[0m\u001b[38;5;71m \u001b[0m  COHERENT CORP.                              820318   \u001b[38;5;39m \u001b[0m\u001b[38;5;39m2024-08-16 \u001b[0m\u001b[38;5;39m \u001b[0m  0000820318-24-000016        │\n",
       "│  \u001b[1m \u001b[0m\u001b[1m44\u001b[0m\u001b[1m \u001b[0m \u001b[1;38;5;71m \u001b[0m\u001b[1;38;5;71m10-K  \u001b[0m\u001b[1;38;5;71m \u001b[0m \u001b[1m \u001b[0m\u001b[1mEXTREME NETWORKS INC                     \u001b[0m\u001b[1m \u001b[0m \u001b[1m \u001b[0m\u001b[1m1078271\u001b[0m\u001b[1m \u001b[0m \u001b[1;38;5;39m \u001b[0m\u001b[1;38;5;39m2024-08-16 \u001b[0m\u001b[1;38;5;39m \u001b[0m \u001b[1m \u001b[0m\u001b[1m0000950170-24-098129\u001b[0m\u001b[1m \u001b[0m       │\n",
       "│   45  \u001b[38;5;71m \u001b[0m\u001b[38;5;71m10-K  \u001b[0m\u001b[38;5;71m \u001b[0m  Madison Square Garden Entertainment Corp.   1952073  \u001b[38;5;39m \u001b[0m\u001b[38;5;39m2024-08-16 \u001b[0m\u001b[38;5;39m \u001b[0m  0001952073-24-000022        │\n",
       "│  \u001b[1m \u001b[0m\u001b[1m46\u001b[0m\u001b[1m \u001b[0m \u001b[1;38;5;71m \u001b[0m\u001b[1;38;5;71m10-K  \u001b[0m\u001b[1;38;5;71m \u001b[0m \u001b[1m \u001b[0m\u001b[1mVIAVI SOLUTIONS INC.                     \u001b[0m\u001b[1m \u001b[0m \u001b[1m \u001b[0m\u001b[1m912093 \u001b[0m\u001b[1m \u001b[0m \u001b[1;38;5;39m \u001b[0m\u001b[1;38;5;39m2024-08-16 \u001b[0m\u001b[1;38;5;39m \u001b[0m \u001b[1m \u001b[0m\u001b[1m0000912093-24-000063\u001b[0m\u001b[1m \u001b[0m       │\n",
       "│   47  \u001b[38;5;71m \u001b[0m\u001b[38;5;71m10-K/A\u001b[0m\u001b[38;5;71m \u001b[0m  Coeptis Therapeutics Holdings, Inc.         1759186  \u001b[38;5;39m \u001b[0m\u001b[38;5;39m2024-08-16 \u001b[0m\u001b[38;5;39m \u001b[0m  0001683168-24-005797        │\n",
       "│  \u001b[1m \u001b[0m\u001b[1m48\u001b[0m\u001b[1m \u001b[0m \u001b[1;38;5;71m \u001b[0m\u001b[1;38;5;71m10-K/A\u001b[0m\u001b[1;38;5;71m \u001b[0m \u001b[1m \u001b[0m\u001b[1mQuarta-Rad, Inc.                         \u001b[0m\u001b[1m \u001b[0m \u001b[1m \u001b[0m\u001b[1m1549631\u001b[0m\u001b[1m \u001b[0m \u001b[1;38;5;39m \u001b[0m\u001b[1;38;5;39m2024-08-16 \u001b[0m\u001b[1;38;5;39m \u001b[0m \u001b[1m \u001b[0m\u001b[1m0001493152-24-032737\u001b[0m\u001b[1m \u001b[0m       │\n",
       "│   49  \u001b[38;5;71m \u001b[0m\u001b[38;5;71m10-K  \u001b[0m\u001b[38;5;71m \u001b[0m  Axil Brands, Inc.                           1718500  \u001b[38;5;39m \u001b[0m\u001b[38;5;39m2024-08-15 \u001b[0m\u001b[38;5;39m \u001b[0m  0001520138-24-000274        │\n",
       "│                                                                                                                 │\n",
       "│ Showing 50 of 309 filings                                                                                       │\n",
       "╰─────────────────────────────────────────────────────────────────────────────────────────────────────────────────╯"
      ]
     },
     "execution_count": 4,
     "metadata": {},
     "output_type": "execute_result"
    }
   ],
   "source": [
    "filings = get_filings(form=\"10-K\")\n",
    "filings"
   ]
  },
  {
   "cell_type": "markdown",
   "id": "1244596a-4512-4e3f-a3fc-7cf3b554ebeb",
   "metadata": {},
   "source": [
    "## Select a single filing\n",
    "\n",
    "Once you have the filings you can select a single filing using the `[]` notation."
   ]
  },
  {
   "cell_type": "code",
   "execution_count": 5,
   "id": "c01b7d14-2b27-4c65-982a-8a1822081797",
   "metadata": {},
   "outputs": [
    {
     "data": {
      "text/html": [
       "<pre style=\"white-space:pre;overflow-x:auto;line-height:normal;font-family:Menlo,'DejaVu Sans Mono',consolas,'Courier New',monospace\"></pre>\n"
      ],
      "text/plain": []
     },
     "metadata": {},
     "output_type": "display_data"
    },
    {
     "data": {
      "text/plain": [
       "╭───────────────────────────────\u001b[1m ALPHA & OMEGA SEMICONDUCTOR Ltd [1387467] 10-K 📊 \u001b[0m───────────────────────────────╮\n",
       "│ ╭──────────────────────┬────────────╮                                                                           │\n",
       "│ │\u001b[1;38;5;39m \u001b[0m\u001b[1;38;5;39m0001387467-24-000073\u001b[0m\u001b[1;38;5;39m \u001b[0m│ 2024-08-23 │                                                                           │\n",
       "│ ╰──────────────────────┴────────────╯                                                                           │\n",
       "│ ╭────────────────────────────────────────────────────────────────────────────────────────────╮                  │\n",
       "│ │\u001b[1m \u001b[0m\u001b[1mLinks\u001b[0m\u001b[1m: 🏠 Homepage 📄 Primary Document 📜 Full Submission Text                            \u001b[0m\u001b[1m \u001b[0m│                  │\n",
       "│ ├────────────────────────────────────────────────────────────────────────────────────────────┤                  │\n",
       "│ │ 🏠 https://sec.gov/Archives/edgar/data/1387467/0001387467-24-000073-index.html             │                  │\n",
       "│ │ 📄 https://sec.gov/Archives/edgar/data/1387467/000138746724000073/aosl-20240630.htm        │                  │\n",
       "│ │ 📜 https://sec.gov/Archives/edgar/data/1387467/000138746724000073/0001387467-24-000073.txt │                  │\n",
       "│ ╰────────────────────────────────────────────────────────────────────────────────────────────╯                  │\n",
       "╰───────────────────────────────── Form 10-K: Annual report for public companies ─────────────────────────────────╯"
      ]
     },
     "execution_count": 5,
     "metadata": {},
     "output_type": "execute_result"
    }
   ],
   "source": [
    "filing = filings[0]\n",
    "filing"
   ]
  }
 ],
 "metadata": {
  "kernelspec": {
   "display_name": "Python 3 (ipykernel)",
   "language": "python",
   "name": "python3"
  },
  "language_info": {
   "codemirror_mode": {
    "name": "ipython",
    "version": 3
   },
   "file_extension": ".py",
   "mimetype": "text/x-python",
   "name": "python",
   "nbconvert_exporter": "python",
   "pygments_lexer": "ipython3",
   "version": "3.11.6"
  }
 },
 "nbformat": 4,
 "nbformat_minor": 5
}

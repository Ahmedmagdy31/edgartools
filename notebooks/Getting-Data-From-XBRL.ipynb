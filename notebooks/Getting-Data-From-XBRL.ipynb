{
 "cells": [
  {
   "cell_type": "markdown",
   "id": "0995a262-7141-4a35-bf45-e7280f21885f",
   "metadata": {},
   "source": [
    "# Getting Filing XBRL Data"
   ]
  },
  {
   "cell_type": "markdown",
   "id": "8fde2744-72c3-4cc4-b6cc-cdeb7d803455",
   "metadata": {},
   "source": [
    "[![Open In Colab](https://colab.research.google.com/assets/colab-badge.svg)](https://colab.research.google.com/github/googlecolab/colabtools/blob/master/notebooks/colab-github-demo.ipynb)"
   ]
  },
  {
   "cell_type": "markdown",
   "id": "e1d009c9-220c-4242-97af-f57cfb1054ea",
   "metadata": {},
   "source": [
    "## Install edgartools"
   ]
  },
  {
   "cell_type": "code",
   "execution_count": null,
   "id": "6edccaa6-5b20-4320-a59f-50b982098788",
   "metadata": {},
   "outputs": [],
   "source": [
    "!pip install edgartools"
   ]
  },
  {
   "cell_type": "code",
   "execution_count": 1,
   "id": "4af733a3-1c0c-4c6a-aeec-b7ae99d870bc",
   "metadata": {},
   "outputs": [],
   "source": [
    "import sys\n",
    "if not '..' in sys.path:\n",
    "    sys.path.append('..')"
   ]
  },
  {
   "cell_type": "markdown",
   "id": "54fb7dce-cd50-4169-815a-54799fbae1d2",
   "metadata": {},
   "source": [
    "## Import edgar"
   ]
  },
  {
   "cell_type": "code",
   "execution_count": 2,
   "id": "7ff5a292-66ef-4b57-ae7d-6929d212c332",
   "metadata": {},
   "outputs": [
    {
     "data": {
      "text/html": [
       "<pre style=\"white-space:pre;overflow-x:auto;line-height:normal;font-family:Menlo,'DejaVu Sans Mono',consolas,'Courier New',monospace\"><span style=\"color: #7fbfbf; text-decoration-color: #7fbfbf\">[22:45:10] </span><span style=\"color: #000080; text-decoration-color: #000080\">INFO    </span> Identity of the Edgar REST client set to <span style=\"font-weight: bold\">[</span>My Name mname@gmail.com<span style=\"font-weight: bold\">]</span>                  <a href=\"file:///Users/dwight/PycharmProjects/edgartools/notebooks/../edgar/core.py\" target=\"_blank\"><span style=\"color: #7f7f7f; text-decoration-color: #7f7f7f\">core.py</span></a><span style=\"color: #7f7f7f; text-decoration-color: #7f7f7f\">:</span><a href=\"file:///Users/dwight/PycharmProjects/edgartools/notebooks/../edgar/core.py#158\" target=\"_blank\"><span style=\"color: #7f7f7f; text-decoration-color: #7f7f7f\">158</span></a>\n",
       "</pre>\n"
      ],
      "text/plain": [
       "\u001b[2;36m[22:45:10]\u001b[0m\u001b[2;36m \u001b[0m\u001b[34mINFO    \u001b[0m Identity of the Edgar REST client set to \u001b[1m[\u001b[0mMy Name mname@gmail.com\u001b[1m]\u001b[0m                  \u001b]8;id=425055;file:///Users/dwight/PycharmProjects/edgartools/notebooks/../edgar/core.py\u001b\\\u001b[2mcore.py\u001b[0m\u001b]8;;\u001b\\\u001b[2m:\u001b[0m\u001b]8;id=379854;file:///Users/dwight/PycharmProjects/edgartools/notebooks/../edgar/core.py#158\u001b\\\u001b[2m158\u001b[0m\u001b]8;;\u001b\\\n"
      ]
     },
     "metadata": {},
     "output_type": "display_data"
    }
   ],
   "source": [
    "from edgar import *\n",
    "\n",
    "set_identity(\"My Name mname@gmail.com\")"
   ]
  },
  {
   "cell_type": "markdown",
   "id": "d8668b2c-4dce-480d-9806-ad5588b0fa4c",
   "metadata": {},
   "source": [
    "## Getting a filing with XBRL"
   ]
  },
  {
   "cell_type": "code",
   "execution_count": 3,
   "id": "943cb51e-4c2f-4326-b3b7-2f19c3ff0559",
   "metadata": {},
   "outputs": [],
   "source": [
    "from edgar.xbrl import *"
   ]
  },
  {
   "cell_type": "code",
   "execution_count": 4,
   "id": "1261ef8f-b77a-4847-a5a2-848e2cbc4f8a",
   "metadata": {},
   "outputs": [],
   "source": [
    "filing = Company(\"AAPL\").get_filings(form=\"10-Q\").latest(1)\n",
    "filing\n",
    "filing: Filing = Filing(company='Apple Inc.', cik=320193, form='10-K', filing_date='2023-11-03',\n",
    "                            accession_no='0000320193-23-000106')"
   ]
  },
  {
   "cell_type": "code",
   "execution_count": 5,
   "id": "eb6c6483-e4d1-47fb-9ead-b22ad4f7dc95",
   "metadata": {},
   "outputs": [
    {
     "data": {
      "text/html": [
       "<pre style=\"white-space:pre;overflow-x:auto;line-height:normal;font-family:Menlo,'DejaVu Sans Mono',consolas,'Courier New',monospace\"></pre>\n"
      ],
      "text/plain": []
     },
     "metadata": {},
     "output_type": "display_data"
    },
    {
     "data": {
      "text/plain": [
       "╭─────────────────────────────────────────── XBRL Data for \u001b[1;38;5;32mApple Inc. \u001b[0m ───────────────────────────────────────────╮\n",
       "│ \u001b[3m              XBRL Instance Document              \u001b[0m                                                              │\n",
       "│ ╭────────────┬─────────────────┬─────────────────╮                                                              │\n",
       "│ │\u001b[1m \u001b[0m\u001b[1mCompany   \u001b[0m\u001b[1m \u001b[0m│\u001b[1m \u001b[0m\u001b[1mNumber of Facts\u001b[0m\u001b[1m \u001b[0m│\u001b[1m \u001b[0m\u001b[1mDocument Period\u001b[0m\u001b[1m \u001b[0m│                                                              │\n",
       "│ ├────────────┼─────────────────┼─────────────────┤                                                              │\n",
       "│ │ Apple Inc. │ 1,164           │ 2023-09-30      │                                                              │\n",
       "│ ╰────────────┴─────────────────┴─────────────────╯                                                              │\n",
       "│ ╭────┬────────────────────────────────────────────────────────────────────────────────────────────────────────╮ │\n",
       "│ │\u001b[1m \u001b[0m\u001b[1m  \u001b[0m\u001b[1m \u001b[0m│\u001b[1m \u001b[0m\u001b[1mStatements                                                                                            \u001b[0m\u001b[1m \u001b[0m│ │\n",
       "│ ├────┼────────────────────────────────────────────────────────────────────────────────────────────────────────┤ │\n",
       "│ │ 0  │ \u001b[38;5;32mCover\u001b[0m\u001b[38;5;160mPage\u001b[0m                                                                                              │ │\n",
       "│ │ 1  │ \u001b[38;5;32mAuditor\u001b[0m\u001b[38;5;160mInformation\u001b[0m                                                                                     │ │\n",
       "│ │ 2  │ \u001b[38;5;32mCONSOLIDATEDSTATEMENTSOFOPERATIONS\u001b[0m                                                                     │ │\n",
       "│ │ 3  │ \u001b[38;5;32mCONSOLIDATEDSTATEMENTSOFCOMPREHENSIVEINCOME\u001b[0m                                                            │ │\n",
       "│ │ 4  │ \u001b[38;5;32mCONSOLIDATEDBALANCESHEETS\u001b[0m                                                                              │ │\n",
       "│ │ 5  │ \u001b[38;5;32mCONSOLIDATEDBALANCESHEETS\u001b[0m\u001b[38;5;160mParenthetical\u001b[0m                                                                 │ │\n",
       "│ │ 6  │ \u001b[38;5;32mCONSOLIDATEDSTATEMENTSOFSHAREHOLDERSEQUITY\u001b[0m                                                             │ │\n",
       "│ │ 7  │ \u001b[38;5;32mCONSOLIDATEDSTATEMENTSOFCASHFLOWS\u001b[0m                                                                      │ │\n",
       "│ │ 8  │ \u001b[38;5;32mSummaryof\u001b[0m\u001b[38;5;160mSignificant\u001b[0m\u001b[38;5;71mAccounting\u001b[0m\u001b[38;5;32mPolicies\u001b[0m                                                                 │ │\n",
       "│ │ 9  │ \u001b[38;5;32mRevenue\u001b[0m                                                                                                │ │\n",
       "│ │ 10 │ \u001b[38;5;32mEarnings\u001b[0m\u001b[38;5;160mPer\u001b[0m\u001b[38;5;71mShare\u001b[0m                                                                                       │ │\n",
       "│ │ 11 │ \u001b[38;5;32mFinancial\u001b[0m\u001b[38;5;160mInstruments\u001b[0m                                                                                   │ │\n",
       "│ │ 12 │ \u001b[38;5;32mProperty\u001b[0m\u001b[38;5;160mPlantand\u001b[0m\u001b[38;5;71mEquipment\u001b[0m                                                                              │ │\n",
       "│ │ 13 │ \u001b[38;5;32mConsolidated\u001b[0m\u001b[38;5;160mFinancial\u001b[0m\u001b[38;5;71mStatement\u001b[0m\u001b[38;5;32mDetails\u001b[0m                                                                  │ │\n",
       "│ │ 14 │ \u001b[38;5;32mIncome\u001b[0m\u001b[38;5;160mTaxes\u001b[0m                                                                                            │ │\n",
       "│ │ 15 │ \u001b[38;5;32mLeases\u001b[0m                                                                                                 │ │\n",
       "│ │ 16 │ \u001b[38;5;32mDebt\u001b[0m                                                                                                   │ │\n",
       "│ │ 17 │ \u001b[38;5;32mShareholders\u001b[0m\u001b[38;5;160mEquity\u001b[0m                                                                                     │ │\n",
       "│ │ 18 │ \u001b[38;5;32mShare\u001b[0m\u001b[38;5;160mBased\u001b[0m\u001b[38;5;71mCompensation\u001b[0m                                                                                 │ │\n",
       "│ │ 19 │ \u001b[38;5;32mCommitments\u001b[0m\u001b[38;5;160mContingenciesand\u001b[0m\u001b[38;5;71mSupply\u001b[0m\u001b[38;5;32mConcentrations\u001b[0m                                                        │ │\n",
       "│ │ 20 │ \u001b[38;5;32mSegment\u001b[0m\u001b[38;5;160mInformationand\u001b[0m\u001b[38;5;71mGeographic\u001b[0m\u001b[38;5;32mData\u001b[0m                                                                    │ │\n",
       "│ │ 21 │ \u001b[38;5;32mSummaryof\u001b[0m\u001b[38;5;160mSignificant\u001b[0m\u001b[38;5;71mAccounting\u001b[0m\u001b[38;5;32mPolicies\u001b[0m\u001b[38;5;160mPolicies\u001b[0m                                                         │ │\n",
       "│ │ 22 │ \u001b[38;5;32mRevenue\u001b[0m\u001b[38;5;160mTables\u001b[0m                                                                                          │ │\n",
       "│ │ 23 │ \u001b[38;5;32mEarnings\u001b[0m\u001b[38;5;160mPer\u001b[0m\u001b[38;5;71mShare\u001b[0m\u001b[38;5;32mTables\u001b[0m                                                                                 │ │\n",
       "│ │ 24 │ \u001b[38;5;32mFinancial\u001b[0m\u001b[38;5;160mInstruments\u001b[0m\u001b[38;5;71mTables\u001b[0m                                                                             │ │\n",
       "│ │ 25 │ \u001b[38;5;32mProperty\u001b[0m\u001b[38;5;160mPlantand\u001b[0m\u001b[38;5;71mEquipment\u001b[0m\u001b[38;5;32mTables\u001b[0m                                                                        │ │\n",
       "│ │ 26 │ \u001b[38;5;32mConsolidated\u001b[0m\u001b[38;5;160mFinancial\u001b[0m\u001b[38;5;71mStatement\u001b[0m\u001b[38;5;32mDetails\u001b[0m\u001b[38;5;160mTables\u001b[0m                                                            │ │\n",
       "│ │ 27 │ \u001b[38;5;32mIncome\u001b[0m\u001b[38;5;160mTaxes\u001b[0m\u001b[38;5;71mTables\u001b[0m                                                                                      │ │\n",
       "│ │ 28 │ \u001b[38;5;32mLeases\u001b[0m\u001b[38;5;160mTables\u001b[0m                                                                                           │ │\n",
       "│ │ 29 │ \u001b[38;5;32mDebt\u001b[0m\u001b[38;5;160mTables\u001b[0m                                                                                             │ │\n",
       "│ │ 30 │ \u001b[38;5;32mShareholders\u001b[0m\u001b[38;5;160mEquity\u001b[0m\u001b[38;5;71mTables\u001b[0m                                                                               │ │\n",
       "│ │ 31 │ \u001b[38;5;32mShare\u001b[0m\u001b[38;5;160mBased\u001b[0m\u001b[38;5;71mCompensation\u001b[0m\u001b[38;5;32mTables\u001b[0m                                                                           │ │\n",
       "│ │ 32 │ \u001b[38;5;32mCommitments\u001b[0m\u001b[38;5;160mContingenciesand\u001b[0m\u001b[38;5;71mSupply\u001b[0m\u001b[38;5;32mConcentrations\u001b[0m\u001b[38;5;160mTables\u001b[0m                                                  │ │\n",
       "│ │ 33 │ \u001b[38;5;32mSegment\u001b[0m\u001b[38;5;160mInformationand\u001b[0m\u001b[38;5;71mGeographic\u001b[0m\u001b[38;5;32mData\u001b[0m\u001b[38;5;160mTables\u001b[0m                                                              │ │\n",
       "│ │ 34 │ \u001b[38;5;32mRevenue\u001b[0m\u001b[38;5;160mAdditional\u001b[0m\u001b[38;5;71mInformation\u001b[0m\u001b[38;5;32mDetails\u001b[0m                                                                    │ │\n",
       "│ │ 35 │ \u001b[38;5;32mRevenue\u001b[0m\u001b[38;5;160mNet\u001b[0m\u001b[38;5;71mSales\u001b[0m\u001b[38;5;32mDisaggregatedby\u001b[0m\u001b[38;5;160mSignificant\u001b[0m\u001b[38;5;71mProductsand\u001b[0m\u001b[38;5;32mServices\u001b[0m\u001b[38;5;160mDetails\u001b[0m                                    │ │\n",
       "│ │ 36 │ \u001b[38;5;32mRevenue\u001b[0m\u001b[38;5;160mDeferred\u001b[0m\u001b[38;5;71mRevenue\u001b[0m\u001b[38;5;32mExpected\u001b[0m\u001b[38;5;160mTimingof\u001b[0m\u001b[38;5;71mRealization\u001b[0m\u001b[38;5;32mDetails\u001b[0m                                               │ │\n",
       "│ │ 37 │ \u001b[38;5;32mEarnings\u001b[0m\u001b[38;5;160mPer\u001b[0m\u001b[38;5;71mShare\u001b[0m\u001b[38;5;32mComputationof\u001b[0m\u001b[38;5;160mBasicand\u001b[0m\u001b[38;5;71mDiluted\u001b[0m\u001b[38;5;32mEarnings\u001b[0m\u001b[38;5;160mPer\u001b[0m\u001b[38;5;71mShare\u001b[0m\u001b[38;5;32mDetails\u001b[0m                                    │ │\n",
       "│ │ 38 │ \u001b[38;5;32mEarnings\u001b[0m\u001b[38;5;160mPer\u001b[0m\u001b[38;5;71mShare\u001b[0m\u001b[38;5;32mAdditional\u001b[0m\u001b[38;5;160mInformation\u001b[0m\u001b[38;5;71mDetails\u001b[0m                                                           │ │\n",
       "│ │ 39 │ \u001b[38;5;32mFinancial\u001b[0m\u001b[38;5;160mInstruments\u001b[0m\u001b[38;5;71mCash\u001b[0m\u001b[38;5;32mCash\u001b[0m\u001b[38;5;160mEquivalentsand\u001b[0m\u001b[38;5;71mMarketable\u001b[0m\u001b[38;5;32mSecurities\u001b[0m\u001b[38;5;160mDetails\u001b[0m                                  │ │\n",
       "│ │ 40 │ \u001b[38;5;32mFinancial\u001b[0m\u001b[38;5;160mInstruments\u001b[0m\u001b[38;5;71mNon\u001b[0m\u001b[38;5;32mCurrent\u001b[0m\u001b[38;5;160mMarketable\u001b[0m\u001b[38;5;71mDebt\u001b[0m\u001b[38;5;32mSecuritiesby\u001b[0m\u001b[38;5;160mContractual\u001b[0m\u001b[38;5;71mMaturity\u001b[0m\u001b[38;5;32mDetails\u001b[0m                     │ │\n",
       "│ │ 41 │ \u001b[38;5;32mFinancial\u001b[0m\u001b[38;5;160mInstruments\u001b[0m\u001b[38;5;71mAdditional\u001b[0m\u001b[38;5;32mInformation\u001b[0m\u001b[38;5;160mDetails\u001b[0m                                                       │ │\n",
       "│ │ 42 │ \u001b[38;5;32mFinancial\u001b[0m\u001b[38;5;160mInstruments\u001b[0m\u001b[38;5;71mNotional\u001b[0m\u001b[38;5;32mAmounts\u001b[0m\u001b[38;5;160mAssociatedwith\u001b[0m\u001b[38;5;71mDerivative\u001b[0m\u001b[38;5;32mInstruments\u001b[0m\u001b[38;5;160mDetails\u001b[0m                          │ │\n",
       "│ │ 43 │ \u001b[38;5;32mFinancial\u001b[0m\u001b[38;5;160mInstruments\u001b[0m\u001b[38;5;71mGross\u001b[0m\u001b[38;5;32mFair\u001b[0m\u001b[38;5;160mValuesof\u001b[0m\u001b[38;5;71mDerivative\u001b[0m\u001b[38;5;32mAssetsand\u001b[0m\u001b[38;5;160mLiabilities\u001b[0m\u001b[38;5;71mDetails\u001b[0m                             │ │\n",
       "│ │ 44 │ \u001b[38;5;32mFinancial\u001b[0m\u001b[38;5;160mInstruments\u001b[0m\u001b[38;5;71mDerivative\u001b[0m\u001b[38;5;32mInstruments\u001b[0m\u001b[38;5;160mDesignatedas\u001b[0m\u001b[38;5;71mFair\u001b[0m\u001b[38;5;32mValue\u001b[0m\u001b[38;5;160mHedgesand\u001b[0m\u001b[38;5;71mRelated\u001b[0m\u001b[38;5;32mHedged\u001b[0m\u001b[38;5;160mItems\u001b[0m\u001b[38;5;71mDetails\u001b[0m       │ │\n",
       "│ │ 45 │ \u001b[38;5;32mProperty\u001b[0m\u001b[38;5;160mPlantand\u001b[0m\u001b[38;5;71mEquipment\u001b[0m\u001b[38;5;32mGross\u001b[0m\u001b[38;5;160mProperty\u001b[0m\u001b[38;5;71mPlantand\u001b[0m\u001b[38;5;32mEquipmentby\u001b[0m\u001b[38;5;160mMajor\u001b[0m\u001b[38;5;71mAsset\u001b[0m\u001b[38;5;32mClassand\u001b[0m\u001b[38;5;160mAccumulated\u001b[0m\u001b[38;5;71mDepreciation\u001b[0m\u001b[38;5;32mDet…\u001b[0m │ │\n",
       "│ │ 46 │ \u001b[38;5;32mProperty\u001b[0m\u001b[38;5;160mPlantand\u001b[0m\u001b[38;5;71mEquipment\u001b[0m\u001b[38;5;32mAdditional\u001b[0m\u001b[38;5;160mInformation\u001b[0m\u001b[38;5;71mDetails\u001b[0m                                                  │ │\n",
       "│ │ 47 │ \u001b[38;5;32mConsolidated\u001b[0m\u001b[38;5;160mFinancial\u001b[0m\u001b[38;5;71mStatement\u001b[0m\u001b[38;5;32mDetails\u001b[0m\u001b[38;5;160mOther\u001b[0m\u001b[38;5;71mNon\u001b[0m\u001b[38;5;32mCurrent\u001b[0m\u001b[38;5;160mAssets\u001b[0m\u001b[38;5;71mDetails\u001b[0m                                      │ │\n",
       "│ │ 48 │ \u001b[38;5;32mConsolidated\u001b[0m\u001b[38;5;160mFinancial\u001b[0m\u001b[38;5;71mStatement\u001b[0m\u001b[38;5;32mDetails\u001b[0m\u001b[38;5;160mOther\u001b[0m\u001b[38;5;71mCurrent\u001b[0m\u001b[38;5;32mLiabilities\u001b[0m\u001b[38;5;160mDetails\u001b[0m                                    │ │\n",
       "│ │ 49 │ \u001b[38;5;32mConsolidated\u001b[0m\u001b[38;5;160mFinancial\u001b[0m\u001b[38;5;71mStatement\u001b[0m\u001b[38;5;32mDetails\u001b[0m\u001b[38;5;160mOther\u001b[0m\u001b[38;5;71mNon\u001b[0m\u001b[38;5;32mCurrent\u001b[0m\u001b[38;5;160mLiabilities\u001b[0m\u001b[38;5;71mDetails\u001b[0m                                 │ │\n",
       "│ │ 50 │ \u001b[38;5;32mConsolidated\u001b[0m\u001b[38;5;160mFinancial\u001b[0m\u001b[38;5;71mStatement\u001b[0m\u001b[38;5;32mDetails\u001b[0m\u001b[38;5;160mOther\u001b[0m\u001b[38;5;71mIncome\u001b[0m\u001b[38;5;32mExpense\u001b[0m\u001b[38;5;160mNet\u001b[0m\u001b[38;5;71mDetails\u001b[0m                                      │ │\n",
       "│ │ 51 │ \u001b[38;5;32mIncome\u001b[0m\u001b[38;5;160mTaxes\u001b[0m\u001b[38;5;71mProvisionfor\u001b[0m\u001b[38;5;32mIncome\u001b[0m\u001b[38;5;160mTaxes\u001b[0m\u001b[38;5;71mDetails\u001b[0m                                                              │ │\n",
       "│ │ 52 │ \u001b[38;5;32mIncome\u001b[0m\u001b[38;5;160mTaxes\u001b[0m\u001b[38;5;71mAdditional\u001b[0m\u001b[38;5;32mInformation\u001b[0m\u001b[38;5;160mDetails\u001b[0m                                                                │ │\n",
       "│ │ 53 │ \u001b[38;5;32mIncome\u001b[0m\u001b[38;5;160mTaxes\u001b[0m\u001b[38;5;71mReconciliationof\u001b[0m\u001b[38;5;32mProvisionfor\u001b[0m\u001b[38;5;160mIncome\u001b[0m\u001b[38;5;71mTaxesto\u001b[0m\u001b[38;5;32mAmount\u001b[0m\u001b[38;5;160mComputedby\u001b[0m\u001b[38;5;71mApplyingthe\u001b[0m\u001b[38;5;32mStatutory\u001b[0m\u001b[38;5;160mFederal\u001b[0m\u001b[38;5;71mIncome\u001b[0m\u001b[38;5;32m…\u001b[0m │ │\n",
       "│ │ 54 │ \u001b[38;5;32mIncome\u001b[0m\u001b[38;5;160mTaxes\u001b[0m\u001b[38;5;71mSignificant\u001b[0m\u001b[38;5;32mComponentsof\u001b[0m\u001b[38;5;160mDeferred\u001b[0m\u001b[38;5;71mTax\u001b[0m\u001b[38;5;32mAssetsand\u001b[0m\u001b[38;5;160mLiabilities\u001b[0m\u001b[38;5;71mDetails\u001b[0m                               │ │\n",
       "│ │ 55 │ \u001b[38;5;32mIncome\u001b[0m\u001b[38;5;160mTaxes\u001b[0m\u001b[38;5;71mAggregate\u001b[0m\u001b[38;5;32mChangesin\u001b[0m\u001b[38;5;160mGross\u001b[0m\u001b[38;5;71mUnrecognized\u001b[0m\u001b[38;5;32mTax\u001b[0m\u001b[38;5;160mBenefits\u001b[0m\u001b[38;5;71mDetails\u001b[0m                                       │ │\n",
       "│ │ 56 │ \u001b[38;5;32mLeases\u001b[0m\u001b[38;5;160mAdditional\u001b[0m\u001b[38;5;71mInformation\u001b[0m\u001b[38;5;32mDetails\u001b[0m                                                                     │ │\n",
       "│ │ 57 │ \u001b[38;5;32mLeases\u001b[0m\u001b[38;5;160mROU\u001b[0m\u001b[38;5;71mAssetsand\u001b[0m\u001b[38;5;32mLease\u001b[0m\u001b[38;5;160mLiabilities\u001b[0m\u001b[38;5;71mDetails\u001b[0m                                                              │ │\n",
       "│ │ 58 │ \u001b[38;5;32mLeases\u001b[0m\u001b[38;5;160mLease\u001b[0m\u001b[38;5;71mLiability\u001b[0m\u001b[38;5;32mMaturities\u001b[0m\u001b[38;5;160mDetails\u001b[0m                                                                  │ │\n",
       "│ │ 59 │ \u001b[38;5;32mDebt\u001b[0m\u001b[38;5;160mAdditional\u001b[0m\u001b[38;5;71mInformation\u001b[0m\u001b[38;5;32mDetails\u001b[0m                                                                       │ │\n",
       "│ │ 60 │ \u001b[38;5;32mDebt\u001b[0m\u001b[38;5;160mSummaryof\u001b[0m\u001b[38;5;71mCash\u001b[0m\u001b[38;5;32mFlows\u001b[0m\u001b[38;5;160mAssociatedwith\u001b[0m\u001b[38;5;71mCommercial\u001b[0m\u001b[38;5;32mPaper\u001b[0m\u001b[38;5;160mDetails\u001b[0m                                             │ │\n",
       "│ │ 61 │ \u001b[38;5;32mDebt\u001b[0m\u001b[38;5;160mSummaryof\u001b[0m\u001b[38;5;71mTerm\u001b[0m\u001b[38;5;32mDebt\u001b[0m\u001b[38;5;160mDetails\u001b[0m                                                                           │ │\n",
       "│ │ 62 │ \u001b[38;5;32mDebt\u001b[0m\u001b[38;5;160mFuture\u001b[0m\u001b[38;5;71mPrincipal\u001b[0m\u001b[38;5;32mPaymentsfor\u001b[0m\u001b[38;5;160mTerm\u001b[0m\u001b[38;5;71mDebt\u001b[0m\u001b[38;5;32mDetails\u001b[0m                                                          │ │\n",
       "│ │ 63 │ \u001b[38;5;32mShareholders\u001b[0m\u001b[38;5;160mEquity\u001b[0m\u001b[38;5;71mAdditional\u001b[0m\u001b[38;5;32mInformation\u001b[0m\u001b[38;5;160mDetails\u001b[0m                                                         │ │\n",
       "│ │ 64 │ \u001b[38;5;32mShareholders\u001b[0m\u001b[38;5;160mEquity\u001b[0m\u001b[38;5;71mSharesof\u001b[0m\u001b[38;5;32mCommon\u001b[0m\u001b[38;5;160mStock\u001b[0m\u001b[38;5;71mDetails\u001b[0m                                                           │ │\n",
       "│ │ 65 │ \u001b[38;5;32mShare\u001b[0m\u001b[38;5;160mBased\u001b[0m\u001b[38;5;71mCompensation\u001b[0m\u001b[38;5;32mAdditional\u001b[0m\u001b[38;5;160mInformation\u001b[0m\u001b[38;5;71mDetails\u001b[0m                                                     │ │\n",
       "│ │ 66 │ \u001b[38;5;32mShare\u001b[0m\u001b[38;5;160mBased\u001b[0m\u001b[38;5;71mCompensation\u001b[0m\u001b[38;5;32mRestricted\u001b[0m\u001b[38;5;160mStock\u001b[0m\u001b[38;5;71mUnit\u001b[0m\u001b[38;5;32mActivityand\u001b[0m\u001b[38;5;160mRelated\u001b[0m\u001b[38;5;71mInformation\u001b[0m\u001b[38;5;32mDetails\u001b[0m                          │ │\n",
       "│ │ 67 │ \u001b[38;5;32mShare\u001b[0m\u001b[38;5;160mBased\u001b[0m\u001b[38;5;71mCompensation\u001b[0m\u001b[38;5;32mSummaryof\u001b[0m\u001b[38;5;160mShare\u001b[0m\u001b[38;5;71mBased\u001b[0m\u001b[38;5;32mCompensation\u001b[0m\u001b[38;5;160mExpenseandthe\u001b[0m\u001b[38;5;71mRelated\u001b[0m\u001b[38;5;32mIncome\u001b[0m\u001b[38;5;160mTax\u001b[0m\u001b[38;5;71mBenefit\u001b[0m\u001b[38;5;32mDetails\u001b[0m       │ │\n",
       "│ │ 68 │ \u001b[38;5;32mCommitments\u001b[0m\u001b[38;5;160mContingenciesand\u001b[0m\u001b[38;5;71mSupply\u001b[0m\u001b[38;5;32mConcentrations\u001b[0m\u001b[38;5;160mFuture\u001b[0m\u001b[38;5;71mPayments\u001b[0m\u001b[38;5;32mUnder\u001b[0m\u001b[38;5;160mUnconditional\u001b[0m\u001b[38;5;71mPurchase\u001b[0m\u001b[38;5;32mObligations\u001b[0m\u001b[38;5;160mDet…\u001b[0m │ │\n",
       "│ │ 69 │ \u001b[38;5;32mSegment\u001b[0m\u001b[38;5;160mInformationand\u001b[0m\u001b[38;5;71mGeographic\u001b[0m\u001b[38;5;32mData\u001b[0m\u001b[38;5;160mInformationby\u001b[0m\u001b[38;5;71mReportable\u001b[0m\u001b[38;5;32mSegment\u001b[0m\u001b[38;5;160mDetails\u001b[0m                               │ │\n",
       "│ │ 70 │ \u001b[38;5;32mSegment\u001b[0m\u001b[38;5;160mInformationand\u001b[0m\u001b[38;5;71mGeographic\u001b[0m\u001b[38;5;32mData\u001b[0m\u001b[38;5;160mReconciliationof\u001b[0m\u001b[38;5;71mSegment\u001b[0m\u001b[38;5;32mOperating\u001b[0m\u001b[38;5;160mIncometothe\u001b[0m\u001b[38;5;71mConsolidated\u001b[0m\u001b[38;5;32mStatementso…\u001b[0m │ │\n",
       "│ │ 71 │ \u001b[38;5;32mSegment\u001b[0m\u001b[38;5;160mInformationand\u001b[0m\u001b[38;5;71mGeographic\u001b[0m\u001b[38;5;32mData\u001b[0m\u001b[38;5;160mNet\u001b[0m\u001b[38;5;71mSales\u001b[0m\u001b[38;5;32mDetails\u001b[0m                                                     │ │\n",
       "│ │ 72 │ \u001b[38;5;32mSegment\u001b[0m\u001b[38;5;160mInformationand\u001b[0m\u001b[38;5;71mGeographic\u001b[0m\u001b[38;5;32mData\u001b[0m\u001b[38;5;160mLong\u001b[0m\u001b[38;5;71mLived\u001b[0m\u001b[38;5;32mAssets\u001b[0m\u001b[38;5;160mDetails\u001b[0m                                              │ │\n",
       "│ │ 73 │ \u001b[38;5;32mAward\u001b[0m\u001b[38;5;160mTiming\u001b[0m\u001b[38;5;71mDisclosure\u001b[0m                                                                                  │ │\n",
       "│ │ 74 │ \u001b[38;5;32mInsider\u001b[0m\u001b[38;5;160mTrading\u001b[0m\u001b[38;5;71mArrangements\u001b[0m                                                                             │ │\n",
       "│ │ 75 │ \u001b[38;5;32mErr\u001b[0m\u001b[38;5;160mComp\u001b[0m\u001b[38;5;71mDisclosure\u001b[0m                                                                                      │ │\n",
       "│ │ 76 │ \u001b[38;5;32mPvp\u001b[0m\u001b[38;5;160mDisclosure\u001b[0m                                                                                          │ │\n",
       "│ │ 77 │ \u001b[38;5;32mInsider\u001b[0m\u001b[38;5;160mTrading\u001b[0m\u001b[38;5;71mPolicies\u001b[0m\u001b[38;5;32mProc\u001b[0m                                                                             │ │\n",
       "│ ╰────┴────────────────────────────────────────────────────────────────────────────────────────────────────────╯ │\n",
       "╰─────────────────────────────────────────────────────────────────────────────────────────────────────────────────╯"
      ]
     },
     "execution_count": 5,
     "metadata": {},
     "output_type": "execute_result"
    }
   ],
   "source": [
    "xbrl_data = XBRLData.extract(filing)\n",
    "xbrl_data"
   ]
  },
  {
   "cell_type": "code",
   "execution_count": 6,
   "id": "18977678-e5dd-48e6-802b-225f35ab48c1",
   "metadata": {},
   "outputs": [],
   "source": [
    "statements = xbrl_data.statements"
   ]
  },
  {
   "cell_type": "markdown",
   "id": "4c9a79de-4bc8-407f-b3a9-f4e813c46a33",
   "metadata": {},
   "source": [
    "## Get the statement by name"
   ]
  },
  {
   "cell_type": "code",
   "execution_count": 7,
   "id": "4a909ac4-6831-42e6-8afc-4b21f5c15e17",
   "metadata": {},
   "outputs": [
    {
     "data": {
      "text/html": [
       "<pre style=\"white-space:pre;overflow-x:auto;line-height:normal;font-family:Menlo,'DejaVu Sans Mono',consolas,'Courier New',monospace\"></pre>\n"
      ],
      "text/plain": []
     },
     "metadata": {},
     "output_type": "display_data"
    },
    {
     "data": {
      "text/plain": [
       "                                                    \u001b[1;38;5;196mApple Inc.\u001b[0m                                                     \n",
       "                                                       \u001b[1mCover\u001b[0m                                                       \n",
       "                                                                                                                   \n",
       " \u001b[1m \u001b[0m\u001b[1m                                                      \u001b[0m\u001b[1m \u001b[0m \u001b[1m \u001b[0m\u001b[1m2023                                                  \u001b[0m\u001b[1m \u001b[0m \n",
       " ───────────────────────────────────────────────────────────────────────────────────────────────────────────────── \n",
       "  \u001b[1;38;5;32mCover [Abstract]                                      \u001b[0m                                                           \n",
       "   Entities [Table]                                                                                                \n",
       "    Class of Stock [Axis]                                                                                          \n",
       "     Class of Stock [Domain]                                                                                       \n",
       "      Common Stock, $0.00001 par value per share                                                                   \n",
       "      1.375% Notes due 2024                                                                                        \n",
       "      0.000% Notes due 2025                                                                                        \n",
       "      0.875% Notes due 2025                                                                                        \n",
       "      1.625% Notes due 2026                                                                                        \n",
       "      2.000% Notes due 2027                                                                                        \n",
       "      1.375% Notes due 2029                                                                                        \n",
       "      3.050% Notes due 2029                                                                                        \n",
       "      0.500% Notes due 2031                                                                                        \n",
       "      3.600% Notes due 2042                                                                                        \n",
       "    Entity Information [Line Items]                                                                                \n",
       "     Document Type                                         10-K                                                    \n",
       "     Document Annual Report                                true                                                    \n",
       "     Current Fiscal Year End Date                          --09-30                                                 \n",
       "     Document Period End Date                              2023-09-30                                              \n",
       "     Document Transition Report                            false                                                   \n",
       "     Entity File Number                                    001-36743                                               \n",
       "     Entity Registrant Name                                Apple Inc.                                              \n",
       "     Entity Incorporation, State or Country Code           CA                                                      \n",
       "     Entity Tax Identification Number                      94-2404110                                              \n",
       "     Entity Address, Address Line One                      One Apple Park Way                                      \n",
       "     Entity Address, City or Town                          Cupertino                                               \n",
       "     Entity Address, State or Province                     CA                                                      \n",
       "     Entity Address, Postal Zip Code                       95014                                                   \n",
       "     City Area Code                                        408                                                     \n",
       "     Local Phone Number                                    996-1010                                                \n",
       "     Title of 12(b) Security                               Common Stock, $0.00001 par value per share              \n",
       "     Trading Symbol                                        AAPL                                                    \n",
       "     No Trading Symbol Flag                                true                                                    \n",
       "     Security Exchange Name                                NASDAQ                                                  \n",
       "     Entity Well-known Seasoned Issuer                     Yes                                                     \n",
       "     Entity Voluntary Filers                               No                                                      \n",
       "     Entity Current Reporting Status                       Yes                                                     \n",
       "     Entity Interactive Data Current                       Yes                                                     \n",
       "     Entity Filer Category                                 Large Accelerated Filer                                 \n",
       "     Entity Small Business                                 false                                                   \n",
       "     Entity Emerging Growth Company                        false                                                   \n",
       "     ICFR Auditor Attestation Flag                         true                                                    \n",
       "     Document Financial Statement Error Correction Flag    false                                                   \n",
       "     Entity Shell Company                                  false                                                   \n",
       "     Entity Public Float                                   2591165000000                                           \n",
       "     Entity Common Stock, Shares Outstanding (in shares)   15552752000                                             \n",
       "     Documents Incorporated by Reference                   Portions of the Registrant’s definitive proxy           \n",
       "                                                           statement relating to its 2024 annual meeting of        \n",
       "                                                           shareholders are incorporated by reference into Part    \n",
       "                                                           III of this Annual Report on Form 10-K where            \n",
       "                                                           indicated. The Registrant’s definitive proxy statement  \n",
       "                                                           will be filed with the U.S. Securities and Exchange     \n",
       "                                                           Commission within 120 days after the end of the fiscal  \n",
       "                                                           year to which this report relates.                      \n",
       "     Amendment Flag                                        false                                                   \n",
       "     Document Fiscal Year Focus                            2023                                                    \n",
       "     Document Fiscal Period Focus                          FY                                                      \n",
       "     Entity Central Index Key                              0000320193                                              \n",
       "                                                                                                                   "
      ]
     },
     "execution_count": 7,
     "metadata": {},
     "output_type": "execute_result"
    }
   ],
   "source": [
    "statements['CoverPage']"
   ]
  },
  {
   "cell_type": "markdown",
   "id": "8a30e1eb-1db9-45eb-89fb-4f18a576de91",
   "metadata": {},
   "source": [
    "## Get a statement using the bracket accessor []"
   ]
  },
  {
   "cell_type": "code",
   "execution_count": 9,
   "id": "8ec5d458-a3b1-4fae-85a9-b536b24e84a0",
   "metadata": {},
   "outputs": [
    {
     "data": {
      "text/html": [
       "<pre style=\"white-space:pre;overflow-x:auto;line-height:normal;font-family:Menlo,'DejaVu Sans Mono',consolas,'Courier New',monospace\"></pre>\n"
      ],
      "text/plain": []
     },
     "metadata": {},
     "output_type": "display_data"
    },
    {
     "data": {
      "text/plain": [
       "                                               \u001b[1;38;5;196mApple Inc.\u001b[0m                                                \n",
       "                                            \u001b[1mIncome Statement\u001b[0m                                             \n",
       "                                                                                                         \n",
       " \u001b[1m \u001b[0m\u001b[1m                                               \u001b[0m\u001b[1m \u001b[0m \u001b[1m \u001b[0m\u001b[1m2023           \u001b[0m\u001b[1m \u001b[0m \u001b[1m \u001b[0m\u001b[1m2022           \u001b[0m\u001b[1m \u001b[0m \u001b[1m \u001b[0m\u001b[1m2021           \u001b[0m\u001b[1m \u001b[0m \n",
       " ─────────────────────────────────────────────────────────────────────────────────────────────────────── \n",
       "  \u001b[1;38;5;32mIncome Statement [Abstract]                    \u001b[0m                                                        \n",
       "   Statement [Table]                                                                                     \n",
       "    Product and Service [Axis]                                                                           \n",
       "     Product and Service [Domain]                                                                        \n",
       "      Products                                                                                           \n",
       "      Services                                                                                           \n",
       "    Statement [Line Items]                                                                               \n",
       "     Net sales                                      383,285,000,000   394,328,000,000   365,817,000,000  \n",
       "     Cost of sales                                  214,137,000,000   223,546,000,000   212,981,000,000  \n",
       "     Gross margin                                   169,148,000,000   170,782,000,000   152,836,000,000  \n",
       "  \u001b[1;38;5;32m   Operating expenses:                         \u001b[0m                                                        \n",
       "      Research and development                       29,915,000,000    26,251,000,000    21,914,000,000  \n",
       "      Selling, general and administrative            24,932,000,000    25,094,000,000    21,973,000,000  \n",
       "      Total operating expenses                       54,847,000,000    51,345,000,000    43,887,000,000  \n",
       "     Operating income                               114,301,000,000   119,437,000,000   108,949,000,000  \n",
       "     Other income/(expense), net                       -565,000,000      -334,000,000       258,000,000  \n",
       "     Income before provision for income taxes       113,736,000,000   119,103,000,000   109,207,000,000  \n",
       "     Provision for income taxes                      16,741,000,000    19,300,000,000    14,527,000,000  \n",
       "     Net income                                      96,995,000,000    99,803,000,000    94,680,000,000  \n",
       "  \u001b[1;38;5;32m   Earnings per share:                         \u001b[0m                                                        \n",
       "      Basic (in dollars per share)                             6.16              6.15              5.67  \n",
       "      Diluted (in dollars per share)                           6.13              6.11              5.61  \n",
       "  \u001b[1;38;5;32m   Shares used in computing earnings per share:\u001b[0m                                                        \n",
       "      Basic (in shares)                              15,744,231,000    16,215,963,000    16,701,272,000  \n",
       "      Diluted (in shares)                            15,812,547,000    16,325,819,000    16,864,919,000  \n",
       "                                                                                                         "
      ]
     },
     "execution_count": 9,
     "metadata": {},
     "output_type": "execute_result"
    }
   ],
   "source": [
    "statements['CONSOLIDATEDSTATEMENTSOFOPERATIONS']"
   ]
  },
  {
   "cell_type": "markdown",
   "id": "d9d7106b-6c45-47ce-8898-b2acdb9843a8",
   "metadata": {},
   "source": [
    "## Get the statement by index"
   ]
  },
  {
   "cell_type": "code",
   "execution_count": 8,
   "id": "83910bb3-2fae-4913-b3db-4f145edbac50",
   "metadata": {},
   "outputs": [
    {
     "data": {
      "text/html": [
       "<pre style=\"white-space:pre;overflow-x:auto;line-height:normal;font-family:Menlo,'DejaVu Sans Mono',consolas,'Courier New',monospace\"></pre>\n"
      ],
      "text/plain": []
     },
     "metadata": {},
     "output_type": "display_data"
    },
    {
     "data": {
      "text/plain": [
       "                       \u001b[1;38;5;196mApple Inc.\u001b[0m                        \n",
       "                   \u001b[1mAuditor Information\u001b[0m                   \n",
       "                                                         \n",
       " \u001b[1m \u001b[0m\u001b[1m                              \u001b[0m\u001b[1m \u001b[0m \u001b[1m \u001b[0m\u001b[1m2023                \u001b[0m\u001b[1m \u001b[0m \n",
       " ─────────────────────────────────────────────────────── \n",
       "  \u001b[1;38;5;32mAuditor Information [Abstract]\u001b[0m                         \n",
       "   Auditor Name                    Ernst & Young LLP     \n",
       "   Auditor Location                San Jose, California  \n",
       "   Auditor Firm ID                 42                    \n",
       "                                                         "
      ]
     },
     "execution_count": 8,
     "metadata": {},
     "output_type": "execute_result"
    }
   ],
   "source": [
    "statements[1]"
   ]
  },
  {
   "cell_type": "markdown",
   "id": "82e6554b-ed31-42d7-acd8-9b72588e76d2",
   "metadata": {},
   "source": [
    "## Get the dataframe from the statement"
   ]
  },
  {
   "cell_type": "code",
   "execution_count": 11,
   "id": "379ab41b-6afc-4de6-963e-447dba317dce",
   "metadata": {},
   "outputs": [
    {
     "data": {
      "text/html": [
       "<div>\n",
       "<style scoped>\n",
       "    .dataframe tbody tr th:only-of-type {\n",
       "        vertical-align: middle;\n",
       "    }\n",
       "\n",
       "    .dataframe tbody tr th {\n",
       "        vertical-align: top;\n",
       "    }\n",
       "\n",
       "    .dataframe thead th {\n",
       "        text-align: right;\n",
       "    }\n",
       "</style>\n",
       "<table border=\"1\" class=\"dataframe\">\n",
       "  <thead>\n",
       "    <tr style=\"text-align: right;\">\n",
       "      <th></th>\n",
       "      <th>2023</th>\n",
       "      <th>2022</th>\n",
       "      <th>2021</th>\n",
       "    </tr>\n",
       "    <tr>\n",
       "      <th>label</th>\n",
       "      <th></th>\n",
       "      <th></th>\n",
       "      <th></th>\n",
       "    </tr>\n",
       "  </thead>\n",
       "  <tbody>\n",
       "    <tr>\n",
       "      <th>Statement of Comprehensive Income [Abstract]</th>\n",
       "      <td></td>\n",
       "      <td></td>\n",
       "      <td></td>\n",
       "    </tr>\n",
       "    <tr>\n",
       "      <th>Net income</th>\n",
       "      <td>96995000000</td>\n",
       "      <td>99803000000</td>\n",
       "      <td>94680000000</td>\n",
       "    </tr>\n",
       "    <tr>\n",
       "      <th>Other comprehensive income/(loss):</th>\n",
       "      <td></td>\n",
       "      <td></td>\n",
       "      <td></td>\n",
       "    </tr>\n",
       "    <tr>\n",
       "      <th>Change in foreign currency translation, net of tax</th>\n",
       "      <td>-765000000</td>\n",
       "      <td>-1511000000</td>\n",
       "      <td>501000000</td>\n",
       "    </tr>\n",
       "    <tr>\n",
       "      <th>Change in unrealized gains/losses on derivative instruments, net of tax:</th>\n",
       "      <td></td>\n",
       "      <td></td>\n",
       "      <td></td>\n",
       "    </tr>\n",
       "    <tr>\n",
       "      <th>Change in fair value of derivative instruments</th>\n",
       "      <td>323000000</td>\n",
       "      <td>3212000000</td>\n",
       "      <td>32000000</td>\n",
       "    </tr>\n",
       "    <tr>\n",
       "      <th>Adjustment for net (gains)/losses realized and included in net income</th>\n",
       "      <td>1717000000</td>\n",
       "      <td>1074000000</td>\n",
       "      <td>-1003000000</td>\n",
       "    </tr>\n",
       "    <tr>\n",
       "      <th>Total change in unrealized gains/losses on derivative instruments</th>\n",
       "      <td>-1394000000</td>\n",
       "      <td>2138000000</td>\n",
       "      <td>1035000000</td>\n",
       "    </tr>\n",
       "    <tr>\n",
       "      <th>Change in unrealized gains/losses on marketable debt securities, net of tax:</th>\n",
       "      <td></td>\n",
       "      <td></td>\n",
       "      <td></td>\n",
       "    </tr>\n",
       "    <tr>\n",
       "      <th>Change in fair value of marketable debt securities</th>\n",
       "      <td>1563000000</td>\n",
       "      <td>-12104000000</td>\n",
       "      <td>-694000000</td>\n",
       "    </tr>\n",
       "    <tr>\n",
       "      <th>Adjustment for net (gains)/losses realized and included in net income</th>\n",
       "      <td>1717000000</td>\n",
       "      <td>1074000000</td>\n",
       "      <td>-1003000000</td>\n",
       "    </tr>\n",
       "    <tr>\n",
       "      <th>Total change in unrealized gains/losses on marketable debt securities</th>\n",
       "      <td>1816000000</td>\n",
       "      <td>-11899000000</td>\n",
       "      <td>-967000000</td>\n",
       "    </tr>\n",
       "    <tr>\n",
       "      <th>Total other comprehensive income/(loss)</th>\n",
       "      <td>-343000000</td>\n",
       "      <td>-11272000000</td>\n",
       "      <td>569000000</td>\n",
       "    </tr>\n",
       "    <tr>\n",
       "      <th>Total comprehensive income</th>\n",
       "      <td>96652000000</td>\n",
       "      <td>88531000000</td>\n",
       "      <td>95249000000</td>\n",
       "    </tr>\n",
       "  </tbody>\n",
       "</table>\n",
       "</div>"
      ],
      "text/plain": [
       "                                                           2023          2022  \\\n",
       "label                                                                           \n",
       "Statement of Comprehensive Income [Abstract]                                    \n",
       "Net income                                          96995000000   99803000000   \n",
       "Other comprehensive income/(loss):                                              \n",
       "Change in foreign currency translation, net of tax   -765000000   -1511000000   \n",
       "Change in unrealized gains/losses on derivative...                              \n",
       "Change in fair value of derivative instruments        323000000    3212000000   \n",
       "Adjustment for net (gains)/losses realized and ...   1717000000    1074000000   \n",
       "Total change in unrealized gains/losses on deri...  -1394000000    2138000000   \n",
       "Change in unrealized gains/losses on marketable...                              \n",
       "Change in fair value of marketable debt securities   1563000000  -12104000000   \n",
       "Adjustment for net (gains)/losses realized and ...   1717000000    1074000000   \n",
       "Total change in unrealized gains/losses on mark...   1816000000  -11899000000   \n",
       "Total other comprehensive income/(loss)              -343000000  -11272000000   \n",
       "Total comprehensive income                          96652000000   88531000000   \n",
       "\n",
       "                                                           2021  \n",
       "label                                                            \n",
       "Statement of Comprehensive Income [Abstract]                     \n",
       "Net income                                          94680000000  \n",
       "Other comprehensive income/(loss):                               \n",
       "Change in foreign currency translation, net of tax    501000000  \n",
       "Change in unrealized gains/losses on derivative...               \n",
       "Change in fair value of derivative instruments         32000000  \n",
       "Adjustment for net (gains)/losses realized and ...  -1003000000  \n",
       "Total change in unrealized gains/losses on deri...   1035000000  \n",
       "Change in unrealized gains/losses on marketable...               \n",
       "Change in fair value of marketable debt securities   -694000000  \n",
       "Adjustment for net (gains)/losses realized and ...  -1003000000  \n",
       "Total change in unrealized gains/losses on mark...   -967000000  \n",
       "Total other comprehensive income/(loss)               569000000  \n",
       "Total comprehensive income                          95249000000  "
      ]
     },
     "execution_count": 11,
     "metadata": {},
     "output_type": "execute_result"
    }
   ],
   "source": [
    "statements['CONSOLIDATEDSTATEMENTSOFCOMPREHENSIVEINCOME'].get_dataframe()"
   ]
  },
  {
   "cell_type": "markdown",
   "id": "027ce053-4f53-4ba3-b813-fe7729fc5e9c",
   "metadata": {},
   "source": [
    "## Concepts"
   ]
  },
  {
   "cell_type": "code",
   "execution_count": 12,
   "id": "2b86dad1-24cc-486f-876a-0e7edf1b79be",
   "metadata": {},
   "outputs": [
    {
     "data": {
      "text/plain": [
       "['us-gaap_StatementOfIncomeAndComprehensiveIncomeAbstract',\n",
       " 'us-gaap_NetIncomeLoss',\n",
       " 'us-gaap_ComprehensiveIncomeNetOfTaxAbstract',\n",
       " 'us-gaap_OtherComprehensiveIncomeLossForeignCurrencyTransactionAndTranslationAdjustmentNetOfTax',\n",
       " 'us-gaap_OtherComprehensiveIncomeDerivativesQualifyingAsHedgesNetOfTaxPeriodIncreaseDecreaseAbstract',\n",
       " 'aapl_OtherComprehensiveIncomeLossDerivativeInstrumentGainLossbeforeReclassificationafterTax',\n",
       " 'us-gaap_OtherComprehensiveIncomeLossReclassificationAdjustmentFromAOCIForSaleOfSecuritiesNetOfTax',\n",
       " 'aapl_OtherComprehensiveIncomeLossDerivativeInstrumentGainLossafterReclassificationandTax',\n",
       " 'us-gaap_OtherComprehensiveIncomeAvailableForSaleSecuritiesAdjustmentNetOfTaxPeriodIncreaseDecreaseAbstract',\n",
       " 'us-gaap_OtherComprehensiveIncomeUnrealizedHoldingGainLossOnSecuritiesArisingDuringPeriodNetOfTax',\n",
       " 'us-gaap_OtherComprehensiveIncomeLossReclassificationAdjustmentFromAOCIForSaleOfSecuritiesNetOfTax',\n",
       " 'us-gaap_OtherComprehensiveIncomeLossAvailableForSaleSecuritiesAdjustmentNetOfTax',\n",
       " 'us-gaap_OtherComprehensiveIncomeLossNetOfTaxPortionAttributableToParent',\n",
       " 'us-gaap_ComprehensiveIncomeNetOfTax']"
      ]
     },
     "execution_count": 12,
     "metadata": {},
     "output_type": "execute_result"
    }
   ],
   "source": [
    "statement = statements['CONSOLIDATEDSTATEMENTSOFCOMPREHENSIVEINCOME']\n",
    "statement.concepts"
   ]
  },
  {
   "cell_type": "markdown",
   "id": "707f0354-8c7a-4071-8bf9-27d620ba2c3c",
   "metadata": {},
   "source": [
    "## Labels"
   ]
  },
  {
   "cell_type": "code",
   "execution_count": 13,
   "id": "c28b1af7-e6fa-42bb-8fc9-fd8dc02714b8",
   "metadata": {},
   "outputs": [
    {
     "data": {
      "text/plain": [
       "['Statement of Comprehensive Income [Abstract]',\n",
       " 'Net income',\n",
       " 'Other comprehensive income/(loss):',\n",
       " 'Change in foreign currency translation, net of tax',\n",
       " 'Change in unrealized gains/losses on derivative instruments, net of tax:',\n",
       " 'Change in fair value of derivative instruments',\n",
       " 'Adjustment for net (gains)/losses realized and included in net income',\n",
       " 'Total change in unrealized gains/losses on derivative instruments',\n",
       " 'Change in unrealized gains/losses on marketable debt securities, net of tax:',\n",
       " 'Change in fair value of marketable debt securities',\n",
       " 'Adjustment for net (gains)/losses realized and included in net income',\n",
       " 'Total change in unrealized gains/losses on marketable debt securities',\n",
       " 'Total other comprehensive income/(loss)',\n",
       " 'Total comprehensive income']"
      ]
     },
     "execution_count": 13,
     "metadata": {},
     "output_type": "execute_result"
    }
   ],
   "source": [
    "statement.labels"
   ]
  },
  {
   "cell_type": "code",
   "execution_count": 19,
   "id": "88f9baff-0283-4a85-afd8-1e143c267557",
   "metadata": {},
   "outputs": [
    {
     "data": {
      "text/plain": [
       "'96995000000'"
      ]
     },
     "execution_count": 19,
     "metadata": {},
     "output_type": "execute_result"
    }
   ],
   "source": [
    "statement.get_concept('us-gaap:NetIncomeLoss').value.get('2023')"
   ]
  }
 ],
 "metadata": {
  "kernelspec": {
   "display_name": "edgartools",
   "language": "python",
   "name": "edgartools"
  },
  "language_info": {
   "codemirror_mode": {
    "name": "ipython",
    "version": 3
   },
   "file_extension": ".py",
   "mimetype": "text/x-python",
   "name": "python",
   "nbconvert_exporter": "python",
   "pygments_lexer": "ipython3",
   "version": "3.11.6"
  }
 },
 "nbformat": 4,
 "nbformat_minor": 5
}

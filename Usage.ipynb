{
 "cells": [
  {
   "cell_type": "markdown",
   "id": "0b65ef79",
   "metadata": {},
   "source": [
    "# Usage\n",
    "<hr/>\n",
    "\n",
    "<a target=\"_blank\" href=\"https://colab.research.google.com/github/dgunning/edgartools/blob/main/Usage.ipynb\">\n",
    "  <img src=\"https://colab.research.google.com/assets/colab-badge.svg\" alt=\"Open In Colab\"/>\n",
    "</a>"
   ]
  },
  {
   "cell_type": "markdown",
   "id": "dcb71bc6",
   "metadata": {},
   "source": [
    "# Install\n",
    "<hr/>"
   ]
  },
  {
   "cell_type": "code",
   "execution_count": 1,
   "id": "081ed4f8",
   "metadata": {},
   "outputs": [
    {
     "name": "stdout",
     "output_type": "stream",
     "text": [
      "Requirement already satisfied: edgartools in c:\\users\\dwight\\appdata\\local\\hatch\\env\\virtual\\edgartools\\3oozmbs2\\edgartools\\lib\\site-packages (1.13.0)\n",
      "Requirement already satisfied: rich>=12.6.0 in c:\\users\\dwight\\appdata\\local\\hatch\\env\\virtual\\edgartools\\3oozmbs2\\edgartools\\lib\\site-packages (from edgartools) (13.1.0)\n",
      "Requirement already satisfied: textdistance[extras]>=4.5.0 in c:\\users\\dwight\\appdata\\local\\hatch\\env\\virtual\\edgartools\\3oozmbs2\\edgartools\\lib\\site-packages (from edgartools) (4.5.0)\n",
      "Requirement already satisfied: httpx>=0.23.1 in c:\\users\\dwight\\appdata\\local\\hatch\\env\\virtual\\edgartools\\3oozmbs2\\edgartools\\lib\\site-packages (from edgartools) (0.23.1)\n",
      "Requirement already satisfied: lxml>=4.4 in c:\\users\\dwight\\appdata\\local\\hatch\\env\\virtual\\edgartools\\3oozmbs2\\edgartools\\lib\\site-packages (from edgartools) (4.9.2)\n",
      "Requirement already satisfied: retry>=0.9.2 in c:\\users\\dwight\\appdata\\local\\hatch\\env\\virtual\\edgartools\\3oozmbs2\\edgartools\\lib\\site-packages (from edgartools) (0.9.2)\n",
      "Requirement already satisfied: beautifulsoup4>=4.10.0 in c:\\users\\dwight\\appdata\\local\\hatch\\env\\virtual\\edgartools\\3oozmbs2\\edgartools\\lib\\site-packages (from edgartools) (4.11.1)\n",
      "Requirement already satisfied: charset-normalizer>2.1.1 in c:\\users\\dwight\\appdata\\local\\hatch\\env\\virtual\\edgartools\\3oozmbs2\\edgartools\\lib\\site-packages (from edgartools) (3.0.1)\n",
      "Requirement already satisfied: humanize>=4.0.0 in c:\\users\\dwight\\appdata\\local\\hatch\\env\\virtual\\edgartools\\3oozmbs2\\edgartools\\lib\\site-packages (from edgartools) (4.4.0)\n",
      "Requirement already satisfied: pandas>=1.1.5 in c:\\users\\dwight\\appdata\\local\\hatch\\env\\virtual\\edgartools\\3oozmbs2\\edgartools\\lib\\site-packages (from edgartools) (1.5.2)\n",
      "Requirement already satisfied: rank-bm25==0.2.1 in c:\\users\\dwight\\appdata\\local\\hatch\\env\\virtual\\edgartools\\3oozmbs2\\edgartools\\lib\\site-packages (from edgartools) (0.2.1)\n",
      "Requirement already satisfied: pyarrow>=9.0.0 in c:\\users\\dwight\\appdata\\local\\hatch\\env\\virtual\\edgartools\\3oozmbs2\\edgartools\\lib\\site-packages (from edgartools) (10.0.1)\n",
      "Requirement already satisfied: markdownify>0.11.0 in c:\\users\\dwight\\appdata\\local\\hatch\\env\\virtual\\edgartools\\3oozmbs2\\edgartools\\lib\\site-packages (from edgartools) (0.11.6)\n",
      "Requirement already satisfied: fastcore>=1.5.20 in c:\\users\\dwight\\appdata\\local\\hatch\\env\\virtual\\edgartools\\3oozmbs2\\edgartools\\lib\\site-packages (from edgartools) (1.5.27)\n",
      "Requirement already satisfied: numpy in c:\\users\\dwight\\appdata\\local\\hatch\\env\\virtual\\edgartools\\3oozmbs2\\edgartools\\lib\\site-packages (from rank-bm25==0.2.1->edgartools) (1.24.1)\n",
      "Requirement already satisfied: soupsieve>1.2 in c:\\users\\dwight\\appdata\\local\\hatch\\env\\virtual\\edgartools\\3oozmbs2\\edgartools\\lib\\site-packages (from beautifulsoup4>=4.10.0->edgartools) (2.3.2.post1)\n",
      "Requirement already satisfied: packaging in c:\\users\\dwight\\appdata\\local\\hatch\\env\\virtual\\edgartools\\3oozmbs2\\edgartools\\lib\\site-packages (from fastcore>=1.5.20->edgartools) (22.0)\n",
      "Requirement already satisfied: pip in c:\\users\\dwight\\appdata\\local\\hatch\\env\\virtual\\edgartools\\3oozmbs2\\edgartools\\lib\\site-packages (from fastcore>=1.5.20->edgartools) (23.0.1)\n",
      "Requirement already satisfied: rfc3986[idna2008]<2,>=1.3 in c:\\users\\dwight\\appdata\\local\\hatch\\env\\virtual\\edgartools\\3oozmbs2\\edgartools\\lib\\site-packages (from httpx>=0.23.1->edgartools) (1.5.0)\n",
      "Requirement already satisfied: httpcore<0.17.0,>=0.15.0 in c:\\users\\dwight\\appdata\\local\\hatch\\env\\virtual\\edgartools\\3oozmbs2\\edgartools\\lib\\site-packages (from httpx>=0.23.1->edgartools) (0.16.3)\n",
      "Requirement already satisfied: certifi in c:\\users\\dwight\\appdata\\local\\hatch\\env\\virtual\\edgartools\\3oozmbs2\\edgartools\\lib\\site-packages (from httpx>=0.23.1->edgartools) (2022.12.7)\n",
      "Requirement already satisfied: sniffio in c:\\users\\dwight\\appdata\\local\\hatch\\env\\virtual\\edgartools\\3oozmbs2\\edgartools\\lib\\site-packages (from httpx>=0.23.1->edgartools) (1.3.0)\n",
      "Requirement already satisfied: six<2,>=1.15 in c:\\users\\dwight\\appdata\\local\\hatch\\env\\virtual\\edgartools\\3oozmbs2\\edgartools\\lib\\site-packages (from markdownify>0.11.0->edgartools) (1.16.0)\n",
      "Requirement already satisfied: pytz>=2020.1 in c:\\users\\dwight\\appdata\\local\\hatch\\env\\virtual\\edgartools\\3oozmbs2\\edgartools\\lib\\site-packages (from pandas>=1.1.5->edgartools) (2022.7)\n",
      "Requirement already satisfied: python-dateutil>=2.8.1 in c:\\users\\dwight\\appdata\\local\\hatch\\env\\virtual\\edgartools\\3oozmbs2\\edgartools\\lib\\site-packages (from pandas>=1.1.5->edgartools) (2.8.2)\n",
      "Requirement already satisfied: py<2.0.0,>=1.4.26 in c:\\users\\dwight\\appdata\\local\\hatch\\env\\virtual\\edgartools\\3oozmbs2\\edgartools\\lib\\site-packages (from retry>=0.9.2->edgartools) (1.11.0)\n",
      "Requirement already satisfied: decorator>=3.4.2 in c:\\users\\dwight\\appdata\\local\\hatch\\env\\virtual\\edgartools\\3oozmbs2\\edgartools\\lib\\site-packages (from retry>=0.9.2->edgartools) (5.1.1)\n",
      "Requirement already satisfied: commonmark<0.10.0,>=0.9.0 in c:\\users\\dwight\\appdata\\local\\hatch\\env\\virtual\\edgartools\\3oozmbs2\\edgartools\\lib\\site-packages (from rich>=12.6.0->edgartools) (0.9.1)\n",
      "Requirement already satisfied: pygments<3.0.0,>=2.6.0 in c:\\users\\dwight\\appdata\\local\\hatch\\env\\virtual\\edgartools\\3oozmbs2\\edgartools\\lib\\site-packages (from rich>=12.6.0->edgartools) (2.13.0)\n",
      "Requirement already satisfied: pyxDamerauLevenshtein in c:\\users\\dwight\\appdata\\local\\hatch\\env\\virtual\\edgartools\\3oozmbs2\\edgartools\\lib\\site-packages (from textdistance[extras]>=4.5.0->edgartools) (1.7.1)\n",
      "Requirement already satisfied: python-Levenshtein in c:\\users\\dwight\\appdata\\local\\hatch\\env\\virtual\\edgartools\\3oozmbs2\\edgartools\\lib\\site-packages (from textdistance[extras]>=4.5.0->edgartools) (0.20.9)\n",
      "Requirement already satisfied: jellyfish in c:\\users\\dwight\\appdata\\local\\hatch\\env\\virtual\\edgartools\\3oozmbs2\\edgartools\\lib\\site-packages (from textdistance[extras]>=4.5.0->edgartools) (0.9.0)\n",
      "Requirement already satisfied: abydos in c:\\users\\dwight\\appdata\\local\\hatch\\env\\virtual\\edgartools\\3oozmbs2\\edgartools\\lib\\site-packages (from textdistance[extras]>=4.5.0->edgartools) (0.5.0)\n",
      "Requirement already satisfied: rapidfuzz>=2.6.0 in c:\\users\\dwight\\appdata\\local\\hatch\\env\\virtual\\edgartools\\3oozmbs2\\edgartools\\lib\\site-packages (from textdistance[extras]>=4.5.0->edgartools) (2.13.7)\n",
      "Requirement already satisfied: anyio<5.0,>=3.0 in c:\\users\\dwight\\appdata\\local\\hatch\\env\\virtual\\edgartools\\3oozmbs2\\edgartools\\lib\\site-packages (from httpcore<0.17.0,>=0.15.0->httpx>=0.23.1->edgartools) (3.6.2)\n",
      "Requirement already satisfied: h11<0.15,>=0.13 in c:\\users\\dwight\\appdata\\local\\hatch\\env\\virtual\\edgartools\\3oozmbs2\\edgartools\\lib\\site-packages (from httpcore<0.17.0,>=0.15.0->httpx>=0.23.1->edgartools) (0.14.0)\n",
      "Requirement already satisfied: idna in c:\\users\\dwight\\appdata\\local\\hatch\\env\\virtual\\edgartools\\3oozmbs2\\edgartools\\lib\\site-packages (from rfc3986[idna2008]<2,>=1.3->httpx>=0.23.1->edgartools) (3.4)\n",
      "Requirement already satisfied: deprecation in c:\\users\\dwight\\appdata\\local\\hatch\\env\\virtual\\edgartools\\3oozmbs2\\edgartools\\lib\\site-packages (from abydos->textdistance[extras]>=4.5.0->edgartools) (2.1.0)\n",
      "Requirement already satisfied: Levenshtein==0.20.9 in c:\\users\\dwight\\appdata\\local\\hatch\\env\\virtual\\edgartools\\3oozmbs2\\edgartools\\lib\\site-packages (from python-Levenshtein->textdistance[extras]>=4.5.0->edgartools) (0.20.9)\n"
     ]
    }
   ],
   "source": [
    "!pip install -U edgartools"
   ]
  },
  {
   "cell_type": "markdown",
   "id": "6973612d",
   "metadata": {},
   "source": [
    "# Imports\n",
    "<hr/>"
   ]
  },
  {
   "cell_type": "code",
   "execution_count": 2,
   "id": "8702904d",
   "metadata": {},
   "outputs": [],
   "source": [
    "from edgar import *\n",
    "import pandas as pd"
   ]
  },
  {
   "cell_type": "markdown",
   "id": "723cc193",
   "metadata": {},
   "source": [
    "# Set identity"
   ]
  },
  {
   "cell_type": "code",
   "execution_count": 3,
   "id": "68614b4f",
   "metadata": {},
   "outputs": [
    {
     "data": {
      "text/html": [
       "<pre style=\"white-space:pre;overflow-x:auto;line-height:normal;font-family:Menlo,'DejaVu Sans Mono',consolas,'Courier New',monospace\"><span style=\"color: #7fbfbf; text-decoration-color: #7fbfbf\">[06:44:50] </span><span style=\"color: #000080; text-decoration-color: #000080\">INFO    </span> Identity of the Edgar REST client set to <span style=\"font-weight: bold\">[</span>Satya Somish smosh@gmail.com<span style=\"font-weight: bold\">]</span>             <a href=\"file://C:\\Users\\dwight\\PycharmProjects\\edgar\\edgar\\core.py\" target=\"_blank\"><span style=\"color: #7f7f7f; text-decoration-color: #7f7f7f\">core.py</span></a><span style=\"color: #7f7f7f; text-decoration-color: #7f7f7f\">:</span><a href=\"file://C:\\Users\\dwight\\PycharmProjects\\edgar\\edgar\\core.py#132\" target=\"_blank\"><span style=\"color: #7f7f7f; text-decoration-color: #7f7f7f\">132</span></a>\n",
       "</pre>\n"
      ],
      "text/plain": [
       "\u001b[2;36m[06:44:50]\u001b[0m\u001b[2;36m \u001b[0m\u001b[34mINFO    \u001b[0m Identity of the Edgar REST client set to \u001b[1m[\u001b[0mSatya Somish smosh@gmail.com\u001b[1m]\u001b[0m             \u001b]8;id=856728;file://C:\\Users\\dwight\\PycharmProjects\\edgar\\edgar\\core.py\u001b\\\u001b[2mcore.py\u001b[0m\u001b]8;;\u001b\\\u001b[2m:\u001b[0m\u001b]8;id=466539;file://C:\\Users\\dwight\\PycharmProjects\\edgar\\edgar\\core.py#132\u001b\\\u001b[2m132\u001b[0m\u001b]8;;\u001b\\\n"
      ]
     },
     "metadata": {},
     "output_type": "display_data"
    }
   ],
   "source": [
    "set_identity('Satya Somish smosh@gmail.com')"
   ]
  },
  {
   "cell_type": "markdown",
   "id": "f24d6abc",
   "metadata": {},
   "source": [
    "# Get Filings\n",
    "<hr/>"
   ]
  },
  {
   "cell_type": "markdown",
   "id": "64d90b0f",
   "metadata": {},
   "source": [
    "## Get filings with default values"
   ]
  },
  {
   "cell_type": "code",
   "execution_count": 4,
   "id": "4c46179a",
   "metadata": {},
   "outputs": [],
   "source": [
    "filings = get_filings()"
   ]
  },
  {
   "cell_type": "code",
   "execution_count": 5,
   "id": "80c6aec0",
   "metadata": {},
   "outputs": [
    {
     "data": {
      "text/html": [
       "<pre style=\"white-space:pre;overflow-x:auto;line-height:normal;font-family:Menlo,'DejaVu Sans Mono',consolas,'Courier New',monospace\"></pre>\n"
      ],
      "text/plain": []
     },
     "metadata": {},
     "output_type": "display_data"
    },
    {
     "data": {
      "text/plain": [
       "╭──────────────────────────────────────────────────── Filings ────────────────────────────────────────────────────╮\n",
       "│                                                                                                                 │\n",
       "│  \u001b[1m \u001b[0m\u001b[1m  \u001b[0m\u001b[1m \u001b[0m \u001b[1;38;5;71m \u001b[0m\u001b[1;38;5;71mform    \u001b[0m\u001b[1;38;5;71m \u001b[0m \u001b[1m \u001b[0m\u001b[1mcompany                                     \u001b[0m\u001b[1m \u001b[0m \u001b[1m \u001b[0m\u001b[1mcik    \u001b[0m\u001b[1m \u001b[0m \u001b[1;38;5;39m \u001b[0m\u001b[1;38;5;39mfiling_date\u001b[0m\u001b[1;38;5;39m \u001b[0m \u001b[1m \u001b[0m\u001b[1maccession_number    \u001b[0m\u001b[1m \u001b[0m  │\n",
       "│  ─────────────────────────────────────────────────────────────────────────────────────────────────────────────  │\n",
       "│  \u001b[1m \u001b[0m\u001b[1m0 \u001b[0m\u001b[1m \u001b[0m \u001b[1;38;5;71m \u001b[0m\u001b[1;38;5;71m1-A POS \u001b[0m\u001b[1;38;5;71m \u001b[0m \u001b[1m \u001b[0m\u001b[1mHere Collection LLC                         \u001b[0m\u001b[1m \u001b[0m \u001b[1m \u001b[0m\u001b[1m1876769\u001b[0m\u001b[1m \u001b[0m \u001b[1;38;5;39m \u001b[0m\u001b[1;38;5;39m2023-03-21 \u001b[0m\u001b[1;38;5;39m \u001b[0m \u001b[1m \u001b[0m\u001b[1m0001096906-23-000599\u001b[0m\u001b[1m \u001b[0m  │\n",
       "│   1   \u001b[38;5;71m \u001b[0m\u001b[38;5;71m1-A/A   \u001b[0m\u001b[38;5;71m \u001b[0m  CancerVAX, Inc.                                1905495  \u001b[38;5;39m \u001b[0m\u001b[38;5;39m2023-03-21 \u001b[0m\u001b[38;5;39m \u001b[0m  0001493152-23-008348   │\n",
       "│  \u001b[1m \u001b[0m\u001b[1m2 \u001b[0m\u001b[1m \u001b[0m \u001b[1;38;5;71m \u001b[0m\u001b[1;38;5;71m1-A/A   \u001b[0m\u001b[1;38;5;71m \u001b[0m \u001b[1m \u001b[0m\u001b[1mPerformance Drink Group, Inc.               \u001b[0m\u001b[1m \u001b[0m \u001b[1m \u001b[0m\u001b[1m1902930\u001b[0m\u001b[1m \u001b[0m \u001b[1;38;5;39m \u001b[0m\u001b[1;38;5;39m2023-03-21 \u001b[0m\u001b[1;38;5;39m \u001b[0m \u001b[1m \u001b[0m\u001b[1m0001393905-23-000139\u001b[0m\u001b[1m \u001b[0m  │\n",
       "│   3   \u001b[38;5;71m \u001b[0m\u001b[38;5;71m1-U     \u001b[0m\u001b[38;5;71m \u001b[0m  Masterworks 230, LLC                           1958950  \u001b[38;5;39m \u001b[0m\u001b[38;5;39m2023-03-21 \u001b[0m\u001b[38;5;39m \u001b[0m  0001493152-23-008389   │\n",
       "│  \u001b[1m \u001b[0m\u001b[1m4 \u001b[0m\u001b[1m \u001b[0m \u001b[1;38;5;71m \u001b[0m\u001b[1;38;5;71m10-12G  \u001b[0m\u001b[1;38;5;71m \u001b[0m \u001b[1m \u001b[0m\u001b[1mVestiage, Inc.                              \u001b[0m\u001b[1m \u001b[0m \u001b[1m \u001b[0m\u001b[1m1594968\u001b[0m\u001b[1m \u001b[0m \u001b[1;38;5;39m \u001b[0m\u001b[1;38;5;39m2023-03-21 \u001b[0m\u001b[1;38;5;39m \u001b[0m \u001b[1m \u001b[0m\u001b[1m0001683168-23-001635\u001b[0m\u001b[1m \u001b[0m  │\n",
       "│   5   \u001b[38;5;71m \u001b[0m\u001b[38;5;71m10-12G/A\u001b[0m\u001b[38;5;71m \u001b[0m  Lucent, Inc.                                   1778343  \u001b[38;5;39m \u001b[0m\u001b[38;5;39m2023-03-21 \u001b[0m\u001b[38;5;39m \u001b[0m  0001393905-23-000138   │\n",
       "│  \u001b[1m \u001b[0m\u001b[1m6 \u001b[0m\u001b[1m \u001b[0m \u001b[1;38;5;71m \u001b[0m\u001b[1;38;5;71m10-D    \u001b[0m\u001b[1;38;5;71m \u001b[0m \u001b[1m \u001b[0m\u001b[1mAmeriCredit Automobile Receivables Trust    \u001b[0m\u001b[1m \u001b[0m \u001b[1m \u001b[0m\u001b[1m1745314\u001b[0m\u001b[1m \u001b[0m \u001b[1;38;5;39m \u001b[0m\u001b[1;38;5;39m2023-03-21 \u001b[0m\u001b[1;38;5;39m \u001b[0m \u001b[1m \u001b[0m\u001b[1m0001213900-23-021554\u001b[0m\u001b[1m \u001b[0m  │\n",
       "│  \u001b[1m    \u001b[0m \u001b[1;38;5;71m          \u001b[0m \u001b[1m \u001b[0m\u001b[1m2018-2                                      \u001b[0m\u001b[1m \u001b[0m \u001b[1m         \u001b[0m \u001b[1;38;5;39m             \u001b[0m \u001b[1m                      \u001b[0m  │\n",
       "│   7   \u001b[38;5;71m \u001b[0m\u001b[38;5;71m10-D    \u001b[0m\u001b[38;5;71m \u001b[0m  CFCRE 2016-C4 Mortgage Trust                   1671048  \u001b[38;5;39m \u001b[0m\u001b[38;5;39m2023-03-21 \u001b[0m\u001b[38;5;39m \u001b[0m  0001853620-23-000066   │\n",
       "│  \u001b[1m \u001b[0m\u001b[1m8 \u001b[0m\u001b[1m \u001b[0m \u001b[1;38;5;71m \u001b[0m\u001b[1;38;5;71m10-D    \u001b[0m\u001b[1;38;5;71m \u001b[0m \u001b[1m \u001b[0m\u001b[1mFord Credit Auto Lease Trust 2021-A         \u001b[0m\u001b[1m \u001b[0m \u001b[1m \u001b[0m\u001b[1m1837019\u001b[0m\u001b[1m \u001b[0m \u001b[1;38;5;39m \u001b[0m\u001b[1;38;5;39m2023-03-21 \u001b[0m\u001b[1;38;5;39m \u001b[0m \u001b[1m \u001b[0m\u001b[1m0001837019-23-000014\u001b[0m\u001b[1m \u001b[0m  │\n",
       "│   9   \u001b[38;5;71m \u001b[0m\u001b[38;5;71m10-D    \u001b[0m\u001b[38;5;71m \u001b[0m  Ford Credit Auto Lease Trust 2021-B            1880978  \u001b[38;5;39m \u001b[0m\u001b[38;5;39m2023-03-21 \u001b[0m\u001b[38;5;39m \u001b[0m  0001880978-23-000015   │\n",
       "│  \u001b[1m \u001b[0m\u001b[1m10\u001b[0m\u001b[1m \u001b[0m \u001b[1;38;5;71m \u001b[0m\u001b[1;38;5;71m10-D    \u001b[0m\u001b[1;38;5;71m \u001b[0m \u001b[1m \u001b[0m\u001b[1mFord Credit Auto Lease Trust 2022-A         \u001b[0m\u001b[1m \u001b[0m \u001b[1m \u001b[0m\u001b[1m1917698\u001b[0m\u001b[1m \u001b[0m \u001b[1;38;5;39m \u001b[0m\u001b[1;38;5;39m2023-03-21 \u001b[0m\u001b[1;38;5;39m \u001b[0m \u001b[1m \u001b[0m\u001b[1m0001917698-23-000013\u001b[0m\u001b[1m \u001b[0m  │\n",
       "│   11  \u001b[38;5;71m \u001b[0m\u001b[38;5;71m10-D    \u001b[0m\u001b[38;5;71m \u001b[0m  Ford Credit Auto Lease Trust 2023-A            1959048  \u001b[38;5;39m \u001b[0m\u001b[38;5;39m2023-03-21 \u001b[0m\u001b[38;5;39m \u001b[0m  0001959048-23-000009   │\n",
       "│  \u001b[1m \u001b[0m\u001b[1m12\u001b[0m\u001b[1m \u001b[0m \u001b[1;38;5;71m \u001b[0m\u001b[1;38;5;71m10-D    \u001b[0m\u001b[1;38;5;71m \u001b[0m \u001b[1m \u001b[0m\u001b[1mFord Credit Auto Owner Trust 2019-B         \u001b[0m\u001b[1m \u001b[0m \u001b[1m \u001b[0m\u001b[1m1779201\u001b[0m\u001b[1m \u001b[0m \u001b[1;38;5;39m \u001b[0m\u001b[1;38;5;39m2023-03-21 \u001b[0m\u001b[1;38;5;39m \u001b[0m \u001b[1m \u001b[0m\u001b[1m0001779201-23-000015\u001b[0m\u001b[1m \u001b[0m  │\n",
       "│   13  \u001b[38;5;71m \u001b[0m\u001b[38;5;71m10-D    \u001b[0m\u001b[38;5;71m \u001b[0m  Ford Credit Auto Owner Trust 2019-C            1793014  \u001b[38;5;39m \u001b[0m\u001b[38;5;39m2023-03-21 \u001b[0m\u001b[38;5;39m \u001b[0m  0001793014-23-000014   │\n",
       "│  \u001b[1m \u001b[0m\u001b[1m14\u001b[0m\u001b[1m \u001b[0m \u001b[1;38;5;71m \u001b[0m\u001b[1;38;5;71m10-D    \u001b[0m\u001b[1;38;5;71m \u001b[0m \u001b[1m \u001b[0m\u001b[1mFord Credit Auto Owner Trust 2020-A         \u001b[0m\u001b[1m \u001b[0m \u001b[1m \u001b[0m\u001b[1m1803935\u001b[0m\u001b[1m \u001b[0m \u001b[1;38;5;39m \u001b[0m\u001b[1;38;5;39m2023-03-21 \u001b[0m\u001b[1;38;5;39m \u001b[0m \u001b[1m \u001b[0m\u001b[1m0001803935-23-000015\u001b[0m\u001b[1m \u001b[0m  │\n",
       "│   15  \u001b[38;5;71m \u001b[0m\u001b[38;5;71m10-D    \u001b[0m\u001b[38;5;71m \u001b[0m  Ford Credit Auto Owner Trust 2020-B            1813722  \u001b[38;5;39m \u001b[0m\u001b[38;5;39m2023-03-21 \u001b[0m\u001b[38;5;39m \u001b[0m  0001813722-23-000015   │\n",
       "│  \u001b[1m \u001b[0m\u001b[1m16\u001b[0m\u001b[1m \u001b[0m \u001b[1;38;5;71m \u001b[0m\u001b[1;38;5;71m10-D    \u001b[0m\u001b[1;38;5;71m \u001b[0m \u001b[1m \u001b[0m\u001b[1mFord Credit Auto Owner Trust 2020-C         \u001b[0m\u001b[1m \u001b[0m \u001b[1m \u001b[0m\u001b[1m1830316\u001b[0m\u001b[1m \u001b[0m \u001b[1;38;5;39m \u001b[0m\u001b[1;38;5;39m2023-03-21 \u001b[0m\u001b[1;38;5;39m \u001b[0m \u001b[1m \u001b[0m\u001b[1m0001830316-23-000015\u001b[0m\u001b[1m \u001b[0m  │\n",
       "│   17  \u001b[38;5;71m \u001b[0m\u001b[38;5;71m10-D    \u001b[0m\u001b[38;5;71m \u001b[0m  Ford Credit Auto Owner Trust 2021-A            1843634  \u001b[38;5;39m \u001b[0m\u001b[38;5;39m2023-03-21 \u001b[0m\u001b[38;5;39m \u001b[0m  0001843634-23-000014   │\n",
       "│  \u001b[1m \u001b[0m\u001b[1m18\u001b[0m\u001b[1m \u001b[0m \u001b[1;38;5;71m \u001b[0m\u001b[1;38;5;71m10-D    \u001b[0m\u001b[1;38;5;71m \u001b[0m \u001b[1m \u001b[0m\u001b[1mFord Credit Auto Owner Trust 2022-A         \u001b[0m\u001b[1m \u001b[0m \u001b[1m \u001b[0m\u001b[1m1900656\u001b[0m\u001b[1m \u001b[0m \u001b[1;38;5;39m \u001b[0m\u001b[1;38;5;39m2023-03-21 \u001b[0m\u001b[1;38;5;39m \u001b[0m \u001b[1m \u001b[0m\u001b[1m0001900656-23-000013\u001b[0m\u001b[1m \u001b[0m  │\n",
       "│   19  \u001b[38;5;71m \u001b[0m\u001b[38;5;71m10-D    \u001b[0m\u001b[38;5;71m \u001b[0m  Ford Credit Auto Owner Trust 2022-B            1931934  \u001b[38;5;39m \u001b[0m\u001b[38;5;39m2023-03-21 \u001b[0m\u001b[38;5;39m \u001b[0m  0001931934-23-000013   │\n",
       "│  \u001b[1m \u001b[0m\u001b[1m20\u001b[0m\u001b[1m \u001b[0m \u001b[1;38;5;71m \u001b[0m\u001b[1;38;5;71m10-D    \u001b[0m\u001b[1;38;5;71m \u001b[0m \u001b[1m \u001b[0m\u001b[1mFord Credit Auto Owner Trust 2022-C         \u001b[0m\u001b[1m \u001b[0m \u001b[1m \u001b[0m\u001b[1m1944485\u001b[0m\u001b[1m \u001b[0m \u001b[1;38;5;39m \u001b[0m\u001b[1;38;5;39m2023-03-21 \u001b[0m\u001b[1;38;5;39m \u001b[0m \u001b[1m \u001b[0m\u001b[1m0001944485-23-000013\u001b[0m\u001b[1m \u001b[0m  │\n",
       "│   21  \u001b[38;5;71m \u001b[0m\u001b[38;5;71m10-D    \u001b[0m\u001b[38;5;71m \u001b[0m  Ford Credit Auto Owner Trust 2022-D            1951752  \u001b[38;5;39m \u001b[0m\u001b[38;5;39m2023-03-21 \u001b[0m\u001b[38;5;39m \u001b[0m  0001951752-23-000014   │\n",
       "│  \u001b[1m \u001b[0m\u001b[1m22\u001b[0m\u001b[1m \u001b[0m \u001b[1;38;5;71m \u001b[0m\u001b[1;38;5;71m10-K    \u001b[0m\u001b[1;38;5;71m \u001b[0m \u001b[1m \u001b[0m\u001b[1mADDVANTAGE TECHNOLOGIES GROUP INC           \u001b[0m\u001b[1m \u001b[0m \u001b[1m \u001b[0m\u001b[1m874292 \u001b[0m\u001b[1m \u001b[0m \u001b[1;38;5;39m \u001b[0m\u001b[1;38;5;39m2023-03-21 \u001b[0m\u001b[1;38;5;39m \u001b[0m \u001b[1m \u001b[0m\u001b[1m0001628280-23-008742\u001b[0m\u001b[1m \u001b[0m  │\n",
       "│   23  \u001b[38;5;71m \u001b[0m\u001b[38;5;71m10-K    \u001b[0m\u001b[38;5;71m \u001b[0m  AMERICAN BIO MEDICA CORP                       896747   \u001b[38;5;39m \u001b[0m\u001b[38;5;39m2023-03-21 \u001b[0m\u001b[38;5;39m \u001b[0m  0001654954-23-003260   │\n",
       "│  \u001b[1m \u001b[0m\u001b[1m24\u001b[0m\u001b[1m \u001b[0m \u001b[1;38;5;71m \u001b[0m\u001b[1;38;5;71m10-K    \u001b[0m\u001b[1;38;5;71m \u001b[0m \u001b[1m \u001b[0m\u001b[1mAMPCO PITTSBURGH CORP                       \u001b[0m\u001b[1m \u001b[0m \u001b[1m \u001b[0m\u001b[1m6176   \u001b[0m\u001b[1m \u001b[0m \u001b[1;38;5;39m \u001b[0m\u001b[1;38;5;39m2023-03-21 \u001b[0m\u001b[1;38;5;39m \u001b[0m \u001b[1m \u001b[0m\u001b[1m0000950170-23-008972\u001b[0m\u001b[1m \u001b[0m  │\n",
       "│   25  \u001b[38;5;71m \u001b[0m\u001b[38;5;71m10-K    \u001b[0m\u001b[38;5;71m \u001b[0m  Akerna Corp.                                   1755953  \u001b[38;5;39m \u001b[0m\u001b[38;5;39m2023-03-21 \u001b[0m\u001b[38;5;39m \u001b[0m  0001213900-23-021526   │\n",
       "│  \u001b[1m \u001b[0m\u001b[1m26\u001b[0m\u001b[1m \u001b[0m \u001b[1;38;5;71m \u001b[0m\u001b[1;38;5;71m10-K    \u001b[0m\u001b[1;38;5;71m \u001b[0m \u001b[1m \u001b[0m\u001b[1mBlack Bird Biotech, Inc.                    \u001b[0m\u001b[1m \u001b[0m \u001b[1m \u001b[0m\u001b[1m1409999\u001b[0m\u001b[1m \u001b[0m \u001b[1;38;5;39m \u001b[0m\u001b[1;38;5;39m2023-03-21 \u001b[0m\u001b[1;38;5;39m \u001b[0m \u001b[1m \u001b[0m\u001b[1m0001477932-23-001598\u001b[0m\u001b[1m \u001b[0m  │\n",
       "│   27  \u001b[38;5;71m \u001b[0m\u001b[38;5;71m10-K    \u001b[0m\u001b[38;5;71m \u001b[0m  Brightwood Capital Corp I                      1895316  \u001b[38;5;39m \u001b[0m\u001b[38;5;39m2023-03-21 \u001b[0m\u001b[38;5;39m \u001b[0m  0001104659-23-035124   │\n",
       "│  \u001b[1m \u001b[0m\u001b[1m28\u001b[0m\u001b[1m \u001b[0m \u001b[1;38;5;71m \u001b[0m\u001b[1;38;5;71m10-K    \u001b[0m\u001b[1;38;5;71m \u001b[0m \u001b[1m \u001b[0m\u001b[1mBrilliant Earth Group, Inc.                 \u001b[0m\u001b[1m \u001b[0m \u001b[1m \u001b[0m\u001b[1m1866757\u001b[0m\u001b[1m \u001b[0m \u001b[1;38;5;39m \u001b[0m\u001b[1;38;5;39m2023-03-21 \u001b[0m\u001b[1;38;5;39m \u001b[0m \u001b[1m \u001b[0m\u001b[1m0001866757-23-000050\u001b[0m\u001b[1m \u001b[0m  │\n",
       "│   29  \u001b[38;5;71m \u001b[0m\u001b[38;5;71m10-K    \u001b[0m\u001b[38;5;71m \u001b[0m  CRAWFORD UNITED Corp                           47307    \u001b[38;5;39m \u001b[0m\u001b[38;5;39m2023-03-21 \u001b[0m\u001b[38;5;39m \u001b[0m  0001437749-23-007323   │\n",
       "│  \u001b[1m \u001b[0m\u001b[1m30\u001b[0m\u001b[1m \u001b[0m \u001b[1;38;5;71m \u001b[0m\u001b[1;38;5;71m10-K    \u001b[0m\u001b[1;38;5;71m \u001b[0m \u001b[1m \u001b[0m\u001b[1mCXApp Inc.                                  \u001b[0m\u001b[1m \u001b[0m \u001b[1m \u001b[0m\u001b[1m1820875\u001b[0m\u001b[1m \u001b[0m \u001b[1;38;5;39m \u001b[0m\u001b[1;38;5;39m2023-03-21 \u001b[0m\u001b[1;38;5;39m \u001b[0m \u001b[1m \u001b[0m\u001b[1m0001410578-23-000307\u001b[0m\u001b[1m \u001b[0m  │\n",
       "│   31  \u001b[38;5;71m \u001b[0m\u001b[38;5;71m10-K    \u001b[0m\u001b[38;5;71m \u001b[0m  Canterbury Park Holding Corp                   1672909  \u001b[38;5;39m \u001b[0m\u001b[38;5;39m2023-03-21 \u001b[0m\u001b[38;5;39m \u001b[0m  0001437749-23-007356   │\n",
       "│  \u001b[1m \u001b[0m\u001b[1m32\u001b[0m\u001b[1m \u001b[0m \u001b[1;38;5;71m \u001b[0m\u001b[1;38;5;71m10-K    \u001b[0m\u001b[1;38;5;71m \u001b[0m \u001b[1m \u001b[0m\u001b[1mCue Biopharma, Inc.                         \u001b[0m\u001b[1m \u001b[0m \u001b[1m \u001b[0m\u001b[1m1645460\u001b[0m\u001b[1m \u001b[0m \u001b[1;38;5;39m \u001b[0m\u001b[1;38;5;39m2023-03-21 \u001b[0m\u001b[1;38;5;39m \u001b[0m \u001b[1m \u001b[0m\u001b[1m0000950170-23-008927\u001b[0m\u001b[1m \u001b[0m  │\n",
       "│   33  \u001b[38;5;71m \u001b[0m\u001b[38;5;71m10-K    \u001b[0m\u001b[38;5;71m \u001b[0m  Evoke Pharma Inc                               1403708  \u001b[38;5;39m \u001b[0m\u001b[38;5;39m2023-03-21 \u001b[0m\u001b[38;5;39m \u001b[0m  0000950170-23-008942   │\n",
       "│  \u001b[1m \u001b[0m\u001b[1m34\u001b[0m\u001b[1m \u001b[0m \u001b[1;38;5;71m \u001b[0m\u001b[1;38;5;71m10-K    \u001b[0m\u001b[1;38;5;71m \u001b[0m \u001b[1m \u001b[0m\u001b[1mGS Mortgage Securities Trust 2017-GS6       \u001b[0m\u001b[1m \u001b[0m \u001b[1m \u001b[0m\u001b[1m1704459\u001b[0m\u001b[1m \u001b[0m \u001b[1;38;5;39m \u001b[0m\u001b[1;38;5;39m2023-03-21 \u001b[0m\u001b[1;38;5;39m \u001b[0m \u001b[1m \u001b[0m\u001b[1m0001888524-23-003632\u001b[0m\u001b[1m \u001b[0m  │\n",
       "│   35  \u001b[38;5;71m \u001b[0m\u001b[38;5;71m10-K    \u001b[0m\u001b[38;5;71m \u001b[0m  Global Business Travel Group, Inc.             1820872  \u001b[38;5;39m \u001b[0m\u001b[38;5;39m2023-03-21 \u001b[0m\u001b[38;5;39m \u001b[0m  0001104659-23-035161   │\n",
       "│  \u001b[1m \u001b[0m\u001b[1m36\u001b[0m\u001b[1m \u001b[0m \u001b[1;38;5;71m \u001b[0m\u001b[1;38;5;71m10-K    \u001b[0m\u001b[1;38;5;71m \u001b[0m \u001b[1m \u001b[0m\u001b[1mHireQuest, Inc.                             \u001b[0m\u001b[1m \u001b[0m \u001b[1m \u001b[0m\u001b[1m1140102\u001b[0m\u001b[1m \u001b[0m \u001b[1;38;5;39m \u001b[0m\u001b[1;38;5;39m2023-03-21 \u001b[0m\u001b[1;38;5;39m \u001b[0m \u001b[1m \u001b[0m\u001b[1m0001437749-23-007413\u001b[0m\u001b[1m \u001b[0m  │\n",
       "│   37  \u001b[38;5;71m \u001b[0m\u001b[38;5;71m10-K    \u001b[0m\u001b[38;5;71m \u001b[0m  LFTD PARTNERS INC.                             1391135  \u001b[38;5;39m \u001b[0m\u001b[38;5;39m2023-03-21 \u001b[0m\u001b[38;5;39m \u001b[0m  0001096906-23-000607   │\n",
       "│  \u001b[1m \u001b[0m\u001b[1m38\u001b[0m\u001b[1m \u001b[0m \u001b[1;38;5;71m \u001b[0m\u001b[1;38;5;71m10-K    \u001b[0m\u001b[1;38;5;71m \u001b[0m \u001b[1m \u001b[0m\u001b[1mLafayette Square USA, Inc.                  \u001b[0m\u001b[1m \u001b[0m \u001b[1m \u001b[0m\u001b[1m1849089\u001b[0m\u001b[1m \u001b[0m \u001b[1;38;5;39m \u001b[0m\u001b[1;38;5;39m2023-03-21 \u001b[0m\u001b[1;38;5;39m \u001b[0m \u001b[1m \u001b[0m\u001b[1m0001849089-23-000019\u001b[0m\u001b[1m \u001b[0m  │\n",
       "│   39  \u001b[38;5;71m \u001b[0m\u001b[38;5;71m10-K    \u001b[0m\u001b[38;5;71m \u001b[0m  MERRILL LYNCH DEPOSITOR INC INDEXPLUS TRUST    1267332  \u001b[38;5;39m \u001b[0m\u001b[38;5;39m2023-03-21 \u001b[0m\u001b[38;5;39m \u001b[0m  0001839882-23-007247   │\n",
       "│       \u001b[38;5;71m          \u001b[0m  SERIES 2003-1                                           \u001b[38;5;39m             \u001b[0m                         │\n",
       "│  \u001b[1m \u001b[0m\u001b[1m40\u001b[0m\u001b[1m \u001b[0m \u001b[1;38;5;71m \u001b[0m\u001b[1;38;5;71m10-K    \u001b[0m\u001b[1;38;5;71m \u001b[0m \u001b[1m \u001b[0m\u001b[1mMETAWORKS PLATFORMS, INC.                   \u001b[0m\u001b[1m \u001b[0m \u001b[1m \u001b[0m\u001b[1m1515139\u001b[0m\u001b[1m \u001b[0m \u001b[1;38;5;39m \u001b[0m\u001b[1;38;5;39m2023-03-21 \u001b[0m\u001b[1;38;5;39m \u001b[0m \u001b[1m \u001b[0m\u001b[1m0001493152-23-008326\u001b[0m\u001b[1m \u001b[0m  │\n",
       "│   41  \u001b[38;5;71m \u001b[0m\u001b[38;5;71m10-K    \u001b[0m\u001b[38;5;71m \u001b[0m  Muscle Maker, Inc.                             1701756  \u001b[38;5;39m \u001b[0m\u001b[38;5;39m2023-03-21 \u001b[0m\u001b[38;5;39m \u001b[0m  0001493152-23-008370   │\n",
       "│  \u001b[1m \u001b[0m\u001b[1m42\u001b[0m\u001b[1m \u001b[0m \u001b[1;38;5;71m \u001b[0m\u001b[1;38;5;71m10-K    \u001b[0m\u001b[1;38;5;71m \u001b[0m \u001b[1m \u001b[0m\u001b[1mNew Concept Energy, Inc.                    \u001b[0m\u001b[1m \u001b[0m \u001b[1m \u001b[0m\u001b[1m105744 \u001b[0m\u001b[1m \u001b[0m \u001b[1;38;5;39m \u001b[0m\u001b[1;38;5;39m2023-03-21 \u001b[0m\u001b[1;38;5;39m \u001b[0m \u001b[1m \u001b[0m\u001b[1m0001214659-23-004059\u001b[0m\u001b[1m \u001b[0m  │\n",
       "│   43  \u001b[38;5;71m \u001b[0m\u001b[38;5;71m10-K    \u001b[0m\u001b[38;5;71m \u001b[0m  Oaktree Capital Group, LLC                     1403528  \u001b[38;5;39m \u001b[0m\u001b[38;5;39m2023-03-21 \u001b[0m\u001b[38;5;39m \u001b[0m  0001403528-23-000004   │\n",
       "│  \u001b[1m \u001b[0m\u001b[1m44\u001b[0m\u001b[1m \u001b[0m \u001b[1;38;5;71m \u001b[0m\u001b[1;38;5;71m10-K    \u001b[0m\u001b[1;38;5;71m \u001b[0m \u001b[1m \u001b[0m\u001b[1mOblong, Inc.                                \u001b[0m\u001b[1m \u001b[0m \u001b[1m \u001b[0m\u001b[1m746210 \u001b[0m\u001b[1m \u001b[0m \u001b[1;38;5;39m \u001b[0m\u001b[1;38;5;39m2023-03-21 \u001b[0m\u001b[1;38;5;39m \u001b[0m \u001b[1m \u001b[0m\u001b[1m0000746210-23-000011\u001b[0m\u001b[1m \u001b[0m  │\n",
       "│   45  \u001b[38;5;71m \u001b[0m\u001b[38;5;71m10-K    \u001b[0m\u001b[38;5;71m \u001b[0m  Osprey Bitcoin Trust                           1767057  \u001b[38;5;39m \u001b[0m\u001b[38;5;39m2023-03-21 \u001b[0m\u001b[38;5;39m \u001b[0m  0000930413-23-001072   │\n",
       "│  \u001b[1m \u001b[0m\u001b[1m46\u001b[0m\u001b[1m \u001b[0m \u001b[1;38;5;71m \u001b[0m\u001b[1;38;5;71m10-K    \u001b[0m\u001b[1;38;5;71m \u001b[0m \u001b[1m \u001b[0m\u001b[1mPATRIOT GOLD CORP                           \u001b[0m\u001b[1m \u001b[0m \u001b[1m \u001b[0m\u001b[1m1080448\u001b[0m\u001b[1m \u001b[0m \u001b[1;38;5;39m \u001b[0m\u001b[1;38;5;39m2023-03-21 \u001b[0m\u001b[1;38;5;39m \u001b[0m \u001b[1m \u001b[0m\u001b[1m0001683168-23-001645\u001b[0m\u001b[1m \u001b[0m  │\n",
       "│   47  \u001b[38;5;71m \u001b[0m\u001b[38;5;71m10-K    \u001b[0m\u001b[38;5;71m \u001b[0m  PPLUS Trust Series GSC-2                       1294808  \u001b[38;5;39m \u001b[0m\u001b[38;5;39m2023-03-21 \u001b[0m\u001b[38;5;39m \u001b[0m  0001839882-23-007246   │\n",
       "│  \u001b[1m \u001b[0m\u001b[1m48\u001b[0m\u001b[1m \u001b[0m \u001b[1;38;5;71m \u001b[0m\u001b[1;38;5;71m10-K    \u001b[0m\u001b[1;38;5;71m \u001b[0m \u001b[1m \u001b[0m\u001b[1mPonce Financial Group, Inc.                 \u001b[0m\u001b[1m \u001b[0m \u001b[1m \u001b[0m\u001b[1m1874071\u001b[0m\u001b[1m \u001b[0m \u001b[1;38;5;39m \u001b[0m\u001b[1;38;5;39m2023-03-21 \u001b[0m\u001b[1;38;5;39m \u001b[0m \u001b[1m \u001b[0m\u001b[1m0000950170-23-008979\u001b[0m\u001b[1m \u001b[0m  │\n",
       "│   49  \u001b[38;5;71m \u001b[0m\u001b[38;5;71m10-K    \u001b[0m\u001b[38;5;71m \u001b[0m  PowerUp Acquisition Corp.                      1847345  \u001b[38;5;39m \u001b[0m\u001b[38;5;39m2023-03-21 \u001b[0m\u001b[38;5;39m \u001b[0m  0001410578-23-000316   │\n",
       "│                                                                                                                 │\n",
       "│ Showing 50 of 308,318 filings                                                                                   │\n",
       "╰─────────────────────────────────────────────────────────────────────────────────────────────────────────────────╯"
      ]
     },
     "execution_count": 5,
     "metadata": {},
     "output_type": "execute_result"
    }
   ],
   "source": [
    "filings"
   ]
  },
  {
   "cell_type": "markdown",
   "id": "7ac27af3",
   "metadata": {},
   "source": [
    "## Get next page of filings"
   ]
  },
  {
   "cell_type": "code",
   "execution_count": 6,
   "id": "a7255a86",
   "metadata": {},
   "outputs": [
    {
     "data": {
      "text/html": [
       "<pre style=\"white-space:pre;overflow-x:auto;line-height:normal;font-family:Menlo,'DejaVu Sans Mono',consolas,'Courier New',monospace\"></pre>\n"
      ],
      "text/plain": []
     },
     "metadata": {},
     "output_type": "display_data"
    },
    {
     "data": {
      "text/plain": [
       "╭──────────────────────────────────────────────────── Filings ────────────────────────────────────────────────────╮\n",
       "│                                                                                                                 │\n",
       "│  \u001b[1m \u001b[0m\u001b[1m  \u001b[0m\u001b[1m \u001b[0m \u001b[1;38;5;71m \u001b[0m\u001b[1;38;5;71mform  \u001b[0m\u001b[1;38;5;71m \u001b[0m \u001b[1m \u001b[0m\u001b[1mcompany                                       \u001b[0m\u001b[1m \u001b[0m \u001b[1m \u001b[0m\u001b[1mcik    \u001b[0m\u001b[1m \u001b[0m \u001b[1;38;5;39m \u001b[0m\u001b[1;38;5;39mfiling_date\u001b[0m\u001b[1;38;5;39m \u001b[0m \u001b[1m \u001b[0m\u001b[1maccession_number    \u001b[0m\u001b[1m \u001b[0m  │\n",
       "│  ─────────────────────────────────────────────────────────────────────────────────────────────────────────────  │\n",
       "│  \u001b[1m \u001b[0m\u001b[1m50\u001b[0m\u001b[1m \u001b[0m \u001b[1;38;5;71m \u001b[0m\u001b[1;38;5;71m10-K  \u001b[0m\u001b[1;38;5;71m \u001b[0m \u001b[1m \u001b[0m\u001b[1mPredictive Oncology Inc.                      \u001b[0m\u001b[1m \u001b[0m \u001b[1m \u001b[0m\u001b[1m1446159\u001b[0m\u001b[1m \u001b[0m \u001b[1;38;5;39m \u001b[0m\u001b[1;38;5;39m2023-03-21 \u001b[0m\u001b[1;38;5;39m \u001b[0m \u001b[1m \u001b[0m\u001b[1m0001171843-23-001805\u001b[0m\u001b[1m \u001b[0m  │\n",
       "│   51  \u001b[38;5;71m \u001b[0m\u001b[38;5;71m10-K  \u001b[0m\u001b[38;5;71m \u001b[0m  ROC Energy Acquisition Corp.                     1884516  \u001b[38;5;39m \u001b[0m\u001b[38;5;39m2023-03-21 \u001b[0m\u001b[38;5;39m \u001b[0m  0001410578-23-000305   │\n",
       "│  \u001b[1m \u001b[0m\u001b[1m52\u001b[0m\u001b[1m \u001b[0m \u001b[1;38;5;71m \u001b[0m\u001b[1;38;5;71m10-K  \u001b[0m\u001b[1;38;5;71m \u001b[0m \u001b[1m \u001b[0m\u001b[1mSOTHERLY HOTELS LP                            \u001b[0m\u001b[1m \u001b[0m \u001b[1m \u001b[0m\u001b[1m1313536\u001b[0m\u001b[1m \u001b[0m \u001b[1;38;5;39m \u001b[0m\u001b[1;38;5;39m2023-03-21 \u001b[0m\u001b[1;38;5;39m \u001b[0m \u001b[1m \u001b[0m\u001b[1m0000950170-23-008980\u001b[0m\u001b[1m \u001b[0m  │\n",
       "│   53  \u001b[38;5;71m \u001b[0m\u001b[38;5;71m10-K  \u001b[0m\u001b[38;5;71m \u001b[0m  Samsara Inc.                                     1642896  \u001b[38;5;39m \u001b[0m\u001b[38;5;39m2023-03-21 \u001b[0m\u001b[38;5;39m \u001b[0m  0001642896-23-000016   │\n",
       "│  \u001b[1m \u001b[0m\u001b[1m54\u001b[0m\u001b[1m \u001b[0m \u001b[1;38;5;71m \u001b[0m\u001b[1;38;5;71m10-K  \u001b[0m\u001b[1;38;5;71m \u001b[0m \u001b[1m \u001b[0m\u001b[1mSotherly Hotels Inc.                          \u001b[0m\u001b[1m \u001b[0m \u001b[1m \u001b[0m\u001b[1m1301236\u001b[0m\u001b[1m \u001b[0m \u001b[1;38;5;39m \u001b[0m\u001b[1;38;5;39m2023-03-21 \u001b[0m\u001b[1;38;5;39m \u001b[0m \u001b[1m \u001b[0m\u001b[1m0000950170-23-008980\u001b[0m\u001b[1m \u001b[0m  │\n",
       "│   55  \u001b[38;5;71m \u001b[0m\u001b[38;5;71m10-K  \u001b[0m\u001b[38;5;71m \u001b[0m  Southland Holdings, Inc.                         1883814  \u001b[38;5;39m \u001b[0m\u001b[38;5;39m2023-03-21 \u001b[0m\u001b[38;5;39m \u001b[0m  0001558370-23-004297   │\n",
       "│  \u001b[1m \u001b[0m\u001b[1m56\u001b[0m\u001b[1m \u001b[0m \u001b[1;38;5;71m \u001b[0m\u001b[1;38;5;71m10-K  \u001b[0m\u001b[1;38;5;71m \u001b[0m \u001b[1m \u001b[0m\u001b[1mSynaptogenix, Inc.                            \u001b[0m\u001b[1m \u001b[0m \u001b[1m \u001b[0m\u001b[1m1571934\u001b[0m\u001b[1m \u001b[0m \u001b[1;38;5;39m \u001b[0m\u001b[1;38;5;39m2023-03-21 \u001b[0m\u001b[1;38;5;39m \u001b[0m \u001b[1m \u001b[0m\u001b[1m0001410578-23-000319\u001b[0m\u001b[1m \u001b[0m  │\n",
       "│   57  \u001b[38;5;71m \u001b[0m\u001b[38;5;71m10-K  \u001b[0m\u001b[38;5;71m \u001b[0m  Vigil Neuroscience, Inc.                         1827087  \u001b[38;5;39m \u001b[0m\u001b[38;5;39m2023-03-21 \u001b[0m\u001b[38;5;39m \u001b[0m  0000950170-23-008835   │\n",
       "│  \u001b[1m \u001b[0m\u001b[1m58\u001b[0m\u001b[1m \u001b[0m \u001b[1;38;5;71m \u001b[0m\u001b[1;38;5;71m10-K  \u001b[0m\u001b[1;38;5;71m \u001b[0m \u001b[1m \u001b[0m\u001b[1mVynleads, Inc.                                \u001b[0m\u001b[1m \u001b[0m \u001b[1m \u001b[0m\u001b[1m1745078\u001b[0m\u001b[1m \u001b[0m \u001b[1;38;5;39m \u001b[0m\u001b[1;38;5;39m2023-03-21 \u001b[0m\u001b[1;38;5;39m \u001b[0m \u001b[1m \u001b[0m\u001b[1m0001553350-23-000194\u001b[0m\u001b[1m \u001b[0m  │\n",
       "│   59  \u001b[38;5;71m \u001b[0m\u001b[38;5;71m10-K  \u001b[0m\u001b[38;5;71m \u001b[0m  WFN CREDIT CO LLC                                1139552  \u001b[38;5;39m \u001b[0m\u001b[38;5;39m2023-03-21 \u001b[0m\u001b[38;5;39m \u001b[0m  0001101215-23-000062   │\n",
       "│  \u001b[1m \u001b[0m\u001b[1m60\u001b[0m\u001b[1m \u001b[0m \u001b[1;38;5;71m \u001b[0m\u001b[1;38;5;71m10-K  \u001b[0m\u001b[1;38;5;71m \u001b[0m \u001b[1m \u001b[0m\u001b[1mWORLD FINANCIAL NETWORK CREDIT CARD MASTER    \u001b[0m\u001b[1m \u001b[0m \u001b[1m \u001b[0m\u001b[1m1282663\u001b[0m\u001b[1m \u001b[0m \u001b[1;38;5;39m \u001b[0m\u001b[1;38;5;39m2023-03-21 \u001b[0m\u001b[1;38;5;39m \u001b[0m \u001b[1m \u001b[0m\u001b[1m0001101215-23-000062\u001b[0m\u001b[1m \u001b[0m  │\n",
       "│  \u001b[1m    \u001b[0m \u001b[1;38;5;71m        \u001b[0m \u001b[1m \u001b[0m\u001b[1mNOTE TRUST                                    \u001b[0m\u001b[1m \u001b[0m \u001b[1m         \u001b[0m \u001b[1;38;5;39m             \u001b[0m \u001b[1m                      \u001b[0m  │\n",
       "│   61  \u001b[38;5;71m \u001b[0m\u001b[38;5;71m10-K  \u001b[0m\u001b[38;5;71m \u001b[0m  WORLD FINANCIAL NETWORK CREDIT CARD MASTER       1140096  \u001b[38;5;39m \u001b[0m\u001b[38;5;39m2023-03-21 \u001b[0m\u001b[38;5;39m \u001b[0m  0001101215-23-000062   │\n",
       "│       \u001b[38;5;71m        \u001b[0m  TRUST                                                     \u001b[38;5;39m             \u001b[0m                         │\n",
       "│  \u001b[1m \u001b[0m\u001b[1m62\u001b[0m\u001b[1m \u001b[0m \u001b[1;38;5;71m \u001b[0m\u001b[1;38;5;71m10-K  \u001b[0m\u001b[1;38;5;71m \u001b[0m \u001b[1m \u001b[0m\u001b[1mWestrock Coffee Co                            \u001b[0m\u001b[1m \u001b[0m \u001b[1m \u001b[0m\u001b[1m1806347\u001b[0m\u001b[1m \u001b[0m \u001b[1;38;5;39m \u001b[0m\u001b[1;38;5;39m2023-03-21 \u001b[0m\u001b[1;38;5;39m \u001b[0m \u001b[1m \u001b[0m\u001b[1m0001558370-23-004279\u001b[0m\u001b[1m \u001b[0m  │\n",
       "│   63  \u001b[38;5;71m \u001b[0m\u001b[38;5;71m10-K  \u001b[0m\u001b[38;5;71m \u001b[0m  X4 Pharmaceuticals, Inc                          1501697  \u001b[38;5;39m \u001b[0m\u001b[38;5;39m2023-03-21 \u001b[0m\u001b[38;5;39m \u001b[0m  0001628280-23-008745   │\n",
       "│  \u001b[1m \u001b[0m\u001b[1m64\u001b[0m\u001b[1m \u001b[0m \u001b[1;38;5;71m \u001b[0m\u001b[1;38;5;71m10-K  \u001b[0m\u001b[1;38;5;71m \u001b[0m \u001b[1m \u001b[0m\u001b[1miSpecimen Inc.                                \u001b[0m\u001b[1m \u001b[0m \u001b[1m \u001b[0m\u001b[1m1558569\u001b[0m\u001b[1m \u001b[0m \u001b[1;38;5;39m \u001b[0m\u001b[1;38;5;39m2023-03-21 \u001b[0m\u001b[1;38;5;39m \u001b[0m \u001b[1m \u001b[0m\u001b[1m0001558370-23-004231\u001b[0m\u001b[1m \u001b[0m  │\n",
       "│   65  \u001b[38;5;71m \u001b[0m\u001b[38;5;71m10-K/A\u001b[0m\u001b[38;5;71m \u001b[0m  AgroFresh Solutions, Inc.                        1592016  \u001b[38;5;39m \u001b[0m\u001b[38;5;39m2023-03-21 \u001b[0m\u001b[38;5;39m \u001b[0m  0001592016-23-000010   │\n",
       "│  \u001b[1m \u001b[0m\u001b[1m66\u001b[0m\u001b[1m \u001b[0m \u001b[1;38;5;71m \u001b[0m\u001b[1;38;5;71m10-K/A\u001b[0m\u001b[1;38;5;71m \u001b[0m \u001b[1m \u001b[0m\u001b[1mFirsthand Technology Value Fund, Inc.         \u001b[0m\u001b[1m \u001b[0m \u001b[1m \u001b[0m\u001b[1m1495584\u001b[0m\u001b[1m \u001b[0m \u001b[1;38;5;39m \u001b[0m\u001b[1;38;5;39m2023-03-21 \u001b[0m\u001b[1;38;5;39m \u001b[0m \u001b[1m \u001b[0m\u001b[1m0001398344-23-006445\u001b[0m\u001b[1m \u001b[0m  │\n",
       "│   67  \u001b[38;5;71m \u001b[0m\u001b[38;5;71m10-K/A\u001b[0m\u001b[38;5;71m \u001b[0m  PAR TECHNOLOGY CORP                              708821   \u001b[38;5;39m \u001b[0m\u001b[38;5;39m2023-03-21 \u001b[0m\u001b[38;5;39m \u001b[0m  0000708821-23-000038   │\n",
       "│  \u001b[1m \u001b[0m\u001b[1m68\u001b[0m\u001b[1m \u001b[0m \u001b[1;38;5;71m \u001b[0m\u001b[1;38;5;71m10-K/A\u001b[0m\u001b[1;38;5;71m \u001b[0m \u001b[1m \u001b[0m\u001b[1mSOUTHERN MISSOURI BANCORP, INC.               \u001b[0m\u001b[1m \u001b[0m \u001b[1m \u001b[0m\u001b[1m916907 \u001b[0m\u001b[1m \u001b[0m \u001b[1;38;5;39m \u001b[0m\u001b[1;38;5;39m2023-03-21 \u001b[0m\u001b[1;38;5;39m \u001b[0m \u001b[1m \u001b[0m\u001b[1m0001558370-23-004276\u001b[0m\u001b[1m \u001b[0m  │\n",
       "│   69  \u001b[38;5;71m \u001b[0m\u001b[38;5;71m10-Q  \u001b[0m\u001b[38;5;71m \u001b[0m  AAR CORP                                         1750     \u001b[38;5;39m \u001b[0m\u001b[38;5;39m2023-03-21 \u001b[0m\u001b[38;5;39m \u001b[0m  0001104659-23-035153   │\n",
       "│  \u001b[1m \u001b[0m\u001b[1m70\u001b[0m\u001b[1m \u001b[0m \u001b[1;38;5;71m \u001b[0m\u001b[1;38;5;71m10-Q  \u001b[0m\u001b[1;38;5;71m \u001b[0m \u001b[1m \u001b[0m\u001b[1mPanamera Holdings Corp                        \u001b[0m\u001b[1m \u001b[0m \u001b[1m \u001b[0m\u001b[1m1620749\u001b[0m\u001b[1m \u001b[0m \u001b[1;38;5;39m \u001b[0m\u001b[1;38;5;39m2023-03-21 \u001b[0m\u001b[1;38;5;39m \u001b[0m \u001b[1m \u001b[0m\u001b[1m0001640334-23-000397\u001b[0m\u001b[1m \u001b[0m  │\n",
       "│   71  \u001b[38;5;71m \u001b[0m\u001b[38;5;71m10-Q  \u001b[0m\u001b[38;5;71m \u001b[0m  Treasure & Shipwreck Recovery, Inc.              1703625  \u001b[38;5;39m \u001b[0m\u001b[38;5;39m2023-03-21 \u001b[0m\u001b[38;5;39m \u001b[0m  0001199835-23-000161   │\n",
       "│  \u001b[1m \u001b[0m\u001b[1m72\u001b[0m\u001b[1m \u001b[0m \u001b[1;38;5;71m \u001b[0m\u001b[1;38;5;71m10-Q/A\u001b[0m\u001b[1;38;5;71m \u001b[0m \u001b[1m \u001b[0m\u001b[1mArma Services Inc                             \u001b[0m\u001b[1m \u001b[0m \u001b[1m \u001b[0m\u001b[1m1625285\u001b[0m\u001b[1m \u001b[0m \u001b[1;38;5;39m \u001b[0m\u001b[1;38;5;39m2023-03-21 \u001b[0m\u001b[1;38;5;39m \u001b[0m \u001b[1m \u001b[0m\u001b[1m0001683168-23-001631\u001b[0m\u001b[1m \u001b[0m  │\n",
       "│   73  \u001b[38;5;71m \u001b[0m\u001b[38;5;71m10-Q/A\u001b[0m\u001b[38;5;71m \u001b[0m  Point of Care Nano-Technology, Inc.              1504239  \u001b[38;5;39m \u001b[0m\u001b[38;5;39m2023-03-21 \u001b[0m\u001b[38;5;39m \u001b[0m  0001199835-23-000154   │\n",
       "│  \u001b[1m \u001b[0m\u001b[1m74\u001b[0m\u001b[1m \u001b[0m \u001b[1;38;5;71m \u001b[0m\u001b[1;38;5;71m10-Q/A\u001b[0m\u001b[1;38;5;71m \u001b[0m \u001b[1m \u001b[0m\u001b[1mTego Cyber, Inc.                              \u001b[0m\u001b[1m \u001b[0m \u001b[1m \u001b[0m\u001b[1m1815632\u001b[0m\u001b[1m \u001b[0m \u001b[1;38;5;39m \u001b[0m\u001b[1;38;5;39m2023-03-21 \u001b[0m\u001b[1;38;5;39m \u001b[0m \u001b[1m \u001b[0m\u001b[1m0001654954-23-003217\u001b[0m\u001b[1m \u001b[0m  │\n",
       "│   75  \u001b[38;5;71m \u001b[0m\u001b[38;5;71m13F-HR\u001b[0m\u001b[38;5;71m \u001b[0m  American Portfolios Advisors                     1961150  \u001b[38;5;39m \u001b[0m\u001b[38;5;39m2023-03-21 \u001b[0m\u001b[38;5;39m \u001b[0m  0001961150-23-000006   │\n",
       "│  \u001b[1m \u001b[0m\u001b[1m76\u001b[0m\u001b[1m \u001b[0m \u001b[1;38;5;71m \u001b[0m\u001b[1;38;5;71m13F-HR\u001b[0m\u001b[1;38;5;71m \u001b[0m \u001b[1m \u001b[0m\u001b[1mAmerican Portfolios Advisors                  \u001b[0m\u001b[1m \u001b[0m \u001b[1m \u001b[0m\u001b[1m1961150\u001b[0m\u001b[1m \u001b[0m \u001b[1;38;5;39m \u001b[0m\u001b[1;38;5;39m2023-03-21 \u001b[0m\u001b[1;38;5;39m \u001b[0m \u001b[1m \u001b[0m\u001b[1m0001961150-23-000007\u001b[0m\u001b[1m \u001b[0m  │\n",
       "│   77  \u001b[38;5;71m \u001b[0m\u001b[38;5;71m13F-HR\u001b[0m\u001b[38;5;71m \u001b[0m  Cabot-Wellington, LLC                            1353198  \u001b[38;5;39m \u001b[0m\u001b[38;5;39m2023-03-21 \u001b[0m\u001b[38;5;39m \u001b[0m  0001062993-23-007342   │\n",
       "│  \u001b[1m \u001b[0m\u001b[1m78\u001b[0m\u001b[1m \u001b[0m \u001b[1;38;5;71m \u001b[0m\u001b[1;38;5;71m13F-HR\u001b[0m\u001b[1;38;5;71m \u001b[0m \u001b[1m \u001b[0m\u001b[1mCabot-Wellington, LLC                         \u001b[0m\u001b[1m \u001b[0m \u001b[1m \u001b[0m\u001b[1m1353198\u001b[0m\u001b[1m \u001b[0m \u001b[1;38;5;39m \u001b[0m\u001b[1;38;5;39m2023-03-21 \u001b[0m\u001b[1;38;5;39m \u001b[0m \u001b[1m \u001b[0m\u001b[1m0001062993-23-007344\u001b[0m\u001b[1m \u001b[0m  │\n",
       "│   79  \u001b[38;5;71m \u001b[0m\u001b[38;5;71m13F-HR\u001b[0m\u001b[38;5;71m \u001b[0m  Cabot-Wellington, LLC                            1353198  \u001b[38;5;39m \u001b[0m\u001b[38;5;39m2023-03-21 \u001b[0m\u001b[38;5;39m \u001b[0m  0001062993-23-007345   │\n",
       "│  \u001b[1m \u001b[0m\u001b[1m80\u001b[0m\u001b[1m \u001b[0m \u001b[1;38;5;71m \u001b[0m\u001b[1;38;5;71m13F-HR\u001b[0m\u001b[1;38;5;71m \u001b[0m \u001b[1m \u001b[0m\u001b[1mCabot-Wellington, LLC                         \u001b[0m\u001b[1m \u001b[0m \u001b[1m \u001b[0m\u001b[1m1353198\u001b[0m\u001b[1m \u001b[0m \u001b[1;38;5;39m \u001b[0m\u001b[1;38;5;39m2023-03-21 \u001b[0m\u001b[1;38;5;39m \u001b[0m \u001b[1m \u001b[0m\u001b[1m0001062993-23-007347\u001b[0m\u001b[1m \u001b[0m  │\n",
       "│   81  \u001b[38;5;71m \u001b[0m\u001b[38;5;71m13F-HR\u001b[0m\u001b[38;5;71m \u001b[0m  Cabot-Wellington, LLC                            1353198  \u001b[38;5;39m \u001b[0m\u001b[38;5;39m2023-03-21 \u001b[0m\u001b[38;5;39m \u001b[0m  0001062993-23-007349   │\n",
       "│  \u001b[1m \u001b[0m\u001b[1m82\u001b[0m\u001b[1m \u001b[0m \u001b[1;38;5;71m \u001b[0m\u001b[1;38;5;71m144   \u001b[0m\u001b[1;38;5;71m \u001b[0m \u001b[1m \u001b[0m\u001b[1mALFORD ANDREW                                 \u001b[0m\u001b[1m \u001b[0m \u001b[1m \u001b[0m\u001b[1m1715344\u001b[0m\u001b[1m \u001b[0m \u001b[1;38;5;39m \u001b[0m\u001b[1;38;5;39m2023-03-21 \u001b[0m\u001b[1;38;5;39m \u001b[0m \u001b[1m \u001b[0m\u001b[1m0001959173-23-000313\u001b[0m\u001b[1m \u001b[0m  │\n",
       "│   83  \u001b[38;5;71m \u001b[0m\u001b[38;5;71m144   \u001b[0m\u001b[38;5;71m \u001b[0m  Airbnb, Inc.                                     1559720  \u001b[38;5;39m \u001b[0m\u001b[38;5;39m2023-03-21 \u001b[0m\u001b[38;5;39m \u001b[0m  0001959173-23-000311   │\n",
       "│  \u001b[1m \u001b[0m\u001b[1m84\u001b[0m\u001b[1m \u001b[0m \u001b[1;38;5;71m \u001b[0m\u001b[1;38;5;71m144   \u001b[0m\u001b[1;38;5;71m \u001b[0m \u001b[1m \u001b[0m\u001b[1mApellis Pharmaceuticals, Inc.                 \u001b[0m\u001b[1m \u001b[0m \u001b[1m \u001b[0m\u001b[1m1492422\u001b[0m\u001b[1m \u001b[0m \u001b[1;38;5;39m \u001b[0m\u001b[1;38;5;39m2023-03-21 \u001b[0m\u001b[1;38;5;39m \u001b[0m \u001b[1m \u001b[0m\u001b[1m0001959173-23-000309\u001b[0m\u001b[1m \u001b[0m  │\n",
       "│   85  \u001b[38;5;71m \u001b[0m\u001b[38;5;71m144   \u001b[0m\u001b[38;5;71m \u001b[0m  BEST BUY CO INC                                  764478   \u001b[38;5;39m \u001b[0m\u001b[38;5;39m2023-03-21 \u001b[0m\u001b[38;5;39m \u001b[0m  0001959173-23-000319   │\n",
       "│  \u001b[1m \u001b[0m\u001b[1m86\u001b[0m\u001b[1m \u001b[0m \u001b[1;38;5;71m \u001b[0m\u001b[1;38;5;71m144   \u001b[0m\u001b[1;38;5;71m \u001b[0m \u001b[1m \u001b[0m\u001b[1mBEST BUY CO INC                               \u001b[0m\u001b[1m \u001b[0m \u001b[1m \u001b[0m\u001b[1m764478 \u001b[0m\u001b[1m \u001b[0m \u001b[1;38;5;39m \u001b[0m\u001b[1;38;5;39m2023-03-21 \u001b[0m\u001b[1;38;5;39m \u001b[0m \u001b[1m \u001b[0m\u001b[1m0001959173-23-000320\u001b[0m\u001b[1m \u001b[0m  │\n",
       "│   87  \u001b[38;5;71m \u001b[0m\u001b[38;5;71m144   \u001b[0m\u001b[38;5;71m \u001b[0m  BEST BUY CO INC                                  764478   \u001b[38;5;39m \u001b[0m\u001b[38;5;39m2023-03-21 \u001b[0m\u001b[38;5;39m \u001b[0m  0001959173-23-000321   │\n",
       "│  \u001b[1m \u001b[0m\u001b[1m88\u001b[0m\u001b[1m \u001b[0m \u001b[1;38;5;71m \u001b[0m\u001b[1;38;5;71m144   \u001b[0m\u001b[1;38;5;71m \u001b[0m \u001b[1m \u001b[0m\u001b[1mBEST BUY CO INC                               \u001b[0m\u001b[1m \u001b[0m \u001b[1m \u001b[0m\u001b[1m764478 \u001b[0m\u001b[1m \u001b[0m \u001b[1;38;5;39m \u001b[0m\u001b[1;38;5;39m2023-03-21 \u001b[0m\u001b[1;38;5;39m \u001b[0m \u001b[1m \u001b[0m\u001b[1m0001959173-23-000322\u001b[0m\u001b[1m \u001b[0m  │\n",
       "│   89  \u001b[38;5;71m \u001b[0m\u001b[38;5;71m144   \u001b[0m\u001b[38;5;71m \u001b[0m  Barry Corie S                                    1676999  \u001b[38;5;39m \u001b[0m\u001b[38;5;39m2023-03-21 \u001b[0m\u001b[38;5;39m \u001b[0m  0001959173-23-000320   │\n",
       "│  \u001b[1m \u001b[0m\u001b[1m90\u001b[0m\u001b[1m \u001b[0m \u001b[1;38;5;71m \u001b[0m\u001b[1;38;5;71m144   \u001b[0m\u001b[1;38;5;71m \u001b[0m \u001b[1m \u001b[0m\u001b[1mBennett Bruce Tyler                           \u001b[0m\u001b[1m \u001b[0m \u001b[1m \u001b[0m\u001b[1m1887111\u001b[0m\u001b[1m \u001b[0m \u001b[1;38;5;39m \u001b[0m\u001b[1;38;5;39m2023-03-21 \u001b[0m\u001b[1;38;5;39m \u001b[0m \u001b[1m \u001b[0m\u001b[1m0001887111-23-000003\u001b[0m\u001b[1m \u001b[0m  │\n",
       "│   91  \u001b[38;5;71m \u001b[0m\u001b[38;5;71m144   \u001b[0m\u001b[38;5;71m \u001b[0m  Benson Hill, Inc.                                1830210  \u001b[38;5;39m \u001b[0m\u001b[38;5;39m2023-03-21 \u001b[0m\u001b[38;5;39m \u001b[0m  0001606927-23-000002   │\n",
       "│  \u001b[1m \u001b[0m\u001b[1m92\u001b[0m\u001b[1m \u001b[0m \u001b[1;38;5;71m \u001b[0m\u001b[1;38;5;71m144   \u001b[0m\u001b[1;38;5;71m \u001b[0m \u001b[1m \u001b[0m\u001b[1mBenson Hill, Inc.                             \u001b[0m\u001b[1m \u001b[0m \u001b[1m \u001b[0m\u001b[1m1830210\u001b[0m\u001b[1m \u001b[0m \u001b[1;38;5;39m \u001b[0m\u001b[1;38;5;39m2023-03-21 \u001b[0m\u001b[1;38;5;39m \u001b[0m \u001b[1m \u001b[0m\u001b[1m0001885241-23-000002\u001b[0m\u001b[1m \u001b[0m  │\n",
       "│   93  \u001b[38;5;71m \u001b[0m\u001b[38;5;71m144   \u001b[0m\u001b[38;5;71m \u001b[0m  Benson Hill, Inc.                                1830210  \u001b[38;5;39m \u001b[0m\u001b[38;5;39m2023-03-21 \u001b[0m\u001b[38;5;39m \u001b[0m  0001887111-23-000003   │\n",
       "│  \u001b[1m \u001b[0m\u001b[1m94\u001b[0m\u001b[1m \u001b[0m \u001b[1;38;5;71m \u001b[0m\u001b[1;38;5;71m144   \u001b[0m\u001b[1;38;5;71m \u001b[0m \u001b[1m \u001b[0m\u001b[1mBorges Luis                                   \u001b[0m\u001b[1m \u001b[0m \u001b[1m \u001b[0m\u001b[1m1684015\u001b[0m\u001b[1m \u001b[0m \u001b[1;38;5;39m \u001b[0m\u001b[1;38;5;39m2023-03-21 \u001b[0m\u001b[1;38;5;39m \u001b[0m \u001b[1m \u001b[0m\u001b[1m0001959173-23-000318\u001b[0m\u001b[1m \u001b[0m  │\n",
       "│   95  \u001b[38;5;71m \u001b[0m\u001b[38;5;71m144   \u001b[0m\u001b[38;5;71m \u001b[0m  Brophy Karen A                                   1833167  \u001b[38;5;39m \u001b[0m\u001b[38;5;39m2023-03-21 \u001b[0m\u001b[38;5;39m \u001b[0m  0001959173-23-000314   │\n",
       "│  \u001b[1m \u001b[0m\u001b[1m96\u001b[0m\u001b[1m \u001b[0m \u001b[1;38;5;71m \u001b[0m\u001b[1;38;5;71m144   \u001b[0m\u001b[1;38;5;71m \u001b[0m \u001b[1m \u001b[0m\u001b[1mBull Jason                                    \u001b[0m\u001b[1m \u001b[0m \u001b[1m \u001b[0m\u001b[1m1885241\u001b[0m\u001b[1m \u001b[0m \u001b[1;38;5;39m \u001b[0m\u001b[1;38;5;39m2023-03-21 \u001b[0m\u001b[1;38;5;39m \u001b[0m \u001b[1m \u001b[0m\u001b[1m0001885241-23-000002\u001b[0m\u001b[1m \u001b[0m  │\n",
       "│   97  \u001b[38;5;71m \u001b[0m\u001b[38;5;71m144   \u001b[0m\u001b[38;5;71m \u001b[0m  Carter Thomas                                    1470437  \u001b[38;5;39m \u001b[0m\u001b[38;5;39m2023-03-21 \u001b[0m\u001b[38;5;39m \u001b[0m  0001959173-23-000308   │\n",
       "│  \u001b[1m \u001b[0m\u001b[1m98\u001b[0m\u001b[1m \u001b[0m \u001b[1;38;5;71m \u001b[0m\u001b[1;38;5;71m144   \u001b[0m\u001b[1;38;5;71m \u001b[0m \u001b[1m \u001b[0m\u001b[1mCentury Therapeutics, Inc.                    \u001b[0m\u001b[1m \u001b[0m \u001b[1m \u001b[0m\u001b[1m1850119\u001b[0m\u001b[1m \u001b[0m \u001b[1;38;5;39m \u001b[0m\u001b[1;38;5;39m2023-03-21 \u001b[0m\u001b[1;38;5;39m \u001b[0m \u001b[1m \u001b[0m\u001b[1m0001959173-23-000318\u001b[0m\u001b[1m \u001b[0m  │\n",
       "│   99  \u001b[38;5;71m \u001b[0m\u001b[38;5;71m144   \u001b[0m\u001b[38;5;71m \u001b[0m  Emerging Markets Consulting LLC                  1681886  \u001b[38;5;39m \u001b[0m\u001b[38;5;39m2023-03-21 \u001b[0m\u001b[38;5;39m \u001b[0m  0001213900-23-021700   │\n",
       "│                                                                                                                 │\n",
       "│ Showing 50 of 308,318 filings                                                                                   │\n",
       "╰─────────────────────────────────────────────────────────────────────────────────────────────────────────────────╯"
      ]
     },
     "execution_count": 6,
     "metadata": {},
     "output_type": "execute_result"
    }
   ],
   "source": [
    "filings.next()"
   ]
  },
  {
   "cell_type": "markdown",
   "id": "5c8b9211",
   "metadata": {},
   "source": [
    "## Get previous page of filings"
   ]
  },
  {
   "cell_type": "code",
   "execution_count": 7,
   "id": "c1e3f860",
   "metadata": {},
   "outputs": [
    {
     "data": {
      "text/html": [
       "<pre style=\"white-space:pre;overflow-x:auto;line-height:normal;font-family:Menlo,'DejaVu Sans Mono',consolas,'Courier New',monospace\"></pre>\n"
      ],
      "text/plain": []
     },
     "metadata": {},
     "output_type": "display_data"
    },
    {
     "data": {
      "text/plain": [
       "╭──────────────────────────────────────────────────── Filings ────────────────────────────────────────────────────╮\n",
       "│                                                                                                                 │\n",
       "│  \u001b[1m \u001b[0m\u001b[1m  \u001b[0m\u001b[1m \u001b[0m \u001b[1;38;5;71m \u001b[0m\u001b[1;38;5;71mform    \u001b[0m\u001b[1;38;5;71m \u001b[0m \u001b[1m \u001b[0m\u001b[1mcompany                                     \u001b[0m\u001b[1m \u001b[0m \u001b[1m \u001b[0m\u001b[1mcik    \u001b[0m\u001b[1m \u001b[0m \u001b[1;38;5;39m \u001b[0m\u001b[1;38;5;39mfiling_date\u001b[0m\u001b[1;38;5;39m \u001b[0m \u001b[1m \u001b[0m\u001b[1maccession_number    \u001b[0m\u001b[1m \u001b[0m  │\n",
       "│  ─────────────────────────────────────────────────────────────────────────────────────────────────────────────  │\n",
       "│  \u001b[1m \u001b[0m\u001b[1m0 \u001b[0m\u001b[1m \u001b[0m \u001b[1;38;5;71m \u001b[0m\u001b[1;38;5;71m1-A POS \u001b[0m\u001b[1;38;5;71m \u001b[0m \u001b[1m \u001b[0m\u001b[1mHere Collection LLC                         \u001b[0m\u001b[1m \u001b[0m \u001b[1m \u001b[0m\u001b[1m1876769\u001b[0m\u001b[1m \u001b[0m \u001b[1;38;5;39m \u001b[0m\u001b[1;38;5;39m2023-03-21 \u001b[0m\u001b[1;38;5;39m \u001b[0m \u001b[1m \u001b[0m\u001b[1m0001096906-23-000599\u001b[0m\u001b[1m \u001b[0m  │\n",
       "│   1   \u001b[38;5;71m \u001b[0m\u001b[38;5;71m1-A/A   \u001b[0m\u001b[38;5;71m \u001b[0m  CancerVAX, Inc.                                1905495  \u001b[38;5;39m \u001b[0m\u001b[38;5;39m2023-03-21 \u001b[0m\u001b[38;5;39m \u001b[0m  0001493152-23-008348   │\n",
       "│  \u001b[1m \u001b[0m\u001b[1m2 \u001b[0m\u001b[1m \u001b[0m \u001b[1;38;5;71m \u001b[0m\u001b[1;38;5;71m1-A/A   \u001b[0m\u001b[1;38;5;71m \u001b[0m \u001b[1m \u001b[0m\u001b[1mPerformance Drink Group, Inc.               \u001b[0m\u001b[1m \u001b[0m \u001b[1m \u001b[0m\u001b[1m1902930\u001b[0m\u001b[1m \u001b[0m \u001b[1;38;5;39m \u001b[0m\u001b[1;38;5;39m2023-03-21 \u001b[0m\u001b[1;38;5;39m \u001b[0m \u001b[1m \u001b[0m\u001b[1m0001393905-23-000139\u001b[0m\u001b[1m \u001b[0m  │\n",
       "│   3   \u001b[38;5;71m \u001b[0m\u001b[38;5;71m1-U     \u001b[0m\u001b[38;5;71m \u001b[0m  Masterworks 230, LLC                           1958950  \u001b[38;5;39m \u001b[0m\u001b[38;5;39m2023-03-21 \u001b[0m\u001b[38;5;39m \u001b[0m  0001493152-23-008389   │\n",
       "│  \u001b[1m \u001b[0m\u001b[1m4 \u001b[0m\u001b[1m \u001b[0m \u001b[1;38;5;71m \u001b[0m\u001b[1;38;5;71m10-12G  \u001b[0m\u001b[1;38;5;71m \u001b[0m \u001b[1m \u001b[0m\u001b[1mVestiage, Inc.                              \u001b[0m\u001b[1m \u001b[0m \u001b[1m \u001b[0m\u001b[1m1594968\u001b[0m\u001b[1m \u001b[0m \u001b[1;38;5;39m \u001b[0m\u001b[1;38;5;39m2023-03-21 \u001b[0m\u001b[1;38;5;39m \u001b[0m \u001b[1m \u001b[0m\u001b[1m0001683168-23-001635\u001b[0m\u001b[1m \u001b[0m  │\n",
       "│   5   \u001b[38;5;71m \u001b[0m\u001b[38;5;71m10-12G/A\u001b[0m\u001b[38;5;71m \u001b[0m  Lucent, Inc.                                   1778343  \u001b[38;5;39m \u001b[0m\u001b[38;5;39m2023-03-21 \u001b[0m\u001b[38;5;39m \u001b[0m  0001393905-23-000138   │\n",
       "│  \u001b[1m \u001b[0m\u001b[1m6 \u001b[0m\u001b[1m \u001b[0m \u001b[1;38;5;71m \u001b[0m\u001b[1;38;5;71m10-D    \u001b[0m\u001b[1;38;5;71m \u001b[0m \u001b[1m \u001b[0m\u001b[1mAmeriCredit Automobile Receivables Trust    \u001b[0m\u001b[1m \u001b[0m \u001b[1m \u001b[0m\u001b[1m1745314\u001b[0m\u001b[1m \u001b[0m \u001b[1;38;5;39m \u001b[0m\u001b[1;38;5;39m2023-03-21 \u001b[0m\u001b[1;38;5;39m \u001b[0m \u001b[1m \u001b[0m\u001b[1m0001213900-23-021554\u001b[0m\u001b[1m \u001b[0m  │\n",
       "│  \u001b[1m    \u001b[0m \u001b[1;38;5;71m          \u001b[0m \u001b[1m \u001b[0m\u001b[1m2018-2                                      \u001b[0m\u001b[1m \u001b[0m \u001b[1m         \u001b[0m \u001b[1;38;5;39m             \u001b[0m \u001b[1m                      \u001b[0m  │\n",
       "│   7   \u001b[38;5;71m \u001b[0m\u001b[38;5;71m10-D    \u001b[0m\u001b[38;5;71m \u001b[0m  CFCRE 2016-C4 Mortgage Trust                   1671048  \u001b[38;5;39m \u001b[0m\u001b[38;5;39m2023-03-21 \u001b[0m\u001b[38;5;39m \u001b[0m  0001853620-23-000066   │\n",
       "│  \u001b[1m \u001b[0m\u001b[1m8 \u001b[0m\u001b[1m \u001b[0m \u001b[1;38;5;71m \u001b[0m\u001b[1;38;5;71m10-D    \u001b[0m\u001b[1;38;5;71m \u001b[0m \u001b[1m \u001b[0m\u001b[1mFord Credit Auto Lease Trust 2021-A         \u001b[0m\u001b[1m \u001b[0m \u001b[1m \u001b[0m\u001b[1m1837019\u001b[0m\u001b[1m \u001b[0m \u001b[1;38;5;39m \u001b[0m\u001b[1;38;5;39m2023-03-21 \u001b[0m\u001b[1;38;5;39m \u001b[0m \u001b[1m \u001b[0m\u001b[1m0001837019-23-000014\u001b[0m\u001b[1m \u001b[0m  │\n",
       "│   9   \u001b[38;5;71m \u001b[0m\u001b[38;5;71m10-D    \u001b[0m\u001b[38;5;71m \u001b[0m  Ford Credit Auto Lease Trust 2021-B            1880978  \u001b[38;5;39m \u001b[0m\u001b[38;5;39m2023-03-21 \u001b[0m\u001b[38;5;39m \u001b[0m  0001880978-23-000015   │\n",
       "│  \u001b[1m \u001b[0m\u001b[1m10\u001b[0m\u001b[1m \u001b[0m \u001b[1;38;5;71m \u001b[0m\u001b[1;38;5;71m10-D    \u001b[0m\u001b[1;38;5;71m \u001b[0m \u001b[1m \u001b[0m\u001b[1mFord Credit Auto Lease Trust 2022-A         \u001b[0m\u001b[1m \u001b[0m \u001b[1m \u001b[0m\u001b[1m1917698\u001b[0m\u001b[1m \u001b[0m \u001b[1;38;5;39m \u001b[0m\u001b[1;38;5;39m2023-03-21 \u001b[0m\u001b[1;38;5;39m \u001b[0m \u001b[1m \u001b[0m\u001b[1m0001917698-23-000013\u001b[0m\u001b[1m \u001b[0m  │\n",
       "│   11  \u001b[38;5;71m \u001b[0m\u001b[38;5;71m10-D    \u001b[0m\u001b[38;5;71m \u001b[0m  Ford Credit Auto Lease Trust 2023-A            1959048  \u001b[38;5;39m \u001b[0m\u001b[38;5;39m2023-03-21 \u001b[0m\u001b[38;5;39m \u001b[0m  0001959048-23-000009   │\n",
       "│  \u001b[1m \u001b[0m\u001b[1m12\u001b[0m\u001b[1m \u001b[0m \u001b[1;38;5;71m \u001b[0m\u001b[1;38;5;71m10-D    \u001b[0m\u001b[1;38;5;71m \u001b[0m \u001b[1m \u001b[0m\u001b[1mFord Credit Auto Owner Trust 2019-B         \u001b[0m\u001b[1m \u001b[0m \u001b[1m \u001b[0m\u001b[1m1779201\u001b[0m\u001b[1m \u001b[0m \u001b[1;38;5;39m \u001b[0m\u001b[1;38;5;39m2023-03-21 \u001b[0m\u001b[1;38;5;39m \u001b[0m \u001b[1m \u001b[0m\u001b[1m0001779201-23-000015\u001b[0m\u001b[1m \u001b[0m  │\n",
       "│   13  \u001b[38;5;71m \u001b[0m\u001b[38;5;71m10-D    \u001b[0m\u001b[38;5;71m \u001b[0m  Ford Credit Auto Owner Trust 2019-C            1793014  \u001b[38;5;39m \u001b[0m\u001b[38;5;39m2023-03-21 \u001b[0m\u001b[38;5;39m \u001b[0m  0001793014-23-000014   │\n",
       "│  \u001b[1m \u001b[0m\u001b[1m14\u001b[0m\u001b[1m \u001b[0m \u001b[1;38;5;71m \u001b[0m\u001b[1;38;5;71m10-D    \u001b[0m\u001b[1;38;5;71m \u001b[0m \u001b[1m \u001b[0m\u001b[1mFord Credit Auto Owner Trust 2020-A         \u001b[0m\u001b[1m \u001b[0m \u001b[1m \u001b[0m\u001b[1m1803935\u001b[0m\u001b[1m \u001b[0m \u001b[1;38;5;39m \u001b[0m\u001b[1;38;5;39m2023-03-21 \u001b[0m\u001b[1;38;5;39m \u001b[0m \u001b[1m \u001b[0m\u001b[1m0001803935-23-000015\u001b[0m\u001b[1m \u001b[0m  │\n",
       "│   15  \u001b[38;5;71m \u001b[0m\u001b[38;5;71m10-D    \u001b[0m\u001b[38;5;71m \u001b[0m  Ford Credit Auto Owner Trust 2020-B            1813722  \u001b[38;5;39m \u001b[0m\u001b[38;5;39m2023-03-21 \u001b[0m\u001b[38;5;39m \u001b[0m  0001813722-23-000015   │\n",
       "│  \u001b[1m \u001b[0m\u001b[1m16\u001b[0m\u001b[1m \u001b[0m \u001b[1;38;5;71m \u001b[0m\u001b[1;38;5;71m10-D    \u001b[0m\u001b[1;38;5;71m \u001b[0m \u001b[1m \u001b[0m\u001b[1mFord Credit Auto Owner Trust 2020-C         \u001b[0m\u001b[1m \u001b[0m \u001b[1m \u001b[0m\u001b[1m1830316\u001b[0m\u001b[1m \u001b[0m \u001b[1;38;5;39m \u001b[0m\u001b[1;38;5;39m2023-03-21 \u001b[0m\u001b[1;38;5;39m \u001b[0m \u001b[1m \u001b[0m\u001b[1m0001830316-23-000015\u001b[0m\u001b[1m \u001b[0m  │\n",
       "│   17  \u001b[38;5;71m \u001b[0m\u001b[38;5;71m10-D    \u001b[0m\u001b[38;5;71m \u001b[0m  Ford Credit Auto Owner Trust 2021-A            1843634  \u001b[38;5;39m \u001b[0m\u001b[38;5;39m2023-03-21 \u001b[0m\u001b[38;5;39m \u001b[0m  0001843634-23-000014   │\n",
       "│  \u001b[1m \u001b[0m\u001b[1m18\u001b[0m\u001b[1m \u001b[0m \u001b[1;38;5;71m \u001b[0m\u001b[1;38;5;71m10-D    \u001b[0m\u001b[1;38;5;71m \u001b[0m \u001b[1m \u001b[0m\u001b[1mFord Credit Auto Owner Trust 2022-A         \u001b[0m\u001b[1m \u001b[0m \u001b[1m \u001b[0m\u001b[1m1900656\u001b[0m\u001b[1m \u001b[0m \u001b[1;38;5;39m \u001b[0m\u001b[1;38;5;39m2023-03-21 \u001b[0m\u001b[1;38;5;39m \u001b[0m \u001b[1m \u001b[0m\u001b[1m0001900656-23-000013\u001b[0m\u001b[1m \u001b[0m  │\n",
       "│   19  \u001b[38;5;71m \u001b[0m\u001b[38;5;71m10-D    \u001b[0m\u001b[38;5;71m \u001b[0m  Ford Credit Auto Owner Trust 2022-B            1931934  \u001b[38;5;39m \u001b[0m\u001b[38;5;39m2023-03-21 \u001b[0m\u001b[38;5;39m \u001b[0m  0001931934-23-000013   │\n",
       "│  \u001b[1m \u001b[0m\u001b[1m20\u001b[0m\u001b[1m \u001b[0m \u001b[1;38;5;71m \u001b[0m\u001b[1;38;5;71m10-D    \u001b[0m\u001b[1;38;5;71m \u001b[0m \u001b[1m \u001b[0m\u001b[1mFord Credit Auto Owner Trust 2022-C         \u001b[0m\u001b[1m \u001b[0m \u001b[1m \u001b[0m\u001b[1m1944485\u001b[0m\u001b[1m \u001b[0m \u001b[1;38;5;39m \u001b[0m\u001b[1;38;5;39m2023-03-21 \u001b[0m\u001b[1;38;5;39m \u001b[0m \u001b[1m \u001b[0m\u001b[1m0001944485-23-000013\u001b[0m\u001b[1m \u001b[0m  │\n",
       "│   21  \u001b[38;5;71m \u001b[0m\u001b[38;5;71m10-D    \u001b[0m\u001b[38;5;71m \u001b[0m  Ford Credit Auto Owner Trust 2022-D            1951752  \u001b[38;5;39m \u001b[0m\u001b[38;5;39m2023-03-21 \u001b[0m\u001b[38;5;39m \u001b[0m  0001951752-23-000014   │\n",
       "│  \u001b[1m \u001b[0m\u001b[1m22\u001b[0m\u001b[1m \u001b[0m \u001b[1;38;5;71m \u001b[0m\u001b[1;38;5;71m10-K    \u001b[0m\u001b[1;38;5;71m \u001b[0m \u001b[1m \u001b[0m\u001b[1mADDVANTAGE TECHNOLOGIES GROUP INC           \u001b[0m\u001b[1m \u001b[0m \u001b[1m \u001b[0m\u001b[1m874292 \u001b[0m\u001b[1m \u001b[0m \u001b[1;38;5;39m \u001b[0m\u001b[1;38;5;39m2023-03-21 \u001b[0m\u001b[1;38;5;39m \u001b[0m \u001b[1m \u001b[0m\u001b[1m0001628280-23-008742\u001b[0m\u001b[1m \u001b[0m  │\n",
       "│   23  \u001b[38;5;71m \u001b[0m\u001b[38;5;71m10-K    \u001b[0m\u001b[38;5;71m \u001b[0m  AMERICAN BIO MEDICA CORP                       896747   \u001b[38;5;39m \u001b[0m\u001b[38;5;39m2023-03-21 \u001b[0m\u001b[38;5;39m \u001b[0m  0001654954-23-003260   │\n",
       "│  \u001b[1m \u001b[0m\u001b[1m24\u001b[0m\u001b[1m \u001b[0m \u001b[1;38;5;71m \u001b[0m\u001b[1;38;5;71m10-K    \u001b[0m\u001b[1;38;5;71m \u001b[0m \u001b[1m \u001b[0m\u001b[1mAMPCO PITTSBURGH CORP                       \u001b[0m\u001b[1m \u001b[0m \u001b[1m \u001b[0m\u001b[1m6176   \u001b[0m\u001b[1m \u001b[0m \u001b[1;38;5;39m \u001b[0m\u001b[1;38;5;39m2023-03-21 \u001b[0m\u001b[1;38;5;39m \u001b[0m \u001b[1m \u001b[0m\u001b[1m0000950170-23-008972\u001b[0m\u001b[1m \u001b[0m  │\n",
       "│   25  \u001b[38;5;71m \u001b[0m\u001b[38;5;71m10-K    \u001b[0m\u001b[38;5;71m \u001b[0m  Akerna Corp.                                   1755953  \u001b[38;5;39m \u001b[0m\u001b[38;5;39m2023-03-21 \u001b[0m\u001b[38;5;39m \u001b[0m  0001213900-23-021526   │\n",
       "│  \u001b[1m \u001b[0m\u001b[1m26\u001b[0m\u001b[1m \u001b[0m \u001b[1;38;5;71m \u001b[0m\u001b[1;38;5;71m10-K    \u001b[0m\u001b[1;38;5;71m \u001b[0m \u001b[1m \u001b[0m\u001b[1mBlack Bird Biotech, Inc.                    \u001b[0m\u001b[1m \u001b[0m \u001b[1m \u001b[0m\u001b[1m1409999\u001b[0m\u001b[1m \u001b[0m \u001b[1;38;5;39m \u001b[0m\u001b[1;38;5;39m2023-03-21 \u001b[0m\u001b[1;38;5;39m \u001b[0m \u001b[1m \u001b[0m\u001b[1m0001477932-23-001598\u001b[0m\u001b[1m \u001b[0m  │\n",
       "│   27  \u001b[38;5;71m \u001b[0m\u001b[38;5;71m10-K    \u001b[0m\u001b[38;5;71m \u001b[0m  Brightwood Capital Corp I                      1895316  \u001b[38;5;39m \u001b[0m\u001b[38;5;39m2023-03-21 \u001b[0m\u001b[38;5;39m \u001b[0m  0001104659-23-035124   │\n",
       "│  \u001b[1m \u001b[0m\u001b[1m28\u001b[0m\u001b[1m \u001b[0m \u001b[1;38;5;71m \u001b[0m\u001b[1;38;5;71m10-K    \u001b[0m\u001b[1;38;5;71m \u001b[0m \u001b[1m \u001b[0m\u001b[1mBrilliant Earth Group, Inc.                 \u001b[0m\u001b[1m \u001b[0m \u001b[1m \u001b[0m\u001b[1m1866757\u001b[0m\u001b[1m \u001b[0m \u001b[1;38;5;39m \u001b[0m\u001b[1;38;5;39m2023-03-21 \u001b[0m\u001b[1;38;5;39m \u001b[0m \u001b[1m \u001b[0m\u001b[1m0001866757-23-000050\u001b[0m\u001b[1m \u001b[0m  │\n",
       "│   29  \u001b[38;5;71m \u001b[0m\u001b[38;5;71m10-K    \u001b[0m\u001b[38;5;71m \u001b[0m  CRAWFORD UNITED Corp                           47307    \u001b[38;5;39m \u001b[0m\u001b[38;5;39m2023-03-21 \u001b[0m\u001b[38;5;39m \u001b[0m  0001437749-23-007323   │\n",
       "│  \u001b[1m \u001b[0m\u001b[1m30\u001b[0m\u001b[1m \u001b[0m \u001b[1;38;5;71m \u001b[0m\u001b[1;38;5;71m10-K    \u001b[0m\u001b[1;38;5;71m \u001b[0m \u001b[1m \u001b[0m\u001b[1mCXApp Inc.                                  \u001b[0m\u001b[1m \u001b[0m \u001b[1m \u001b[0m\u001b[1m1820875\u001b[0m\u001b[1m \u001b[0m \u001b[1;38;5;39m \u001b[0m\u001b[1;38;5;39m2023-03-21 \u001b[0m\u001b[1;38;5;39m \u001b[0m \u001b[1m \u001b[0m\u001b[1m0001410578-23-000307\u001b[0m\u001b[1m \u001b[0m  │\n",
       "│   31  \u001b[38;5;71m \u001b[0m\u001b[38;5;71m10-K    \u001b[0m\u001b[38;5;71m \u001b[0m  Canterbury Park Holding Corp                   1672909  \u001b[38;5;39m \u001b[0m\u001b[38;5;39m2023-03-21 \u001b[0m\u001b[38;5;39m \u001b[0m  0001437749-23-007356   │\n",
       "│  \u001b[1m \u001b[0m\u001b[1m32\u001b[0m\u001b[1m \u001b[0m \u001b[1;38;5;71m \u001b[0m\u001b[1;38;5;71m10-K    \u001b[0m\u001b[1;38;5;71m \u001b[0m \u001b[1m \u001b[0m\u001b[1mCue Biopharma, Inc.                         \u001b[0m\u001b[1m \u001b[0m \u001b[1m \u001b[0m\u001b[1m1645460\u001b[0m\u001b[1m \u001b[0m \u001b[1;38;5;39m \u001b[0m\u001b[1;38;5;39m2023-03-21 \u001b[0m\u001b[1;38;5;39m \u001b[0m \u001b[1m \u001b[0m\u001b[1m0000950170-23-008927\u001b[0m\u001b[1m \u001b[0m  │\n",
       "│   33  \u001b[38;5;71m \u001b[0m\u001b[38;5;71m10-K    \u001b[0m\u001b[38;5;71m \u001b[0m  Evoke Pharma Inc                               1403708  \u001b[38;5;39m \u001b[0m\u001b[38;5;39m2023-03-21 \u001b[0m\u001b[38;5;39m \u001b[0m  0000950170-23-008942   │\n",
       "│  \u001b[1m \u001b[0m\u001b[1m34\u001b[0m\u001b[1m \u001b[0m \u001b[1;38;5;71m \u001b[0m\u001b[1;38;5;71m10-K    \u001b[0m\u001b[1;38;5;71m \u001b[0m \u001b[1m \u001b[0m\u001b[1mGS Mortgage Securities Trust 2017-GS6       \u001b[0m\u001b[1m \u001b[0m \u001b[1m \u001b[0m\u001b[1m1704459\u001b[0m\u001b[1m \u001b[0m \u001b[1;38;5;39m \u001b[0m\u001b[1;38;5;39m2023-03-21 \u001b[0m\u001b[1;38;5;39m \u001b[0m \u001b[1m \u001b[0m\u001b[1m0001888524-23-003632\u001b[0m\u001b[1m \u001b[0m  │\n",
       "│   35  \u001b[38;5;71m \u001b[0m\u001b[38;5;71m10-K    \u001b[0m\u001b[38;5;71m \u001b[0m  Global Business Travel Group, Inc.             1820872  \u001b[38;5;39m \u001b[0m\u001b[38;5;39m2023-03-21 \u001b[0m\u001b[38;5;39m \u001b[0m  0001104659-23-035161   │\n",
       "│  \u001b[1m \u001b[0m\u001b[1m36\u001b[0m\u001b[1m \u001b[0m \u001b[1;38;5;71m \u001b[0m\u001b[1;38;5;71m10-K    \u001b[0m\u001b[1;38;5;71m \u001b[0m \u001b[1m \u001b[0m\u001b[1mHireQuest, Inc.                             \u001b[0m\u001b[1m \u001b[0m \u001b[1m \u001b[0m\u001b[1m1140102\u001b[0m\u001b[1m \u001b[0m \u001b[1;38;5;39m \u001b[0m\u001b[1;38;5;39m2023-03-21 \u001b[0m\u001b[1;38;5;39m \u001b[0m \u001b[1m \u001b[0m\u001b[1m0001437749-23-007413\u001b[0m\u001b[1m \u001b[0m  │\n",
       "│   37  \u001b[38;5;71m \u001b[0m\u001b[38;5;71m10-K    \u001b[0m\u001b[38;5;71m \u001b[0m  LFTD PARTNERS INC.                             1391135  \u001b[38;5;39m \u001b[0m\u001b[38;5;39m2023-03-21 \u001b[0m\u001b[38;5;39m \u001b[0m  0001096906-23-000607   │\n",
       "│  \u001b[1m \u001b[0m\u001b[1m38\u001b[0m\u001b[1m \u001b[0m \u001b[1;38;5;71m \u001b[0m\u001b[1;38;5;71m10-K    \u001b[0m\u001b[1;38;5;71m \u001b[0m \u001b[1m \u001b[0m\u001b[1mLafayette Square USA, Inc.                  \u001b[0m\u001b[1m \u001b[0m \u001b[1m \u001b[0m\u001b[1m1849089\u001b[0m\u001b[1m \u001b[0m \u001b[1;38;5;39m \u001b[0m\u001b[1;38;5;39m2023-03-21 \u001b[0m\u001b[1;38;5;39m \u001b[0m \u001b[1m \u001b[0m\u001b[1m0001849089-23-000019\u001b[0m\u001b[1m \u001b[0m  │\n",
       "│   39  \u001b[38;5;71m \u001b[0m\u001b[38;5;71m10-K    \u001b[0m\u001b[38;5;71m \u001b[0m  MERRILL LYNCH DEPOSITOR INC INDEXPLUS TRUST    1267332  \u001b[38;5;39m \u001b[0m\u001b[38;5;39m2023-03-21 \u001b[0m\u001b[38;5;39m \u001b[0m  0001839882-23-007247   │\n",
       "│       \u001b[38;5;71m          \u001b[0m  SERIES 2003-1                                           \u001b[38;5;39m             \u001b[0m                         │\n",
       "│  \u001b[1m \u001b[0m\u001b[1m40\u001b[0m\u001b[1m \u001b[0m \u001b[1;38;5;71m \u001b[0m\u001b[1;38;5;71m10-K    \u001b[0m\u001b[1;38;5;71m \u001b[0m \u001b[1m \u001b[0m\u001b[1mMETAWORKS PLATFORMS, INC.                   \u001b[0m\u001b[1m \u001b[0m \u001b[1m \u001b[0m\u001b[1m1515139\u001b[0m\u001b[1m \u001b[0m \u001b[1;38;5;39m \u001b[0m\u001b[1;38;5;39m2023-03-21 \u001b[0m\u001b[1;38;5;39m \u001b[0m \u001b[1m \u001b[0m\u001b[1m0001493152-23-008326\u001b[0m\u001b[1m \u001b[0m  │\n",
       "│   41  \u001b[38;5;71m \u001b[0m\u001b[38;5;71m10-K    \u001b[0m\u001b[38;5;71m \u001b[0m  Muscle Maker, Inc.                             1701756  \u001b[38;5;39m \u001b[0m\u001b[38;5;39m2023-03-21 \u001b[0m\u001b[38;5;39m \u001b[0m  0001493152-23-008370   │\n",
       "│  \u001b[1m \u001b[0m\u001b[1m42\u001b[0m\u001b[1m \u001b[0m \u001b[1;38;5;71m \u001b[0m\u001b[1;38;5;71m10-K    \u001b[0m\u001b[1;38;5;71m \u001b[0m \u001b[1m \u001b[0m\u001b[1mNew Concept Energy, Inc.                    \u001b[0m\u001b[1m \u001b[0m \u001b[1m \u001b[0m\u001b[1m105744 \u001b[0m\u001b[1m \u001b[0m \u001b[1;38;5;39m \u001b[0m\u001b[1;38;5;39m2023-03-21 \u001b[0m\u001b[1;38;5;39m \u001b[0m \u001b[1m \u001b[0m\u001b[1m0001214659-23-004059\u001b[0m\u001b[1m \u001b[0m  │\n",
       "│   43  \u001b[38;5;71m \u001b[0m\u001b[38;5;71m10-K    \u001b[0m\u001b[38;5;71m \u001b[0m  Oaktree Capital Group, LLC                     1403528  \u001b[38;5;39m \u001b[0m\u001b[38;5;39m2023-03-21 \u001b[0m\u001b[38;5;39m \u001b[0m  0001403528-23-000004   │\n",
       "│  \u001b[1m \u001b[0m\u001b[1m44\u001b[0m\u001b[1m \u001b[0m \u001b[1;38;5;71m \u001b[0m\u001b[1;38;5;71m10-K    \u001b[0m\u001b[1;38;5;71m \u001b[0m \u001b[1m \u001b[0m\u001b[1mOblong, Inc.                                \u001b[0m\u001b[1m \u001b[0m \u001b[1m \u001b[0m\u001b[1m746210 \u001b[0m\u001b[1m \u001b[0m \u001b[1;38;5;39m \u001b[0m\u001b[1;38;5;39m2023-03-21 \u001b[0m\u001b[1;38;5;39m \u001b[0m \u001b[1m \u001b[0m\u001b[1m0000746210-23-000011\u001b[0m\u001b[1m \u001b[0m  │\n",
       "│   45  \u001b[38;5;71m \u001b[0m\u001b[38;5;71m10-K    \u001b[0m\u001b[38;5;71m \u001b[0m  Osprey Bitcoin Trust                           1767057  \u001b[38;5;39m \u001b[0m\u001b[38;5;39m2023-03-21 \u001b[0m\u001b[38;5;39m \u001b[0m  0000930413-23-001072   │\n",
       "│  \u001b[1m \u001b[0m\u001b[1m46\u001b[0m\u001b[1m \u001b[0m \u001b[1;38;5;71m \u001b[0m\u001b[1;38;5;71m10-K    \u001b[0m\u001b[1;38;5;71m \u001b[0m \u001b[1m \u001b[0m\u001b[1mPATRIOT GOLD CORP                           \u001b[0m\u001b[1m \u001b[0m \u001b[1m \u001b[0m\u001b[1m1080448\u001b[0m\u001b[1m \u001b[0m \u001b[1;38;5;39m \u001b[0m\u001b[1;38;5;39m2023-03-21 \u001b[0m\u001b[1;38;5;39m \u001b[0m \u001b[1m \u001b[0m\u001b[1m0001683168-23-001645\u001b[0m\u001b[1m \u001b[0m  │\n",
       "│   47  \u001b[38;5;71m \u001b[0m\u001b[38;5;71m10-K    \u001b[0m\u001b[38;5;71m \u001b[0m  PPLUS Trust Series GSC-2                       1294808  \u001b[38;5;39m \u001b[0m\u001b[38;5;39m2023-03-21 \u001b[0m\u001b[38;5;39m \u001b[0m  0001839882-23-007246   │\n",
       "│  \u001b[1m \u001b[0m\u001b[1m48\u001b[0m\u001b[1m \u001b[0m \u001b[1;38;5;71m \u001b[0m\u001b[1;38;5;71m10-K    \u001b[0m\u001b[1;38;5;71m \u001b[0m \u001b[1m \u001b[0m\u001b[1mPonce Financial Group, Inc.                 \u001b[0m\u001b[1m \u001b[0m \u001b[1m \u001b[0m\u001b[1m1874071\u001b[0m\u001b[1m \u001b[0m \u001b[1;38;5;39m \u001b[0m\u001b[1;38;5;39m2023-03-21 \u001b[0m\u001b[1;38;5;39m \u001b[0m \u001b[1m \u001b[0m\u001b[1m0000950170-23-008979\u001b[0m\u001b[1m \u001b[0m  │\n",
       "│   49  \u001b[38;5;71m \u001b[0m\u001b[38;5;71m10-K    \u001b[0m\u001b[38;5;71m \u001b[0m  PowerUp Acquisition Corp.                      1847345  \u001b[38;5;39m \u001b[0m\u001b[38;5;39m2023-03-21 \u001b[0m\u001b[38;5;39m \u001b[0m  0001410578-23-000316   │\n",
       "│                                                                                                                 │\n",
       "│ Showing 50 of 308,318 filings                                                                                   │\n",
       "╰─────────────────────────────────────────────────────────────────────────────────────────────────────────────────╯"
      ]
     },
     "execution_count": 7,
     "metadata": {},
     "output_type": "execute_result"
    }
   ],
   "source": [
    "filings.prev()"
   ]
  },
  {
   "cell_type": "markdown",
   "id": "d1af015e",
   "metadata": {},
   "source": [
    "## Get filings for year"
   ]
  },
  {
   "cell_type": "code",
   "execution_count": 8,
   "id": "29ba5473",
   "metadata": {},
   "outputs": [
    {
     "data": {
      "text/html": [
       "<pre style=\"white-space:pre;overflow-x:auto;line-height:normal;font-family:Menlo,'DejaVu Sans Mono',consolas,'Courier New',monospace\"></pre>\n"
      ],
      "text/plain": []
     },
     "metadata": {},
     "output_type": "display_data"
    },
    {
     "data": {
      "text/plain": [
       "╭──────────────────────────────────────────────────── Filings ────────────────────────────────────────────────────╮\n",
       "│                                                                                                                 │\n",
       "│  \u001b[1m \u001b[0m\u001b[1m  \u001b[0m\u001b[1m \u001b[0m \u001b[1;38;5;71m \u001b[0m\u001b[1;38;5;71mform \u001b[0m\u001b[1;38;5;71m \u001b[0m \u001b[1m \u001b[0m\u001b[1mcompany                                    \u001b[0m\u001b[1m \u001b[0m \u001b[1m \u001b[0m\u001b[1mcik    \u001b[0m\u001b[1m \u001b[0m \u001b[1;38;5;39m \u001b[0m\u001b[1;38;5;39mfiling_date\u001b[0m\u001b[1;38;5;39m \u001b[0m \u001b[1m \u001b[0m\u001b[1maccession_number    \u001b[0m\u001b[1m \u001b[0m      │\n",
       "│  ─────────────────────────────────────────────────────────────────────────────────────────────────────────      │\n",
       "│  \u001b[1m \u001b[0m\u001b[1m0 \u001b[0m\u001b[1m \u001b[0m \u001b[1;38;5;71m \u001b[0m\u001b[1;38;5;71m1-A  \u001b[0m\u001b[1;38;5;71m \u001b[0m \u001b[1m \u001b[0m\u001b[1mAlgernon Neuroscience Inc.                 \u001b[0m\u001b[1m \u001b[0m \u001b[1m \u001b[0m\u001b[1m1959708\u001b[0m\u001b[1m \u001b[0m \u001b[1;38;5;39m \u001b[0m\u001b[1;38;5;39m2022-12-30 \u001b[0m\u001b[1;38;5;39m \u001b[0m \u001b[1m \u001b[0m\u001b[1m0001062993-22-024554\u001b[0m\u001b[1m \u001b[0m      │\n",
       "│   1   \u001b[38;5;71m \u001b[0m\u001b[38;5;71m1-A  \u001b[0m\u001b[38;5;71m \u001b[0m  NORCOR TECHNOLOGIES Corp                      1396797  \u001b[38;5;39m \u001b[0m\u001b[38;5;39m2022-12-30 \u001b[0m\u001b[38;5;39m \u001b[0m  0001396797-22-000006       │\n",
       "│  \u001b[1m \u001b[0m\u001b[1m2 \u001b[0m\u001b[1m \u001b[0m \u001b[1;38;5;71m \u001b[0m\u001b[1;38;5;71m1-A/A\u001b[0m\u001b[1;38;5;71m \u001b[0m \u001b[1m \u001b[0m\u001b[1mWater On Demand, Inc.                      \u001b[0m\u001b[1m \u001b[0m \u001b[1m \u001b[0m\u001b[1m1953442\u001b[0m\u001b[1m \u001b[0m \u001b[1;38;5;39m \u001b[0m\u001b[1;38;5;39m2022-12-30 \u001b[0m\u001b[1;38;5;39m \u001b[0m \u001b[1m \u001b[0m\u001b[1m0001096906-22-003072\u001b[0m\u001b[1m \u001b[0m      │\n",
       "│   3   \u001b[38;5;71m \u001b[0m\u001b[38;5;71m1-U  \u001b[0m\u001b[38;5;71m \u001b[0m  Energea Portfolio 2 LLC                       1811470  \u001b[38;5;39m \u001b[0m\u001b[38;5;39m2022-12-30 \u001b[0m\u001b[38;5;39m \u001b[0m  0001811470-22-000015       │\n",
       "│  \u001b[1m \u001b[0m\u001b[1m4 \u001b[0m\u001b[1m \u001b[0m \u001b[1;38;5;71m \u001b[0m\u001b[1;38;5;71m1-U  \u001b[0m\u001b[1;38;5;71m \u001b[0m \u001b[1m \u001b[0m\u001b[1mFUNDRISE BALANCED EREIT II, LLC            \u001b[0m\u001b[1m \u001b[0m \u001b[1m \u001b[0m\u001b[1m1803986\u001b[0m\u001b[1m \u001b[0m \u001b[1;38;5;39m \u001b[0m\u001b[1;38;5;39m2022-12-30 \u001b[0m\u001b[1;38;5;39m \u001b[0m \u001b[1m \u001b[0m\u001b[1m0001104659-22-131175\u001b[0m\u001b[1m \u001b[0m      │\n",
       "│   5   \u001b[38;5;71m \u001b[0m\u001b[38;5;71m1-U  \u001b[0m\u001b[38;5;71m \u001b[0m  FUNDRISE GROWTH EREIT VII, LLC                1804011  \u001b[38;5;39m \u001b[0m\u001b[38;5;39m2022-12-30 \u001b[0m\u001b[38;5;39m \u001b[0m  0001104659-22-131177       │\n",
       "│  \u001b[1m \u001b[0m\u001b[1m6 \u001b[0m\u001b[1m \u001b[0m \u001b[1;38;5;71m \u001b[0m\u001b[1;38;5;71m1-U  \u001b[0m\u001b[1;38;5;71m \u001b[0m \u001b[1m \u001b[0m\u001b[1mFundrise Development eREIT, LLC            \u001b[0m\u001b[1m \u001b[0m \u001b[1m \u001b[0m\u001b[1m1768726\u001b[0m\u001b[1m \u001b[0m \u001b[1;38;5;39m \u001b[0m\u001b[1;38;5;39m2022-12-30 \u001b[0m\u001b[1;38;5;39m \u001b[0m \u001b[1m \u001b[0m\u001b[1m0001104659-22-131170\u001b[0m\u001b[1m \u001b[0m      │\n",
       "│   7   \u001b[38;5;71m \u001b[0m\u001b[38;5;71m1-U  \u001b[0m\u001b[38;5;71m \u001b[0m  Fundrise East Coast Opportunistic REIT, LLC   1660918  \u001b[38;5;39m \u001b[0m\u001b[38;5;39m2022-12-30 \u001b[0m\u001b[38;5;39m \u001b[0m  0001104659-22-131160       │\n",
       "│  \u001b[1m \u001b[0m\u001b[1m8 \u001b[0m\u001b[1m \u001b[0m \u001b[1;38;5;71m \u001b[0m\u001b[1;38;5;71m1-U  \u001b[0m\u001b[1;38;5;71m \u001b[0m \u001b[1m \u001b[0m\u001b[1mFundrise Equity REIT, LLC                  \u001b[0m\u001b[1m \u001b[0m \u001b[1m \u001b[0m\u001b[1m1648956\u001b[0m\u001b[1m \u001b[0m \u001b[1;38;5;39m \u001b[0m\u001b[1;38;5;39m2022-12-30 \u001b[0m\u001b[1;38;5;39m \u001b[0m \u001b[1m \u001b[0m\u001b[1m0001104659-22-131155\u001b[0m\u001b[1m \u001b[0m      │\n",
       "│   9   \u001b[38;5;71m \u001b[0m\u001b[38;5;71m1-U  \u001b[0m\u001b[38;5;71m \u001b[0m  Fundrise Equity REIT, LLC                     1648956  \u001b[38;5;39m \u001b[0m\u001b[38;5;39m2022-12-30 \u001b[0m\u001b[38;5;39m \u001b[0m  0001104659-22-131210       │\n",
       "│  \u001b[1m \u001b[0m\u001b[1m10\u001b[0m\u001b[1m \u001b[0m \u001b[1;38;5;71m \u001b[0m\u001b[1;38;5;71m1-U  \u001b[0m\u001b[1;38;5;71m \u001b[0m \u001b[1m \u001b[0m\u001b[1mFundrise Growth eREIT II, LLC              \u001b[0m\u001b[1m \u001b[0m \u001b[1m \u001b[0m\u001b[1m1661000\u001b[0m\u001b[1m \u001b[0m \u001b[1;38;5;39m \u001b[0m\u001b[1;38;5;39m2022-12-30 \u001b[0m\u001b[1;38;5;39m \u001b[0m \u001b[1m \u001b[0m\u001b[1m0001104659-22-131164\u001b[0m\u001b[1m \u001b[0m      │\n",
       "│   11  \u001b[38;5;71m \u001b[0m\u001b[38;5;71m1-U  \u001b[0m\u001b[38;5;71m \u001b[0m  Fundrise Growth eREIT III, LLC                1758744  \u001b[38;5;39m \u001b[0m\u001b[38;5;39m2022-12-30 \u001b[0m\u001b[38;5;39m \u001b[0m  0001104659-22-131167       │\n",
       "│  \u001b[1m \u001b[0m\u001b[1m12\u001b[0m\u001b[1m \u001b[0m \u001b[1;38;5;71m \u001b[0m\u001b[1;38;5;71m1-U  \u001b[0m\u001b[1;38;5;71m \u001b[0m \u001b[1m \u001b[0m\u001b[1mFundrise Midland Opportunistic REIT, LLC   \u001b[0m\u001b[1m \u001b[0m \u001b[1m \u001b[0m\u001b[1m1661023\u001b[0m\u001b[1m \u001b[0m \u001b[1;38;5;39m \u001b[0m\u001b[1;38;5;39m2022-12-30 \u001b[0m\u001b[1;38;5;39m \u001b[0m \u001b[1m \u001b[0m\u001b[1m0001104659-22-131162\u001b[0m\u001b[1m \u001b[0m      │\n",
       "│   13  \u001b[38;5;71m \u001b[0m\u001b[38;5;71m1-U  \u001b[0m\u001b[38;5;71m \u001b[0m  Fundrise Midland Opportunistic REIT, LLC      1661023  \u001b[38;5;39m \u001b[0m\u001b[38;5;39m2022-12-30 \u001b[0m\u001b[38;5;39m \u001b[0m  0001104659-22-131216       │\n",
       "│  \u001b[1m \u001b[0m\u001b[1m14\u001b[0m\u001b[1m \u001b[0m \u001b[1;38;5;71m \u001b[0m\u001b[1;38;5;71m1-U  \u001b[0m\u001b[1;38;5;71m \u001b[0m \u001b[1m \u001b[0m\u001b[1mFundrise West Coast Opportunistic REIT, LLC\u001b[0m\u001b[1m \u001b[0m \u001b[1m \u001b[0m\u001b[1m1660919\u001b[0m\u001b[1m \u001b[0m \u001b[1;38;5;39m \u001b[0m\u001b[1;38;5;39m2022-12-30 \u001b[0m\u001b[1;38;5;39m \u001b[0m \u001b[1m \u001b[0m\u001b[1m0001104659-22-131157\u001b[0m\u001b[1m \u001b[0m      │\n",
       "│   15  \u001b[38;5;71m \u001b[0m\u001b[38;5;71m1-U  \u001b[0m\u001b[38;5;71m \u001b[0m  Masterworks 002, LLC                          1750148  \u001b[38;5;39m \u001b[0m\u001b[38;5;39m2022-12-30 \u001b[0m\u001b[38;5;39m \u001b[0m  0001493152-22-036866       │\n",
       "│  \u001b[1m \u001b[0m\u001b[1m16\u001b[0m\u001b[1m \u001b[0m \u001b[1;38;5;71m \u001b[0m\u001b[1;38;5;71m1-U  \u001b[0m\u001b[1;38;5;71m \u001b[0m \u001b[1m \u001b[0m\u001b[1mMasterworks 010, LLC                       \u001b[0m\u001b[1m \u001b[0m \u001b[1m \u001b[0m\u001b[1m1806902\u001b[0m\u001b[1m \u001b[0m \u001b[1;38;5;39m \u001b[0m\u001b[1;38;5;39m2022-12-30 \u001b[0m\u001b[1;38;5;39m \u001b[0m \u001b[1m \u001b[0m\u001b[1m0001493152-22-036868\u001b[0m\u001b[1m \u001b[0m      │\n",
       "│   17  \u001b[38;5;71m \u001b[0m\u001b[38;5;71m1-U  \u001b[0m\u001b[38;5;71m \u001b[0m  Masterworks 011, LLC                          1809772  \u001b[38;5;39m \u001b[0m\u001b[38;5;39m2022-12-30 \u001b[0m\u001b[38;5;39m \u001b[0m  0001493152-22-036870       │\n",
       "│  \u001b[1m \u001b[0m\u001b[1m18\u001b[0m\u001b[1m \u001b[0m \u001b[1;38;5;71m \u001b[0m\u001b[1;38;5;71m1-U  \u001b[0m\u001b[1;38;5;71m \u001b[0m \u001b[1m \u001b[0m\u001b[1mMasterworks 014, LLC                       \u001b[0m\u001b[1m \u001b[0m \u001b[1m \u001b[0m\u001b[1m1812768\u001b[0m\u001b[1m \u001b[0m \u001b[1;38;5;39m \u001b[0m\u001b[1;38;5;39m2022-12-30 \u001b[0m\u001b[1;38;5;39m \u001b[0m \u001b[1m \u001b[0m\u001b[1m0001493152-22-036872\u001b[0m\u001b[1m \u001b[0m      │\n",
       "│   19  \u001b[38;5;71m \u001b[0m\u001b[38;5;71m1-U  \u001b[0m\u001b[38;5;71m \u001b[0m  Masterworks 016, LLC                          1813339  \u001b[38;5;39m \u001b[0m\u001b[38;5;39m2022-12-30 \u001b[0m\u001b[38;5;39m \u001b[0m  0001493152-22-036874       │\n",
       "│  \u001b[1m \u001b[0m\u001b[1m20\u001b[0m\u001b[1m \u001b[0m \u001b[1;38;5;71m \u001b[0m\u001b[1;38;5;71m1-U  \u001b[0m\u001b[1;38;5;71m \u001b[0m \u001b[1m \u001b[0m\u001b[1mMasterworks 022, LLC                       \u001b[0m\u001b[1m \u001b[0m \u001b[1m \u001b[0m\u001b[1m1819367\u001b[0m\u001b[1m \u001b[0m \u001b[1;38;5;39m \u001b[0m\u001b[1;38;5;39m2022-12-30 \u001b[0m\u001b[1;38;5;39m \u001b[0m \u001b[1m \u001b[0m\u001b[1m0001493152-22-036876\u001b[0m\u001b[1m \u001b[0m      │\n",
       "│   21  \u001b[38;5;71m \u001b[0m\u001b[38;5;71m1-U  \u001b[0m\u001b[38;5;71m \u001b[0m  Masterworks 025, LLC                          1819368  \u001b[38;5;39m \u001b[0m\u001b[38;5;39m2022-12-30 \u001b[0m\u001b[38;5;39m \u001b[0m  0001493152-22-036878       │\n",
       "│  \u001b[1m \u001b[0m\u001b[1m22\u001b[0m\u001b[1m \u001b[0m \u001b[1;38;5;71m \u001b[0m\u001b[1;38;5;71m1-U  \u001b[0m\u001b[1;38;5;71m \u001b[0m \u001b[1m \u001b[0m\u001b[1mMasterworks 032, LLC                       \u001b[0m\u001b[1m \u001b[0m \u001b[1m \u001b[0m\u001b[1m1829029\u001b[0m\u001b[1m \u001b[0m \u001b[1;38;5;39m \u001b[0m\u001b[1;38;5;39m2022-12-30 \u001b[0m\u001b[1;38;5;39m \u001b[0m \u001b[1m \u001b[0m\u001b[1m0001493152-22-036880\u001b[0m\u001b[1m \u001b[0m      │\n",
       "│   23  \u001b[38;5;71m \u001b[0m\u001b[38;5;71m1-U  \u001b[0m\u001b[38;5;71m \u001b[0m  Masterworks 070, LLC                          1874009  \u001b[38;5;39m \u001b[0m\u001b[38;5;39m2022-12-30 \u001b[0m\u001b[38;5;39m \u001b[0m  0001493152-22-036882       │\n",
       "│  \u001b[1m \u001b[0m\u001b[1m24\u001b[0m\u001b[1m \u001b[0m \u001b[1;38;5;71m \u001b[0m\u001b[1;38;5;71m1-U  \u001b[0m\u001b[1;38;5;71m \u001b[0m \u001b[1m \u001b[0m\u001b[1mMasterworks 093, LLC                       \u001b[0m\u001b[1m \u001b[0m \u001b[1m \u001b[0m\u001b[1m1891698\u001b[0m\u001b[1m \u001b[0m \u001b[1;38;5;39m \u001b[0m\u001b[1;38;5;39m2022-12-30 \u001b[0m\u001b[1;38;5;39m \u001b[0m \u001b[1m \u001b[0m\u001b[1m0001493152-22-037021\u001b[0m\u001b[1m \u001b[0m      │\n",
       "│   25  \u001b[38;5;71m \u001b[0m\u001b[38;5;71m1-U  \u001b[0m\u001b[38;5;71m \u001b[0m  Masterworks 121, LLC                          1914625  \u001b[38;5;39m \u001b[0m\u001b[38;5;39m2022-12-30 \u001b[0m\u001b[38;5;39m \u001b[0m  0001493152-22-037025       │\n",
       "│  \u001b[1m \u001b[0m\u001b[1m26\u001b[0m\u001b[1m \u001b[0m \u001b[1;38;5;71m \u001b[0m\u001b[1;38;5;71m1-U  \u001b[0m\u001b[1;38;5;71m \u001b[0m \u001b[1m \u001b[0m\u001b[1mMasterworks 130, LLC                       \u001b[0m\u001b[1m \u001b[0m \u001b[1m \u001b[0m\u001b[1m1918082\u001b[0m\u001b[1m \u001b[0m \u001b[1;38;5;39m \u001b[0m\u001b[1;38;5;39m2022-12-30 \u001b[0m\u001b[1;38;5;39m \u001b[0m \u001b[1m \u001b[0m\u001b[1m0001493152-22-037028\u001b[0m\u001b[1m \u001b[0m      │\n",
       "│   27  \u001b[38;5;71m \u001b[0m\u001b[38;5;71m1-U  \u001b[0m\u001b[38;5;71m \u001b[0m  Masterworks 140, LLC                          1922415  \u001b[38;5;39m \u001b[0m\u001b[38;5;39m2022-12-30 \u001b[0m\u001b[38;5;39m \u001b[0m  0001493152-22-037030       │\n",
       "│  \u001b[1m \u001b[0m\u001b[1m28\u001b[0m\u001b[1m \u001b[0m \u001b[1;38;5;71m \u001b[0m\u001b[1;38;5;71m1-U  \u001b[0m\u001b[1;38;5;71m \u001b[0m \u001b[1m \u001b[0m\u001b[1mMasterworks 146, LLC                       \u001b[0m\u001b[1m \u001b[0m \u001b[1m \u001b[0m\u001b[1m1925329\u001b[0m\u001b[1m \u001b[0m \u001b[1;38;5;39m \u001b[0m\u001b[1;38;5;39m2022-12-30 \u001b[0m\u001b[1;38;5;39m \u001b[0m \u001b[1m \u001b[0m\u001b[1m0001493152-22-037033\u001b[0m\u001b[1m \u001b[0m      │\n",
       "│   29  \u001b[38;5;71m \u001b[0m\u001b[38;5;71m1-U  \u001b[0m\u001b[38;5;71m \u001b[0m  Masterworks 147, LLC                          1925316  \u001b[38;5;39m \u001b[0m\u001b[38;5;39m2022-12-30 \u001b[0m\u001b[38;5;39m \u001b[0m  0001493152-22-037035       │\n",
       "│  \u001b[1m \u001b[0m\u001b[1m30\u001b[0m\u001b[1m \u001b[0m \u001b[1;38;5;71m \u001b[0m\u001b[1;38;5;71m1-U  \u001b[0m\u001b[1;38;5;71m \u001b[0m \u001b[1m \u001b[0m\u001b[1mMasterworks 149, LLC                       \u001b[0m\u001b[1m \u001b[0m \u001b[1m \u001b[0m\u001b[1m1925323\u001b[0m\u001b[1m \u001b[0m \u001b[1;38;5;39m \u001b[0m\u001b[1;38;5;39m2022-12-30 \u001b[0m\u001b[1;38;5;39m \u001b[0m \u001b[1m \u001b[0m\u001b[1m0001493152-22-037040\u001b[0m\u001b[1m \u001b[0m      │\n",
       "│   31  \u001b[38;5;71m \u001b[0m\u001b[38;5;71m1-U  \u001b[0m\u001b[38;5;71m \u001b[0m  Masterworks 156, LLC                          1938933  \u001b[38;5;39m \u001b[0m\u001b[38;5;39m2022-12-30 \u001b[0m\u001b[38;5;39m \u001b[0m  0001493152-22-037044       │\n",
       "│  \u001b[1m \u001b[0m\u001b[1m32\u001b[0m\u001b[1m \u001b[0m \u001b[1;38;5;71m \u001b[0m\u001b[1;38;5;71m1-U  \u001b[0m\u001b[1;38;5;71m \u001b[0m \u001b[1m \u001b[0m\u001b[1mMasterworks 157, LLC                       \u001b[0m\u001b[1m \u001b[0m \u001b[1m \u001b[0m\u001b[1m1939028\u001b[0m\u001b[1m \u001b[0m \u001b[1;38;5;39m \u001b[0m\u001b[1;38;5;39m2022-12-30 \u001b[0m\u001b[1;38;5;39m \u001b[0m \u001b[1m \u001b[0m\u001b[1m0001493152-22-037047\u001b[0m\u001b[1m \u001b[0m      │\n",
       "│   33  \u001b[38;5;71m \u001b[0m\u001b[38;5;71m1-U  \u001b[0m\u001b[38;5;71m \u001b[0m  Masterworks 158, LLC                          1942200  \u001b[38;5;39m \u001b[0m\u001b[38;5;39m2022-12-30 \u001b[0m\u001b[38;5;39m \u001b[0m  0001493152-22-037056       │\n",
       "│  \u001b[1m \u001b[0m\u001b[1m34\u001b[0m\u001b[1m \u001b[0m \u001b[1;38;5;71m \u001b[0m\u001b[1;38;5;71m1-U  \u001b[0m\u001b[1;38;5;71m \u001b[0m \u001b[1m \u001b[0m\u001b[1mMasterworks 161, LLC                       \u001b[0m\u001b[1m \u001b[0m \u001b[1m \u001b[0m\u001b[1m1942205\u001b[0m\u001b[1m \u001b[0m \u001b[1;38;5;39m \u001b[0m\u001b[1;38;5;39m2022-12-30 \u001b[0m\u001b[1;38;5;39m \u001b[0m \u001b[1m \u001b[0m\u001b[1m0001493152-22-037065\u001b[0m\u001b[1m \u001b[0m      │\n",
       "│   35  \u001b[38;5;71m \u001b[0m\u001b[38;5;71m1-U  \u001b[0m\u001b[38;5;71m \u001b[0m  Masterworks 162, LLC                          1942396  \u001b[38;5;39m \u001b[0m\u001b[38;5;39m2022-12-30 \u001b[0m\u001b[38;5;39m \u001b[0m  0001493152-22-037078       │\n",
       "│  \u001b[1m \u001b[0m\u001b[1m36\u001b[0m\u001b[1m \u001b[0m \u001b[1;38;5;71m \u001b[0m\u001b[1;38;5;71m1-U  \u001b[0m\u001b[1;38;5;71m \u001b[0m \u001b[1m \u001b[0m\u001b[1mMasterworks 164, LLC                       \u001b[0m\u001b[1m \u001b[0m \u001b[1m \u001b[0m\u001b[1m1942222\u001b[0m\u001b[1m \u001b[0m \u001b[1;38;5;39m \u001b[0m\u001b[1;38;5;39m2022-12-30 \u001b[0m\u001b[1;38;5;39m \u001b[0m \u001b[1m \u001b[0m\u001b[1m0001493152-22-037083\u001b[0m\u001b[1m \u001b[0m      │\n",
       "│   37  \u001b[38;5;71m \u001b[0m\u001b[38;5;71m1-U  \u001b[0m\u001b[38;5;71m \u001b[0m  Masterworks 167, LLC                          1942179  \u001b[38;5;39m \u001b[0m\u001b[38;5;39m2022-12-30 \u001b[0m\u001b[38;5;39m \u001b[0m  0001493152-22-037093       │\n",
       "│  \u001b[1m \u001b[0m\u001b[1m38\u001b[0m\u001b[1m \u001b[0m \u001b[1;38;5;71m \u001b[0m\u001b[1;38;5;71m1-U  \u001b[0m\u001b[1;38;5;71m \u001b[0m \u001b[1m \u001b[0m\u001b[1mMasterworks 170, LLC                       \u001b[0m\u001b[1m \u001b[0m \u001b[1m \u001b[0m\u001b[1m1944157\u001b[0m\u001b[1m \u001b[0m \u001b[1;38;5;39m \u001b[0m\u001b[1;38;5;39m2022-12-30 \u001b[0m\u001b[1;38;5;39m \u001b[0m \u001b[1m \u001b[0m\u001b[1m0001493152-22-037096\u001b[0m\u001b[1m \u001b[0m      │\n",
       "│   39  \u001b[38;5;71m \u001b[0m\u001b[38;5;71m1-U  \u001b[0m\u001b[38;5;71m \u001b[0m  Masterworks 171, LLC                          1944113  \u001b[38;5;39m \u001b[0m\u001b[38;5;39m2022-12-30 \u001b[0m\u001b[38;5;39m \u001b[0m  0001493152-22-037099       │\n",
       "│  \u001b[1m \u001b[0m\u001b[1m40\u001b[0m\u001b[1m \u001b[0m \u001b[1;38;5;71m \u001b[0m\u001b[1;38;5;71m1-U  \u001b[0m\u001b[1;38;5;71m \u001b[0m \u001b[1m \u001b[0m\u001b[1mMasterworks 173, LLC                       \u001b[0m\u001b[1m \u001b[0m \u001b[1m \u001b[0m\u001b[1m1944244\u001b[0m\u001b[1m \u001b[0m \u001b[1;38;5;39m \u001b[0m\u001b[1;38;5;39m2022-12-30 \u001b[0m\u001b[1;38;5;39m \u001b[0m \u001b[1m \u001b[0m\u001b[1m0001493152-22-037026\u001b[0m\u001b[1m \u001b[0m      │\n",
       "│   41  \u001b[38;5;71m \u001b[0m\u001b[38;5;71m1-U  \u001b[0m\u001b[38;5;71m \u001b[0m  Masterworks 174, LLC                          1944249  \u001b[38;5;39m \u001b[0m\u001b[38;5;39m2022-12-30 \u001b[0m\u001b[38;5;39m \u001b[0m  0001493152-22-037032       │\n",
       "│  \u001b[1m \u001b[0m\u001b[1m42\u001b[0m\u001b[1m \u001b[0m \u001b[1;38;5;71m \u001b[0m\u001b[1;38;5;71m1-U  \u001b[0m\u001b[1;38;5;71m \u001b[0m \u001b[1m \u001b[0m\u001b[1mMasterworks 175, LLC                       \u001b[0m\u001b[1m \u001b[0m \u001b[1m \u001b[0m\u001b[1m1944248\u001b[0m\u001b[1m \u001b[0m \u001b[1;38;5;39m \u001b[0m\u001b[1;38;5;39m2022-12-30 \u001b[0m\u001b[1;38;5;39m \u001b[0m \u001b[1m \u001b[0m\u001b[1m0001493152-22-037039\u001b[0m\u001b[1m \u001b[0m      │\n",
       "│   43  \u001b[38;5;71m \u001b[0m\u001b[38;5;71m1-U  \u001b[0m\u001b[38;5;71m \u001b[0m  Masterworks 176, LLC                          1944250  \u001b[38;5;39m \u001b[0m\u001b[38;5;39m2022-12-30 \u001b[0m\u001b[38;5;39m \u001b[0m  0001493152-22-037046       │\n",
       "│  \u001b[1m \u001b[0m\u001b[1m44\u001b[0m\u001b[1m \u001b[0m \u001b[1;38;5;71m \u001b[0m\u001b[1;38;5;71m1-U  \u001b[0m\u001b[1;38;5;71m \u001b[0m \u001b[1m \u001b[0m\u001b[1mMasterworks 177, LLC                       \u001b[0m\u001b[1m \u001b[0m \u001b[1m \u001b[0m\u001b[1m1944247\u001b[0m\u001b[1m \u001b[0m \u001b[1;38;5;39m \u001b[0m\u001b[1;38;5;39m2022-12-30 \u001b[0m\u001b[1;38;5;39m \u001b[0m \u001b[1m \u001b[0m\u001b[1m0001493152-22-037051\u001b[0m\u001b[1m \u001b[0m      │\n",
       "│   45  \u001b[38;5;71m \u001b[0m\u001b[38;5;71m1-U  \u001b[0m\u001b[38;5;71m \u001b[0m  Masterworks 178, LLC                          1944218  \u001b[38;5;39m \u001b[0m\u001b[38;5;39m2022-12-30 \u001b[0m\u001b[38;5;39m \u001b[0m  0001493152-22-037055       │\n",
       "│  \u001b[1m \u001b[0m\u001b[1m46\u001b[0m\u001b[1m \u001b[0m \u001b[1;38;5;71m \u001b[0m\u001b[1;38;5;71m1-U  \u001b[0m\u001b[1;38;5;71m \u001b[0m \u001b[1m \u001b[0m\u001b[1mMasterworks 179, LLC                       \u001b[0m\u001b[1m \u001b[0m \u001b[1m \u001b[0m\u001b[1m1944229\u001b[0m\u001b[1m \u001b[0m \u001b[1;38;5;39m \u001b[0m\u001b[1;38;5;39m2022-12-30 \u001b[0m\u001b[1;38;5;39m \u001b[0m \u001b[1m \u001b[0m\u001b[1m0001493152-22-037060\u001b[0m\u001b[1m \u001b[0m      │\n",
       "│   47  \u001b[38;5;71m \u001b[0m\u001b[38;5;71m1-U  \u001b[0m\u001b[38;5;71m \u001b[0m  Masterworks 180, LLC                          1944217  \u001b[38;5;39m \u001b[0m\u001b[38;5;39m2022-12-30 \u001b[0m\u001b[38;5;39m \u001b[0m  0001493152-22-037064       │\n",
       "│  \u001b[1m \u001b[0m\u001b[1m48\u001b[0m\u001b[1m \u001b[0m \u001b[1;38;5;71m \u001b[0m\u001b[1;38;5;71m1-U  \u001b[0m\u001b[1;38;5;71m \u001b[0m \u001b[1m \u001b[0m\u001b[1mMasterworks 181, LLC                       \u001b[0m\u001b[1m \u001b[0m \u001b[1m \u001b[0m\u001b[1m1951375\u001b[0m\u001b[1m \u001b[0m \u001b[1;38;5;39m \u001b[0m\u001b[1;38;5;39m2022-12-30 \u001b[0m\u001b[1;38;5;39m \u001b[0m \u001b[1m \u001b[0m\u001b[1m0001493152-22-037069\u001b[0m\u001b[1m \u001b[0m      │\n",
       "│   49  \u001b[38;5;71m \u001b[0m\u001b[38;5;71m1-U  \u001b[0m\u001b[38;5;71m \u001b[0m  Masterworks 182, LLC                          1951373  \u001b[38;5;39m \u001b[0m\u001b[38;5;39m2022-12-30 \u001b[0m\u001b[38;5;39m \u001b[0m  0001493152-22-037075       │\n",
       "│                                                                                                                 │\n",
       "│ Showing 50 of 1,113,838 filings                                                                                 │\n",
       "╰─────────────────────────────────────────────────────────────────────────────────────────────────────────────────╯"
      ]
     },
     "execution_count": 8,
     "metadata": {},
     "output_type": "execute_result"
    }
   ],
   "source": [
    "filings = get_filings(year=2022)\n",
    "filings"
   ]
  },
  {
   "cell_type": "markdown",
   "id": "c7971628",
   "metadata": {},
   "source": [
    "## Get filings for specific form or forms"
   ]
  },
  {
   "cell_type": "code",
   "execution_count": 9,
   "id": "be5fbb8a",
   "metadata": {},
   "outputs": [
    {
     "data": {
      "text/html": [
       "<pre style=\"white-space:pre;overflow-x:auto;line-height:normal;font-family:Menlo,'DejaVu Sans Mono',consolas,'Courier New',monospace\"></pre>\n"
      ],
      "text/plain": []
     },
     "metadata": {},
     "output_type": "display_data"
    },
    {
     "data": {
      "text/plain": [
       "╭──────────────────────────────────────────────────── Filings ────────────────────────────────────────────────────╮\n",
       "│                                                                                                                 │\n",
       "│  \u001b[1m \u001b[0m\u001b[1m  \u001b[0m\u001b[1m \u001b[0m \u001b[1;38;5;71m \u001b[0m\u001b[1;38;5;71mform\u001b[0m\u001b[1;38;5;71m \u001b[0m \u001b[1m \u001b[0m\u001b[1mcompany                         \u001b[0m\u001b[1m \u001b[0m \u001b[1m \u001b[0m\u001b[1mcik    \u001b[0m\u001b[1m \u001b[0m \u001b[1;38;5;39m \u001b[0m\u001b[1;38;5;39mfiling_date\u001b[0m\u001b[1;38;5;39m \u001b[0m \u001b[1m \u001b[0m\u001b[1maccession_number    \u001b[0m\u001b[1m \u001b[0m                  │\n",
       "│  ─────────────────────────────────────────────────────────────────────────────────────────────                  │\n",
       "│  \u001b[1m \u001b[0m\u001b[1m0 \u001b[0m\u001b[1m \u001b[0m \u001b[1;38;5;71m \u001b[0m\u001b[1;38;5;71m6-K \u001b[0m\u001b[1;38;5;71m \u001b[0m \u001b[1m \u001b[0m\u001b[1mAKANDA CORP.                    \u001b[0m\u001b[1m \u001b[0m \u001b[1m \u001b[0m\u001b[1m1888014\u001b[0m\u001b[1m \u001b[0m \u001b[1;38;5;39m \u001b[0m\u001b[1;38;5;39m2023-03-21 \u001b[0m\u001b[1;38;5;39m \u001b[0m \u001b[1m \u001b[0m\u001b[1m0001104659-23-035036\u001b[0m\u001b[1m \u001b[0m                  │\n",
       "│   1   \u001b[38;5;71m \u001b[0m\u001b[38;5;71m6-K \u001b[0m\u001b[38;5;71m \u001b[0m  ALUMINUM CORP OF CHINA LTD         1161611  \u001b[38;5;39m \u001b[0m\u001b[38;5;39m2023-03-21 \u001b[0m\u001b[38;5;39m \u001b[0m  0001161611-23-000006                   │\n",
       "│  \u001b[1m \u001b[0m\u001b[1m2 \u001b[0m\u001b[1m \u001b[0m \u001b[1;38;5;71m \u001b[0m\u001b[1;38;5;71m6-K \u001b[0m\u001b[1;38;5;71m \u001b[0m \u001b[1m \u001b[0m\u001b[1mALUMINUM CORP OF CHINA LTD      \u001b[0m\u001b[1m \u001b[0m \u001b[1m \u001b[0m\u001b[1m1161611\u001b[0m\u001b[1m \u001b[0m \u001b[1;38;5;39m \u001b[0m\u001b[1;38;5;39m2023-03-21 \u001b[0m\u001b[1;38;5;39m \u001b[0m \u001b[1m \u001b[0m\u001b[1m0001161611-23-000007\u001b[0m\u001b[1m \u001b[0m                  │\n",
       "│   3   \u001b[38;5;71m \u001b[0m\u001b[38;5;71m6-K \u001b[0m\u001b[38;5;71m \u001b[0m  ALUMINUM CORP OF CHINA LTD         1161611  \u001b[38;5;39m \u001b[0m\u001b[38;5;39m2023-03-21 \u001b[0m\u001b[38;5;39m \u001b[0m  0001161611-23-000008                   │\n",
       "│  \u001b[1m \u001b[0m\u001b[1m4 \u001b[0m\u001b[1m \u001b[0m \u001b[1;38;5;71m \u001b[0m\u001b[1;38;5;71m6-K \u001b[0m\u001b[1;38;5;71m \u001b[0m \u001b[1m \u001b[0m\u001b[1mALUMINUM CORP OF CHINA LTD      \u001b[0m\u001b[1m \u001b[0m \u001b[1m \u001b[0m\u001b[1m1161611\u001b[0m\u001b[1m \u001b[0m \u001b[1;38;5;39m \u001b[0m\u001b[1;38;5;39m2023-03-21 \u001b[0m\u001b[1;38;5;39m \u001b[0m \u001b[1m \u001b[0m\u001b[1m0001161611-23-000009\u001b[0m\u001b[1m \u001b[0m                  │\n",
       "│   5   \u001b[38;5;71m \u001b[0m\u001b[38;5;71m6-K \u001b[0m\u001b[38;5;71m \u001b[0m  ALUMINUM CORP OF CHINA LTD         1161611  \u001b[38;5;39m \u001b[0m\u001b[38;5;39m2023-03-21 \u001b[0m\u001b[38;5;39m \u001b[0m  0001161611-23-000010                   │\n",
       "│  \u001b[1m \u001b[0m\u001b[1m6 \u001b[0m\u001b[1m \u001b[0m \u001b[1;38;5;71m \u001b[0m\u001b[1;38;5;71m6-K \u001b[0m\u001b[1;38;5;71m \u001b[0m \u001b[1m \u001b[0m\u001b[1mALUMINUM CORP OF CHINA LTD      \u001b[0m\u001b[1m \u001b[0m \u001b[1m \u001b[0m\u001b[1m1161611\u001b[0m\u001b[1m \u001b[0m \u001b[1;38;5;39m \u001b[0m\u001b[1;38;5;39m2023-03-21 \u001b[0m\u001b[1;38;5;39m \u001b[0m \u001b[1m \u001b[0m\u001b[1m0001161611-23-000011\u001b[0m\u001b[1m \u001b[0m                  │\n",
       "│   7   \u001b[38;5;71m \u001b[0m\u001b[38;5;71m6-K \u001b[0m\u001b[38;5;71m \u001b[0m  ALUMINUM CORP OF CHINA LTD         1161611  \u001b[38;5;39m \u001b[0m\u001b[38;5;39m2023-03-21 \u001b[0m\u001b[38;5;39m \u001b[0m  0001161611-23-000012                   │\n",
       "│  \u001b[1m \u001b[0m\u001b[1m8 \u001b[0m\u001b[1m \u001b[0m \u001b[1;38;5;71m \u001b[0m\u001b[1;38;5;71m6-K \u001b[0m\u001b[1;38;5;71m \u001b[0m \u001b[1m \u001b[0m\u001b[1mALUMINUM CORP OF CHINA LTD      \u001b[0m\u001b[1m \u001b[0m \u001b[1m \u001b[0m\u001b[1m1161611\u001b[0m\u001b[1m \u001b[0m \u001b[1;38;5;39m \u001b[0m\u001b[1;38;5;39m2023-03-21 \u001b[0m\u001b[1;38;5;39m \u001b[0m \u001b[1m \u001b[0m\u001b[1m0001161611-23-000013\u001b[0m\u001b[1m \u001b[0m                  │\n",
       "│   9   \u001b[38;5;71m \u001b[0m\u001b[38;5;71m6-K \u001b[0m\u001b[38;5;71m \u001b[0m  ALUMINUM CORP OF CHINA LTD         1161611  \u001b[38;5;39m \u001b[0m\u001b[38;5;39m2023-03-21 \u001b[0m\u001b[38;5;39m \u001b[0m  0001161611-23-000014                   │\n",
       "│  \u001b[1m \u001b[0m\u001b[1m10\u001b[0m\u001b[1m \u001b[0m \u001b[1;38;5;71m \u001b[0m\u001b[1;38;5;71m6-K \u001b[0m\u001b[1;38;5;71m \u001b[0m \u001b[1m \u001b[0m\u001b[1mALUMINUM CORP OF CHINA LTD      \u001b[0m\u001b[1m \u001b[0m \u001b[1m \u001b[0m\u001b[1m1161611\u001b[0m\u001b[1m \u001b[0m \u001b[1;38;5;39m \u001b[0m\u001b[1;38;5;39m2023-03-21 \u001b[0m\u001b[1;38;5;39m \u001b[0m \u001b[1m \u001b[0m\u001b[1m0001161611-23-000015\u001b[0m\u001b[1m \u001b[0m                  │\n",
       "│   11  \u001b[38;5;71m \u001b[0m\u001b[38;5;71m6-K \u001b[0m\u001b[38;5;71m \u001b[0m  Arrival                            1835059  \u001b[38;5;39m \u001b[0m\u001b[38;5;39m2023-03-21 \u001b[0m\u001b[38;5;39m \u001b[0m  0001628280-23-008708                   │\n",
       "│  \u001b[1m \u001b[0m\u001b[1m12\u001b[0m\u001b[1m \u001b[0m \u001b[1;38;5;71m \u001b[0m\u001b[1;38;5;71m6-K \u001b[0m\u001b[1;38;5;71m \u001b[0m \u001b[1m \u001b[0m\u001b[1mBCE INC                         \u001b[0m\u001b[1m \u001b[0m \u001b[1m \u001b[0m\u001b[1m718940 \u001b[0m\u001b[1m \u001b[0m \u001b[1;38;5;39m \u001b[0m\u001b[1;38;5;39m2023-03-21 \u001b[0m\u001b[1;38;5;39m \u001b[0m \u001b[1m \u001b[0m\u001b[1m0001193125-23-075353\u001b[0m\u001b[1m \u001b[0m                  │\n",
       "│   13  \u001b[38;5;71m \u001b[0m\u001b[38;5;71m6-K \u001b[0m\u001b[38;5;71m \u001b[0m  BELLUS Health Inc.                 1259942  \u001b[38;5;39m \u001b[0m\u001b[38;5;39m2023-03-21 \u001b[0m\u001b[38;5;39m \u001b[0m  0001104659-23-035111                   │\n",
       "│  \u001b[1m \u001b[0m\u001b[1m14\u001b[0m\u001b[1m \u001b[0m \u001b[1;38;5;71m \u001b[0m\u001b[1;38;5;71m6-K \u001b[0m\u001b[1;38;5;71m \u001b[0m \u001b[1m \u001b[0m\u001b[1mBELLUS Health Inc.              \u001b[0m\u001b[1m \u001b[0m \u001b[1m \u001b[0m\u001b[1m1259942\u001b[0m\u001b[1m \u001b[0m \u001b[1;38;5;39m \u001b[0m\u001b[1;38;5;39m2023-03-21 \u001b[0m\u001b[1;38;5;39m \u001b[0m \u001b[1m \u001b[0m\u001b[1m0001157523-23-000470\u001b[0m\u001b[1m \u001b[0m                  │\n",
       "│   15  \u001b[38;5;71m \u001b[0m\u001b[38;5;71m6-K \u001b[0m\u001b[38;5;71m \u001b[0m  BRAZILIAN ELECTRIC POWER CO        1439124  \u001b[38;5;39m \u001b[0m\u001b[38;5;39m2023-03-21 \u001b[0m\u001b[38;5;39m \u001b[0m  0001292814-23-001030                   │\n",
       "│  \u001b[1m \u001b[0m\u001b[1m16\u001b[0m\u001b[1m \u001b[0m \u001b[1;38;5;71m \u001b[0m\u001b[1;38;5;71m6-K \u001b[0m\u001b[1;38;5;71m \u001b[0m \u001b[1m \u001b[0m\u001b[1mBRAZILIAN ELECTRIC POWER CO     \u001b[0m\u001b[1m \u001b[0m \u001b[1m \u001b[0m\u001b[1m1439124\u001b[0m\u001b[1m \u001b[0m \u001b[1;38;5;39m \u001b[0m\u001b[1;38;5;39m2023-03-21 \u001b[0m\u001b[1;38;5;39m \u001b[0m \u001b[1m \u001b[0m\u001b[1m0001292814-23-001032\u001b[0m\u001b[1m \u001b[0m                  │\n",
       "│   17  \u001b[38;5;71m \u001b[0m\u001b[38;5;71m6-K \u001b[0m\u001b[38;5;71m \u001b[0m  BRAZILIAN ELECTRIC POWER CO        1439124  \u001b[38;5;39m \u001b[0m\u001b[38;5;39m2023-03-21 \u001b[0m\u001b[38;5;39m \u001b[0m  0001292814-23-001034                   │\n",
       "│  \u001b[1m \u001b[0m\u001b[1m18\u001b[0m\u001b[1m \u001b[0m \u001b[1;38;5;71m \u001b[0m\u001b[1;38;5;71m6-K \u001b[0m\u001b[1;38;5;71m \u001b[0m \u001b[1m \u001b[0m\u001b[1mBRAZILIAN ELECTRIC POWER CO     \u001b[0m\u001b[1m \u001b[0m \u001b[1m \u001b[0m\u001b[1m1439124\u001b[0m\u001b[1m \u001b[0m \u001b[1;38;5;39m \u001b[0m\u001b[1;38;5;39m2023-03-21 \u001b[0m\u001b[1;38;5;39m \u001b[0m \u001b[1m \u001b[0m\u001b[1m0001292814-23-001044\u001b[0m\u001b[1m \u001b[0m                  │\n",
       "│   19  \u001b[38;5;71m \u001b[0m\u001b[38;5;71m6-K \u001b[0m\u001b[38;5;71m \u001b[0m  BROOKFIELD Corp /ON/               1001085  \u001b[38;5;39m \u001b[0m\u001b[38;5;39m2023-03-21 \u001b[0m\u001b[38;5;39m \u001b[0m  0001171843-23-001809                   │\n",
       "│  \u001b[1m \u001b[0m\u001b[1m20\u001b[0m\u001b[1m \u001b[0m \u001b[1;38;5;71m \u001b[0m\u001b[1;38;5;71m6-K \u001b[0m\u001b[1;38;5;71m \u001b[0m \u001b[1m \u001b[0m\u001b[1mBanco Santander (Brasil) S.A.   \u001b[0m\u001b[1m \u001b[0m \u001b[1m \u001b[0m\u001b[1m1471055\u001b[0m\u001b[1m \u001b[0m \u001b[1;38;5;39m \u001b[0m\u001b[1;38;5;39m2023-03-21 \u001b[0m\u001b[1;38;5;39m \u001b[0m \u001b[1m \u001b[0m\u001b[1m0001292814-23-001026\u001b[0m\u001b[1m \u001b[0m                  │\n",
       "│   21  \u001b[38;5;71m \u001b[0m\u001b[38;5;71m6-K \u001b[0m\u001b[38;5;71m \u001b[0m  Banco Santander, S.A.              891478   \u001b[38;5;39m \u001b[0m\u001b[38;5;39m2023-03-21 \u001b[0m\u001b[38;5;39m \u001b[0m  0000950103-23-004416                   │\n",
       "│  \u001b[1m \u001b[0m\u001b[1m22\u001b[0m\u001b[1m \u001b[0m \u001b[1;38;5;71m \u001b[0m\u001b[1;38;5;71m6-K \u001b[0m\u001b[1;38;5;71m \u001b[0m \u001b[1m \u001b[0m\u001b[1mBiophytis SA                    \u001b[0m\u001b[1m \u001b[0m \u001b[1m \u001b[0m\u001b[1m1768946\u001b[0m\u001b[1m \u001b[0m \u001b[1;38;5;39m \u001b[0m\u001b[1;38;5;39m2023-03-21 \u001b[0m\u001b[1;38;5;39m \u001b[0m \u001b[1m \u001b[0m\u001b[1m0001104659-23-034845\u001b[0m\u001b[1m \u001b[0m                  │\n",
       "│   23  \u001b[38;5;71m \u001b[0m\u001b[38;5;71m6-K \u001b[0m\u001b[38;5;71m \u001b[0m  Bitfarms Ltd                       1812477  \u001b[38;5;39m \u001b[0m\u001b[38;5;39m2023-03-21 \u001b[0m\u001b[38;5;39m \u001b[0m  0001213900-23-021549                   │\n",
       "│  \u001b[1m \u001b[0m\u001b[1m24\u001b[0m\u001b[1m \u001b[0m \u001b[1;38;5;71m \u001b[0m\u001b[1;38;5;71m6-K \u001b[0m\u001b[1;38;5;71m \u001b[0m \u001b[1m \u001b[0m\u001b[1mBruush Oral Care Inc.           \u001b[0m\u001b[1m \u001b[0m \u001b[1m \u001b[0m\u001b[1m1913210\u001b[0m\u001b[1m \u001b[0m \u001b[1;38;5;39m \u001b[0m\u001b[1;38;5;39m2023-03-21 \u001b[0m\u001b[1;38;5;39m \u001b[0m \u001b[1m \u001b[0m\u001b[1m0001493152-23-008415\u001b[0m\u001b[1m \u001b[0m                  │\n",
       "│   25  \u001b[38;5;71m \u001b[0m\u001b[38;5;71m6-K \u001b[0m\u001b[38;5;71m \u001b[0m  Bruush Oral Care Inc.              1913210  \u001b[38;5;39m \u001b[0m\u001b[38;5;39m2023-03-21 \u001b[0m\u001b[38;5;39m \u001b[0m  0001493152-23-008432                   │\n",
       "│  \u001b[1m \u001b[0m\u001b[1m26\u001b[0m\u001b[1m \u001b[0m \u001b[1;38;5;71m \u001b[0m\u001b[1;38;5;71m6-K \u001b[0m\u001b[1;38;5;71m \u001b[0m \u001b[1m \u001b[0m\u001b[1mCASI Pharmaceuticals, Inc.      \u001b[0m\u001b[1m \u001b[0m \u001b[1m \u001b[0m\u001b[1m1962738\u001b[0m\u001b[1m \u001b[0m \u001b[1;38;5;39m \u001b[0m\u001b[1;38;5;39m2023-03-21 \u001b[0m\u001b[1;38;5;39m \u001b[0m \u001b[1m \u001b[0m\u001b[1m0001104659-23-035113\u001b[0m\u001b[1m \u001b[0m                  │\n",
       "│   27  \u001b[38;5;71m \u001b[0m\u001b[38;5;71m6-K \u001b[0m\u001b[38;5;71m \u001b[0m  CENTRAL PUERTO S.A.                1717161  \u001b[38;5;39m \u001b[0m\u001b[38;5;39m2023-03-21 \u001b[0m\u001b[38;5;39m \u001b[0m  0001654954-23-003224                   │\n",
       "│  \u001b[1m \u001b[0m\u001b[1m28\u001b[0m\u001b[1m \u001b[0m \u001b[1;38;5;71m \u001b[0m\u001b[1;38;5;71m6-K \u001b[0m\u001b[1;38;5;71m \u001b[0m \u001b[1m \u001b[0m\u001b[1mCRESUD INC                      \u001b[0m\u001b[1m \u001b[0m \u001b[1m \u001b[0m\u001b[1m1034957\u001b[0m\u001b[1m \u001b[0m \u001b[1;38;5;39m \u001b[0m\u001b[1;38;5;39m2023-03-21 \u001b[0m\u001b[1;38;5;39m \u001b[0m \u001b[1m \u001b[0m\u001b[1m0001654954-23-003222\u001b[0m\u001b[1m \u001b[0m                  │\n",
       "│   29  \u001b[38;5;71m \u001b[0m\u001b[38;5;71m6-K \u001b[0m\u001b[38;5;71m \u001b[0m  CRH PUBLIC LTD CO                  849395   \u001b[38;5;39m \u001b[0m\u001b[38;5;39m2023-03-21 \u001b[0m\u001b[38;5;39m \u001b[0m  0001654954-23-003204                   │\n",
       "│  \u001b[1m \u001b[0m\u001b[1m30\u001b[0m\u001b[1m \u001b[0m \u001b[1;38;5;71m \u001b[0m\u001b[1;38;5;71m6-K \u001b[0m\u001b[1;38;5;71m \u001b[0m \u001b[1m \u001b[0m\u001b[1mCRH PUBLIC LTD CO               \u001b[0m\u001b[1m \u001b[0m \u001b[1m \u001b[0m\u001b[1m849395 \u001b[0m\u001b[1m \u001b[0m \u001b[1;38;5;39m \u001b[0m\u001b[1;38;5;39m2023-03-21 \u001b[0m\u001b[1;38;5;39m \u001b[0m \u001b[1m \u001b[0m\u001b[1m0001654954-23-003212\u001b[0m\u001b[1m \u001b[0m                  │\n",
       "│   31  \u001b[38;5;71m \u001b[0m\u001b[38;5;71m6-K \u001b[0m\u001b[38;5;71m \u001b[0m  CRH PUBLIC LTD CO                  849395   \u001b[38;5;39m \u001b[0m\u001b[38;5;39m2023-03-21 \u001b[0m\u001b[38;5;39m \u001b[0m  0001654954-23-003234                   │\n",
       "│  \u001b[1m \u001b[0m\u001b[1m32\u001b[0m\u001b[1m \u001b[0m \u001b[1;38;5;71m \u001b[0m\u001b[1;38;5;71m6-K \u001b[0m\u001b[1;38;5;71m \u001b[0m \u001b[1m \u001b[0m\u001b[1mCRH PUBLIC LTD CO               \u001b[0m\u001b[1m \u001b[0m \u001b[1m \u001b[0m\u001b[1m849395 \u001b[0m\u001b[1m \u001b[0m \u001b[1;38;5;39m \u001b[0m\u001b[1;38;5;39m2023-03-21 \u001b[0m\u001b[1;38;5;39m \u001b[0m \u001b[1m \u001b[0m\u001b[1m0001654954-23-003235\u001b[0m\u001b[1m \u001b[0m                  │\n",
       "│   33  \u001b[38;5;71m \u001b[0m\u001b[38;5;71m6-K \u001b[0m\u001b[38;5;71m \u001b[0m  Canadian Solar Inc.                1375877  \u001b[38;5;39m \u001b[0m\u001b[38;5;39m2023-03-21 \u001b[0m\u001b[38;5;39m \u001b[0m  0001104659-23-034689                   │\n",
       "│  \u001b[1m \u001b[0m\u001b[1m34\u001b[0m\u001b[1m \u001b[0m \u001b[1;38;5;71m \u001b[0m\u001b[1;38;5;71m6-K \u001b[0m\u001b[1;38;5;71m \u001b[0m \u001b[1m \u001b[0m\u001b[1mCheck-Cap Ltd                   \u001b[0m\u001b[1m \u001b[0m \u001b[1m \u001b[0m\u001b[1m1610590\u001b[0m\u001b[1m \u001b[0m \u001b[1;38;5;39m \u001b[0m\u001b[1;38;5;39m2023-03-21 \u001b[0m\u001b[1;38;5;39m \u001b[0m \u001b[1m \u001b[0m\u001b[1m0001178913-23-001073\u001b[0m\u001b[1m \u001b[0m                  │\n",
       "│   35  \u001b[38;5;71m \u001b[0m\u001b[38;5;71m6-K \u001b[0m\u001b[38;5;71m \u001b[0m  Connect Biopharma Holdings Ltd     1835268  \u001b[38;5;39m \u001b[0m\u001b[38;5;39m2023-03-21 \u001b[0m\u001b[38;5;39m \u001b[0m  0000950170-23-008964                   │\n",
       "│  \u001b[1m \u001b[0m\u001b[1m36\u001b[0m\u001b[1m \u001b[0m \u001b[1;38;5;71m \u001b[0m\u001b[1;38;5;71m6-K \u001b[0m\u001b[1;38;5;71m \u001b[0m \u001b[1m \u001b[0m\u001b[1mDR REDDYS LABORATORIES LTD      \u001b[0m\u001b[1m \u001b[0m \u001b[1m \u001b[0m\u001b[1m1135951\u001b[0m\u001b[1m \u001b[0m \u001b[1;38;5;39m \u001b[0m\u001b[1;38;5;39m2023-03-21 \u001b[0m\u001b[1;38;5;39m \u001b[0m \u001b[1m \u001b[0m\u001b[1m0001575872-23-000404\u001b[0m\u001b[1m \u001b[0m                  │\n",
       "│   37  \u001b[38;5;71m \u001b[0m\u001b[38;5;71m6-K \u001b[0m\u001b[38;5;71m \u001b[0m  Draganfly Inc.                     1786286  \u001b[38;5;39m \u001b[0m\u001b[38;5;39m2023-03-21 \u001b[0m\u001b[38;5;39m \u001b[0m  0001493152-23-008335                   │\n",
       "│  \u001b[1m \u001b[0m\u001b[1m38\u001b[0m\u001b[1m \u001b[0m \u001b[1;38;5;71m \u001b[0m\u001b[1;38;5;71m6-K \u001b[0m\u001b[1;38;5;71m \u001b[0m \u001b[1m \u001b[0m\u001b[1mElectra Battery Materials Corp  \u001b[0m\u001b[1m \u001b[0m \u001b[1m \u001b[0m\u001b[1m1907184\u001b[0m\u001b[1m \u001b[0m \u001b[1;38;5;39m \u001b[0m\u001b[1;38;5;39m2023-03-21 \u001b[0m\u001b[1;38;5;39m \u001b[0m \u001b[1m \u001b[0m\u001b[1m0001157523-23-000467\u001b[0m\u001b[1m \u001b[0m                  │\n",
       "│   39  \u001b[38;5;71m \u001b[0m\u001b[38;5;71m6-K \u001b[0m\u001b[38;5;71m \u001b[0m  Electra Battery Materials Corp     1907184  \u001b[38;5;39m \u001b[0m\u001b[38;5;39m2023-03-21 \u001b[0m\u001b[38;5;39m \u001b[0m  0001157523-23-000468                   │\n",
       "│  \u001b[1m \u001b[0m\u001b[1m40\u001b[0m\u001b[1m \u001b[0m \u001b[1;38;5;71m \u001b[0m\u001b[1;38;5;71m6-K \u001b[0m\u001b[1;38;5;71m \u001b[0m \u001b[1m \u001b[0m\u001b[1mEllomay Capital Ltd.            \u001b[0m\u001b[1m \u001b[0m \u001b[1m \u001b[0m\u001b[1m946394 \u001b[0m\u001b[1m \u001b[0m \u001b[1;38;5;39m \u001b[0m\u001b[1;38;5;39m2023-03-21 \u001b[0m\u001b[1;38;5;39m \u001b[0m \u001b[1m \u001b[0m\u001b[1m0001178913-23-001066\u001b[0m\u001b[1m \u001b[0m                  │\n",
       "│   41  \u001b[38;5;71m \u001b[0m\u001b[38;5;71m6-K \u001b[0m\u001b[38;5;71m \u001b[0m  Endava plc                         1656081  \u001b[38;5;39m \u001b[0m\u001b[38;5;39m2023-03-21 \u001b[0m\u001b[38;5;39m \u001b[0m  0001656081-23-000009                   │\n",
       "│  \u001b[1m \u001b[0m\u001b[1m42\u001b[0m\u001b[1m \u001b[0m \u001b[1;38;5;71m \u001b[0m\u001b[1;38;5;71m6-K \u001b[0m\u001b[1;38;5;71m \u001b[0m \u001b[1m \u001b[0m\u001b[1mEngine Gaming & Media, Inc.     \u001b[0m\u001b[1m \u001b[0m \u001b[1m \u001b[0m\u001b[1m1714562\u001b[0m\u001b[1m \u001b[0m \u001b[1;38;5;39m \u001b[0m\u001b[1;38;5;39m2023-03-21 \u001b[0m\u001b[1;38;5;39m \u001b[0m \u001b[1m \u001b[0m\u001b[1m0001493152-23-008376\u001b[0m\u001b[1m \u001b[0m                  │\n",
       "│   43  \u001b[38;5;71m \u001b[0m\u001b[38;5;71m6-K \u001b[0m\u001b[38;5;71m \u001b[0m  FORTUNA SILVER MINES INC           1341335  \u001b[38;5;39m \u001b[0m\u001b[38;5;39m2023-03-21 \u001b[0m\u001b[38;5;39m \u001b[0m  0001104659-23-034844                   │\n",
       "│  \u001b[1m \u001b[0m\u001b[1m44\u001b[0m\u001b[1m \u001b[0m \u001b[1;38;5;71m \u001b[0m\u001b[1;38;5;71m6-K \u001b[0m\u001b[1;38;5;71m \u001b[0m \u001b[1m \u001b[0m\u001b[1mFerrari N.V.                    \u001b[0m\u001b[1m \u001b[0m \u001b[1m \u001b[0m\u001b[1m1648416\u001b[0m\u001b[1m \u001b[0m \u001b[1;38;5;39m \u001b[0m\u001b[1;38;5;39m2023-03-21 \u001b[0m\u001b[1;38;5;39m \u001b[0m \u001b[1m \u001b[0m\u001b[1m0001648416-23-000064\u001b[0m\u001b[1m \u001b[0m                  │\n",
       "│   45  \u001b[38;5;71m \u001b[0m\u001b[38;5;71m6-K \u001b[0m\u001b[38;5;71m \u001b[0m  GAS TRANSPORTER OF THE SOUTH INC   931427   \u001b[38;5;39m \u001b[0m\u001b[38;5;39m2023-03-21 \u001b[0m\u001b[38;5;39m \u001b[0m  0000931427-23-000002                   │\n",
       "│  \u001b[1m \u001b[0m\u001b[1m46\u001b[0m\u001b[1m \u001b[0m \u001b[1;38;5;71m \u001b[0m\u001b[1;38;5;71m6-K \u001b[0m\u001b[1;38;5;71m \u001b[0m \u001b[1m \u001b[0m\u001b[1mGSK PLC                         \u001b[0m\u001b[1m \u001b[0m \u001b[1m \u001b[0m\u001b[1m1131399\u001b[0m\u001b[1m \u001b[0m \u001b[1;38;5;39m \u001b[0m\u001b[1;38;5;39m2023-03-21 \u001b[0m\u001b[1;38;5;39m \u001b[0m \u001b[1m \u001b[0m\u001b[1m0001654954-23-003231\u001b[0m\u001b[1m \u001b[0m                  │\n",
       "│   47  \u001b[38;5;71m \u001b[0m\u001b[38;5;71m6-K \u001b[0m\u001b[38;5;71m \u001b[0m  Grupo Supervielle S.A.             1517399  \u001b[38;5;39m \u001b[0m\u001b[38;5;39m2023-03-21 \u001b[0m\u001b[38;5;39m \u001b[0m  0001517399-23-000041                   │\n",
       "│  \u001b[1m \u001b[0m\u001b[1m48\u001b[0m\u001b[1m \u001b[0m \u001b[1;38;5;71m \u001b[0m\u001b[1;38;5;71m6-K \u001b[0m\u001b[1;38;5;71m \u001b[0m \u001b[1m \u001b[0m\u001b[1mHDFC BANK LTD                   \u001b[0m\u001b[1m \u001b[0m \u001b[1m \u001b[0m\u001b[1m1144967\u001b[0m\u001b[1m \u001b[0m \u001b[1;38;5;39m \u001b[0m\u001b[1;38;5;39m2023-03-21 \u001b[0m\u001b[1;38;5;39m \u001b[0m \u001b[1m \u001b[0m\u001b[1m0001193125-23-075180\u001b[0m\u001b[1m \u001b[0m                  │\n",
       "│   49  \u001b[38;5;71m \u001b[0m\u001b[38;5;71m6-K \u001b[0m\u001b[38;5;71m \u001b[0m  HSBC HOLDINGS PLC                  1089113  \u001b[38;5;39m \u001b[0m\u001b[38;5;39m2023-03-21 \u001b[0m\u001b[38;5;39m \u001b[0m  0001654954-23-003238                   │\n",
       "│                                                                                                                 │\n",
       "│ Showing 50 of 5,442 filings                                                                                     │\n",
       "╰─────────────────────────────────────────────────────────────────────────────────────────────────────────────────╯"
      ]
     },
     "execution_count": 9,
     "metadata": {},
     "output_type": "execute_result"
    }
   ],
   "source": [
    "filings_6k = get_filings(form=\"6-K\")\n",
    "filings_6k"
   ]
  },
  {
   "cell_type": "markdown",
   "id": "1e0d6802",
   "metadata": {},
   "source": [
    "### Getting filings for a form not including amendments"
   ]
  },
  {
   "cell_type": "markdown",
   "id": "0c9432ae",
   "metadata": {},
   "source": [
    "By default getting filings for a form type also includes amendments to that form type"
   ]
  },
  {
   "cell_type": "code",
   "execution_count": 10,
   "id": "dbca49ab",
   "metadata": {},
   "outputs": [
    {
     "data": {
      "text/html": [
       "<pre style=\"white-space:pre;overflow-x:auto;line-height:normal;font-family:Menlo,'DejaVu Sans Mono',consolas,'Courier New',monospace\"></pre>\n"
      ],
      "text/plain": []
     },
     "metadata": {},
     "output_type": "display_data"
    },
    {
     "data": {
      "text/plain": [
       "╭──────────────────────────────────────────────────── Filings ────────────────────────────────────────────────────╮\n",
       "│                                                                                                                 │\n",
       "│  \u001b[1m \u001b[0m\u001b[1m  \u001b[0m\u001b[1m \u001b[0m \u001b[1;38;5;71m \u001b[0m\u001b[1;38;5;71mform \u001b[0m\u001b[1;38;5;71m \u001b[0m \u001b[1m \u001b[0m\u001b[1mcompany                                      \u001b[0m\u001b[1m \u001b[0m \u001b[1m \u001b[0m\u001b[1mcik    \u001b[0m\u001b[1m \u001b[0m \u001b[1;38;5;39m \u001b[0m\u001b[1;38;5;39mfiling_date\u001b[0m\u001b[1;38;5;39m \u001b[0m \u001b[1m \u001b[0m\u001b[1maccession_number    \u001b[0m\u001b[1m \u001b[0m    │\n",
       "│  ───────────────────────────────────────────────────────────────────────────────────────────────────────────    │\n",
       "│  \u001b[1m \u001b[0m\u001b[1m0 \u001b[0m\u001b[1m \u001b[0m \u001b[1;38;5;71m \u001b[0m\u001b[1;38;5;71m6-K/A\u001b[0m\u001b[1;38;5;71m \u001b[0m \u001b[1m \u001b[0m\u001b[1mBRAZILIAN ELECTRIC POWER CO                  \u001b[0m\u001b[1m \u001b[0m \u001b[1m \u001b[0m\u001b[1m1439124\u001b[0m\u001b[1m \u001b[0m \u001b[1;38;5;39m \u001b[0m\u001b[1;38;5;39m2023-03-21 \u001b[0m\u001b[1;38;5;39m \u001b[0m \u001b[1m \u001b[0m\u001b[1m0001292814-23-001028\u001b[0m\u001b[1m \u001b[0m    │\n",
       "│   1   \u001b[38;5;71m \u001b[0m\u001b[38;5;71m6-K/A\u001b[0m\u001b[38;5;71m \u001b[0m  Metalpha Technology Holding Ltd                 1682241  \u001b[38;5;39m \u001b[0m\u001b[38;5;39m2023-03-21 \u001b[0m\u001b[38;5;39m \u001b[0m  0001213900-23-021702     │\n",
       "│  \u001b[1m \u001b[0m\u001b[1m2 \u001b[0m\u001b[1m \u001b[0m \u001b[1;38;5;71m \u001b[0m\u001b[1;38;5;71m6-K/A\u001b[0m\u001b[1;38;5;71m \u001b[0m \u001b[1m \u001b[0m\u001b[1mSilver Elephant Mining Corp.                 \u001b[0m\u001b[1m \u001b[0m \u001b[1m \u001b[0m\u001b[1m1545224\u001b[0m\u001b[1m \u001b[0m \u001b[1;38;5;39m \u001b[0m\u001b[1;38;5;39m2023-03-21 \u001b[0m\u001b[1;38;5;39m \u001b[0m \u001b[1m \u001b[0m\u001b[1m0001062993-23-007376\u001b[0m\u001b[1m \u001b[0m    │\n",
       "│   3   \u001b[38;5;71m \u001b[0m\u001b[38;5;71m6-K/A\u001b[0m\u001b[38;5;71m \u001b[0m  BRAZILIAN ELECTRIC POWER CO                     1439124  \u001b[38;5;39m \u001b[0m\u001b[38;5;39m2023-03-20 \u001b[0m\u001b[38;5;39m \u001b[0m  0001292814-23-001008     │\n",
       "│  \u001b[1m \u001b[0m\u001b[1m4 \u001b[0m\u001b[1m \u001b[0m \u001b[1;38;5;71m \u001b[0m\u001b[1;38;5;71m6-K/A\u001b[0m\u001b[1;38;5;71m \u001b[0m \u001b[1m \u001b[0m\u001b[1mNatWest Group plc                            \u001b[0m\u001b[1m \u001b[0m \u001b[1m \u001b[0m\u001b[1m844150 \u001b[0m\u001b[1m \u001b[0m \u001b[1;38;5;39m \u001b[0m\u001b[1;38;5;39m2023-03-20 \u001b[0m\u001b[1;38;5;39m \u001b[0m \u001b[1m \u001b[0m\u001b[1m0001654954-23-003171\u001b[0m\u001b[1m \u001b[0m    │\n",
       "│   5   \u001b[38;5;71m \u001b[0m\u001b[38;5;71m6-K/A\u001b[0m\u001b[38;5;71m \u001b[0m  BRAZILIAN ELECTRIC POWER CO                     1439124  \u001b[38;5;39m \u001b[0m\u001b[38;5;39m2023-03-16 \u001b[0m\u001b[38;5;39m \u001b[0m  0001292814-23-000936     │\n",
       "│  \u001b[1m \u001b[0m\u001b[1m6 \u001b[0m\u001b[1m \u001b[0m \u001b[1;38;5;71m \u001b[0m\u001b[1;38;5;71m6-K/A\u001b[0m\u001b[1;38;5;71m \u001b[0m \u001b[1m \u001b[0m\u001b[1mCian PLC                                     \u001b[0m\u001b[1m \u001b[0m \u001b[1m \u001b[0m\u001b[1m1867752\u001b[0m\u001b[1m \u001b[0m \u001b[1;38;5;39m \u001b[0m\u001b[1;38;5;39m2023-03-16 \u001b[0m\u001b[1;38;5;39m \u001b[0m \u001b[1m \u001b[0m\u001b[1m0001104659-23-033390\u001b[0m\u001b[1m \u001b[0m    │\n",
       "│   7   \u001b[38;5;71m \u001b[0m\u001b[38;5;71m6-K/A\u001b[0m\u001b[38;5;71m \u001b[0m  KOREA ELECTRIC POWER CORP                       887225   \u001b[38;5;39m \u001b[0m\u001b[38;5;39m2023-03-16 \u001b[0m\u001b[38;5;39m \u001b[0m  0001193125-23-071874     │\n",
       "│  \u001b[1m \u001b[0m\u001b[1m8 \u001b[0m\u001b[1m \u001b[0m \u001b[1;38;5;71m \u001b[0m\u001b[1;38;5;71m6-K/A\u001b[0m\u001b[1;38;5;71m \u001b[0m \u001b[1m \u001b[0m\u001b[1mVale S.A.                                    \u001b[0m\u001b[1m \u001b[0m \u001b[1m \u001b[0m\u001b[1m917851 \u001b[0m\u001b[1m \u001b[0m \u001b[1;38;5;39m \u001b[0m\u001b[1;38;5;39m2023-03-16 \u001b[0m\u001b[1;38;5;39m \u001b[0m \u001b[1m \u001b[0m\u001b[1m0001292814-23-000950\u001b[0m\u001b[1m \u001b[0m    │\n",
       "│   9   \u001b[38;5;71m \u001b[0m\u001b[38;5;71m6-K/A\u001b[0m\u001b[38;5;71m \u001b[0m  Vale S.A.                                       917851   \u001b[38;5;39m \u001b[0m\u001b[38;5;39m2023-03-16 \u001b[0m\u001b[38;5;39m \u001b[0m  0001292814-23-000952     │\n",
       "│  \u001b[1m \u001b[0m\u001b[1m10\u001b[0m\u001b[1m \u001b[0m \u001b[1;38;5;71m \u001b[0m\u001b[1;38;5;71m6-K/A\u001b[0m\u001b[1;38;5;71m \u001b[0m \u001b[1m \u001b[0m\u001b[1mBRF S.A.                                     \u001b[0m\u001b[1m \u001b[0m \u001b[1m \u001b[0m\u001b[1m1122491\u001b[0m\u001b[1m \u001b[0m \u001b[1;38;5;39m \u001b[0m\u001b[1;38;5;39m2023-03-15 \u001b[0m\u001b[1;38;5;39m \u001b[0m \u001b[1m \u001b[0m\u001b[1m0001292814-23-000930\u001b[0m\u001b[1m \u001b[0m    │\n",
       "│   11  \u001b[38;5;71m \u001b[0m\u001b[38;5;71m6-K/A\u001b[0m\u001b[38;5;71m \u001b[0m  StoneCo Ltd.                                    1745431  \u001b[38;5;39m \u001b[0m\u001b[38;5;39m2023-03-15 \u001b[0m\u001b[38;5;39m \u001b[0m  0000950103-23-004153     │\n",
       "│  \u001b[1m \u001b[0m\u001b[1m12\u001b[0m\u001b[1m \u001b[0m \u001b[1;38;5;71m \u001b[0m\u001b[1;38;5;71m6-K/A\u001b[0m\u001b[1;38;5;71m \u001b[0m \u001b[1m \u001b[0m\u001b[1mBRAZILIAN ELECTRIC POWER CO                  \u001b[0m\u001b[1m \u001b[0m \u001b[1m \u001b[0m\u001b[1m1439124\u001b[0m\u001b[1m \u001b[0m \u001b[1;38;5;39m \u001b[0m\u001b[1;38;5;39m2023-03-14 \u001b[0m\u001b[1;38;5;39m \u001b[0m \u001b[1m \u001b[0m\u001b[1m0001292814-23-000904\u001b[0m\u001b[1m \u001b[0m    │\n",
       "│   13  \u001b[38;5;71m \u001b[0m\u001b[38;5;71m6-K/A\u001b[0m\u001b[38;5;71m \u001b[0m  WESTPORT FUEL SYSTEMS INC.                      1370416  \u001b[38;5;39m \u001b[0m\u001b[38;5;39m2023-03-14 \u001b[0m\u001b[38;5;39m \u001b[0m  0001370416-23-000020     │\n",
       "│  \u001b[1m \u001b[0m\u001b[1m14\u001b[0m\u001b[1m \u001b[0m \u001b[1;38;5;71m \u001b[0m\u001b[1;38;5;71m6-K/A\u001b[0m\u001b[1;38;5;71m \u001b[0m \u001b[1m \u001b[0m\u001b[1mArrival                                      \u001b[0m\u001b[1m \u001b[0m \u001b[1m \u001b[0m\u001b[1m1835059\u001b[0m\u001b[1m \u001b[0m \u001b[1;38;5;39m \u001b[0m\u001b[1;38;5;39m2023-03-13 \u001b[0m\u001b[1;38;5;39m \u001b[0m \u001b[1m \u001b[0m\u001b[1m0001628280-23-007711\u001b[0m\u001b[1m \u001b[0m    │\n",
       "│   15  \u001b[38;5;71m \u001b[0m\u001b[38;5;71m6-K/A\u001b[0m\u001b[38;5;71m \u001b[0m  Paranovus Entertainment Technology Ltd.         1751876  \u001b[38;5;39m \u001b[0m\u001b[38;5;39m2023-03-13 \u001b[0m\u001b[38;5;39m \u001b[0m  0001213900-23-019591     │\n",
       "│  \u001b[1m \u001b[0m\u001b[1m16\u001b[0m\u001b[1m \u001b[0m \u001b[1;38;5;71m \u001b[0m\u001b[1;38;5;71m6-K/A\u001b[0m\u001b[1;38;5;71m \u001b[0m \u001b[1m \u001b[0m\u001b[1mBRAZILIAN ELECTRIC POWER CO                  \u001b[0m\u001b[1m \u001b[0m \u001b[1m \u001b[0m\u001b[1m1439124\u001b[0m\u001b[1m \u001b[0m \u001b[1;38;5;39m \u001b[0m\u001b[1;38;5;39m2023-03-10 \u001b[0m\u001b[1;38;5;39m \u001b[0m \u001b[1m \u001b[0m\u001b[1m0001292814-23-000838\u001b[0m\u001b[1m \u001b[0m    │\n",
       "│   17  \u001b[38;5;71m \u001b[0m\u001b[38;5;71m6-K/A\u001b[0m\u001b[38;5;71m \u001b[0m  KT CORP                                         892450   \u001b[38;5;39m \u001b[0m\u001b[38;5;39m2023-03-10 \u001b[0m\u001b[38;5;39m \u001b[0m  0001193125-23-067044     │\n",
       "│  \u001b[1m \u001b[0m\u001b[1m18\u001b[0m\u001b[1m \u001b[0m \u001b[1;38;5;71m \u001b[0m\u001b[1;38;5;71m6-K/A\u001b[0m\u001b[1;38;5;71m \u001b[0m \u001b[1m \u001b[0m\u001b[1mTRANSALTA CORP                               \u001b[0m\u001b[1m \u001b[0m \u001b[1m \u001b[0m\u001b[1m1144800\u001b[0m\u001b[1m \u001b[0m \u001b[1;38;5;39m \u001b[0m\u001b[1;38;5;39m2023-03-10 \u001b[0m\u001b[1;38;5;39m \u001b[0m \u001b[1m \u001b[0m\u001b[1m0001144800-23-000014\u001b[0m\u001b[1m \u001b[0m    │\n",
       "│   19  \u001b[38;5;71m \u001b[0m\u001b[38;5;71m6-K/A\u001b[0m\u001b[38;5;71m \u001b[0m  BRASKEM SA                                      1071438  \u001b[38;5;39m \u001b[0m\u001b[38;5;39m2023-03-09 \u001b[0m\u001b[38;5;39m \u001b[0m  0001292814-23-000784     │\n",
       "│  \u001b[1m \u001b[0m\u001b[1m20\u001b[0m\u001b[1m \u001b[0m \u001b[1;38;5;71m \u001b[0m\u001b[1;38;5;71m6-K/A\u001b[0m\u001b[1;38;5;71m \u001b[0m \u001b[1m \u001b[0m\u001b[1mBRAZILIAN ELECTRIC POWER CO                  \u001b[0m\u001b[1m \u001b[0m \u001b[1m \u001b[0m\u001b[1m1439124\u001b[0m\u001b[1m \u001b[0m \u001b[1;38;5;39m \u001b[0m\u001b[1;38;5;39m2023-03-09 \u001b[0m\u001b[1;38;5;39m \u001b[0m \u001b[1m \u001b[0m\u001b[1m0001292814-23-000789\u001b[0m\u001b[1m \u001b[0m    │\n",
       "│   21  \u001b[38;5;71m \u001b[0m\u001b[38;5;71m6-K/A\u001b[0m\u001b[38;5;71m \u001b[0m  KAZIA THERAPEUTICS LTD                          1075880  \u001b[38;5;39m \u001b[0m\u001b[38;5;39m2023-03-09 \u001b[0m\u001b[38;5;39m \u001b[0m  0001193125-23-065309     │\n",
       "│  \u001b[1m \u001b[0m\u001b[1m22\u001b[0m\u001b[1m \u001b[0m \u001b[1;38;5;71m \u001b[0m\u001b[1;38;5;71m6-K/A\u001b[0m\u001b[1;38;5;71m \u001b[0m \u001b[1m \u001b[0m\u001b[1mVale S.A.                                    \u001b[0m\u001b[1m \u001b[0m \u001b[1m \u001b[0m\u001b[1m917851 \u001b[0m\u001b[1m \u001b[0m \u001b[1;38;5;39m \u001b[0m\u001b[1;38;5;39m2023-03-09 \u001b[0m\u001b[1;38;5;39m \u001b[0m \u001b[1m \u001b[0m\u001b[1m0001292814-23-000808\u001b[0m\u001b[1m \u001b[0m    │\n",
       "│   23  \u001b[38;5;71m \u001b[0m\u001b[38;5;71m6-K/A\u001b[0m\u001b[38;5;71m \u001b[0m  Gol Intelligent Airlines Inc.                   1291733  \u001b[38;5;39m \u001b[0m\u001b[38;5;39m2023-03-08 \u001b[0m\u001b[38;5;39m \u001b[0m  0001292814-23-000764     │\n",
       "│  \u001b[1m \u001b[0m\u001b[1m24\u001b[0m\u001b[1m \u001b[0m \u001b[1;38;5;71m \u001b[0m\u001b[1;38;5;71m6-K/A\u001b[0m\u001b[1;38;5;71m \u001b[0m \u001b[1m \u001b[0m\u001b[1mCREDICORP LTD                                \u001b[0m\u001b[1m \u001b[0m \u001b[1m \u001b[0m\u001b[1m1001290\u001b[0m\u001b[1m \u001b[0m \u001b[1;38;5;39m \u001b[0m\u001b[1;38;5;39m2023-03-03 \u001b[0m\u001b[1;38;5;39m \u001b[0m \u001b[1m \u001b[0m\u001b[1m0001140361-23-010117\u001b[0m\u001b[1m \u001b[0m    │\n",
       "│   25  \u001b[38;5;71m \u001b[0m\u001b[38;5;71m6-K/A\u001b[0m\u001b[38;5;71m \u001b[0m  International General Insurance Holdings Ltd.   1794338  \u001b[38;5;39m \u001b[0m\u001b[38;5;39m2023-03-03 \u001b[0m\u001b[38;5;39m \u001b[0m  0001213900-23-017223     │\n",
       "│  \u001b[1m \u001b[0m\u001b[1m26\u001b[0m\u001b[1m \u001b[0m \u001b[1;38;5;71m \u001b[0m\u001b[1;38;5;71m6-K/A\u001b[0m\u001b[1;38;5;71m \u001b[0m \u001b[1m \u001b[0m\u001b[1mAptorum Group Ltd                            \u001b[0m\u001b[1m \u001b[0m \u001b[1m \u001b[0m\u001b[1m1734005\u001b[0m\u001b[1m \u001b[0m \u001b[1;38;5;39m \u001b[0m\u001b[1;38;5;39m2023-03-02 \u001b[0m\u001b[1;38;5;39m \u001b[0m \u001b[1m \u001b[0m\u001b[1m0001213900-23-016840\u001b[0m\u001b[1m \u001b[0m    │\n",
       "│   27  \u001b[38;5;71m \u001b[0m\u001b[38;5;71m6-K/A\u001b[0m\u001b[38;5;71m \u001b[0m  SHINHAN FINANCIAL GROUP CO LTD                  1263043  \u001b[38;5;39m \u001b[0m\u001b[38;5;39m2023-03-02 \u001b[0m\u001b[38;5;39m \u001b[0m  0000950170-23-005696     │\n",
       "│  \u001b[1m \u001b[0m\u001b[1m28\u001b[0m\u001b[1m \u001b[0m \u001b[1;38;5;71m \u001b[0m\u001b[1;38;5;71m6-K/A\u001b[0m\u001b[1;38;5;71m \u001b[0m \u001b[1m \u001b[0m\u001b[1mCosan S.A.                                   \u001b[0m\u001b[1m \u001b[0m \u001b[1m \u001b[0m\u001b[1m1430162\u001b[0m\u001b[1m \u001b[0m \u001b[1;38;5;39m \u001b[0m\u001b[1;38;5;39m2023-03-01 \u001b[0m\u001b[1;38;5;39m \u001b[0m \u001b[1m \u001b[0m\u001b[1m0001554855-23-000139\u001b[0m\u001b[1m \u001b[0m    │\n",
       "│   29  \u001b[38;5;71m \u001b[0m\u001b[38;5;71m6-K/A\u001b[0m\u001b[38;5;71m \u001b[0m  Cosan S.A.                                      1430162  \u001b[38;5;39m \u001b[0m\u001b[38;5;39m2023-03-01 \u001b[0m\u001b[38;5;39m \u001b[0m  0001554855-23-000143     │\n",
       "│  \u001b[1m \u001b[0m\u001b[1m30\u001b[0m\u001b[1m \u001b[0m \u001b[1;38;5;71m \u001b[0m\u001b[1;38;5;71m6-K/A\u001b[0m\u001b[1;38;5;71m \u001b[0m \u001b[1m \u001b[0m\u001b[1mVizsla Silver Corp.                          \u001b[0m\u001b[1m \u001b[0m \u001b[1m \u001b[0m\u001b[1m1796073\u001b[0m\u001b[1m \u001b[0m \u001b[1;38;5;39m \u001b[0m\u001b[1;38;5;39m2023-02-27 \u001b[0m\u001b[1;38;5;39m \u001b[0m \u001b[1m \u001b[0m\u001b[1m0001062993-23-004987\u001b[0m\u001b[1m \u001b[0m    │\n",
       "│   31  \u001b[38;5;71m \u001b[0m\u001b[38;5;71m6-K/A\u001b[0m\u001b[38;5;71m \u001b[0m  Equinox Gold Corp.                              1756607  \u001b[38;5;39m \u001b[0m\u001b[38;5;39m2023-02-24 \u001b[0m\u001b[38;5;39m \u001b[0m  0001628280-23-004914     │\n",
       "│  \u001b[1m \u001b[0m\u001b[1m32\u001b[0m\u001b[1m \u001b[0m \u001b[1;38;5;71m \u001b[0m\u001b[1;38;5;71m6-K/A\u001b[0m\u001b[1;38;5;71m \u001b[0m \u001b[1m \u001b[0m\u001b[1mTRANSALTA CORP                               \u001b[0m\u001b[1m \u001b[0m \u001b[1m \u001b[0m\u001b[1m1144800\u001b[0m\u001b[1m \u001b[0m \u001b[1;38;5;39m \u001b[0m\u001b[1;38;5;39m2023-02-24 \u001b[0m\u001b[1;38;5;39m \u001b[0m \u001b[1m \u001b[0m\u001b[1m0001144800-23-000010\u001b[0m\u001b[1m \u001b[0m    │\n",
       "│   33  \u001b[38;5;71m \u001b[0m\u001b[38;5;71m6-K/A\u001b[0m\u001b[38;5;71m \u001b[0m  POSCO HOLDINGS INC.                             889132   \u001b[38;5;39m \u001b[0m\u001b[38;5;39m2023-02-22 \u001b[0m\u001b[38;5;39m \u001b[0m  0001193125-23-044199     │\n",
       "│  \u001b[1m \u001b[0m\u001b[1m34\u001b[0m\u001b[1m \u001b[0m \u001b[1;38;5;71m \u001b[0m\u001b[1;38;5;71m6-K/A\u001b[0m\u001b[1;38;5;71m \u001b[0m \u001b[1m \u001b[0m\u001b[1mSol-Gel Technologies Ltd.                    \u001b[0m\u001b[1m \u001b[0m \u001b[1m \u001b[0m\u001b[1m1684693\u001b[0m\u001b[1m \u001b[0m \u001b[1;38;5;39m \u001b[0m\u001b[1;38;5;39m2023-02-21 \u001b[0m\u001b[1;38;5;39m \u001b[0m \u001b[1m \u001b[0m\u001b[1m0001178913-23-000686\u001b[0m\u001b[1m \u001b[0m    │\n",
       "│   35  \u001b[38;5;71m \u001b[0m\u001b[38;5;71m6-K/A\u001b[0m\u001b[38;5;71m \u001b[0m  TIM S.A.                                        1826168  \u001b[38;5;39m \u001b[0m\u001b[38;5;39m2023-02-21 \u001b[0m\u001b[38;5;39m \u001b[0m  0001292814-23-000538     │\n",
       "│  \u001b[1m \u001b[0m\u001b[1m36\u001b[0m\u001b[1m \u001b[0m \u001b[1;38;5;71m \u001b[0m\u001b[1;38;5;71m6-K/A\u001b[0m\u001b[1;38;5;71m \u001b[0m \u001b[1m \u001b[0m\u001b[1mHappiness Development Group Ltd              \u001b[0m\u001b[1m \u001b[0m \u001b[1m \u001b[0m\u001b[1m1751876\u001b[0m\u001b[1m \u001b[0m \u001b[1;38;5;39m \u001b[0m\u001b[1;38;5;39m2023-02-17 \u001b[0m\u001b[1;38;5;39m \u001b[0m \u001b[1m \u001b[0m\u001b[1m0001213900-23-012896\u001b[0m\u001b[1m \u001b[0m    │\n",
       "│   37  \u001b[38;5;71m \u001b[0m\u001b[38;5;71m6-K/A\u001b[0m\u001b[38;5;71m \u001b[0m  Legend Biotech Corp                             1801198  \u001b[38;5;39m \u001b[0m\u001b[38;5;39m2023-02-17 \u001b[0m\u001b[38;5;39m \u001b[0m  0001801198-23-000011     │\n",
       "│  \u001b[1m \u001b[0m\u001b[1m38\u001b[0m\u001b[1m \u001b[0m \u001b[1;38;5;71m \u001b[0m\u001b[1;38;5;71m6-K/A\u001b[0m\u001b[1;38;5;71m \u001b[0m \u001b[1m \u001b[0m\u001b[1mCEMEX SAB DE CV                              \u001b[0m\u001b[1m \u001b[0m \u001b[1m \u001b[0m\u001b[1m1076378\u001b[0m\u001b[1m \u001b[0m \u001b[1;38;5;39m \u001b[0m\u001b[1;38;5;39m2023-02-14 \u001b[0m\u001b[1;38;5;39m \u001b[0m \u001b[1m \u001b[0m\u001b[1m0001193125-23-036215\u001b[0m\u001b[1m \u001b[0m    │\n",
       "│   39  \u001b[38;5;71m \u001b[0m\u001b[38;5;71m6-K/A\u001b[0m\u001b[38;5;71m \u001b[0m  CREDIT SUISSE AG                                1053092  \u001b[38;5;39m \u001b[0m\u001b[38;5;39m2023-02-14 \u001b[0m\u001b[38;5;39m \u001b[0m  0001370368-23-000017     │\n",
       "│  \u001b[1m \u001b[0m\u001b[1m40\u001b[0m\u001b[1m \u001b[0m \u001b[1;38;5;71m \u001b[0m\u001b[1;38;5;71m6-K/A\u001b[0m\u001b[1;38;5;71m \u001b[0m \u001b[1m \u001b[0m\u001b[1mCREDIT SUISSE GROUP AG                       \u001b[0m\u001b[1m \u001b[0m \u001b[1m \u001b[0m\u001b[1m1159510\u001b[0m\u001b[1m \u001b[0m \u001b[1;38;5;39m \u001b[0m\u001b[1;38;5;39m2023-02-14 \u001b[0m\u001b[1;38;5;39m \u001b[0m \u001b[1m \u001b[0m\u001b[1m0001370368-23-000017\u001b[0m\u001b[1m \u001b[0m    │\n",
       "│   41  \u001b[38;5;71m \u001b[0m\u001b[38;5;71m6-K/A\u001b[0m\u001b[38;5;71m \u001b[0m  Copa Holdings, S.A.                             1345105  \u001b[38;5;39m \u001b[0m\u001b[38;5;39m2023-02-14 \u001b[0m\u001b[38;5;39m \u001b[0m  0000950170-23-002722     │\n",
       "│  \u001b[1m \u001b[0m\u001b[1m42\u001b[0m\u001b[1m \u001b[0m \u001b[1;38;5;71m \u001b[0m\u001b[1;38;5;71m6-K/A\u001b[0m\u001b[1;38;5;71m \u001b[0m \u001b[1m \u001b[0m\u001b[1mNu Holdings Ltd.                             \u001b[0m\u001b[1m \u001b[0m \u001b[1m \u001b[0m\u001b[1m1691493\u001b[0m\u001b[1m \u001b[0m \u001b[1;38;5;39m \u001b[0m\u001b[1;38;5;39m2023-02-14 \u001b[0m\u001b[1;38;5;39m \u001b[0m \u001b[1m \u001b[0m\u001b[1m0001292814-23-000447\u001b[0m\u001b[1m \u001b[0m    │\n",
       "│   43  \u001b[38;5;71m \u001b[0m\u001b[38;5;71m6-K/A\u001b[0m\u001b[38;5;71m \u001b[0m  CREDIT SUISSE AG                                1053092  \u001b[38;5;39m \u001b[0m\u001b[38;5;39m2023-02-13 \u001b[0m\u001b[38;5;39m \u001b[0m  0001213900-23-010748     │\n",
       "│  \u001b[1m \u001b[0m\u001b[1m44\u001b[0m\u001b[1m \u001b[0m \u001b[1;38;5;71m \u001b[0m\u001b[1;38;5;71m6-K/A\u001b[0m\u001b[1;38;5;71m \u001b[0m \u001b[1m \u001b[0m\u001b[1mCENTRAL PUERTO S.A.                          \u001b[0m\u001b[1m \u001b[0m \u001b[1m \u001b[0m\u001b[1m1717161\u001b[0m\u001b[1m \u001b[0m \u001b[1;38;5;39m \u001b[0m\u001b[1;38;5;39m2023-02-09 \u001b[0m\u001b[1;38;5;39m \u001b[0m \u001b[1m \u001b[0m\u001b[1m0001654954-23-001487\u001b[0m\u001b[1m \u001b[0m    │\n",
       "│   45  \u001b[38;5;71m \u001b[0m\u001b[38;5;71m6-K/A\u001b[0m\u001b[38;5;71m \u001b[0m  BRASKEM SA                                      1071438  \u001b[38;5;39m \u001b[0m\u001b[38;5;39m2023-02-08 \u001b[0m\u001b[38;5;39m \u001b[0m  0001292814-23-000339     │\n",
       "│  \u001b[1m \u001b[0m\u001b[1m46\u001b[0m\u001b[1m \u001b[0m \u001b[1;38;5;71m \u001b[0m\u001b[1;38;5;71m6-K/A\u001b[0m\u001b[1;38;5;71m \u001b[0m \u001b[1m \u001b[0m\u001b[1mEmeren Group Ltd                             \u001b[0m\u001b[1m \u001b[0m \u001b[1m \u001b[0m\u001b[1m1417892\u001b[0m\u001b[1m \u001b[0m \u001b[1;38;5;39m \u001b[0m\u001b[1;38;5;39m2023-02-08 \u001b[0m\u001b[1;38;5;39m \u001b[0m \u001b[1m \u001b[0m\u001b[1m0001104659-23-012114\u001b[0m\u001b[1m \u001b[0m    │\n",
       "│   47  \u001b[38;5;71m \u001b[0m\u001b[38;5;71m6-K/A\u001b[0m\u001b[38;5;71m \u001b[0m  MAGIC SOFTWARE ENTERPRISES LTD                  876779   \u001b[38;5;39m \u001b[0m\u001b[38;5;39m2023-02-07 \u001b[0m\u001b[38;5;39m \u001b[0m  0001213900-23-008755     │\n",
       "│  \u001b[1m \u001b[0m\u001b[1m48\u001b[0m\u001b[1m \u001b[0m \u001b[1;38;5;71m \u001b[0m\u001b[1;38;5;71m6-K/A\u001b[0m\u001b[1;38;5;71m \u001b[0m \u001b[1m \u001b[0m\u001b[1mAtento S.A.                                  \u001b[0m\u001b[1m \u001b[0m \u001b[1m \u001b[0m\u001b[1m1606457\u001b[0m\u001b[1m \u001b[0m \u001b[1;38;5;39m \u001b[0m\u001b[1;38;5;39m2023-02-06 \u001b[0m\u001b[1;38;5;39m \u001b[0m \u001b[1m \u001b[0m\u001b[1m0001292814-23-000298\u001b[0m\u001b[1m \u001b[0m    │\n",
       "│   49  \u001b[38;5;71m \u001b[0m\u001b[38;5;71m6-K/A\u001b[0m\u001b[38;5;71m \u001b[0m  BRAZILIAN ELECTRIC POWER CO                     1439124  \u001b[38;5;39m \u001b[0m\u001b[38;5;39m2023-02-03 \u001b[0m\u001b[38;5;39m \u001b[0m  0001292814-23-000293     │\n",
       "│                                                                                                                 │\n",
       "│ Showing 50 of 60 filings                                                                                        │\n",
       "╰─────────────────────────────────────────────────────────────────────────────────────────────────────────────────╯"
      ]
     },
     "execution_count": 10,
     "metadata": {},
     "output_type": "execute_result"
    }
   ],
   "source": [
    "filings_6k.filter(form=\"6-K/A\")"
   ]
  },
  {
   "cell_type": "markdown",
   "id": "0c19bd83",
   "metadata": {},
   "source": [
    "To omit amendments set `amendments=False`"
   ]
  },
  {
   "cell_type": "code",
   "execution_count": 11,
   "id": "4592916b",
   "metadata": {},
   "outputs": [
    {
     "data": {
      "text/html": [
       "<pre style=\"white-space:pre;overflow-x:auto;line-height:normal;font-family:Menlo,'DejaVu Sans Mono',consolas,'Courier New',monospace\"></pre>\n"
      ],
      "text/plain": []
     },
     "metadata": {},
     "output_type": "display_data"
    },
    {
     "data": {
      "text/plain": [
       "╭──────────────────────────────────────────────────── Filings ────────────────────────────────────────────────────╮\n",
       "│                                                                                                                 │\n",
       "│  \u001b[1m  \u001b[0m \u001b[1;38;5;71m \u001b[0m\u001b[1;38;5;71mform\u001b[0m\u001b[1;38;5;71m \u001b[0m \u001b[1m \u001b[0m\u001b[1mcompany\u001b[0m\u001b[1m \u001b[0m \u001b[1m \u001b[0m\u001b[1mcik\u001b[0m\u001b[1m \u001b[0m \u001b[1;38;5;39m \u001b[0m\u001b[1;38;5;39mfiling_date\u001b[0m\u001b[1;38;5;39m \u001b[0m \u001b[1m \u001b[0m\u001b[1maccession_number\u001b[0m\u001b[1m \u001b[0m                                                     │\n",
       "│  ──────────────────────────────────────────────────────────                                                     │\n",
       "│                                                                                                                 │\n",
       "│ Showing 0 of 0 filings                                                                                          │\n",
       "╰─────────────────────────────────────────────────────────────────────────────────────────────────────────────────╯"
      ]
     },
     "execution_count": 11,
     "metadata": {},
     "output_type": "execute_result"
    }
   ],
   "source": [
    "filings_6k = get_filings(form=\"6-K\", amendments=False)\n",
    "filings_6k.filter(form=\"6-K/A\")"
   ]
  },
  {
   "cell_type": "markdown",
   "id": "ec2bd12b",
   "metadata": {},
   "source": [
    "### Getting filings for a list of forms"
   ]
  },
  {
   "cell_type": "markdown",
   "id": "1ecb475f",
   "metadata": {},
   "source": [
    "The `form` parameter also accepts a list of forms "
   ]
  },
  {
   "cell_type": "code",
   "execution_count": 12,
   "id": "c94354ca",
   "metadata": {},
   "outputs": [
    {
     "data": {
      "text/html": [
       "<pre style=\"white-space:pre;overflow-x:auto;line-height:normal;font-family:Menlo,'DejaVu Sans Mono',consolas,'Courier New',monospace\"></pre>\n"
      ],
      "text/plain": []
     },
     "metadata": {},
     "output_type": "display_data"
    },
    {
     "data": {
      "text/plain": [
       "╭──────────────────────────────────────────────────── Filings ────────────────────────────────────────────────────╮\n",
       "│                                                                                                                 │\n",
       "│  \u001b[1m \u001b[0m\u001b[1m  \u001b[0m\u001b[1m \u001b[0m \u001b[1;38;5;71m \u001b[0m\u001b[1;38;5;71mform \u001b[0m\u001b[1;38;5;71m \u001b[0m \u001b[1m \u001b[0m\u001b[1mcompany                                        \u001b[0m\u001b[1m \u001b[0m \u001b[1m \u001b[0m\u001b[1mcik    \u001b[0m\u001b[1m \u001b[0m \u001b[1;38;5;39m \u001b[0m\u001b[1;38;5;39mfiling_date\u001b[0m\u001b[1;38;5;39m \u001b[0m \u001b[1m \u001b[0m\u001b[1maccession_number    \u001b[0m\u001b[1m \u001b[0m  │\n",
       "│  ─────────────────────────────────────────────────────────────────────────────────────────────────────────────  │\n",
       "│  \u001b[1m \u001b[0m\u001b[1m0 \u001b[0m\u001b[1m \u001b[0m \u001b[1;38;5;71m \u001b[0m\u001b[1;38;5;71mS-3  \u001b[0m\u001b[1;38;5;71m \u001b[0m \u001b[1m \u001b[0m\u001b[1mBRC Inc.                                       \u001b[0m\u001b[1m \u001b[0m \u001b[1m \u001b[0m\u001b[1m1891101\u001b[0m\u001b[1m \u001b[0m \u001b[1;38;5;39m \u001b[0m\u001b[1;38;5;39m2023-03-21 \u001b[0m\u001b[1;38;5;39m \u001b[0m \u001b[1m \u001b[0m\u001b[1m0001104659-23-035130\u001b[0m\u001b[1m \u001b[0m  │\n",
       "│   1   \u001b[38;5;71m \u001b[0m\u001b[38;5;71mS-3  \u001b[0m\u001b[38;5;71m \u001b[0m  BuzzFeed, Inc.                                    1828972  \u001b[38;5;39m \u001b[0m\u001b[38;5;39m2023-03-21 \u001b[0m\u001b[38;5;39m \u001b[0m  0001628280-23-008770   │\n",
       "│  \u001b[1m \u001b[0m\u001b[1m2 \u001b[0m\u001b[1m \u001b[0m \u001b[1;38;5;71m \u001b[0m\u001b[1;38;5;71mS-3  \u001b[0m\u001b[1;38;5;71m \u001b[0m \u001b[1m \u001b[0m\u001b[1mCalAmp Corp.                                   \u001b[0m\u001b[1m \u001b[0m \u001b[1m \u001b[0m\u001b[1m730255 \u001b[0m\u001b[1m \u001b[0m \u001b[1;38;5;39m \u001b[0m\u001b[1;38;5;39m2023-03-21 \u001b[0m\u001b[1;38;5;39m \u001b[0m \u001b[1m \u001b[0m\u001b[1m0001193125-23-075783\u001b[0m\u001b[1m \u001b[0m  │\n",
       "│   3   \u001b[38;5;71m \u001b[0m\u001b[38;5;71mS-3  \u001b[0m\u001b[38;5;71m \u001b[0m  First Wave BioPharma, Inc.                        1604191  \u001b[38;5;39m \u001b[0m\u001b[38;5;39m2023-03-21 \u001b[0m\u001b[38;5;39m \u001b[0m  0001104659-23-035100   │\n",
       "│  \u001b[1m \u001b[0m\u001b[1m4 \u001b[0m\u001b[1m \u001b[0m \u001b[1;38;5;71m \u001b[0m\u001b[1;38;5;71mS-3  \u001b[0m\u001b[1;38;5;71m \u001b[0m \u001b[1m \u001b[0m\u001b[1mVigil Neuroscience, Inc.                       \u001b[0m\u001b[1m \u001b[0m \u001b[1m \u001b[0m\u001b[1m1827087\u001b[0m\u001b[1m \u001b[0m \u001b[1;38;5;39m \u001b[0m\u001b[1;38;5;39m2023-03-21 \u001b[0m\u001b[1;38;5;39m \u001b[0m \u001b[1m \u001b[0m\u001b[1m0001193125-23-075262\u001b[0m\u001b[1m \u001b[0m  │\n",
       "│   5   \u001b[38;5;71m \u001b[0m\u001b[38;5;71m424B4\u001b[0m\u001b[38;5;71m \u001b[0m  Dermata Therapeutics, Inc.                        1853816  \u001b[38;5;39m \u001b[0m\u001b[38;5;39m2023-03-20 \u001b[0m\u001b[38;5;39m \u001b[0m  0001654954-23-003148   │\n",
       "│  \u001b[1m \u001b[0m\u001b[1m6 \u001b[0m\u001b[1m \u001b[0m \u001b[1;38;5;71m \u001b[0m\u001b[1;38;5;71mS-3  \u001b[0m\u001b[1;38;5;71m \u001b[0m \u001b[1m \u001b[0m\u001b[1mUnited States 12 Month Oil Fund, LP            \u001b[0m\u001b[1m \u001b[0m \u001b[1m \u001b[0m\u001b[1m1405528\u001b[0m\u001b[1m \u001b[0m \u001b[1;38;5;39m \u001b[0m\u001b[1;38;5;39m2023-03-20 \u001b[0m\u001b[1;38;5;39m \u001b[0m \u001b[1m \u001b[0m\u001b[1m0001171200-23-000116\u001b[0m\u001b[1m \u001b[0m  │\n",
       "│   7   \u001b[38;5;71m \u001b[0m\u001b[38;5;71m424B4\u001b[0m\u001b[38;5;71m \u001b[0m  AdTheorent Holding Company, Inc.                  1838672  \u001b[38;5;39m \u001b[0m\u001b[38;5;39m2023-03-17 \u001b[0m\u001b[38;5;39m \u001b[0m  0001193125-23-072870   │\n",
       "│  \u001b[1m \u001b[0m\u001b[1m8 \u001b[0m\u001b[1m \u001b[0m \u001b[1;38;5;71m \u001b[0m\u001b[1;38;5;71m424B4\u001b[0m\u001b[1;38;5;71m \u001b[0m \u001b[1m \u001b[0m\u001b[1mIntchains Group Ltd                            \u001b[0m\u001b[1m \u001b[0m \u001b[1m \u001b[0m\u001b[1m1895597\u001b[0m\u001b[1m \u001b[0m \u001b[1;38;5;39m \u001b[0m\u001b[1;38;5;39m2023-03-17 \u001b[0m\u001b[1;38;5;39m \u001b[0m \u001b[1m \u001b[0m\u001b[1m0001193125-23-072887\u001b[0m\u001b[1m \u001b[0m  │\n",
       "│   9   \u001b[38;5;71m \u001b[0m\u001b[38;5;71mS-3  \u001b[0m\u001b[38;5;71m \u001b[0m  CENTURY ALUMINUM CO                               949157   \u001b[38;5;39m \u001b[0m\u001b[38;5;39m2023-03-17 \u001b[0m\u001b[38;5;39m \u001b[0m  0001104659-23-034009   │\n",
       "│  \u001b[1m \u001b[0m\u001b[1m10\u001b[0m\u001b[1m \u001b[0m \u001b[1;38;5;71m \u001b[0m\u001b[1;38;5;71mS-3  \u001b[0m\u001b[1;38;5;71m \u001b[0m \u001b[1m \u001b[0m\u001b[1mCENTURY KENTUCKY INC                           \u001b[0m\u001b[1m \u001b[0m \u001b[1m \u001b[0m\u001b[1m1158209\u001b[0m\u001b[1m \u001b[0m \u001b[1;38;5;39m \u001b[0m\u001b[1;38;5;39m2023-03-17 \u001b[0m\u001b[1;38;5;39m \u001b[0m \u001b[1m \u001b[0m\u001b[1m0001104659-23-034009\u001b[0m\u001b[1m \u001b[0m  │\n",
       "│   11  \u001b[38;5;71m \u001b[0m\u001b[38;5;71mS-3  \u001b[0m\u001b[38;5;71m \u001b[0m  Century Aluminum Holdings, LLC                    1310865  \u001b[38;5;39m \u001b[0m\u001b[38;5;39m2023-03-17 \u001b[0m\u001b[38;5;39m \u001b[0m  0001104659-23-034009   │\n",
       "│  \u001b[1m \u001b[0m\u001b[1m12\u001b[0m\u001b[1m \u001b[0m \u001b[1;38;5;71m \u001b[0m\u001b[1;38;5;71mS-3  \u001b[0m\u001b[1;38;5;71m \u001b[0m \u001b[1m \u001b[0m\u001b[1mCentury Aluminum Sebree LLC                    \u001b[0m\u001b[1m \u001b[0m \u001b[1m \u001b[0m\u001b[1m1619922\u001b[0m\u001b[1m \u001b[0m \u001b[1;38;5;39m \u001b[0m\u001b[1;38;5;39m2023-03-17 \u001b[0m\u001b[1;38;5;39m \u001b[0m \u001b[1m \u001b[0m\u001b[1m0001104659-23-034009\u001b[0m\u001b[1m \u001b[0m  │\n",
       "│   13  \u001b[38;5;71m \u001b[0m\u001b[38;5;71mS-3  \u001b[0m\u001b[38;5;71m \u001b[0m  Century Aluminum of Kentucky General              1477847  \u001b[38;5;39m \u001b[0m\u001b[38;5;39m2023-03-17 \u001b[0m\u001b[38;5;39m \u001b[0m  0001104659-23-034009   │\n",
       "│       \u001b[38;5;71m       \u001b[0m  Partnership                                                \u001b[38;5;39m             \u001b[0m                         │\n",
       "│  \u001b[1m \u001b[0m\u001b[1m14\u001b[0m\u001b[1m \u001b[0m \u001b[1;38;5;71m \u001b[0m\u001b[1;38;5;71mS-3  \u001b[0m\u001b[1;38;5;71m \u001b[0m \u001b[1m \u001b[0m\u001b[1mCentury Aluminum of Kentucky LLC               \u001b[0m\u001b[1m \u001b[0m \u001b[1m \u001b[0m\u001b[1m1477846\u001b[0m\u001b[1m \u001b[0m \u001b[1;38;5;39m \u001b[0m\u001b[1;38;5;39m2023-03-17 \u001b[0m\u001b[1;38;5;39m \u001b[0m \u001b[1m \u001b[0m\u001b[1m0001104659-23-034009\u001b[0m\u001b[1m \u001b[0m  │\n",
       "│   15  \u001b[38;5;71m \u001b[0m\u001b[38;5;71mS-3  \u001b[0m\u001b[38;5;71m \u001b[0m  Century Aluminum of South Carolina, Inc.          1666633  \u001b[38;5;39m \u001b[0m\u001b[38;5;39m2023-03-17 \u001b[0m\u001b[38;5;39m \u001b[0m  0001104659-23-034009   │\n",
       "│  \u001b[1m \u001b[0m\u001b[1m16\u001b[0m\u001b[1m \u001b[0m \u001b[1;38;5;71m \u001b[0m\u001b[1;38;5;71mS-3  \u001b[0m\u001b[1;38;5;71m \u001b[0m \u001b[1m \u001b[0m\u001b[1mCentury Anodes US, Inc.                        \u001b[0m\u001b[1m \u001b[0m \u001b[1m \u001b[0m\u001b[1m1619923\u001b[0m\u001b[1m \u001b[0m \u001b[1;38;5;39m \u001b[0m\u001b[1;38;5;39m2023-03-17 \u001b[0m\u001b[1;38;5;39m \u001b[0m \u001b[1m \u001b[0m\u001b[1m0001104659-23-034009\u001b[0m\u001b[1m \u001b[0m  │\n",
       "│   17  \u001b[38;5;71m \u001b[0m\u001b[38;5;71mS-3  \u001b[0m\u001b[38;5;71m \u001b[0m  Century California, LLC                           1477849  \u001b[38;5;39m \u001b[0m\u001b[38;5;39m2023-03-17 \u001b[0m\u001b[38;5;39m \u001b[0m  0001104659-23-034009   │\n",
       "│  \u001b[1m \u001b[0m\u001b[1m18\u001b[0m\u001b[1m \u001b[0m \u001b[1;38;5;71m \u001b[0m\u001b[1;38;5;71mS-3  \u001b[0m\u001b[1;38;5;71m \u001b[0m \u001b[1m \u001b[0m\u001b[1mCentury Louisiana, Inc.                        \u001b[0m\u001b[1m \u001b[0m \u001b[1m \u001b[0m\u001b[1m1310864\u001b[0m\u001b[1m \u001b[0m \u001b[1;38;5;39m \u001b[0m\u001b[1;38;5;39m2023-03-17 \u001b[0m\u001b[1;38;5;39m \u001b[0m \u001b[1m \u001b[0m\u001b[1m0001104659-23-034009\u001b[0m\u001b[1m \u001b[0m  │\n",
       "│   19  \u001b[38;5;71m \u001b[0m\u001b[38;5;71mS-3  \u001b[0m\u001b[38;5;71m \u001b[0m  Century Marketer LLC                              1619875  \u001b[38;5;39m \u001b[0m\u001b[38;5;39m2023-03-17 \u001b[0m\u001b[38;5;39m \u001b[0m  0001104659-23-034009   │\n",
       "│  \u001b[1m \u001b[0m\u001b[1m20\u001b[0m\u001b[1m \u001b[0m \u001b[1;38;5;71m \u001b[0m\u001b[1;38;5;71mS-3  \u001b[0m\u001b[1;38;5;71m \u001b[0m \u001b[1m \u001b[0m\u001b[1mDistribution Solutions Group, Inc.             \u001b[0m\u001b[1m \u001b[0m \u001b[1m \u001b[0m\u001b[1m703604 \u001b[0m\u001b[1m \u001b[0m \u001b[1;38;5;39m \u001b[0m\u001b[1;38;5;39m2023-03-17 \u001b[0m\u001b[1;38;5;39m \u001b[0m \u001b[1m \u001b[0m\u001b[1m0001193125-23-074076\u001b[0m\u001b[1m \u001b[0m  │\n",
       "│   21  \u001b[38;5;71m \u001b[0m\u001b[38;5;71mS-3  \u001b[0m\u001b[38;5;71m \u001b[0m  Hancock Aluminum LLC                              1310863  \u001b[38;5;39m \u001b[0m\u001b[38;5;39m2023-03-17 \u001b[0m\u001b[38;5;39m \u001b[0m  0001104659-23-034009   │\n",
       "│  \u001b[1m \u001b[0m\u001b[1m22\u001b[0m\u001b[1m \u001b[0m \u001b[1;38;5;71m \u001b[0m\u001b[1;38;5;71mS-3  \u001b[0m\u001b[1;38;5;71m \u001b[0m \u001b[1m \u001b[0m\u001b[1mHillstream BioPharma Inc.                      \u001b[0m\u001b[1m \u001b[0m \u001b[1m \u001b[0m\u001b[1m1861657\u001b[0m\u001b[1m \u001b[0m \u001b[1;38;5;39m \u001b[0m\u001b[1;38;5;39m2023-03-17 \u001b[0m\u001b[1;38;5;39m \u001b[0m \u001b[1m \u001b[0m\u001b[1m0001493152-23-008143\u001b[0m\u001b[1m \u001b[0m  │\n",
       "│   23  \u001b[38;5;71m \u001b[0m\u001b[38;5;71mS-3  \u001b[0m\u001b[38;5;71m \u001b[0m  Invitae Corp                                      1501134  \u001b[38;5;39m \u001b[0m\u001b[38;5;39m2023-03-17 \u001b[0m\u001b[38;5;39m \u001b[0m  0001193125-23-073954   │\n",
       "│  \u001b[1m \u001b[0m\u001b[1m24\u001b[0m\u001b[1m \u001b[0m \u001b[1;38;5;71m \u001b[0m\u001b[1;38;5;71mS-3  \u001b[0m\u001b[1;38;5;71m \u001b[0m \u001b[1m \u001b[0m\u001b[1mMETALSCO LLC                                   \u001b[0m\u001b[1m \u001b[0m \u001b[1m \u001b[0m\u001b[1m1158208\u001b[0m\u001b[1m \u001b[0m \u001b[1;38;5;39m \u001b[0m\u001b[1;38;5;39m2023-03-17 \u001b[0m\u001b[1;38;5;39m \u001b[0m \u001b[1m \u001b[0m\u001b[1m0001104659-23-034009\u001b[0m\u001b[1m \u001b[0m  │\n",
       "│   25  \u001b[38;5;71m \u001b[0m\u001b[38;5;71mS-3  \u001b[0m\u001b[38;5;71m \u001b[0m  Mt. Holly Commerce Park, LLC                      1667646  \u001b[38;5;39m \u001b[0m\u001b[38;5;39m2023-03-17 \u001b[0m\u001b[38;5;39m \u001b[0m  0001104659-23-034009   │\n",
       "│  \u001b[1m \u001b[0m\u001b[1m26\u001b[0m\u001b[1m \u001b[0m \u001b[1;38;5;71m \u001b[0m\u001b[1;38;5;71mS-3  \u001b[0m\u001b[1;38;5;71m \u001b[0m \u001b[1m \u001b[0m\u001b[1mNSA General Partnership                        \u001b[0m\u001b[1m \u001b[0m \u001b[1m \u001b[0m\u001b[1m1477848\u001b[0m\u001b[1m \u001b[0m \u001b[1;38;5;39m \u001b[0m\u001b[1;38;5;39m2023-03-17 \u001b[0m\u001b[1;38;5;39m \u001b[0m \u001b[1m \u001b[0m\u001b[1m0001104659-23-034009\u001b[0m\u001b[1m \u001b[0m  │\n",
       "│   27  \u001b[38;5;71m \u001b[0m\u001b[38;5;71mS-3  \u001b[0m\u001b[38;5;71m \u001b[0m  Nkarta, Inc.                                      1787400  \u001b[38;5;39m \u001b[0m\u001b[38;5;39m2023-03-17 \u001b[0m\u001b[38;5;39m \u001b[0m  0001193125-23-074079   │\n",
       "│  \u001b[1m \u001b[0m\u001b[1m28\u001b[0m\u001b[1m \u001b[0m \u001b[1;38;5;71m \u001b[0m\u001b[1;38;5;71mS-3  \u001b[0m\u001b[1;38;5;71m \u001b[0m \u001b[1m \u001b[0m\u001b[1mNuvectis Pharma, Inc.                          \u001b[0m\u001b[1m \u001b[0m \u001b[1m \u001b[0m\u001b[1m1875558\u001b[0m\u001b[1m \u001b[0m \u001b[1;38;5;39m \u001b[0m\u001b[1;38;5;39m2023-03-17 \u001b[0m\u001b[1;38;5;39m \u001b[0m \u001b[1m \u001b[0m\u001b[1m0001104659-23-033910\u001b[0m\u001b[1m \u001b[0m  │\n",
       "│   29  \u001b[38;5;71m \u001b[0m\u001b[38;5;71mS-3  \u001b[0m\u001b[38;5;71m \u001b[0m  SKYLINER LLC                                      1158207  \u001b[38;5;39m \u001b[0m\u001b[38;5;39m2023-03-17 \u001b[0m\u001b[38;5;39m \u001b[0m  0001104659-23-034009   │\n",
       "│  \u001b[1m \u001b[0m\u001b[1m30\u001b[0m\u001b[1m \u001b[0m \u001b[1;38;5;71m \u001b[0m\u001b[1;38;5;71mS-3  \u001b[0m\u001b[1;38;5;71m \u001b[0m \u001b[1m \u001b[0m\u001b[1mSummit Therapeutics Inc.                       \u001b[0m\u001b[1m \u001b[0m \u001b[1m \u001b[0m\u001b[1m1599298\u001b[0m\u001b[1m \u001b[0m \u001b[1;38;5;39m \u001b[0m\u001b[1;38;5;39m2023-03-17 \u001b[0m\u001b[1;38;5;39m \u001b[0m \u001b[1m \u001b[0m\u001b[1m0001387131-23-003656\u001b[0m\u001b[1m \u001b[0m  │\n",
       "│   31  \u001b[38;5;71m \u001b[0m\u001b[38;5;71mS-3  \u001b[0m\u001b[38;5;71m \u001b[0m  Vaxart, Inc.                                      72444    \u001b[38;5;39m \u001b[0m\u001b[38;5;39m2023-03-17 \u001b[0m\u001b[38;5;39m \u001b[0m  0001437749-23-007078   │\n",
       "│  \u001b[1m \u001b[0m\u001b[1m32\u001b[0m\u001b[1m \u001b[0m \u001b[1;38;5;71m \u001b[0m\u001b[1;38;5;71mS-3/A\u001b[0m\u001b[1;38;5;71m \u001b[0m \u001b[1m \u001b[0m\u001b[1mVistagen Therapeutics, Inc.                    \u001b[0m\u001b[1m \u001b[0m \u001b[1m \u001b[0m\u001b[1m1411685\u001b[0m\u001b[1m \u001b[0m \u001b[1;38;5;39m \u001b[0m\u001b[1;38;5;39m2023-03-17 \u001b[0m\u001b[1;38;5;39m \u001b[0m \u001b[1m \u001b[0m\u001b[1m0001437749-23-007069\u001b[0m\u001b[1m \u001b[0m  │\n",
       "│   33  \u001b[38;5;71m \u001b[0m\u001b[38;5;71m424B4\u001b[0m\u001b[38;5;71m \u001b[0m  ICZOOM Group Inc.                                 1854572  \u001b[38;5;39m \u001b[0m\u001b[38;5;39m2023-03-16 \u001b[0m\u001b[38;5;39m \u001b[0m  0001213900-23-020438   │\n",
       "│  \u001b[1m \u001b[0m\u001b[1m34\u001b[0m\u001b[1m \u001b[0m \u001b[1;38;5;71m \u001b[0m\u001b[1;38;5;71mS-3  \u001b[0m\u001b[1;38;5;71m \u001b[0m \u001b[1m \u001b[0m\u001b[1mCOLONY BANKCORP INC                            \u001b[0m\u001b[1m \u001b[0m \u001b[1m \u001b[0m\u001b[1m711669 \u001b[0m\u001b[1m \u001b[0m \u001b[1;38;5;39m \u001b[0m\u001b[1;38;5;39m2023-03-16 \u001b[0m\u001b[1;38;5;39m \u001b[0m \u001b[1m \u001b[0m\u001b[1m0000711669-23-000046\u001b[0m\u001b[1m \u001b[0m  │\n",
       "│   35  \u001b[38;5;71m \u001b[0m\u001b[38;5;71mS-3  \u001b[0m\u001b[38;5;71m \u001b[0m  Cabaletta Bio, Inc.                               1759138  \u001b[38;5;39m \u001b[0m\u001b[38;5;39m2023-03-16 \u001b[0m\u001b[38;5;39m \u001b[0m  0001193125-23-072030   │\n",
       "│  \u001b[1m \u001b[0m\u001b[1m36\u001b[0m\u001b[1m \u001b[0m \u001b[1;38;5;71m \u001b[0m\u001b[1;38;5;71mS-3  \u001b[0m\u001b[1;38;5;71m \u001b[0m \u001b[1m \u001b[0m\u001b[1mCo-Diagnostics, Inc.                           \u001b[0m\u001b[1m \u001b[0m \u001b[1m \u001b[0m\u001b[1m1692415\u001b[0m\u001b[1m \u001b[0m \u001b[1;38;5;39m \u001b[0m\u001b[1;38;5;39m2023-03-16 \u001b[0m\u001b[1;38;5;39m \u001b[0m \u001b[1m \u001b[0m\u001b[1m0001493152-23-007975\u001b[0m\u001b[1m \u001b[0m  │\n",
       "│   37  \u001b[38;5;71m \u001b[0m\u001b[38;5;71mS-3  \u001b[0m\u001b[38;5;71m \u001b[0m  Cue Health Inc.                                   1628945  \u001b[38;5;39m \u001b[0m\u001b[38;5;39m2023-03-16 \u001b[0m\u001b[38;5;39m \u001b[0m  0001193125-23-071905   │\n",
       "│  \u001b[1m \u001b[0m\u001b[1m38\u001b[0m\u001b[1m \u001b[0m \u001b[1;38;5;71m \u001b[0m\u001b[1;38;5;71mS-3  \u001b[0m\u001b[1;38;5;71m \u001b[0m \u001b[1m \u001b[0m\u001b[1mDMC Global Inc.                                \u001b[0m\u001b[1m \u001b[0m \u001b[1m \u001b[0m\u001b[1m34067  \u001b[0m\u001b[1m \u001b[0m \u001b[1;38;5;39m \u001b[0m\u001b[1;38;5;39m2023-03-16 \u001b[0m\u001b[1;38;5;39m \u001b[0m \u001b[1m \u001b[0m\u001b[1m0001104659-23-033362\u001b[0m\u001b[1m \u001b[0m  │\n",
       "│   39  \u001b[38;5;71m \u001b[0m\u001b[38;5;71mS-3  \u001b[0m\u001b[38;5;71m \u001b[0m  Fusion Pharmaceuticals Inc.                       1805890  \u001b[38;5;39m \u001b[0m\u001b[38;5;39m2023-03-16 \u001b[0m\u001b[38;5;39m \u001b[0m  0001193125-23-072555   │\n",
       "│  \u001b[1m \u001b[0m\u001b[1m40\u001b[0m\u001b[1m \u001b[0m \u001b[1;38;5;71m \u001b[0m\u001b[1;38;5;71mS-3  \u001b[0m\u001b[1;38;5;71m \u001b[0m \u001b[1m \u001b[0m\u001b[1mRecruiter.com Group, Inc.                      \u001b[0m\u001b[1m \u001b[0m \u001b[1m \u001b[0m\u001b[1m1462223\u001b[0m\u001b[1m \u001b[0m \u001b[1;38;5;39m \u001b[0m\u001b[1;38;5;39m2023-03-16 \u001b[0m\u001b[1;38;5;39m \u001b[0m \u001b[1m \u001b[0m\u001b[1m0001654954-23-003035\u001b[0m\u001b[1m \u001b[0m  │\n",
       "│   41  \u001b[38;5;71m \u001b[0m\u001b[38;5;71mS-3  \u001b[0m\u001b[38;5;71m \u001b[0m  SPRUCE BIOSCIENCES, INC.                          1683553  \u001b[38;5;39m \u001b[0m\u001b[38;5;39m2023-03-16 \u001b[0m\u001b[38;5;39m \u001b[0m  0001564590-23-003806   │\n",
       "│  \u001b[1m \u001b[0m\u001b[1m42\u001b[0m\u001b[1m \u001b[0m \u001b[1;38;5;71m \u001b[0m\u001b[1;38;5;71mS-3  \u001b[0m\u001b[1;38;5;71m \u001b[0m \u001b[1m \u001b[0m\u001b[1mSight Sciences, Inc.                           \u001b[0m\u001b[1m \u001b[0m \u001b[1m \u001b[0m\u001b[1m1531177\u001b[0m\u001b[1m \u001b[0m \u001b[1;38;5;39m \u001b[0m\u001b[1;38;5;39m2023-03-16 \u001b[0m\u001b[1;38;5;39m \u001b[0m \u001b[1m \u001b[0m\u001b[1m0001193125-23-072779\u001b[0m\u001b[1m \u001b[0m  │\n",
       "│   43  \u001b[38;5;71m \u001b[0m\u001b[38;5;71mS-3  \u001b[0m\u001b[38;5;71m \u001b[0m  Tracon Pharmaceuticals, Inc.                      1394319  \u001b[38;5;39m \u001b[0m\u001b[38;5;39m2023-03-16 \u001b[0m\u001b[38;5;39m \u001b[0m  0001564590-23-003685   │\n",
       "│  \u001b[1m \u001b[0m\u001b[1m44\u001b[0m\u001b[1m \u001b[0m \u001b[1;38;5;71m \u001b[0m\u001b[1;38;5;71mS-3  \u001b[0m\u001b[1;38;5;71m \u001b[0m \u001b[1m \u001b[0m\u001b[1mVERU INC.                                      \u001b[0m\u001b[1m \u001b[0m \u001b[1m \u001b[0m\u001b[1m863894 \u001b[0m\u001b[1m \u001b[0m \u001b[1;38;5;39m \u001b[0m\u001b[1;38;5;39m2023-03-16 \u001b[0m\u001b[1;38;5;39m \u001b[0m \u001b[1m \u001b[0m\u001b[1m0001193125-23-072589\u001b[0m\u001b[1m \u001b[0m  │\n",
       "│   45  \u001b[38;5;71m \u001b[0m\u001b[38;5;71mS-3/A\u001b[0m\u001b[38;5;71m \u001b[0m  HomeTrust Bancshares, Inc.                        1538263  \u001b[38;5;39m \u001b[0m\u001b[38;5;39m2023-03-16 \u001b[0m\u001b[38;5;39m \u001b[0m  0001104659-23-033138   │\n",
       "│  \u001b[1m \u001b[0m\u001b[1m46\u001b[0m\u001b[1m \u001b[0m \u001b[1;38;5;71m \u001b[0m\u001b[1;38;5;71mS-3  \u001b[0m\u001b[1;38;5;71m \u001b[0m \u001b[1m \u001b[0m\u001b[1mCano Health, Inc.                              \u001b[0m\u001b[1m \u001b[0m \u001b[1m \u001b[0m\u001b[1m1800682\u001b[0m\u001b[1m \u001b[0m \u001b[1;38;5;39m \u001b[0m\u001b[1;38;5;39m2023-03-15 \u001b[0m\u001b[1;38;5;39m \u001b[0m \u001b[1m \u001b[0m\u001b[1m0001193125-23-071457\u001b[0m\u001b[1m \u001b[0m  │\n",
       "│   47  \u001b[38;5;71m \u001b[0m\u001b[38;5;71mS-3  \u001b[0m\u001b[38;5;71m \u001b[0m  Cano Health, Inc.                                 1800682  \u001b[38;5;39m \u001b[0m\u001b[38;5;39m2023-03-15 \u001b[0m\u001b[38;5;39m \u001b[0m  0001193125-23-071461   │\n",
       "│  \u001b[1m \u001b[0m\u001b[1m48\u001b[0m\u001b[1m \u001b[0m \u001b[1;38;5;71m \u001b[0m\u001b[1;38;5;71mS-3  \u001b[0m\u001b[1;38;5;71m \u001b[0m \u001b[1m \u001b[0m\u001b[1mNIOCORP DEVELOPMENTS LTD                       \u001b[0m\u001b[1m \u001b[0m \u001b[1m \u001b[0m\u001b[1m1512228\u001b[0m\u001b[1m \u001b[0m \u001b[1;38;5;39m \u001b[0m\u001b[1;38;5;39m2023-03-15 \u001b[0m\u001b[1;38;5;39m \u001b[0m \u001b[1m \u001b[0m\u001b[1m0001539497-23-000432\u001b[0m\u001b[1m \u001b[0m  │\n",
       "│   49  \u001b[38;5;71m \u001b[0m\u001b[38;5;71mS-3  \u001b[0m\u001b[38;5;71m \u001b[0m  NIOCORP DEVELOPMENTS LTD                          1512228  \u001b[38;5;39m \u001b[0m\u001b[38;5;39m2023-03-15 \u001b[0m\u001b[38;5;39m \u001b[0m  0001539497-23-000434   │\n",
       "│                                                                                                                 │\n",
       "│ Showing 50 of 321 filings                                                                                       │\n",
       "╰─────────────────────────────────────────────────────────────────────────────────────────────────────────────────╯"
      ]
     },
     "execution_count": 12,
     "metadata": {},
     "output_type": "execute_result"
    }
   ],
   "source": [
    "filings = get_filings(form=[\"S-3\", \"424B4\"])\n",
    "filings"
   ]
  },
  {
   "cell_type": "markdown",
   "id": "7714bf89",
   "metadata": {},
   "source": [
    "## Get the filings as a pandas dataframe\n",
    "You can get the filings data as a pandas dataframe using `to_pandas()`"
   ]
  },
  {
   "cell_type": "code",
   "execution_count": 13,
   "id": "660bdc30",
   "metadata": {},
   "outputs": [
    {
     "data": {
      "text/html": [
       "<div>\n",
       "<style scoped>\n",
       "    .dataframe tbody tr th:only-of-type {\n",
       "        vertical-align: middle;\n",
       "    }\n",
       "\n",
       "    .dataframe tbody tr th {\n",
       "        vertical-align: top;\n",
       "    }\n",
       "\n",
       "    .dataframe thead th {\n",
       "        text-align: right;\n",
       "    }\n",
       "</style>\n",
       "<table border=\"1\" class=\"dataframe\">\n",
       "  <thead>\n",
       "    <tr style=\"text-align: right;\">\n",
       "      <th></th>\n",
       "      <th>form</th>\n",
       "      <th>company</th>\n",
       "      <th>cik</th>\n",
       "      <th>filing_date</th>\n",
       "      <th>accession_number</th>\n",
       "    </tr>\n",
       "  </thead>\n",
       "  <tbody>\n",
       "    <tr>\n",
       "      <th>0</th>\n",
       "      <td>S-3</td>\n",
       "      <td>BRC Inc.</td>\n",
       "      <td>1891101</td>\n",
       "      <td>2023-03-21</td>\n",
       "      <td>0001104659-23-035130</td>\n",
       "    </tr>\n",
       "    <tr>\n",
       "      <th>1</th>\n",
       "      <td>S-3</td>\n",
       "      <td>BuzzFeed, Inc.</td>\n",
       "      <td>1828972</td>\n",
       "      <td>2023-03-21</td>\n",
       "      <td>0001628280-23-008770</td>\n",
       "    </tr>\n",
       "    <tr>\n",
       "      <th>2</th>\n",
       "      <td>S-3</td>\n",
       "      <td>CalAmp Corp.</td>\n",
       "      <td>730255</td>\n",
       "      <td>2023-03-21</td>\n",
       "      <td>0001193125-23-075783</td>\n",
       "    </tr>\n",
       "    <tr>\n",
       "      <th>3</th>\n",
       "      <td>S-3</td>\n",
       "      <td>First Wave BioPharma, Inc.</td>\n",
       "      <td>1604191</td>\n",
       "      <td>2023-03-21</td>\n",
       "      <td>0001104659-23-035100</td>\n",
       "    </tr>\n",
       "    <tr>\n",
       "      <th>4</th>\n",
       "      <td>S-3</td>\n",
       "      <td>Vigil Neuroscience, Inc.</td>\n",
       "      <td>1827087</td>\n",
       "      <td>2023-03-21</td>\n",
       "      <td>0001193125-23-075262</td>\n",
       "    </tr>\n",
       "    <tr>\n",
       "      <th>...</th>\n",
       "      <td>...</td>\n",
       "      <td>...</td>\n",
       "      <td>...</td>\n",
       "      <td>...</td>\n",
       "      <td>...</td>\n",
       "    </tr>\n",
       "    <tr>\n",
       "      <th>316</th>\n",
       "      <td>S-3</td>\n",
       "      <td>CVENT HOLDING CORP.</td>\n",
       "      <td>1827075</td>\n",
       "      <td>2023-01-03</td>\n",
       "      <td>0001193125-23-000802</td>\n",
       "    </tr>\n",
       "    <tr>\n",
       "      <th>317</th>\n",
       "      <td>S-3</td>\n",
       "      <td>Cingulate Inc.</td>\n",
       "      <td>1862150</td>\n",
       "      <td>2023-01-03</td>\n",
       "      <td>0001493152-23-000143</td>\n",
       "    </tr>\n",
       "    <tr>\n",
       "      <th>318</th>\n",
       "      <td>S-3</td>\n",
       "      <td>Immix Biopharma, Inc.</td>\n",
       "      <td>1873835</td>\n",
       "      <td>2023-01-03</td>\n",
       "      <td>0001493152-23-000127</td>\n",
       "    </tr>\n",
       "    <tr>\n",
       "      <th>319</th>\n",
       "      <td>S-3</td>\n",
       "      <td>Pear Therapeutics, Inc.</td>\n",
       "      <td>1835567</td>\n",
       "      <td>2023-01-03</td>\n",
       "      <td>0001628280-23-000004</td>\n",
       "    </tr>\n",
       "    <tr>\n",
       "      <th>320</th>\n",
       "      <td>S-3/A</td>\n",
       "      <td>ACHIEVE LIFE SCIENCES, INC.</td>\n",
       "      <td>949858</td>\n",
       "      <td>2023-01-03</td>\n",
       "      <td>0001193125-23-000179</td>\n",
       "    </tr>\n",
       "  </tbody>\n",
       "</table>\n",
       "<p>321 rows × 5 columns</p>\n",
       "</div>"
      ],
      "text/plain": [
       "      form                      company      cik filing_date  \\\n",
       "0      S-3                     BRC Inc.  1891101  2023-03-21   \n",
       "1      S-3               BuzzFeed, Inc.  1828972  2023-03-21   \n",
       "2      S-3                 CalAmp Corp.   730255  2023-03-21   \n",
       "3      S-3   First Wave BioPharma, Inc.  1604191  2023-03-21   \n",
       "4      S-3     Vigil Neuroscience, Inc.  1827087  2023-03-21   \n",
       "..     ...                          ...      ...         ...   \n",
       "316    S-3          CVENT HOLDING CORP.  1827075  2023-01-03   \n",
       "317    S-3               Cingulate Inc.  1862150  2023-01-03   \n",
       "318    S-3        Immix Biopharma, Inc.  1873835  2023-01-03   \n",
       "319    S-3      Pear Therapeutics, Inc.  1835567  2023-01-03   \n",
       "320  S-3/A  ACHIEVE LIFE SCIENCES, INC.   949858  2023-01-03   \n",
       "\n",
       "         accession_number  \n",
       "0    0001104659-23-035130  \n",
       "1    0001628280-23-008770  \n",
       "2    0001193125-23-075783  \n",
       "3    0001104659-23-035100  \n",
       "4    0001193125-23-075262  \n",
       "..                    ...  \n",
       "316  0001193125-23-000802  \n",
       "317  0001493152-23-000143  \n",
       "318  0001493152-23-000127  \n",
       "319  0001628280-23-000004  \n",
       "320  0001193125-23-000179  \n",
       "\n",
       "[321 rows x 5 columns]"
      ]
     },
     "execution_count": 13,
     "metadata": {},
     "output_type": "execute_result"
    }
   ],
   "source": [
    "filings.to_pandas()"
   ]
  },
  {
   "cell_type": "markdown",
   "id": "8e504f4d",
   "metadata": {},
   "source": [
    "### Select the columns included in to_pandas\n",
    "You can select the columns of the resulting pandas dataframe by passing it into `to_pandas`"
   ]
  },
  {
   "cell_type": "code",
   "execution_count": 14,
   "id": "8e9478a3",
   "metadata": {},
   "outputs": [
    {
     "data": {
      "text/html": [
       "<div>\n",
       "<style scoped>\n",
       "    .dataframe tbody tr th:only-of-type {\n",
       "        vertical-align: middle;\n",
       "    }\n",
       "\n",
       "    .dataframe tbody tr th {\n",
       "        vertical-align: top;\n",
       "    }\n",
       "\n",
       "    .dataframe thead th {\n",
       "        text-align: right;\n",
       "    }\n",
       "</style>\n",
       "<table border=\"1\" class=\"dataframe\">\n",
       "  <thead>\n",
       "    <tr style=\"text-align: right;\">\n",
       "      <th></th>\n",
       "      <th>form</th>\n",
       "      <th>company</th>\n",
       "    </tr>\n",
       "  </thead>\n",
       "  <tbody>\n",
       "    <tr>\n",
       "      <th>0</th>\n",
       "      <td>S-3</td>\n",
       "      <td>BRC Inc.</td>\n",
       "    </tr>\n",
       "    <tr>\n",
       "      <th>1</th>\n",
       "      <td>S-3</td>\n",
       "      <td>BuzzFeed, Inc.</td>\n",
       "    </tr>\n",
       "    <tr>\n",
       "      <th>2</th>\n",
       "      <td>S-3</td>\n",
       "      <td>CalAmp Corp.</td>\n",
       "    </tr>\n",
       "    <tr>\n",
       "      <th>3</th>\n",
       "      <td>S-3</td>\n",
       "      <td>First Wave BioPharma, Inc.</td>\n",
       "    </tr>\n",
       "    <tr>\n",
       "      <th>4</th>\n",
       "      <td>S-3</td>\n",
       "      <td>Vigil Neuroscience, Inc.</td>\n",
       "    </tr>\n",
       "    <tr>\n",
       "      <th>...</th>\n",
       "      <td>...</td>\n",
       "      <td>...</td>\n",
       "    </tr>\n",
       "    <tr>\n",
       "      <th>316</th>\n",
       "      <td>S-3</td>\n",
       "      <td>CVENT HOLDING CORP.</td>\n",
       "    </tr>\n",
       "    <tr>\n",
       "      <th>317</th>\n",
       "      <td>S-3</td>\n",
       "      <td>Cingulate Inc.</td>\n",
       "    </tr>\n",
       "    <tr>\n",
       "      <th>318</th>\n",
       "      <td>S-3</td>\n",
       "      <td>Immix Biopharma, Inc.</td>\n",
       "    </tr>\n",
       "    <tr>\n",
       "      <th>319</th>\n",
       "      <td>S-3</td>\n",
       "      <td>Pear Therapeutics, Inc.</td>\n",
       "    </tr>\n",
       "    <tr>\n",
       "      <th>320</th>\n",
       "      <td>S-3/A</td>\n",
       "      <td>ACHIEVE LIFE SCIENCES, INC.</td>\n",
       "    </tr>\n",
       "  </tbody>\n",
       "</table>\n",
       "<p>321 rows × 2 columns</p>\n",
       "</div>"
      ],
      "text/plain": [
       "      form                      company\n",
       "0      S-3                     BRC Inc.\n",
       "1      S-3               BuzzFeed, Inc.\n",
       "2      S-3                 CalAmp Corp.\n",
       "3      S-3   First Wave BioPharma, Inc.\n",
       "4      S-3     Vigil Neuroscience, Inc.\n",
       "..     ...                          ...\n",
       "316    S-3          CVENT HOLDING CORP.\n",
       "317    S-3               Cingulate Inc.\n",
       "318    S-3        Immix Biopharma, Inc.\n",
       "319    S-3      Pear Therapeutics, Inc.\n",
       "320  S-3/A  ACHIEVE LIFE SCIENCES, INC.\n",
       "\n",
       "[321 rows x 2 columns]"
      ]
     },
     "execution_count": 14,
     "metadata": {},
     "output_type": "execute_result"
    }
   ],
   "source": [
    "filings.to_pandas('form', 'company')"
   ]
  },
  {
   "cell_type": "markdown",
   "id": "632a69ef",
   "metadata": {},
   "source": [
    "## Get the underlying filings data as a pyarrow Table\n",
    "\n",
    "The filings data is kept as a `pyarrow.Table` which you can access using `.data`"
   ]
  },
  {
   "cell_type": "code",
   "execution_count": 15,
   "id": "3440ea85",
   "metadata": {},
   "outputs": [
    {
     "data": {
      "text/plain": [
       "pyarrow.Table\n",
       "form: string\n",
       "company: string\n",
       "cik: int32\n",
       "filing_date: date32[day]\n",
       "accession_number: string\n",
       "----\n",
       "form: [[\"S-3\",\"S-3\",\"S-3\",\"S-3\",\"S-3\",...,\"S-3\",\"S-3\",\"S-3\",\"S-3\",\"S-3/A\"]]\n",
       "company: [[\"BRC Inc.\",\"BuzzFeed, Inc.\",\"CalAmp Corp.\",\"First Wave BioPharma, Inc.\",\"Vigil Neuroscience, Inc.\",...,\"CVENT HOLDING CORP.\",\"Cingulate Inc.\",\"Immix Biopharma, Inc.\",\"Pear Therapeutics, Inc.\",\"ACHIEVE LIFE SCIENCES, INC.\"]]\n",
       "cik: [[1891101,1828972,730255,1604191,1827087,...,1827075,1862150,1873835,1835567,949858]]\n",
       "filing_date: [[2023-03-21,2023-03-21,2023-03-21,2023-03-21,2023-03-21,...,2023-01-03,2023-01-03,2023-01-03,2023-01-03,2023-01-03]]\n",
       "accession_number: [[\"0001104659-23-035130\",\"0001628280-23-008770\",\"0001193125-23-075783\",\"0001104659-23-035100\",\"0001193125-23-075262\",...,\"0001193125-23-000802\",\"0001493152-23-000143\",\"0001493152-23-000127\",\"0001628280-23-000004\",\"0001193125-23-000179\"]]"
      ]
     },
     "execution_count": 15,
     "metadata": {},
     "output_type": "execute_result"
    }
   ],
   "source": [
    "filings.data"
   ]
  },
  {
   "cell_type": "markdown",
   "id": "e7319254",
   "metadata": {},
   "source": [
    "# Get Filing\n",
    "<hr/>"
   ]
  },
  {
   "cell_type": "code",
   "execution_count": 16,
   "id": "5e552182",
   "metadata": {},
   "outputs": [
    {
     "data": {
      "text/html": [
       "<pre style=\"white-space:pre;overflow-x:auto;line-height:normal;font-family:Menlo,'DejaVu Sans Mono',consolas,'Courier New',monospace\"></pre>\n"
      ],
      "text/plain": []
     },
     "metadata": {},
     "output_type": "display_data"
    },
    {
     "data": {
      "text/plain": [
       "\u001b[1mS-3 filing\u001b[0m\n",
       "                                                                              \n",
       " \u001b[1m \u001b[0m\u001b[1maccession_no        \u001b[0m\u001b[1m \u001b[0m \u001b[1;38;5;71m \u001b[0m\u001b[1;38;5;71mform\u001b[0m\u001b[1;38;5;71m \u001b[0m \u001b[1m \u001b[0m\u001b[1mcompany             \u001b[0m\u001b[1m \u001b[0m \u001b[1m \u001b[0m\u001b[1mcik    \u001b[0m\u001b[1m \u001b[0m \u001b[1;38;5;39m \u001b[0m\u001b[1;38;5;39mfiling_date\u001b[0m\u001b[1;38;5;39m \u001b[0m \n",
       " ──────────────────────────────────────────────────────────────────────────── \n",
       " \u001b[1m \u001b[0m\u001b[1m0001104659-23-034009\u001b[0m\u001b[1m \u001b[0m \u001b[1;38;5;71m \u001b[0m\u001b[1;38;5;71mS-3 \u001b[0m\u001b[1;38;5;71m \u001b[0m \u001b[1m \u001b[0m\u001b[1mCENTURY KENTUCKY INC\u001b[0m\u001b[1m \u001b[0m \u001b[1m \u001b[0m\u001b[1m1158209\u001b[0m\u001b[1m \u001b[0m \u001b[1;38;5;39m \u001b[0m\u001b[1;38;5;39m2023-03-17 \u001b[0m\u001b[1;38;5;39m \u001b[0m \n",
       "                                                                              "
      ]
     },
     "execution_count": 16,
     "metadata": {},
     "output_type": "execute_result"
    }
   ],
   "source": [
    "filing = filings[10]\n",
    "filing"
   ]
  },
  {
   "cell_type": "markdown",
   "id": "e6622f10",
   "metadata": {},
   "source": [
    "## Get filing homepage"
   ]
  },
  {
   "cell_type": "code",
   "execution_count": 17,
   "id": "da82d706",
   "metadata": {},
   "outputs": [
    {
     "data": {
      "text/html": [
       "<pre style=\"white-space:pre;overflow-x:auto;line-height:normal;font-family:Menlo,'DejaVu Sans Mono',consolas,'Courier New',monospace\"></pre>\n"
      ],
      "text/plain": []
     },
     "metadata": {},
     "output_type": "display_data"
    },
    {
     "data": {
      "text/plain": [
       "\u001b[1mS-3 filing\u001b[0m\n",
       "                                                                              \n",
       " \u001b[1m \u001b[0m\u001b[1maccession_no        \u001b[0m\u001b[1m \u001b[0m \u001b[1;38;5;71m \u001b[0m\u001b[1;38;5;71mform\u001b[0m\u001b[1;38;5;71m \u001b[0m \u001b[1m \u001b[0m\u001b[1mcompany             \u001b[0m\u001b[1m \u001b[0m \u001b[1m \u001b[0m\u001b[1mcik    \u001b[0m\u001b[1m \u001b[0m \u001b[1;38;5;39m \u001b[0m\u001b[1;38;5;39mfiling_date\u001b[0m\u001b[1;38;5;39m \u001b[0m \n",
       " ──────────────────────────────────────────────────────────────────────────── \n",
       " \u001b[1m \u001b[0m\u001b[1m0001104659-23-034009\u001b[0m\u001b[1m \u001b[0m \u001b[1;38;5;71m \u001b[0m\u001b[1;38;5;71mS-3 \u001b[0m\u001b[1;38;5;71m \u001b[0m \u001b[1m \u001b[0m\u001b[1mCENTURY KENTUCKY INC\u001b[0m\u001b[1m \u001b[0m \u001b[1m \u001b[0m\u001b[1m1158209\u001b[0m\u001b[1m \u001b[0m \u001b[1;38;5;39m \u001b[0m\u001b[1;38;5;39m2023-03-17 \u001b[0m\u001b[1;38;5;39m \u001b[0m \n",
       "                                                                              \n",
       "\u001b[1mDocuments\u001b[0m\n",
       "                                                                                 \n",
       " \u001b[1m \u001b[0m\u001b[1mSeq\u001b[0m\u001b[1m \u001b[0m \u001b[1m \u001b[0m\u001b[1mDocument                    \u001b[0m\u001b[1m \u001b[0m \u001b[1m \u001b[0m\u001b[1mDescription                  \u001b[0m\u001b[1m \u001b[0m \u001b[1m \u001b[0m\u001b[1mSize    \u001b[0m\u001b[1m \u001b[0m \n",
       " ─────────────────────────────────────────────────────────────────────────────── \n",
       " \u001b[1m \u001b[0m\u001b[1m1  \u001b[0m\u001b[1m \u001b[0m \u001b[1m \u001b[0m\u001b[1mtm239853d1_s3.htm           \u001b[0m\u001b[1m \u001b[0m \u001b[1m \u001b[0m\u001b[1mS-3                          \u001b[0m\u001b[1m \u001b[0m \u001b[1m \u001b[0m\u001b[1m368.2 KB\u001b[0m\u001b[1m \u001b[0m \n",
       "  2     tm239853d1_ex5-1.htm           EXHIBIT 5.1                     34.8 KB   \n",
       " \u001b[1m \u001b[0m\u001b[1m3  \u001b[0m\u001b[1m \u001b[0m \u001b[1m \u001b[0m\u001b[1mtm239853d1_ex23-1.htm       \u001b[0m\u001b[1m \u001b[0m \u001b[1m \u001b[0m\u001b[1mEXHIBIT 23.1                 \u001b[0m\u001b[1m \u001b[0m \u001b[1m \u001b[0m\u001b[1m1.7 KB  \u001b[0m\u001b[1m \u001b[0m \n",
       "  4     tm239853d1_ex24-1.htm          EXHIBIT 24.1                    14.6 KB   \n",
       " \u001b[1m \u001b[0m\u001b[1m5  \u001b[0m\u001b[1m \u001b[0m \u001b[1m \u001b[0m\u001b[1mtm239853d1_ex-filingfees.htm\u001b[0m\u001b[1m \u001b[0m \u001b[1m \u001b[0m\u001b[1mEX-FILING FEES               \u001b[0m\u001b[1m \u001b[0m \u001b[1m \u001b[0m\u001b[1m84.9 KB \u001b[0m\u001b[1m \u001b[0m \n",
       "  6     tm239853d1_ex5-1img002.jpg     GRAPHIC                         3.1 KB    \n",
       " \u001b[1m \u001b[0m\u001b[1m7  \u001b[0m\u001b[1m \u001b[0m \u001b[1m \u001b[0m\u001b[1mtm239853d1_s3img001.jpg     \u001b[0m\u001b[1m \u001b[0m \u001b[1m \u001b[0m\u001b[1mGRAPHIC                      \u001b[0m\u001b[1m \u001b[0m \u001b[1m \u001b[0m\u001b[1m9.0 KB  \u001b[0m\u001b[1m \u001b[0m \n",
       "        0001104659-23-034009.txt       Complete submission text file   531.6 KB  \n",
       "                                                                                 \n",
       "\u001b[1mDatafiles\u001b[0m\n",
       "                                       \n",
       " \u001b[1m \u001b[0m\u001b[1mSeq\u001b[0m\u001b[1m \u001b[0m \u001b[1m \u001b[0m\u001b[1mDocument\u001b[0m\u001b[1m \u001b[0m \u001b[1m \u001b[0m\u001b[1mDescription\u001b[0m\u001b[1m \u001b[0m \u001b[1m \u001b[0m\u001b[1mSize\u001b[0m\u001b[1m \u001b[0m \n",
       " ───────────────────────────────────── \n",
       "                                       "
      ]
     },
     "execution_count": 17,
     "metadata": {},
     "output_type": "execute_result"
    }
   ],
   "source": [
    "filing.homepage"
   ]
  },
  {
   "cell_type": "markdown",
   "id": "8faee529",
   "metadata": {},
   "source": [
    "## Get filing Xbrl"
   ]
  },
  {
   "cell_type": "code",
   "execution_count": 18,
   "id": "d51e4043",
   "metadata": {},
   "outputs": [
    {
     "data": {
      "text/html": [
       "<pre style=\"white-space:pre;overflow-x:auto;line-height:normal;font-family:Menlo,'DejaVu Sans Mono',consolas,'Courier New',monospace\"></pre>\n"
      ],
      "text/plain": []
     },
     "metadata": {},
     "output_type": "display_data"
    },
    {
     "data": {
      "text/plain": [
       "Form 8-K Extracted XBRL\n",
       "                                                                     \n",
       " \u001b[1m \u001b[0m\u001b[1m                           \u001b[0m\u001b[1m \u001b[0m \u001b[1m \u001b[0m\u001b[1mcik    \u001b[0m\u001b[1m \u001b[0m \u001b[1;38;5;71m \u001b[0m\u001b[1;38;5;71mform\u001b[0m\u001b[1;38;5;71m \u001b[0m \u001b[1m \u001b[0m\u001b[1mnamespaces\u001b[0m\u001b[1m \u001b[0m \u001b[1m \u001b[0m\u001b[1mfacts\u001b[0m\u001b[1m \u001b[0m \n",
       " ─────────────────────────────────────────────────────────────────── \n",
       " \u001b[1m \u001b[0m\u001b[1m5E Advanced Materials, Inc.\u001b[0m\u001b[1m \u001b[0m \u001b[1m \u001b[0m\u001b[1m1888654\u001b[0m\u001b[1m \u001b[0m \u001b[1;38;5;71m \u001b[0m\u001b[1;38;5;71m8-K \u001b[0m\u001b[1;38;5;71m \u001b[0m \u001b[1m \u001b[0m\u001b[1m3         \u001b[0m\u001b[1m \u001b[0m \u001b[1m \u001b[0m\u001b[1m24   \u001b[0m\u001b[1m \u001b[0m \n",
       "                                                                     \n",
       "Facts\n",
       "                                                                                                    \n",
       " \u001b[1m \u001b[0m\u001b[1m   \u001b[0m\u001b[1m \u001b[0m \u001b[1m \u001b[0m\u001b[1mnamespace\u001b[0m\u001b[1m \u001b[0m \u001b[1;38;5;39m \u001b[0m\u001b[1;38;5;39mfact                       \u001b[0m\u001b[1;38;5;39m \u001b[0m \u001b[1m \u001b[0m\u001b[1mvalue                      \u001b[0m\u001b[1m \u001b[0m \u001b[1m \u001b[0m\u001b[1munits\u001b[0m\u001b[1m \u001b[0m \u001b[1m \u001b[0m\u001b[1mend_date  \u001b[0m\u001b[1m \u001b[0m \n",
       " ────────────────────────────────────────────────────────────────────────────────────────────────── \n",
       " \u001b[1m \u001b[0m\u001b[1m0  \u001b[0m\u001b[1m \u001b[0m \u001b[1m \u001b[0m\u001b[1mdei      \u001b[0m\u001b[1m \u001b[0m \u001b[1;38;5;39m \u001b[0m\u001b[1;38;5;39mAmendmentFlag              \u001b[0m\u001b[1;38;5;39m \u001b[0m \u001b[1m \u001b[0m\u001b[1mFalse                      \u001b[0m\u001b[1m \u001b[0m \u001b[1m \u001b[0m\u001b[1mNone \u001b[0m\u001b[1m \u001b[0m \u001b[1m \u001b[0m\u001b[1m2023-03-20\u001b[0m\u001b[1m \u001b[0m \n",
       "  1     dei        \u001b[38;5;39m \u001b[0m\u001b[38;5;39mEntityCentralIndexKey      \u001b[0m\u001b[38;5;39m \u001b[0m  0001888654                    None    2023-03-20  \n",
       " \u001b[1m \u001b[0m\u001b[1m2  \u001b[0m\u001b[1m \u001b[0m \u001b[1m \u001b[0m\u001b[1mdei      \u001b[0m\u001b[1m \u001b[0m \u001b[1;38;5;39m \u001b[0m\u001b[1;38;5;39mDocumentType               \u001b[0m\u001b[1;38;5;39m \u001b[0m \u001b[1m \u001b[0m\u001b[1m8-K                        \u001b[0m\u001b[1m \u001b[0m \u001b[1m \u001b[0m\u001b[1mNone \u001b[0m\u001b[1m \u001b[0m \u001b[1m \u001b[0m\u001b[1m2023-03-20\u001b[0m\u001b[1m \u001b[0m \n",
       "  3     dei        \u001b[38;5;39m \u001b[0m\u001b[38;5;39mDocumentPeriodEndDate      \u001b[0m\u001b[38;5;39m \u001b[0m  2023-03-20                    None    2023-03-20  \n",
       " \u001b[1m \u001b[0m\u001b[1m4  \u001b[0m\u001b[1m \u001b[0m \u001b[1m \u001b[0m\u001b[1mdei      \u001b[0m\u001b[1m \u001b[0m \u001b[1;38;5;39m \u001b[0m\u001b[1;38;5;39mEntityRegistrantName       \u001b[0m\u001b[1;38;5;39m \u001b[0m \u001b[1m \u001b[0m\u001b[1m5E Advanced Materials, Inc.\u001b[0m\u001b[1m \u001b[0m \u001b[1m \u001b[0m\u001b[1mNone \u001b[0m\u001b[1m \u001b[0m \u001b[1m \u001b[0m\u001b[1m2023-03-20\u001b[0m\u001b[1m \u001b[0m \n",
       "  ...   ...        \u001b[38;5;39m \u001b[0m\u001b[38;5;39m...                        \u001b[0m\u001b[38;5;39m \u001b[0m  ...                           ...     ...         \n",
       " \u001b[1m \u001b[0m\u001b[1m19 \u001b[0m\u001b[1m \u001b[0m \u001b[1m \u001b[0m\u001b[1mdei      \u001b[0m\u001b[1m \u001b[0m \u001b[1;38;5;39m \u001b[0m\u001b[1;38;5;39mSecurity12bTitle           \u001b[0m\u001b[1;38;5;39m \u001b[0m \u001b[1m \u001b[0m\u001b[1mCommon Stock               \u001b[0m\u001b[1m \u001b[0m \u001b[1m \u001b[0m\u001b[1mNone \u001b[0m\u001b[1m \u001b[0m \u001b[1m \u001b[0m\u001b[1m2023-03-20\u001b[0m\u001b[1m \u001b[0m \n",
       "  20    dei        \u001b[38;5;39m \u001b[0m\u001b[38;5;39mTradingSymbol              \u001b[0m\u001b[38;5;39m \u001b[0m  FEAM                          None    2023-03-20  \n",
       " \u001b[1m \u001b[0m\u001b[1m21 \u001b[0m\u001b[1m \u001b[0m \u001b[1m \u001b[0m\u001b[1mdei      \u001b[0m\u001b[1m \u001b[0m \u001b[1;38;5;39m \u001b[0m\u001b[1;38;5;39mSecurityExchangeName       \u001b[0m\u001b[1;38;5;39m \u001b[0m \u001b[1m \u001b[0m\u001b[1mNASDAQ                     \u001b[0m\u001b[1m \u001b[0m \u001b[1m \u001b[0m\u001b[1mNone \u001b[0m\u001b[1m \u001b[0m \u001b[1m \u001b[0m\u001b[1m2023-03-20\u001b[0m\u001b[1m \u001b[0m \n",
       "  22    dei        \u001b[38;5;39m \u001b[0m\u001b[38;5;39mEntityEmergingGrowthCompany\u001b[0m\u001b[38;5;39m \u001b[0m  True                          None    2023-03-20  \n",
       " \u001b[1m \u001b[0m\u001b[1m23 \u001b[0m\u001b[1m \u001b[0m \u001b[1m \u001b[0m\u001b[1mdei      \u001b[0m\u001b[1m \u001b[0m \u001b[1;38;5;39m \u001b[0m\u001b[1;38;5;39mEntityExTransitionPeriod   \u001b[0m\u001b[1;38;5;39m \u001b[0m \u001b[1m \u001b[0m\u001b[1mFalse                      \u001b[0m\u001b[1m \u001b[0m \u001b[1m \u001b[0m\u001b[1mNone \u001b[0m\u001b[1m \u001b[0m \u001b[1m \u001b[0m\u001b[1m2023-03-20\u001b[0m\u001b[1m \u001b[0m \n",
       "                                                                                                    \n",
       "Taxonomies\n",
       "                                                    \n",
       " \u001b[1m \u001b[0m\u001b[1m \u001b[0m\u001b[1m \u001b[0m \u001b[1m \u001b[0m\u001b[1mtaxonomy\u001b[0m\u001b[1m \u001b[0m \u001b[1m \u001b[0m\u001b[1mnamespace                        \u001b[0m\u001b[1m \u001b[0m \n",
       " ────────────────────────────────────────────────── \n",
       " \u001b[1m \u001b[0m\u001b[1m0\u001b[0m\u001b[1m \u001b[0m \u001b[1m \u001b[0m\u001b[1mdei     \u001b[0m\u001b[1m \u001b[0m \u001b[1m \u001b[0m\u001b[1mhttp://xbrl.sec.gov/dei/2022     \u001b[0m\u001b[1m \u001b[0m \n",
       "  1   link       http://www.xbrl.org/2003/linkbase  \n",
       " \u001b[1m \u001b[0m\u001b[1m2\u001b[0m\u001b[1m \u001b[0m \u001b[1m \u001b[0m\u001b[1mxlink   \u001b[0m\u001b[1m \u001b[0m \u001b[1m \u001b[0m\u001b[1mhttp://www.w3.org/1999/xlink     \u001b[0m\u001b[1m \u001b[0m \n",
       "                                                    "
      ]
     },
     "execution_count": 18,
     "metadata": {},
     "output_type": "execute_result"
    }
   ],
   "source": [
    "filings_8k = get_filings(form=\"8-K\")\n",
    "eight_k_filing =  filings_8k[0]\n",
    "eight_k_filing.xbrl()"
   ]
  },
  {
   "cell_type": "markdown",
   "id": "03aef2a2",
   "metadata": {},
   "source": [
    "## Get the filing markdown"
   ]
  },
  {
   "cell_type": "code",
   "execution_count": 19,
   "id": "013c87df",
   "metadata": {},
   "outputs": [
    {
     "name": "stdout",
     "output_type": "stream",
     "text": [
      "xml version=\"1.0\" encoding=\"utf-8\" ?\n",
      "\n",
      "\n",
      "8-K\n",
      "\n",
      "\n",
      "   false 0001888654        0001888654   2023-03-20 2023-03-20         \n",
      "\n",
      "  \n",
      "\n",
      " UNITED STATES\n",
      "\n",
      " SECURITIES AND EXCHANGE COMMISSION\n",
      "\n",
      " WASHINGTON, DC 20549\n",
      "\n",
      "  \n",
      "\n",
      "   \n",
      "\n",
      " FORM 8-K\n",
      "\n",
      "  \n",
      "\n",
      "   \n",
      "\n",
      " CURRENT REPORT\n",
      "\n",
      " PURSUANT TO SECTION 13 or 15(d)\n",
      "\n",
      " OF THE SECURITIES EXCHANGE ACT OF 1934\n",
      "\n",
      " Date of report (Date of earliest event reported): March 20, 2023\n",
      "\n",
      "  \n",
      "\n",
      "   \n",
      "\n",
      " 5E Advanced Materials, Inc.\n",
      "\n"
     ]
    }
   ],
   "source": [
    "md = eight_k_filing.markdown()\n",
    "\n",
    "for line in md.split(\"\\n\")[:40]:\n",
    "    print(line)"
   ]
  },
  {
   "cell_type": "markdown",
   "id": "07308a19",
   "metadata": {},
   "source": [
    "## View the filing markdown"
   ]
  },
  {
   "cell_type": "code",
   "execution_count": 20,
   "id": "8cb73b17",
   "metadata": {},
   "outputs": [
    {
     "data": {
      "text/html": [
       "<pre style=\"white-space:pre;overflow-x:auto;line-height:normal;font-family:Menlo,'DejaVu Sans Mono',consolas,'Courier New',monospace\">╭─────────────────────────────────── Form 8-K for 5E Advanced Materials, Inc. ────────────────────────────────────╮\n",
       "│ xml version=\"1.0\" encoding=\"utf-8\" ?                                                                            │\n",
       "│                                                                                                                 │\n",
       "│ 8-K                                                                                                             │\n",
       "│                                                                                                                 │\n",
       "│ false 0001888654        0001888654   2023-03-20 2023-03-20                                                      │\n",
       "│                                                                                                                 │\n",
       "│ UNITED STATES                                                                                                   │\n",
       "│                                                                                                                 │\n",
       "│ SECURITIES AND EXCHANGE COMMISSION                                                                              │\n",
       "│                                                                                                                 │\n",
       "│ WASHINGTON, DC 20549                                                                                            │\n",
       "│                                                                                                                 │\n",
       "│ FORM 8-K                                                                                                        │\n",
       "│                                                                                                                 │\n",
       "│ CURRENT REPORT                                                                                                  │\n",
       "│                                                                                                                 │\n",
       "│ PURSUANT TO SECTION 13 or 15(d)                                                                                 │\n",
       "│                                                                                                                 │\n",
       "│ OF THE SECURITIES EXCHANGE ACT OF 1934                                                                          │\n",
       "│                                                                                                                 │\n",
       "│ Date of report (Date of earliest event reported): March 20, 2023                                                │\n",
       "│                                                                                                                 │\n",
       "│ 5E Advanced Materials, Inc.                                                                                     │\n",
       "│                                                                                                                 │\n",
       "│ (Exact name of registrant as specified in its charter)                                                          │\n",
       "│                                                                                                                 │\n",
       "│  <span style=\"font-weight: bold\">                                      </span> <span style=\"font-weight: bold\">  </span> <span style=\"font-weight: bold\">                          </span> <span style=\"font-weight: bold\">  </span> <span style=\"font-weight: bold\">                                     </span>  │\n",
       "│  ─────────────────────────────────────────────────────────────────────────────────────────────────────────────  │\n",
       "│   Delaware                                  001-41279                     87-3426517                            │\n",
       "│   (State or other jurisdiction of           (Commission file number)      (I.R.S. Employer Identification       │\n",
       "│   Incorporation)                                                          No.)                                  │\n",
       "│                                                                                                                 │\n",
       "│ 19500 State Highway 249, Suite 125, Houston, Texas 77070                                                        │\n",
       "│                                                                                                                 │\n",
       "│ (Address of principal executive offices, zip code)                                                              │\n",
       "│                                                                                                                 │\n",
       "│ Registrant’s telephone number, including area code: (346) 439-9656                                              │\n",
       "│                                                                                                                 │\n",
       "│ Check the appropriate box below if the Form 8-K filing is intended to simultaneously satisfy the filing         │\n",
       "│ obligation of the registrant under any of the following provisions:                                             │\n",
       "│                                                                                                                 │\n",
       "│  <span style=\"font-weight: bold\">      </span> <span style=\"font-weight: bold\">   </span> <span style=\"font-weight: bold\">                                                                                      </span>              │\n",
       "│  ─────────────────────────────────────────────────────────────────────────────────────────────────              │\n",
       "│          ☐   Written communication pursuant to Rule 425 under the Securities Act (17 CFR 230.425)               │\n",
       "│                                                                                                                 │\n",
       "│                                                                                                                 │\n",
       "│  <span style=\"font-weight: bold\">      </span> <span style=\"font-weight: bold\">   </span> <span style=\"font-weight: bold\">                                                                                        </span>            │\n",
       "│  ───────────────────────────────────────────────────────────────────────────────────────────────────            │\n",
       "│          ☐   Soliciting material pursuant to Rule 14a-12 under the Exchange Act (17 CFR 240.14a-12)             │\n",
       "│                                                                                                                 │\n",
       "│                                                                                                                 │\n",
       "│  <span style=\"font-weight: bold\">      </span> <span style=\"font-weight: bold\">   </span> <span style=\"font-weight: bold\">                                                                                                  </span>  │\n",
       "│  ─────────────────────────────────────────────────────────────────────────────────────────────────────────────  │\n",
       "│          ☐   Pre-commencement communication pursuant to Rule 14d-2(b) under the Exchange Act (17 CFR            │\n",
       "│              240.14d-2(b))                                                                                      │\n",
       "│                                                                                                                 │\n",
       "│                                                                                                                 │\n",
       "│  <span style=\"font-weight: bold\">      </span> <span style=\"font-weight: bold\">   </span> <span style=\"font-weight: bold\">                                                                                                  </span>  │\n",
       "│  ─────────────────────────────────────────────────────────────────────────────────────────────────────────────  │\n",
       "│          ☐   Pre-commencement communication pursuant to Rule 13e-4(c) under the Exchange Act (17 CFR            │\n",
       "│              240.13e-4(c))                                                                                      │\n",
       "│                                                                                                                 │\n",
       "│ Securities registered pursuant to Section 12(b) of the Act:                                                     │\n",
       "│                                                                                                                 │\n",
       "│  <span style=\"font-weight: bold\">                     </span> <span style=\"font-weight: bold\">  </span> <span style=\"font-weight: bold\">                   </span> <span style=\"font-weight: bold\">  </span> <span style=\"font-weight: bold\">                                           </span>                    │\n",
       "│  ───────────────────────────────────────────────────────────────────────────────────────────                    │\n",
       "│   Title of each class      Trading Symbol(s)      Name of each exchange on which registered                     │\n",
       "│   Common Stock             FEAM                   Nasdaq Global Select Market                                   │\n",
       "│                                                                                                                 │\n",
       "│ Indicate by check mark whether the registrant is an emerging growth company as defined in Rule 405 of the       │\n",
       "│ Securities Act of 1933 (§230.405 of this chapter) or Rule 12b-2 of the Securities Exchange Act of 1934          │\n",
       "│ (§240.12b-2 of this chapter).                                                                                   │\n",
       "│                                                                                                                 │\n",
       "│ Emerging growth company  ☒                                                                                      │\n",
       "│                                                                                                                 │\n",
       "│ If an emerging growth company, indicate by check mark if the registrant has elected not to use the extended     │\n",
       "│ transition period for complying with any new or revised financial accounting standards provided pursuant to     │\n",
       "│ Section 13(a) of the Exchange Act.  ☐                                                                           │\n",
       "│                                                                                                                 │\n",
       "│ <span style=\"color: #808000; text-decoration-color: #808000\">───────────────────────────────────────────────────────────────────────────────────────────────────────────────</span> │\n",
       "│                                                                                                                 │\n",
       "│  <span style=\"font-weight: bold\">            </span> <span style=\"font-weight: bold\">                                                                                                </span>  │\n",
       "│  ─────────────────────────────────────────────────────────────────────────────────────────────────────────────  │\n",
       "│   Item 5.02.   Departure of Directors or Principal Officers; Election of Directors; Appointment of Principal    │\n",
       "│                Officers.                                                                                        │\n",
       "│                                                                                                                 │\n",
       "│ Appointment of Susan Brennan as CEO                                                                             │\n",
       "│                                                                                                                 │\n",
       "│ On March 21, 2023, the Board of Directors (the “Board”) of 5E Advanced Materials, Inc. (“5E” or the “Company”)  │\n",
       "│ announced the appointment of Ms. Susan Brennan as the Company’s new Chief Executive Officer, effective April    │\n",
       "│ 24, 2023 (the “Effective Date”). Ms. Brennan will succeed Mr. Anthony Hall, whose designation as the Company’s  │\n",
       "│ principal executive officer will terminate as of the Effective Date. Mr. Hall will commence an immediate        │\n",
       "│ process, aided by the Company’s Chairman, Mr. David Salisbury, to transition the CEO function to Ms. Brennan    │\n",
       "│ and ensure a quick and effective handover.                                                                      │\n",
       "│                                                                                                                 │\n",
       "│ Ms. Brennan, age 60, has served as the President of Susan Brennan Leadership, LLC, a consulting firm that       │\n",
       "│ advises companies in the energy, automotive, and technology industries, since October 2022. Before launching    │\n",
       "│ Susan Brennan Leadership, LLC, Ms. Brennan served as the President and Chief Executive Officer of Romeo Power,  │\n",
       "│ an energy technology leader delivering electrification solutions for complex commercial vehicle applications,   │\n",
       "│ from August 2021 to October 2022. From November 2013 to August 2021, Ms. Brennan served as the Chief Operations │\n",
       "│ Officer of Bloom Energy Corporation. Previously, she spent decades in a variety of leadership positions in the  │\n",
       "│ automotive manufacturing industry, including at Nissan North America, the Ford Motor Company, and the Douglas   │\n",
       "│ and Lomason Company. Ms. Brennan holds a Master of Business Administration in Economics from the University of  │\n",
       "│ Nebraska at Omaha and a Bachelor of Science in Microbiology from the University of Illinois-Campaign-Urbana.    │\n",
       "│                                                                                                                 │\n",
       "│ The Board has approved Ms. Brennan’s employment as Chief Executive Officer as set forth in an Employment        │\n",
       "│ Agreement (the “Employment Agreement”). Ms. Brennan will receive a base salary of $500,000 per year and         │\n",
       "│ participate in the Company’s annual incentive plans for executive officers as further described in the          │\n",
       "│ Company’s most recent Annual Report on Form 10-K, as amended, with a target bonus opportunity of eighty percent │\n",
       "│ (80%) of her annual base salary. She will receive an annual equity award for fiscal year 2023 with a value      │\n",
       "│ equivalent to $1.0 million, which is expected to consist of fifty percent (50%) restricted share units (“RSUs”) │\n",
       "│ and fifty percent (50%) performance share units (“PSUs”), in each case subject to applicable vesting terms      │\n",
       "│ (including performance vesting terms) to be determined by the Board or its Compensation Committee. All equity   │\n",
       "│ grants will be made under the Company’s 2022 Equity Compensation Plan (the “Equity Compensation Plan”). Ms.     │\n",
       "│ Brennan will also be eligible to receive an additional one-time sign-on bonus of 400,000 stock options having a │\n",
       "│ per share exercise price of one and a half (1.5) times the average ten (10) day closing stock price for the ten │\n",
       "│ (10) trading days immediately prior to the Effective Date (the “Sign-On Bonus”). Ms. Brennan will also be       │\n",
       "│ eligible to participate in other Company benefit plans consistent with the Company’s other executives. The      │\n",
       "│ Sign-On Bonus and any RSUs or PSUs awarded under the Equity Compensation Plan to Ms. Brennan are subject to     │\n",
       "│ shareholder approval.                                                                                           │\n",
       "│                                                                                                                 │\n",
       "│ Ms. Brennan’s Employment Agreement provides severance benefits to her if her employment is terminated by the    │\n",
       "│ Company for reasons other than for cause, or by Ms. Brennan for good reasons (as each term is defined in the    │\n",
       "│ employment agreement). However, if such termination is within three months prior to or within 12 months         │\n",
       "│ immediately after a change in control of the Company (the “Change in Control Period”), Ms. Brennan would        │\n",
       "│ receive a higher level of severance benefits. Severance benefits under the Employment Agreement and in          │\n",
       "│ connection with a change of control are “double trigger” and any payments under the Employment Agreement are    │\n",
       "│ subject to Ms. Brennan’s execution of a general release in favor of the Company and its affiliates, and their   │\n",
       "│ respective officers and directors, as well as compliance with a perpetual confidentiality obligation, a         │\n",
       "│ non-disparagement obligation, a covenant not to compete, and a covenant not to solicit the Company’s customers  │\n",
       "│ or employees during employment and for 18 months following any termination of employment. Finally, pursuant to  │\n",
       "│ the terms of the equity awards Ms. Brennan receives under the Equity Compensation Plan, if Ms. Brennan is       │\n",
       "│ terminated by the Company for reasons other than for cause, by her for good reason, or by reason of her death   │\n",
       "│ or disability, she may be entitled to accelerated vesting, and/or pro-rated vesting, for certain of her equity  │\n",
       "│ or equity-linked awards, depending on whether the termination is during a Change in Control Period.             │\n",
       "│                                                                                                                 │\n",
       "│ The foregoing summary of Ms. Brennan’s Employment Agreement is not complete and is qualified in its entirety by │\n",
       "│ the Employment Agreement, a copy of which is filed herewith as Exhibit 10.1.                                    │\n",
       "│                                                                                                                 │\n",
       "│ A copy of the press release related to these announcements is furnished as Exhibit 99.1 hereto.                 │\n",
       "│                                                                                                                 │\n",
       "│ <span style=\"color: #808000; text-decoration-color: #808000\">───────────────────────────────────────────────────────────────────────────────────────────────────────────────</span> │\n",
       "│                                                                                                                 │\n",
       "│  <span style=\"font-weight: bold\">            </span> <span style=\"font-weight: bold\">                                    </span>                                                              │\n",
       "│  ─────────────────────────────────────────────────                                                              │\n",
       "│   Item 9.01.   Financial Statements and Exhibits.                                                               │\n",
       "│                                                                                                                 │\n",
       "│ (d) Exhibits                                                                                                    │\n",
       "│                                                                                                                 │\n",
       "│  <span style=\"font-weight: bold\">            </span> <span style=\"font-weight: bold\">  </span> <span style=\"font-weight: bold\">                                                                                             </span>  │\n",
       "│  ─────────────────────────────────────────────────────────────────────────────────────────────────────────────  │\n",
       "│   ExhibitNo.      Description                                                                                   │\n",
       "│   10.1            [Employment Agreement, dated March 20, 2023.](d470164dex101.htm)                              │\n",
       "│   99.1            [Press Release, dated March 21, 2023.](d470164dex991.htm)                                     │\n",
       "│   104             Cover Page Interactive Data File – the cover page XBRL tags are embedded within the Inline    │\n",
       "│                   XBRL document.                                                                                │\n",
       "│                                                                                                                 │\n",
       "│ <span style=\"color: #808000; text-decoration-color: #808000\">───────────────────────────────────────────────────────────────────────────────────────────────────────────────</span> │\n",
       "│ SIGNATURES                                                                                                      │\n",
       "│                                                                                                                 │\n",
       "│ Pursuant to the requirements of the Securities Exchange Act of 1934, the registrant has duly caused this report │\n",
       "│ to be signed on its behalf by the undersigned thereunto duly authorized.                                        │\n",
       "│                                                                                                                 │\n",
       "│  <span style=\"font-weight: bold\">                             </span> <span style=\"font-weight: bold\">  </span> <span style=\"font-weight: bold\">                                                                            </span>  │\n",
       "│  ─────────────────────────────────────────────────────────────────────────────────────────────────────────────  │\n",
       "│   5E Advanced Materials, Inc.                                                                                   │\n",
       "│   By:                              /s/ Chantel Jordan                                                           │\n",
       "│                                    Chantel Jordan                                                               │\n",
       "│                                    Senior Vice President, General Counsel, Corporate Secretary and Chief        │\n",
       "│                                    People Officer                                                               │\n",
       "│                                                                                                                 │\n",
       "│ Date: March 21, 2023                                                                                            │\n",
       "╰─────────────────────────────────── Form 8-K for 5E Advanced Materials, Inc. ────────────────────────────────────╯\n",
       "</pre>\n"
      ],
      "text/plain": [
       "╭─────────────────────────────────── Form 8-K for 5E Advanced Materials, Inc. ────────────────────────────────────╮\n",
       "│ xml version=\"1.0\" encoding=\"utf-8\" ?                                                                            │\n",
       "│                                                                                                                 │\n",
       "│ 8-K                                                                                                             │\n",
       "│                                                                                                                 │\n",
       "│ false 0001888654        0001888654   2023-03-20 2023-03-20                                                      │\n",
       "│                                                                                                                 │\n",
       "│ UNITED STATES                                                                                                   │\n",
       "│                                                                                                                 │\n",
       "│ SECURITIES AND EXCHANGE COMMISSION                                                                              │\n",
       "│                                                                                                                 │\n",
       "│ WASHINGTON, DC 20549                                                                                            │\n",
       "│                                                                                                                 │\n",
       "│ FORM 8-K                                                                                                        │\n",
       "│                                                                                                                 │\n",
       "│ CURRENT REPORT                                                                                                  │\n",
       "│                                                                                                                 │\n",
       "│ PURSUANT TO SECTION 13 or 15(d)                                                                                 │\n",
       "│                                                                                                                 │\n",
       "│ OF THE SECURITIES EXCHANGE ACT OF 1934                                                                          │\n",
       "│                                                                                                                 │\n",
       "│ Date of report (Date of earliest event reported): March 20, 2023                                                │\n",
       "│                                                                                                                 │\n",
       "│ 5E Advanced Materials, Inc.                                                                                     │\n",
       "│                                                                                                                 │\n",
       "│ (Exact name of registrant as specified in its charter)                                                          │\n",
       "│                                                                                                                 │\n",
       "│  \u001b[1m \u001b[0m\u001b[1m                                    \u001b[0m\u001b[1m \u001b[0m \u001b[1m  \u001b[0m \u001b[1m \u001b[0m\u001b[1m                        \u001b[0m\u001b[1m \u001b[0m \u001b[1m  \u001b[0m \u001b[1m \u001b[0m\u001b[1m                                   \u001b[0m\u001b[1m \u001b[0m  │\n",
       "│  ─────────────────────────────────────────────────────────────────────────────────────────────────────────────  │\n",
       "│   Delaware                                  001-41279                     87-3426517                            │\n",
       "│   (State or other jurisdiction of           (Commission file number)      (I.R.S. Employer Identification       │\n",
       "│   Incorporation)                                                          No.)                                  │\n",
       "│                                                                                                                 │\n",
       "│ 19500 State Highway 249, Suite 125, Houston, Texas 77070                                                        │\n",
       "│                                                                                                                 │\n",
       "│ (Address of principal executive offices, zip code)                                                              │\n",
       "│                                                                                                                 │\n",
       "│ Registrant’s telephone number, including area code: (346) 439-9656                                              │\n",
       "│                                                                                                                 │\n",
       "│ Check the appropriate box below if the Form 8-K filing is intended to simultaneously satisfy the filing         │\n",
       "│ obligation of the registrant under any of the following provisions:                                             │\n",
       "│                                                                                                                 │\n",
       "│  \u001b[1m \u001b[0m\u001b[1m    \u001b[0m\u001b[1m \u001b[0m \u001b[1m \u001b[0m\u001b[1m \u001b[0m\u001b[1m \u001b[0m \u001b[1m \u001b[0m\u001b[1m                                                                                    \u001b[0m\u001b[1m \u001b[0m              │\n",
       "│  ─────────────────────────────────────────────────────────────────────────────────────────────────              │\n",
       "│          ☐   Written communication pursuant to Rule 425 under the Securities Act (17 CFR 230.425)               │\n",
       "│                                                                                                                 │\n",
       "│                                                                                                                 │\n",
       "│  \u001b[1m \u001b[0m\u001b[1m    \u001b[0m\u001b[1m \u001b[0m \u001b[1m \u001b[0m\u001b[1m \u001b[0m\u001b[1m \u001b[0m \u001b[1m \u001b[0m\u001b[1m                                                                                      \u001b[0m\u001b[1m \u001b[0m            │\n",
       "│  ───────────────────────────────────────────────────────────────────────────────────────────────────            │\n",
       "│          ☐   Soliciting material pursuant to Rule 14a-12 under the Exchange Act (17 CFR 240.14a-12)             │\n",
       "│                                                                                                                 │\n",
       "│                                                                                                                 │\n",
       "│  \u001b[1m \u001b[0m\u001b[1m    \u001b[0m\u001b[1m \u001b[0m \u001b[1m \u001b[0m\u001b[1m \u001b[0m\u001b[1m \u001b[0m \u001b[1m \u001b[0m\u001b[1m                                                                                                \u001b[0m\u001b[1m \u001b[0m  │\n",
       "│  ─────────────────────────────────────────────────────────────────────────────────────────────────────────────  │\n",
       "│          ☐   Pre-commencement communication pursuant to Rule 14d-2(b) under the Exchange Act (17 CFR            │\n",
       "│              240.14d-2(b))                                                                                      │\n",
       "│                                                                                                                 │\n",
       "│                                                                                                                 │\n",
       "│  \u001b[1m \u001b[0m\u001b[1m    \u001b[0m\u001b[1m \u001b[0m \u001b[1m \u001b[0m\u001b[1m \u001b[0m\u001b[1m \u001b[0m \u001b[1m \u001b[0m\u001b[1m                                                                                                \u001b[0m\u001b[1m \u001b[0m  │\n",
       "│  ─────────────────────────────────────────────────────────────────────────────────────────────────────────────  │\n",
       "│          ☐   Pre-commencement communication pursuant to Rule 13e-4(c) under the Exchange Act (17 CFR            │\n",
       "│              240.13e-4(c))                                                                                      │\n",
       "│                                                                                                                 │\n",
       "│ Securities registered pursuant to Section 12(b) of the Act:                                                     │\n",
       "│                                                                                                                 │\n",
       "│  \u001b[1m \u001b[0m\u001b[1m                   \u001b[0m\u001b[1m \u001b[0m \u001b[1m  \u001b[0m \u001b[1m \u001b[0m\u001b[1m                 \u001b[0m\u001b[1m \u001b[0m \u001b[1m  \u001b[0m \u001b[1m \u001b[0m\u001b[1m                                         \u001b[0m\u001b[1m \u001b[0m                    │\n",
       "│  ───────────────────────────────────────────────────────────────────────────────────────────                    │\n",
       "│   Title of each class      Trading Symbol(s)      Name of each exchange on which registered                     │\n",
       "│   Common Stock             FEAM                   Nasdaq Global Select Market                                   │\n",
       "│                                                                                                                 │\n",
       "│ Indicate by check mark whether the registrant is an emerging growth company as defined in Rule 405 of the       │\n",
       "│ Securities Act of 1933 (§230.405 of this chapter) or Rule 12b-2 of the Securities Exchange Act of 1934          │\n",
       "│ (§240.12b-2 of this chapter).                                                                                   │\n",
       "│                                                                                                                 │\n",
       "│ Emerging growth company  ☒                                                                                      │\n",
       "│                                                                                                                 │\n",
       "│ If an emerging growth company, indicate by check mark if the registrant has elected not to use the extended     │\n",
       "│ transition period for complying with any new or revised financial accounting standards provided pursuant to     │\n",
       "│ Section 13(a) of the Exchange Act.  ☐                                                                           │\n",
       "│                                                                                                                 │\n",
       "│ \u001b[33m───────────────────────────────────────────────────────────────────────────────────────────────────────────────\u001b[0m │\n",
       "│                                                                                                                 │\n",
       "│  \u001b[1m \u001b[0m\u001b[1m          \u001b[0m\u001b[1m \u001b[0m \u001b[1m \u001b[0m\u001b[1m                                                                                              \u001b[0m\u001b[1m \u001b[0m  │\n",
       "│  ─────────────────────────────────────────────────────────────────────────────────────────────────────────────  │\n",
       "│   Item 5.02.   Departure of Directors or Principal Officers; Election of Directors; Appointment of Principal    │\n",
       "│                Officers.                                                                                        │\n",
       "│                                                                                                                 │\n",
       "│ Appointment of Susan Brennan as CEO                                                                             │\n",
       "│                                                                                                                 │\n",
       "│ On March 21, 2023, the Board of Directors (the “Board”) of 5E Advanced Materials, Inc. (“5E” or the “Company”)  │\n",
       "│ announced the appointment of Ms. Susan Brennan as the Company’s new Chief Executive Officer, effective April    │\n",
       "│ 24, 2023 (the “Effective Date”). Ms. Brennan will succeed Mr. Anthony Hall, whose designation as the Company’s  │\n",
       "│ principal executive officer will terminate as of the Effective Date. Mr. Hall will commence an immediate        │\n",
       "│ process, aided by the Company’s Chairman, Mr. David Salisbury, to transition the CEO function to Ms. Brennan    │\n",
       "│ and ensure a quick and effective handover.                                                                      │\n",
       "│                                                                                                                 │\n",
       "│ Ms. Brennan, age 60, has served as the President of Susan Brennan Leadership, LLC, a consulting firm that       │\n",
       "│ advises companies in the energy, automotive, and technology industries, since October 2022. Before launching    │\n",
       "│ Susan Brennan Leadership, LLC, Ms. Brennan served as the President and Chief Executive Officer of Romeo Power,  │\n",
       "│ an energy technology leader delivering electrification solutions for complex commercial vehicle applications,   │\n",
       "│ from August 2021 to October 2022. From November 2013 to August 2021, Ms. Brennan served as the Chief Operations │\n",
       "│ Officer of Bloom Energy Corporation. Previously, she spent decades in a variety of leadership positions in the  │\n",
       "│ automotive manufacturing industry, including at Nissan North America, the Ford Motor Company, and the Douglas   │\n",
       "│ and Lomason Company. Ms. Brennan holds a Master of Business Administration in Economics from the University of  │\n",
       "│ Nebraska at Omaha and a Bachelor of Science in Microbiology from the University of Illinois-Campaign-Urbana.    │\n",
       "│                                                                                                                 │\n",
       "│ The Board has approved Ms. Brennan’s employment as Chief Executive Officer as set forth in an Employment        │\n",
       "│ Agreement (the “Employment Agreement”). Ms. Brennan will receive a base salary of $500,000 per year and         │\n",
       "│ participate in the Company’s annual incentive plans for executive officers as further described in the          │\n",
       "│ Company’s most recent Annual Report on Form 10-K, as amended, with a target bonus opportunity of eighty percent │\n",
       "│ (80%) of her annual base salary. She will receive an annual equity award for fiscal year 2023 with a value      │\n",
       "│ equivalent to $1.0 million, which is expected to consist of fifty percent (50%) restricted share units (“RSUs”) │\n",
       "│ and fifty percent (50%) performance share units (“PSUs”), in each case subject to applicable vesting terms      │\n",
       "│ (including performance vesting terms) to be determined by the Board or its Compensation Committee. All equity   │\n",
       "│ grants will be made under the Company’s 2022 Equity Compensation Plan (the “Equity Compensation Plan”). Ms.     │\n",
       "│ Brennan will also be eligible to receive an additional one-time sign-on bonus of 400,000 stock options having a │\n",
       "│ per share exercise price of one and a half (1.5) times the average ten (10) day closing stock price for the ten │\n",
       "│ (10) trading days immediately prior to the Effective Date (the “Sign-On Bonus”). Ms. Brennan will also be       │\n",
       "│ eligible to participate in other Company benefit plans consistent with the Company’s other executives. The      │\n",
       "│ Sign-On Bonus and any RSUs or PSUs awarded under the Equity Compensation Plan to Ms. Brennan are subject to     │\n",
       "│ shareholder approval.                                                                                           │\n",
       "│                                                                                                                 │\n",
       "│ Ms. Brennan’s Employment Agreement provides severance benefits to her if her employment is terminated by the    │\n",
       "│ Company for reasons other than for cause, or by Ms. Brennan for good reasons (as each term is defined in the    │\n",
       "│ employment agreement). However, if such termination is within three months prior to or within 12 months         │\n",
       "│ immediately after a change in control of the Company (the “Change in Control Period”), Ms. Brennan would        │\n",
       "│ receive a higher level of severance benefits. Severance benefits under the Employment Agreement and in          │\n",
       "│ connection with a change of control are “double trigger” and any payments under the Employment Agreement are    │\n",
       "│ subject to Ms. Brennan’s execution of a general release in favor of the Company and its affiliates, and their   │\n",
       "│ respective officers and directors, as well as compliance with a perpetual confidentiality obligation, a         │\n",
       "│ non-disparagement obligation, a covenant not to compete, and a covenant not to solicit the Company’s customers  │\n",
       "│ or employees during employment and for 18 months following any termination of employment. Finally, pursuant to  │\n",
       "│ the terms of the equity awards Ms. Brennan receives under the Equity Compensation Plan, if Ms. Brennan is       │\n",
       "│ terminated by the Company for reasons other than for cause, by her for good reason, or by reason of her death   │\n",
       "│ or disability, she may be entitled to accelerated vesting, and/or pro-rated vesting, for certain of her equity  │\n",
       "│ or equity-linked awards, depending on whether the termination is during a Change in Control Period.             │\n",
       "│                                                                                                                 │\n",
       "│ The foregoing summary of Ms. Brennan’s Employment Agreement is not complete and is qualified in its entirety by │\n",
       "│ the Employment Agreement, a copy of which is filed herewith as Exhibit 10.1.                                    │\n",
       "│                                                                                                                 │\n",
       "│ A copy of the press release related to these announcements is furnished as Exhibit 99.1 hereto.                 │\n",
       "│                                                                                                                 │\n",
       "│ \u001b[33m───────────────────────────────────────────────────────────────────────────────────────────────────────────────\u001b[0m │\n",
       "│                                                                                                                 │\n",
       "│  \u001b[1m \u001b[0m\u001b[1m          \u001b[0m\u001b[1m \u001b[0m \u001b[1m \u001b[0m\u001b[1m                                  \u001b[0m\u001b[1m \u001b[0m                                                              │\n",
       "│  ─────────────────────────────────────────────────                                                              │\n",
       "│   Item 9.01.   Financial Statements and Exhibits.                                                               │\n",
       "│                                                                                                                 │\n",
       "│ (d) Exhibits                                                                                                    │\n",
       "│                                                                                                                 │\n",
       "│  \u001b[1m \u001b[0m\u001b[1m          \u001b[0m\u001b[1m \u001b[0m \u001b[1m  \u001b[0m \u001b[1m \u001b[0m\u001b[1m                                                                                           \u001b[0m\u001b[1m \u001b[0m  │\n",
       "│  ─────────────────────────────────────────────────────────────────────────────────────────────────────────────  │\n",
       "│   ExhibitNo.      Description                                                                                   │\n",
       "│   10.1            [Employment Agreement, dated March 20, 2023.](d470164dex101.htm)                              │\n",
       "│   99.1            [Press Release, dated March 21, 2023.](d470164dex991.htm)                                     │\n",
       "│   104             Cover Page Interactive Data File – the cover page XBRL tags are embedded within the Inline    │\n",
       "│                   XBRL document.                                                                                │\n",
       "│                                                                                                                 │\n",
       "│ \u001b[33m───────────────────────────────────────────────────────────────────────────────────────────────────────────────\u001b[0m │\n",
       "│ SIGNATURES                                                                                                      │\n",
       "│                                                                                                                 │\n",
       "│ Pursuant to the requirements of the Securities Exchange Act of 1934, the registrant has duly caused this report │\n",
       "│ to be signed on its behalf by the undersigned thereunto duly authorized.                                        │\n",
       "│                                                                                                                 │\n",
       "│  \u001b[1m \u001b[0m\u001b[1m                           \u001b[0m\u001b[1m \u001b[0m \u001b[1m  \u001b[0m \u001b[1m \u001b[0m\u001b[1m                                                                          \u001b[0m\u001b[1m \u001b[0m  │\n",
       "│  ─────────────────────────────────────────────────────────────────────────────────────────────────────────────  │\n",
       "│   5E Advanced Materials, Inc.                                                                                   │\n",
       "│   By:                              /s/ Chantel Jordan                                                           │\n",
       "│                                    Chantel Jordan                                                               │\n",
       "│                                    Senior Vice President, General Counsel, Corporate Secretary and Chief        │\n",
       "│                                    People Officer                                                               │\n",
       "│                                                                                                                 │\n",
       "│ Date: March 21, 2023                                                                                            │\n",
       "╰─────────────────────────────────── Form 8-K for 5E Advanced Materials, Inc. ────────────────────────────────────╯\n"
      ]
     },
     "metadata": {},
     "output_type": "display_data"
    }
   ],
   "source": [
    "eight_k_filing.view()"
   ]
  },
  {
   "cell_type": "markdown",
   "id": "e35ef2dc",
   "metadata": {},
   "source": [
    "# Company\n",
    "<hr/>"
   ]
  },
  {
   "cell_type": "markdown",
   "id": "9354e375",
   "metadata": {},
   "source": [
    "## Get company by cik"
   ]
  },
  {
   "cell_type": "code",
   "execution_count": 21,
   "id": "34308a3b",
   "metadata": {},
   "outputs": [
    {
     "data": {
      "text/html": [
       "<pre style=\"white-space:pre;overflow-x:auto;line-height:normal;font-family:Menlo,'DejaVu Sans Mono',consolas,'Courier New',monospace\"></pre>\n"
      ],
      "text/plain": []
     },
     "metadata": {},
     "output_type": "display_data"
    },
    {
     "data": {
      "text/plain": [
       "╭──────────────────────────────────────────── SUNCOR ENERGY INC [SU] ─────────────────────────────────────────────╮\n",
       "│                                                                                                                 │\n",
       "│  \u001b[1m \u001b[0m\u001b[1mcik   \u001b[0m\u001b[1m \u001b[0m \u001b[1m \u001b[0m\u001b[1mcategory         \u001b[0m\u001b[1m \u001b[0m \u001b[1;38;5;39m \u001b[0m\u001b[1;38;5;39mindustry          \u001b[0m\u001b[1;38;5;39m \u001b[0m                                                              │\n",
       "│  ─────────────────────────────────────────────────                                                              │\n",
       "│  \u001b[1m \u001b[0m\u001b[1m311337\u001b[0m\u001b[1m \u001b[0m \u001b[1m \u001b[0m\u001b[1mLarge Accelerated\u001b[0m\u001b[1m \u001b[0m \u001b[1;38;5;39m \u001b[0m\u001b[1;38;5;39mPetroleum Refining\u001b[0m\u001b[1;38;5;39m \u001b[0m                                                              │\n",
       "│                                                                                                                 │\n",
       "│                                                                                                                 │\n",
       "╰─────────────────────────────────────────────────────────────────────────────────────────────────────────────────╯"
      ]
     },
     "execution_count": 21,
     "metadata": {},
     "output_type": "execute_result"
    }
   ],
   "source": [
    "Company(311337)"
   ]
  },
  {
   "cell_type": "markdown",
   "id": "276d97f4",
   "metadata": {},
   "source": [
    "## Get company by ticker"
   ]
  },
  {
   "cell_type": "code",
   "execution_count": 22,
   "id": "33631a44",
   "metadata": {},
   "outputs": [
    {
     "data": {
      "text/html": [
       "<pre style=\"white-space:pre;overflow-x:auto;line-height:normal;font-family:Menlo,'DejaVu Sans Mono',consolas,'Courier New',monospace\"></pre>\n"
      ],
      "text/plain": []
     },
     "metadata": {},
     "output_type": "display_data"
    },
    {
     "data": {
      "text/plain": [
       "╭───────────────────────────────────────────── Snowflake Inc. [SNOW] ─────────────────────────────────────────────╮\n",
       "│                                                                                                                 │\n",
       "│  \u001b[1m \u001b[0m\u001b[1mcik    \u001b[0m\u001b[1m \u001b[0m \u001b[1m \u001b[0m\u001b[1mcategory               \u001b[0m\u001b[1m \u001b[0m \u001b[1;38;5;39m \u001b[0m\u001b[1;38;5;39mindustry                     \u001b[0m\u001b[1;38;5;39m \u001b[0m                                            │\n",
       "│  ───────────────────────────────────────────────────────────────────                                            │\n",
       "│  \u001b[1m \u001b[0m\u001b[1m1640147\u001b[0m\u001b[1m \u001b[0m \u001b[1m \u001b[0m\u001b[1mLarge accelerated filer\u001b[0m\u001b[1m \u001b[0m \u001b[1;38;5;39m \u001b[0m\u001b[1;38;5;39mServices-Prepackaged Software\u001b[0m\u001b[1;38;5;39m \u001b[0m                                            │\n",
       "│                                                                                                                 │\n",
       "│                                                                                                                 │\n",
       "╰─────────────────────────────────────────────────────────────────────────────────────────────────────────────────╯"
      ]
     },
     "execution_count": 22,
     "metadata": {},
     "output_type": "execute_result"
    }
   ],
   "source": [
    "company = Company(\"SNOW\")\n",
    "company"
   ]
  },
  {
   "cell_type": "code",
   "execution_count": 23,
   "id": "c3d64d97",
   "metadata": {},
   "outputs": [
    {
     "data": {
      "text/html": [
       "<pre style=\"white-space:pre;overflow-x:auto;line-height:normal;font-family:Menlo,'DejaVu Sans Mono',consolas,'Courier New',monospace\"></pre>\n"
      ],
      "text/plain": []
     },
     "metadata": {},
     "output_type": "display_data"
    },
    {
     "data": {
      "text/plain": [
       "╭───────────────────────────────────── Filings for Snowflake Inc. [1640147] ──────────────────────────────────────╮\n",
       "│                                                                                                                 │\n",
       "│  \u001b[1m \u001b[0m\u001b[1m  \u001b[0m\u001b[1m \u001b[0m \u001b[1;38;5;71m \u001b[0m\u001b[1;38;5;71mform    \u001b[0m\u001b[1;38;5;71m \u001b[0m \u001b[1;38;5;39m \u001b[0m\u001b[1;38;5;39mfiled     \u001b[0m\u001b[1;38;5;39m \u001b[0m \u001b[1m \u001b[0m\u001b[1maccession_number    \u001b[0m\u001b[1m \u001b[0m \u001b[1m \u001b[0m\u001b[1mxbrl\u001b[0m\u001b[1m \u001b[0m                                                     │\n",
       "│  ──────────────────────────────────────────────────────────                                                     │\n",
       "│  \u001b[1m \u001b[0m\u001b[1m0 \u001b[0m\u001b[1m \u001b[0m \u001b[1;38;5;71m \u001b[0m\u001b[1;38;5;71m4       \u001b[0m\u001b[1;38;5;71m \u001b[0m \u001b[1;38;5;39m \u001b[0m\u001b[1;38;5;39m2023-03-17\u001b[0m\u001b[1;38;5;39m \u001b[0m \u001b[1m \u001b[0m\u001b[1m0001640147-23-000022\u001b[0m\u001b[1m \u001b[0m \u001b[1m \u001b[0m\u001b[1m    \u001b[0m\u001b[1m \u001b[0m                                                     │\n",
       "│   1   \u001b[38;5;71m \u001b[0m\u001b[38;5;71m4       \u001b[0m\u001b[38;5;71m \u001b[0m \u001b[38;5;39m \u001b[0m\u001b[38;5;39m2023-03-17\u001b[0m\u001b[38;5;39m \u001b[0m  0001640147-23-000021                                                             │\n",
       "│  \u001b[1m \u001b[0m\u001b[1m2 \u001b[0m\u001b[1m \u001b[0m \u001b[1;38;5;71m \u001b[0m\u001b[1;38;5;71m4       \u001b[0m\u001b[1;38;5;71m \u001b[0m \u001b[1;38;5;39m \u001b[0m\u001b[1;38;5;39m2023-03-17\u001b[0m\u001b[1;38;5;39m \u001b[0m \u001b[1m \u001b[0m\u001b[1m0001640147-23-000020\u001b[0m\u001b[1m \u001b[0m \u001b[1m \u001b[0m\u001b[1m    \u001b[0m\u001b[1m \u001b[0m                                                     │\n",
       "│   3   \u001b[38;5;71m \u001b[0m\u001b[38;5;71m4       \u001b[0m\u001b[38;5;71m \u001b[0m \u001b[38;5;39m \u001b[0m\u001b[38;5;39m2023-03-17\u001b[0m\u001b[38;5;39m \u001b[0m  0001640147-23-000019                                                             │\n",
       "│  \u001b[1m \u001b[0m\u001b[1m4 \u001b[0m\u001b[1m \u001b[0m \u001b[1;38;5;71m \u001b[0m\u001b[1;38;5;71m4       \u001b[0m\u001b[1;38;5;71m \u001b[0m \u001b[1;38;5;39m \u001b[0m\u001b[1;38;5;39m2023-03-13\u001b[0m\u001b[1;38;5;39m \u001b[0m \u001b[1m \u001b[0m\u001b[1m0001640147-23-000014\u001b[0m\u001b[1m \u001b[0m \u001b[1m \u001b[0m\u001b[1m    \u001b[0m\u001b[1m \u001b[0m                                                     │\n",
       "│   5   \u001b[38;5;71m \u001b[0m\u001b[38;5;71m4       \u001b[0m\u001b[38;5;71m \u001b[0m \u001b[38;5;39m \u001b[0m\u001b[38;5;39m2023-03-13\u001b[0m\u001b[38;5;39m \u001b[0m  0001640147-23-000013                                                             │\n",
       "│  \u001b[1m \u001b[0m\u001b[1m6 \u001b[0m\u001b[1m \u001b[0m \u001b[1;38;5;71m \u001b[0m\u001b[1;38;5;71m4       \u001b[0m\u001b[1;38;5;71m \u001b[0m \u001b[1;38;5;39m \u001b[0m\u001b[1;38;5;39m2023-03-13\u001b[0m\u001b[1;38;5;39m \u001b[0m \u001b[1m \u001b[0m\u001b[1m0001640147-23-000012\u001b[0m\u001b[1m \u001b[0m \u001b[1m \u001b[0m\u001b[1m    \u001b[0m\u001b[1m \u001b[0m                                                     │\n",
       "│   7   \u001b[38;5;71m \u001b[0m\u001b[38;5;71m4       \u001b[0m\u001b[38;5;71m \u001b[0m \u001b[38;5;39m \u001b[0m\u001b[38;5;39m2023-03-13\u001b[0m\u001b[38;5;39m \u001b[0m  0001640147-23-000011                                                             │\n",
       "│  \u001b[1m \u001b[0m\u001b[1m8 \u001b[0m\u001b[1m \u001b[0m \u001b[1;38;5;71m \u001b[0m\u001b[1;38;5;71m4       \u001b[0m\u001b[1;38;5;71m \u001b[0m \u001b[1;38;5;39m \u001b[0m\u001b[1;38;5;39m2023-03-07\u001b[0m\u001b[1;38;5;39m \u001b[0m \u001b[1m \u001b[0m\u001b[1m0001640147-23-000006\u001b[0m\u001b[1m \u001b[0m \u001b[1m \u001b[0m\u001b[1m    \u001b[0m\u001b[1m \u001b[0m                                                     │\n",
       "│   9   \u001b[38;5;71m \u001b[0m\u001b[38;5;71m8-K     \u001b[0m\u001b[38;5;71m \u001b[0m \u001b[38;5;39m \u001b[0m\u001b[38;5;39m2023-03-01\u001b[0m\u001b[38;5;39m \u001b[0m  0001640147-23-000004   ✓                                                         │\n",
       "│  \u001b[1m \u001b[0m\u001b[1m10\u001b[0m\u001b[1m \u001b[0m \u001b[1;38;5;71m \u001b[0m\u001b[1;38;5;71mSC 13G/A\u001b[0m\u001b[1;38;5;71m \u001b[0m \u001b[1;38;5;39m \u001b[0m\u001b[1;38;5;39m2023-02-14\u001b[0m\u001b[1;38;5;39m \u001b[0m \u001b[1m \u001b[0m\u001b[1m0001193125-23-037410\u001b[0m\u001b[1m \u001b[0m \u001b[1m \u001b[0m\u001b[1m    \u001b[0m\u001b[1m \u001b[0m                                                     │\n",
       "│   11  \u001b[38;5;71m \u001b[0m\u001b[38;5;71mSC 13G/A\u001b[0m\u001b[38;5;71m \u001b[0m \u001b[38;5;39m \u001b[0m\u001b[38;5;39m2023-02-09\u001b[0m\u001b[38;5;39m \u001b[0m  0001104659-23-016977                                                             │\n",
       "│  \u001b[1m \u001b[0m\u001b[1m12\u001b[0m\u001b[1m \u001b[0m \u001b[1;38;5;71m \u001b[0m\u001b[1;38;5;71mSC 13G/A\u001b[0m\u001b[1;38;5;71m \u001b[0m \u001b[1;38;5;39m \u001b[0m\u001b[1;38;5;39m2023-01-09\u001b[0m\u001b[1;38;5;39m \u001b[0m \u001b[1m \u001b[0m\u001b[1m0001541617-23-000001\u001b[0m\u001b[1m \u001b[0m \u001b[1m \u001b[0m\u001b[1m    \u001b[0m\u001b[1m \u001b[0m                                                     │\n",
       "│   13  \u001b[38;5;71m \u001b[0m\u001b[38;5;71m4       \u001b[0m\u001b[38;5;71m \u001b[0m \u001b[38;5;39m \u001b[0m\u001b[38;5;39m2022-12-14\u001b[0m\u001b[38;5;39m \u001b[0m  0001640147-22-000110                                                             │\n",
       "│  \u001b[1m \u001b[0m\u001b[1m14\u001b[0m\u001b[1m \u001b[0m \u001b[1;38;5;71m \u001b[0m\u001b[1;38;5;71m4       \u001b[0m\u001b[1;38;5;71m \u001b[0m \u001b[1;38;5;39m \u001b[0m\u001b[1;38;5;39m2022-12-14\u001b[0m\u001b[1;38;5;39m \u001b[0m \u001b[1m \u001b[0m\u001b[1m0001062993-22-023890\u001b[0m\u001b[1m \u001b[0m \u001b[1m \u001b[0m\u001b[1m    \u001b[0m\u001b[1m \u001b[0m                                                     │\n",
       "│   15  \u001b[38;5;71m \u001b[0m\u001b[38;5;71m4       \u001b[0m\u001b[38;5;71m \u001b[0m \u001b[38;5;39m \u001b[0m\u001b[38;5;39m2022-12-12\u001b[0m\u001b[38;5;39m \u001b[0m  0001640147-22-000108                                                             │\n",
       "│  \u001b[1m \u001b[0m\u001b[1m16\u001b[0m\u001b[1m \u001b[0m \u001b[1;38;5;71m \u001b[0m\u001b[1;38;5;71m4       \u001b[0m\u001b[1;38;5;71m \u001b[0m \u001b[1;38;5;39m \u001b[0m\u001b[1;38;5;39m2022-12-12\u001b[0m\u001b[1;38;5;39m \u001b[0m \u001b[1m \u001b[0m\u001b[1m0001640147-22-000107\u001b[0m\u001b[1m \u001b[0m \u001b[1m \u001b[0m\u001b[1m    \u001b[0m\u001b[1m \u001b[0m                                                     │\n",
       "│   17  \u001b[38;5;71m \u001b[0m\u001b[38;5;71m4       \u001b[0m\u001b[38;5;71m \u001b[0m \u001b[38;5;39m \u001b[0m\u001b[38;5;39m2022-12-12\u001b[0m\u001b[38;5;39m \u001b[0m  0001640147-22-000106                                                             │\n",
       "│  \u001b[1m \u001b[0m\u001b[1m18\u001b[0m\u001b[1m \u001b[0m \u001b[1;38;5;71m \u001b[0m\u001b[1;38;5;71m4       \u001b[0m\u001b[1;38;5;71m \u001b[0m \u001b[1;38;5;39m \u001b[0m\u001b[1;38;5;39m2022-12-12\u001b[0m\u001b[1;38;5;39m \u001b[0m \u001b[1m \u001b[0m\u001b[1m0001640147-22-000105\u001b[0m\u001b[1m \u001b[0m \u001b[1m \u001b[0m\u001b[1m    \u001b[0m\u001b[1m \u001b[0m                                                     │\n",
       "│   19  \u001b[38;5;71m \u001b[0m\u001b[38;5;71mSC 13G/A\u001b[0m\u001b[38;5;71m \u001b[0m \u001b[38;5;39m \u001b[0m\u001b[38;5;39m2022-12-12\u001b[0m\u001b[38;5;39m \u001b[0m  0000895421-22-000660                                                             │\n",
       "│  \u001b[1m \u001b[0m\u001b[1m20\u001b[0m\u001b[1m \u001b[0m \u001b[1;38;5;71m \u001b[0m\u001b[1;38;5;71m10-Q    \u001b[0m\u001b[1;38;5;71m \u001b[0m \u001b[1;38;5;39m \u001b[0m\u001b[1;38;5;39m2022-12-02\u001b[0m\u001b[1;38;5;39m \u001b[0m \u001b[1m \u001b[0m\u001b[1m0001640147-22-000100\u001b[0m\u001b[1m \u001b[0m \u001b[1m \u001b[0m\u001b[1m✓   \u001b[0m\u001b[1m \u001b[0m                                                     │\n",
       "│   21  \u001b[38;5;71m \u001b[0m\u001b[38;5;71m8-K     \u001b[0m\u001b[38;5;71m \u001b[0m \u001b[38;5;39m \u001b[0m\u001b[38;5;39m2022-11-30\u001b[0m\u001b[38;5;39m \u001b[0m  0001640147-22-000097   ✓                                                         │\n",
       "│  \u001b[1m \u001b[0m\u001b[1m22\u001b[0m\u001b[1m \u001b[0m \u001b[1;38;5;71m \u001b[0m\u001b[1;38;5;71m4       \u001b[0m\u001b[1;38;5;71m \u001b[0m \u001b[1;38;5;39m \u001b[0m\u001b[1;38;5;39m2022-09-13\u001b[0m\u001b[1;38;5;39m \u001b[0m \u001b[1m \u001b[0m\u001b[1m0001062993-22-019520\u001b[0m\u001b[1m \u001b[0m \u001b[1m \u001b[0m\u001b[1m    \u001b[0m\u001b[1m \u001b[0m                                                     │\n",
       "│   23  \u001b[38;5;71m \u001b[0m\u001b[38;5;71m4       \u001b[0m\u001b[38;5;71m \u001b[0m \u001b[38;5;39m \u001b[0m\u001b[38;5;39m2022-09-12\u001b[0m\u001b[38;5;39m \u001b[0m  0001640147-22-000092                                                             │\n",
       "│  \u001b[1m \u001b[0m\u001b[1m24\u001b[0m\u001b[1m \u001b[0m \u001b[1;38;5;71m \u001b[0m\u001b[1;38;5;71m4       \u001b[0m\u001b[1;38;5;71m \u001b[0m \u001b[1;38;5;39m \u001b[0m\u001b[1;38;5;39m2022-09-12\u001b[0m\u001b[1;38;5;39m \u001b[0m \u001b[1m \u001b[0m\u001b[1m0001640147-22-000091\u001b[0m\u001b[1m \u001b[0m \u001b[1m \u001b[0m\u001b[1m    \u001b[0m\u001b[1m \u001b[0m                                                     │\n",
       "│   25  \u001b[38;5;71m \u001b[0m\u001b[38;5;71m4       \u001b[0m\u001b[38;5;71m \u001b[0m \u001b[38;5;39m \u001b[0m\u001b[38;5;39m2022-09-12\u001b[0m\u001b[38;5;39m \u001b[0m  0001640147-22-000090                                                             │\n",
       "│  \u001b[1m \u001b[0m\u001b[1m26\u001b[0m\u001b[1m \u001b[0m \u001b[1;38;5;71m \u001b[0m\u001b[1;38;5;71m4       \u001b[0m\u001b[1;38;5;71m \u001b[0m \u001b[1;38;5;39m \u001b[0m\u001b[1;38;5;39m2022-09-12\u001b[0m\u001b[1;38;5;39m \u001b[0m \u001b[1m \u001b[0m\u001b[1m0001640147-22-000089\u001b[0m\u001b[1m \u001b[0m \u001b[1m \u001b[0m\u001b[1m    \u001b[0m\u001b[1m \u001b[0m                                                     │\n",
       "│   27  \u001b[38;5;71m \u001b[0m\u001b[38;5;71m10-Q    \u001b[0m\u001b[38;5;71m \u001b[0m \u001b[38;5;39m \u001b[0m\u001b[38;5;39m2022-09-01\u001b[0m\u001b[38;5;39m \u001b[0m  0001640147-22-000084   ✓                                                         │\n",
       "│  \u001b[1m \u001b[0m\u001b[1m28\u001b[0m\u001b[1m \u001b[0m \u001b[1;38;5;71m \u001b[0m\u001b[1;38;5;71m4       \u001b[0m\u001b[1;38;5;71m \u001b[0m \u001b[1;38;5;39m \u001b[0m\u001b[1;38;5;39m2022-08-30\u001b[0m\u001b[1;38;5;39m \u001b[0m \u001b[1m \u001b[0m\u001b[1m0001640147-22-000081\u001b[0m\u001b[1m \u001b[0m \u001b[1m \u001b[0m\u001b[1m    \u001b[0m\u001b[1m \u001b[0m                                                     │\n",
       "│   29  \u001b[38;5;71m \u001b[0m\u001b[38;5;71m8-K     \u001b[0m\u001b[38;5;71m \u001b[0m \u001b[38;5;39m \u001b[0m\u001b[38;5;39m2022-08-24\u001b[0m\u001b[38;5;39m \u001b[0m  0001640147-22-000078   ✓                                                         │\n",
       "│  \u001b[1m \u001b[0m\u001b[1m30\u001b[0m\u001b[1m \u001b[0m \u001b[1;38;5;71m \u001b[0m\u001b[1;38;5;71m8-K     \u001b[0m\u001b[1;38;5;71m \u001b[0m \u001b[1;38;5;39m \u001b[0m\u001b[1;38;5;39m2022-07-12\u001b[0m\u001b[1;38;5;39m \u001b[0m \u001b[1m \u001b[0m\u001b[1m0001640147-22-000074\u001b[0m\u001b[1m \u001b[0m \u001b[1m \u001b[0m\u001b[1m✓   \u001b[0m\u001b[1m \u001b[0m                                                     │\n",
       "│   31  \u001b[38;5;71m \u001b[0m\u001b[38;5;71m4       \u001b[0m\u001b[38;5;71m \u001b[0m \u001b[38;5;39m \u001b[0m\u001b[38;5;39m2022-07-11\u001b[0m\u001b[38;5;39m \u001b[0m  0001225208-22-008759                                                             │\n",
       "│  \u001b[1m \u001b[0m\u001b[1m32\u001b[0m\u001b[1m \u001b[0m \u001b[1;38;5;71m \u001b[0m\u001b[1;38;5;71m4       \u001b[0m\u001b[1;38;5;71m \u001b[0m \u001b[1;38;5;39m \u001b[0m\u001b[1;38;5;39m2022-07-11\u001b[0m\u001b[1;38;5;39m \u001b[0m \u001b[1m \u001b[0m\u001b[1m0001640147-22-000072\u001b[0m\u001b[1m \u001b[0m \u001b[1m \u001b[0m\u001b[1m    \u001b[0m\u001b[1m \u001b[0m                                                     │\n",
       "│   33  \u001b[38;5;71m \u001b[0m\u001b[38;5;71m4       \u001b[0m\u001b[38;5;71m \u001b[0m \u001b[38;5;39m \u001b[0m\u001b[38;5;39m2022-07-11\u001b[0m\u001b[38;5;39m \u001b[0m  0001640147-22-000071                                                             │\n",
       "│  \u001b[1m \u001b[0m\u001b[1m34\u001b[0m\u001b[1m \u001b[0m \u001b[1;38;5;71m \u001b[0m\u001b[1;38;5;71m4       \u001b[0m\u001b[1;38;5;71m \u001b[0m \u001b[1;38;5;39m \u001b[0m\u001b[1;38;5;39m2022-07-11\u001b[0m\u001b[1;38;5;39m \u001b[0m \u001b[1m \u001b[0m\u001b[1m0001640147-22-000070\u001b[0m\u001b[1m \u001b[0m \u001b[1m \u001b[0m\u001b[1m    \u001b[0m\u001b[1m \u001b[0m                                                     │\n",
       "│   35  \u001b[38;5;71m \u001b[0m\u001b[38;5;71m4       \u001b[0m\u001b[38;5;71m \u001b[0m \u001b[38;5;39m \u001b[0m\u001b[38;5;39m2022-07-11\u001b[0m\u001b[38;5;39m \u001b[0m  0001640147-22-000069                                                             │\n",
       "│  \u001b[1m \u001b[0m\u001b[1m36\u001b[0m\u001b[1m \u001b[0m \u001b[1;38;5;71m \u001b[0m\u001b[1;38;5;71m4       \u001b[0m\u001b[1;38;5;71m \u001b[0m \u001b[1;38;5;39m \u001b[0m\u001b[1;38;5;39m2022-07-11\u001b[0m\u001b[1;38;5;39m \u001b[0m \u001b[1m \u001b[0m\u001b[1m0001640147-22-000068\u001b[0m\u001b[1m \u001b[0m \u001b[1m \u001b[0m\u001b[1m    \u001b[0m\u001b[1m \u001b[0m                                                     │\n",
       "│   37  \u001b[38;5;71m \u001b[0m\u001b[38;5;71m4       \u001b[0m\u001b[38;5;71m \u001b[0m \u001b[38;5;39m \u001b[0m\u001b[38;5;39m2022-07-11\u001b[0m\u001b[38;5;39m \u001b[0m  0001640147-22-000067                                                             │\n",
       "│  \u001b[1m \u001b[0m\u001b[1m38\u001b[0m\u001b[1m \u001b[0m \u001b[1;38;5;71m \u001b[0m\u001b[1;38;5;71m4       \u001b[0m\u001b[1;38;5;71m \u001b[0m \u001b[1;38;5;39m \u001b[0m\u001b[1;38;5;39m2022-07-11\u001b[0m\u001b[1;38;5;39m \u001b[0m \u001b[1m \u001b[0m\u001b[1m0001640147-22-000066\u001b[0m\u001b[1m \u001b[0m \u001b[1m \u001b[0m\u001b[1m    \u001b[0m\u001b[1m \u001b[0m                                                     │\n",
       "│   39  \u001b[38;5;71m \u001b[0m\u001b[38;5;71m4       \u001b[0m\u001b[38;5;71m \u001b[0m \u001b[38;5;39m \u001b[0m\u001b[38;5;39m2022-07-05\u001b[0m\u001b[38;5;39m \u001b[0m  0001640147-22-000056                                                             │\n",
       "│  \u001b[1m \u001b[0m\u001b[1m40\u001b[0m\u001b[1m \u001b[0m \u001b[1;38;5;71m \u001b[0m\u001b[1;38;5;71m4       \u001b[0m\u001b[1;38;5;71m \u001b[0m \u001b[1;38;5;39m \u001b[0m\u001b[1;38;5;39m2022-06-10\u001b[0m\u001b[1;38;5;39m \u001b[0m \u001b[1m \u001b[0m\u001b[1m0001640147-22-000052\u001b[0m\u001b[1m \u001b[0m \u001b[1m \u001b[0m\u001b[1m    \u001b[0m\u001b[1m \u001b[0m                                                     │\n",
       "│   41  \u001b[38;5;71m \u001b[0m\u001b[38;5;71m4       \u001b[0m\u001b[38;5;71m \u001b[0m \u001b[38;5;39m \u001b[0m\u001b[38;5;39m2022-06-10\u001b[0m\u001b[38;5;39m \u001b[0m  0001640147-22-000051                                                             │\n",
       "│  \u001b[1m \u001b[0m\u001b[1m42\u001b[0m\u001b[1m \u001b[0m \u001b[1;38;5;71m \u001b[0m\u001b[1;38;5;71m4       \u001b[0m\u001b[1;38;5;71m \u001b[0m \u001b[1;38;5;39m \u001b[0m\u001b[1;38;5;39m2022-06-10\u001b[0m\u001b[1;38;5;39m \u001b[0m \u001b[1m \u001b[0m\u001b[1m0001640147-22-000050\u001b[0m\u001b[1m \u001b[0m \u001b[1m \u001b[0m\u001b[1m    \u001b[0m\u001b[1m \u001b[0m                                                     │\n",
       "│   43  \u001b[38;5;71m \u001b[0m\u001b[38;5;71m4       \u001b[0m\u001b[38;5;71m \u001b[0m \u001b[38;5;39m \u001b[0m\u001b[38;5;39m2022-06-10\u001b[0m\u001b[38;5;39m \u001b[0m  0001640147-22-000049                                                             │\n",
       "│  \u001b[1m \u001b[0m\u001b[1m44\u001b[0m\u001b[1m \u001b[0m \u001b[1;38;5;71m \u001b[0m\u001b[1;38;5;71m10-Q    \u001b[0m\u001b[1;38;5;71m \u001b[0m \u001b[1;38;5;39m \u001b[0m\u001b[1;38;5;39m2022-06-03\u001b[0m\u001b[1;38;5;39m \u001b[0m \u001b[1m \u001b[0m\u001b[1m0001640147-22-000044\u001b[0m\u001b[1m \u001b[0m \u001b[1m \u001b[0m\u001b[1m✓   \u001b[0m\u001b[1m \u001b[0m                                                     │\n",
       "│   45  \u001b[38;5;71m \u001b[0m\u001b[38;5;71mDEFA14A \u001b[0m\u001b[38;5;71m \u001b[0m \u001b[38;5;39m \u001b[0m\u001b[38;5;39m2022-05-27\u001b[0m\u001b[38;5;39m \u001b[0m  0001640147-22-000039                                                             │\n",
       "│  \u001b[1m \u001b[0m\u001b[1m46\u001b[0m\u001b[1m \u001b[0m \u001b[1;38;5;71m \u001b[0m\u001b[1;38;5;71mDEF 14A \u001b[0m\u001b[1;38;5;71m \u001b[0m \u001b[1;38;5;39m \u001b[0m\u001b[1;38;5;39m2022-05-27\u001b[0m\u001b[1;38;5;39m \u001b[0m \u001b[1m \u001b[0m\u001b[1m0001640147-22-000038\u001b[0m\u001b[1m \u001b[0m \u001b[1m \u001b[0m\u001b[1m    \u001b[0m\u001b[1m \u001b[0m                                                     │\n",
       "│   47  \u001b[38;5;71m \u001b[0m\u001b[38;5;71m8-K     \u001b[0m\u001b[38;5;71m \u001b[0m \u001b[38;5;39m \u001b[0m\u001b[38;5;39m2022-05-25\u001b[0m\u001b[38;5;39m \u001b[0m  0001640147-22-000031   ✓                                                         │\n",
       "│  \u001b[1m \u001b[0m\u001b[1m48\u001b[0m\u001b[1m \u001b[0m \u001b[1;38;5;71m \u001b[0m\u001b[1;38;5;71m4       \u001b[0m\u001b[1;38;5;71m \u001b[0m \u001b[1;38;5;39m \u001b[0m\u001b[1;38;5;39m2022-05-10\u001b[0m\u001b[1;38;5;39m \u001b[0m \u001b[1m \u001b[0m\u001b[1m0001062993-22-012036\u001b[0m\u001b[1m \u001b[0m \u001b[1m \u001b[0m\u001b[1m    \u001b[0m\u001b[1m \u001b[0m                                                     │\n",
       "│   49  \u001b[38;5;71m \u001b[0m\u001b[38;5;71mD       \u001b[0m\u001b[38;5;71m \u001b[0m \u001b[38;5;39m \u001b[0m\u001b[38;5;39m2022-04-20\u001b[0m\u001b[38;5;39m \u001b[0m  0001640147-22-000027                                                             │\n",
       "│                                                                                                                 │\n",
       "│ Showing 50 filings of 335 total                                                                                 │\n",
       "╰─────────────────────────────────────────────────────────────────────────────────────────────────────────────────╯"
      ]
     },
     "execution_count": 23,
     "metadata": {},
     "output_type": "execute_result"
    }
   ],
   "source": [
    "company.get_filings()"
   ]
  },
  {
   "cell_type": "markdown",
   "id": "1dc2db35",
   "metadata": {},
   "source": [
    "### Properties of the company"
   ]
  },
  {
   "cell_type": "code",
   "execution_count": 24,
   "id": "212d6dde",
   "metadata": {},
   "outputs": [
    {
     "data": {
      "text/html": [
       "<div>\n",
       "<style scoped>\n",
       "    .dataframe tbody tr th:only-of-type {\n",
       "        vertical-align: middle;\n",
       "    }\n",
       "\n",
       "    .dataframe tbody tr th {\n",
       "        vertical-align: top;\n",
       "    }\n",
       "\n",
       "    .dataframe thead th {\n",
       "        text-align: right;\n",
       "    }\n",
       "</style>\n",
       "<table border=\"1\" class=\"dataframe\">\n",
       "  <thead>\n",
       "    <tr style=\"text-align: right;\">\n",
       "      <th></th>\n",
       "      <th>value</th>\n",
       "    </tr>\n",
       "    <tr>\n",
       "      <th>property</th>\n",
       "      <th></th>\n",
       "    </tr>\n",
       "  </thead>\n",
       "  <tbody>\n",
       "    <tr>\n",
       "      <th>company.name</th>\n",
       "      <td>Snowflake Inc.</td>\n",
       "    </tr>\n",
       "    <tr>\n",
       "      <th>company.cik</th>\n",
       "      <td>1640147</td>\n",
       "    </tr>\n",
       "    <tr>\n",
       "      <th>company.tickers</th>\n",
       "      <td>[SNOW]</td>\n",
       "    </tr>\n",
       "    <tr>\n",
       "      <th>company.exchanges</th>\n",
       "      <td>[NYSE]</td>\n",
       "    </tr>\n",
       "    <tr>\n",
       "      <th>company.category</th>\n",
       "      <td>Large accelerated filer</td>\n",
       "    </tr>\n",
       "    <tr>\n",
       "      <th>company.industry</th>\n",
       "      <td>Services-Prepackaged Software</td>\n",
       "    </tr>\n",
       "    <tr>\n",
       "      <th>company.sic</th>\n",
       "      <td>7372</td>\n",
       "    </tr>\n",
       "    <tr>\n",
       "      <th>company.entity_type</th>\n",
       "      <td>operating</td>\n",
       "    </tr>\n",
       "  </tbody>\n",
       "</table>\n",
       "</div>"
      ],
      "text/plain": [
       "                                             value\n",
       "property                                          \n",
       "company.name                        Snowflake Inc.\n",
       "company.cik                                1640147\n",
       "company.tickers                             [SNOW]\n",
       "company.exchanges                           [NYSE]\n",
       "company.category           Large accelerated filer\n",
       "company.industry     Services-Prepackaged Software\n",
       "company.sic                                   7372\n",
       "company.entity_type                      operating"
      ]
     },
     "execution_count": 24,
     "metadata": {},
     "output_type": "execute_result"
    }
   ],
   "source": [
    "pd.DataFrame([\n",
    "    {'property': f\"company.{property}\", 'value':getattr(company, property)} \n",
    "         for property in ['name', 'cik', 'tickers', 'exchanges', 'category', 'industry', 'sic', 'entity_type'  ]]\n",
    ").set_index(\"property\")"
   ]
  },
  {
   "cell_type": "markdown",
   "id": "0c2049a2",
   "metadata": {},
   "source": [
    "# Effect filings\n",
    "<hr/>"
   ]
  },
  {
   "cell_type": "code",
   "execution_count": 25,
   "id": "aaa196cd",
   "metadata": {},
   "outputs": [
    {
     "data": {
      "text/html": [
       "<pre style=\"white-space:pre;overflow-x:auto;line-height:normal;font-family:Menlo,'DejaVu Sans Mono',consolas,'Courier New',monospace\"></pre>\n"
      ],
      "text/plain": []
     },
     "metadata": {},
     "output_type": "display_data"
    },
    {
     "data": {
      "text/plain": [
       "╭──────────────────────────────────────────────────── Filings ────────────────────────────────────────────────────╮\n",
       "│                                                                                                                 │\n",
       "│  \u001b[1m \u001b[0m\u001b[1m  \u001b[0m\u001b[1m \u001b[0m \u001b[1;38;5;71m \u001b[0m\u001b[1;38;5;71mform  \u001b[0m\u001b[1;38;5;71m \u001b[0m \u001b[1m \u001b[0m\u001b[1mcompany                                       \u001b[0m\u001b[1m \u001b[0m \u001b[1m \u001b[0m\u001b[1mcik    \u001b[0m\u001b[1m \u001b[0m \u001b[1;38;5;39m \u001b[0m\u001b[1;38;5;39mfiling_date\u001b[0m\u001b[1;38;5;39m \u001b[0m \u001b[1m \u001b[0m\u001b[1maccession_number    \u001b[0m\u001b[1m \u001b[0m  │\n",
       "│  ─────────────────────────────────────────────────────────────────────────────────────────────────────────────  │\n",
       "│  \u001b[1m \u001b[0m\u001b[1m0 \u001b[0m\u001b[1m \u001b[0m \u001b[1;38;5;71m \u001b[0m\u001b[1;38;5;71mEFFECT\u001b[0m\u001b[1;38;5;71m \u001b[0m \u001b[1m \u001b[0m\u001b[1mADC Therapeutics SA                           \u001b[0m\u001b[1m \u001b[0m \u001b[1m \u001b[0m\u001b[1m1771910\u001b[0m\u001b[1m \u001b[0m \u001b[1;38;5;39m \u001b[0m\u001b[1;38;5;39m2023-03-20 \u001b[0m\u001b[1;38;5;39m \u001b[0m \u001b[1m \u001b[0m\u001b[1m9999999995-23-000608\u001b[0m\u001b[1m \u001b[0m  │\n",
       "│   1   \u001b[38;5;71m \u001b[0m\u001b[38;5;71mEFFECT\u001b[0m\u001b[38;5;71m \u001b[0m  Eterna Therapeutics Inc.                         748592   \u001b[38;5;39m \u001b[0m\u001b[38;5;39m2023-03-20 \u001b[0m\u001b[38;5;39m \u001b[0m  9999999995-23-000609   │\n",
       "│  \u001b[1m \u001b[0m\u001b[1m2 \u001b[0m\u001b[1m \u001b[0m \u001b[1;38;5;71m \u001b[0m\u001b[1;38;5;71mEFFECT\u001b[0m\u001b[1;38;5;71m \u001b[0m \u001b[1m \u001b[0m\u001b[1mHomeTrust Bancshares, Inc.                    \u001b[0m\u001b[1m \u001b[0m \u001b[1m \u001b[0m\u001b[1m1538263\u001b[0m\u001b[1m \u001b[0m \u001b[1;38;5;39m \u001b[0m\u001b[1;38;5;39m2023-03-20 \u001b[0m\u001b[1;38;5;39m \u001b[0m \u001b[1m \u001b[0m\u001b[1m9999999995-23-000612\u001b[0m\u001b[1m \u001b[0m  │\n",
       "│   3   \u001b[38;5;71m \u001b[0m\u001b[38;5;71mEFFECT\u001b[0m\u001b[38;5;71m \u001b[0m  MANGOCEUTICALS, INC.                             1938046  \u001b[38;5;39m \u001b[0m\u001b[38;5;39m2023-03-20 \u001b[0m\u001b[38;5;39m \u001b[0m  9999999995-23-000610   │\n",
       "│  \u001b[1m \u001b[0m\u001b[1m4 \u001b[0m\u001b[1m \u001b[0m \u001b[1;38;5;71m \u001b[0m\u001b[1;38;5;71mEFFECT\u001b[0m\u001b[1;38;5;71m \u001b[0m \u001b[1m \u001b[0m\u001b[1mWLKP Finance Corp.                            \u001b[0m\u001b[1m \u001b[0m \u001b[1m \u001b[0m\u001b[1m1698982\u001b[0m\u001b[1m \u001b[0m \u001b[1;38;5;39m \u001b[0m\u001b[1;38;5;39m2023-03-20 \u001b[0m\u001b[1;38;5;39m \u001b[0m \u001b[1m \u001b[0m\u001b[1m9999999995-23-000611\u001b[0m\u001b[1m \u001b[0m  │\n",
       "│   5   \u001b[38;5;71m \u001b[0m\u001b[38;5;71mEFFECT\u001b[0m\u001b[38;5;71m \u001b[0m  Westlake Chemical Partners LP                    1604665  \u001b[38;5;39m \u001b[0m\u001b[38;5;39m2023-03-20 \u001b[0m\u001b[38;5;39m \u001b[0m  9999999995-23-000611   │\n",
       "│  \u001b[1m \u001b[0m\u001b[1m6 \u001b[0m\u001b[1m \u001b[0m \u001b[1;38;5;71m \u001b[0m\u001b[1;38;5;71mEFFECT\u001b[0m\u001b[1;38;5;71m \u001b[0m \u001b[1m \u001b[0m\u001b[1mCalithera Biosciences, Inc.                   \u001b[0m\u001b[1m \u001b[0m \u001b[1m \u001b[0m\u001b[1m1496671\u001b[0m\u001b[1m \u001b[0m \u001b[1;38;5;39m \u001b[0m\u001b[1;38;5;39m2023-03-17 \u001b[0m\u001b[1;38;5;39m \u001b[0m \u001b[1m \u001b[0m\u001b[1m9999999995-23-000597\u001b[0m\u001b[1m \u001b[0m  │\n",
       "│   7   \u001b[38;5;71m \u001b[0m\u001b[38;5;71mEFFECT\u001b[0m\u001b[38;5;71m \u001b[0m  CompoSecure, Inc.                                1823144  \u001b[38;5;39m \u001b[0m\u001b[38;5;39m2023-03-17 \u001b[0m\u001b[38;5;39m \u001b[0m  9999999995-23-000598   │\n",
       "│  \u001b[1m \u001b[0m\u001b[1m8 \u001b[0m\u001b[1m \u001b[0m \u001b[1;38;5;71m \u001b[0m\u001b[1;38;5;71mEFFECT\u001b[0m\u001b[1;38;5;71m \u001b[0m \u001b[1m \u001b[0m\u001b[1mGH Research PLC                               \u001b[0m\u001b[1m \u001b[0m \u001b[1m \u001b[0m\u001b[1m1855129\u001b[0m\u001b[1m \u001b[0m \u001b[1;38;5;39m \u001b[0m\u001b[1;38;5;39m2023-03-17 \u001b[0m\u001b[1;38;5;39m \u001b[0m \u001b[1m \u001b[0m\u001b[1m9999999995-23-000607\u001b[0m\u001b[1m \u001b[0m  │\n",
       "│   9   \u001b[38;5;71m \u001b[0m\u001b[38;5;71mEFFECT\u001b[0m\u001b[38;5;71m \u001b[0m  Getty Images Holdings, Inc.                      1898496  \u001b[38;5;39m \u001b[0m\u001b[38;5;39m2023-03-17 \u001b[0m\u001b[38;5;39m \u001b[0m  9999999995-23-000599   │\n",
       "│  \u001b[1m \u001b[0m\u001b[1m10\u001b[0m\u001b[1m \u001b[0m \u001b[1;38;5;71m \u001b[0m\u001b[1;38;5;71mEFFECT\u001b[0m\u001b[1;38;5;71m \u001b[0m \u001b[1m \u001b[0m\u001b[1mHomology Medicines, Inc.                      \u001b[0m\u001b[1m \u001b[0m \u001b[1m \u001b[0m\u001b[1m1661998\u001b[0m\u001b[1m \u001b[0m \u001b[1;38;5;39m \u001b[0m\u001b[1;38;5;39m2023-03-17 \u001b[0m\u001b[1;38;5;39m \u001b[0m \u001b[1m \u001b[0m\u001b[1m9999999995-23-000606\u001b[0m\u001b[1m \u001b[0m  │\n",
       "│   11  \u001b[38;5;71m \u001b[0m\u001b[38;5;71mEFFECT\u001b[0m\u001b[38;5;71m \u001b[0m  NORTHERN LIGHTS FUND TRUST II                    1518042  \u001b[38;5;39m \u001b[0m\u001b[38;5;39m2023-03-17 \u001b[0m\u001b[38;5;39m \u001b[0m  9999999995-23-000603   │\n",
       "│  \u001b[1m \u001b[0m\u001b[1m12\u001b[0m\u001b[1m \u001b[0m \u001b[1;38;5;71m \u001b[0m\u001b[1;38;5;71mEFFECT\u001b[0m\u001b[1;38;5;71m \u001b[0m \u001b[1m \u001b[0m\u001b[1mQuoin Pharmaceuticals, Ltd.                   \u001b[0m\u001b[1m \u001b[0m \u001b[1m \u001b[0m\u001b[1m1671502\u001b[0m\u001b[1m \u001b[0m \u001b[1;38;5;39m \u001b[0m\u001b[1;38;5;39m2023-03-17 \u001b[0m\u001b[1;38;5;39m \u001b[0m \u001b[1m \u001b[0m\u001b[1m9999999995-23-000604\u001b[0m\u001b[1m \u001b[0m  │\n",
       "│   13  \u001b[38;5;71m \u001b[0m\u001b[38;5;71mEFFECT\u001b[0m\u001b[38;5;71m \u001b[0m  RingCentral, Inc.                                1384905  \u001b[38;5;39m \u001b[0m\u001b[38;5;39m2023-03-17 \u001b[0m\u001b[38;5;39m \u001b[0m  9999999995-23-000605   │\n",
       "│  \u001b[1m \u001b[0m\u001b[1m14\u001b[0m\u001b[1m \u001b[0m \u001b[1;38;5;71m \u001b[0m\u001b[1;38;5;71mEFFECT\u001b[0m\u001b[1;38;5;71m \u001b[0m \u001b[1m \u001b[0m\u001b[1mScilex Holding Co                             \u001b[0m\u001b[1m \u001b[0m \u001b[1m \u001b[0m\u001b[1m1820190\u001b[0m\u001b[1m \u001b[0m \u001b[1;38;5;39m \u001b[0m\u001b[1;38;5;39m2023-03-17 \u001b[0m\u001b[1;38;5;39m \u001b[0m \u001b[1m \u001b[0m\u001b[1m9999999995-23-000600\u001b[0m\u001b[1m \u001b[0m  │\n",
       "│   15  \u001b[38;5;71m \u001b[0m\u001b[38;5;71mEFFECT\u001b[0m\u001b[38;5;71m \u001b[0m  Scilex Holding Co                                1820190  \u001b[38;5;39m \u001b[0m\u001b[38;5;39m2023-03-17 \u001b[0m\u001b[38;5;39m \u001b[0m  9999999995-23-000601   │\n",
       "│  \u001b[1m \u001b[0m\u001b[1m16\u001b[0m\u001b[1m \u001b[0m \u001b[1;38;5;71m \u001b[0m\u001b[1;38;5;71mEFFECT\u001b[0m\u001b[1;38;5;71m \u001b[0m \u001b[1m \u001b[0m\u001b[1mZapp Electric Vehicles Group Ltd              \u001b[0m\u001b[1m \u001b[0m \u001b[1m \u001b[0m\u001b[1m1955104\u001b[0m\u001b[1m \u001b[0m \u001b[1;38;5;39m \u001b[0m\u001b[1;38;5;39m2023-03-17 \u001b[0m\u001b[1;38;5;39m \u001b[0m \u001b[1m \u001b[0m\u001b[1m9999999995-23-000602\u001b[0m\u001b[1m \u001b[0m  │\n",
       "│   17  \u001b[38;5;71m \u001b[0m\u001b[38;5;71mEFFECT\u001b[0m\u001b[38;5;71m \u001b[0m  AMERICA MOVIL SAB DE CV/                         1129137  \u001b[38;5;39m \u001b[0m\u001b[38;5;39m2023-03-16 \u001b[0m\u001b[38;5;39m \u001b[0m  9999999995-23-000593   │\n",
       "│  \u001b[1m \u001b[0m\u001b[1m18\u001b[0m\u001b[1m \u001b[0m \u001b[1;38;5;71m \u001b[0m\u001b[1;38;5;71mEFFECT\u001b[0m\u001b[1;38;5;71m \u001b[0m \u001b[1m \u001b[0m\u001b[1mAdTheorent Holding Company, Inc.              \u001b[0m\u001b[1m \u001b[0m \u001b[1m \u001b[0m\u001b[1m1838672\u001b[0m\u001b[1m \u001b[0m \u001b[1;38;5;39m \u001b[0m\u001b[1;38;5;39m2023-03-16 \u001b[0m\u001b[1;38;5;39m \u001b[0m \u001b[1m \u001b[0m\u001b[1m9999999995-23-000588\u001b[0m\u001b[1m \u001b[0m  │\n",
       "│   19  \u001b[38;5;71m \u001b[0m\u001b[38;5;71mEFFECT\u001b[0m\u001b[38;5;71m \u001b[0m  Alvotech                                         1898416  \u001b[38;5;39m \u001b[0m\u001b[38;5;39m2023-03-16 \u001b[0m\u001b[38;5;39m \u001b[0m  9999999995-23-000590   │\n",
       "│  \u001b[1m \u001b[0m\u001b[1m20\u001b[0m\u001b[1m \u001b[0m \u001b[1;38;5;71m \u001b[0m\u001b[1;38;5;71mEFFECT\u001b[0m\u001b[1;38;5;71m \u001b[0m \u001b[1m \u001b[0m\u001b[1mBRIGHTHOUSE LIFE INSURANCE Co                 \u001b[0m\u001b[1m \u001b[0m \u001b[1m \u001b[0m\u001b[1m733076 \u001b[0m\u001b[1m \u001b[0m \u001b[1;38;5;39m \u001b[0m\u001b[1;38;5;39m2023-03-16 \u001b[0m\u001b[1;38;5;39m \u001b[0m \u001b[1m \u001b[0m\u001b[1m9999999995-23-000592\u001b[0m\u001b[1m \u001b[0m  │\n",
       "│   21  \u001b[38;5;71m \u001b[0m\u001b[38;5;71mEFFECT\u001b[0m\u001b[38;5;71m \u001b[0m  Blue Water Vaccines Inc.                         1782107  \u001b[38;5;39m \u001b[0m\u001b[38;5;39m2023-03-16 \u001b[0m\u001b[38;5;39m \u001b[0m  9999999995-23-000596   │\n",
       "│  \u001b[1m \u001b[0m\u001b[1m22\u001b[0m\u001b[1m \u001b[0m \u001b[1;38;5;71m \u001b[0m\u001b[1;38;5;71mEFFECT\u001b[0m\u001b[1;38;5;71m \u001b[0m \u001b[1m \u001b[0m\u001b[1mDermata Therapeutics, Inc.                    \u001b[0m\u001b[1m \u001b[0m \u001b[1m \u001b[0m\u001b[1m1853816\u001b[0m\u001b[1m \u001b[0m \u001b[1;38;5;39m \u001b[0m\u001b[1;38;5;39m2023-03-16 \u001b[0m\u001b[1;38;5;39m \u001b[0m \u001b[1m \u001b[0m\u001b[1m9999999995-23-000594\u001b[0m\u001b[1m \u001b[0m  │\n",
       "│   23  \u001b[38;5;71m \u001b[0m\u001b[38;5;71mEFFECT\u001b[0m\u001b[38;5;71m \u001b[0m  Four Leaf Acquisition Corp                       1936255  \u001b[38;5;39m \u001b[0m\u001b[38;5;39m2023-03-16 \u001b[0m\u001b[38;5;39m \u001b[0m  9999999995-23-000591   │\n",
       "│  \u001b[1m \u001b[0m\u001b[1m24\u001b[0m\u001b[1m \u001b[0m \u001b[1;38;5;71m \u001b[0m\u001b[1;38;5;71mEFFECT\u001b[0m\u001b[1;38;5;71m \u001b[0m \u001b[1m \u001b[0m\u001b[1mMaris Tech Ltd.                               \u001b[0m\u001b[1m \u001b[0m \u001b[1m \u001b[0m\u001b[1m1872964\u001b[0m\u001b[1m \u001b[0m \u001b[1;38;5;39m \u001b[0m\u001b[1;38;5;39m2023-03-16 \u001b[0m\u001b[1;38;5;39m \u001b[0m \u001b[1m \u001b[0m\u001b[1m9999999995-23-000595\u001b[0m\u001b[1m \u001b[0m  │\n",
       "│   25  \u001b[38;5;71m \u001b[0m\u001b[38;5;71mEFFECT\u001b[0m\u001b[38;5;71m \u001b[0m  Myovant Sciences Ltd.                            1679082  \u001b[38;5;39m \u001b[0m\u001b[38;5;39m2023-03-16 \u001b[0m\u001b[38;5;39m \u001b[0m  9999999995-23-000586   │\n",
       "│  \u001b[1m \u001b[0m\u001b[1m26\u001b[0m\u001b[1m \u001b[0m \u001b[1;38;5;71m \u001b[0m\u001b[1;38;5;71mEFFECT\u001b[0m\u001b[1;38;5;71m \u001b[0m \u001b[1m \u001b[0m\u001b[1mMyovant Sciences Ltd.                         \u001b[0m\u001b[1m \u001b[0m \u001b[1m \u001b[0m\u001b[1m1679082\u001b[0m\u001b[1m \u001b[0m \u001b[1;38;5;39m \u001b[0m\u001b[1;38;5;39m2023-03-16 \u001b[0m\u001b[1;38;5;39m \u001b[0m \u001b[1m \u001b[0m\u001b[1m9999999995-23-000587\u001b[0m\u001b[1m \u001b[0m  │\n",
       "│   27  \u001b[38;5;71m \u001b[0m\u001b[38;5;71mEFFECT\u001b[0m\u001b[38;5;71m \u001b[0m  eFFECTOR Therapeutics, Inc.                      1828522  \u001b[38;5;39m \u001b[0m\u001b[38;5;39m2023-03-16 \u001b[0m\u001b[38;5;39m \u001b[0m  9999999995-23-000589   │\n",
       "│  \u001b[1m \u001b[0m\u001b[1m28\u001b[0m\u001b[1m \u001b[0m \u001b[1;38;5;71m \u001b[0m\u001b[1;38;5;71mEFFECT\u001b[0m\u001b[1;38;5;71m \u001b[0m \u001b[1m \u001b[0m\u001b[1mGLAXOSMITHKLINE CAPITAL INC                   \u001b[0m\u001b[1m \u001b[0m \u001b[1m \u001b[0m\u001b[1m1224462\u001b[0m\u001b[1m \u001b[0m \u001b[1;38;5;39m \u001b[0m\u001b[1;38;5;39m2023-03-15 \u001b[0m\u001b[1;38;5;39m \u001b[0m \u001b[1m \u001b[0m\u001b[1m9999999995-23-000582\u001b[0m\u001b[1m \u001b[0m  │\n",
       "│   29  \u001b[38;5;71m \u001b[0m\u001b[38;5;71mEFFECT\u001b[0m\u001b[38;5;71m \u001b[0m  GLAXOSMITHKLINE CAPITAL PLC                      1224544  \u001b[38;5;39m \u001b[0m\u001b[38;5;39m2023-03-15 \u001b[0m\u001b[38;5;39m \u001b[0m  9999999995-23-000582   │\n",
       "│  \u001b[1m \u001b[0m\u001b[1m30\u001b[0m\u001b[1m \u001b[0m \u001b[1;38;5;71m \u001b[0m\u001b[1;38;5;71mEFFECT\u001b[0m\u001b[1;38;5;71m \u001b[0m \u001b[1m \u001b[0m\u001b[1mGSK PLC                                       \u001b[0m\u001b[1m \u001b[0m \u001b[1m \u001b[0m\u001b[1m1131399\u001b[0m\u001b[1m \u001b[0m \u001b[1;38;5;39m \u001b[0m\u001b[1;38;5;39m2023-03-15 \u001b[0m\u001b[1;38;5;39m \u001b[0m \u001b[1m \u001b[0m\u001b[1m9999999995-23-000582\u001b[0m\u001b[1m \u001b[0m  │\n",
       "│   31  \u001b[38;5;71m \u001b[0m\u001b[38;5;71mEFFECT\u001b[0m\u001b[38;5;71m \u001b[0m  Intchains Group Ltd                              1895597  \u001b[38;5;39m \u001b[0m\u001b[38;5;39m2023-03-15 \u001b[0m\u001b[38;5;39m \u001b[0m  9999999995-23-000584   │\n",
       "│  \u001b[1m \u001b[0m\u001b[1m32\u001b[0m\u001b[1m \u001b[0m \u001b[1;38;5;71m \u001b[0m\u001b[1;38;5;71mEFFECT\u001b[0m\u001b[1;38;5;71m \u001b[0m \u001b[1m \u001b[0m\u001b[1mIntchains Group Ltd                           \u001b[0m\u001b[1m \u001b[0m \u001b[1m \u001b[0m\u001b[1m1895597\u001b[0m\u001b[1m \u001b[0m \u001b[1;38;5;39m \u001b[0m\u001b[1;38;5;39m2023-03-15 \u001b[0m\u001b[1;38;5;39m \u001b[0m \u001b[1m \u001b[0m\u001b[1m9999999995-23-000585\u001b[0m\u001b[1m \u001b[0m  │\n",
       "│   33  \u001b[38;5;71m \u001b[0m\u001b[38;5;71mEFFECT\u001b[0m\u001b[38;5;71m \u001b[0m  SciSparc Ltd.                                    1611746  \u001b[38;5;39m \u001b[0m\u001b[38;5;39m2023-03-15 \u001b[0m\u001b[38;5;39m \u001b[0m  9999999995-23-000583   │\n",
       "│  \u001b[1m \u001b[0m\u001b[1m34\u001b[0m\u001b[1m \u001b[0m \u001b[1;38;5;71m \u001b[0m\u001b[1;38;5;71mEFFECT\u001b[0m\u001b[1;38;5;71m \u001b[0m \u001b[1m \u001b[0m\u001b[1mFT 10610                                      \u001b[0m\u001b[1m \u001b[0m \u001b[1m \u001b[0m\u001b[1m1956542\u001b[0m\u001b[1m \u001b[0m \u001b[1;38;5;39m \u001b[0m\u001b[1;38;5;39m2023-03-14 \u001b[0m\u001b[1;38;5;39m \u001b[0m \u001b[1m \u001b[0m\u001b[1m9999999995-23-000579\u001b[0m\u001b[1m \u001b[0m  │\n",
       "│   35  \u001b[38;5;71m \u001b[0m\u001b[38;5;71mEFFECT\u001b[0m\u001b[38;5;71m \u001b[0m  FT 10638                                         1959264  \u001b[38;5;39m \u001b[0m\u001b[38;5;39m2023-03-14 \u001b[0m\u001b[38;5;39m \u001b[0m  9999999995-23-000580   │\n",
       "│  \u001b[1m \u001b[0m\u001b[1m36\u001b[0m\u001b[1m \u001b[0m \u001b[1;38;5;71m \u001b[0m\u001b[1;38;5;71mEFFECT\u001b[0m\u001b[1;38;5;71m \u001b[0m \u001b[1m \u001b[0m\u001b[1mICZOOM Group Inc.                             \u001b[0m\u001b[1m \u001b[0m \u001b[1m \u001b[0m\u001b[1m1854572\u001b[0m\u001b[1m \u001b[0m \u001b[1;38;5;39m \u001b[0m\u001b[1;38;5;39m2023-03-14 \u001b[0m\u001b[1;38;5;39m \u001b[0m \u001b[1m \u001b[0m\u001b[1m9999999995-23-000577\u001b[0m\u001b[1m \u001b[0m  │\n",
       "│   37  \u001b[38;5;71m \u001b[0m\u001b[38;5;71mEFFECT\u001b[0m\u001b[38;5;71m \u001b[0m  Kala Pharmaceuticals, Inc.                       1479419  \u001b[38;5;39m \u001b[0m\u001b[38;5;39m2023-03-14 \u001b[0m\u001b[38;5;39m \u001b[0m  9999999995-23-000581   │\n",
       "│  \u001b[1m \u001b[0m\u001b[1m38\u001b[0m\u001b[1m \u001b[0m \u001b[1;38;5;71m \u001b[0m\u001b[1;38;5;71mEFFECT\u001b[0m\u001b[1;38;5;71m \u001b[0m \u001b[1m \u001b[0m\u001b[1mNEUBERGER BERMAN REAL ESTATE SECURITIES INCOME\u001b[0m\u001b[1m \u001b[0m \u001b[1m \u001b[0m\u001b[1m1261166\u001b[0m\u001b[1m \u001b[0m \u001b[1;38;5;39m \u001b[0m\u001b[1;38;5;39m2023-03-14 \u001b[0m\u001b[1;38;5;39m \u001b[0m \u001b[1m \u001b[0m\u001b[1m9999999995-23-000578\u001b[0m\u001b[1m \u001b[0m  │\n",
       "│  \u001b[1m    \u001b[0m \u001b[1;38;5;71m        \u001b[0m \u001b[1m \u001b[0m\u001b[1mFUND INC                                      \u001b[0m\u001b[1m \u001b[0m \u001b[1m         \u001b[0m \u001b[1;38;5;39m             \u001b[0m \u001b[1m                      \u001b[0m  │\n",
       "│   39  \u001b[38;5;71m \u001b[0m\u001b[38;5;71mEFFECT\u001b[0m\u001b[38;5;71m \u001b[0m  Rubicon Technology, Inc.                         1410172  \u001b[38;5;39m \u001b[0m\u001b[38;5;39m2023-03-14 \u001b[0m\u001b[38;5;39m \u001b[0m  9999999995-23-000573   │\n",
       "│  \u001b[1m \u001b[0m\u001b[1m40\u001b[0m\u001b[1m \u001b[0m \u001b[1;38;5;71m \u001b[0m\u001b[1;38;5;71mEFFECT\u001b[0m\u001b[1;38;5;71m \u001b[0m \u001b[1m \u001b[0m\u001b[1mVivint Smart Home, Inc.                       \u001b[0m\u001b[1m \u001b[0m \u001b[1m \u001b[0m\u001b[1m1713952\u001b[0m\u001b[1m \u001b[0m \u001b[1;38;5;39m \u001b[0m\u001b[1;38;5;39m2023-03-14 \u001b[0m\u001b[1;38;5;39m \u001b[0m \u001b[1m \u001b[0m\u001b[1m9999999995-23-000576\u001b[0m\u001b[1m \u001b[0m  │\n",
       "│   41  \u001b[38;5;71m \u001b[0m\u001b[38;5;71mEFFECT\u001b[0m\u001b[38;5;71m \u001b[0m  Airsculpt Technologies, Inc.                     1870940  \u001b[38;5;39m \u001b[0m\u001b[38;5;39m2023-03-13 \u001b[0m\u001b[38;5;39m \u001b[0m  9999999995-23-000570   │\n",
       "│  \u001b[1m \u001b[0m\u001b[1m42\u001b[0m\u001b[1m \u001b[0m \u001b[1;38;5;71m \u001b[0m\u001b[1;38;5;71mEFFECT\u001b[0m\u001b[1;38;5;71m \u001b[0m \u001b[1m \u001b[0m\u001b[1mCONCERT PHARMACEUTICALS, INC.                 \u001b[0m\u001b[1m \u001b[0m \u001b[1m \u001b[0m\u001b[1m1367920\u001b[0m\u001b[1m \u001b[0m \u001b[1;38;5;39m \u001b[0m\u001b[1;38;5;39m2023-03-13 \u001b[0m\u001b[1;38;5;39m \u001b[0m \u001b[1m \u001b[0m\u001b[1m9999999995-23-000557\u001b[0m\u001b[1m \u001b[0m  │\n",
       "│   43  \u001b[38;5;71m \u001b[0m\u001b[38;5;71mEFFECT\u001b[0m\u001b[38;5;71m \u001b[0m  CONCERT PHARMACEUTICALS, INC.                    1367920  \u001b[38;5;39m \u001b[0m\u001b[38;5;39m2023-03-13 \u001b[0m\u001b[38;5;39m \u001b[0m  9999999995-23-000559   │\n",
       "│  \u001b[1m \u001b[0m\u001b[1m44\u001b[0m\u001b[1m \u001b[0m \u001b[1;38;5;71m \u001b[0m\u001b[1;38;5;71mEFFECT\u001b[0m\u001b[1;38;5;71m \u001b[0m \u001b[1m \u001b[0m\u001b[1mCONCERT PHARMACEUTICALS, INC.                 \u001b[0m\u001b[1m \u001b[0m \u001b[1m \u001b[0m\u001b[1m1367920\u001b[0m\u001b[1m \u001b[0m \u001b[1;38;5;39m \u001b[0m\u001b[1;38;5;39m2023-03-13 \u001b[0m\u001b[1;38;5;39m \u001b[0m \u001b[1m \u001b[0m\u001b[1m9999999995-23-000562\u001b[0m\u001b[1m \u001b[0m  │\n",
       "│   45  \u001b[38;5;71m \u001b[0m\u001b[38;5;71mEFFECT\u001b[0m\u001b[38;5;71m \u001b[0m  CONCERT PHARMACEUTICALS, INC.                    1367920  \u001b[38;5;39m \u001b[0m\u001b[38;5;39m2023-03-13 \u001b[0m\u001b[38;5;39m \u001b[0m  9999999995-23-000566   │\n",
       "│  \u001b[1m \u001b[0m\u001b[1m46\u001b[0m\u001b[1m \u001b[0m \u001b[1;38;5;71m \u001b[0m\u001b[1;38;5;71mEFFECT\u001b[0m\u001b[1;38;5;71m \u001b[0m \u001b[1m \u001b[0m\u001b[1mF-star Therapeutics, Inc.                     \u001b[0m\u001b[1m \u001b[0m \u001b[1m \u001b[0m\u001b[1m1566373\u001b[0m\u001b[1m \u001b[0m \u001b[1;38;5;39m \u001b[0m\u001b[1;38;5;39m2023-03-13 \u001b[0m\u001b[1;38;5;39m \u001b[0m \u001b[1m \u001b[0m\u001b[1m9999999995-23-000558\u001b[0m\u001b[1m \u001b[0m  │\n",
       "│   47  \u001b[38;5;71m \u001b[0m\u001b[38;5;71mEFFECT\u001b[0m\u001b[38;5;71m \u001b[0m  F-star Therapeutics, Inc.                        1566373  \u001b[38;5;39m \u001b[0m\u001b[38;5;39m2023-03-13 \u001b[0m\u001b[38;5;39m \u001b[0m  9999999995-23-000560   │\n",
       "│  \u001b[1m \u001b[0m\u001b[1m48\u001b[0m\u001b[1m \u001b[0m \u001b[1;38;5;71m \u001b[0m\u001b[1;38;5;71mEFFECT\u001b[0m\u001b[1;38;5;71m \u001b[0m \u001b[1m \u001b[0m\u001b[1mF-star Therapeutics, Inc.                     \u001b[0m\u001b[1m \u001b[0m \u001b[1m \u001b[0m\u001b[1m1566373\u001b[0m\u001b[1m \u001b[0m \u001b[1;38;5;39m \u001b[0m\u001b[1;38;5;39m2023-03-13 \u001b[0m\u001b[1;38;5;39m \u001b[0m \u001b[1m \u001b[0m\u001b[1m9999999995-23-000561\u001b[0m\u001b[1m \u001b[0m  │\n",
       "│   49  \u001b[38;5;71m \u001b[0m\u001b[38;5;71mEFFECT\u001b[0m\u001b[38;5;71m \u001b[0m  F-star Therapeutics, Inc.                        1566373  \u001b[38;5;39m \u001b[0m\u001b[38;5;39m2023-03-13 \u001b[0m\u001b[38;5;39m \u001b[0m  9999999995-23-000563   │\n",
       "│                                                                                                                 │\n",
       "│ Showing 50 of 675 filings                                                                                       │\n",
       "╰─────────────────────────────────────────────────────────────────────────────────────────────────────────────────╯"
      ]
     },
     "execution_count": 25,
     "metadata": {},
     "output_type": "execute_result"
    }
   ],
   "source": [
    "effect_filings = get_filings(form=\"EFFECT\")\n",
    "effect_filings"
   ]
  },
  {
   "cell_type": "markdown",
   "id": "00b4ded1",
   "metadata": {},
   "source": [
    "## Show effect filing"
   ]
  },
  {
   "cell_type": "code",
   "execution_count": 26,
   "id": "37ce8b75",
   "metadata": {},
   "outputs": [
    {
     "data": {
      "text/html": [
       "<pre style=\"white-space:pre;overflow-x:auto;line-height:normal;font-family:Menlo,'DejaVu Sans Mono',consolas,'Courier New',monospace\"></pre>\n"
      ],
      "text/plain": []
     },
     "metadata": {},
     "output_type": "display_data"
    },
    {
     "data": {
      "text/plain": [
       "\u001b[1mEFFECT filing\u001b[0m\n",
       "                                                                               \n",
       " \u001b[1m \u001b[0m\u001b[1maccession_no        \u001b[0m\u001b[1m \u001b[0m \u001b[1;38;5;71m \u001b[0m\u001b[1;38;5;71mform  \u001b[0m\u001b[1;38;5;71m \u001b[0m \u001b[1m \u001b[0m\u001b[1mcompany            \u001b[0m\u001b[1m \u001b[0m \u001b[1m \u001b[0m\u001b[1mcik    \u001b[0m\u001b[1m \u001b[0m \u001b[1;38;5;39m \u001b[0m\u001b[1;38;5;39mfiling_date\u001b[0m\u001b[1;38;5;39m \u001b[0m \n",
       " ───────────────────────────────────────────────────────────────────────────── \n",
       " \u001b[1m \u001b[0m\u001b[1m9999999995-23-000608\u001b[0m\u001b[1m \u001b[0m \u001b[1;38;5;71m \u001b[0m\u001b[1;38;5;71mEFFECT\u001b[0m\u001b[1;38;5;71m \u001b[0m \u001b[1m \u001b[0m\u001b[1mADC Therapeutics SA\u001b[0m\u001b[1m \u001b[0m \u001b[1m \u001b[0m\u001b[1m1771910\u001b[0m\u001b[1m \u001b[0m \u001b[1;38;5;39m \u001b[0m\u001b[1;38;5;39m2023-03-20 \u001b[0m\u001b[1;38;5;39m \u001b[0m \n",
       "                                                                               "
      ]
     },
     "execution_count": 26,
     "metadata": {},
     "output_type": "execute_result"
    }
   ],
   "source": [
    "effect_filing = effect_filings[0]\n",
    "effect_filing"
   ]
  },
  {
   "cell_type": "markdown",
   "id": "ea77bbaa",
   "metadata": {},
   "source": [
    "## Effect class"
   ]
  },
  {
   "cell_type": "code",
   "execution_count": 27,
   "id": "e3e94295",
   "metadata": {},
   "outputs": [
    {
     "data": {
      "text/html": [
       "<pre style=\"white-space:pre;overflow-x:auto;line-height:normal;font-family:Menlo,'DejaVu Sans Mono',consolas,'Courier New',monospace\"></pre>\n"
      ],
      "text/plain": []
     },
     "metadata": {},
     "output_type": "display_data"
    },
    {
     "data": {
      "text/plain": [
       "\u001b[1mEFFECT filing for form POS AM filing\u001b[0m\n",
       "                                                                 \n",
       " \u001b[1m \u001b[0m\u001b[1mentity             \u001b[0m\u001b[1m \u001b[0m \u001b[1m \u001b[0m\u001b[1mcik       \u001b[0m\u001b[1m \u001b[0m \u001b[1m \u001b[0m\u001b[1msource\u001b[0m\u001b[1m \u001b[0m \u001b[1m \u001b[0m\u001b[1mlive\u001b[0m\u001b[1m \u001b[0m \u001b[1m \u001b[0m\u001b[1meffective \u001b[0m\u001b[1m \u001b[0m \n",
       " ─────────────────────────────────────────────────────────────── \n",
       " \u001b[1m \u001b[0m\u001b[1mADC Therapeutics SA\u001b[0m\u001b[1m \u001b[0m \u001b[1m \u001b[0m\u001b[1m0001771910\u001b[0m\u001b[1m \u001b[0m \u001b[1m \u001b[0m\u001b[1mPOS AM\u001b[0m\u001b[1m \u001b[0m \u001b[1m \u001b[0m\u001b[1mTrue\u001b[0m\u001b[1m \u001b[0m \u001b[1m \u001b[0m\u001b[1m2023-03-20\u001b[0m\u001b[1m \u001b[0m \n",
       "                                                                 "
      ]
     },
     "execution_count": 27,
     "metadata": {},
     "output_type": "execute_result"
    }
   ],
   "source": [
    "Effect.from_xml(effect_filing.xml())"
   ]
  },
  {
   "cell_type": "markdown",
   "id": "96c87b98",
   "metadata": {},
   "source": [
    "# Ownership filings\n",
    "<hr/>"
   ]
  },
  {
   "cell_type": "code",
   "execution_count": 28,
   "id": "77ff20de",
   "metadata": {},
   "outputs": [],
   "source": [
    "ownership_filings = get_filings(form=[\"3\", 4, \"5\"])\n",
    "form_4_filings = ownership_filings.filter(form=\"4\")"
   ]
  },
  {
   "cell_type": "code",
   "execution_count": 29,
   "id": "278e54b1",
   "metadata": {},
   "outputs": [
    {
     "data": {
      "text/html": [
       "<pre style=\"white-space:pre;overflow-x:auto;line-height:normal;font-family:Menlo,'DejaVu Sans Mono',consolas,'Courier New',monospace\"></pre>\n"
      ],
      "text/plain": []
     },
     "metadata": {},
     "output_type": "display_data"
    },
    {
     "data": {
      "text/plain": [
       "\u001b[1m4 filing\u001b[0m\n",
       "                                                                  \n",
       " \u001b[1m \u001b[0m\u001b[1maccession_no        \u001b[0m\u001b[1m \u001b[0m \u001b[1;38;5;71m \u001b[0m\u001b[1;38;5;71mform\u001b[0m\u001b[1;38;5;71m \u001b[0m \u001b[1m \u001b[0m\u001b[1mcompany  \u001b[0m\u001b[1m \u001b[0m \u001b[1m \u001b[0m\u001b[1mcik   \u001b[0m\u001b[1m \u001b[0m \u001b[1;38;5;39m \u001b[0m\u001b[1;38;5;39mfiling_date\u001b[0m\u001b[1;38;5;39m \u001b[0m \n",
       " ──────────────────────────────────────────────────────────────── \n",
       " \u001b[1m \u001b[0m\u001b[1m0000715579-23-000025\u001b[0m\u001b[1m \u001b[0m \u001b[1;38;5;71m \u001b[0m\u001b[1;38;5;71m4   \u001b[0m\u001b[1;38;5;71m \u001b[0m \u001b[1m \u001b[0m\u001b[1mACNB CORP\u001b[0m\u001b[1m \u001b[0m \u001b[1m \u001b[0m\u001b[1m715579\u001b[0m\u001b[1m \u001b[0m \u001b[1;38;5;39m \u001b[0m\u001b[1;38;5;39m2023-03-21 \u001b[0m\u001b[1;38;5;39m \u001b[0m \n",
       "                                                                  "
      ]
     },
     "execution_count": 29,
     "metadata": {},
     "output_type": "execute_result"
    }
   ],
   "source": [
    "form_4_filing = form_4_filings[4]\n",
    "form_4_filing"
   ]
  },
  {
   "cell_type": "markdown",
   "id": "ca878804",
   "metadata": {},
   "source": [
    "## Show Ownership"
   ]
  },
  {
   "cell_type": "code",
   "execution_count": 30,
   "id": "d181bfc5",
   "metadata": {},
   "outputs": [
    {
     "data": {
      "text/html": [
       "<pre style=\"white-space:pre;overflow-x:auto;line-height:normal;font-family:Menlo,'DejaVu Sans Mono',consolas,'Courier New',monospace\"></pre>\n"
      ],
      "text/plain": []
     },
     "metadata": {},
     "output_type": "display_data"
    },
    {
     "data": {
      "text/plain": [
       "╭─────────────────────────────────────────────────────────────────────────────────────────────────────────────────╮\n",
       "│ \u001b[1;38;5;71mForm 4 Changes in beneficial ownership\u001b[0m                                                                          │\n",
       "│                                                                                                                 │\n",
       "│  \u001b[1m \u001b[0m\u001b[1mticker\u001b[0m\u001b[1m \u001b[0m \u001b[1;38;5;39m \u001b[0m\u001b[1;38;5;39missuer   \u001b[0m\u001b[1;38;5;39m \u001b[0m \u001b[1m \u001b[0m\u001b[1mreporting owner\u001b[0m\u001b[1m \u001b[0m \u001b[1m \u001b[0m\u001b[1mperiod    \u001b[0m\u001b[1m \u001b[0m                                                            │\n",
       "│  ───────────────────────────────────────────────────                                                            │\n",
       "│  \u001b[1m \u001b[0m\u001b[1mACNB  \u001b[0m\u001b[1m \u001b[0m \u001b[1;38;5;39m \u001b[0m\u001b[1;38;5;39mACNB CORP\u001b[0m\u001b[1;38;5;39m \u001b[0m \u001b[1m \u001b[0m\u001b[1mHELT JAMES     \u001b[0m\u001b[1m \u001b[0m \u001b[1m \u001b[0m\u001b[1m2023-03-15\u001b[0m\u001b[1m \u001b[0m                                                            │\n",
       "│                                                                                                                 │\n",
       "╰─────────────────────────────────────────────────────────────────────────────────────────────────────────────────╯\n",
       "╭──────────────────────────────────────────────── Non Derivatives ────────────────────────────────────────────────╮\n",
       "│ 0 non derivative holdings                                                                                       │\n",
       "│ \u001b[1mTransactions\u001b[0m                                                                                                    │\n",
       "│                                                                                                                 │\n",
       "│  \u001b[1m \u001b[0m\u001b[1mdate      \u001b[0m\u001b[1m \u001b[0m \u001b[1;38;5;39m \u001b[0m\u001b[1;38;5;39msecurity               \u001b[0m\u001b[1;38;5;39m \u001b[0m \u001b[1m \u001b[0m\u001b[1mshares    \u001b[0m\u001b[1m \u001b[0m \u001b[1m \u001b[0m\u001b[1mremaining \u001b[0m\u001b[1m \u001b[0m \u001b[1m \u001b[0m\u001b[1mprice \u001b[0m\u001b[1m \u001b[0m                                      │\n",
       "│  ─────────────────────────────────────────────────────────────────────────                                      │\n",
       "│  \u001b[1m \u001b[0m\u001b[1m2023-03-15\u001b[0m\u001b[1m \u001b[0m \u001b[1;38;5;39m \u001b[0m\u001b[1;38;5;39mACNB Corporation Common\u001b[0m\u001b[1;38;5;39m \u001b[0m \u001b[1m \u001b[0m\u001b[1m+95.3389  \u001b[0m\u001b[1m \u001b[0m \u001b[1m \u001b[0m\u001b[1m18359.5807\u001b[0m\u001b[1m \u001b[0m \u001b[1m \u001b[0m\u001b[1m31.915\u001b[0m\u001b[1m \u001b[0m                                      │\n",
       "│   2023-03-15  \u001b[38;5;39m \u001b[0m\u001b[38;5;39mACNB Corporation Common\u001b[0m\u001b[38;5;39m \u001b[0m  +9047.4698   27516.6234   31.915                                       │\n",
       "│  \u001b[1m \u001b[0m\u001b[1m2023-03-15\u001b[0m\u001b[1m \u001b[0m \u001b[1;38;5;39m \u001b[0m\u001b[1;38;5;39mACNB Corporation Common\u001b[0m\u001b[1;38;5;39m \u001b[0m \u001b[1m \u001b[0m\u001b[1m-859.2085 \u001b[0m\u001b[1m \u001b[0m \u001b[1m \u001b[0m\u001b[1m26657.4149\u001b[0m\u001b[1m \u001b[0m \u001b[1m \u001b[0m\u001b[1m31.915\u001b[0m\u001b[1m \u001b[0m                                      │\n",
       "│                                                                                                                 │\n",
       "╰─────────────────────────────────────────────────────────────────────────────────────────────────────────────────╯\n",
       "╭────────────────────────────────────────────────── Derivatives ──────────────────────────────────────────────────╮\n",
       "│ 0 derivative holdings                                                                                           │\n",
       "│ 0 derivative transactions                                                                                       │\n",
       "╰─────────────────────────────────────────────────────────────────────────────────────────────────────────────────╯\n",
       "\u001b[1mFootnotes\u001b[0m\n",
       "                                                                                                                   \n",
       " \u001b[1m \u001b[0m\u001b[1mid\u001b[0m\u001b[1m \u001b[0m \u001b[1m \u001b[0m\u001b[1mfootnote                                                                                                  \u001b[0m\u001b[1m \u001b[0m \n",
       " ───────────────────────────────────────────────────────────────────────────────────────────────────────────────── \n",
       " \u001b[1m \u001b[0m\u001b[1mF1\u001b[0m\u001b[1m \u001b[0m \u001b[1m \u001b[0m\u001b[1mThe date of execution was determined in accordance with SEC Rule 16a-3(g)(2) and (g)(4).                  \u001b[0m\u001b[1m \u001b[0m \n",
       "  F2   This amount includes shares of common stock purchased for the same transaction date through the automatic   \n",
       "       reinvestment of dividends under the ACNB Corporation Dividend Reinvestment and Stock Purchase Plan, which   \n",
       "       are exempt from the reporting requirements of Section 16 of the Securities Exchange Act of 1934.            \n",
       " \u001b[1m \u001b[0m\u001b[1mF3\u001b[0m\u001b[1m \u001b[0m \u001b[1m \u001b[0m\u001b[1mOne-third (1/3) of this Variable Equity Award, granted in the form of restricted stock under the ACNB Bank\u001b[0m\u001b[1m \u001b[0m \n",
       " \u001b[1m    \u001b[0m \u001b[1m \u001b[0m\u001b[1mVariable Compensation Plan and pursuant to the ACNB Corporation 2018 Omnibus Stock Incentive Plan, is 100%\u001b[0m\u001b[1m \u001b[0m \n",
       " \u001b[1m    \u001b[0m \u001b[1m \u001b[0m\u001b[1mvested as of the Grant Date of March 15, 2023, with the next one-third (1/3) 100% vested as of January 1, \u001b[0m\u001b[1m \u001b[0m \n",
       " \u001b[1m    \u001b[0m \u001b[1m \u001b[0m\u001b[1m2024, and the final one-third (1/3) 100% vested as of January 1, 2025.                                    \u001b[0m\u001b[1m \u001b[0m \n",
       "  F4   This amount is in payment of the tax liability, by withholding of securities, on the first one-third (1/3)  \n",
       "       vested as of the Grant Date of March 15, 2023, in accordance with SEC Rule 16b-3.                           \n",
       "                                                                                                                   "
      ]
     },
     "execution_count": 30,
     "metadata": {},
     "output_type": "execute_result"
    }
   ],
   "source": [
    "Ownership.from_xml(form_4_filing.xml())"
   ]
  },
  {
   "cell_type": "markdown",
   "id": "411b7135",
   "metadata": {},
   "source": [
    "# Fund Filings\n",
    "\n",
    "<hr/>"
   ]
  },
  {
   "cell_type": "code",
   "execution_count": 31,
   "id": "97cc7167",
   "metadata": {},
   "outputs": [
    {
     "data": {
      "text/html": [
       "<pre style=\"white-space:pre;overflow-x:auto;line-height:normal;font-family:Menlo,'DejaVu Sans Mono',consolas,'Courier New',monospace\"></pre>\n"
      ],
      "text/plain": []
     },
     "metadata": {},
     "output_type": "display_data"
    },
    {
     "data": {
      "text/plain": [
       "╭──────────────────────────────────────────────────── Filings ────────────────────────────────────────────────────╮\n",
       "│                                                                                                                 │\n",
       "│  \u001b[1m \u001b[0m\u001b[1m  \u001b[0m\u001b[1m \u001b[0m \u001b[1;38;5;71m \u001b[0m\u001b[1;38;5;71mform   \u001b[0m\u001b[1;38;5;71m \u001b[0m \u001b[1m \u001b[0m\u001b[1mcompany                                      \u001b[0m\u001b[1m \u001b[0m \u001b[1m \u001b[0m\u001b[1mcik    \u001b[0m\u001b[1m \u001b[0m \u001b[1;38;5;39m \u001b[0m\u001b[1;38;5;39mfiling_date\u001b[0m\u001b[1;38;5;39m \u001b[0m \u001b[1m \u001b[0m\u001b[1maccession_number    \u001b[0m\u001b[1m \u001b[0m  │\n",
       "│  ─────────────────────────────────────────────────────────────────────────────────────────────────────────────  │\n",
       "│  \u001b[1m \u001b[0m\u001b[1m0 \u001b[0m\u001b[1m \u001b[0m \u001b[1;38;5;71m \u001b[0m\u001b[1;38;5;71mNPORT-P\u001b[0m\u001b[1;38;5;71m \u001b[0m \u001b[1m \u001b[0m\u001b[1mAIM ETF Products Trust                       \u001b[0m\u001b[1m \u001b[0m \u001b[1m \u001b[0m\u001b[1m1797318\u001b[0m\u001b[1m \u001b[0m \u001b[1;38;5;39m \u001b[0m\u001b[1;38;5;39m2023-03-21 \u001b[0m\u001b[1;38;5;39m \u001b[0m \u001b[1m \u001b[0m\u001b[1m0001752724-23-060596\u001b[0m\u001b[1m \u001b[0m  │\n",
       "│   1   \u001b[38;5;71m \u001b[0m\u001b[38;5;71mNPORT-P\u001b[0m\u001b[38;5;71m \u001b[0m  AIM ETF Products Trust                          1797318  \u001b[38;5;39m \u001b[0m\u001b[38;5;39m2023-03-21 \u001b[0m\u001b[38;5;39m \u001b[0m  0001752724-23-060597   │\n",
       "│  \u001b[1m \u001b[0m\u001b[1m2 \u001b[0m\u001b[1m \u001b[0m \u001b[1;38;5;71m \u001b[0m\u001b[1;38;5;71mNPORT-P\u001b[0m\u001b[1;38;5;71m \u001b[0m \u001b[1m \u001b[0m\u001b[1mAIM ETF Products Trust                       \u001b[0m\u001b[1m \u001b[0m \u001b[1m \u001b[0m\u001b[1m1797318\u001b[0m\u001b[1m \u001b[0m \u001b[1;38;5;39m \u001b[0m\u001b[1;38;5;39m2023-03-21 \u001b[0m\u001b[1;38;5;39m \u001b[0m \u001b[1m \u001b[0m\u001b[1m0001752724-23-060598\u001b[0m\u001b[1m \u001b[0m  │\n",
       "│   3   \u001b[38;5;71m \u001b[0m\u001b[38;5;71mNPORT-P\u001b[0m\u001b[38;5;71m \u001b[0m  AIM ETF Products Trust                          1797318  \u001b[38;5;39m \u001b[0m\u001b[38;5;39m2023-03-21 \u001b[0m\u001b[38;5;39m \u001b[0m  0001752724-23-060599   │\n",
       "│  \u001b[1m \u001b[0m\u001b[1m4 \u001b[0m\u001b[1m \u001b[0m \u001b[1;38;5;71m \u001b[0m\u001b[1;38;5;71mNPORT-P\u001b[0m\u001b[1;38;5;71m \u001b[0m \u001b[1m \u001b[0m\u001b[1mAIM ETF Products Trust                       \u001b[0m\u001b[1m \u001b[0m \u001b[1m \u001b[0m\u001b[1m1797318\u001b[0m\u001b[1m \u001b[0m \u001b[1;38;5;39m \u001b[0m\u001b[1;38;5;39m2023-03-21 \u001b[0m\u001b[1;38;5;39m \u001b[0m \u001b[1m \u001b[0m\u001b[1m0001752724-23-060600\u001b[0m\u001b[1m \u001b[0m  │\n",
       "│   5   \u001b[38;5;71m \u001b[0m\u001b[38;5;71mNPORT-P\u001b[0m\u001b[38;5;71m \u001b[0m  AIM ETF Products Trust                          1797318  \u001b[38;5;39m \u001b[0m\u001b[38;5;39m2023-03-21 \u001b[0m\u001b[38;5;39m \u001b[0m  0001752724-23-060601   │\n",
       "│  \u001b[1m \u001b[0m\u001b[1m6 \u001b[0m\u001b[1m \u001b[0m \u001b[1;38;5;71m \u001b[0m\u001b[1;38;5;71mNPORT-P\u001b[0m\u001b[1;38;5;71m \u001b[0m \u001b[1m \u001b[0m\u001b[1mAIM ETF Products Trust                       \u001b[0m\u001b[1m \u001b[0m \u001b[1m \u001b[0m\u001b[1m1797318\u001b[0m\u001b[1m \u001b[0m \u001b[1;38;5;39m \u001b[0m\u001b[1;38;5;39m2023-03-21 \u001b[0m\u001b[1;38;5;39m \u001b[0m \u001b[1m \u001b[0m\u001b[1m0001752724-23-060602\u001b[0m\u001b[1m \u001b[0m  │\n",
       "│   7   \u001b[38;5;71m \u001b[0m\u001b[38;5;71mNPORT-P\u001b[0m\u001b[38;5;71m \u001b[0m  AIM ETF Products Trust                          1797318  \u001b[38;5;39m \u001b[0m\u001b[38;5;39m2023-03-21 \u001b[0m\u001b[38;5;39m \u001b[0m  0001752724-23-060603   │\n",
       "│  \u001b[1m \u001b[0m\u001b[1m8 \u001b[0m\u001b[1m \u001b[0m \u001b[1;38;5;71m \u001b[0m\u001b[1;38;5;71mNPORT-P\u001b[0m\u001b[1;38;5;71m \u001b[0m \u001b[1m \u001b[0m\u001b[1mAIM ETF Products Trust                       \u001b[0m\u001b[1m \u001b[0m \u001b[1m \u001b[0m\u001b[1m1797318\u001b[0m\u001b[1m \u001b[0m \u001b[1;38;5;39m \u001b[0m\u001b[1;38;5;39m2023-03-21 \u001b[0m\u001b[1;38;5;39m \u001b[0m \u001b[1m \u001b[0m\u001b[1m0001752724-23-060604\u001b[0m\u001b[1m \u001b[0m  │\n",
       "│   9   \u001b[38;5;71m \u001b[0m\u001b[38;5;71mNPORT-P\u001b[0m\u001b[38;5;71m \u001b[0m  AIM ETF Products Trust                          1797318  \u001b[38;5;39m \u001b[0m\u001b[38;5;39m2023-03-21 \u001b[0m\u001b[38;5;39m \u001b[0m  0001752724-23-060605   │\n",
       "│  \u001b[1m \u001b[0m\u001b[1m10\u001b[0m\u001b[1m \u001b[0m \u001b[1;38;5;71m \u001b[0m\u001b[1;38;5;71mNPORT-P\u001b[0m\u001b[1;38;5;71m \u001b[0m \u001b[1m \u001b[0m\u001b[1mAIM ETF Products Trust                       \u001b[0m\u001b[1m \u001b[0m \u001b[1m \u001b[0m\u001b[1m1797318\u001b[0m\u001b[1m \u001b[0m \u001b[1;38;5;39m \u001b[0m\u001b[1;38;5;39m2023-03-21 \u001b[0m\u001b[1;38;5;39m \u001b[0m \u001b[1m \u001b[0m\u001b[1m0001752724-23-060606\u001b[0m\u001b[1m \u001b[0m  │\n",
       "│   11  \u001b[38;5;71m \u001b[0m\u001b[38;5;71mNPORT-P\u001b[0m\u001b[38;5;71m \u001b[0m  AIM ETF Products Trust                          1797318  \u001b[38;5;39m \u001b[0m\u001b[38;5;39m2023-03-21 \u001b[0m\u001b[38;5;39m \u001b[0m  0001752724-23-060607   │\n",
       "│  \u001b[1m \u001b[0m\u001b[1m12\u001b[0m\u001b[1m \u001b[0m \u001b[1;38;5;71m \u001b[0m\u001b[1;38;5;71mNPORT-P\u001b[0m\u001b[1;38;5;71m \u001b[0m \u001b[1m \u001b[0m\u001b[1mAIM ETF Products Trust                       \u001b[0m\u001b[1m \u001b[0m \u001b[1m \u001b[0m\u001b[1m1797318\u001b[0m\u001b[1m \u001b[0m \u001b[1;38;5;39m \u001b[0m\u001b[1;38;5;39m2023-03-21 \u001b[0m\u001b[1;38;5;39m \u001b[0m \u001b[1m \u001b[0m\u001b[1m0001752724-23-060608\u001b[0m\u001b[1m \u001b[0m  │\n",
       "│   13  \u001b[38;5;71m \u001b[0m\u001b[38;5;71mNPORT-P\u001b[0m\u001b[38;5;71m \u001b[0m  AIM ETF Products Trust                          1797318  \u001b[38;5;39m \u001b[0m\u001b[38;5;39m2023-03-21 \u001b[0m\u001b[38;5;39m \u001b[0m  0001752724-23-060609   │\n",
       "│  \u001b[1m \u001b[0m\u001b[1m14\u001b[0m\u001b[1m \u001b[0m \u001b[1;38;5;71m \u001b[0m\u001b[1;38;5;71mNPORT-P\u001b[0m\u001b[1;38;5;71m \u001b[0m \u001b[1m \u001b[0m\u001b[1mAIM ETF Products Trust                       \u001b[0m\u001b[1m \u001b[0m \u001b[1m \u001b[0m\u001b[1m1797318\u001b[0m\u001b[1m \u001b[0m \u001b[1;38;5;39m \u001b[0m\u001b[1;38;5;39m2023-03-21 \u001b[0m\u001b[1;38;5;39m \u001b[0m \u001b[1m \u001b[0m\u001b[1m0001752724-23-060610\u001b[0m\u001b[1m \u001b[0m  │\n",
       "│   15  \u001b[38;5;71m \u001b[0m\u001b[38;5;71mNPORT-P\u001b[0m\u001b[38;5;71m \u001b[0m  AIM ETF Products Trust                          1797318  \u001b[38;5;39m \u001b[0m\u001b[38;5;39m2023-03-21 \u001b[0m\u001b[38;5;39m \u001b[0m  0001752724-23-060611   │\n",
       "│  \u001b[1m \u001b[0m\u001b[1m16\u001b[0m\u001b[1m \u001b[0m \u001b[1;38;5;71m \u001b[0m\u001b[1;38;5;71mNPORT-P\u001b[0m\u001b[1;38;5;71m \u001b[0m \u001b[1m \u001b[0m\u001b[1mAngel Oak Financial Strategies Income Term   \u001b[0m\u001b[1m \u001b[0m \u001b[1m \u001b[0m\u001b[1m1745059\u001b[0m\u001b[1m \u001b[0m \u001b[1;38;5;39m \u001b[0m\u001b[1;38;5;39m2023-03-21 \u001b[0m\u001b[1;38;5;39m \u001b[0m \u001b[1m \u001b[0m\u001b[1m0001145549-23-017059\u001b[0m\u001b[1m \u001b[0m  │\n",
       "│  \u001b[1m    \u001b[0m \u001b[1;38;5;71m         \u001b[0m \u001b[1m \u001b[0m\u001b[1mTrust                                        \u001b[0m\u001b[1m \u001b[0m \u001b[1m         \u001b[0m \u001b[1;38;5;39m             \u001b[0m \u001b[1m                      \u001b[0m  │\n",
       "│   17  \u001b[38;5;71m \u001b[0m\u001b[38;5;71mNPORT-P\u001b[0m\u001b[38;5;71m \u001b[0m  Angel Oak Funds Trust                           1612930  \u001b[38;5;39m \u001b[0m\u001b[38;5;39m2023-03-21 \u001b[0m\u001b[38;5;39m \u001b[0m  0001145549-23-017052   │\n",
       "│  \u001b[1m \u001b[0m\u001b[1m18\u001b[0m\u001b[1m \u001b[0m \u001b[1;38;5;71m \u001b[0m\u001b[1;38;5;71mNPORT-P\u001b[0m\u001b[1;38;5;71m \u001b[0m \u001b[1m \u001b[0m\u001b[1mAngel Oak Funds Trust                        \u001b[0m\u001b[1m \u001b[0m \u001b[1m \u001b[0m\u001b[1m1612930\u001b[0m\u001b[1m \u001b[0m \u001b[1;38;5;39m \u001b[0m\u001b[1;38;5;39m2023-03-21 \u001b[0m\u001b[1;38;5;39m \u001b[0m \u001b[1m \u001b[0m\u001b[1m0001145549-23-017054\u001b[0m\u001b[1m \u001b[0m  │\n",
       "│   19  \u001b[38;5;71m \u001b[0m\u001b[38;5;71mNPORT-P\u001b[0m\u001b[38;5;71m \u001b[0m  Angel Oak Funds Trust                           1612930  \u001b[38;5;39m \u001b[0m\u001b[38;5;39m2023-03-21 \u001b[0m\u001b[38;5;39m \u001b[0m  0001145549-23-017055   │\n",
       "│  \u001b[1m \u001b[0m\u001b[1m20\u001b[0m\u001b[1m \u001b[0m \u001b[1;38;5;71m \u001b[0m\u001b[1;38;5;71mNPORT-P\u001b[0m\u001b[1;38;5;71m \u001b[0m \u001b[1m \u001b[0m\u001b[1mAngel Oak Funds Trust                        \u001b[0m\u001b[1m \u001b[0m \u001b[1m \u001b[0m\u001b[1m1612930\u001b[0m\u001b[1m \u001b[0m \u001b[1;38;5;39m \u001b[0m\u001b[1;38;5;39m2023-03-21 \u001b[0m\u001b[1;38;5;39m \u001b[0m \u001b[1m \u001b[0m\u001b[1m0001145549-23-017056\u001b[0m\u001b[1m \u001b[0m  │\n",
       "│   21  \u001b[38;5;71m \u001b[0m\u001b[38;5;71mNPORT-P\u001b[0m\u001b[38;5;71m \u001b[0m  Angel Oak Funds Trust                           1612930  \u001b[38;5;39m \u001b[0m\u001b[38;5;39m2023-03-21 \u001b[0m\u001b[38;5;39m \u001b[0m  0001145549-23-017057   │\n",
       "│  \u001b[1m \u001b[0m\u001b[1m22\u001b[0m\u001b[1m \u001b[0m \u001b[1;38;5;71m \u001b[0m\u001b[1;38;5;71mNPORT-P\u001b[0m\u001b[1;38;5;71m \u001b[0m \u001b[1m \u001b[0m\u001b[1mAngel Oak Funds Trust                        \u001b[0m\u001b[1m \u001b[0m \u001b[1m \u001b[0m\u001b[1m1612930\u001b[0m\u001b[1m \u001b[0m \u001b[1;38;5;39m \u001b[0m\u001b[1;38;5;39m2023-03-21 \u001b[0m\u001b[1;38;5;39m \u001b[0m \u001b[1m \u001b[0m\u001b[1m0001145549-23-017058\u001b[0m\u001b[1m \u001b[0m  │\n",
       "│   23  \u001b[38;5;71m \u001b[0m\u001b[38;5;71mNPORT-P\u001b[0m\u001b[38;5;71m \u001b[0m  Angel Oak Funds Trust                           1612930  \u001b[38;5;39m \u001b[0m\u001b[38;5;39m2023-03-21 \u001b[0m\u001b[38;5;39m \u001b[0m  0001145549-23-017060   │\n",
       "│  \u001b[1m \u001b[0m\u001b[1m24\u001b[0m\u001b[1m \u001b[0m \u001b[1;38;5;71m \u001b[0m\u001b[1;38;5;71mNPORT-P\u001b[0m\u001b[1;38;5;71m \u001b[0m \u001b[1m \u001b[0m\u001b[1mAngel Oak Strategic Credit Fund              \u001b[0m\u001b[1m \u001b[0m \u001b[1m \u001b[0m\u001b[1m1716885\u001b[0m\u001b[1m \u001b[0m \u001b[1;38;5;39m \u001b[0m\u001b[1;38;5;39m2023-03-21 \u001b[0m\u001b[1;38;5;39m \u001b[0m \u001b[1m \u001b[0m\u001b[1m0001145549-23-017053\u001b[0m\u001b[1m \u001b[0m  │\n",
       "│   25  \u001b[38;5;71m \u001b[0m\u001b[38;5;71mNPORT-P\u001b[0m\u001b[38;5;71m \u001b[0m  CHINA FUND INC                                  845379   \u001b[38;5;39m \u001b[0m\u001b[38;5;39m2023-03-21 \u001b[0m\u001b[38;5;39m \u001b[0m  0001752724-23-060716   │\n",
       "│  \u001b[1m \u001b[0m\u001b[1m26\u001b[0m\u001b[1m \u001b[0m \u001b[1;38;5;71m \u001b[0m\u001b[1;38;5;71mNPORT-P\u001b[0m\u001b[1;38;5;71m \u001b[0m \u001b[1m \u001b[0m\u001b[1mCOMMERCE FUNDS                               \u001b[0m\u001b[1m \u001b[0m \u001b[1m \u001b[0m\u001b[1m926243 \u001b[0m\u001b[1m \u001b[0m \u001b[1;38;5;39m \u001b[0m\u001b[1;38;5;39m2023-03-21 \u001b[0m\u001b[1;38;5;39m \u001b[0m \u001b[1m \u001b[0m\u001b[1m0001752724-23-060522\u001b[0m\u001b[1m \u001b[0m  │\n",
       "│   27  \u001b[38;5;71m \u001b[0m\u001b[38;5;71mNPORT-P\u001b[0m\u001b[38;5;71m \u001b[0m  COMMERCE FUNDS                                  926243   \u001b[38;5;39m \u001b[0m\u001b[38;5;39m2023-03-21 \u001b[0m\u001b[38;5;39m \u001b[0m  0001752724-23-060523   │\n",
       "│  \u001b[1m \u001b[0m\u001b[1m28\u001b[0m\u001b[1m \u001b[0m \u001b[1;38;5;71m \u001b[0m\u001b[1;38;5;71mNPORT-P\u001b[0m\u001b[1;38;5;71m \u001b[0m \u001b[1m \u001b[0m\u001b[1mCOMMERCE FUNDS                               \u001b[0m\u001b[1m \u001b[0m \u001b[1m \u001b[0m\u001b[1m926243 \u001b[0m\u001b[1m \u001b[0m \u001b[1;38;5;39m \u001b[0m\u001b[1;38;5;39m2023-03-21 \u001b[0m\u001b[1;38;5;39m \u001b[0m \u001b[1m \u001b[0m\u001b[1m0001752724-23-060524\u001b[0m\u001b[1m \u001b[0m  │\n",
       "│   29  \u001b[38;5;71m \u001b[0m\u001b[38;5;71mNPORT-P\u001b[0m\u001b[38;5;71m \u001b[0m  COMMERCE FUNDS                                  926243   \u001b[38;5;39m \u001b[0m\u001b[38;5;39m2023-03-21 \u001b[0m\u001b[38;5;39m \u001b[0m  0001752724-23-060525   │\n",
       "│  \u001b[1m \u001b[0m\u001b[1m30\u001b[0m\u001b[1m \u001b[0m \u001b[1;38;5;71m \u001b[0m\u001b[1;38;5;71mNPORT-P\u001b[0m\u001b[1;38;5;71m \u001b[0m \u001b[1m \u001b[0m\u001b[1mCOMMERCE FUNDS                               \u001b[0m\u001b[1m \u001b[0m \u001b[1m \u001b[0m\u001b[1m926243 \u001b[0m\u001b[1m \u001b[0m \u001b[1;38;5;39m \u001b[0m\u001b[1;38;5;39m2023-03-21 \u001b[0m\u001b[1;38;5;39m \u001b[0m \u001b[1m \u001b[0m\u001b[1m0001752724-23-060526\u001b[0m\u001b[1m \u001b[0m  │\n",
       "│   31  \u001b[38;5;71m \u001b[0m\u001b[38;5;71mNPORT-P\u001b[0m\u001b[38;5;71m \u001b[0m  COMMERCE FUNDS                                  926243   \u001b[38;5;39m \u001b[0m\u001b[38;5;39m2023-03-21 \u001b[0m\u001b[38;5;39m \u001b[0m  0001752724-23-060527   │\n",
       "│  \u001b[1m \u001b[0m\u001b[1m32\u001b[0m\u001b[1m \u001b[0m \u001b[1;38;5;71m \u001b[0m\u001b[1;38;5;71mNPORT-P\u001b[0m\u001b[1;38;5;71m \u001b[0m \u001b[1m \u001b[0m\u001b[1mCOMMERCE FUNDS                               \u001b[0m\u001b[1m \u001b[0m \u001b[1m \u001b[0m\u001b[1m926243 \u001b[0m\u001b[1m \u001b[0m \u001b[1;38;5;39m \u001b[0m\u001b[1;38;5;39m2023-03-21 \u001b[0m\u001b[1;38;5;39m \u001b[0m \u001b[1m \u001b[0m\u001b[1m0001752724-23-060528\u001b[0m\u001b[1m \u001b[0m  │\n",
       "│   33  \u001b[38;5;71m \u001b[0m\u001b[38;5;71mNPORT-P\u001b[0m\u001b[38;5;71m \u001b[0m  COMMERCE FUNDS                                  926243   \u001b[38;5;39m \u001b[0m\u001b[38;5;39m2023-03-21 \u001b[0m\u001b[38;5;39m \u001b[0m  0001752724-23-060529   │\n",
       "│  \u001b[1m \u001b[0m\u001b[1m34\u001b[0m\u001b[1m \u001b[0m \u001b[1;38;5;71m \u001b[0m\u001b[1;38;5;71mNPORT-P\u001b[0m\u001b[1;38;5;71m \u001b[0m \u001b[1m \u001b[0m\u001b[1mChesapeake Investment Trust                  \u001b[0m\u001b[1m \u001b[0m \u001b[1m \u001b[0m\u001b[1m893759 \u001b[0m\u001b[1m \u001b[0m \u001b[1;38;5;39m \u001b[0m\u001b[1;38;5;39m2023-03-21 \u001b[0m\u001b[1;38;5;39m \u001b[0m \u001b[1m \u001b[0m\u001b[1m0001752724-23-060854\u001b[0m\u001b[1m \u001b[0m  │\n",
       "│   35  \u001b[38;5;71m \u001b[0m\u001b[38;5;71mNPORT-P\u001b[0m\u001b[38;5;71m \u001b[0m  Managed Portfolio Series                        1511699  \u001b[38;5;39m \u001b[0m\u001b[38;5;39m2023-03-21 \u001b[0m\u001b[38;5;39m \u001b[0m  0001145549-23-017031   │\n",
       "│  \u001b[1m \u001b[0m\u001b[1m36\u001b[0m\u001b[1m \u001b[0m \u001b[1;38;5;71m \u001b[0m\u001b[1;38;5;71mNPORT-P\u001b[0m\u001b[1;38;5;71m \u001b[0m \u001b[1m \u001b[0m\u001b[1mManaged Portfolio Series                     \u001b[0m\u001b[1m \u001b[0m \u001b[1m \u001b[0m\u001b[1m1511699\u001b[0m\u001b[1m \u001b[0m \u001b[1;38;5;39m \u001b[0m\u001b[1;38;5;39m2023-03-21 \u001b[0m\u001b[1;38;5;39m \u001b[0m \u001b[1m \u001b[0m\u001b[1m0001145549-23-017032\u001b[0m\u001b[1m \u001b[0m  │\n",
       "│   37  \u001b[38;5;71m \u001b[0m\u001b[38;5;71mNPORT-P\u001b[0m\u001b[38;5;71m \u001b[0m  NEW IRELAND FUND INC                            858707   \u001b[38;5;39m \u001b[0m\u001b[38;5;39m2023-03-21 \u001b[0m\u001b[38;5;39m \u001b[0m  0001145549-23-017151   │\n",
       "│  \u001b[1m \u001b[0m\u001b[1m38\u001b[0m\u001b[1m \u001b[0m \u001b[1;38;5;71m \u001b[0m\u001b[1;38;5;71mNPORT-P\u001b[0m\u001b[1;38;5;71m \u001b[0m \u001b[1m \u001b[0m\u001b[1mStarboard Investment Trust                   \u001b[0m\u001b[1m \u001b[0m \u001b[1m \u001b[0m\u001b[1m1464413\u001b[0m\u001b[1m \u001b[0m \u001b[1;38;5;39m \u001b[0m\u001b[1;38;5;39m2023-03-21 \u001b[0m\u001b[1;38;5;39m \u001b[0m \u001b[1m \u001b[0m\u001b[1m0001387131-23-003789\u001b[0m\u001b[1m \u001b[0m  │\n",
       "│   39  \u001b[38;5;71m \u001b[0m\u001b[38;5;71mNPORT-P\u001b[0m\u001b[38;5;71m \u001b[0m  TCW FUNDS INC                                   892071   \u001b[38;5;39m \u001b[0m\u001b[38;5;39m2023-03-21 \u001b[0m\u001b[38;5;39m \u001b[0m  0001752724-23-061811   │\n",
       "│  \u001b[1m \u001b[0m\u001b[1m40\u001b[0m\u001b[1m \u001b[0m \u001b[1;38;5;71m \u001b[0m\u001b[1;38;5;71mNPORT-P\u001b[0m\u001b[1;38;5;71m \u001b[0m \u001b[1m \u001b[0m\u001b[1mTCW FUNDS INC                                \u001b[0m\u001b[1m \u001b[0m \u001b[1m \u001b[0m\u001b[1m892071 \u001b[0m\u001b[1m \u001b[0m \u001b[1;38;5;39m \u001b[0m\u001b[1;38;5;39m2023-03-21 \u001b[0m\u001b[1;38;5;39m \u001b[0m \u001b[1m \u001b[0m\u001b[1m0001752724-23-061813\u001b[0m\u001b[1m \u001b[0m  │\n",
       "│   41  \u001b[38;5;71m \u001b[0m\u001b[38;5;71mNPORT-P\u001b[0m\u001b[38;5;71m \u001b[0m  TCW FUNDS INC                                   892071   \u001b[38;5;39m \u001b[0m\u001b[38;5;39m2023-03-21 \u001b[0m\u001b[38;5;39m \u001b[0m  0001752724-23-061814   │\n",
       "│  \u001b[1m \u001b[0m\u001b[1m42\u001b[0m\u001b[1m \u001b[0m \u001b[1;38;5;71m \u001b[0m\u001b[1;38;5;71mNPORT-P\u001b[0m\u001b[1;38;5;71m \u001b[0m \u001b[1m \u001b[0m\u001b[1mTCW FUNDS INC                                \u001b[0m\u001b[1m \u001b[0m \u001b[1m \u001b[0m\u001b[1m892071 \u001b[0m\u001b[1m \u001b[0m \u001b[1;38;5;39m \u001b[0m\u001b[1;38;5;39m2023-03-21 \u001b[0m\u001b[1;38;5;39m \u001b[0m \u001b[1m \u001b[0m\u001b[1m0001752724-23-061815\u001b[0m\u001b[1m \u001b[0m  │\n",
       "│   43  \u001b[38;5;71m \u001b[0m\u001b[38;5;71mNPORT-P\u001b[0m\u001b[38;5;71m \u001b[0m  TCW FUNDS INC                                   892071   \u001b[38;5;39m \u001b[0m\u001b[38;5;39m2023-03-21 \u001b[0m\u001b[38;5;39m \u001b[0m  0001752724-23-061818   │\n",
       "│  \u001b[1m \u001b[0m\u001b[1m44\u001b[0m\u001b[1m \u001b[0m \u001b[1;38;5;71m \u001b[0m\u001b[1;38;5;71mNPORT-P\u001b[0m\u001b[1;38;5;71m \u001b[0m \u001b[1m \u001b[0m\u001b[1mTCW FUNDS INC                                \u001b[0m\u001b[1m \u001b[0m \u001b[1m \u001b[0m\u001b[1m892071 \u001b[0m\u001b[1m \u001b[0m \u001b[1;38;5;39m \u001b[0m\u001b[1;38;5;39m2023-03-21 \u001b[0m\u001b[1;38;5;39m \u001b[0m \u001b[1m \u001b[0m\u001b[1m0001752724-23-061819\u001b[0m\u001b[1m \u001b[0m  │\n",
       "│   45  \u001b[38;5;71m \u001b[0m\u001b[38;5;71mNPORT-P\u001b[0m\u001b[38;5;71m \u001b[0m  TCW FUNDS INC                                   892071   \u001b[38;5;39m \u001b[0m\u001b[38;5;39m2023-03-21 \u001b[0m\u001b[38;5;39m \u001b[0m  0001752724-23-061820   │\n",
       "│  \u001b[1m \u001b[0m\u001b[1m46\u001b[0m\u001b[1m \u001b[0m \u001b[1;38;5;71m \u001b[0m\u001b[1;38;5;71mNPORT-P\u001b[0m\u001b[1;38;5;71m \u001b[0m \u001b[1m \u001b[0m\u001b[1mTCW FUNDS INC                                \u001b[0m\u001b[1m \u001b[0m \u001b[1m \u001b[0m\u001b[1m892071 \u001b[0m\u001b[1m \u001b[0m \u001b[1;38;5;39m \u001b[0m\u001b[1;38;5;39m2023-03-21 \u001b[0m\u001b[1;38;5;39m \u001b[0m \u001b[1m \u001b[0m\u001b[1m0001752724-23-061829\u001b[0m\u001b[1m \u001b[0m  │\n",
       "│   47  \u001b[38;5;71m \u001b[0m\u001b[38;5;71mNPORT-P\u001b[0m\u001b[38;5;71m \u001b[0m  TCW FUNDS INC                                   892071   \u001b[38;5;39m \u001b[0m\u001b[38;5;39m2023-03-21 \u001b[0m\u001b[38;5;39m \u001b[0m  0001752724-23-061830   │\n",
       "│  \u001b[1m \u001b[0m\u001b[1m48\u001b[0m\u001b[1m \u001b[0m \u001b[1;38;5;71m \u001b[0m\u001b[1;38;5;71mNPORT-P\u001b[0m\u001b[1;38;5;71m \u001b[0m \u001b[1m \u001b[0m\u001b[1mTCW FUNDS INC                                \u001b[0m\u001b[1m \u001b[0m \u001b[1m \u001b[0m\u001b[1m892071 \u001b[0m\u001b[1m \u001b[0m \u001b[1;38;5;39m \u001b[0m\u001b[1;38;5;39m2023-03-21 \u001b[0m\u001b[1;38;5;39m \u001b[0m \u001b[1m \u001b[0m\u001b[1m0001752724-23-061844\u001b[0m\u001b[1m \u001b[0m  │\n",
       "│   49  \u001b[38;5;71m \u001b[0m\u001b[38;5;71mNPORT-P\u001b[0m\u001b[38;5;71m \u001b[0m  TCW FUNDS INC                                   892071   \u001b[38;5;39m \u001b[0m\u001b[38;5;39m2023-03-21 \u001b[0m\u001b[38;5;39m \u001b[0m  0001752724-23-061845   │\n",
       "│                                                                                                                 │\n",
       "│ Showing 50 of 9,229 filings                                                                                     │\n",
       "╰─────────────────────────────────────────────────────────────────────────────────────────────────────────────────╯"
      ]
     },
     "execution_count": 31,
     "metadata": {},
     "output_type": "execute_result"
    }
   ],
   "source": [
    "funds = get_funds()\n",
    "funds"
   ]
  },
  {
   "cell_type": "markdown",
   "id": "6b2a3ce0",
   "metadata": {},
   "source": [
    "## Fund Report"
   ]
  },
  {
   "cell_type": "code",
   "execution_count": 32,
   "id": "cb7df50e",
   "metadata": {},
   "outputs": [
    {
     "data": {
      "text/html": [
       "<pre style=\"white-space:pre;overflow-x:auto;line-height:normal;font-family:Menlo,'DejaVu Sans Mono',consolas,'Courier New',monospace\"></pre>\n"
      ],
      "text/plain": []
     },
     "metadata": {},
     "output_type": "display_data"
    },
    {
     "data": {
      "text/plain": [
       "\u001b[1;38;5;71mAIM ETF Products Trust - AllianzIM U.S. Large Cap Buffer10 Nov ETF\u001b[0m\n",
       "\u001b[1;38;5;39m                                   Fund Summary                                    \u001b[0m\n",
       "                                                                                   \n",
       " \u001b[1m \u001b[0m\u001b[1mAssets     \u001b[0m\u001b[1m \u001b[0m \u001b[1m \u001b[0m\u001b[1mLiabilities\u001b[0m\u001b[1m \u001b[0m \u001b[1m \u001b[0m\u001b[1mNet Assets \u001b[0m\u001b[1m \u001b[0m \u001b[1m \u001b[0m\u001b[1mInvestments\u001b[0m\u001b[1m \u001b[0m \u001b[1m \u001b[0m\u001b[1mPeriod                 \u001b[0m\u001b[1m \u001b[0m \n",
       " ───────────────────────────────────────────────────────────────────────────────── \n",
       "  $18,221,938   $475,020      $17,746,917   4             2023-01-31 - 2023-10-31  \n",
       "                                                                                   \n",
       "\u001b[1;38;5;39m                      Interest Rate Sensitivity                      \u001b[0m\n",
       "                                                                     \n",
       " \u001b[1m \u001b[0m\u001b[1mMetric\u001b[0m\u001b[1m \u001b[0m \u001b[1m \u001b[0m\u001b[1mCurrency\u001b[0m\u001b[1m \u001b[0m \u001b[1m \u001b[0m\u001b[1m3 month\u001b[0m\u001b[1m \u001b[0m \u001b[1m \u001b[0m\u001b[1m1 year\u001b[0m\u001b[1m \u001b[0m \u001b[1m \u001b[0m\u001b[1m5 year\u001b[0m\u001b[1m \u001b[0m \u001b[1m \u001b[0m\u001b[1m10 year\u001b[0m\u001b[1m \u001b[0m \u001b[1m \u001b[0m\u001b[1m30 year\u001b[0m\u001b[1m \u001b[0m \n",
       " ─────────────────────────────────────────────────────────────────── \n",
       "                                                                     \n",
       " \n",
       "\u001b[1;38;5;39m                                                  Investments                                                  \u001b[0m\n",
       "                                                                                                               \n",
       " \u001b[1m \u001b[0m\u001b[1m \u001b[0m\u001b[1m \u001b[0m \u001b[1m \u001b[0m\u001b[1mName                   \u001b[0m\u001b[1m \u001b[0m \u001b[1m \u001b[0m\u001b[1mTitle                             \u001b[0m\u001b[1m \u001b[0m \u001b[1m \u001b[0m\u001b[1mCusip\u001b[0m\u001b[1m \u001b[0m \u001b[1m \u001b[0m\u001b[1mCategory\u001b[0m\u001b[1m \u001b[0m \u001b[1m \u001b[0m\u001b[1mValue      \u001b[0m\u001b[1m \u001b[0m \u001b[1m \u001b[0m\u001b[1mPercent\u001b[0m\u001b[1m \u001b[0m \n",
       " ───────────────────────────────────────────────────────────────────────────────────────────────────────────── \n",
       " \u001b[1m \u001b[0m\u001b[1m0\u001b[0m\u001b[1m \u001b[0m \u001b[1m \u001b[0m\u001b[1mSPY 10/31/2023 2.86 C  \u001b[0m\u001b[1m \u001b[0m \u001b[1m \u001b[0m\u001b[1mSPY 10/31/2023 2.86 C 0.00000000  \u001b[0m\u001b[1m \u001b[0m \u001b[1m \u001b[0m\u001b[1mN/A  \u001b[0m\u001b[1m \u001b[0m \u001b[1m \u001b[0m\u001b[1mCORP DE \u001b[0m\u001b[1m \u001b[0m \u001b[1m \u001b[0m\u001b[1m$17,425,079\u001b[0m\u001b[1m \u001b[0m \u001b[1m \u001b[0m\u001b[1m98.2   \u001b[0m\u001b[1m \u001b[0m \n",
       "  1   SPY 10/31/2023 386.17 P   SPY 10/31/2023 386.17 P 0.00000000   N/A     CORP DE    $685,668      3.9      \n",
       " \u001b[1m \u001b[0m\u001b[1m2\u001b[0m\u001b[1m \u001b[0m \u001b[1m \u001b[0m\u001b[1mSPY 10/31/2023 489.48 C\u001b[0m\u001b[1m \u001b[0m \u001b[1m \u001b[0m\u001b[1mSPY 10/31/2023 489.48 C 0.00000000\u001b[0m\u001b[1m \u001b[0m \u001b[1m \u001b[0m\u001b[1mN/A  \u001b[0m\u001b[1m \u001b[0m \u001b[1m \u001b[0m\u001b[1mCORP DE \u001b[0m\u001b[1m \u001b[0m \u001b[1m \u001b[0m\u001b[1m-$81,046   \u001b[0m\u001b[1m \u001b[0m \u001b[1m \u001b[0m\u001b[1m-0.5   \u001b[0m\u001b[1m \u001b[0m \n",
       "  3   SPY 10/31/2023 347.59 P   SPY 10/31/2023 347.59 P 0.00000000   N/A     CORP DE    -$368,492     -2.1     \n",
       "                                                                                                               "
      ]
     },
     "execution_count": 32,
     "metadata": {},
     "output_type": "execute_result"
    }
   ],
   "source": [
    "FundReport.from_xml(funds[1].xml())"
   ]
  },
  {
   "cell_type": "markdown",
   "id": "7cfb9ae2",
   "metadata": {},
   "source": [
    "# Offering"
   ]
  },
  {
   "cell_type": "code",
   "execution_count": 33,
   "id": "285c724a",
   "metadata": {},
   "outputs": [
    {
     "data": {
      "text/html": [
       "<pre style=\"white-space:pre;overflow-x:auto;line-height:normal;font-family:Menlo,'DejaVu Sans Mono',consolas,'Courier New',monospace\"></pre>\n"
      ],
      "text/plain": []
     },
     "metadata": {},
     "output_type": "display_data"
    },
    {
     "data": {
      "text/plain": [
       "╭──────────────────────────────────────────────────── Filings ────────────────────────────────────────────────────╮\n",
       "│                                                                                                                 │\n",
       "│  \u001b[1m \u001b[0m\u001b[1m  \u001b[0m\u001b[1m \u001b[0m \u001b[1;38;5;71m \u001b[0m\u001b[1;38;5;71mform\u001b[0m\u001b[1;38;5;71m \u001b[0m \u001b[1m \u001b[0m\u001b[1mcompany                                         \u001b[0m\u001b[1m \u001b[0m \u001b[1m \u001b[0m\u001b[1mcik    \u001b[0m\u001b[1m \u001b[0m \u001b[1;38;5;39m \u001b[0m\u001b[1;38;5;39mfiling_date\u001b[0m\u001b[1;38;5;39m \u001b[0m \u001b[1m \u001b[0m\u001b[1maccession_number    \u001b[0m\u001b[1m \u001b[0m  │\n",
       "│  ─────────────────────────────────────────────────────────────────────────────────────────────────────────────  │\n",
       "│  \u001b[1m \u001b[0m\u001b[1m0 \u001b[0m\u001b[1m \u001b[0m \u001b[1;38;5;71m \u001b[0m\u001b[1;38;5;71mD   \u001b[0m\u001b[1;38;5;71m \u001b[0m \u001b[1m \u001b[0m\u001b[1m1396483 B.C. Ltd                                \u001b[0m\u001b[1m \u001b[0m \u001b[1m \u001b[0m\u001b[1m1970227\u001b[0m\u001b[1m \u001b[0m \u001b[1;38;5;39m \u001b[0m\u001b[1;38;5;39m2023-03-21 \u001b[0m\u001b[1;38;5;39m \u001b[0m \u001b[1m \u001b[0m\u001b[1m0001062993-23-007319\u001b[0m\u001b[1m \u001b[0m  │\n",
       "│   1   \u001b[38;5;71m \u001b[0m\u001b[38;5;71mD   \u001b[0m\u001b[38;5;71m \u001b[0m  AP-0113 Fund II AL Vehicle, a series of            1970214  \u001b[38;5;39m \u001b[0m\u001b[38;5;39m2023-03-21 \u001b[0m\u001b[38;5;39m \u001b[0m  0001970057-23-000002   │\n",
       "│       \u001b[38;5;71m      \u001b[0m  DataPower Ventures F                                        \u001b[38;5;39m             \u001b[0m                         │\n",
       "│  \u001b[1m \u001b[0m\u001b[1m2 \u001b[0m\u001b[1m \u001b[0m \u001b[1;38;5;71m \u001b[0m\u001b[1;38;5;71mD   \u001b[0m\u001b[1;38;5;71m \u001b[0m \u001b[1m \u001b[0m\u001b[1mAP-0113 Fund II, a series of DataPower Ventures \u001b[0m\u001b[1m \u001b[0m \u001b[1m \u001b[0m\u001b[1m1970057\u001b[0m\u001b[1m \u001b[0m \u001b[1;38;5;39m \u001b[0m\u001b[1;38;5;39m2023-03-21 \u001b[0m\u001b[1;38;5;39m \u001b[0m \u001b[1m \u001b[0m\u001b[1m0001970057-23-000002\u001b[0m\u001b[1m \u001b[0m  │\n",
       "│  \u001b[1m    \u001b[0m \u001b[1;38;5;71m      \u001b[0m \u001b[1m \u001b[0m\u001b[1mFunds AL, LP                                    \u001b[0m\u001b[1m \u001b[0m \u001b[1m         \u001b[0m \u001b[1;38;5;39m             \u001b[0m \u001b[1m                      \u001b[0m  │\n",
       "│   3   \u001b[38;5;71m \u001b[0m\u001b[38;5;71mD   \u001b[0m\u001b[38;5;71m \u001b[0m  ARC Clean Energy, Inc.                             1917665  \u001b[38;5;39m \u001b[0m\u001b[38;5;39m2023-03-21 \u001b[0m\u001b[38;5;39m \u001b[0m  0001917665-23-000001   │\n",
       "│  \u001b[1m \u001b[0m\u001b[1m4 \u001b[0m\u001b[1m \u001b[0m \u001b[1;38;5;71m \u001b[0m\u001b[1;38;5;71mD   \u001b[0m\u001b[1;38;5;71m \u001b[0m \u001b[1m \u001b[0m\u001b[1mASP Isotopes Inc.                               \u001b[0m\u001b[1m \u001b[0m \u001b[1m \u001b[0m\u001b[1m1921865\u001b[0m\u001b[1m \u001b[0m \u001b[1;38;5;39m \u001b[0m\u001b[1;38;5;39m2023-03-21 \u001b[0m\u001b[1;38;5;39m \u001b[0m \u001b[1m \u001b[0m\u001b[1m0001477932-23-001602\u001b[0m\u001b[1m \u001b[0m  │\n",
       "│   5   \u001b[38;5;71m \u001b[0m\u001b[38;5;71mD   \u001b[0m\u001b[38;5;71m \u001b[0m  AT-0121 Fund II AL Vehicle, a series of Team       1970245  \u001b[38;5;39m \u001b[0m\u001b[38;5;39m2023-03-21 \u001b[0m\u001b[38;5;39m \u001b[0m  0001970246-23-000002   │\n",
       "│       \u001b[38;5;71m      \u001b[0m  Ignite Ventures                                             \u001b[38;5;39m             \u001b[0m                         │\n",
       "│  \u001b[1m \u001b[0m\u001b[1m6 \u001b[0m\u001b[1m \u001b[0m \u001b[1;38;5;71m \u001b[0m\u001b[1;38;5;71mD   \u001b[0m\u001b[1;38;5;71m \u001b[0m \u001b[1m \u001b[0m\u001b[1mAT-0121 Fund II, a series of Team Ignite        \u001b[0m\u001b[1m \u001b[0m \u001b[1m \u001b[0m\u001b[1m1970246\u001b[0m\u001b[1m \u001b[0m \u001b[1;38;5;39m \u001b[0m\u001b[1;38;5;39m2023-03-21 \u001b[0m\u001b[1;38;5;39m \u001b[0m \u001b[1m \u001b[0m\u001b[1m0001970246-23-000002\u001b[0m\u001b[1m \u001b[0m  │\n",
       "│  \u001b[1m    \u001b[0m \u001b[1;38;5;71m      \u001b[0m \u001b[1m \u001b[0m\u001b[1mVentures, LP                                    \u001b[0m\u001b[1m \u001b[0m \u001b[1m         \u001b[0m \u001b[1;38;5;39m             \u001b[0m \u001b[1m                      \u001b[0m  │\n",
       "│   7   \u001b[38;5;71m \u001b[0m\u001b[38;5;71mD   \u001b[0m\u001b[38;5;71m \u001b[0m  AptDeco, Inc.                                      1681855  \u001b[38;5;39m \u001b[0m\u001b[38;5;39m2023-03-21 \u001b[0m\u001b[38;5;39m \u001b[0m  0001681855-23-000001   │\n",
       "│  \u001b[1m \u001b[0m\u001b[1m8 \u001b[0m\u001b[1m \u001b[0m \u001b[1;38;5;71m \u001b[0m\u001b[1;38;5;71mD   \u001b[0m\u001b[1;38;5;71m \u001b[0m \u001b[1m \u001b[0m\u001b[1mAsignio, Inc.                                   \u001b[0m\u001b[1m \u001b[0m \u001b[1m \u001b[0m\u001b[1m1872117\u001b[0m\u001b[1m \u001b[0m \u001b[1;38;5;39m \u001b[0m\u001b[1;38;5;39m2023-03-21 \u001b[0m\u001b[1;38;5;39m \u001b[0m \u001b[1m \u001b[0m\u001b[1m0001872117-23-000001\u001b[0m\u001b[1m \u001b[0m  │\n",
       "│   9   \u001b[38;5;71m \u001b[0m\u001b[38;5;71mD   \u001b[0m\u001b[38;5;71m \u001b[0m  BA-0105 Fund I AL Vehicle, a series of Chaos       1970390  \u001b[38;5;39m \u001b[0m\u001b[38;5;39m2023-03-21 \u001b[0m\u001b[38;5;39m \u001b[0m  0001970306-23-000002   │\n",
       "│       \u001b[38;5;71m      \u001b[0m  Ventures Syndic                                             \u001b[38;5;39m             \u001b[0m                         │\n",
       "│  \u001b[1m \u001b[0m\u001b[1m10\u001b[0m\u001b[1m \u001b[0m \u001b[1;38;5;71m \u001b[0m\u001b[1;38;5;71mD   \u001b[0m\u001b[1;38;5;71m \u001b[0m \u001b[1m \u001b[0m\u001b[1mBA-0105 Fund I, a series of Chaos Ventures      \u001b[0m\u001b[1m \u001b[0m \u001b[1m \u001b[0m\u001b[1m1970306\u001b[0m\u001b[1m \u001b[0m \u001b[1;38;5;39m \u001b[0m\u001b[1;38;5;39m2023-03-21 \u001b[0m\u001b[1;38;5;39m \u001b[0m \u001b[1m \u001b[0m\u001b[1m0001970306-23-000002\u001b[0m\u001b[1m \u001b[0m  │\n",
       "│  \u001b[1m    \u001b[0m \u001b[1;38;5;71m      \u001b[0m \u001b[1m \u001b[0m\u001b[1mSyndicate, LP                                   \u001b[0m\u001b[1m \u001b[0m \u001b[1m         \u001b[0m \u001b[1;38;5;39m             \u001b[0m \u001b[1m                      \u001b[0m  │\n",
       "│   11  \u001b[38;5;71m \u001b[0m\u001b[38;5;71mD   \u001b[0m\u001b[38;5;71m \u001b[0m  BG-1216 Fund I, a series of 2321 Consulting, LP    1970022  \u001b[38;5;39m \u001b[0m\u001b[38;5;39m2023-03-21 \u001b[0m\u001b[38;5;39m \u001b[0m  0001970022-23-000002   │\n",
       "│  \u001b[1m \u001b[0m\u001b[1m12\u001b[0m\u001b[1m \u001b[0m \u001b[1;38;5;71m \u001b[0m\u001b[1;38;5;71mD   \u001b[0m\u001b[1;38;5;71m \u001b[0m \u001b[1m \u001b[0m\u001b[1mBH Capital Fund I LP                            \u001b[0m\u001b[1m \u001b[0m \u001b[1m \u001b[0m\u001b[1m1970347\u001b[0m\u001b[1m \u001b[0m \u001b[1;38;5;39m \u001b[0m\u001b[1;38;5;39m2023-03-21 \u001b[0m\u001b[1;38;5;39m \u001b[0m \u001b[1m \u001b[0m\u001b[1m0001970347-23-000002\u001b[0m\u001b[1m \u001b[0m  │\n",
       "│   13  \u001b[38;5;71m \u001b[0m\u001b[38;5;71mD   \u001b[0m\u001b[38;5;71m \u001b[0m  Banner Ridge GP Commitment V, LP                   1969810  \u001b[38;5;39m \u001b[0m\u001b[38;5;39m2023-03-21 \u001b[0m\u001b[38;5;39m \u001b[0m  0001969810-23-000001   │\n",
       "│  \u001b[1m \u001b[0m\u001b[1m14\u001b[0m\u001b[1m \u001b[0m \u001b[1;38;5;71m \u001b[0m\u001b[1;38;5;71mD   \u001b[0m\u001b[1;38;5;71m \u001b[0m \u001b[1m \u001b[0m\u001b[1mBlackAngelGroup - Q1 23 I a Series of CGF2021   \u001b[0m\u001b[1m \u001b[0m \u001b[1m \u001b[0m\u001b[1m1970142\u001b[0m\u001b[1m \u001b[0m \u001b[1;38;5;39m \u001b[0m\u001b[1;38;5;39m2023-03-21 \u001b[0m\u001b[1;38;5;39m \u001b[0m \u001b[1m \u001b[0m\u001b[1m0001970142-23-000001\u001b[0m\u001b[1m \u001b[0m  │\n",
       "│  \u001b[1m    \u001b[0m \u001b[1;38;5;71m      \u001b[0m \u001b[1m \u001b[0m\u001b[1mLLC                                             \u001b[0m\u001b[1m \u001b[0m \u001b[1m         \u001b[0m \u001b[1;38;5;39m             \u001b[0m \u001b[1m                      \u001b[0m  │\n",
       "│   15  \u001b[38;5;71m \u001b[0m\u001b[38;5;71mD   \u001b[0m\u001b[38;5;71m \u001b[0m  Blackthorn Partners L.P.                           1372078  \u001b[38;5;39m \u001b[0m\u001b[38;5;39m2023-03-21 \u001b[0m\u001b[38;5;39m \u001b[0m  0001372078-23-000001   │\n",
       "│  \u001b[1m \u001b[0m\u001b[1m16\u001b[0m\u001b[1m \u001b[0m \u001b[1;38;5;71m \u001b[0m\u001b[1;38;5;71mD   \u001b[0m\u001b[1;38;5;71m \u001b[0m \u001b[1m \u001b[0m\u001b[1mBlock Yield Investment Fund, LP                 \u001b[0m\u001b[1m \u001b[0m \u001b[1m \u001b[0m\u001b[1m1968505\u001b[0m\u001b[1m \u001b[0m \u001b[1;38;5;39m \u001b[0m\u001b[1;38;5;39m2023-03-21 \u001b[0m\u001b[1;38;5;39m \u001b[0m \u001b[1m \u001b[0m\u001b[1m0001968685-23-000002\u001b[0m\u001b[1m \u001b[0m  │\n",
       "│   17  \u001b[38;5;71m \u001b[0m\u001b[38;5;71mD   \u001b[0m\u001b[38;5;71m \u001b[0m  Brazos River Capital, LLC                          1945077  \u001b[38;5;39m \u001b[0m\u001b[38;5;39m2023-03-21 \u001b[0m\u001b[38;5;39m \u001b[0m  0001945077-23-000001   │\n",
       "│  \u001b[1m \u001b[0m\u001b[1m18\u001b[0m\u001b[1m \u001b[0m \u001b[1;38;5;71m \u001b[0m\u001b[1;38;5;71mD   \u001b[0m\u001b[1;38;5;71m \u001b[0m \u001b[1m \u001b[0m\u001b[1mCH-0221 Gaingels Fund II AL Vehicle, a series of\u001b[0m\u001b[1m \u001b[0m \u001b[1m \u001b[0m\u001b[1m1970291\u001b[0m\u001b[1m \u001b[0m \u001b[1;38;5;39m \u001b[0m\u001b[1;38;5;39m2023-03-21 \u001b[0m\u001b[1;38;5;39m \u001b[0m \u001b[1m \u001b[0m\u001b[1m0001970292-23-000002\u001b[0m\u001b[1m \u001b[0m  │\n",
       "│  \u001b[1m    \u001b[0m \u001b[1;38;5;71m      \u001b[0m \u001b[1m \u001b[0m\u001b[1mAngelList-G                                     \u001b[0m\u001b[1m \u001b[0m \u001b[1m         \u001b[0m \u001b[1;38;5;39m             \u001b[0m \u001b[1m                      \u001b[0m  │\n",
       "│   19  \u001b[38;5;71m \u001b[0m\u001b[38;5;71mD   \u001b[0m\u001b[38;5;71m \u001b[0m  CH-0221 Gaingels Fund II, a series of              1970292  \u001b[38;5;39m \u001b[0m\u001b[38;5;39m2023-03-21 \u001b[0m\u001b[38;5;39m \u001b[0m  0001970292-23-000002   │\n",
       "│       \u001b[38;5;71m      \u001b[0m  AngelList-GP-Funds-I,                                       \u001b[38;5;39m             \u001b[0m                         │\n",
       "│  \u001b[1m \u001b[0m\u001b[1m20\u001b[0m\u001b[1m \u001b[0m \u001b[1;38;5;71m \u001b[0m\u001b[1;38;5;71mD   \u001b[0m\u001b[1;38;5;71m \u001b[0m \u001b[1m \u001b[0m\u001b[1mCanAm Greater Washington Regional Center, LP I  \u001b[0m\u001b[1m \u001b[0m \u001b[1m \u001b[0m\u001b[1m1969328\u001b[0m\u001b[1m \u001b[0m \u001b[1;38;5;39m \u001b[0m\u001b[1;38;5;39m2023-03-21 \u001b[0m\u001b[1;38;5;39m \u001b[0m \u001b[1m \u001b[0m\u001b[1m0001969328-23-000001\u001b[0m\u001b[1m \u001b[0m  │\n",
       "│   21  \u001b[38;5;71m \u001b[0m\u001b[38;5;71mD   \u001b[0m\u001b[38;5;71m \u001b[0m  Captains Capital 1 a Series of CGF2021 LLC         1970189  \u001b[38;5;39m \u001b[0m\u001b[38;5;39m2023-03-21 \u001b[0m\u001b[38;5;39m \u001b[0m  0001970189-23-000001   │\n",
       "│  \u001b[1m \u001b[0m\u001b[1m22\u001b[0m\u001b[1m \u001b[0m \u001b[1;38;5;71m \u001b[0m\u001b[1;38;5;71mD   \u001b[0m\u001b[1;38;5;71m \u001b[0m \u001b[1m \u001b[0m\u001b[1mChiefy, Inc.                                    \u001b[0m\u001b[1m \u001b[0m \u001b[1m \u001b[0m\u001b[1m1970086\u001b[0m\u001b[1m \u001b[0m \u001b[1;38;5;39m \u001b[0m\u001b[1;38;5;39m2023-03-21 \u001b[0m\u001b[1;38;5;39m \u001b[0m \u001b[1m \u001b[0m\u001b[1m0001970086-23-000001\u001b[0m\u001b[1m \u001b[0m  │\n",
       "│   23  \u001b[38;5;71m \u001b[0m\u001b[38;5;71mD   \u001b[0m\u001b[38;5;71m \u001b[0m  Click-ins YS1 a Series of CGF2021 LLC              1970187  \u001b[38;5;39m \u001b[0m\u001b[38;5;39m2023-03-21 \u001b[0m\u001b[38;5;39m \u001b[0m  0001970187-23-000001   │\n",
       "│  \u001b[1m \u001b[0m\u001b[1m24\u001b[0m\u001b[1m \u001b[0m \u001b[1;38;5;71m \u001b[0m\u001b[1;38;5;71mD   \u001b[0m\u001b[1;38;5;71m \u001b[0m \u001b[1m \u001b[0m\u001b[1mCodaMetrix Inc.                                 \u001b[0m\u001b[1m \u001b[0m \u001b[1m \u001b[0m\u001b[1m1959785\u001b[0m\u001b[1m \u001b[0m \u001b[1;38;5;39m \u001b[0m\u001b[1;38;5;39m2023-03-21 \u001b[0m\u001b[1;38;5;39m \u001b[0m \u001b[1m \u001b[0m\u001b[1m0001567619-23-005354\u001b[0m\u001b[1m \u001b[0m  │\n",
       "│   25  \u001b[38;5;71m \u001b[0m\u001b[38;5;71mD   \u001b[0m\u001b[38;5;71m \u001b[0m  Corumat, Inc.                                      1787336  \u001b[38;5;39m \u001b[0m\u001b[38;5;39m2023-03-21 \u001b[0m\u001b[38;5;39m \u001b[0m  0001787336-23-000001   │\n",
       "│  \u001b[1m \u001b[0m\u001b[1m26\u001b[0m\u001b[1m \u001b[0m \u001b[1;38;5;71m \u001b[0m\u001b[1;38;5;71mD   \u001b[0m\u001b[1;38;5;71m \u001b[0m \u001b[1m \u001b[0m\u001b[1mCreator Networks, Inc.                          \u001b[0m\u001b[1m \u001b[0m \u001b[1m \u001b[0m\u001b[1m1930007\u001b[0m\u001b[1m \u001b[0m \u001b[1;38;5;39m \u001b[0m\u001b[1;38;5;39m2023-03-21 \u001b[0m\u001b[1;38;5;39m \u001b[0m \u001b[1m \u001b[0m\u001b[1m0001930007-23-000001\u001b[0m\u001b[1m \u001b[0m  │\n",
       "│   27  \u001b[38;5;71m \u001b[0m\u001b[38;5;71mD   \u001b[0m\u001b[38;5;71m \u001b[0m  Crown Affair, Inc.                                 1795606  \u001b[38;5;39m \u001b[0m\u001b[38;5;39m2023-03-21 \u001b[0m\u001b[38;5;39m \u001b[0m  0000897069-23-000175   │\n",
       "│  \u001b[1m \u001b[0m\u001b[1m28\u001b[0m\u001b[1m \u001b[0m \u001b[1;38;5;71m \u001b[0m\u001b[1;38;5;71mD   \u001b[0m\u001b[1;38;5;71m \u001b[0m \u001b[1m \u001b[0m\u001b[1mDAP McCormick Hotel Holdings, LP                \u001b[0m\u001b[1m \u001b[0m \u001b[1m \u001b[0m\u001b[1m1969551\u001b[0m\u001b[1m \u001b[0m \u001b[1;38;5;39m \u001b[0m\u001b[1;38;5;39m2023-03-21 \u001b[0m\u001b[1;38;5;39m \u001b[0m \u001b[1m \u001b[0m\u001b[1m0001969551-23-000001\u001b[0m\u001b[1m \u001b[0m  │\n",
       "│   29  \u001b[38;5;71m \u001b[0m\u001b[38;5;71mD   \u001b[0m\u001b[38;5;71m \u001b[0m  Dare Funds, LP                                     1967421  \u001b[38;5;39m \u001b[0m\u001b[38;5;39m2023-03-21 \u001b[0m\u001b[38;5;39m \u001b[0m  0001968685-23-000001   │\n",
       "│  \u001b[1m \u001b[0m\u001b[1m30\u001b[0m\u001b[1m \u001b[0m \u001b[1;38;5;71m \u001b[0m\u001b[1;38;5;71mD   \u001b[0m\u001b[1;38;5;71m \u001b[0m \u001b[1m \u001b[0m\u001b[1mDermBiont, Inc.                                 \u001b[0m\u001b[1m \u001b[0m \u001b[1m \u001b[0m\u001b[1m1779253\u001b[0m\u001b[1m \u001b[0m \u001b[1;38;5;39m \u001b[0m\u001b[1;38;5;39m2023-03-21 \u001b[0m\u001b[1;38;5;39m \u001b[0m \u001b[1m \u001b[0m\u001b[1m0001779253-23-000001\u001b[0m\u001b[1m \u001b[0m  │\n",
       "│   31  \u001b[38;5;71m \u001b[0m\u001b[38;5;71mD   \u001b[0m\u001b[38;5;71m \u001b[0m  Echelon Fund 1 Series of Fundviews Series, LLC     1970278  \u001b[38;5;39m \u001b[0m\u001b[38;5;39m2023-03-21 \u001b[0m\u001b[38;5;39m \u001b[0m  0001970278-23-000001   │\n",
       "│  \u001b[1m \u001b[0m\u001b[1m32\u001b[0m\u001b[1m \u001b[0m \u001b[1;38;5;71m \u001b[0m\u001b[1;38;5;71mD   \u001b[0m\u001b[1;38;5;71m \u001b[0m \u001b[1m \u001b[0m\u001b[1mEphraim Utah Hotel, LLC                         \u001b[0m\u001b[1m \u001b[0m \u001b[1m \u001b[0m\u001b[1m1970247\u001b[0m\u001b[1m \u001b[0m \u001b[1;38;5;39m \u001b[0m\u001b[1;38;5;39m2023-03-21 \u001b[0m\u001b[1;38;5;39m \u001b[0m \u001b[1m \u001b[0m\u001b[1m0001970247-23-000002\u001b[0m\u001b[1m \u001b[0m  │\n",
       "│   33  \u001b[38;5;71m \u001b[0m\u001b[38;5;71mD   \u001b[0m\u001b[38;5;71m \u001b[0m  Ethos IRR Fund I, LP                               1969271  \u001b[38;5;39m \u001b[0m\u001b[38;5;39m2023-03-21 \u001b[0m\u001b[38;5;39m \u001b[0m  0001969271-23-000001   │\n",
       "│  \u001b[1m \u001b[0m\u001b[1m34\u001b[0m\u001b[1m \u001b[0m \u001b[1;38;5;71m \u001b[0m\u001b[1;38;5;71mD   \u001b[0m\u001b[1;38;5;71m \u001b[0m \u001b[1m \u001b[0m\u001b[1mFINCAP Fund I ELFINORA, LP                      \u001b[0m\u001b[1m \u001b[0m \u001b[1m \u001b[0m\u001b[1m1969564\u001b[0m\u001b[1m \u001b[0m \u001b[1;38;5;39m \u001b[0m\u001b[1;38;5;39m2023-03-21 \u001b[0m\u001b[1;38;5;39m \u001b[0m \u001b[1m \u001b[0m\u001b[1m0001969564-23-000001\u001b[0m\u001b[1m \u001b[0m  │\n",
       "│   35  \u001b[38;5;71m \u001b[0m\u001b[38;5;71mD   \u001b[0m\u001b[38;5;71m \u001b[0m  FL28 Fund I, a series of Roll Up Vehicles, LP      1970310  \u001b[38;5;39m \u001b[0m\u001b[38;5;39m2023-03-21 \u001b[0m\u001b[38;5;39m \u001b[0m  0001970310-23-000002   │\n",
       "│  \u001b[1m \u001b[0m\u001b[1m36\u001b[0m\u001b[1m \u001b[0m \u001b[1;38;5;71m \u001b[0m\u001b[1;38;5;71mD   \u001b[0m\u001b[1;38;5;71m \u001b[0m \u001b[1m \u001b[0m\u001b[1mFirst Capitol Place LLC                         \u001b[0m\u001b[1m \u001b[0m \u001b[1m \u001b[0m\u001b[1m1968681\u001b[0m\u001b[1m \u001b[0m \u001b[1;38;5;39m \u001b[0m\u001b[1;38;5;39m2023-03-21 \u001b[0m\u001b[1;38;5;39m \u001b[0m \u001b[1m \u001b[0m\u001b[1m0001968681-23-000001\u001b[0m\u001b[1m \u001b[0m  │\n",
       "│   37  \u001b[38;5;71m \u001b[0m\u001b[38;5;71mD   \u001b[0m\u001b[38;5;71m \u001b[0m  FirstChoice Capital, Inc.                          1809352  \u001b[38;5;39m \u001b[0m\u001b[38;5;39m2023-03-21 \u001b[0m\u001b[38;5;39m \u001b[0m  0001809352-23-000020   │\n",
       "│  \u001b[1m \u001b[0m\u001b[1m38\u001b[0m\u001b[1m \u001b[0m \u001b[1;38;5;71m \u001b[0m\u001b[1;38;5;71mD   \u001b[0m\u001b[1;38;5;71m \u001b[0m \u001b[1m \u001b[0m\u001b[1mFirstChoice Capital, Inc.                       \u001b[0m\u001b[1m \u001b[0m \u001b[1m \u001b[0m\u001b[1m1809352\u001b[0m\u001b[1m \u001b[0m \u001b[1;38;5;39m \u001b[0m\u001b[1;38;5;39m2023-03-21 \u001b[0m\u001b[1;38;5;39m \u001b[0m \u001b[1m \u001b[0m\u001b[1m0001809352-23-000021\u001b[0m\u001b[1m \u001b[0m  │\n",
       "│   39  \u001b[38;5;71m \u001b[0m\u001b[38;5;71mD   \u001b[0m\u001b[38;5;71m \u001b[0m  FirstChoice Capital, Inc.                          1809352  \u001b[38;5;39m \u001b[0m\u001b[38;5;39m2023-03-21 \u001b[0m\u001b[38;5;39m \u001b[0m  0001809352-23-000022   │\n",
       "│  \u001b[1m \u001b[0m\u001b[1m40\u001b[0m\u001b[1m \u001b[0m \u001b[1;38;5;71m \u001b[0m\u001b[1;38;5;71mD   \u001b[0m\u001b[1;38;5;71m \u001b[0m \u001b[1m \u001b[0m\u001b[1mForo Holdings, Inc.                             \u001b[0m\u001b[1m \u001b[0m \u001b[1m \u001b[0m\u001b[1m1970342\u001b[0m\u001b[1m \u001b[0m \u001b[1;38;5;39m \u001b[0m\u001b[1;38;5;39m2023-03-21 \u001b[0m\u001b[1;38;5;39m \u001b[0m \u001b[1m \u001b[0m\u001b[1m0001970342-23-000001\u001b[0m\u001b[1m \u001b[0m  │\n",
       "│   41  \u001b[38;5;71m \u001b[0m\u001b[38;5;71mD   \u001b[0m\u001b[38;5;71m \u001b[0m  Freestone Portfolios LP Real Estate                1969659  \u001b[38;5;39m \u001b[0m\u001b[38;5;39m2023-03-21 \u001b[0m\u001b[38;5;39m \u001b[0m  0001969659-23-000001   │\n",
       "│  \u001b[1m \u001b[0m\u001b[1m42\u001b[0m\u001b[1m \u001b[0m \u001b[1;38;5;71m \u001b[0m\u001b[1;38;5;71mD   \u001b[0m\u001b[1;38;5;71m \u001b[0m \u001b[1m \u001b[0m\u001b[1mFund I, Vermilion Cliffs Ventures, LP           \u001b[0m\u001b[1m \u001b[0m \u001b[1m \u001b[0m\u001b[1m1945039\u001b[0m\u001b[1m \u001b[0m \u001b[1;38;5;39m \u001b[0m\u001b[1;38;5;39m2023-03-21 \u001b[0m\u001b[1;38;5;39m \u001b[0m \u001b[1m \u001b[0m\u001b[1m0001945039-23-000001\u001b[0m\u001b[1m \u001b[0m  │\n",
       "│   43  \u001b[38;5;71m \u001b[0m\u001b[38;5;71mD   \u001b[0m\u001b[38;5;71m \u001b[0m  Fund I, a series of Marketplace Capital, LP        1958670  \u001b[38;5;39m \u001b[0m\u001b[38;5;39m2023-03-21 \u001b[0m\u001b[38;5;39m \u001b[0m  0001958670-23-000001   │\n",
       "│  \u001b[1m \u001b[0m\u001b[1m44\u001b[0m\u001b[1m \u001b[0m \u001b[1;38;5;71m \u001b[0m\u001b[1;38;5;71mD   \u001b[0m\u001b[1;38;5;71m \u001b[0m \u001b[1m \u001b[0m\u001b[1mG-Can of Oregon Holdings, Inc.                  \u001b[0m\u001b[1m \u001b[0m \u001b[1m \u001b[0m\u001b[1m1970042\u001b[0m\u001b[1m \u001b[0m \u001b[1;38;5;39m \u001b[0m\u001b[1;38;5;39m2023-03-21 \u001b[0m\u001b[1;38;5;39m \u001b[0m \u001b[1m \u001b[0m\u001b[1m0001970042-23-000001\u001b[0m\u001b[1m \u001b[0m  │\n",
       "│   45  \u001b[38;5;71m \u001b[0m\u001b[38;5;71mD   \u001b[0m\u001b[38;5;71m \u001b[0m  GLL Health Sciences Fund LLC                       1690008  \u001b[38;5;39m \u001b[0m\u001b[38;5;39m2023-03-21 \u001b[0m\u001b[38;5;39m \u001b[0m  0001690008-23-000001   │\n",
       "│  \u001b[1m \u001b[0m\u001b[1m46\u001b[0m\u001b[1m \u001b[0m \u001b[1;38;5;71m \u001b[0m\u001b[1;38;5;71mD   \u001b[0m\u001b[1;38;5;71m \u001b[0m \u001b[1m \u001b[0m\u001b[1mGLL Health Sciences Fund Ltd                    \u001b[0m\u001b[1m \u001b[0m \u001b[1m \u001b[0m\u001b[1m1694196\u001b[0m\u001b[1m \u001b[0m \u001b[1;38;5;39m \u001b[0m\u001b[1;38;5;39m2023-03-21 \u001b[0m\u001b[1;38;5;39m \u001b[0m \u001b[1m \u001b[0m\u001b[1m0001694196-23-000001\u001b[0m\u001b[1m \u001b[0m  │\n",
       "│   47  \u001b[38;5;71m \u001b[0m\u001b[38;5;71mD   \u001b[0m\u001b[38;5;71m \u001b[0m  GLL INVESTORS II, L.P.                             1353303  \u001b[38;5;39m \u001b[0m\u001b[38;5;39m2023-03-21 \u001b[0m\u001b[38;5;39m \u001b[0m  0001353303-23-000001   │\n",
       "│  \u001b[1m \u001b[0m\u001b[1m48\u001b[0m\u001b[1m \u001b[0m \u001b[1;38;5;71m \u001b[0m\u001b[1;38;5;71mD   \u001b[0m\u001b[1;38;5;71m \u001b[0m \u001b[1m \u001b[0m\u001b[1mGLL INVESTORS, L.P.                             \u001b[0m\u001b[1m \u001b[0m \u001b[1m \u001b[0m\u001b[1m935790 \u001b[0m\u001b[1m \u001b[0m \u001b[1;38;5;39m \u001b[0m\u001b[1;38;5;39m2023-03-21 \u001b[0m\u001b[1;38;5;39m \u001b[0m \u001b[1m \u001b[0m\u001b[1m0000935790-23-000001\u001b[0m\u001b[1m \u001b[0m  │\n",
       "│   49  \u001b[38;5;71m \u001b[0m\u001b[38;5;71mD   \u001b[0m\u001b[38;5;71m \u001b[0m  GLL INVESTORS, LTD                                 1221331  \u001b[38;5;39m \u001b[0m\u001b[38;5;39m2023-03-21 \u001b[0m\u001b[38;5;39m \u001b[0m  0001221331-23-000002   │\n",
       "│                                                                                                                 │\n",
       "│ Showing 50 of 12,881 filings                                                                                    │\n",
       "╰─────────────────────────────────────────────────────────────────────────────────────────────────────────────────╯"
      ]
     },
     "execution_count": 33,
     "metadata": {},
     "output_type": "execute_result"
    }
   ],
   "source": [
    "offering_filings = get_filings(form=\"D\")\n",
    "offering_filings"
   ]
  },
  {
   "cell_type": "code",
   "execution_count": 34,
   "id": "4fcf7ccf",
   "metadata": {},
   "outputs": [
    {
     "data": {
      "text/html": [
       "<pre style=\"white-space:pre;overflow-x:auto;line-height:normal;font-family:Menlo,'DejaVu Sans Mono',consolas,'Courier New',monospace\"></pre>\n"
      ],
      "text/plain": []
     },
     "metadata": {},
     "output_type": "display_data"
    },
    {
     "data": {
      "text/plain": [
       "\u001b[1mD filing\u001b[0m\n",
       "                                                                          \n",
       " \u001b[1m \u001b[0m\u001b[1maccession_no        \u001b[0m\u001b[1m \u001b[0m \u001b[1;38;5;71m \u001b[0m\u001b[1;38;5;71mform\u001b[0m\u001b[1;38;5;71m \u001b[0m \u001b[1m \u001b[0m\u001b[1mcompany         \u001b[0m\u001b[1m \u001b[0m \u001b[1m \u001b[0m\u001b[1mcik    \u001b[0m\u001b[1m \u001b[0m \u001b[1;38;5;39m \u001b[0m\u001b[1;38;5;39mfiling_date\u001b[0m\u001b[1;38;5;39m \u001b[0m \n",
       " ──────────────────────────────────────────────────────────────────────── \n",
       " \u001b[1m \u001b[0m\u001b[1m0001062993-23-007319\u001b[0m\u001b[1m \u001b[0m \u001b[1;38;5;71m \u001b[0m\u001b[1;38;5;71mD   \u001b[0m\u001b[1;38;5;71m \u001b[0m \u001b[1m \u001b[0m\u001b[1m1396483 B.C. Ltd\u001b[0m\u001b[1m \u001b[0m \u001b[1m \u001b[0m\u001b[1m1970227\u001b[0m\u001b[1m \u001b[0m \u001b[1;38;5;39m \u001b[0m\u001b[1;38;5;39m2023-03-21 \u001b[0m\u001b[1;38;5;39m \u001b[0m \n",
       "                                                                          "
      ]
     },
     "execution_count": 34,
     "metadata": {},
     "output_type": "execute_result"
    }
   ],
   "source": [
    "offering_filings[0]"
   ]
  },
  {
   "cell_type": "code",
   "execution_count": 35,
   "id": "52f06c6c",
   "metadata": {},
   "outputs": [
    {
     "data": {
      "text/html": [
       "<pre style=\"white-space:pre;overflow-x:auto;line-height:normal;font-family:Menlo,'DejaVu Sans Mono',consolas,'Courier New',monospace\"></pre>\n"
      ],
      "text/plain": []
     },
     "metadata": {},
     "output_type": "display_data"
    },
    {
     "data": {
      "text/plain": [
       "\u001b[1m  \u001b[0m\u001b[1m Form D Offering \u001b[0m\u001b[1m                                                  \u001b[0m\u001b[1m  \u001b[0m\n",
       "\u001b[1m \u001b[0m\u001b[1m \u001b[0m\u001b[1m                                                                   \u001b[0m\u001b[1m \u001b[0m\u001b[1m \u001b[0m\n",
       "\u001b[1m \u001b[0m\u001b[1m \u001b[0m\u001b[1m \u001b[0m\u001b[1m \u001b[0m\u001b[1mentity          \u001b[0m\u001b[1m \u001b[0m\u001b[1m \u001b[0m\u001b[1m \u001b[0m\u001b[1mcik       \u001b[0m\u001b[1m \u001b[0m\u001b[1m \u001b[0m\u001b[1m \u001b[0m\u001b[1mincorporated                   \u001b[0m\u001b[1m \u001b[0m\u001b[1m \u001b[0m\u001b[1m \u001b[0m\u001b[1m \u001b[0m\n",
       "\u001b[1m \u001b[0m\u001b[1m \u001b[0m\u001b[1m ───────────────────────────────────────────────────────────────── \u001b[0m\u001b[1m \u001b[0m\u001b[1m \u001b[0m\n",
       "\u001b[1m \u001b[0m\u001b[1m \u001b[0m\u001b[1m \u001b[0m\u001b[1;38;5;39m \u001b[0m\u001b[1;38;5;39m1396483 B.C. Ltd\u001b[0m\u001b[1;38;5;39m \u001b[0m\u001b[1m \u001b[0m\u001b[1m \u001b[0m\u001b[1m0001970227\u001b[0m\u001b[1m \u001b[0m\u001b[1m \u001b[0m\u001b[1m \u001b[0m\u001b[1m2023 (BRITISH COLUMBIA, CANADA)\u001b[0m\u001b[1m \u001b[0m\u001b[1m \u001b[0m\u001b[1m \u001b[0m\u001b[1m \u001b[0m\n",
       "\u001b[1m \u001b[0m\u001b[1m \u001b[0m\u001b[1m                                                                   \u001b[0m\u001b[1m \u001b[0m\u001b[1m \u001b[0m\n",
       "\u001b[1m                                                                       \u001b[0m\n",
       "\u001b[1m  \u001b[0m\u001b[1m Offering Detail \u001b[0m\u001b[1m                                                \u001b[0m\u001b[1m  \u001b[0m\n",
       "\u001b[1m \u001b[0m\u001b[1m \u001b[0m\u001b[1m                                                                 \u001b[0m\u001b[1m \u001b[0m\u001b[1m \u001b[0m\n",
       "\u001b[1m \u001b[0m\u001b[1m \u001b[0m\u001b[1m \u001b[0m\u001b[1m \u001b[0m\u001b[1mamount offered\u001b[0m\u001b[1m \u001b[0m\u001b[1m \u001b[0m\u001b[1m \u001b[0m\u001b[1mamount sold\u001b[0m\u001b[1m \u001b[0m\u001b[1m \u001b[0m\u001b[1m \u001b[0m\u001b[1minvestors\u001b[0m\u001b[1m \u001b[0m\u001b[1m \u001b[0m\u001b[1m \u001b[0m\u001b[1mminimum investment\u001b[0m\u001b[1m \u001b[0m\u001b[1m \u001b[0m\u001b[1m \u001b[0m\u001b[1m \u001b[0m\n",
       "\u001b[1m \u001b[0m\u001b[1m \u001b[0m\u001b[1m ─────────────────────────────────────────────────────────────── \u001b[0m\u001b[1m \u001b[0m\u001b[1m \u001b[0m\n",
       "\u001b[1m \u001b[0m\u001b[1m \u001b[0m\u001b[1m \u001b[0m\u001b[1;38;5;39m \u001b[0m\u001b[1;38;5;39m99104         \u001b[0m\u001b[1;38;5;39m \u001b[0m\u001b[1m \u001b[0m\u001b[1m \u001b[0m\u001b[1m55058      \u001b[0m\u001b[1m \u001b[0m\u001b[1m \u001b[0m\u001b[1m \u001b[0m\u001b[1m2        \u001b[0m\u001b[1m \u001b[0m\u001b[1m \u001b[0m\u001b[1m \u001b[0m\u001b[1m0                 \u001b[0m\u001b[1m \u001b[0m\u001b[1m \u001b[0m\u001b[1m \u001b[0m\u001b[1m \u001b[0m\n",
       "\u001b[1m \u001b[0m\u001b[1m \u001b[0m\u001b[1m                                                                 \u001b[0m\u001b[1m \u001b[0m\u001b[1m \u001b[0m\n",
       "\u001b[1m                                                                     \u001b[0m\n",
       "\u001b[1m                                                                                                                   \u001b[0m\n",
       "\u001b[1m \u001b[0m\u001b[1m \u001b[0m\u001b[1mRelated Persons       \u001b[0m\u001b[1m \u001b[0m\u001b[1mSales Compensation     \u001b[0m\u001b[1m                                                                 \u001b[0m\u001b[1m \u001b[0m\u001b[1m \u001b[0m\n",
       "\u001b[1m \u001b[0m\u001b[1m \u001b[0m\u001b[1m                      \u001b[0m\u001b[1m \u001b[0m\u001b[1m                       \u001b[0m\u001b[1m                                                                 \u001b[0m\u001b[1m \u001b[0m\u001b[1m \u001b[0m\n",
       "\u001b[1m \u001b[0m\u001b[1m \u001b[0m\u001b[1m \u001b[0m\u001b[1m \u001b[0m\u001b[1mrelated person    \u001b[0m\u001b[1m \u001b[0m\u001b[1m \u001b[0m\u001b[1m \u001b[0m\u001b[1m \u001b[0m\u001b[1m \u001b[0m\u001b[1mname\u001b[0m\u001b[1m \u001b[0m\u001b[1m \u001b[0m\u001b[1m \u001b[0m\u001b[1mcrd\u001b[0m\u001b[1m \u001b[0m\u001b[1m \u001b[0m\u001b[1m \u001b[0m\u001b[1mstates\u001b[0m\u001b[1m \u001b[0m\u001b[1m \u001b[0m\u001b[1m                                                                 \u001b[0m\u001b[1m \u001b[0m\u001b[1m \u001b[0m\n",
       "\u001b[1m \u001b[0m\u001b[1m \u001b[0m\u001b[1m ──────────────────── \u001b[0m\u001b[1m \u001b[0m\u001b[1m ───────────────────── \u001b[0m\u001b[1m                                                                 \u001b[0m\u001b[1m \u001b[0m\u001b[1m \u001b[0m\n",
       "\u001b[1m \u001b[0m\u001b[1m \u001b[0m\u001b[1m \u001b[0m\u001b[1;38;5;39m \u001b[0m\u001b[1;38;5;39mStephen Rentschler\u001b[0m\u001b[1;38;5;39m \u001b[0m\u001b[1m \u001b[0m\u001b[1m \u001b[0m\u001b[1m                       \u001b[0m\u001b[1m                                                                 \u001b[0m\u001b[1m \u001b[0m\u001b[1m \u001b[0m\n",
       "\u001b[1m \u001b[0m\u001b[1m \u001b[0m\u001b[1m                      \u001b[0m\u001b[1m \u001b[0m\u001b[1m                       \u001b[0m\u001b[1m                                                                 \u001b[0m\u001b[1m \u001b[0m\u001b[1m \u001b[0m\n",
       "\u001b[1m                                                                                                                   \u001b[0m\n",
       "\u001b[1m  \u001b[0m\u001b[1m Signatures \u001b[0m\u001b[1m                                                                                        \u001b[0m\u001b[1m  \u001b[0m\n",
       "\u001b[1m \u001b[0m\u001b[1m \u001b[0m\u001b[1m                                                                                                    \u001b[0m\u001b[1m \u001b[0m\u001b[1m \u001b[0m\n",
       "\u001b[1m \u001b[0m\u001b[1m \u001b[0m\u001b[1m \u001b[0m\u001b[1m \u001b[0m\u001b[1m \u001b[0m\u001b[1m \u001b[0m\u001b[1m \u001b[0m\u001b[1m \u001b[0m\u001b[1msignature             \u001b[0m\u001b[1m \u001b[0m\u001b[1m \u001b[0m\u001b[1m \u001b[0m\u001b[1msigner            \u001b[0m\u001b[1m \u001b[0m\u001b[1m \u001b[0m\u001b[1m \u001b[0m\u001b[1mtitle         \u001b[0m\u001b[1m \u001b[0m\u001b[1m \u001b[0m\u001b[1m \u001b[0m\u001b[1mdate      \u001b[0m\u001b[1m \u001b[0m\u001b[1m \u001b[0m\u001b[1m \u001b[0m\u001b[1missuer          \u001b[0m\u001b[1m \u001b[0m\u001b[1m \u001b[0m\u001b[1m \u001b[0m\u001b[1m \u001b[0m\n",
       "\u001b[1m \u001b[0m\u001b[1m \u001b[0m\u001b[1m ────────────────────────────────────────────────────────────────────────────────────────────────── \u001b[0m\u001b[1m \u001b[0m\u001b[1m \u001b[0m\n",
       "\u001b[1m \u001b[0m\u001b[1m \u001b[0m\u001b[1m \u001b[0m\u001b[1m \u001b[0m\u001b[1m1\u001b[0m\u001b[1m \u001b[0m\u001b[1m \u001b[0m\u001b[1;38;5;39m \u001b[0m\u001b[1;38;5;39m/s/ Stephen Rentschler\u001b[0m\u001b[1;38;5;39m \u001b[0m\u001b[1m \u001b[0m\u001b[1m \u001b[0m\u001b[1mStephen Rentschler\u001b[0m\u001b[1m \u001b[0m\u001b[1m \u001b[0m\u001b[1m \u001b[0m\u001b[1mCEO & Director\u001b[0m\u001b[1m \u001b[0m\u001b[1m \u001b[0m\u001b[1m \u001b[0m\u001b[1m2023-03-21\u001b[0m\u001b[1m \u001b[0m\u001b[1m \u001b[0m\u001b[1m \u001b[0m\u001b[1m1396483 B.C. Ltd\u001b[0m\u001b[1m \u001b[0m\u001b[1m \u001b[0m\u001b[1m \u001b[0m\u001b[1m \u001b[0m\n",
       "\u001b[1m \u001b[0m\u001b[1m \u001b[0m\u001b[1m                                                                                                    \u001b[0m\u001b[1m \u001b[0m\u001b[1m \u001b[0m\n",
       "\u001b[1m                                                                                                        \u001b[0m"
      ]
     },
     "execution_count": 35,
     "metadata": {},
     "output_type": "execute_result"
    }
   ],
   "source": [
    "Offering.from_xml(offering_filings[0].xml())"
   ]
  }
 ],
 "metadata": {
  "kernelspec": {
   "display_name": "Edgar Tools",
   "language": "python",
   "name": "edgartools"
  },
  "language_info": {
   "codemirror_mode": {
    "name": "ipython",
    "version": 3
   },
   "file_extension": ".py",
   "mimetype": "text/x-python",
   "name": "python",
   "nbconvert_exporter": "python",
   "pygments_lexer": "ipython3",
   "version": "3.10.5"
  }
 },
 "nbformat": 4,
 "nbformat_minor": 5
}

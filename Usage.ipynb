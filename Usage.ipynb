{
 "cells": [
  {
   "cell_type": "markdown",
   "id": "0b65ef79",
   "metadata": {},
   "source": [
    "# Usage\n",
    "<hr/>\n",
    "\n",
    "<a target=\"_blank\" href=\"https://colab.research.google.com/github/dgunning/edgartools/blob/main/Usage.ipynb\">\n",
    "  <img src=\"https://colab.research.google.com/assets/colab-badge.svg\" alt=\"Open In Colab\"/>\n",
    "</a>"
   ]
  },
  {
   "cell_type": "markdown",
   "id": "dcb71bc6",
   "metadata": {},
   "source": [
    "# Install\n",
    "<hr/>"
   ]
  },
  {
   "cell_type": "code",
   "execution_count": 1,
   "id": "081ed4f8",
   "metadata": {},
   "outputs": [
    {
     "name": "stdout",
     "output_type": "stream",
     "text": [
      "Requirement already satisfied: edgartools in c:\\users\\dwight\\appdata\\local\\hatch\\env\\virtual\\edgartools\\3oozmbs2\\edgartools\\lib\\site-packages (1.11.0)\n",
      "Requirement already satisfied: bs4==0.0.1 in c:\\users\\dwight\\appdata\\local\\hatch\\env\\virtual\\edgartools\\3oozmbs2\\edgartools\\lib\\site-packages (from edgartools) (0.0.1)\n",
      "Requirement already satisfied: httpx>=0.23.1 in c:\\users\\dwight\\appdata\\local\\hatch\\env\\virtual\\edgartools\\3oozmbs2\\edgartools\\lib\\site-packages (from edgartools) (0.23.1)\n",
      "Requirement already satisfied: charset-normalizer>2.1.1 in c:\\users\\dwight\\appdata\\local\\hatch\\env\\virtual\\edgartools\\3oozmbs2\\edgartools\\lib\\site-packages (from edgartools) (3.0.1)\n",
      "Requirement already satisfied: fastcore>=1.5.20 in c:\\users\\dwight\\appdata\\local\\hatch\\env\\virtual\\edgartools\\3oozmbs2\\edgartools\\lib\\site-packages (from edgartools) (1.5.27)\n",
      "Requirement already satisfied: pandas>=1.1.5 in c:\\users\\dwight\\appdata\\local\\hatch\\env\\virtual\\edgartools\\3oozmbs2\\edgartools\\lib\\site-packages (from edgartools) (1.5.2)\n",
      "Requirement already satisfied: humanize>=4.0.0 in c:\\users\\dwight\\appdata\\local\\hatch\\env\\virtual\\edgartools\\3oozmbs2\\edgartools\\lib\\site-packages (from edgartools) (4.4.0)\n",
      "Requirement already satisfied: lxml>=4.4 in c:\\users\\dwight\\appdata\\local\\hatch\\env\\virtual\\edgartools\\3oozmbs2\\edgartools\\lib\\site-packages (from edgartools) (4.9.2)\n",
      "Requirement already satisfied: rich>=12.6.0 in c:\\users\\dwight\\appdata\\local\\hatch\\env\\virtual\\edgartools\\3oozmbs2\\edgartools\\lib\\site-packages (from edgartools) (13.1.0)\n",
      "Requirement already satisfied: markdownify>0.11.0 in c:\\users\\dwight\\appdata\\local\\hatch\\env\\virtual\\edgartools\\3oozmbs2\\edgartools\\lib\\site-packages (from edgartools) (0.11.6)\n",
      "Requirement already satisfied: pyarrow>=9.0.0 in c:\\users\\dwight\\appdata\\local\\hatch\\env\\virtual\\edgartools\\3oozmbs2\\edgartools\\lib\\site-packages (from edgartools) (10.0.1)\n",
      "Requirement already satisfied: duckdb>=0.6.0 in c:\\users\\dwight\\appdata\\local\\hatch\\env\\virtual\\edgartools\\3oozmbs2\\edgartools\\lib\\site-packages (from edgartools) (0.6.1)\n",
      "Requirement already satisfied: beautifulsoup4 in c:\\users\\dwight\\appdata\\local\\hatch\\env\\virtual\\edgartools\\3oozmbs2\\edgartools\\lib\\site-packages (from bs4==0.0.1->edgartools) (4.11.1)\n",
      "Requirement already satisfied: numpy>=1.14 in c:\\users\\dwight\\appdata\\local\\hatch\\env\\virtual\\edgartools\\3oozmbs2\\edgartools\\lib\\site-packages (from duckdb>=0.6.0->edgartools) (1.24.1)\n",
      "Requirement already satisfied: pip in c:\\users\\dwight\\appdata\\local\\hatch\\env\\virtual\\edgartools\\3oozmbs2\\edgartools\\lib\\site-packages (from fastcore>=1.5.20->edgartools) (23.0)\n",
      "Requirement already satisfied: packaging in c:\\users\\dwight\\appdata\\local\\hatch\\env\\virtual\\edgartools\\3oozmbs2\\edgartools\\lib\\site-packages (from fastcore>=1.5.20->edgartools) (22.0)\n",
      "Requirement already satisfied: rfc3986[idna2008]<2,>=1.3 in c:\\users\\dwight\\appdata\\local\\hatch\\env\\virtual\\edgartools\\3oozmbs2\\edgartools\\lib\\site-packages (from httpx>=0.23.1->edgartools) (1.5.0)\n",
      "Requirement already satisfied: sniffio in c:\\users\\dwight\\appdata\\local\\hatch\\env\\virtual\\edgartools\\3oozmbs2\\edgartools\\lib\\site-packages (from httpx>=0.23.1->edgartools) (1.3.0)\n",
      "Requirement already satisfied: certifi in c:\\users\\dwight\\appdata\\local\\hatch\\env\\virtual\\edgartools\\3oozmbs2\\edgartools\\lib\\site-packages (from httpx>=0.23.1->edgartools) (2022.12.7)\n",
      "Requirement already satisfied: httpcore<0.17.0,>=0.15.0 in c:\\users\\dwight\\appdata\\local\\hatch\\env\\virtual\\edgartools\\3oozmbs2\\edgartools\\lib\\site-packages (from httpx>=0.23.1->edgartools) (0.16.3)\n",
      "Requirement already satisfied: six<2,>=1.15 in c:\\users\\dwight\\appdata\\local\\hatch\\env\\virtual\\edgartools\\3oozmbs2\\edgartools\\lib\\site-packages (from markdownify>0.11.0->edgartools) (1.16.0)\n",
      "Requirement already satisfied: python-dateutil>=2.8.1 in c:\\users\\dwight\\appdata\\local\\hatch\\env\\virtual\\edgartools\\3oozmbs2\\edgartools\\lib\\site-packages (from pandas>=1.1.5->edgartools) (2.8.2)\n",
      "Requirement already satisfied: pytz>=2020.1 in c:\\users\\dwight\\appdata\\local\\hatch\\env\\virtual\\edgartools\\3oozmbs2\\edgartools\\lib\\site-packages (from pandas>=1.1.5->edgartools) (2022.7)\n",
      "Requirement already satisfied: pygments<3.0.0,>=2.6.0 in c:\\users\\dwight\\appdata\\local\\hatch\\env\\virtual\\edgartools\\3oozmbs2\\edgartools\\lib\\site-packages (from rich>=12.6.0->edgartools) (2.13.0)\n",
      "Requirement already satisfied: commonmark<0.10.0,>=0.9.0 in c:\\users\\dwight\\appdata\\local\\hatch\\env\\virtual\\edgartools\\3oozmbs2\\edgartools\\lib\\site-packages (from rich>=12.6.0->edgartools) (0.9.1)\n",
      "Requirement already satisfied: soupsieve>1.2 in c:\\users\\dwight\\appdata\\local\\hatch\\env\\virtual\\edgartools\\3oozmbs2\\edgartools\\lib\\site-packages (from beautifulsoup4->bs4==0.0.1->edgartools) (2.3.2.post1)\n",
      "Requirement already satisfied: h11<0.15,>=0.13 in c:\\users\\dwight\\appdata\\local\\hatch\\env\\virtual\\edgartools\\3oozmbs2\\edgartools\\lib\\site-packages (from httpcore<0.17.0,>=0.15.0->httpx>=0.23.1->edgartools) (0.14.0)\n",
      "Requirement already satisfied: anyio<5.0,>=3.0 in c:\\users\\dwight\\appdata\\local\\hatch\\env\\virtual\\edgartools\\3oozmbs2\\edgartools\\lib\\site-packages (from httpcore<0.17.0,>=0.15.0->httpx>=0.23.1->edgartools) (3.6.2)\n",
      "Requirement already satisfied: idna in c:\\users\\dwight\\appdata\\local\\hatch\\env\\virtual\\edgartools\\3oozmbs2\\edgartools\\lib\\site-packages (from rfc3986[idna2008]<2,>=1.3->httpx>=0.23.1->edgartools) (3.4)\n"
     ]
    }
   ],
   "source": [
    "!pip install -U edgartools"
   ]
  },
  {
   "cell_type": "markdown",
   "id": "6973612d",
   "metadata": {},
   "source": [
    "# Imports\n",
    "<hr/>"
   ]
  },
  {
   "cell_type": "code",
   "execution_count": 2,
   "id": "8702904d",
   "metadata": {},
   "outputs": [],
   "source": [
    "from edgar import *"
   ]
  },
  {
   "cell_type": "markdown",
   "id": "723cc193",
   "metadata": {},
   "source": [
    "# Set identity"
   ]
  },
  {
   "cell_type": "code",
   "execution_count": 3,
   "id": "68614b4f",
   "metadata": {},
   "outputs": [
    {
     "data": {
      "text/html": [
       "<pre style=\"white-space:pre;overflow-x:auto;line-height:normal;font-family:Menlo,'DejaVu Sans Mono',consolas,'Courier New',monospace\"><span style=\"color: #7fbfbf; text-decoration-color: #7fbfbf\">[21:09:04] </span><span style=\"color: #000080; text-decoration-color: #000080\">INFO    </span> Identity of the Edgar REST client set to <span style=\"font-weight: bold\">[</span>Satya Somish smosh@gmail.com<span style=\"font-weight: bold\">]</span>              <a href=\"file://C:\\Users\\dwight\\PycharmProjects\\edgar\\edgar\\core.py\" target=\"_blank\"><span style=\"color: #7f7f7f; text-decoration-color: #7f7f7f\">core.py</span></a><span style=\"color: #7f7f7f; text-decoration-color: #7f7f7f\">:</span><a href=\"file://C:\\Users\\dwight\\PycharmProjects\\edgar\\edgar\\core.py#91\" target=\"_blank\"><span style=\"color: #7f7f7f; text-decoration-color: #7f7f7f\">91</span></a>\n",
       "</pre>\n"
      ],
      "text/plain": [
       "\u001b[2;36m[21:09:04]\u001b[0m\u001b[2;36m \u001b[0m\u001b[34mINFO    \u001b[0m Identity of the Edgar REST client set to \u001b[1m[\u001b[0mSatya Somish smosh@gmail.com\u001b[1m]\u001b[0m              \u001b]8;id=366165;file://C:\\Users\\dwight\\PycharmProjects\\edgar\\edgar\\core.py\u001b\\\u001b[2mcore.py\u001b[0m\u001b]8;;\u001b\\\u001b[2m:\u001b[0m\u001b]8;id=849927;file://C:\\Users\\dwight\\PycharmProjects\\edgar\\edgar\\core.py#91\u001b\\\u001b[2m91\u001b[0m\u001b]8;;\u001b\\\n"
      ]
     },
     "metadata": {},
     "output_type": "display_data"
    }
   ],
   "source": [
    "set_identity('Satya Somish smosh@gmail.com')"
   ]
  },
  {
   "cell_type": "markdown",
   "id": "f24d6abc",
   "metadata": {},
   "source": [
    "# Get Filings\n",
    "<hr/>"
   ]
  },
  {
   "cell_type": "markdown",
   "id": "64d90b0f",
   "metadata": {},
   "source": [
    "## Get filings with default values"
   ]
  },
  {
   "cell_type": "code",
   "execution_count": 4,
   "id": "4c46179a",
   "metadata": {},
   "outputs": [],
   "source": [
    "filings = get_filings()"
   ]
  },
  {
   "cell_type": "code",
   "execution_count": 5,
   "id": "80c6aec0",
   "metadata": {},
   "outputs": [
    {
     "data": {
      "text/html": [
       "<pre style=\"white-space:pre;overflow-x:auto;line-height:normal;font-family:Menlo,'DejaVu Sans Mono',consolas,'Courier New',monospace\"></pre>\n"
      ],
      "text/plain": []
     },
     "metadata": {},
     "output_type": "display_data"
    },
    {
     "data": {
      "text/plain": [
       "\u001b[1m                                                      Filings                                                      \u001b[0m\n",
       "                                                                                                                   \n",
       " \u001b[1m \u001b[0m\u001b[1m  \u001b[0m\u001b[1m \u001b[0m \u001b[1;38;5;71m \u001b[0m\u001b[1;38;5;71mform    \u001b[0m\u001b[1;38;5;71m \u001b[0m \u001b[1m \u001b[0m\u001b[1mcompany                                         \u001b[0m\u001b[1m \u001b[0m \u001b[1m \u001b[0m\u001b[1mcik    \u001b[0m\u001b[1m \u001b[0m \u001b[1;38;5;39m \u001b[0m\u001b[1;38;5;39mfiling_date\u001b[0m\u001b[1;38;5;39m \u001b[0m \u001b[1m \u001b[0m\u001b[1maccession_number    \u001b[0m\u001b[1m \u001b[0m \n",
       " ───────────────────────────────────────────────────────────────────────────────────────────────────────────────── \n",
       " \u001b[1m \u001b[0m\u001b[1m0 \u001b[0m\u001b[1m \u001b[0m \u001b[1;38;5;71m \u001b[0m\u001b[1;38;5;71m1-A POS \u001b[0m\u001b[1;38;5;71m \u001b[0m \u001b[1m \u001b[0m\u001b[1mArrived Homes, LLC                              \u001b[0m\u001b[1m \u001b[0m \u001b[1m \u001b[0m\u001b[1m1821720\u001b[0m\u001b[1m \u001b[0m \u001b[1;38;5;39m \u001b[0m\u001b[1;38;5;39m2023-02-14 \u001b[0m\u001b[1;38;5;39m \u001b[0m \u001b[1m \u001b[0m\u001b[1m0001821720-23-000010\u001b[0m\u001b[1m \u001b[0m \n",
       "  1   \u001b[38;5;71m \u001b[0m\u001b[38;5;71m1-A POS \u001b[0m\u001b[38;5;71m \u001b[0m  Here Collection LLC                                1876769  \u001b[38;5;39m \u001b[0m\u001b[38;5;39m2023-02-14 \u001b[0m\u001b[38;5;39m \u001b[0m  0001096906-23-000382  \n",
       " \u001b[1m \u001b[0m\u001b[1m2 \u001b[0m\u001b[1m \u001b[0m \u001b[1;38;5;71m \u001b[0m\u001b[1;38;5;71m1-A/A   \u001b[0m\u001b[1;38;5;71m \u001b[0m \u001b[1m \u001b[0m\u001b[1mAmerican Stories Entertainment Inc.             \u001b[0m\u001b[1m \u001b[0m \u001b[1m \u001b[0m\u001b[1m1840495\u001b[0m\u001b[1m \u001b[0m \u001b[1;38;5;39m \u001b[0m\u001b[1;38;5;39m2023-02-14 \u001b[0m\u001b[1;38;5;39m \u001b[0m \u001b[1m \u001b[0m\u001b[1m0001683168-23-000839\u001b[0m\u001b[1m \u001b[0m \n",
       "  3   \u001b[38;5;71m \u001b[0m\u001b[38;5;71m1-U     \u001b[0m\u001b[38;5;71m \u001b[0m  286 Lenox Partners LLC                             1877934  \u001b[38;5;39m \u001b[0m\u001b[38;5;39m2023-02-14 \u001b[0m\u001b[38;5;39m \u001b[0m  0001493152-23-004784  \n",
       " \u001b[1m \u001b[0m\u001b[1m4 \u001b[0m\u001b[1m \u001b[0m \u001b[1;38;5;71m \u001b[0m\u001b[1;38;5;71m1-U     \u001b[0m\u001b[1;38;5;71m \u001b[0m \u001b[1m \u001b[0m\u001b[1mCW Petroleum Corp                               \u001b[0m\u001b[1m \u001b[0m \u001b[1m \u001b[0m\u001b[1m1741220\u001b[0m\u001b[1m \u001b[0m \u001b[1;38;5;39m \u001b[0m\u001b[1;38;5;39m2023-02-14 \u001b[0m\u001b[1;38;5;39m \u001b[0m \u001b[1m \u001b[0m\u001b[1m0001493152-23-004588\u001b[0m\u001b[1m \u001b[0m \n",
       "  5   \u001b[38;5;71m \u001b[0m\u001b[38;5;71m1-U     \u001b[0m\u001b[38;5;71m \u001b[0m  Masterworks 203, LLC                               1955692  \u001b[38;5;39m \u001b[0m\u001b[38;5;39m2023-02-14 \u001b[0m\u001b[38;5;39m \u001b[0m  0001493152-23-005030  \n",
       " \u001b[1m \u001b[0m\u001b[1m6 \u001b[0m\u001b[1m \u001b[0m \u001b[1;38;5;71m \u001b[0m\u001b[1;38;5;71m1-U     \u001b[0m\u001b[1;38;5;71m \u001b[0m \u001b[1m \u001b[0m\u001b[1mMasterworks 203, LLC                            \u001b[0m\u001b[1m \u001b[0m \u001b[1m \u001b[0m\u001b[1m1955692\u001b[0m\u001b[1m \u001b[0m \u001b[1;38;5;39m \u001b[0m\u001b[1;38;5;39m2023-02-14 \u001b[0m\u001b[1;38;5;39m \u001b[0m \u001b[1m \u001b[0m\u001b[1m0001493152-23-005035\u001b[0m\u001b[1m \u001b[0m \n",
       "  7   \u001b[38;5;71m \u001b[0m\u001b[38;5;71m1-U     \u001b[0m\u001b[38;5;71m \u001b[0m  Masterworks 216, LLC                               1958122  \u001b[38;5;39m \u001b[0m\u001b[38;5;39m2023-02-14 \u001b[0m\u001b[38;5;39m \u001b[0m  0001493152-23-005006  \n",
       " \u001b[1m \u001b[0m\u001b[1m8 \u001b[0m\u001b[1m \u001b[0m \u001b[1;38;5;71m \u001b[0m\u001b[1;38;5;71m1-U     \u001b[0m\u001b[1;38;5;71m \u001b[0m \u001b[1m \u001b[0m\u001b[1mMasterworks 216, LLC                            \u001b[0m\u001b[1m \u001b[0m \u001b[1m \u001b[0m\u001b[1m1958122\u001b[0m\u001b[1m \u001b[0m \u001b[1;38;5;39m \u001b[0m\u001b[1;38;5;39m2023-02-14 \u001b[0m\u001b[1;38;5;39m \u001b[0m \u001b[1m \u001b[0m\u001b[1m0001493152-23-005013\u001b[0m\u001b[1m \u001b[0m \n",
       "  9   \u001b[38;5;71m \u001b[0m\u001b[38;5;71m1-U     \u001b[0m\u001b[38;5;71m \u001b[0m  Masterworks 220, LLC                               1958307  \u001b[38;5;39m \u001b[0m\u001b[38;5;39m2023-02-14 \u001b[0m\u001b[38;5;39m \u001b[0m  0001493152-23-005029  \n",
       " \u001b[1m \u001b[0m\u001b[1m10\u001b[0m\u001b[1m \u001b[0m \u001b[1;38;5;71m \u001b[0m\u001b[1;38;5;71m1-U     \u001b[0m\u001b[1;38;5;71m \u001b[0m \u001b[1m \u001b[0m\u001b[1mMasterworks 220, LLC                            \u001b[0m\u001b[1m \u001b[0m \u001b[1m \u001b[0m\u001b[1m1958307\u001b[0m\u001b[1m \u001b[0m \u001b[1;38;5;39m \u001b[0m\u001b[1;38;5;39m2023-02-14 \u001b[0m\u001b[1;38;5;39m \u001b[0m \u001b[1m \u001b[0m\u001b[1m0001493152-23-005033\u001b[0m\u001b[1m \u001b[0m \n",
       "  11  \u001b[38;5;71m \u001b[0m\u001b[38;5;71m1-U     \u001b[0m\u001b[38;5;71m \u001b[0m  Masterworks 220, LLC                               1958307  \u001b[38;5;39m \u001b[0m\u001b[38;5;39m2023-02-14 \u001b[0m\u001b[38;5;39m \u001b[0m  0001493152-23-005043  \n",
       " \u001b[1m \u001b[0m\u001b[1m12\u001b[0m\u001b[1m \u001b[0m \u001b[1;38;5;71m \u001b[0m\u001b[1;38;5;71m1-U     \u001b[0m\u001b[1;38;5;71m \u001b[0m \u001b[1m \u001b[0m\u001b[1mNV REIT LLC                                     \u001b[0m\u001b[1m \u001b[0m \u001b[1m \u001b[0m\u001b[1m1947455\u001b[0m\u001b[1m \u001b[0m \u001b[1;38;5;39m \u001b[0m\u001b[1;38;5;39m2023-02-14 \u001b[0m\u001b[1;38;5;39m \u001b[0m \u001b[1m \u001b[0m\u001b[1m0001213900-23-011400\u001b[0m\u001b[1m \u001b[0m \n",
       "  13  \u001b[38;5;71m \u001b[0m\u001b[38;5;71m1-U     \u001b[0m\u001b[38;5;71m \u001b[0m  Rise Companies Corp                                1640967  \u001b[38;5;39m \u001b[0m\u001b[38;5;39m2023-02-14 \u001b[0m\u001b[38;5;39m \u001b[0m  0001104659-23-021789  \n",
       " \u001b[1m \u001b[0m\u001b[1m14\u001b[0m\u001b[1m \u001b[0m \u001b[1;38;5;71m \u001b[0m\u001b[1;38;5;71m10-12G  \u001b[0m\u001b[1;38;5;71m \u001b[0m \u001b[1m \u001b[0m\u001b[1mEESTech, Inc.                                   \u001b[0m\u001b[1m \u001b[0m \u001b[1m \u001b[0m\u001b[1m1138867\u001b[0m\u001b[1m \u001b[0m \u001b[1;38;5;39m \u001b[0m\u001b[1;38;5;39m2023-02-14 \u001b[0m\u001b[1;38;5;39m \u001b[0m \u001b[1m \u001b[0m\u001b[1m0001539497-23-000315\u001b[0m\u001b[1m \u001b[0m \n",
       "  15  \u001b[38;5;71m \u001b[0m\u001b[38;5;71m10-12G  \u001b[0m\u001b[38;5;71m \u001b[0m  METROSPACES, INC.                                  1488501  \u001b[38;5;39m \u001b[0m\u001b[38;5;39m2023-02-14 \u001b[0m\u001b[38;5;39m \u001b[0m  0001903596-23-000139  \n",
       " \u001b[1m \u001b[0m\u001b[1m16\u001b[0m\u001b[1m \u001b[0m \u001b[1;38;5;71m \u001b[0m\u001b[1;38;5;71m10-12G/A\u001b[0m\u001b[1;38;5;71m \u001b[0m \u001b[1m \u001b[0m\u001b[1mHALLMARK VENTURE GROUP, INC.                    \u001b[0m\u001b[1m \u001b[0m \u001b[1m \u001b[0m\u001b[1m1331421\u001b[0m\u001b[1m \u001b[0m \u001b[1;38;5;39m \u001b[0m\u001b[1;38;5;39m2023-02-14 \u001b[0m\u001b[1;38;5;39m \u001b[0m \u001b[1m \u001b[0m\u001b[1m0001493152-23-004806\u001b[0m\u001b[1m \u001b[0m \n",
       "  17  \u001b[38;5;71m \u001b[0m\u001b[38;5;71m10-D    \u001b[0m\u001b[38;5;71m \u001b[0m  PSNH FUNDING LLC 3                                 1730300  \u001b[38;5;39m \u001b[0m\u001b[38;5;39m2023-02-14 \u001b[0m\u001b[38;5;39m \u001b[0m  0001104659-23-021624  \n",
       " \u001b[1m \u001b[0m\u001b[1m18\u001b[0m\u001b[1m \u001b[0m \u001b[1;38;5;71m \u001b[0m\u001b[1;38;5;71m10-D    \u001b[0m\u001b[1;38;5;71m \u001b[0m \u001b[1m \u001b[0m\u001b[1mPUBLIC SERVICE CO OF NEW HAMPSHIRE              \u001b[0m\u001b[1m \u001b[0m \u001b[1m \u001b[0m\u001b[1m315256 \u001b[0m\u001b[1m \u001b[0m \u001b[1;38;5;39m \u001b[0m\u001b[1;38;5;39m2023-02-14 \u001b[0m\u001b[1;38;5;39m \u001b[0m \u001b[1m \u001b[0m\u001b[1m0001104659-23-021624\u001b[0m\u001b[1m \u001b[0m \n",
       "  19  \u001b[38;5;71m \u001b[0m\u001b[38;5;71m10-K    \u001b[0m\u001b[38;5;71m \u001b[0m  AGREE REALTY CORP                                  917251   \u001b[38;5;39m \u001b[0m\u001b[38;5;39m2023-02-14 \u001b[0m\u001b[38;5;39m \u001b[0m  0001558370-23-001274  \n",
       " \u001b[1m \u001b[0m\u001b[1m20\u001b[0m\u001b[1m \u001b[0m \u001b[1;38;5;71m \u001b[0m\u001b[1;38;5;71m10-K    \u001b[0m\u001b[1;38;5;71m \u001b[0m \u001b[1m \u001b[0m\u001b[1mATLANTIC CITY ELECTRIC CO                       \u001b[0m\u001b[1m \u001b[0m \u001b[1m \u001b[0m\u001b[1m8192   \u001b[0m\u001b[1m \u001b[0m \u001b[1;38;5;39m \u001b[0m\u001b[1;38;5;39m2023-02-14 \u001b[0m\u001b[1;38;5;39m \u001b[0m \u001b[1m \u001b[0m\u001b[1m0001109357-23-000018\u001b[0m\u001b[1m \u001b[0m \n",
       "  21  \u001b[38;5;71m \u001b[0m\u001b[38;5;71m10-K    \u001b[0m\u001b[38;5;71m \u001b[0m  Adaptive Biotechnologies Corp                      1478320  \u001b[38;5;39m \u001b[0m\u001b[38;5;39m2023-02-14 \u001b[0m\u001b[38;5;39m \u001b[0m  0000950170-23-002792  \n",
       " \u001b[1m \u001b[0m\u001b[1m22\u001b[0m\u001b[1m \u001b[0m \u001b[1;38;5;71m \u001b[0m\u001b[1;38;5;71m10-K    \u001b[0m\u001b[1;38;5;71m \u001b[0m \u001b[1m \u001b[0m\u001b[1mArcher-Daniels-Midland Co                       \u001b[0m\u001b[1m \u001b[0m \u001b[1m \u001b[0m\u001b[1m7084   \u001b[0m\u001b[1m \u001b[0m \u001b[1;38;5;39m \u001b[0m\u001b[1;38;5;39m2023-02-14 \u001b[0m\u001b[1;38;5;39m \u001b[0m \u001b[1m \u001b[0m\u001b[1m0000007084-23-000010\u001b[0m\u001b[1m \u001b[0m \n",
       "  23  \u001b[38;5;71m \u001b[0m\u001b[38;5;71m10-K    \u001b[0m\u001b[38;5;71m \u001b[0m  Arista Networks, Inc.                              1596532  \u001b[38;5;39m \u001b[0m\u001b[38;5;39m2023-02-14 \u001b[0m\u001b[38;5;39m \u001b[0m  0001596532-23-000016  \n",
       " \u001b[1m \u001b[0m\u001b[1m24\u001b[0m\u001b[1m \u001b[0m \u001b[1;38;5;71m \u001b[0m\u001b[1;38;5;71m10-K    \u001b[0m\u001b[1;38;5;71m \u001b[0m \u001b[1m \u001b[0m\u001b[1mAvantor, Inc.                                   \u001b[0m\u001b[1m \u001b[0m \u001b[1m \u001b[0m\u001b[1m1722482\u001b[0m\u001b[1m \u001b[0m \u001b[1;38;5;39m \u001b[0m\u001b[1;38;5;39m2023-02-14 \u001b[0m\u001b[1;38;5;39m \u001b[0m \u001b[1m \u001b[0m\u001b[1m0001722482-23-000040\u001b[0m\u001b[1m \u001b[0m \n",
       "  25  \u001b[38;5;71m \u001b[0m\u001b[38;5;71m10-K    \u001b[0m\u001b[38;5;71m \u001b[0m  BALTIMORE GAS & ELECTRIC CO                        9466     \u001b[38;5;39m \u001b[0m\u001b[38;5;39m2023-02-14 \u001b[0m\u001b[38;5;39m \u001b[0m  0001109357-23-000018  \n",
       " \u001b[1m \u001b[0m\u001b[1m26\u001b[0m\u001b[1m \u001b[0m \u001b[1;38;5;71m \u001b[0m\u001b[1;38;5;71m10-K    \u001b[0m\u001b[1;38;5;71m \u001b[0m \u001b[1m \u001b[0m\u001b[1mBLACK HILLS CORP /SD/                           \u001b[0m\u001b[1m \u001b[0m \u001b[1m \u001b[0m\u001b[1m1130464\u001b[0m\u001b[1m \u001b[0m \u001b[1;38;5;39m \u001b[0m\u001b[1;38;5;39m2023-02-14 \u001b[0m\u001b[1;38;5;39m \u001b[0m \u001b[1m \u001b[0m\u001b[1m0000950170-23-002759\u001b[0m\u001b[1m \u001b[0m \n",
       "  27  \u001b[38;5;71m \u001b[0m\u001b[38;5;71m10-K    \u001b[0m\u001b[38;5;71m \u001b[0m  BRISTOL MYERS SQUIBB CO                            14272    \u001b[38;5;39m \u001b[0m\u001b[38;5;39m2023-02-14 \u001b[0m\u001b[38;5;39m \u001b[0m  0000014272-23-000046  \n",
       " \u001b[1m \u001b[0m\u001b[1m28\u001b[0m\u001b[1m \u001b[0m \u001b[1;38;5;71m \u001b[0m\u001b[1;38;5;71m10-K    \u001b[0m\u001b[1;38;5;71m \u001b[0m \u001b[1m \u001b[0m\u001b[1mBaker Hughes Co                                 \u001b[0m\u001b[1m \u001b[0m \u001b[1m \u001b[0m\u001b[1m1701605\u001b[0m\u001b[1m \u001b[0m \u001b[1;38;5;39m \u001b[0m\u001b[1;38;5;39m2023-02-14 \u001b[0m\u001b[1;38;5;39m \u001b[0m \u001b[1m \u001b[0m\u001b[1m0001701605-23-000044\u001b[0m\u001b[1m \u001b[0m \n",
       "  29  \u001b[38;5;71m \u001b[0m\u001b[38;5;71m10-K    \u001b[0m\u001b[38;5;71m \u001b[0m  Baker Hughes Holdings LLC                          808362   \u001b[38;5;39m \u001b[0m\u001b[38;5;39m2023-02-14 \u001b[0m\u001b[38;5;39m \u001b[0m  0000808362-23-000010  \n",
       " \u001b[1m \u001b[0m\u001b[1m30\u001b[0m\u001b[1m \u001b[0m \u001b[1;38;5;71m \u001b[0m\u001b[1;38;5;71m10-K    \u001b[0m\u001b[1;38;5;71m \u001b[0m \u001b[1m \u001b[0m\u001b[1mCIIG Capital Partners II, Inc.                  \u001b[0m\u001b[1m \u001b[0m \u001b[1m \u001b[0m\u001b[1m1841338\u001b[0m\u001b[1m \u001b[0m \u001b[1;38;5;39m \u001b[0m\u001b[1;38;5;39m2023-02-14 \u001b[0m\u001b[1;38;5;39m \u001b[0m \u001b[1m \u001b[0m\u001b[1m0001213900-23-011520\u001b[0m\u001b[1m \u001b[0m \n",
       "  31  \u001b[38;5;71m \u001b[0m\u001b[38;5;71m10-K    \u001b[0m\u001b[38;5;71m \u001b[0m  CLEVELAND-CLIFFS INC.                              764065   \u001b[38;5;39m \u001b[0m\u001b[38;5;39m2023-02-14 \u001b[0m\u001b[38;5;39m \u001b[0m  0000764065-23-000032  \n",
       " \u001b[1m \u001b[0m\u001b[1m32\u001b[0m\u001b[1m \u001b[0m \u001b[1;38;5;71m \u001b[0m\u001b[1;38;5;71m10-K    \u001b[0m\u001b[1;38;5;71m \u001b[0m \u001b[1m \u001b[0m\u001b[1mCOMERICA INC /NEW/                              \u001b[0m\u001b[1m \u001b[0m \u001b[1m \u001b[0m\u001b[1m28412  \u001b[0m\u001b[1m \u001b[0m \u001b[1;38;5;39m \u001b[0m\u001b[1;38;5;39m2023-02-14 \u001b[0m\u001b[1;38;5;39m \u001b[0m \u001b[1m \u001b[0m\u001b[1m0000028412-23-000094\u001b[0m\u001b[1m \u001b[0m \n",
       "  33  \u001b[38;5;71m \u001b[0m\u001b[38;5;71m10-K    \u001b[0m\u001b[38;5;71m \u001b[0m  COMMONWEALTH EDISON Co                             22606    \u001b[38;5;39m \u001b[0m\u001b[38;5;39m2023-02-14 \u001b[0m\u001b[38;5;39m \u001b[0m  0001109357-23-000018  \n",
       " \u001b[1m \u001b[0m\u001b[1m34\u001b[0m\u001b[1m \u001b[0m \u001b[1;38;5;71m \u001b[0m\u001b[1;38;5;71m10-K    \u001b[0m\u001b[1;38;5;71m \u001b[0m \u001b[1m \u001b[0m\u001b[1mCUMMINS INC                                     \u001b[0m\u001b[1m \u001b[0m \u001b[1m \u001b[0m\u001b[1m26172  \u001b[0m\u001b[1m \u001b[0m \u001b[1;38;5;39m \u001b[0m\u001b[1;38;5;39m2023-02-14 \u001b[0m\u001b[1;38;5;39m \u001b[0m \u001b[1m \u001b[0m\u001b[1m0000026172-23-000005\u001b[0m\u001b[1m \u001b[0m \n",
       "  35  \u001b[38;5;71m \u001b[0m\u001b[38;5;71m10-K    \u001b[0m\u001b[38;5;71m \u001b[0m  Clearwater Paper Corp                              1441236  \u001b[38;5;39m \u001b[0m\u001b[38;5;39m2023-02-14 \u001b[0m\u001b[38;5;39m \u001b[0m  0001504337-23-000008  \n",
       " \u001b[1m \u001b[0m\u001b[1m36\u001b[0m\u001b[1m \u001b[0m \u001b[1;38;5;71m \u001b[0m\u001b[1;38;5;71m10-K    \u001b[0m\u001b[1;38;5;71m \u001b[0m \u001b[1m \u001b[0m\u001b[1mCommunity Healthcare Trust Inc                  \u001b[0m\u001b[1m \u001b[0m \u001b[1m \u001b[0m\u001b[1m1631569\u001b[0m\u001b[1m \u001b[0m \u001b[1;38;5;39m \u001b[0m\u001b[1;38;5;39m2023-02-14 \u001b[0m\u001b[1;38;5;39m \u001b[0m \u001b[1m \u001b[0m\u001b[1m0001631569-23-000017\u001b[0m\u001b[1m \u001b[0m \n",
       "  37  \u001b[38;5;71m \u001b[0m\u001b[38;5;71m10-K    \u001b[0m\u001b[38;5;71m \u001b[0m  DELMARVA POWER & LIGHT CO /DE/                     27879    \u001b[38;5;39m \u001b[0m\u001b[38;5;39m2023-02-14 \u001b[0m\u001b[38;5;39m \u001b[0m  0001109357-23-000018  \n",
       " \u001b[1m \u001b[0m\u001b[1m38\u001b[0m\u001b[1m \u001b[0m \u001b[1;38;5;71m \u001b[0m\u001b[1;38;5;71m10-K    \u001b[0m\u001b[1;38;5;71m \u001b[0m \u001b[1m \u001b[0m\u001b[1mEXELON CORP                                     \u001b[0m\u001b[1m \u001b[0m \u001b[1m \u001b[0m\u001b[1m1109357\u001b[0m\u001b[1m \u001b[0m \u001b[1;38;5;39m \u001b[0m\u001b[1;38;5;39m2023-02-14 \u001b[0m\u001b[1;38;5;39m \u001b[0m \u001b[1m \u001b[0m\u001b[1m0001109357-23-000018\u001b[0m\u001b[1m \u001b[0m \n",
       "  39  \u001b[38;5;71m \u001b[0m\u001b[38;5;71m10-K    \u001b[0m\u001b[38;5;71m \u001b[0m  FEDERAL NATIONAL MORTGAGE ASSOCIATION FANNIE MAE   310522   \u001b[38;5;39m \u001b[0m\u001b[38;5;39m2023-02-14 \u001b[0m\u001b[38;5;39m \u001b[0m  0000310522-23-000184  \n",
       " \u001b[1m \u001b[0m\u001b[1m40\u001b[0m\u001b[1m \u001b[0m \u001b[1;38;5;71m \u001b[0m\u001b[1;38;5;71m10-K    \u001b[0m\u001b[1;38;5;71m \u001b[0m \u001b[1m \u001b[0m\u001b[1mFRANKLIN STREET PROPERTIES CORP /MA/            \u001b[0m\u001b[1m \u001b[0m \u001b[1m \u001b[0m\u001b[1m1031316\u001b[0m\u001b[1m \u001b[0m \u001b[1;38;5;39m \u001b[0m\u001b[1;38;5;39m2023-02-14 \u001b[0m\u001b[1;38;5;39m \u001b[0m \u001b[1m \u001b[0m\u001b[1m0001558370-23-001280\u001b[0m\u001b[1m \u001b[0m \n",
       "  41  \u001b[38;5;71m \u001b[0m\u001b[38;5;71m10-K    \u001b[0m\u001b[38;5;71m \u001b[0m  Freedom Internet Group Inc.                        1791325  \u001b[38;5;39m \u001b[0m\u001b[38;5;39m2023-02-14 \u001b[0m\u001b[38;5;39m \u001b[0m  0001096906-23-000384  \n",
       " \u001b[1m \u001b[0m\u001b[1m42\u001b[0m\u001b[1m \u001b[0m \u001b[1;38;5;71m \u001b[0m\u001b[1;38;5;71m10-K    \u001b[0m\u001b[1;38;5;71m \u001b[0m \u001b[1m \u001b[0m\u001b[1mGRAFTECH INTERNATIONAL LTD                      \u001b[0m\u001b[1m \u001b[0m \u001b[1m \u001b[0m\u001b[1m931148 \u001b[0m\u001b[1m \u001b[0m \u001b[1;38;5;39m \u001b[0m\u001b[1;38;5;39m2023-02-14 \u001b[0m\u001b[1;38;5;39m \u001b[0m \u001b[1m \u001b[0m\u001b[1m0000931148-23-000035\u001b[0m\u001b[1m \u001b[0m \n",
       "  43  \u001b[38;5;71m \u001b[0m\u001b[38;5;71m10-K    \u001b[0m\u001b[38;5;71m \u001b[0m  Garrett Motion Inc.                                1735707  \u001b[38;5;39m \u001b[0m\u001b[38;5;39m2023-02-14 \u001b[0m\u001b[38;5;39m \u001b[0m  0001735707-23-000018  \n",
       " \u001b[1m \u001b[0m\u001b[1m44\u001b[0m\u001b[1m \u001b[0m \u001b[1;38;5;71m \u001b[0m\u001b[1;38;5;71m10-K    \u001b[0m\u001b[1;38;5;71m \u001b[0m \u001b[1m \u001b[0m\u001b[1mHERBALIFE NUTRITION LTD.                        \u001b[0m\u001b[1m \u001b[0m \u001b[1m \u001b[0m\u001b[1m1180262\u001b[0m\u001b[1m \u001b[0m \u001b[1;38;5;39m \u001b[0m\u001b[1;38;5;39m2023-02-14 \u001b[0m\u001b[1;38;5;39m \u001b[0m \u001b[1m \u001b[0m\u001b[1m0000950170-23-002787\u001b[0m\u001b[1m \u001b[0m \n",
       "  45  \u001b[38;5;71m \u001b[0m\u001b[38;5;71m10-K    \u001b[0m\u001b[38;5;71m \u001b[0m  HERC HOLDINGS INC                                  1364479  \u001b[38;5;39m \u001b[0m\u001b[38;5;39m2023-02-14 \u001b[0m\u001b[38;5;39m \u001b[0m  0001364479-23-000006  \n",
       " \u001b[1m \u001b[0m\u001b[1m46\u001b[0m\u001b[1m \u001b[0m \u001b[1;38;5;71m \u001b[0m\u001b[1;38;5;71m10-K    \u001b[0m\u001b[1;38;5;71m \u001b[0m \u001b[1m \u001b[0m\u001b[1mHowmet Aerospace Inc.                           \u001b[0m\u001b[1m \u001b[0m \u001b[1m \u001b[0m\u001b[1m4281   \u001b[0m\u001b[1m \u001b[0m \u001b[1;38;5;39m \u001b[0m\u001b[1;38;5;39m2023-02-14 \u001b[0m\u001b[1;38;5;39m \u001b[0m \u001b[1m \u001b[0m\u001b[1m0000004281-23-000004\u001b[0m\u001b[1m \u001b[0m \n",
       "  47  \u001b[38;5;71m \u001b[0m\u001b[38;5;71m10-K    \u001b[0m\u001b[38;5;71m \u001b[0m  IROBOT CORP                                        1159167  \u001b[38;5;39m \u001b[0m\u001b[38;5;39m2023-02-14 \u001b[0m\u001b[38;5;39m \u001b[0m  0001159167-23-000011  \n",
       " \u001b[1m \u001b[0m\u001b[1m48\u001b[0m\u001b[1m \u001b[0m \u001b[1;38;5;71m \u001b[0m\u001b[1;38;5;71m10-K    \u001b[0m\u001b[1;38;5;71m \u001b[0m \u001b[1m \u001b[0m\u001b[1mIndustrial Logistics Properties Trust           \u001b[0m\u001b[1m \u001b[0m \u001b[1m \u001b[0m\u001b[1m1717307\u001b[0m\u001b[1m \u001b[0m \u001b[1;38;5;39m \u001b[0m\u001b[1;38;5;39m2023-02-14 \u001b[0m\u001b[1;38;5;39m \u001b[0m \u001b[1m \u001b[0m\u001b[1m0001717307-23-000013\u001b[0m\u001b[1m \u001b[0m \n",
       "  49  \u001b[38;5;71m \u001b[0m\u001b[38;5;71m10-K    \u001b[0m\u001b[38;5;71m \u001b[0m  KAT EXPLORATION, INC.                              1474558  \u001b[38;5;39m \u001b[0m\u001b[38;5;39m2023-02-14 \u001b[0m\u001b[38;5;39m \u001b[0m  0001683168-23-000914  \n",
       "                                                                                                                   \n",
       "Showing 50 of 170,293 filings"
      ]
     },
     "execution_count": 5,
     "metadata": {},
     "output_type": "execute_result"
    }
   ],
   "source": [
    "filings"
   ]
  },
  {
   "cell_type": "markdown",
   "id": "7ac27af3",
   "metadata": {},
   "source": [
    "## Get next page of filings"
   ]
  },
  {
   "cell_type": "code",
   "execution_count": 6,
   "id": "a7255a86",
   "metadata": {},
   "outputs": [
    {
     "data": {
      "text/html": [
       "<pre style=\"white-space:pre;overflow-x:auto;line-height:normal;font-family:Menlo,'DejaVu Sans Mono',consolas,'Courier New',monospace\"></pre>\n"
      ],
      "text/plain": []
     },
     "metadata": {},
     "output_type": "display_data"
    },
    {
     "data": {
      "text/plain": [
       "\u001b[1m                                                Filings                                                \u001b[0m\n",
       "                                                                                                       \n",
       " \u001b[1m \u001b[0m\u001b[1m  \u001b[0m\u001b[1m \u001b[0m \u001b[1;38;5;71m \u001b[0m\u001b[1;38;5;71mform  \u001b[0m\u001b[1;38;5;71m \u001b[0m \u001b[1m \u001b[0m\u001b[1mcompany                               \u001b[0m\u001b[1m \u001b[0m \u001b[1m \u001b[0m\u001b[1mcik    \u001b[0m\u001b[1m \u001b[0m \u001b[1;38;5;39m \u001b[0m\u001b[1;38;5;39mfiling_date\u001b[0m\u001b[1;38;5;39m \u001b[0m \u001b[1m \u001b[0m\u001b[1maccession_number    \u001b[0m\u001b[1m \u001b[0m \n",
       " ───────────────────────────────────────────────────────────────────────────────────────────────────── \n",
       " \u001b[1m \u001b[0m\u001b[1m50\u001b[0m\u001b[1m \u001b[0m \u001b[1;38;5;71m \u001b[0m\u001b[1;38;5;71m10-K  \u001b[0m\u001b[1;38;5;71m \u001b[0m \u001b[1m \u001b[0m\u001b[1mLeidos Holdings, Inc.                 \u001b[0m\u001b[1m \u001b[0m \u001b[1m \u001b[0m\u001b[1m1336920\u001b[0m\u001b[1m \u001b[0m \u001b[1;38;5;39m \u001b[0m\u001b[1;38;5;39m2023-02-14 \u001b[0m\u001b[1;38;5;39m \u001b[0m \u001b[1m \u001b[0m\u001b[1m0001336920-23-000015\u001b[0m\u001b[1m \u001b[0m \n",
       "  51  \u001b[38;5;71m \u001b[0m\u001b[38;5;71m10-K  \u001b[0m\u001b[38;5;71m \u001b[0m  MARRIOTT INTERNATIONAL INC /MD/          1048286  \u001b[38;5;39m \u001b[0m\u001b[38;5;39m2023-02-14 \u001b[0m\u001b[38;5;39m \u001b[0m  0001628280-23-003485  \n",
       " \u001b[1m \u001b[0m\u001b[1m52\u001b[0m\u001b[1m \u001b[0m \u001b[1;38;5;71m \u001b[0m\u001b[1;38;5;71m10-K  \u001b[0m\u001b[1;38;5;71m \u001b[0m \u001b[1m \u001b[0m\u001b[1mMERCURY GENERAL CORP                  \u001b[0m\u001b[1m \u001b[0m \u001b[1m \u001b[0m\u001b[1m64996  \u001b[0m\u001b[1m \u001b[0m \u001b[1;38;5;39m \u001b[0m\u001b[1;38;5;39m2023-02-14 \u001b[0m\u001b[1;38;5;39m \u001b[0m \u001b[1m \u001b[0m\u001b[1m0000064996-23-000004\u001b[0m\u001b[1m \u001b[0m \n",
       "  53  \u001b[38;5;71m \u001b[0m\u001b[38;5;71m10-K  \u001b[0m\u001b[38;5;71m \u001b[0m  MID AMERICA APARTMENT COMMUNITIES INC.   912595   \u001b[38;5;39m \u001b[0m\u001b[38;5;39m2023-02-14 \u001b[0m\u001b[38;5;39m \u001b[0m  0000950170-23-002778  \n",
       " \u001b[1m \u001b[0m\u001b[1m54\u001b[0m\u001b[1m \u001b[0m \u001b[1;38;5;71m \u001b[0m\u001b[1;38;5;71m10-K  \u001b[0m\u001b[1;38;5;71m \u001b[0m \u001b[1m \u001b[0m\u001b[1mMRC GLOBAL INC.                       \u001b[0m\u001b[1m \u001b[0m \u001b[1m \u001b[0m\u001b[1m1439095\u001b[0m\u001b[1m \u001b[0m \u001b[1;38;5;39m \u001b[0m\u001b[1;38;5;39m2023-02-14 \u001b[0m\u001b[1;38;5;39m \u001b[0m \u001b[1m \u001b[0m\u001b[1m0001437749-23-003314\u001b[0m\u001b[1m \u001b[0m \n",
       "  55  \u001b[38;5;71m \u001b[0m\u001b[38;5;71m10-K  \u001b[0m\u001b[38;5;71m \u001b[0m  Mastercard Inc                           1141391  \u001b[38;5;39m \u001b[0m\u001b[38;5;39m2023-02-14 \u001b[0m\u001b[38;5;39m \u001b[0m  0001141391-23-000020  \n",
       " \u001b[1m \u001b[0m\u001b[1m56\u001b[0m\u001b[1m \u001b[0m \u001b[1;38;5;71m \u001b[0m\u001b[1;38;5;71m10-K  \u001b[0m\u001b[1;38;5;71m \u001b[0m \u001b[1m \u001b[0m\u001b[1mMedpace Holdings, Inc.                \u001b[0m\u001b[1m \u001b[0m \u001b[1m \u001b[0m\u001b[1m1668397\u001b[0m\u001b[1m \u001b[0m \u001b[1;38;5;39m \u001b[0m\u001b[1;38;5;39m2023-02-14 \u001b[0m\u001b[1;38;5;39m \u001b[0m \u001b[1m \u001b[0m\u001b[1m0001668397-23-000008\u001b[0m\u001b[1m \u001b[0m \n",
       "  57  \u001b[38;5;71m \u001b[0m\u001b[38;5;71m10-K  \u001b[0m\u001b[38;5;71m \u001b[0m  Mid-America Apartments, L.P.             1581776  \u001b[38;5;39m \u001b[0m\u001b[38;5;39m2023-02-14 \u001b[0m\u001b[38;5;39m \u001b[0m  0000950170-23-002778  \n",
       " \u001b[1m \u001b[0m\u001b[1m58\u001b[0m\u001b[1m \u001b[0m \u001b[1;38;5;71m \u001b[0m\u001b[1;38;5;71m10-K  \u001b[0m\u001b[1;38;5;71m \u001b[0m \u001b[1m \u001b[0m\u001b[1mNFiniTi inc.                          \u001b[0m\u001b[1m \u001b[0m \u001b[1m \u001b[0m\u001b[1m1544400\u001b[0m\u001b[1m \u001b[0m \u001b[1;38;5;39m \u001b[0m\u001b[1;38;5;39m2023-02-14 \u001b[0m\u001b[1;38;5;39m \u001b[0m \u001b[1m \u001b[0m\u001b[1m0001477932-23-000995\u001b[0m\u001b[1m \u001b[0m \n",
       "  59  \u001b[38;5;71m \u001b[0m\u001b[38;5;71m10-K  \u001b[0m\u001b[38;5;71m \u001b[0m  NOV Inc.                                 1021860  \u001b[38;5;39m \u001b[0m\u001b[38;5;39m2023-02-14 \u001b[0m\u001b[38;5;39m \u001b[0m  0000950170-23-002767  \n",
       " \u001b[1m \u001b[0m\u001b[1m60\u001b[0m\u001b[1m \u001b[0m \u001b[1;38;5;71m \u001b[0m\u001b[1;38;5;71m10-K  \u001b[0m\u001b[1;38;5;71m \u001b[0m \u001b[1m \u001b[0m\u001b[1mOMEGA HEALTHCARE INVESTORS INC        \u001b[0m\u001b[1m \u001b[0m \u001b[1m \u001b[0m\u001b[1m888491 \u001b[0m\u001b[1m \u001b[0m \u001b[1;38;5;39m \u001b[0m\u001b[1;38;5;39m2023-02-14 \u001b[0m\u001b[1;38;5;39m \u001b[0m \u001b[1m \u001b[0m\u001b[1m0000888491-23-000006\u001b[0m\u001b[1m \u001b[0m \n",
       "  61  \u001b[38;5;71m \u001b[0m\u001b[38;5;71m10-K  \u001b[0m\u001b[38;5;71m \u001b[0m  Organicell Regenerative Medicine, Inc.   1557376  \u001b[38;5;39m \u001b[0m\u001b[38;5;39m2023-02-14 \u001b[0m\u001b[38;5;39m \u001b[0m  0001829126-23-001524  \n",
       " \u001b[1m \u001b[0m\u001b[1m62\u001b[0m\u001b[1m \u001b[0m \u001b[1;38;5;71m \u001b[0m\u001b[1;38;5;71m10-K  \u001b[0m\u001b[1;38;5;71m \u001b[0m \u001b[1m \u001b[0m\u001b[1mPECO ENERGY CO                        \u001b[0m\u001b[1m \u001b[0m \u001b[1m \u001b[0m\u001b[1m78100  \u001b[0m\u001b[1m \u001b[0m \u001b[1;38;5;39m \u001b[0m\u001b[1;38;5;39m2023-02-14 \u001b[0m\u001b[1;38;5;39m \u001b[0m \u001b[1m \u001b[0m\u001b[1m0001109357-23-000018\u001b[0m\u001b[1m \u001b[0m \n",
       "  63  \u001b[38;5;71m \u001b[0m\u001b[38;5;71m10-K  \u001b[0m\u001b[38;5;71m \u001b[0m  PEPCO HOLDINGS LLC                       1135971  \u001b[38;5;39m \u001b[0m\u001b[38;5;39m2023-02-14 \u001b[0m\u001b[38;5;39m \u001b[0m  0001109357-23-000018  \n",
       " \u001b[1m \u001b[0m\u001b[1m64\u001b[0m\u001b[1m \u001b[0m \u001b[1;38;5;71m \u001b[0m\u001b[1;38;5;71m10-K  \u001b[0m\u001b[1;38;5;71m \u001b[0m \u001b[1m \u001b[0m\u001b[1mPOTOMAC ELECTRIC POWER CO             \u001b[0m\u001b[1m \u001b[0m \u001b[1m \u001b[0m\u001b[1m79732  \u001b[0m\u001b[1m \u001b[0m \u001b[1;38;5;39m \u001b[0m\u001b[1;38;5;39m2023-02-14 \u001b[0m\u001b[1;38;5;39m \u001b[0m \u001b[1m \u001b[0m\u001b[1m0001109357-23-000018\u001b[0m\u001b[1m \u001b[0m \n",
       "  65  \u001b[38;5;71m \u001b[0m\u001b[38;5;71m10-K  \u001b[0m\u001b[38;5;71m \u001b[0m  Prologis, Inc.                           1045609  \u001b[38;5;39m \u001b[0m\u001b[38;5;39m2023-02-14 \u001b[0m\u001b[38;5;39m \u001b[0m  0001564590-23-001902  \n",
       " \u001b[1m \u001b[0m\u001b[1m66\u001b[0m\u001b[1m \u001b[0m \u001b[1;38;5;71m \u001b[0m\u001b[1;38;5;71m10-K  \u001b[0m\u001b[1;38;5;71m \u001b[0m \u001b[1m \u001b[0m\u001b[1mPrologis, L.P.                        \u001b[0m\u001b[1m \u001b[0m \u001b[1m \u001b[0m\u001b[1m1045610\u001b[0m\u001b[1m \u001b[0m \u001b[1;38;5;39m \u001b[0m\u001b[1;38;5;39m2023-02-14 \u001b[0m\u001b[1;38;5;39m \u001b[0m \u001b[1m \u001b[0m\u001b[1m0001564590-23-001902\u001b[0m\u001b[1m \u001b[0m \n",
       "  67  \u001b[38;5;71m \u001b[0m\u001b[38;5;71m10-K  \u001b[0m\u001b[38;5;71m \u001b[0m  SEABOARD CORP /DE/                       88121    \u001b[38;5;39m \u001b[0m\u001b[38;5;39m2023-02-14 \u001b[0m\u001b[38;5;39m \u001b[0m  0000088121-23-000020  \n",
       " \u001b[1m \u001b[0m\u001b[1m68\u001b[0m\u001b[1m \u001b[0m \u001b[1;38;5;71m \u001b[0m\u001b[1;38;5;71m10-K  \u001b[0m\u001b[1;38;5;71m \u001b[0m \u001b[1m \u001b[0m\u001b[1mSMITH A O CORP                        \u001b[0m\u001b[1m \u001b[0m \u001b[1m \u001b[0m\u001b[1m91142  \u001b[0m\u001b[1m \u001b[0m \u001b[1;38;5;39m \u001b[0m\u001b[1;38;5;39m2023-02-14 \u001b[0m\u001b[1;38;5;39m \u001b[0m \u001b[1m \u001b[0m\u001b[1m0000091142-23-000025\u001b[0m\u001b[1m \u001b[0m \n",
       "  69  \u001b[38;5;71m \u001b[0m\u001b[38;5;71m10-K  \u001b[0m\u001b[38;5;71m \u001b[0m  Shutterstock, Inc.                       1549346  \u001b[38;5;39m \u001b[0m\u001b[38;5;39m2023-02-14 \u001b[0m\u001b[38;5;39m \u001b[0m  0001549346-23-000011  \n",
       " \u001b[1m \u001b[0m\u001b[1m70\u001b[0m\u001b[1m \u001b[0m \u001b[1;38;5;71m \u001b[0m\u001b[1;38;5;71m10-K  \u001b[0m\u001b[1;38;5;71m \u001b[0m \u001b[1m \u001b[0m\u001b[1mT-Mobile US, Inc.                     \u001b[0m\u001b[1m \u001b[0m \u001b[1m \u001b[0m\u001b[1m1283699\u001b[0m\u001b[1m \u001b[0m \u001b[1;38;5;39m \u001b[0m\u001b[1;38;5;39m2023-02-14 \u001b[0m\u001b[1;38;5;39m \u001b[0m \u001b[1m \u001b[0m\u001b[1m0001283699-23-000016\u001b[0m\u001b[1m \u001b[0m \n",
       "  71  \u001b[38;5;71m \u001b[0m\u001b[38;5;71m10-K  \u001b[0m\u001b[38;5;71m \u001b[0m  TransUnion                               1552033  \u001b[38;5;39m \u001b[0m\u001b[38;5;39m2023-02-14 \u001b[0m\u001b[38;5;39m \u001b[0m  0001552033-23-000016  \n",
       " \u001b[1m \u001b[0m\u001b[1m72\u001b[0m\u001b[1m \u001b[0m \u001b[1;38;5;71m \u001b[0m\u001b[1;38;5;71m10-K  \u001b[0m\u001b[1;38;5;71m \u001b[0m \u001b[1m \u001b[0m\u001b[1mTrilogy Metals Inc.                   \u001b[0m\u001b[1m \u001b[0m \u001b[1m \u001b[0m\u001b[1m1543418\u001b[0m\u001b[1m \u001b[0m \u001b[1;38;5;39m \u001b[0m\u001b[1;38;5;39m2023-02-14 \u001b[0m\u001b[1;38;5;39m \u001b[0m \u001b[1m \u001b[0m\u001b[1m0001558370-23-001217\u001b[0m\u001b[1m \u001b[0m \n",
       "  73  \u001b[38;5;71m \u001b[0m\u001b[38;5;71m10-K  \u001b[0m\u001b[38;5;71m \u001b[0m  Triton International Ltd                 1660734  \u001b[38;5;39m \u001b[0m\u001b[38;5;39m2023-02-14 \u001b[0m\u001b[38;5;39m \u001b[0m  0001660734-23-000033  \n",
       " \u001b[1m \u001b[0m\u001b[1m74\u001b[0m\u001b[1m \u001b[0m \u001b[1;38;5;71m \u001b[0m\u001b[1;38;5;71m10-K  \u001b[0m\u001b[1;38;5;71m \u001b[0m \u001b[1m \u001b[0m\u001b[1mUNITIL CORP                           \u001b[0m\u001b[1m \u001b[0m \u001b[1m \u001b[0m\u001b[1m755001 \u001b[0m\u001b[1m \u001b[0m \u001b[1;38;5;39m \u001b[0m\u001b[1;38;5;39m2023-02-14 \u001b[0m\u001b[1;38;5;39m \u001b[0m \u001b[1m \u001b[0m\u001b[1m0000950170-23-002696\u001b[0m\u001b[1m \u001b[0m \n",
       "  75  \u001b[38;5;71m \u001b[0m\u001b[38;5;71m10-K  \u001b[0m\u001b[38;5;71m \u001b[0m  USA Compression Partners, LP             1522727  \u001b[38;5;39m \u001b[0m\u001b[38;5;39m2023-02-14 \u001b[0m\u001b[38;5;39m \u001b[0m  0001522727-23-000006  \n",
       " \u001b[1m \u001b[0m\u001b[1m76\u001b[0m\u001b[1m \u001b[0m \u001b[1;38;5;71m \u001b[0m\u001b[1;38;5;71m10-K  \u001b[0m\u001b[1;38;5;71m \u001b[0m \u001b[1m \u001b[0m\u001b[1mUrban Edge Properties                 \u001b[0m\u001b[1m \u001b[0m \u001b[1m \u001b[0m\u001b[1m1611547\u001b[0m\u001b[1m \u001b[0m \u001b[1;38;5;39m \u001b[0m\u001b[1;38;5;39m2023-02-14 \u001b[0m\u001b[1;38;5;39m \u001b[0m \u001b[1m \u001b[0m\u001b[1m0001611547-23-000008\u001b[0m\u001b[1m \u001b[0m \n",
       "  77  \u001b[38;5;71m \u001b[0m\u001b[38;5;71m10-K  \u001b[0m\u001b[38;5;71m \u001b[0m  Urban Edge Properties LP                 1681169  \u001b[38;5;39m \u001b[0m\u001b[38;5;39m2023-02-14 \u001b[0m\u001b[38;5;39m \u001b[0m  0001611547-23-000008  \n",
       " \u001b[1m \u001b[0m\u001b[1m78\u001b[0m\u001b[1m \u001b[0m \u001b[1;38;5;71m \u001b[0m\u001b[1;38;5;71m10-K  \u001b[0m\u001b[1;38;5;71m \u001b[0m \u001b[1m \u001b[0m\u001b[1mYuenglings Ice Cream Corp             \u001b[0m\u001b[1m \u001b[0m \u001b[1m \u001b[0m\u001b[1m1624517\u001b[0m\u001b[1m \u001b[0m \u001b[1;38;5;39m \u001b[0m\u001b[1;38;5;39m2023-02-14 \u001b[0m\u001b[1;38;5;39m \u001b[0m \u001b[1m \u001b[0m\u001b[1m0001683168-23-000895\u001b[0m\u001b[1m \u001b[0m \n",
       "  79  \u001b[38;5;71m \u001b[0m\u001b[38;5;71m10-K  \u001b[0m\u001b[38;5;71m \u001b[0m  Zoetis Inc.                              1555280  \u001b[38;5;39m \u001b[0m\u001b[38;5;39m2023-02-14 \u001b[0m\u001b[38;5;39m \u001b[0m  0001555280-23-000074  \n",
       " \u001b[1m \u001b[0m\u001b[1m80\u001b[0m\u001b[1m \u001b[0m \u001b[1;38;5;71m \u001b[0m\u001b[1;38;5;71m10-K  \u001b[0m\u001b[1;38;5;71m \u001b[0m \u001b[1m \u001b[0m\u001b[1mZurn Elkay Water Solutions Corp       \u001b[0m\u001b[1m \u001b[0m \u001b[1m \u001b[0m\u001b[1m1439288\u001b[0m\u001b[1m \u001b[0m \u001b[1;38;5;39m \u001b[0m\u001b[1;38;5;39m2023-02-14 \u001b[0m\u001b[1;38;5;39m \u001b[0m \u001b[1m \u001b[0m\u001b[1m0001439288-23-000017\u001b[0m\u001b[1m \u001b[0m \n",
       "  81  \u001b[38;5;71m \u001b[0m\u001b[38;5;71m10-K/A\u001b[0m\u001b[38;5;71m \u001b[0m  Skkynet Cloud Systems, Inc.              1546853  \u001b[38;5;39m \u001b[0m\u001b[38;5;39m2023-02-14 \u001b[0m\u001b[38;5;39m \u001b[0m  0001477932-23-000972  \n",
       " \u001b[1m \u001b[0m\u001b[1m82\u001b[0m\u001b[1m \u001b[0m \u001b[1;38;5;71m \u001b[0m\u001b[1;38;5;71m10-Q  \u001b[0m\u001b[1;38;5;71m \u001b[0m \u001b[1m \u001b[0m\u001b[1mADDENTAX GROUP CORP.                  \u001b[0m\u001b[1m \u001b[0m \u001b[1m \u001b[0m\u001b[1m1650101\u001b[0m\u001b[1m \u001b[0m \u001b[1;38;5;39m \u001b[0m\u001b[1;38;5;39m2023-02-14 \u001b[0m\u001b[1;38;5;39m \u001b[0m \u001b[1m \u001b[0m\u001b[1m0001493152-23-004766\u001b[0m\u001b[1m \u001b[0m \n",
       "  83  \u001b[38;5;71m \u001b[0m\u001b[38;5;71m10-Q  \u001b[0m\u001b[38;5;71m \u001b[0m  ALTEROLA BIOTECH INC.                    1442999  \u001b[38;5;39m \u001b[0m\u001b[38;5;39m2023-02-14 \u001b[0m\u001b[38;5;39m \u001b[0m  0001663577-23-000080  \n",
       " \u001b[1m \u001b[0m\u001b[1m84\u001b[0m\u001b[1m \u001b[0m \u001b[1;38;5;71m \u001b[0m\u001b[1;38;5;71m10-Q  \u001b[0m\u001b[1;38;5;71m \u001b[0m \u001b[1m \u001b[0m\u001b[1mAMERICAN BATTERY TECHNOLOGY Co        \u001b[0m\u001b[1m \u001b[0m \u001b[1m \u001b[0m\u001b[1m1576873\u001b[0m\u001b[1m \u001b[0m \u001b[1;38;5;39m \u001b[0m\u001b[1;38;5;39m2023-02-14 \u001b[0m\u001b[1;38;5;39m \u001b[0m \u001b[1m \u001b[0m\u001b[1m0001493152-23-005044\u001b[0m\u001b[1m \u001b[0m \n",
       "  85  \u001b[38;5;71m \u001b[0m\u001b[38;5;71m10-Q  \u001b[0m\u001b[38;5;71m \u001b[0m  AMMO, INC.                               1015383  \u001b[38;5;39m \u001b[0m\u001b[38;5;39m2023-02-14 \u001b[0m\u001b[38;5;39m \u001b[0m  0001493152-23-004913  \n",
       " \u001b[1m \u001b[0m\u001b[1m86\u001b[0m\u001b[1m \u001b[0m \u001b[1;38;5;71m \u001b[0m\u001b[1;38;5;71m10-Q  \u001b[0m\u001b[1;38;5;71m \u001b[0m \u001b[1m \u001b[0m\u001b[1mARK RESTAURANTS CORP                  \u001b[0m\u001b[1m \u001b[0m \u001b[1m \u001b[0m\u001b[1m779544 \u001b[0m\u001b[1m \u001b[0m \u001b[1;38;5;39m \u001b[0m\u001b[1;38;5;39m2023-02-14 \u001b[0m\u001b[1;38;5;39m \u001b[0m \u001b[1m \u001b[0m\u001b[1m0000779544-23-000010\u001b[0m\u001b[1m \u001b[0m \n",
       "  87  \u001b[38;5;71m \u001b[0m\u001b[38;5;71m10-Q  \u001b[0m\u001b[38;5;71m \u001b[0m  AS-IP TECH INC                           1067873  \u001b[38;5;39m \u001b[0m\u001b[38;5;39m2023-02-14 \u001b[0m\u001b[38;5;39m \u001b[0m  0001393905-23-000065  \n",
       " \u001b[1m \u001b[0m\u001b[1m88\u001b[0m\u001b[1m \u001b[0m \u001b[1;38;5;71m \u001b[0m\u001b[1;38;5;71m10-Q  \u001b[0m\u001b[1;38;5;71m \u001b[0m \u001b[1m \u001b[0m\u001b[1mAcasti Pharma Inc.                    \u001b[0m\u001b[1m \u001b[0m \u001b[1m \u001b[0m\u001b[1m1444192\u001b[0m\u001b[1m \u001b[0m \u001b[1;38;5;39m \u001b[0m\u001b[1;38;5;39m2023-02-14 \u001b[0m\u001b[1;38;5;39m \u001b[0m \u001b[1m \u001b[0m\u001b[1m0000950170-23-002695\u001b[0m\u001b[1m \u001b[0m \n",
       "  89  \u001b[38;5;71m \u001b[0m\u001b[38;5;71m10-Q  \u001b[0m\u001b[38;5;71m \u001b[0m  Agentix Corp.                            1603345  \u001b[38;5;39m \u001b[0m\u001b[38;5;39m2023-02-14 \u001b[0m\u001b[38;5;39m \u001b[0m  0001477932-23-000969  \n",
       " \u001b[1m \u001b[0m\u001b[1m90\u001b[0m\u001b[1m \u001b[0m \u001b[1;38;5;71m \u001b[0m\u001b[1;38;5;71m10-Q  \u001b[0m\u001b[1;38;5;71m \u001b[0m \u001b[1m \u001b[0m\u001b[1mAjia Innogroup Holdings, Ltd.         \u001b[0m\u001b[1m \u001b[0m \u001b[1m \u001b[0m\u001b[1m1650739\u001b[0m\u001b[1m \u001b[0m \u001b[1;38;5;39m \u001b[0m\u001b[1;38;5;39m2023-02-14 \u001b[0m\u001b[1;38;5;39m \u001b[0m \u001b[1m \u001b[0m\u001b[1m0001477932-23-001021\u001b[0m\u001b[1m \u001b[0m \n",
       "  91  \u001b[38;5;71m \u001b[0m\u001b[38;5;71m10-Q  \u001b[0m\u001b[38;5;71m \u001b[0m  AmeriCann, Inc.                          1508348  \u001b[38;5;39m \u001b[0m\u001b[38;5;39m2023-02-14 \u001b[0m\u001b[38;5;39m \u001b[0m  0001437749-23-003222  \n",
       " \u001b[1m \u001b[0m\u001b[1m92\u001b[0m\u001b[1m \u001b[0m \u001b[1;38;5;71m \u001b[0m\u001b[1;38;5;71m10-Q  \u001b[0m\u001b[1;38;5;71m \u001b[0m \u001b[1m \u001b[0m\u001b[1mArch Therapeutics, Inc.               \u001b[0m\u001b[1m \u001b[0m \u001b[1m \u001b[0m\u001b[1m1537561\u001b[0m\u001b[1m \u001b[0m \u001b[1;38;5;39m \u001b[0m\u001b[1;38;5;39m2023-02-14 \u001b[0m\u001b[1;38;5;39m \u001b[0m \u001b[1m \u001b[0m\u001b[1m0001851734-23-000065\u001b[0m\u001b[1m \u001b[0m \n",
       "  93  \u001b[38;5;71m \u001b[0m\u001b[38;5;71m10-Q  \u001b[0m\u001b[38;5;71m \u001b[0m  Arem Pacific Corp                        1435812  \u001b[38;5;39m \u001b[0m\u001b[38;5;39m2023-02-14 \u001b[0m\u001b[38;5;39m \u001b[0m  0001515971-23-000011  \n",
       " \u001b[1m \u001b[0m\u001b[1m94\u001b[0m\u001b[1m \u001b[0m \u001b[1;38;5;71m \u001b[0m\u001b[1;38;5;71m10-Q  \u001b[0m\u001b[1;38;5;71m \u001b[0m \u001b[1m \u001b[0m\u001b[1mArmada Acquisition Corp. I            \u001b[0m\u001b[1m \u001b[0m \u001b[1m \u001b[0m\u001b[1m1844817\u001b[0m\u001b[1m \u001b[0m \u001b[1;38;5;39m \u001b[0m\u001b[1;38;5;39m2023-02-14 \u001b[0m\u001b[1;38;5;39m \u001b[0m \u001b[1m \u001b[0m\u001b[1m0001193125-23-039389\u001b[0m\u001b[1m \u001b[0m \n",
       "  95  \u001b[38;5;71m \u001b[0m\u001b[38;5;71m10-Q  \u001b[0m\u001b[38;5;71m \u001b[0m  AuraSource, Inc.                         1083922  \u001b[38;5;39m \u001b[0m\u001b[38;5;39m2023-02-14 \u001b[0m\u001b[38;5;39m \u001b[0m  0001308411-23-000004  \n",
       " \u001b[1m \u001b[0m\u001b[1m96\u001b[0m\u001b[1m \u001b[0m \u001b[1;38;5;71m \u001b[0m\u001b[1;38;5;71m10-Q  \u001b[0m\u001b[1;38;5;71m \u001b[0m \u001b[1m \u001b[0m\u001b[1mBIOTRICITY INC.                       \u001b[0m\u001b[1m \u001b[0m \u001b[1m \u001b[0m\u001b[1m1630113\u001b[0m\u001b[1m \u001b[0m \u001b[1;38;5;39m \u001b[0m\u001b[1;38;5;39m2023-02-14 \u001b[0m\u001b[1;38;5;39m \u001b[0m \u001b[1m \u001b[0m\u001b[1m0001493152-23-004841\u001b[0m\u001b[1m \u001b[0m \n",
       "  97  \u001b[38;5;71m \u001b[0m\u001b[38;5;71m10-Q  \u001b[0m\u001b[38;5;71m \u001b[0m  Birdie Win Corp                          1873213  \u001b[38;5;39m \u001b[0m\u001b[38;5;39m2023-02-14 \u001b[0m\u001b[38;5;39m \u001b[0m  0001493152-23-004572  \n",
       " \u001b[1m \u001b[0m\u001b[1m98\u001b[0m\u001b[1m \u001b[0m \u001b[1;38;5;71m \u001b[0m\u001b[1;38;5;71m10-Q  \u001b[0m\u001b[1;38;5;71m \u001b[0m \u001b[1m \u001b[0m\u001b[1mBlueOne Card, Inc.                    \u001b[0m\u001b[1m \u001b[0m \u001b[1m \u001b[0m\u001b[1m1496690\u001b[0m\u001b[1m \u001b[0m \u001b[1;38;5;39m \u001b[0m\u001b[1;38;5;39m2023-02-14 \u001b[0m\u001b[1;38;5;39m \u001b[0m \u001b[1m \u001b[0m\u001b[1m0001493152-23-004747\u001b[0m\u001b[1m \u001b[0m \n",
       "  99  \u001b[38;5;71m \u001b[0m\u001b[38;5;71m10-Q  \u001b[0m\u001b[38;5;71m \u001b[0m  Bridgeline Digital, Inc.                 1378590  \u001b[38;5;39m \u001b[0m\u001b[38;5;39m2023-02-14 \u001b[0m\u001b[38;5;39m \u001b[0m  0001437749-23-003387  \n",
       "                                                                                                       \n",
       "Showing 50 of 170,293 filings"
      ]
     },
     "execution_count": 6,
     "metadata": {},
     "output_type": "execute_result"
    }
   ],
   "source": [
    "filings.next()"
   ]
  },
  {
   "cell_type": "markdown",
   "id": "5c8b9211",
   "metadata": {},
   "source": [
    "## Get previous page of filings"
   ]
  },
  {
   "cell_type": "code",
   "execution_count": 7,
   "id": "c1e3f860",
   "metadata": {},
   "outputs": [
    {
     "data": {
      "text/html": [
       "<pre style=\"white-space:pre;overflow-x:auto;line-height:normal;font-family:Menlo,'DejaVu Sans Mono',consolas,'Courier New',monospace\"></pre>\n"
      ],
      "text/plain": []
     },
     "metadata": {},
     "output_type": "display_data"
    },
    {
     "data": {
      "text/plain": [
       "\u001b[1m                                                      Filings                                                      \u001b[0m\n",
       "                                                                                                                   \n",
       " \u001b[1m \u001b[0m\u001b[1m  \u001b[0m\u001b[1m \u001b[0m \u001b[1;38;5;71m \u001b[0m\u001b[1;38;5;71mform    \u001b[0m\u001b[1;38;5;71m \u001b[0m \u001b[1m \u001b[0m\u001b[1mcompany                                         \u001b[0m\u001b[1m \u001b[0m \u001b[1m \u001b[0m\u001b[1mcik    \u001b[0m\u001b[1m \u001b[0m \u001b[1;38;5;39m \u001b[0m\u001b[1;38;5;39mfiling_date\u001b[0m\u001b[1;38;5;39m \u001b[0m \u001b[1m \u001b[0m\u001b[1maccession_number    \u001b[0m\u001b[1m \u001b[0m \n",
       " ───────────────────────────────────────────────────────────────────────────────────────────────────────────────── \n",
       " \u001b[1m \u001b[0m\u001b[1m0 \u001b[0m\u001b[1m \u001b[0m \u001b[1;38;5;71m \u001b[0m\u001b[1;38;5;71m1-A POS \u001b[0m\u001b[1;38;5;71m \u001b[0m \u001b[1m \u001b[0m\u001b[1mArrived Homes, LLC                              \u001b[0m\u001b[1m \u001b[0m \u001b[1m \u001b[0m\u001b[1m1821720\u001b[0m\u001b[1m \u001b[0m \u001b[1;38;5;39m \u001b[0m\u001b[1;38;5;39m2023-02-14 \u001b[0m\u001b[1;38;5;39m \u001b[0m \u001b[1m \u001b[0m\u001b[1m0001821720-23-000010\u001b[0m\u001b[1m \u001b[0m \n",
       "  1   \u001b[38;5;71m \u001b[0m\u001b[38;5;71m1-A POS \u001b[0m\u001b[38;5;71m \u001b[0m  Here Collection LLC                                1876769  \u001b[38;5;39m \u001b[0m\u001b[38;5;39m2023-02-14 \u001b[0m\u001b[38;5;39m \u001b[0m  0001096906-23-000382  \n",
       " \u001b[1m \u001b[0m\u001b[1m2 \u001b[0m\u001b[1m \u001b[0m \u001b[1;38;5;71m \u001b[0m\u001b[1;38;5;71m1-A/A   \u001b[0m\u001b[1;38;5;71m \u001b[0m \u001b[1m \u001b[0m\u001b[1mAmerican Stories Entertainment Inc.             \u001b[0m\u001b[1m \u001b[0m \u001b[1m \u001b[0m\u001b[1m1840495\u001b[0m\u001b[1m \u001b[0m \u001b[1;38;5;39m \u001b[0m\u001b[1;38;5;39m2023-02-14 \u001b[0m\u001b[1;38;5;39m \u001b[0m \u001b[1m \u001b[0m\u001b[1m0001683168-23-000839\u001b[0m\u001b[1m \u001b[0m \n",
       "  3   \u001b[38;5;71m \u001b[0m\u001b[38;5;71m1-U     \u001b[0m\u001b[38;5;71m \u001b[0m  286 Lenox Partners LLC                             1877934  \u001b[38;5;39m \u001b[0m\u001b[38;5;39m2023-02-14 \u001b[0m\u001b[38;5;39m \u001b[0m  0001493152-23-004784  \n",
       " \u001b[1m \u001b[0m\u001b[1m4 \u001b[0m\u001b[1m \u001b[0m \u001b[1;38;5;71m \u001b[0m\u001b[1;38;5;71m1-U     \u001b[0m\u001b[1;38;5;71m \u001b[0m \u001b[1m \u001b[0m\u001b[1mCW Petroleum Corp                               \u001b[0m\u001b[1m \u001b[0m \u001b[1m \u001b[0m\u001b[1m1741220\u001b[0m\u001b[1m \u001b[0m \u001b[1;38;5;39m \u001b[0m\u001b[1;38;5;39m2023-02-14 \u001b[0m\u001b[1;38;5;39m \u001b[0m \u001b[1m \u001b[0m\u001b[1m0001493152-23-004588\u001b[0m\u001b[1m \u001b[0m \n",
       "  5   \u001b[38;5;71m \u001b[0m\u001b[38;5;71m1-U     \u001b[0m\u001b[38;5;71m \u001b[0m  Masterworks 203, LLC                               1955692  \u001b[38;5;39m \u001b[0m\u001b[38;5;39m2023-02-14 \u001b[0m\u001b[38;5;39m \u001b[0m  0001493152-23-005030  \n",
       " \u001b[1m \u001b[0m\u001b[1m6 \u001b[0m\u001b[1m \u001b[0m \u001b[1;38;5;71m \u001b[0m\u001b[1;38;5;71m1-U     \u001b[0m\u001b[1;38;5;71m \u001b[0m \u001b[1m \u001b[0m\u001b[1mMasterworks 203, LLC                            \u001b[0m\u001b[1m \u001b[0m \u001b[1m \u001b[0m\u001b[1m1955692\u001b[0m\u001b[1m \u001b[0m \u001b[1;38;5;39m \u001b[0m\u001b[1;38;5;39m2023-02-14 \u001b[0m\u001b[1;38;5;39m \u001b[0m \u001b[1m \u001b[0m\u001b[1m0001493152-23-005035\u001b[0m\u001b[1m \u001b[0m \n",
       "  7   \u001b[38;5;71m \u001b[0m\u001b[38;5;71m1-U     \u001b[0m\u001b[38;5;71m \u001b[0m  Masterworks 216, LLC                               1958122  \u001b[38;5;39m \u001b[0m\u001b[38;5;39m2023-02-14 \u001b[0m\u001b[38;5;39m \u001b[0m  0001493152-23-005006  \n",
       " \u001b[1m \u001b[0m\u001b[1m8 \u001b[0m\u001b[1m \u001b[0m \u001b[1;38;5;71m \u001b[0m\u001b[1;38;5;71m1-U     \u001b[0m\u001b[1;38;5;71m \u001b[0m \u001b[1m \u001b[0m\u001b[1mMasterworks 216, LLC                            \u001b[0m\u001b[1m \u001b[0m \u001b[1m \u001b[0m\u001b[1m1958122\u001b[0m\u001b[1m \u001b[0m \u001b[1;38;5;39m \u001b[0m\u001b[1;38;5;39m2023-02-14 \u001b[0m\u001b[1;38;5;39m \u001b[0m \u001b[1m \u001b[0m\u001b[1m0001493152-23-005013\u001b[0m\u001b[1m \u001b[0m \n",
       "  9   \u001b[38;5;71m \u001b[0m\u001b[38;5;71m1-U     \u001b[0m\u001b[38;5;71m \u001b[0m  Masterworks 220, LLC                               1958307  \u001b[38;5;39m \u001b[0m\u001b[38;5;39m2023-02-14 \u001b[0m\u001b[38;5;39m \u001b[0m  0001493152-23-005029  \n",
       " \u001b[1m \u001b[0m\u001b[1m10\u001b[0m\u001b[1m \u001b[0m \u001b[1;38;5;71m \u001b[0m\u001b[1;38;5;71m1-U     \u001b[0m\u001b[1;38;5;71m \u001b[0m \u001b[1m \u001b[0m\u001b[1mMasterworks 220, LLC                            \u001b[0m\u001b[1m \u001b[0m \u001b[1m \u001b[0m\u001b[1m1958307\u001b[0m\u001b[1m \u001b[0m \u001b[1;38;5;39m \u001b[0m\u001b[1;38;5;39m2023-02-14 \u001b[0m\u001b[1;38;5;39m \u001b[0m \u001b[1m \u001b[0m\u001b[1m0001493152-23-005033\u001b[0m\u001b[1m \u001b[0m \n",
       "  11  \u001b[38;5;71m \u001b[0m\u001b[38;5;71m1-U     \u001b[0m\u001b[38;5;71m \u001b[0m  Masterworks 220, LLC                               1958307  \u001b[38;5;39m \u001b[0m\u001b[38;5;39m2023-02-14 \u001b[0m\u001b[38;5;39m \u001b[0m  0001493152-23-005043  \n",
       " \u001b[1m \u001b[0m\u001b[1m12\u001b[0m\u001b[1m \u001b[0m \u001b[1;38;5;71m \u001b[0m\u001b[1;38;5;71m1-U     \u001b[0m\u001b[1;38;5;71m \u001b[0m \u001b[1m \u001b[0m\u001b[1mNV REIT LLC                                     \u001b[0m\u001b[1m \u001b[0m \u001b[1m \u001b[0m\u001b[1m1947455\u001b[0m\u001b[1m \u001b[0m \u001b[1;38;5;39m \u001b[0m\u001b[1;38;5;39m2023-02-14 \u001b[0m\u001b[1;38;5;39m \u001b[0m \u001b[1m \u001b[0m\u001b[1m0001213900-23-011400\u001b[0m\u001b[1m \u001b[0m \n",
       "  13  \u001b[38;5;71m \u001b[0m\u001b[38;5;71m1-U     \u001b[0m\u001b[38;5;71m \u001b[0m  Rise Companies Corp                                1640967  \u001b[38;5;39m \u001b[0m\u001b[38;5;39m2023-02-14 \u001b[0m\u001b[38;5;39m \u001b[0m  0001104659-23-021789  \n",
       " \u001b[1m \u001b[0m\u001b[1m14\u001b[0m\u001b[1m \u001b[0m \u001b[1;38;5;71m \u001b[0m\u001b[1;38;5;71m10-12G  \u001b[0m\u001b[1;38;5;71m \u001b[0m \u001b[1m \u001b[0m\u001b[1mEESTech, Inc.                                   \u001b[0m\u001b[1m \u001b[0m \u001b[1m \u001b[0m\u001b[1m1138867\u001b[0m\u001b[1m \u001b[0m \u001b[1;38;5;39m \u001b[0m\u001b[1;38;5;39m2023-02-14 \u001b[0m\u001b[1;38;5;39m \u001b[0m \u001b[1m \u001b[0m\u001b[1m0001539497-23-000315\u001b[0m\u001b[1m \u001b[0m \n",
       "  15  \u001b[38;5;71m \u001b[0m\u001b[38;5;71m10-12G  \u001b[0m\u001b[38;5;71m \u001b[0m  METROSPACES, INC.                                  1488501  \u001b[38;5;39m \u001b[0m\u001b[38;5;39m2023-02-14 \u001b[0m\u001b[38;5;39m \u001b[0m  0001903596-23-000139  \n",
       " \u001b[1m \u001b[0m\u001b[1m16\u001b[0m\u001b[1m \u001b[0m \u001b[1;38;5;71m \u001b[0m\u001b[1;38;5;71m10-12G/A\u001b[0m\u001b[1;38;5;71m \u001b[0m \u001b[1m \u001b[0m\u001b[1mHALLMARK VENTURE GROUP, INC.                    \u001b[0m\u001b[1m \u001b[0m \u001b[1m \u001b[0m\u001b[1m1331421\u001b[0m\u001b[1m \u001b[0m \u001b[1;38;5;39m \u001b[0m\u001b[1;38;5;39m2023-02-14 \u001b[0m\u001b[1;38;5;39m \u001b[0m \u001b[1m \u001b[0m\u001b[1m0001493152-23-004806\u001b[0m\u001b[1m \u001b[0m \n",
       "  17  \u001b[38;5;71m \u001b[0m\u001b[38;5;71m10-D    \u001b[0m\u001b[38;5;71m \u001b[0m  PSNH FUNDING LLC 3                                 1730300  \u001b[38;5;39m \u001b[0m\u001b[38;5;39m2023-02-14 \u001b[0m\u001b[38;5;39m \u001b[0m  0001104659-23-021624  \n",
       " \u001b[1m \u001b[0m\u001b[1m18\u001b[0m\u001b[1m \u001b[0m \u001b[1;38;5;71m \u001b[0m\u001b[1;38;5;71m10-D    \u001b[0m\u001b[1;38;5;71m \u001b[0m \u001b[1m \u001b[0m\u001b[1mPUBLIC SERVICE CO OF NEW HAMPSHIRE              \u001b[0m\u001b[1m \u001b[0m \u001b[1m \u001b[0m\u001b[1m315256 \u001b[0m\u001b[1m \u001b[0m \u001b[1;38;5;39m \u001b[0m\u001b[1;38;5;39m2023-02-14 \u001b[0m\u001b[1;38;5;39m \u001b[0m \u001b[1m \u001b[0m\u001b[1m0001104659-23-021624\u001b[0m\u001b[1m \u001b[0m \n",
       "  19  \u001b[38;5;71m \u001b[0m\u001b[38;5;71m10-K    \u001b[0m\u001b[38;5;71m \u001b[0m  AGREE REALTY CORP                                  917251   \u001b[38;5;39m \u001b[0m\u001b[38;5;39m2023-02-14 \u001b[0m\u001b[38;5;39m \u001b[0m  0001558370-23-001274  \n",
       " \u001b[1m \u001b[0m\u001b[1m20\u001b[0m\u001b[1m \u001b[0m \u001b[1;38;5;71m \u001b[0m\u001b[1;38;5;71m10-K    \u001b[0m\u001b[1;38;5;71m \u001b[0m \u001b[1m \u001b[0m\u001b[1mATLANTIC CITY ELECTRIC CO                       \u001b[0m\u001b[1m \u001b[0m \u001b[1m \u001b[0m\u001b[1m8192   \u001b[0m\u001b[1m \u001b[0m \u001b[1;38;5;39m \u001b[0m\u001b[1;38;5;39m2023-02-14 \u001b[0m\u001b[1;38;5;39m \u001b[0m \u001b[1m \u001b[0m\u001b[1m0001109357-23-000018\u001b[0m\u001b[1m \u001b[0m \n",
       "  21  \u001b[38;5;71m \u001b[0m\u001b[38;5;71m10-K    \u001b[0m\u001b[38;5;71m \u001b[0m  Adaptive Biotechnologies Corp                      1478320  \u001b[38;5;39m \u001b[0m\u001b[38;5;39m2023-02-14 \u001b[0m\u001b[38;5;39m \u001b[0m  0000950170-23-002792  \n",
       " \u001b[1m \u001b[0m\u001b[1m22\u001b[0m\u001b[1m \u001b[0m \u001b[1;38;5;71m \u001b[0m\u001b[1;38;5;71m10-K    \u001b[0m\u001b[1;38;5;71m \u001b[0m \u001b[1m \u001b[0m\u001b[1mArcher-Daniels-Midland Co                       \u001b[0m\u001b[1m \u001b[0m \u001b[1m \u001b[0m\u001b[1m7084   \u001b[0m\u001b[1m \u001b[0m \u001b[1;38;5;39m \u001b[0m\u001b[1;38;5;39m2023-02-14 \u001b[0m\u001b[1;38;5;39m \u001b[0m \u001b[1m \u001b[0m\u001b[1m0000007084-23-000010\u001b[0m\u001b[1m \u001b[0m \n",
       "  23  \u001b[38;5;71m \u001b[0m\u001b[38;5;71m10-K    \u001b[0m\u001b[38;5;71m \u001b[0m  Arista Networks, Inc.                              1596532  \u001b[38;5;39m \u001b[0m\u001b[38;5;39m2023-02-14 \u001b[0m\u001b[38;5;39m \u001b[0m  0001596532-23-000016  \n",
       " \u001b[1m \u001b[0m\u001b[1m24\u001b[0m\u001b[1m \u001b[0m \u001b[1;38;5;71m \u001b[0m\u001b[1;38;5;71m10-K    \u001b[0m\u001b[1;38;5;71m \u001b[0m \u001b[1m \u001b[0m\u001b[1mAvantor, Inc.                                   \u001b[0m\u001b[1m \u001b[0m \u001b[1m \u001b[0m\u001b[1m1722482\u001b[0m\u001b[1m \u001b[0m \u001b[1;38;5;39m \u001b[0m\u001b[1;38;5;39m2023-02-14 \u001b[0m\u001b[1;38;5;39m \u001b[0m \u001b[1m \u001b[0m\u001b[1m0001722482-23-000040\u001b[0m\u001b[1m \u001b[0m \n",
       "  25  \u001b[38;5;71m \u001b[0m\u001b[38;5;71m10-K    \u001b[0m\u001b[38;5;71m \u001b[0m  BALTIMORE GAS & ELECTRIC CO                        9466     \u001b[38;5;39m \u001b[0m\u001b[38;5;39m2023-02-14 \u001b[0m\u001b[38;5;39m \u001b[0m  0001109357-23-000018  \n",
       " \u001b[1m \u001b[0m\u001b[1m26\u001b[0m\u001b[1m \u001b[0m \u001b[1;38;5;71m \u001b[0m\u001b[1;38;5;71m10-K    \u001b[0m\u001b[1;38;5;71m \u001b[0m \u001b[1m \u001b[0m\u001b[1mBLACK HILLS CORP /SD/                           \u001b[0m\u001b[1m \u001b[0m \u001b[1m \u001b[0m\u001b[1m1130464\u001b[0m\u001b[1m \u001b[0m \u001b[1;38;5;39m \u001b[0m\u001b[1;38;5;39m2023-02-14 \u001b[0m\u001b[1;38;5;39m \u001b[0m \u001b[1m \u001b[0m\u001b[1m0000950170-23-002759\u001b[0m\u001b[1m \u001b[0m \n",
       "  27  \u001b[38;5;71m \u001b[0m\u001b[38;5;71m10-K    \u001b[0m\u001b[38;5;71m \u001b[0m  BRISTOL MYERS SQUIBB CO                            14272    \u001b[38;5;39m \u001b[0m\u001b[38;5;39m2023-02-14 \u001b[0m\u001b[38;5;39m \u001b[0m  0000014272-23-000046  \n",
       " \u001b[1m \u001b[0m\u001b[1m28\u001b[0m\u001b[1m \u001b[0m \u001b[1;38;5;71m \u001b[0m\u001b[1;38;5;71m10-K    \u001b[0m\u001b[1;38;5;71m \u001b[0m \u001b[1m \u001b[0m\u001b[1mBaker Hughes Co                                 \u001b[0m\u001b[1m \u001b[0m \u001b[1m \u001b[0m\u001b[1m1701605\u001b[0m\u001b[1m \u001b[0m \u001b[1;38;5;39m \u001b[0m\u001b[1;38;5;39m2023-02-14 \u001b[0m\u001b[1;38;5;39m \u001b[0m \u001b[1m \u001b[0m\u001b[1m0001701605-23-000044\u001b[0m\u001b[1m \u001b[0m \n",
       "  29  \u001b[38;5;71m \u001b[0m\u001b[38;5;71m10-K    \u001b[0m\u001b[38;5;71m \u001b[0m  Baker Hughes Holdings LLC                          808362   \u001b[38;5;39m \u001b[0m\u001b[38;5;39m2023-02-14 \u001b[0m\u001b[38;5;39m \u001b[0m  0000808362-23-000010  \n",
       " \u001b[1m \u001b[0m\u001b[1m30\u001b[0m\u001b[1m \u001b[0m \u001b[1;38;5;71m \u001b[0m\u001b[1;38;5;71m10-K    \u001b[0m\u001b[1;38;5;71m \u001b[0m \u001b[1m \u001b[0m\u001b[1mCIIG Capital Partners II, Inc.                  \u001b[0m\u001b[1m \u001b[0m \u001b[1m \u001b[0m\u001b[1m1841338\u001b[0m\u001b[1m \u001b[0m \u001b[1;38;5;39m \u001b[0m\u001b[1;38;5;39m2023-02-14 \u001b[0m\u001b[1;38;5;39m \u001b[0m \u001b[1m \u001b[0m\u001b[1m0001213900-23-011520\u001b[0m\u001b[1m \u001b[0m \n",
       "  31  \u001b[38;5;71m \u001b[0m\u001b[38;5;71m10-K    \u001b[0m\u001b[38;5;71m \u001b[0m  CLEVELAND-CLIFFS INC.                              764065   \u001b[38;5;39m \u001b[0m\u001b[38;5;39m2023-02-14 \u001b[0m\u001b[38;5;39m \u001b[0m  0000764065-23-000032  \n",
       " \u001b[1m \u001b[0m\u001b[1m32\u001b[0m\u001b[1m \u001b[0m \u001b[1;38;5;71m \u001b[0m\u001b[1;38;5;71m10-K    \u001b[0m\u001b[1;38;5;71m \u001b[0m \u001b[1m \u001b[0m\u001b[1mCOMERICA INC /NEW/                              \u001b[0m\u001b[1m \u001b[0m \u001b[1m \u001b[0m\u001b[1m28412  \u001b[0m\u001b[1m \u001b[0m \u001b[1;38;5;39m \u001b[0m\u001b[1;38;5;39m2023-02-14 \u001b[0m\u001b[1;38;5;39m \u001b[0m \u001b[1m \u001b[0m\u001b[1m0000028412-23-000094\u001b[0m\u001b[1m \u001b[0m \n",
       "  33  \u001b[38;5;71m \u001b[0m\u001b[38;5;71m10-K    \u001b[0m\u001b[38;5;71m \u001b[0m  COMMONWEALTH EDISON Co                             22606    \u001b[38;5;39m \u001b[0m\u001b[38;5;39m2023-02-14 \u001b[0m\u001b[38;5;39m \u001b[0m  0001109357-23-000018  \n",
       " \u001b[1m \u001b[0m\u001b[1m34\u001b[0m\u001b[1m \u001b[0m \u001b[1;38;5;71m \u001b[0m\u001b[1;38;5;71m10-K    \u001b[0m\u001b[1;38;5;71m \u001b[0m \u001b[1m \u001b[0m\u001b[1mCUMMINS INC                                     \u001b[0m\u001b[1m \u001b[0m \u001b[1m \u001b[0m\u001b[1m26172  \u001b[0m\u001b[1m \u001b[0m \u001b[1;38;5;39m \u001b[0m\u001b[1;38;5;39m2023-02-14 \u001b[0m\u001b[1;38;5;39m \u001b[0m \u001b[1m \u001b[0m\u001b[1m0000026172-23-000005\u001b[0m\u001b[1m \u001b[0m \n",
       "  35  \u001b[38;5;71m \u001b[0m\u001b[38;5;71m10-K    \u001b[0m\u001b[38;5;71m \u001b[0m  Clearwater Paper Corp                              1441236  \u001b[38;5;39m \u001b[0m\u001b[38;5;39m2023-02-14 \u001b[0m\u001b[38;5;39m \u001b[0m  0001504337-23-000008  \n",
       " \u001b[1m \u001b[0m\u001b[1m36\u001b[0m\u001b[1m \u001b[0m \u001b[1;38;5;71m \u001b[0m\u001b[1;38;5;71m10-K    \u001b[0m\u001b[1;38;5;71m \u001b[0m \u001b[1m \u001b[0m\u001b[1mCommunity Healthcare Trust Inc                  \u001b[0m\u001b[1m \u001b[0m \u001b[1m \u001b[0m\u001b[1m1631569\u001b[0m\u001b[1m \u001b[0m \u001b[1;38;5;39m \u001b[0m\u001b[1;38;5;39m2023-02-14 \u001b[0m\u001b[1;38;5;39m \u001b[0m \u001b[1m \u001b[0m\u001b[1m0001631569-23-000017\u001b[0m\u001b[1m \u001b[0m \n",
       "  37  \u001b[38;5;71m \u001b[0m\u001b[38;5;71m10-K    \u001b[0m\u001b[38;5;71m \u001b[0m  DELMARVA POWER & LIGHT CO /DE/                     27879    \u001b[38;5;39m \u001b[0m\u001b[38;5;39m2023-02-14 \u001b[0m\u001b[38;5;39m \u001b[0m  0001109357-23-000018  \n",
       " \u001b[1m \u001b[0m\u001b[1m38\u001b[0m\u001b[1m \u001b[0m \u001b[1;38;5;71m \u001b[0m\u001b[1;38;5;71m10-K    \u001b[0m\u001b[1;38;5;71m \u001b[0m \u001b[1m \u001b[0m\u001b[1mEXELON CORP                                     \u001b[0m\u001b[1m \u001b[0m \u001b[1m \u001b[0m\u001b[1m1109357\u001b[0m\u001b[1m \u001b[0m \u001b[1;38;5;39m \u001b[0m\u001b[1;38;5;39m2023-02-14 \u001b[0m\u001b[1;38;5;39m \u001b[0m \u001b[1m \u001b[0m\u001b[1m0001109357-23-000018\u001b[0m\u001b[1m \u001b[0m \n",
       "  39  \u001b[38;5;71m \u001b[0m\u001b[38;5;71m10-K    \u001b[0m\u001b[38;5;71m \u001b[0m  FEDERAL NATIONAL MORTGAGE ASSOCIATION FANNIE MAE   310522   \u001b[38;5;39m \u001b[0m\u001b[38;5;39m2023-02-14 \u001b[0m\u001b[38;5;39m \u001b[0m  0000310522-23-000184  \n",
       " \u001b[1m \u001b[0m\u001b[1m40\u001b[0m\u001b[1m \u001b[0m \u001b[1;38;5;71m \u001b[0m\u001b[1;38;5;71m10-K    \u001b[0m\u001b[1;38;5;71m \u001b[0m \u001b[1m \u001b[0m\u001b[1mFRANKLIN STREET PROPERTIES CORP /MA/            \u001b[0m\u001b[1m \u001b[0m \u001b[1m \u001b[0m\u001b[1m1031316\u001b[0m\u001b[1m \u001b[0m \u001b[1;38;5;39m \u001b[0m\u001b[1;38;5;39m2023-02-14 \u001b[0m\u001b[1;38;5;39m \u001b[0m \u001b[1m \u001b[0m\u001b[1m0001558370-23-001280\u001b[0m\u001b[1m \u001b[0m \n",
       "  41  \u001b[38;5;71m \u001b[0m\u001b[38;5;71m10-K    \u001b[0m\u001b[38;5;71m \u001b[0m  Freedom Internet Group Inc.                        1791325  \u001b[38;5;39m \u001b[0m\u001b[38;5;39m2023-02-14 \u001b[0m\u001b[38;5;39m \u001b[0m  0001096906-23-000384  \n",
       " \u001b[1m \u001b[0m\u001b[1m42\u001b[0m\u001b[1m \u001b[0m \u001b[1;38;5;71m \u001b[0m\u001b[1;38;5;71m10-K    \u001b[0m\u001b[1;38;5;71m \u001b[0m \u001b[1m \u001b[0m\u001b[1mGRAFTECH INTERNATIONAL LTD                      \u001b[0m\u001b[1m \u001b[0m \u001b[1m \u001b[0m\u001b[1m931148 \u001b[0m\u001b[1m \u001b[0m \u001b[1;38;5;39m \u001b[0m\u001b[1;38;5;39m2023-02-14 \u001b[0m\u001b[1;38;5;39m \u001b[0m \u001b[1m \u001b[0m\u001b[1m0000931148-23-000035\u001b[0m\u001b[1m \u001b[0m \n",
       "  43  \u001b[38;5;71m \u001b[0m\u001b[38;5;71m10-K    \u001b[0m\u001b[38;5;71m \u001b[0m  Garrett Motion Inc.                                1735707  \u001b[38;5;39m \u001b[0m\u001b[38;5;39m2023-02-14 \u001b[0m\u001b[38;5;39m \u001b[0m  0001735707-23-000018  \n",
       " \u001b[1m \u001b[0m\u001b[1m44\u001b[0m\u001b[1m \u001b[0m \u001b[1;38;5;71m \u001b[0m\u001b[1;38;5;71m10-K    \u001b[0m\u001b[1;38;5;71m \u001b[0m \u001b[1m \u001b[0m\u001b[1mHERBALIFE NUTRITION LTD.                        \u001b[0m\u001b[1m \u001b[0m \u001b[1m \u001b[0m\u001b[1m1180262\u001b[0m\u001b[1m \u001b[0m \u001b[1;38;5;39m \u001b[0m\u001b[1;38;5;39m2023-02-14 \u001b[0m\u001b[1;38;5;39m \u001b[0m \u001b[1m \u001b[0m\u001b[1m0000950170-23-002787\u001b[0m\u001b[1m \u001b[0m \n",
       "  45  \u001b[38;5;71m \u001b[0m\u001b[38;5;71m10-K    \u001b[0m\u001b[38;5;71m \u001b[0m  HERC HOLDINGS INC                                  1364479  \u001b[38;5;39m \u001b[0m\u001b[38;5;39m2023-02-14 \u001b[0m\u001b[38;5;39m \u001b[0m  0001364479-23-000006  \n",
       " \u001b[1m \u001b[0m\u001b[1m46\u001b[0m\u001b[1m \u001b[0m \u001b[1;38;5;71m \u001b[0m\u001b[1;38;5;71m10-K    \u001b[0m\u001b[1;38;5;71m \u001b[0m \u001b[1m \u001b[0m\u001b[1mHowmet Aerospace Inc.                           \u001b[0m\u001b[1m \u001b[0m \u001b[1m \u001b[0m\u001b[1m4281   \u001b[0m\u001b[1m \u001b[0m \u001b[1;38;5;39m \u001b[0m\u001b[1;38;5;39m2023-02-14 \u001b[0m\u001b[1;38;5;39m \u001b[0m \u001b[1m \u001b[0m\u001b[1m0000004281-23-000004\u001b[0m\u001b[1m \u001b[0m \n",
       "  47  \u001b[38;5;71m \u001b[0m\u001b[38;5;71m10-K    \u001b[0m\u001b[38;5;71m \u001b[0m  IROBOT CORP                                        1159167  \u001b[38;5;39m \u001b[0m\u001b[38;5;39m2023-02-14 \u001b[0m\u001b[38;5;39m \u001b[0m  0001159167-23-000011  \n",
       " \u001b[1m \u001b[0m\u001b[1m48\u001b[0m\u001b[1m \u001b[0m \u001b[1;38;5;71m \u001b[0m\u001b[1;38;5;71m10-K    \u001b[0m\u001b[1;38;5;71m \u001b[0m \u001b[1m \u001b[0m\u001b[1mIndustrial Logistics Properties Trust           \u001b[0m\u001b[1m \u001b[0m \u001b[1m \u001b[0m\u001b[1m1717307\u001b[0m\u001b[1m \u001b[0m \u001b[1;38;5;39m \u001b[0m\u001b[1;38;5;39m2023-02-14 \u001b[0m\u001b[1;38;5;39m \u001b[0m \u001b[1m \u001b[0m\u001b[1m0001717307-23-000013\u001b[0m\u001b[1m \u001b[0m \n",
       "  49  \u001b[38;5;71m \u001b[0m\u001b[38;5;71m10-K    \u001b[0m\u001b[38;5;71m \u001b[0m  KAT EXPLORATION, INC.                              1474558  \u001b[38;5;39m \u001b[0m\u001b[38;5;39m2023-02-14 \u001b[0m\u001b[38;5;39m \u001b[0m  0001683168-23-000914  \n",
       "                                                                                                                   \n",
       "Showing 50 of 170,293 filings"
      ]
     },
     "execution_count": 7,
     "metadata": {},
     "output_type": "execute_result"
    }
   ],
   "source": [
    "filings.prev()"
   ]
  },
  {
   "cell_type": "markdown",
   "id": "d1af015e",
   "metadata": {},
   "source": [
    "## Get filings for year"
   ]
  },
  {
   "cell_type": "code",
   "execution_count": 8,
   "id": "29ba5473",
   "metadata": {},
   "outputs": [
    {
     "data": {
      "text/html": [
       "<pre style=\"white-space:pre;overflow-x:auto;line-height:normal;font-family:Menlo,'DejaVu Sans Mono',consolas,'Courier New',monospace\"></pre>\n"
      ],
      "text/plain": []
     },
     "metadata": {},
     "output_type": "display_data"
    },
    {
     "data": {
      "text/plain": [
       "\u001b[1m                                                  Filings                                                  \u001b[0m\n",
       "                                                                                                           \n",
       " \u001b[1m \u001b[0m\u001b[1m  \u001b[0m\u001b[1m \u001b[0m \u001b[1;38;5;71m \u001b[0m\u001b[1;38;5;71mform \u001b[0m\u001b[1;38;5;71m \u001b[0m \u001b[1m \u001b[0m\u001b[1mcompany                                    \u001b[0m\u001b[1m \u001b[0m \u001b[1m \u001b[0m\u001b[1mcik    \u001b[0m\u001b[1m \u001b[0m \u001b[1;38;5;39m \u001b[0m\u001b[1;38;5;39mfiling_date\u001b[0m\u001b[1;38;5;39m \u001b[0m \u001b[1m \u001b[0m\u001b[1maccession_number    \u001b[0m\u001b[1m \u001b[0m \n",
       " ───────────────────────────────────────────────────────────────────────────────────────────────────────── \n",
       " \u001b[1m \u001b[0m\u001b[1m0 \u001b[0m\u001b[1m \u001b[0m \u001b[1;38;5;71m \u001b[0m\u001b[1;38;5;71m1-A  \u001b[0m\u001b[1;38;5;71m \u001b[0m \u001b[1m \u001b[0m\u001b[1mAlgernon Neuroscience Inc.                 \u001b[0m\u001b[1m \u001b[0m \u001b[1m \u001b[0m\u001b[1m1959708\u001b[0m\u001b[1m \u001b[0m \u001b[1;38;5;39m \u001b[0m\u001b[1;38;5;39m2022-12-30 \u001b[0m\u001b[1;38;5;39m \u001b[0m \u001b[1m \u001b[0m\u001b[1m0001062993-22-024554\u001b[0m\u001b[1m \u001b[0m \n",
       "  1   \u001b[38;5;71m \u001b[0m\u001b[38;5;71m1-A  \u001b[0m\u001b[38;5;71m \u001b[0m  NORCOR TECHNOLOGIES Corp                      1396797  \u001b[38;5;39m \u001b[0m\u001b[38;5;39m2022-12-30 \u001b[0m\u001b[38;5;39m \u001b[0m  0001396797-22-000006  \n",
       " \u001b[1m \u001b[0m\u001b[1m2 \u001b[0m\u001b[1m \u001b[0m \u001b[1;38;5;71m \u001b[0m\u001b[1;38;5;71m1-A/A\u001b[0m\u001b[1;38;5;71m \u001b[0m \u001b[1m \u001b[0m\u001b[1mWater On Demand, Inc.                      \u001b[0m\u001b[1m \u001b[0m \u001b[1m \u001b[0m\u001b[1m1953442\u001b[0m\u001b[1m \u001b[0m \u001b[1;38;5;39m \u001b[0m\u001b[1;38;5;39m2022-12-30 \u001b[0m\u001b[1;38;5;39m \u001b[0m \u001b[1m \u001b[0m\u001b[1m0001096906-22-003072\u001b[0m\u001b[1m \u001b[0m \n",
       "  3   \u001b[38;5;71m \u001b[0m\u001b[38;5;71m1-U  \u001b[0m\u001b[38;5;71m \u001b[0m  Energea Portfolio 2 LLC                       1811470  \u001b[38;5;39m \u001b[0m\u001b[38;5;39m2022-12-30 \u001b[0m\u001b[38;5;39m \u001b[0m  0001811470-22-000015  \n",
       " \u001b[1m \u001b[0m\u001b[1m4 \u001b[0m\u001b[1m \u001b[0m \u001b[1;38;5;71m \u001b[0m\u001b[1;38;5;71m1-U  \u001b[0m\u001b[1;38;5;71m \u001b[0m \u001b[1m \u001b[0m\u001b[1mFUNDRISE BALANCED EREIT II, LLC            \u001b[0m\u001b[1m \u001b[0m \u001b[1m \u001b[0m\u001b[1m1803986\u001b[0m\u001b[1m \u001b[0m \u001b[1;38;5;39m \u001b[0m\u001b[1;38;5;39m2022-12-30 \u001b[0m\u001b[1;38;5;39m \u001b[0m \u001b[1m \u001b[0m\u001b[1m0001104659-22-131175\u001b[0m\u001b[1m \u001b[0m \n",
       "  5   \u001b[38;5;71m \u001b[0m\u001b[38;5;71m1-U  \u001b[0m\u001b[38;5;71m \u001b[0m  FUNDRISE GROWTH EREIT VII, LLC                1804011  \u001b[38;5;39m \u001b[0m\u001b[38;5;39m2022-12-30 \u001b[0m\u001b[38;5;39m \u001b[0m  0001104659-22-131177  \n",
       " \u001b[1m \u001b[0m\u001b[1m6 \u001b[0m\u001b[1m \u001b[0m \u001b[1;38;5;71m \u001b[0m\u001b[1;38;5;71m1-U  \u001b[0m\u001b[1;38;5;71m \u001b[0m \u001b[1m \u001b[0m\u001b[1mFundrise Development eREIT, LLC            \u001b[0m\u001b[1m \u001b[0m \u001b[1m \u001b[0m\u001b[1m1768726\u001b[0m\u001b[1m \u001b[0m \u001b[1;38;5;39m \u001b[0m\u001b[1;38;5;39m2022-12-30 \u001b[0m\u001b[1;38;5;39m \u001b[0m \u001b[1m \u001b[0m\u001b[1m0001104659-22-131170\u001b[0m\u001b[1m \u001b[0m \n",
       "  7   \u001b[38;5;71m \u001b[0m\u001b[38;5;71m1-U  \u001b[0m\u001b[38;5;71m \u001b[0m  Fundrise East Coast Opportunistic REIT, LLC   1660918  \u001b[38;5;39m \u001b[0m\u001b[38;5;39m2022-12-30 \u001b[0m\u001b[38;5;39m \u001b[0m  0001104659-22-131160  \n",
       " \u001b[1m \u001b[0m\u001b[1m8 \u001b[0m\u001b[1m \u001b[0m \u001b[1;38;5;71m \u001b[0m\u001b[1;38;5;71m1-U  \u001b[0m\u001b[1;38;5;71m \u001b[0m \u001b[1m \u001b[0m\u001b[1mFundrise Equity REIT, LLC                  \u001b[0m\u001b[1m \u001b[0m \u001b[1m \u001b[0m\u001b[1m1648956\u001b[0m\u001b[1m \u001b[0m \u001b[1;38;5;39m \u001b[0m\u001b[1;38;5;39m2022-12-30 \u001b[0m\u001b[1;38;5;39m \u001b[0m \u001b[1m \u001b[0m\u001b[1m0001104659-22-131155\u001b[0m\u001b[1m \u001b[0m \n",
       "  9   \u001b[38;5;71m \u001b[0m\u001b[38;5;71m1-U  \u001b[0m\u001b[38;5;71m \u001b[0m  Fundrise Equity REIT, LLC                     1648956  \u001b[38;5;39m \u001b[0m\u001b[38;5;39m2022-12-30 \u001b[0m\u001b[38;5;39m \u001b[0m  0001104659-22-131210  \n",
       " \u001b[1m \u001b[0m\u001b[1m10\u001b[0m\u001b[1m \u001b[0m \u001b[1;38;5;71m \u001b[0m\u001b[1;38;5;71m1-U  \u001b[0m\u001b[1;38;5;71m \u001b[0m \u001b[1m \u001b[0m\u001b[1mFundrise Growth eREIT II, LLC              \u001b[0m\u001b[1m \u001b[0m \u001b[1m \u001b[0m\u001b[1m1661000\u001b[0m\u001b[1m \u001b[0m \u001b[1;38;5;39m \u001b[0m\u001b[1;38;5;39m2022-12-30 \u001b[0m\u001b[1;38;5;39m \u001b[0m \u001b[1m \u001b[0m\u001b[1m0001104659-22-131164\u001b[0m\u001b[1m \u001b[0m \n",
       "  11  \u001b[38;5;71m \u001b[0m\u001b[38;5;71m1-U  \u001b[0m\u001b[38;5;71m \u001b[0m  Fundrise Growth eREIT III, LLC                1758744  \u001b[38;5;39m \u001b[0m\u001b[38;5;39m2022-12-30 \u001b[0m\u001b[38;5;39m \u001b[0m  0001104659-22-131167  \n",
       " \u001b[1m \u001b[0m\u001b[1m12\u001b[0m\u001b[1m \u001b[0m \u001b[1;38;5;71m \u001b[0m\u001b[1;38;5;71m1-U  \u001b[0m\u001b[1;38;5;71m \u001b[0m \u001b[1m \u001b[0m\u001b[1mFundrise Midland Opportunistic REIT, LLC   \u001b[0m\u001b[1m \u001b[0m \u001b[1m \u001b[0m\u001b[1m1661023\u001b[0m\u001b[1m \u001b[0m \u001b[1;38;5;39m \u001b[0m\u001b[1;38;5;39m2022-12-30 \u001b[0m\u001b[1;38;5;39m \u001b[0m \u001b[1m \u001b[0m\u001b[1m0001104659-22-131162\u001b[0m\u001b[1m \u001b[0m \n",
       "  13  \u001b[38;5;71m \u001b[0m\u001b[38;5;71m1-U  \u001b[0m\u001b[38;5;71m \u001b[0m  Fundrise Midland Opportunistic REIT, LLC      1661023  \u001b[38;5;39m \u001b[0m\u001b[38;5;39m2022-12-30 \u001b[0m\u001b[38;5;39m \u001b[0m  0001104659-22-131216  \n",
       " \u001b[1m \u001b[0m\u001b[1m14\u001b[0m\u001b[1m \u001b[0m \u001b[1;38;5;71m \u001b[0m\u001b[1;38;5;71m1-U  \u001b[0m\u001b[1;38;5;71m \u001b[0m \u001b[1m \u001b[0m\u001b[1mFundrise West Coast Opportunistic REIT, LLC\u001b[0m\u001b[1m \u001b[0m \u001b[1m \u001b[0m\u001b[1m1660919\u001b[0m\u001b[1m \u001b[0m \u001b[1;38;5;39m \u001b[0m\u001b[1;38;5;39m2022-12-30 \u001b[0m\u001b[1;38;5;39m \u001b[0m \u001b[1m \u001b[0m\u001b[1m0001104659-22-131157\u001b[0m\u001b[1m \u001b[0m \n",
       "  15  \u001b[38;5;71m \u001b[0m\u001b[38;5;71m1-U  \u001b[0m\u001b[38;5;71m \u001b[0m  Masterworks 002, LLC                          1750148  \u001b[38;5;39m \u001b[0m\u001b[38;5;39m2022-12-30 \u001b[0m\u001b[38;5;39m \u001b[0m  0001493152-22-036866  \n",
       " \u001b[1m \u001b[0m\u001b[1m16\u001b[0m\u001b[1m \u001b[0m \u001b[1;38;5;71m \u001b[0m\u001b[1;38;5;71m1-U  \u001b[0m\u001b[1;38;5;71m \u001b[0m \u001b[1m \u001b[0m\u001b[1mMasterworks 010, LLC                       \u001b[0m\u001b[1m \u001b[0m \u001b[1m \u001b[0m\u001b[1m1806902\u001b[0m\u001b[1m \u001b[0m \u001b[1;38;5;39m \u001b[0m\u001b[1;38;5;39m2022-12-30 \u001b[0m\u001b[1;38;5;39m \u001b[0m \u001b[1m \u001b[0m\u001b[1m0001493152-22-036868\u001b[0m\u001b[1m \u001b[0m \n",
       "  17  \u001b[38;5;71m \u001b[0m\u001b[38;5;71m1-U  \u001b[0m\u001b[38;5;71m \u001b[0m  Masterworks 011, LLC                          1809772  \u001b[38;5;39m \u001b[0m\u001b[38;5;39m2022-12-30 \u001b[0m\u001b[38;5;39m \u001b[0m  0001493152-22-036870  \n",
       " \u001b[1m \u001b[0m\u001b[1m18\u001b[0m\u001b[1m \u001b[0m \u001b[1;38;5;71m \u001b[0m\u001b[1;38;5;71m1-U  \u001b[0m\u001b[1;38;5;71m \u001b[0m \u001b[1m \u001b[0m\u001b[1mMasterworks 014, LLC                       \u001b[0m\u001b[1m \u001b[0m \u001b[1m \u001b[0m\u001b[1m1812768\u001b[0m\u001b[1m \u001b[0m \u001b[1;38;5;39m \u001b[0m\u001b[1;38;5;39m2022-12-30 \u001b[0m\u001b[1;38;5;39m \u001b[0m \u001b[1m \u001b[0m\u001b[1m0001493152-22-036872\u001b[0m\u001b[1m \u001b[0m \n",
       "  19  \u001b[38;5;71m \u001b[0m\u001b[38;5;71m1-U  \u001b[0m\u001b[38;5;71m \u001b[0m  Masterworks 016, LLC                          1813339  \u001b[38;5;39m \u001b[0m\u001b[38;5;39m2022-12-30 \u001b[0m\u001b[38;5;39m \u001b[0m  0001493152-22-036874  \n",
       " \u001b[1m \u001b[0m\u001b[1m20\u001b[0m\u001b[1m \u001b[0m \u001b[1;38;5;71m \u001b[0m\u001b[1;38;5;71m1-U  \u001b[0m\u001b[1;38;5;71m \u001b[0m \u001b[1m \u001b[0m\u001b[1mMasterworks 022, LLC                       \u001b[0m\u001b[1m \u001b[0m \u001b[1m \u001b[0m\u001b[1m1819367\u001b[0m\u001b[1m \u001b[0m \u001b[1;38;5;39m \u001b[0m\u001b[1;38;5;39m2022-12-30 \u001b[0m\u001b[1;38;5;39m \u001b[0m \u001b[1m \u001b[0m\u001b[1m0001493152-22-036876\u001b[0m\u001b[1m \u001b[0m \n",
       "  21  \u001b[38;5;71m \u001b[0m\u001b[38;5;71m1-U  \u001b[0m\u001b[38;5;71m \u001b[0m  Masterworks 025, LLC                          1819368  \u001b[38;5;39m \u001b[0m\u001b[38;5;39m2022-12-30 \u001b[0m\u001b[38;5;39m \u001b[0m  0001493152-22-036878  \n",
       " \u001b[1m \u001b[0m\u001b[1m22\u001b[0m\u001b[1m \u001b[0m \u001b[1;38;5;71m \u001b[0m\u001b[1;38;5;71m1-U  \u001b[0m\u001b[1;38;5;71m \u001b[0m \u001b[1m \u001b[0m\u001b[1mMasterworks 032, LLC                       \u001b[0m\u001b[1m \u001b[0m \u001b[1m \u001b[0m\u001b[1m1829029\u001b[0m\u001b[1m \u001b[0m \u001b[1;38;5;39m \u001b[0m\u001b[1;38;5;39m2022-12-30 \u001b[0m\u001b[1;38;5;39m \u001b[0m \u001b[1m \u001b[0m\u001b[1m0001493152-22-036880\u001b[0m\u001b[1m \u001b[0m \n",
       "  23  \u001b[38;5;71m \u001b[0m\u001b[38;5;71m1-U  \u001b[0m\u001b[38;5;71m \u001b[0m  Masterworks 070, LLC                          1874009  \u001b[38;5;39m \u001b[0m\u001b[38;5;39m2022-12-30 \u001b[0m\u001b[38;5;39m \u001b[0m  0001493152-22-036882  \n",
       " \u001b[1m \u001b[0m\u001b[1m24\u001b[0m\u001b[1m \u001b[0m \u001b[1;38;5;71m \u001b[0m\u001b[1;38;5;71m1-U  \u001b[0m\u001b[1;38;5;71m \u001b[0m \u001b[1m \u001b[0m\u001b[1mMasterworks 093, LLC                       \u001b[0m\u001b[1m \u001b[0m \u001b[1m \u001b[0m\u001b[1m1891698\u001b[0m\u001b[1m \u001b[0m \u001b[1;38;5;39m \u001b[0m\u001b[1;38;5;39m2022-12-30 \u001b[0m\u001b[1;38;5;39m \u001b[0m \u001b[1m \u001b[0m\u001b[1m0001493152-22-037021\u001b[0m\u001b[1m \u001b[0m \n",
       "  25  \u001b[38;5;71m \u001b[0m\u001b[38;5;71m1-U  \u001b[0m\u001b[38;5;71m \u001b[0m  Masterworks 121, LLC                          1914625  \u001b[38;5;39m \u001b[0m\u001b[38;5;39m2022-12-30 \u001b[0m\u001b[38;5;39m \u001b[0m  0001493152-22-037025  \n",
       " \u001b[1m \u001b[0m\u001b[1m26\u001b[0m\u001b[1m \u001b[0m \u001b[1;38;5;71m \u001b[0m\u001b[1;38;5;71m1-U  \u001b[0m\u001b[1;38;5;71m \u001b[0m \u001b[1m \u001b[0m\u001b[1mMasterworks 130, LLC                       \u001b[0m\u001b[1m \u001b[0m \u001b[1m \u001b[0m\u001b[1m1918082\u001b[0m\u001b[1m \u001b[0m \u001b[1;38;5;39m \u001b[0m\u001b[1;38;5;39m2022-12-30 \u001b[0m\u001b[1;38;5;39m \u001b[0m \u001b[1m \u001b[0m\u001b[1m0001493152-22-037028\u001b[0m\u001b[1m \u001b[0m \n",
       "  27  \u001b[38;5;71m \u001b[0m\u001b[38;5;71m1-U  \u001b[0m\u001b[38;5;71m \u001b[0m  Masterworks 140, LLC                          1922415  \u001b[38;5;39m \u001b[0m\u001b[38;5;39m2022-12-30 \u001b[0m\u001b[38;5;39m \u001b[0m  0001493152-22-037030  \n",
       " \u001b[1m \u001b[0m\u001b[1m28\u001b[0m\u001b[1m \u001b[0m \u001b[1;38;5;71m \u001b[0m\u001b[1;38;5;71m1-U  \u001b[0m\u001b[1;38;5;71m \u001b[0m \u001b[1m \u001b[0m\u001b[1mMasterworks 146, LLC                       \u001b[0m\u001b[1m \u001b[0m \u001b[1m \u001b[0m\u001b[1m1925329\u001b[0m\u001b[1m \u001b[0m \u001b[1;38;5;39m \u001b[0m\u001b[1;38;5;39m2022-12-30 \u001b[0m\u001b[1;38;5;39m \u001b[0m \u001b[1m \u001b[0m\u001b[1m0001493152-22-037033\u001b[0m\u001b[1m \u001b[0m \n",
       "  29  \u001b[38;5;71m \u001b[0m\u001b[38;5;71m1-U  \u001b[0m\u001b[38;5;71m \u001b[0m  Masterworks 147, LLC                          1925316  \u001b[38;5;39m \u001b[0m\u001b[38;5;39m2022-12-30 \u001b[0m\u001b[38;5;39m \u001b[0m  0001493152-22-037035  \n",
       " \u001b[1m \u001b[0m\u001b[1m30\u001b[0m\u001b[1m \u001b[0m \u001b[1;38;5;71m \u001b[0m\u001b[1;38;5;71m1-U  \u001b[0m\u001b[1;38;5;71m \u001b[0m \u001b[1m \u001b[0m\u001b[1mMasterworks 149, LLC                       \u001b[0m\u001b[1m \u001b[0m \u001b[1m \u001b[0m\u001b[1m1925323\u001b[0m\u001b[1m \u001b[0m \u001b[1;38;5;39m \u001b[0m\u001b[1;38;5;39m2022-12-30 \u001b[0m\u001b[1;38;5;39m \u001b[0m \u001b[1m \u001b[0m\u001b[1m0001493152-22-037040\u001b[0m\u001b[1m \u001b[0m \n",
       "  31  \u001b[38;5;71m \u001b[0m\u001b[38;5;71m1-U  \u001b[0m\u001b[38;5;71m \u001b[0m  Masterworks 156, LLC                          1938933  \u001b[38;5;39m \u001b[0m\u001b[38;5;39m2022-12-30 \u001b[0m\u001b[38;5;39m \u001b[0m  0001493152-22-037044  \n",
       " \u001b[1m \u001b[0m\u001b[1m32\u001b[0m\u001b[1m \u001b[0m \u001b[1;38;5;71m \u001b[0m\u001b[1;38;5;71m1-U  \u001b[0m\u001b[1;38;5;71m \u001b[0m \u001b[1m \u001b[0m\u001b[1mMasterworks 157, LLC                       \u001b[0m\u001b[1m \u001b[0m \u001b[1m \u001b[0m\u001b[1m1939028\u001b[0m\u001b[1m \u001b[0m \u001b[1;38;5;39m \u001b[0m\u001b[1;38;5;39m2022-12-30 \u001b[0m\u001b[1;38;5;39m \u001b[0m \u001b[1m \u001b[0m\u001b[1m0001493152-22-037047\u001b[0m\u001b[1m \u001b[0m \n",
       "  33  \u001b[38;5;71m \u001b[0m\u001b[38;5;71m1-U  \u001b[0m\u001b[38;5;71m \u001b[0m  Masterworks 158, LLC                          1942200  \u001b[38;5;39m \u001b[0m\u001b[38;5;39m2022-12-30 \u001b[0m\u001b[38;5;39m \u001b[0m  0001493152-22-037056  \n",
       " \u001b[1m \u001b[0m\u001b[1m34\u001b[0m\u001b[1m \u001b[0m \u001b[1;38;5;71m \u001b[0m\u001b[1;38;5;71m1-U  \u001b[0m\u001b[1;38;5;71m \u001b[0m \u001b[1m \u001b[0m\u001b[1mMasterworks 161, LLC                       \u001b[0m\u001b[1m \u001b[0m \u001b[1m \u001b[0m\u001b[1m1942205\u001b[0m\u001b[1m \u001b[0m \u001b[1;38;5;39m \u001b[0m\u001b[1;38;5;39m2022-12-30 \u001b[0m\u001b[1;38;5;39m \u001b[0m \u001b[1m \u001b[0m\u001b[1m0001493152-22-037065\u001b[0m\u001b[1m \u001b[0m \n",
       "  35  \u001b[38;5;71m \u001b[0m\u001b[38;5;71m1-U  \u001b[0m\u001b[38;5;71m \u001b[0m  Masterworks 162, LLC                          1942396  \u001b[38;5;39m \u001b[0m\u001b[38;5;39m2022-12-30 \u001b[0m\u001b[38;5;39m \u001b[0m  0001493152-22-037078  \n",
       " \u001b[1m \u001b[0m\u001b[1m36\u001b[0m\u001b[1m \u001b[0m \u001b[1;38;5;71m \u001b[0m\u001b[1;38;5;71m1-U  \u001b[0m\u001b[1;38;5;71m \u001b[0m \u001b[1m \u001b[0m\u001b[1mMasterworks 164, LLC                       \u001b[0m\u001b[1m \u001b[0m \u001b[1m \u001b[0m\u001b[1m1942222\u001b[0m\u001b[1m \u001b[0m \u001b[1;38;5;39m \u001b[0m\u001b[1;38;5;39m2022-12-30 \u001b[0m\u001b[1;38;5;39m \u001b[0m \u001b[1m \u001b[0m\u001b[1m0001493152-22-037083\u001b[0m\u001b[1m \u001b[0m \n",
       "  37  \u001b[38;5;71m \u001b[0m\u001b[38;5;71m1-U  \u001b[0m\u001b[38;5;71m \u001b[0m  Masterworks 167, LLC                          1942179  \u001b[38;5;39m \u001b[0m\u001b[38;5;39m2022-12-30 \u001b[0m\u001b[38;5;39m \u001b[0m  0001493152-22-037093  \n",
       " \u001b[1m \u001b[0m\u001b[1m38\u001b[0m\u001b[1m \u001b[0m \u001b[1;38;5;71m \u001b[0m\u001b[1;38;5;71m1-U  \u001b[0m\u001b[1;38;5;71m \u001b[0m \u001b[1m \u001b[0m\u001b[1mMasterworks 170, LLC                       \u001b[0m\u001b[1m \u001b[0m \u001b[1m \u001b[0m\u001b[1m1944157\u001b[0m\u001b[1m \u001b[0m \u001b[1;38;5;39m \u001b[0m\u001b[1;38;5;39m2022-12-30 \u001b[0m\u001b[1;38;5;39m \u001b[0m \u001b[1m \u001b[0m\u001b[1m0001493152-22-037096\u001b[0m\u001b[1m \u001b[0m \n",
       "  39  \u001b[38;5;71m \u001b[0m\u001b[38;5;71m1-U  \u001b[0m\u001b[38;5;71m \u001b[0m  Masterworks 171, LLC                          1944113  \u001b[38;5;39m \u001b[0m\u001b[38;5;39m2022-12-30 \u001b[0m\u001b[38;5;39m \u001b[0m  0001493152-22-037099  \n",
       " \u001b[1m \u001b[0m\u001b[1m40\u001b[0m\u001b[1m \u001b[0m \u001b[1;38;5;71m \u001b[0m\u001b[1;38;5;71m1-U  \u001b[0m\u001b[1;38;5;71m \u001b[0m \u001b[1m \u001b[0m\u001b[1mMasterworks 173, LLC                       \u001b[0m\u001b[1m \u001b[0m \u001b[1m \u001b[0m\u001b[1m1944244\u001b[0m\u001b[1m \u001b[0m \u001b[1;38;5;39m \u001b[0m\u001b[1;38;5;39m2022-12-30 \u001b[0m\u001b[1;38;5;39m \u001b[0m \u001b[1m \u001b[0m\u001b[1m0001493152-22-037026\u001b[0m\u001b[1m \u001b[0m \n",
       "  41  \u001b[38;5;71m \u001b[0m\u001b[38;5;71m1-U  \u001b[0m\u001b[38;5;71m \u001b[0m  Masterworks 174, LLC                          1944249  \u001b[38;5;39m \u001b[0m\u001b[38;5;39m2022-12-30 \u001b[0m\u001b[38;5;39m \u001b[0m  0001493152-22-037032  \n",
       " \u001b[1m \u001b[0m\u001b[1m42\u001b[0m\u001b[1m \u001b[0m \u001b[1;38;5;71m \u001b[0m\u001b[1;38;5;71m1-U  \u001b[0m\u001b[1;38;5;71m \u001b[0m \u001b[1m \u001b[0m\u001b[1mMasterworks 175, LLC                       \u001b[0m\u001b[1m \u001b[0m \u001b[1m \u001b[0m\u001b[1m1944248\u001b[0m\u001b[1m \u001b[0m \u001b[1;38;5;39m \u001b[0m\u001b[1;38;5;39m2022-12-30 \u001b[0m\u001b[1;38;5;39m \u001b[0m \u001b[1m \u001b[0m\u001b[1m0001493152-22-037039\u001b[0m\u001b[1m \u001b[0m \n",
       "  43  \u001b[38;5;71m \u001b[0m\u001b[38;5;71m1-U  \u001b[0m\u001b[38;5;71m \u001b[0m  Masterworks 176, LLC                          1944250  \u001b[38;5;39m \u001b[0m\u001b[38;5;39m2022-12-30 \u001b[0m\u001b[38;5;39m \u001b[0m  0001493152-22-037046  \n",
       " \u001b[1m \u001b[0m\u001b[1m44\u001b[0m\u001b[1m \u001b[0m \u001b[1;38;5;71m \u001b[0m\u001b[1;38;5;71m1-U  \u001b[0m\u001b[1;38;5;71m \u001b[0m \u001b[1m \u001b[0m\u001b[1mMasterworks 177, LLC                       \u001b[0m\u001b[1m \u001b[0m \u001b[1m \u001b[0m\u001b[1m1944247\u001b[0m\u001b[1m \u001b[0m \u001b[1;38;5;39m \u001b[0m\u001b[1;38;5;39m2022-12-30 \u001b[0m\u001b[1;38;5;39m \u001b[0m \u001b[1m \u001b[0m\u001b[1m0001493152-22-037051\u001b[0m\u001b[1m \u001b[0m \n",
       "  45  \u001b[38;5;71m \u001b[0m\u001b[38;5;71m1-U  \u001b[0m\u001b[38;5;71m \u001b[0m  Masterworks 178, LLC                          1944218  \u001b[38;5;39m \u001b[0m\u001b[38;5;39m2022-12-30 \u001b[0m\u001b[38;5;39m \u001b[0m  0001493152-22-037055  \n",
       " \u001b[1m \u001b[0m\u001b[1m46\u001b[0m\u001b[1m \u001b[0m \u001b[1;38;5;71m \u001b[0m\u001b[1;38;5;71m1-U  \u001b[0m\u001b[1;38;5;71m \u001b[0m \u001b[1m \u001b[0m\u001b[1mMasterworks 179, LLC                       \u001b[0m\u001b[1m \u001b[0m \u001b[1m \u001b[0m\u001b[1m1944229\u001b[0m\u001b[1m \u001b[0m \u001b[1;38;5;39m \u001b[0m\u001b[1;38;5;39m2022-12-30 \u001b[0m\u001b[1;38;5;39m \u001b[0m \u001b[1m \u001b[0m\u001b[1m0001493152-22-037060\u001b[0m\u001b[1m \u001b[0m \n",
       "  47  \u001b[38;5;71m \u001b[0m\u001b[38;5;71m1-U  \u001b[0m\u001b[38;5;71m \u001b[0m  Masterworks 180, LLC                          1944217  \u001b[38;5;39m \u001b[0m\u001b[38;5;39m2022-12-30 \u001b[0m\u001b[38;5;39m \u001b[0m  0001493152-22-037064  \n",
       " \u001b[1m \u001b[0m\u001b[1m48\u001b[0m\u001b[1m \u001b[0m \u001b[1;38;5;71m \u001b[0m\u001b[1;38;5;71m1-U  \u001b[0m\u001b[1;38;5;71m \u001b[0m \u001b[1m \u001b[0m\u001b[1mMasterworks 181, LLC                       \u001b[0m\u001b[1m \u001b[0m \u001b[1m \u001b[0m\u001b[1m1951375\u001b[0m\u001b[1m \u001b[0m \u001b[1;38;5;39m \u001b[0m\u001b[1;38;5;39m2022-12-30 \u001b[0m\u001b[1;38;5;39m \u001b[0m \u001b[1m \u001b[0m\u001b[1m0001493152-22-037069\u001b[0m\u001b[1m \u001b[0m \n",
       "  49  \u001b[38;5;71m \u001b[0m\u001b[38;5;71m1-U  \u001b[0m\u001b[38;5;71m \u001b[0m  Masterworks 182, LLC                          1951373  \u001b[38;5;39m \u001b[0m\u001b[38;5;39m2022-12-30 \u001b[0m\u001b[38;5;39m \u001b[0m  0001493152-22-037075  \n",
       "                                                                                                           \n",
       "Showing 50 of 1,112,861 filings"
      ]
     },
     "execution_count": 8,
     "metadata": {},
     "output_type": "execute_result"
    }
   ],
   "source": [
    "filings = get_filings(year=2022)\n",
    "filings"
   ]
  },
  {
   "cell_type": "markdown",
   "id": "c7971628",
   "metadata": {},
   "source": [
    "## Get filings for specific form or forms"
   ]
  },
  {
   "cell_type": "code",
   "execution_count": 9,
   "id": "be5fbb8a",
   "metadata": {},
   "outputs": [
    {
     "data": {
      "text/html": [
       "<pre style=\"white-space:pre;overflow-x:auto;line-height:normal;font-family:Menlo,'DejaVu Sans Mono',consolas,'Courier New',monospace\"></pre>\n"
      ],
      "text/plain": []
     },
     "metadata": {},
     "output_type": "display_data"
    },
    {
     "data": {
      "text/plain": [
       "\u001b[1m                                                      Filings                                                      \u001b[0m\n",
       "                                                                                                                   \n",
       " \u001b[1m \u001b[0m\u001b[1m  \u001b[0m\u001b[1m \u001b[0m \u001b[1;38;5;71m \u001b[0m\u001b[1;38;5;71mform\u001b[0m\u001b[1;38;5;71m \u001b[0m \u001b[1m \u001b[0m\u001b[1mcompany                                             \u001b[0m\u001b[1m \u001b[0m \u001b[1m \u001b[0m\u001b[1mcik    \u001b[0m\u001b[1m \u001b[0m \u001b[1;38;5;39m \u001b[0m\u001b[1;38;5;39mfiling_date\u001b[0m\u001b[1;38;5;39m \u001b[0m \u001b[1m \u001b[0m\u001b[1maccession_number    \u001b[0m\u001b[1m \u001b[0m \n",
       " ───────────────────────────────────────────────────────────────────────────────────────────────────────────────── \n",
       " \u001b[1m \u001b[0m\u001b[1m0 \u001b[0m\u001b[1m \u001b[0m \u001b[1;38;5;71m \u001b[0m\u001b[1;38;5;71m6-K \u001b[0m\u001b[1;38;5;71m \u001b[0m \u001b[1m \u001b[0m\u001b[1m360 DigiTech, Inc.                                  \u001b[0m\u001b[1m \u001b[0m \u001b[1m \u001b[0m\u001b[1m1741530\u001b[0m\u001b[1m \u001b[0m \u001b[1;38;5;39m \u001b[0m\u001b[1;38;5;39m2023-02-14 \u001b[0m\u001b[1;38;5;39m \u001b[0m \u001b[1m \u001b[0m\u001b[1m0001104659-23-020445\u001b[0m\u001b[1m \u001b[0m \n",
       "  1   \u001b[38;5;71m \u001b[0m\u001b[38;5;71m6-K \u001b[0m\u001b[38;5;71m \u001b[0m  ABSOLUTE SOFTWARE CORP                                 1071058  \u001b[38;5;39m \u001b[0m\u001b[38;5;39m2023-02-14 \u001b[0m\u001b[38;5;39m \u001b[0m  0001071058-23-000010  \n",
       " \u001b[1m \u001b[0m\u001b[1m2 \u001b[0m\u001b[1m \u001b[0m \u001b[1;38;5;71m \u001b[0m\u001b[1;38;5;71m6-K \u001b[0m\u001b[1;38;5;71m \u001b[0m \u001b[1m \u001b[0m\u001b[1mAdvanced Health Intelligence Ltd                    \u001b[0m\u001b[1m \u001b[0m \u001b[1m \u001b[0m\u001b[1m1815436\u001b[0m\u001b[1m \u001b[0m \u001b[1;38;5;39m \u001b[0m\u001b[1;38;5;39m2023-02-14 \u001b[0m\u001b[1;38;5;39m \u001b[0m \u001b[1m \u001b[0m\u001b[1m0001213900-23-011171\u001b[0m\u001b[1m \u001b[0m \n",
       "  3   \u001b[38;5;71m \u001b[0m\u001b[38;5;71m6-K \u001b[0m\u001b[38;5;71m \u001b[0m  Algoma Steel Group Inc.                                1860805  \u001b[38;5;39m \u001b[0m\u001b[38;5;39m2023-02-14 \u001b[0m\u001b[38;5;39m \u001b[0m  0001193125-23-036186  \n",
       " \u001b[1m \u001b[0m\u001b[1m4 \u001b[0m\u001b[1m \u001b[0m \u001b[1;38;5;71m \u001b[0m\u001b[1;38;5;71m6-K \u001b[0m\u001b[1;38;5;71m \u001b[0m \u001b[1m \u001b[0m\u001b[1mAlgoma Steel Group Inc.                             \u001b[0m\u001b[1m \u001b[0m \u001b[1m \u001b[0m\u001b[1m1860805\u001b[0m\u001b[1m \u001b[0m \u001b[1;38;5;39m \u001b[0m\u001b[1;38;5;39m2023-02-14 \u001b[0m\u001b[1;38;5;39m \u001b[0m \u001b[1m \u001b[0m\u001b[1m0001193125-23-036289\u001b[0m\u001b[1m \u001b[0m \n",
       "  5   \u001b[38;5;71m \u001b[0m\u001b[38;5;71m6-K \u001b[0m\u001b[38;5;71m \u001b[0m  Alithya Group inc                                      1734520  \u001b[38;5;39m \u001b[0m\u001b[38;5;39m2023-02-14 \u001b[0m\u001b[38;5;39m \u001b[0m  0001734520-23-000011  \n",
       " \u001b[1m \u001b[0m\u001b[1m6 \u001b[0m\u001b[1m \u001b[0m \u001b[1;38;5;71m \u001b[0m\u001b[1;38;5;71m6-K \u001b[0m\u001b[1;38;5;71m \u001b[0m \u001b[1m \u001b[0m\u001b[1mAlithya Group inc                                   \u001b[0m\u001b[1m \u001b[0m \u001b[1m \u001b[0m\u001b[1m1734520\u001b[0m\u001b[1m \u001b[0m \u001b[1;38;5;39m \u001b[0m\u001b[1;38;5;39m2023-02-14 \u001b[0m\u001b[1;38;5;39m \u001b[0m \u001b[1m \u001b[0m\u001b[1m0001734520-23-000013\u001b[0m\u001b[1m \u001b[0m \n",
       "  7   \u001b[38;5;71m \u001b[0m\u001b[38;5;71m6-K \u001b[0m\u001b[38;5;71m \u001b[0m  Ardmore Shipping Corp                                  1577437  \u001b[38;5;39m \u001b[0m\u001b[38;5;39m2023-02-14 \u001b[0m\u001b[38;5;39m \u001b[0m  0000950170-23-002705  \n",
       " \u001b[1m \u001b[0m\u001b[1m8 \u001b[0m\u001b[1m \u001b[0m \u001b[1;38;5;71m \u001b[0m\u001b[1;38;5;71m6-K \u001b[0m\u001b[1;38;5;71m \u001b[0m \u001b[1m \u001b[0m\u001b[1mAtlas Corp.                                         \u001b[0m\u001b[1m \u001b[0m \u001b[1m \u001b[0m\u001b[1m1794846\u001b[0m\u001b[1m \u001b[0m \u001b[1;38;5;39m \u001b[0m\u001b[1;38;5;39m2023-02-14 \u001b[0m\u001b[1;38;5;39m \u001b[0m \u001b[1m \u001b[0m\u001b[1m0001193125-23-039390\u001b[0m\u001b[1m \u001b[0m \n",
       "  9   \u001b[38;5;71m \u001b[0m\u001b[38;5;71m6-K \u001b[0m\u001b[38;5;71m \u001b[0m  Ayr Wellness Inc.                                      1847462  \u001b[38;5;39m \u001b[0m\u001b[38;5;39m2023-02-14 \u001b[0m\u001b[38;5;39m \u001b[0m  0001104659-23-021924  \n",
       " \u001b[1m \u001b[0m\u001b[1m10\u001b[0m\u001b[1m \u001b[0m \u001b[1;38;5;71m \u001b[0m\u001b[1;38;5;71m6-K \u001b[0m\u001b[1;38;5;71m \u001b[0m \u001b[1m \u001b[0m\u001b[1mBANCO BILBAO VIZCAYA ARGENTARIA, S.A.               \u001b[0m\u001b[1m \u001b[0m \u001b[1m \u001b[0m\u001b[1m842180 \u001b[0m\u001b[1m \u001b[0m \u001b[1;38;5;39m \u001b[0m\u001b[1;38;5;39m2023-02-14 \u001b[0m\u001b[1;38;5;39m \u001b[0m \u001b[1m \u001b[0m\u001b[1m0001193125-23-038173\u001b[0m\u001b[1m \u001b[0m \n",
       "  11  \u001b[38;5;71m \u001b[0m\u001b[38;5;71m6-K \u001b[0m\u001b[38;5;71m \u001b[0m  BANCO BILBAO VIZCAYA ARGENTARIA, S.A.                  842180   \u001b[38;5;39m \u001b[0m\u001b[38;5;39m2023-02-14 \u001b[0m\u001b[38;5;39m \u001b[0m  0001193125-23-038211  \n",
       " \u001b[1m \u001b[0m\u001b[1m12\u001b[0m\u001b[1m \u001b[0m \u001b[1;38;5;71m \u001b[0m\u001b[1;38;5;71m6-K \u001b[0m\u001b[1;38;5;71m \u001b[0m \u001b[1m \u001b[0m\u001b[1mBRASKEM SA                                          \u001b[0m\u001b[1m \u001b[0m \u001b[1m \u001b[0m\u001b[1m1071438\u001b[0m\u001b[1m \u001b[0m \u001b[1;38;5;39m \u001b[0m\u001b[1;38;5;39m2023-02-14 \u001b[0m\u001b[1;38;5;39m \u001b[0m \u001b[1m \u001b[0m\u001b[1m0001292814-23-000435\u001b[0m\u001b[1m \u001b[0m \n",
       "  13  \u001b[38;5;71m \u001b[0m\u001b[38;5;71m6-K \u001b[0m\u001b[38;5;71m \u001b[0m  BRAZILIAN DISTRIBUTION CO COMPANHIA BRASILEIRA DE      1038572  \u001b[38;5;39m \u001b[0m\u001b[38;5;39m2023-02-14 \u001b[0m\u001b[38;5;39m \u001b[0m  0001292814-23-000439  \n",
       "      \u001b[38;5;71m      \u001b[0m  DISTR CBD                                                       \u001b[38;5;39m             \u001b[0m                        \n",
       " \u001b[1m \u001b[0m\u001b[1m14\u001b[0m\u001b[1m \u001b[0m \u001b[1;38;5;71m \u001b[0m\u001b[1;38;5;71m6-K \u001b[0m\u001b[1;38;5;71m \u001b[0m \u001b[1m \u001b[0m\u001b[1mBRAZILIAN DISTRIBUTION CO COMPANHIA BRASILEIRA DE   \u001b[0m\u001b[1m \u001b[0m \u001b[1m \u001b[0m\u001b[1m1038572\u001b[0m\u001b[1m \u001b[0m \u001b[1;38;5;39m \u001b[0m\u001b[1;38;5;39m2023-02-14 \u001b[0m\u001b[1;38;5;39m \u001b[0m \u001b[1m \u001b[0m\u001b[1m0001292814-23-000441\u001b[0m\u001b[1m \u001b[0m \n",
       " \u001b[1m    \u001b[0m \u001b[1;38;5;71m      \u001b[0m \u001b[1m \u001b[0m\u001b[1mDISTR CBD                                           \u001b[0m\u001b[1m \u001b[0m \u001b[1m         \u001b[0m \u001b[1;38;5;39m             \u001b[0m \u001b[1m                      \u001b[0m \n",
       "  15  \u001b[38;5;71m \u001b[0m\u001b[38;5;71m6-K \u001b[0m\u001b[38;5;71m \u001b[0m  British American Tobacco p.l.c.                        1303523  \u001b[38;5;39m \u001b[0m\u001b[38;5;39m2023-02-14 \u001b[0m\u001b[38;5;39m \u001b[0m  0000950157-23-000139  \n",
       " \u001b[1m \u001b[0m\u001b[1m16\u001b[0m\u001b[1m \u001b[0m \u001b[1;38;5;71m \u001b[0m\u001b[1;38;5;71m6-K \u001b[0m\u001b[1;38;5;71m \u001b[0m \u001b[1m \u001b[0m\u001b[1mCAE INC                                             \u001b[0m\u001b[1m \u001b[0m \u001b[1m \u001b[0m\u001b[1m1173382\u001b[0m\u001b[1m \u001b[0m \u001b[1;38;5;39m \u001b[0m\u001b[1;38;5;39m2023-02-14 \u001b[0m\u001b[1;38;5;39m \u001b[0m \u001b[1m \u001b[0m\u001b[1m0001173382-23-000003\u001b[0m\u001b[1m \u001b[0m \n",
       "  17  \u001b[38;5;71m \u001b[0m\u001b[38;5;71m6-K \u001b[0m\u001b[38;5;71m \u001b[0m  COMPUGEN LTD                                           1119774  \u001b[38;5;39m \u001b[0m\u001b[38;5;39m2023-02-14 \u001b[0m\u001b[38;5;39m \u001b[0m  0001178913-23-000548  \n",
       " \u001b[1m \u001b[0m\u001b[1m18\u001b[0m\u001b[1m \u001b[0m \u001b[1;38;5;71m \u001b[0m\u001b[1;38;5;71m6-K \u001b[0m\u001b[1;38;5;71m \u001b[0m \u001b[1m \u001b[0m\u001b[1mCREDICORP LTD                                       \u001b[0m\u001b[1m \u001b[0m \u001b[1m \u001b[0m\u001b[1m1001290\u001b[0m\u001b[1m \u001b[0m \u001b[1;38;5;39m \u001b[0m\u001b[1;38;5;39m2023-02-14 \u001b[0m\u001b[1;38;5;39m \u001b[0m \u001b[1m \u001b[0m\u001b[1m0001140361-23-006893\u001b[0m\u001b[1m \u001b[0m \n",
       "  19  \u001b[38;5;71m \u001b[0m\u001b[38;5;71m6-K \u001b[0m\u001b[38;5;71m \u001b[0m  CRESUD INC                                             1034957  \u001b[38;5;39m \u001b[0m\u001b[38;5;39m2023-02-14 \u001b[0m\u001b[38;5;39m \u001b[0m  0001654954-23-001666  \n",
       " \u001b[1m \u001b[0m\u001b[1m20\u001b[0m\u001b[1m \u001b[0m \u001b[1;38;5;71m \u001b[0m\u001b[1;38;5;71m6-K \u001b[0m\u001b[1;38;5;71m \u001b[0m \u001b[1m \u001b[0m\u001b[1mCRESUD INC                                          \u001b[0m\u001b[1m \u001b[0m \u001b[1m \u001b[0m\u001b[1m1034957\u001b[0m\u001b[1m \u001b[0m \u001b[1;38;5;39m \u001b[0m\u001b[1;38;5;39m2023-02-14 \u001b[0m\u001b[1;38;5;39m \u001b[0m \u001b[1m \u001b[0m\u001b[1m0001654954-23-001668\u001b[0m\u001b[1m \u001b[0m \n",
       "  21  \u001b[38;5;71m \u001b[0m\u001b[38;5;71m6-K \u001b[0m\u001b[38;5;71m \u001b[0m  CYBIN INC.                                             1833141  \u001b[38;5;39m \u001b[0m\u001b[38;5;39m2023-02-14 \u001b[0m\u001b[38;5;39m \u001b[0m  0001628280-23-003442  \n",
       " \u001b[1m \u001b[0m\u001b[1m22\u001b[0m\u001b[1m \u001b[0m \u001b[1;38;5;71m \u001b[0m\u001b[1;38;5;71m6-K \u001b[0m\u001b[1;38;5;71m \u001b[0m \u001b[1m \u001b[0m\u001b[1mCan-Fite BioPharma Ltd.                             \u001b[0m\u001b[1m \u001b[0m \u001b[1m \u001b[0m\u001b[1m1536196\u001b[0m\u001b[1m \u001b[0m \u001b[1;38;5;39m \u001b[0m\u001b[1;38;5;39m2023-02-14 \u001b[0m\u001b[1;38;5;39m \u001b[0m \u001b[1m \u001b[0m\u001b[1m0001213900-23-011063\u001b[0m\u001b[1m \u001b[0m \n",
       "  23  \u001b[38;5;71m \u001b[0m\u001b[38;5;71m6-K \u001b[0m\u001b[38;5;71m \u001b[0m  Copa Holdings, S.A.                                    1345105  \u001b[38;5;39m \u001b[0m\u001b[38;5;39m2023-02-14 \u001b[0m\u001b[38;5;39m \u001b[0m  0000950170-23-002665  \n",
       " \u001b[1m \u001b[0m\u001b[1m24\u001b[0m\u001b[1m \u001b[0m \u001b[1;38;5;71m \u001b[0m\u001b[1;38;5;71m6-K \u001b[0m\u001b[1;38;5;71m \u001b[0m \u001b[1m \u001b[0m\u001b[1mDESCARTES SYSTEMS GROUP INC                         \u001b[0m\u001b[1m \u001b[0m \u001b[1m \u001b[0m\u001b[1m1050140\u001b[0m\u001b[1m \u001b[0m \u001b[1;38;5;39m \u001b[0m\u001b[1;38;5;39m2023-02-14 \u001b[0m\u001b[1;38;5;39m \u001b[0m \u001b[1m \u001b[0m\u001b[1m0000929638-23-000477\u001b[0m\u001b[1m \u001b[0m \n",
       "  25  \u001b[38;5;71m \u001b[0m\u001b[38;5;71m6-K \u001b[0m\u001b[38;5;71m \u001b[0m  DIANA SHIPPING INC.                                    1318885  \u001b[38;5;39m \u001b[0m\u001b[38;5;39m2023-02-14 \u001b[0m\u001b[38;5;39m \u001b[0m  0000919574-23-001656  \n",
       " \u001b[1m \u001b[0m\u001b[1m26\u001b[0m\u001b[1m \u001b[0m \u001b[1;38;5;71m \u001b[0m\u001b[1;38;5;71m6-K \u001b[0m\u001b[1;38;5;71m \u001b[0m \u001b[1m \u001b[0m\u001b[1mDingdong (Cayman) Ltd                               \u001b[0m\u001b[1m \u001b[0m \u001b[1m \u001b[0m\u001b[1m1854545\u001b[0m\u001b[1m \u001b[0m \u001b[1;38;5;39m \u001b[0m\u001b[1;38;5;39m2023-02-14 \u001b[0m\u001b[1;38;5;39m \u001b[0m \u001b[1m \u001b[0m\u001b[1m0001193125-23-037653\u001b[0m\u001b[1m \u001b[0m \n",
       "  27  \u001b[38;5;71m \u001b[0m\u001b[38;5;71m6-K \u001b[0m\u001b[38;5;71m \u001b[0m  Draganfly Inc.                                         1786286  \u001b[38;5;39m \u001b[0m\u001b[38;5;39m2023-02-14 \u001b[0m\u001b[38;5;39m \u001b[0m  0001493152-23-004735  \n",
       " \u001b[1m \u001b[0m\u001b[1m28\u001b[0m\u001b[1m \u001b[0m \u001b[1;38;5;71m \u001b[0m\u001b[1;38;5;71m6-K \u001b[0m\u001b[1;38;5;71m \u001b[0m \u001b[1m \u001b[0m\u001b[1mECOPETROL S.A.                                      \u001b[0m\u001b[1m \u001b[0m \u001b[1m \u001b[0m\u001b[1m1444406\u001b[0m\u001b[1m \u001b[0m \u001b[1;38;5;39m \u001b[0m\u001b[1;38;5;39m2023-02-14 \u001b[0m\u001b[1;38;5;39m \u001b[0m \u001b[1m \u001b[0m\u001b[1m0001104659-23-021877\u001b[0m\u001b[1m \u001b[0m \n",
       "  29  \u001b[38;5;71m \u001b[0m\u001b[38;5;71m6-K \u001b[0m\u001b[38;5;71m \u001b[0m  Electra Battery Materials Corp                         1907184  \u001b[38;5;39m \u001b[0m\u001b[38;5;39m2023-02-14 \u001b[0m\u001b[38;5;39m \u001b[0m  0001104659-23-020999  \n",
       " \u001b[1m \u001b[0m\u001b[1m30\u001b[0m\u001b[1m \u001b[0m \u001b[1;38;5;71m \u001b[0m\u001b[1;38;5;71m6-K \u001b[0m\u001b[1;38;5;71m \u001b[0m \u001b[1m \u001b[0m\u001b[1mElectra Battery Materials Corp                      \u001b[0m\u001b[1m \u001b[0m \u001b[1m \u001b[0m\u001b[1m1907184\u001b[0m\u001b[1m \u001b[0m \u001b[1;38;5;39m \u001b[0m\u001b[1;38;5;39m2023-02-14 \u001b[0m\u001b[1;38;5;39m \u001b[0m \u001b[1m \u001b[0m\u001b[1m0001104659-23-021239\u001b[0m\u001b[1m \u001b[0m \n",
       "  31  \u001b[38;5;71m \u001b[0m\u001b[38;5;71m6-K \u001b[0m\u001b[38;5;71m \u001b[0m  Electra Battery Materials Corp                         1907184  \u001b[38;5;39m \u001b[0m\u001b[38;5;39m2023-02-14 \u001b[0m\u001b[38;5;39m \u001b[0m  0001104659-23-021243  \n",
       " \u001b[1m \u001b[0m\u001b[1m32\u001b[0m\u001b[1m \u001b[0m \u001b[1;38;5;71m \u001b[0m\u001b[1;38;5;71m6-K \u001b[0m\u001b[1;38;5;71m \u001b[0m \u001b[1m \u001b[0m\u001b[1mElectra Battery Materials Corp                      \u001b[0m\u001b[1m \u001b[0m \u001b[1m \u001b[0m\u001b[1m1907184\u001b[0m\u001b[1m \u001b[0m \u001b[1;38;5;39m \u001b[0m\u001b[1;38;5;39m2023-02-14 \u001b[0m\u001b[1;38;5;39m \u001b[0m \u001b[1m \u001b[0m\u001b[1m0001157523-23-000280\u001b[0m\u001b[1m \u001b[0m \n",
       "  33  \u001b[38;5;71m \u001b[0m\u001b[38;5;71m6-K \u001b[0m\u001b[38;5;71m \u001b[0m  Endava plc                                             1656081  \u001b[38;5;39m \u001b[0m\u001b[38;5;39m2023-02-14 \u001b[0m\u001b[38;5;39m \u001b[0m  0001656081-23-000005  \n",
       " \u001b[1m \u001b[0m\u001b[1m34\u001b[0m\u001b[1m \u001b[0m \u001b[1;38;5;71m \u001b[0m\u001b[1;38;5;71m6-K \u001b[0m\u001b[1;38;5;71m \u001b[0m \u001b[1m \u001b[0m\u001b[1mFSD Pharma Inc.                                     \u001b[0m\u001b[1m \u001b[0m \u001b[1m \u001b[0m\u001b[1m1771885\u001b[0m\u001b[1m \u001b[0m \u001b[1;38;5;39m \u001b[0m\u001b[1;38;5;39m2023-02-14 \u001b[0m\u001b[1;38;5;39m \u001b[0m \u001b[1m \u001b[0m\u001b[1m0001157523-23-000270\u001b[0m\u001b[1m \u001b[0m \n",
       "  35  \u001b[38;5;71m \u001b[0m\u001b[38;5;71m6-K \u001b[0m\u001b[38;5;71m \u001b[0m  GILAT SATELLITE NETWORKS LTD                           897322   \u001b[38;5;39m \u001b[0m\u001b[38;5;39m2023-02-14 \u001b[0m\u001b[38;5;39m \u001b[0m  0001178913-23-000553  \n",
       " \u001b[1m \u001b[0m\u001b[1m36\u001b[0m\u001b[1m \u001b[0m \u001b[1;38;5;71m \u001b[0m\u001b[1;38;5;71m6-K \u001b[0m\u001b[1;38;5;71m \u001b[0m \u001b[1m \u001b[0m\u001b[1mGLOBALFOUNDRIES Inc.                                \u001b[0m\u001b[1m \u001b[0m \u001b[1m \u001b[0m\u001b[1m1709048\u001b[0m\u001b[1m \u001b[0m \u001b[1;38;5;39m \u001b[0m\u001b[1;38;5;39m2023-02-14 \u001b[0m\u001b[1;38;5;39m \u001b[0m \u001b[1m \u001b[0m\u001b[1m0001709048-23-000004\u001b[0m\u001b[1m \u001b[0m \n",
       "  37  \u001b[38;5;71m \u001b[0m\u001b[38;5;71m6-K \u001b[0m\u001b[38;5;71m \u001b[0m  GRAVITY Co., Ltd.                                      1313310  \u001b[38;5;39m \u001b[0m\u001b[38;5;39m2023-02-14 \u001b[0m\u001b[38;5;39m \u001b[0m  0001628280-23-003436  \n",
       " \u001b[1m \u001b[0m\u001b[1m38\u001b[0m\u001b[1m \u001b[0m \u001b[1;38;5;71m \u001b[0m\u001b[1;38;5;71m6-K \u001b[0m\u001b[1;38;5;71m \u001b[0m \u001b[1m \u001b[0m\u001b[1mGREENPOWER MOTOR Co INC.                            \u001b[0m\u001b[1m \u001b[0m \u001b[1m \u001b[0m\u001b[1m1584547\u001b[0m\u001b[1m \u001b[0m \u001b[1;38;5;39m \u001b[0m\u001b[1;38;5;39m2023-02-14 \u001b[0m\u001b[1;38;5;39m \u001b[0m \u001b[1m \u001b[0m\u001b[1m0000950170-23-002706\u001b[0m\u001b[1m \u001b[0m \n",
       "  39  \u001b[38;5;71m \u001b[0m\u001b[38;5;71m6-K \u001b[0m\u001b[38;5;71m \u001b[0m  GREENPOWER MOTOR Co INC.                               1584547  \u001b[38;5;39m \u001b[0m\u001b[38;5;39m2023-02-14 \u001b[0m\u001b[38;5;39m \u001b[0m  0001062993-23-002938  \n",
       " \u001b[1m \u001b[0m\u001b[1m40\u001b[0m\u001b[1m \u001b[0m \u001b[1;38;5;71m \u001b[0m\u001b[1;38;5;71m6-K \u001b[0m\u001b[1;38;5;71m \u001b[0m \u001b[1m \u001b[0m\u001b[1mGSK PLC                                             \u001b[0m\u001b[1m \u001b[0m \u001b[1m \u001b[0m\u001b[1m1131399\u001b[0m\u001b[1m \u001b[0m \u001b[1;38;5;39m \u001b[0m\u001b[1;38;5;39m2023-02-14 \u001b[0m\u001b[1;38;5;39m \u001b[0m \u001b[1m \u001b[0m\u001b[1m0001654954-23-001628\u001b[0m\u001b[1m \u001b[0m \n",
       "  41  \u001b[38;5;71m \u001b[0m\u001b[38;5;71m6-K \u001b[0m\u001b[38;5;71m \u001b[0m  GSK PLC                                                1131399  \u001b[38;5;39m \u001b[0m\u001b[38;5;39m2023-02-14 \u001b[0m\u001b[38;5;39m \u001b[0m  0001654954-23-001629  \n",
       " \u001b[1m \u001b[0m\u001b[1m42\u001b[0m\u001b[1m \u001b[0m \u001b[1;38;5;71m \u001b[0m\u001b[1;38;5;71m6-K \u001b[0m\u001b[1;38;5;71m \u001b[0m \u001b[1m \u001b[0m\u001b[1mGSK PLC                                             \u001b[0m\u001b[1m \u001b[0m \u001b[1m \u001b[0m\u001b[1m1131399\u001b[0m\u001b[1m \u001b[0m \u001b[1;38;5;39m \u001b[0m\u001b[1;38;5;39m2023-02-14 \u001b[0m\u001b[1;38;5;39m \u001b[0m \u001b[1m \u001b[0m\u001b[1m0001654954-23-001631\u001b[0m\u001b[1m \u001b[0m \n",
       "  43  \u001b[38;5;71m \u001b[0m\u001b[38;5;71m6-K \u001b[0m\u001b[38;5;71m \u001b[0m  GSK PLC                                                1131399  \u001b[38;5;39m \u001b[0m\u001b[38;5;39m2023-02-14 \u001b[0m\u001b[38;5;39m \u001b[0m  0001654954-23-001633  \n",
       " \u001b[1m \u001b[0m\u001b[1m44\u001b[0m\u001b[1m \u001b[0m \u001b[1;38;5;71m \u001b[0m\u001b[1;38;5;71m6-K \u001b[0m\u001b[1;38;5;71m \u001b[0m \u001b[1m \u001b[0m\u001b[1mHSBC HOLDINGS PLC                                   \u001b[0m\u001b[1m \u001b[0m \u001b[1m \u001b[0m\u001b[1m1089113\u001b[0m\u001b[1m \u001b[0m \u001b[1;38;5;39m \u001b[0m\u001b[1;38;5;39m2023-02-14 \u001b[0m\u001b[1;38;5;39m \u001b[0m \u001b[1m \u001b[0m\u001b[1m0001654954-23-001660\u001b[0m\u001b[1m \u001b[0m \n",
       "  45  \u001b[38;5;71m \u001b[0m\u001b[38;5;71m6-K \u001b[0m\u001b[38;5;71m \u001b[0m  HSBC HOLDINGS PLC                                      1089113  \u001b[38;5;39m \u001b[0m\u001b[38;5;39m2023-02-14 \u001b[0m\u001b[38;5;39m \u001b[0m  0001654954-23-001680  \n",
       " \u001b[1m \u001b[0m\u001b[1m46\u001b[0m\u001b[1m \u001b[0m \u001b[1;38;5;71m \u001b[0m\u001b[1;38;5;71m6-K \u001b[0m\u001b[1;38;5;71m \u001b[0m \u001b[1m \u001b[0m\u001b[1mHYDRO ONE INC                                       \u001b[0m\u001b[1m \u001b[0m \u001b[1m \u001b[0m\u001b[1m1114445\u001b[0m\u001b[1m \u001b[0m \u001b[1;38;5;39m \u001b[0m\u001b[1;38;5;39m2023-02-14 \u001b[0m\u001b[1;38;5;39m \u001b[0m \u001b[1m \u001b[0m\u001b[1m0001114445-23-000007\u001b[0m\u001b[1m \u001b[0m \n",
       "  47  \u001b[38;5;71m \u001b[0m\u001b[38;5;71m6-K \u001b[0m\u001b[38;5;71m \u001b[0m  Hydro One Ltd                                          1712356  \u001b[38;5;39m \u001b[0m\u001b[38;5;39m2023-02-14 \u001b[0m\u001b[38;5;39m \u001b[0m  0001712356-23-000013  \n",
       " \u001b[1m \u001b[0m\u001b[1m48\u001b[0m\u001b[1m \u001b[0m \u001b[1;38;5;71m \u001b[0m\u001b[1;38;5;71m6-K \u001b[0m\u001b[1;38;5;71m \u001b[0m \u001b[1m \u001b[0m\u001b[1mHydro One Ltd                                       \u001b[0m\u001b[1m \u001b[0m \u001b[1m \u001b[0m\u001b[1m1712356\u001b[0m\u001b[1m \u001b[0m \u001b[1;38;5;39m \u001b[0m\u001b[1;38;5;39m2023-02-14 \u001b[0m\u001b[1;38;5;39m \u001b[0m \u001b[1m \u001b[0m\u001b[1m0001712356-23-000014\u001b[0m\u001b[1m \u001b[0m \n",
       "  49  \u001b[38;5;71m \u001b[0m\u001b[38;5;71m6-K \u001b[0m\u001b[38;5;71m \u001b[0m  InMode Ltd.                                            1742692  \u001b[38;5;39m \u001b[0m\u001b[38;5;39m2023-02-14 \u001b[0m\u001b[38;5;39m \u001b[0m  0001178913-23-000549  \n",
       "                                                                                                                   \n",
       "Showing 50 of 2,618 filings"
      ]
     },
     "execution_count": 9,
     "metadata": {},
     "output_type": "execute_result"
    }
   ],
   "source": [
    "filings_6k = get_filings(form=\"6-K\")\n",
    "filings_6k"
   ]
  },
  {
   "cell_type": "markdown",
   "id": "1e0d6802",
   "metadata": {},
   "source": [
    "### Getting filings for a form not including amendments"
   ]
  },
  {
   "cell_type": "markdown",
   "id": "0c9432ae",
   "metadata": {},
   "source": [
    "By default getting filings for a form type also includes amendments to that form type"
   ]
  },
  {
   "cell_type": "code",
   "execution_count": 10,
   "id": "dbca49ab",
   "metadata": {},
   "outputs": [
    {
     "data": {
      "text/html": [
       "<pre style=\"white-space:pre;overflow-x:auto;line-height:normal;font-family:Menlo,'DejaVu Sans Mono',consolas,'Courier New',monospace\"></pre>\n"
      ],
      "text/plain": []
     },
     "metadata": {},
     "output_type": "display_data"
    },
    {
     "data": {
      "text/plain": [
       "\u001b[1m                                                      Filings                                                      \u001b[0m\n",
       "                                                                                                                   \n",
       " \u001b[1m \u001b[0m\u001b[1m  \u001b[0m\u001b[1m \u001b[0m \u001b[1;38;5;71m \u001b[0m\u001b[1;38;5;71mform \u001b[0m\u001b[1;38;5;71m \u001b[0m \u001b[1m \u001b[0m\u001b[1mcompany                                            \u001b[0m\u001b[1m \u001b[0m \u001b[1m \u001b[0m\u001b[1mcik    \u001b[0m\u001b[1m \u001b[0m \u001b[1;38;5;39m \u001b[0m\u001b[1;38;5;39mfiling_date\u001b[0m\u001b[1;38;5;39m \u001b[0m \u001b[1m \u001b[0m\u001b[1maccession_number    \u001b[0m\u001b[1m \u001b[0m \n",
       " ───────────────────────────────────────────────────────────────────────────────────────────────────────────────── \n",
       " \u001b[1m \u001b[0m\u001b[1m0 \u001b[0m\u001b[1m \u001b[0m \u001b[1;38;5;71m \u001b[0m\u001b[1;38;5;71m6-K/A\u001b[0m\u001b[1;38;5;71m \u001b[0m \u001b[1m \u001b[0m\u001b[1mCEMEX SAB DE CV                                    \u001b[0m\u001b[1m \u001b[0m \u001b[1m \u001b[0m\u001b[1m1076378\u001b[0m\u001b[1m \u001b[0m \u001b[1;38;5;39m \u001b[0m\u001b[1;38;5;39m2023-02-14 \u001b[0m\u001b[1;38;5;39m \u001b[0m \u001b[1m \u001b[0m\u001b[1m0001193125-23-036215\u001b[0m\u001b[1m \u001b[0m \n",
       "  1   \u001b[38;5;71m \u001b[0m\u001b[38;5;71m6-K/A\u001b[0m\u001b[38;5;71m \u001b[0m  CREDIT SUISSE AG                                      1053092  \u001b[38;5;39m \u001b[0m\u001b[38;5;39m2023-02-14 \u001b[0m\u001b[38;5;39m \u001b[0m  0001370368-23-000017  \n",
       " \u001b[1m \u001b[0m\u001b[1m2 \u001b[0m\u001b[1m \u001b[0m \u001b[1;38;5;71m \u001b[0m\u001b[1;38;5;71m6-K/A\u001b[0m\u001b[1;38;5;71m \u001b[0m \u001b[1m \u001b[0m\u001b[1mCREDIT SUISSE GROUP AG                             \u001b[0m\u001b[1m \u001b[0m \u001b[1m \u001b[0m\u001b[1m1159510\u001b[0m\u001b[1m \u001b[0m \u001b[1;38;5;39m \u001b[0m\u001b[1;38;5;39m2023-02-14 \u001b[0m\u001b[1;38;5;39m \u001b[0m \u001b[1m \u001b[0m\u001b[1m0001370368-23-000017\u001b[0m\u001b[1m \u001b[0m \n",
       "  3   \u001b[38;5;71m \u001b[0m\u001b[38;5;71m6-K/A\u001b[0m\u001b[38;5;71m \u001b[0m  Copa Holdings, S.A.                                   1345105  \u001b[38;5;39m \u001b[0m\u001b[38;5;39m2023-02-14 \u001b[0m\u001b[38;5;39m \u001b[0m  0000950170-23-002722  \n",
       " \u001b[1m \u001b[0m\u001b[1m4 \u001b[0m\u001b[1m \u001b[0m \u001b[1;38;5;71m \u001b[0m\u001b[1;38;5;71m6-K/A\u001b[0m\u001b[1;38;5;71m \u001b[0m \u001b[1m \u001b[0m\u001b[1mNu Holdings Ltd.                                   \u001b[0m\u001b[1m \u001b[0m \u001b[1m \u001b[0m\u001b[1m1691493\u001b[0m\u001b[1m \u001b[0m \u001b[1;38;5;39m \u001b[0m\u001b[1;38;5;39m2023-02-14 \u001b[0m\u001b[1;38;5;39m \u001b[0m \u001b[1m \u001b[0m\u001b[1m0001292814-23-000447\u001b[0m\u001b[1m \u001b[0m \n",
       "  5   \u001b[38;5;71m \u001b[0m\u001b[38;5;71m6-K/A\u001b[0m\u001b[38;5;71m \u001b[0m  CREDIT SUISSE AG                                      1053092  \u001b[38;5;39m \u001b[0m\u001b[38;5;39m2023-02-13 \u001b[0m\u001b[38;5;39m \u001b[0m  0001213900-23-010748  \n",
       " \u001b[1m \u001b[0m\u001b[1m6 \u001b[0m\u001b[1m \u001b[0m \u001b[1;38;5;71m \u001b[0m\u001b[1;38;5;71m6-K/A\u001b[0m\u001b[1;38;5;71m \u001b[0m \u001b[1m \u001b[0m\u001b[1mCENTRAL PUERTO S.A.                                \u001b[0m\u001b[1m \u001b[0m \u001b[1m \u001b[0m\u001b[1m1717161\u001b[0m\u001b[1m \u001b[0m \u001b[1;38;5;39m \u001b[0m\u001b[1;38;5;39m2023-02-09 \u001b[0m\u001b[1;38;5;39m \u001b[0m \u001b[1m \u001b[0m\u001b[1m0001654954-23-001487\u001b[0m\u001b[1m \u001b[0m \n",
       "  7   \u001b[38;5;71m \u001b[0m\u001b[38;5;71m6-K/A\u001b[0m\u001b[38;5;71m \u001b[0m  BRASKEM SA                                            1071438  \u001b[38;5;39m \u001b[0m\u001b[38;5;39m2023-02-08 \u001b[0m\u001b[38;5;39m \u001b[0m  0001292814-23-000339  \n",
       " \u001b[1m \u001b[0m\u001b[1m8 \u001b[0m\u001b[1m \u001b[0m \u001b[1;38;5;71m \u001b[0m\u001b[1;38;5;71m6-K/A\u001b[0m\u001b[1;38;5;71m \u001b[0m \u001b[1m \u001b[0m\u001b[1mEmeren Group Ltd                                   \u001b[0m\u001b[1m \u001b[0m \u001b[1m \u001b[0m\u001b[1m1417892\u001b[0m\u001b[1m \u001b[0m \u001b[1;38;5;39m \u001b[0m\u001b[1;38;5;39m2023-02-08 \u001b[0m\u001b[1;38;5;39m \u001b[0m \u001b[1m \u001b[0m\u001b[1m0001104659-23-012114\u001b[0m\u001b[1m \u001b[0m \n",
       "  9   \u001b[38;5;71m \u001b[0m\u001b[38;5;71m6-K/A\u001b[0m\u001b[38;5;71m \u001b[0m  MAGIC SOFTWARE ENTERPRISES LTD                        876779   \u001b[38;5;39m \u001b[0m\u001b[38;5;39m2023-02-07 \u001b[0m\u001b[38;5;39m \u001b[0m  0001213900-23-008755  \n",
       " \u001b[1m \u001b[0m\u001b[1m10\u001b[0m\u001b[1m \u001b[0m \u001b[1;38;5;71m \u001b[0m\u001b[1;38;5;71m6-K/A\u001b[0m\u001b[1;38;5;71m \u001b[0m \u001b[1m \u001b[0m\u001b[1mAtento S.A.                                        \u001b[0m\u001b[1m \u001b[0m \u001b[1m \u001b[0m\u001b[1m1606457\u001b[0m\u001b[1m \u001b[0m \u001b[1;38;5;39m \u001b[0m\u001b[1;38;5;39m2023-02-06 \u001b[0m\u001b[1;38;5;39m \u001b[0m \u001b[1m \u001b[0m\u001b[1m0001292814-23-000298\u001b[0m\u001b[1m \u001b[0m \n",
       "  11  \u001b[38;5;71m \u001b[0m\u001b[38;5;71m6-K/A\u001b[0m\u001b[38;5;71m \u001b[0m  BRAZILIAN ELECTRIC POWER CO                           1439124  \u001b[38;5;39m \u001b[0m\u001b[38;5;39m2023-02-03 \u001b[0m\u001b[38;5;39m \u001b[0m  0001292814-23-000293  \n",
       " \u001b[1m \u001b[0m\u001b[1m12\u001b[0m\u001b[1m \u001b[0m \u001b[1;38;5;71m \u001b[0m\u001b[1;38;5;71m6-K/A\u001b[0m\u001b[1;38;5;71m \u001b[0m \u001b[1m \u001b[0m\u001b[1mXTL BIOPHARMACEUTICALS LTD                         \u001b[0m\u001b[1m \u001b[0m \u001b[1m \u001b[0m\u001b[1m1023549\u001b[0m\u001b[1m \u001b[0m \u001b[1;38;5;39m \u001b[0m\u001b[1;38;5;39m2023-02-01 \u001b[0m\u001b[1;38;5;39m \u001b[0m \u001b[1m \u001b[0m\u001b[1m0001213900-23-006569\u001b[0m\u001b[1m \u001b[0m \n",
       "  13  \u001b[38;5;71m \u001b[0m\u001b[38;5;71m6-K/A\u001b[0m\u001b[38;5;71m \u001b[0m  AGNICO EAGLE MINES LTD                                2809     \u001b[38;5;39m \u001b[0m\u001b[38;5;39m2023-01-30 \u001b[0m\u001b[38;5;39m \u001b[0m  0001104659-23-007615  \n",
       " \u001b[1m \u001b[0m\u001b[1m14\u001b[0m\u001b[1m \u001b[0m \u001b[1;38;5;71m \u001b[0m\u001b[1;38;5;71m6-K/A\u001b[0m\u001b[1;38;5;71m \u001b[0m \u001b[1m \u001b[0m\u001b[1mItau Unibanco Holding S.A.                         \u001b[0m\u001b[1m \u001b[0m \u001b[1m \u001b[0m\u001b[1m1132597\u001b[0m\u001b[1m \u001b[0m \u001b[1;38;5;39m \u001b[0m\u001b[1;38;5;39m2023-01-27 \u001b[0m\u001b[1;38;5;39m \u001b[0m \u001b[1m \u001b[0m\u001b[1m0001292814-23-000221\u001b[0m\u001b[1m \u001b[0m \n",
       "  15  \u001b[38;5;71m \u001b[0m\u001b[38;5;71m6-K/A\u001b[0m\u001b[38;5;71m \u001b[0m  Evaxion Biotech A/S                                   1828253  \u001b[38;5;39m \u001b[0m\u001b[38;5;39m2023-01-20 \u001b[0m\u001b[38;5;39m \u001b[0m  0001104659-23-005438  \n",
       " \u001b[1m \u001b[0m\u001b[1m16\u001b[0m\u001b[1m \u001b[0m \u001b[1;38;5;71m \u001b[0m\u001b[1;38;5;71m6-K/A\u001b[0m\u001b[1;38;5;71m \u001b[0m \u001b[1m \u001b[0m\u001b[1mPOSCO HOLDINGS INC.                                \u001b[0m\u001b[1m \u001b[0m \u001b[1m \u001b[0m\u001b[1m889132 \u001b[0m\u001b[1m \u001b[0m \u001b[1;38;5;39m \u001b[0m\u001b[1;38;5;39m2023-01-20 \u001b[0m\u001b[1;38;5;39m \u001b[0m \u001b[1m \u001b[0m\u001b[1m0001193125-23-011448\u001b[0m\u001b[1m \u001b[0m \n",
       "  17  \u001b[38;5;71m \u001b[0m\u001b[38;5;71m6-K/A\u001b[0m\u001b[38;5;71m \u001b[0m  Grupo Supervielle S.A.                                1517399  \u001b[38;5;39m \u001b[0m\u001b[38;5;39m2023-01-19 \u001b[0m\u001b[38;5;39m \u001b[0m  0001517399-23-000018  \n",
       " \u001b[1m \u001b[0m\u001b[1m18\u001b[0m\u001b[1m \u001b[0m \u001b[1;38;5;71m \u001b[0m\u001b[1;38;5;71m6-K/A\u001b[0m\u001b[1;38;5;71m \u001b[0m \u001b[1m \u001b[0m\u001b[1mNeuroSense Therapeutics Ltd.                       \u001b[0m\u001b[1m \u001b[0m \u001b[1m \u001b[0m\u001b[1m1875091\u001b[0m\u001b[1m \u001b[0m \u001b[1;38;5;39m \u001b[0m\u001b[1;38;5;39m2023-01-19 \u001b[0m\u001b[1;38;5;39m \u001b[0m \u001b[1m \u001b[0m\u001b[1m0001213900-23-003794\u001b[0m\u001b[1m \u001b[0m \n",
       "  19  \u001b[38;5;71m \u001b[0m\u001b[38;5;71m6-K/A\u001b[0m\u001b[38;5;71m \u001b[0m  BRAZILIAN DISTRIBUTION CO COMPANHIA BRASILEIRA DE     1038572  \u001b[38;5;39m \u001b[0m\u001b[38;5;39m2023-01-17 \u001b[0m\u001b[38;5;39m \u001b[0m  0001292814-23-000136  \n",
       "      \u001b[38;5;71m       \u001b[0m  DISTR CBD                                                      \u001b[38;5;39m             \u001b[0m                        \n",
       " \u001b[1m \u001b[0m\u001b[1m20\u001b[0m\u001b[1m \u001b[0m \u001b[1;38;5;71m \u001b[0m\u001b[1;38;5;71m6-K/A\u001b[0m\u001b[1;38;5;71m \u001b[0m \u001b[1m \u001b[0m\u001b[1mBrooge Energy Ltd                                  \u001b[0m\u001b[1m \u001b[0m \u001b[1m \u001b[0m\u001b[1m1774983\u001b[0m\u001b[1m \u001b[0m \u001b[1;38;5;39m \u001b[0m\u001b[1;38;5;39m2023-01-11 \u001b[0m\u001b[1;38;5;39m \u001b[0m \u001b[1m \u001b[0m\u001b[1m0001213900-23-002303\u001b[0m\u001b[1m \u001b[0m \n",
       "  21  \u001b[38;5;71m \u001b[0m\u001b[38;5;71m6-K/A\u001b[0m\u001b[38;5;71m \u001b[0m  ALGONQUIN POWER & UTILITIES CORP.                     1174169  \u001b[38;5;39m \u001b[0m\u001b[38;5;39m2023-01-03 \u001b[0m\u001b[38;5;39m \u001b[0m  0001174169-23-000002  \n",
       "                                                                                                                   \n",
       "Showing 22 of 22 filings"
      ]
     },
     "execution_count": 10,
     "metadata": {},
     "output_type": "execute_result"
    }
   ],
   "source": [
    "filings_6k.filter(form=\"6-K/A\")"
   ]
  },
  {
   "cell_type": "markdown",
   "id": "0c19bd83",
   "metadata": {},
   "source": [
    "To omit amendments set `amendments=False`"
   ]
  },
  {
   "cell_type": "code",
   "execution_count": 11,
   "id": "4592916b",
   "metadata": {},
   "outputs": [
    {
     "data": {
      "text/html": [
       "<pre style=\"white-space:pre;overflow-x:auto;line-height:normal;font-family:Menlo,'DejaVu Sans Mono',consolas,'Courier New',monospace\"></pre>\n"
      ],
      "text/plain": []
     },
     "metadata": {},
     "output_type": "display_data"
    },
    {
     "data": {
      "text/plain": [
       "\u001b[1m                          Filings                           \u001b[0m\n",
       "                                                            \n",
       " \u001b[1m  \u001b[0m \u001b[1;38;5;71m \u001b[0m\u001b[1;38;5;71mform\u001b[0m\u001b[1;38;5;71m \u001b[0m \u001b[1m \u001b[0m\u001b[1mcompany\u001b[0m\u001b[1m \u001b[0m \u001b[1m \u001b[0m\u001b[1mcik\u001b[0m\u001b[1m \u001b[0m \u001b[1;38;5;39m \u001b[0m\u001b[1;38;5;39mfiling_date\u001b[0m\u001b[1;38;5;39m \u001b[0m \u001b[1m \u001b[0m\u001b[1maccession_number\u001b[0m\u001b[1m \u001b[0m \n",
       " ────────────────────────────────────────────────────────── \n",
       "                                                            \n",
       "Showing 0 of 0 filings"
      ]
     },
     "execution_count": 11,
     "metadata": {},
     "output_type": "execute_result"
    }
   ],
   "source": [
    "filings_6k = get_filings(form=\"6-K\", amendments=False)\n",
    "filings_6k.filter(form=\"6-K/A\")"
   ]
  },
  {
   "cell_type": "markdown",
   "id": "ec2bd12b",
   "metadata": {},
   "source": [
    "### Getting filings for a list of forms"
   ]
  },
  {
   "cell_type": "markdown",
   "id": "1ecb475f",
   "metadata": {},
   "source": [
    "The `form` parameter also accepts a list of forms "
   ]
  },
  {
   "cell_type": "code",
   "execution_count": 12,
   "id": "c94354ca",
   "metadata": {},
   "outputs": [
    {
     "data": {
      "text/html": [
       "<pre style=\"white-space:pre;overflow-x:auto;line-height:normal;font-family:Menlo,'DejaVu Sans Mono',consolas,'Courier New',monospace\"></pre>\n"
      ],
      "text/plain": []
     },
     "metadata": {},
     "output_type": "display_data"
    },
    {
     "data": {
      "text/plain": [
       "\u001b[1m                                                Filings                                                 \u001b[0m\n",
       "                                                                                                        \n",
       " \u001b[1m \u001b[0m\u001b[1m  \u001b[0m\u001b[1m \u001b[0m \u001b[1;38;5;71m \u001b[0m\u001b[1;38;5;71mform \u001b[0m\u001b[1;38;5;71m \u001b[0m \u001b[1m \u001b[0m\u001b[1mcompany                                 \u001b[0m\u001b[1m \u001b[0m \u001b[1m \u001b[0m\u001b[1mcik    \u001b[0m\u001b[1m \u001b[0m \u001b[1;38;5;39m \u001b[0m\u001b[1;38;5;39mfiling_date\u001b[0m\u001b[1;38;5;39m \u001b[0m \u001b[1m \u001b[0m\u001b[1maccession_number    \u001b[0m\u001b[1m \u001b[0m \n",
       " ────────────────────────────────────────────────────────────────────────────────────────────────────── \n",
       " \u001b[1m \u001b[0m\u001b[1m0 \u001b[0m\u001b[1m \u001b[0m \u001b[1;38;5;71m \u001b[0m\u001b[1;38;5;71m424B4\u001b[0m\u001b[1;38;5;71m \u001b[0m \u001b[1m \u001b[0m\u001b[1mMars Acquisition Corp.                  \u001b[0m\u001b[1m \u001b[0m \u001b[1m \u001b[0m\u001b[1m1892922\u001b[0m\u001b[1m \u001b[0m \u001b[1;38;5;39m \u001b[0m\u001b[1;38;5;39m2023-02-14 \u001b[0m\u001b[1;38;5;39m \u001b[0m \u001b[1m \u001b[0m\u001b[1m0001104659-23-021986\u001b[0m\u001b[1m \u001b[0m \n",
       "  1   \u001b[38;5;71m \u001b[0m\u001b[38;5;71mS-3  \u001b[0m\u001b[38;5;71m \u001b[0m  Navitas Semiconductor Corp                 1821769  \u001b[38;5;39m \u001b[0m\u001b[38;5;39m2023-02-14 \u001b[0m\u001b[38;5;39m \u001b[0m  0001628280-23-003446  \n",
       " \u001b[1m \u001b[0m\u001b[1m2 \u001b[0m\u001b[1m \u001b[0m \u001b[1;38;5;71m \u001b[0m\u001b[1;38;5;71mS-3/A\u001b[0m\u001b[1;38;5;71m \u001b[0m \u001b[1m \u001b[0m\u001b[1mTERAWULF INC.                           \u001b[0m\u001b[1m \u001b[0m \u001b[1m \u001b[0m\u001b[1m1083301\u001b[0m\u001b[1m \u001b[0m \u001b[1;38;5;39m \u001b[0m\u001b[1;38;5;39m2023-02-14 \u001b[0m\u001b[1;38;5;39m \u001b[0m \u001b[1m \u001b[0m\u001b[1m0001083301-23-000016\u001b[0m\u001b[1m \u001b[0m \n",
       "  3   \u001b[38;5;71m \u001b[0m\u001b[38;5;71m424B4\u001b[0m\u001b[38;5;71m \u001b[0m  Bellevue Life Sciences Acquisition Corp.   1840425  \u001b[38;5;39m \u001b[0m\u001b[38;5;39m2023-02-13 \u001b[0m\u001b[38;5;39m \u001b[0m  0001193125-23-035877  \n",
       " \u001b[1m \u001b[0m\u001b[1m4 \u001b[0m\u001b[1m \u001b[0m \u001b[1;38;5;71m \u001b[0m\u001b[1;38;5;71m424B4\u001b[0m\u001b[1;38;5;71m \u001b[0m \u001b[1m \u001b[0m\u001b[1mEnlight Renewable Energy Ltd.           \u001b[0m\u001b[1m \u001b[0m \u001b[1m \u001b[0m\u001b[1m1922641\u001b[0m\u001b[1m \u001b[0m \u001b[1;38;5;39m \u001b[0m\u001b[1;38;5;39m2023-02-13 \u001b[0m\u001b[1;38;5;39m \u001b[0m \u001b[1m \u001b[0m\u001b[1m0001104659-23-018716\u001b[0m\u001b[1m \u001b[0m \n",
       "  5   \u001b[38;5;71m \u001b[0m\u001b[38;5;71m424B4\u001b[0m\u001b[38;5;71m \u001b[0m  Hempacco Co., Inc.                         1892480  \u001b[38;5;39m \u001b[0m\u001b[38;5;39m2023-02-13 \u001b[0m\u001b[38;5;39m \u001b[0m  0001477932-23-000932  \n",
       " \u001b[1m \u001b[0m\u001b[1m6 \u001b[0m\u001b[1m \u001b[0m \u001b[1;38;5;71m \u001b[0m\u001b[1;38;5;71mS-3  \u001b[0m\u001b[1;38;5;71m \u001b[0m \u001b[1m \u001b[0m\u001b[1mArmata Pharmaceuticals, Inc.            \u001b[0m\u001b[1m \u001b[0m \u001b[1m \u001b[0m\u001b[1m921114 \u001b[0m\u001b[1m \u001b[0m \u001b[1;38;5;39m \u001b[0m\u001b[1;38;5;39m2023-02-13 \u001b[0m\u001b[1;38;5;39m \u001b[0m \u001b[1m \u001b[0m\u001b[1m0001104659-23-019627\u001b[0m\u001b[1m \u001b[0m \n",
       "  7   \u001b[38;5;71m \u001b[0m\u001b[38;5;71mS-3  \u001b[0m\u001b[38;5;71m \u001b[0m  ENGLOBAL CORP                              933738   \u001b[38;5;39m \u001b[0m\u001b[38;5;39m2023-02-13 \u001b[0m\u001b[38;5;39m \u001b[0m  0001654954-23-001586  \n",
       " \u001b[1m \u001b[0m\u001b[1m8 \u001b[0m\u001b[1m \u001b[0m \u001b[1;38;5;71m \u001b[0m\u001b[1;38;5;71mS-3/A\u001b[0m\u001b[1;38;5;71m \u001b[0m \u001b[1m \u001b[0m\u001b[1mBioRestorative Therapies, Inc.          \u001b[0m\u001b[1m \u001b[0m \u001b[1m \u001b[0m\u001b[1m1505497\u001b[0m\u001b[1m \u001b[0m \u001b[1;38;5;39m \u001b[0m\u001b[1;38;5;39m2023-02-13 \u001b[0m\u001b[1;38;5;39m \u001b[0m \u001b[1m \u001b[0m\u001b[1m0001021771-23-000012\u001b[0m\u001b[1m \u001b[0m \n",
       "  9   \u001b[38;5;71m \u001b[0m\u001b[38;5;71m424B4\u001b[0m\u001b[38;5;71m \u001b[0m  Lucy Scientific Discovery, Inc.            1865127  \u001b[38;5;39m \u001b[0m\u001b[38;5;39m2023-02-10 \u001b[0m\u001b[38;5;39m \u001b[0m  0001213900-23-010300  \n",
       " \u001b[1m \u001b[0m\u001b[1m10\u001b[0m\u001b[1m \u001b[0m \u001b[1;38;5;71m \u001b[0m\u001b[1;38;5;71m424B4\u001b[0m\u001b[1;38;5;71m \u001b[0m \u001b[1m \u001b[0m\u001b[1mMineralys Therapeutics, Inc.            \u001b[0m\u001b[1m \u001b[0m \u001b[1m \u001b[0m\u001b[1m1933414\u001b[0m\u001b[1m \u001b[0m \u001b[1;38;5;39m \u001b[0m\u001b[1;38;5;39m2023-02-10 \u001b[0m\u001b[1;38;5;39m \u001b[0m \u001b[1m \u001b[0m\u001b[1m0001628280-23-003159\u001b[0m\u001b[1m \u001b[0m \n",
       "  11  \u001b[38;5;71m \u001b[0m\u001b[38;5;71m424B4\u001b[0m\u001b[38;5;71m \u001b[0m  Nextracker Inc.                            1852131  \u001b[38;5;39m \u001b[0m\u001b[38;5;39m2023-02-10 \u001b[0m\u001b[38;5;39m \u001b[0m  0001193125-23-032878  \n",
       " \u001b[1m \u001b[0m\u001b[1m12\u001b[0m\u001b[1m \u001b[0m \u001b[1;38;5;71m \u001b[0m\u001b[1;38;5;71m424B4\u001b[0m\u001b[1;38;5;71m \u001b[0m \u001b[1m \u001b[0m\u001b[1mOceanPal Inc.                           \u001b[0m\u001b[1m \u001b[0m \u001b[1m \u001b[0m\u001b[1m1869467\u001b[0m\u001b[1m \u001b[0m \u001b[1;38;5;39m \u001b[0m\u001b[1;38;5;39m2023-02-10 \u001b[0m\u001b[1;38;5;39m \u001b[0m \u001b[1m \u001b[0m\u001b[1m0001104659-23-017893\u001b[0m\u001b[1m \u001b[0m \n",
       "  13  \u001b[38;5;71m \u001b[0m\u001b[38;5;71m424B4\u001b[0m\u001b[38;5;71m \u001b[0m  Pono Capital Three, Inc.                   1930021  \u001b[38;5;39m \u001b[0m\u001b[38;5;39m2023-02-10 \u001b[0m\u001b[38;5;39m \u001b[0m  0001493152-23-004291  \n",
       " \u001b[1m \u001b[0m\u001b[1m14\u001b[0m\u001b[1m \u001b[0m \u001b[1;38;5;71m \u001b[0m\u001b[1;38;5;71m424B4\u001b[0m\u001b[1;38;5;71m \u001b[0m \u001b[1m \u001b[0m\u001b[1mTivic Health Systems, Inc.              \u001b[0m\u001b[1m \u001b[0m \u001b[1m \u001b[0m\u001b[1m1787740\u001b[0m\u001b[1m \u001b[0m \u001b[1;38;5;39m \u001b[0m\u001b[1;38;5;39m2023-02-10 \u001b[0m\u001b[1;38;5;39m \u001b[0m \u001b[1m \u001b[0m\u001b[1m0001193125-23-032652\u001b[0m\u001b[1m \u001b[0m \n",
       "  15  \u001b[38;5;71m \u001b[0m\u001b[38;5;71mS-3  \u001b[0m\u001b[38;5;71m \u001b[0m  Canoo Inc.                                 1750153  \u001b[38;5;39m \u001b[0m\u001b[38;5;39m2023-02-10 \u001b[0m\u001b[38;5;39m \u001b[0m  0001104659-23-018541  \n",
       " \u001b[1m \u001b[0m\u001b[1m16\u001b[0m\u001b[1m \u001b[0m \u001b[1;38;5;71m \u001b[0m\u001b[1;38;5;71mS-3  \u001b[0m\u001b[1;38;5;71m \u001b[0m \u001b[1m \u001b[0m\u001b[1mFortress Biotech, Inc.                  \u001b[0m\u001b[1m \u001b[0m \u001b[1m \u001b[0m\u001b[1m1429260\u001b[0m\u001b[1m \u001b[0m \u001b[1;38;5;39m \u001b[0m\u001b[1;38;5;39m2023-02-10 \u001b[0m\u001b[1;38;5;39m \u001b[0m \u001b[1m \u001b[0m\u001b[1m0001104659-23-018490\u001b[0m\u001b[1m \u001b[0m \n",
       "  17  \u001b[38;5;71m \u001b[0m\u001b[38;5;71mS-3  \u001b[0m\u001b[38;5;71m \u001b[0m  SAN DIEGO GAS & ELECTRIC CO                86521    \u001b[38;5;39m \u001b[0m\u001b[38;5;39m2023-02-10 \u001b[0m\u001b[38;5;39m \u001b[0m  0001193125-23-031095  \n",
       " \u001b[1m \u001b[0m\u001b[1m18\u001b[0m\u001b[1m \u001b[0m \u001b[1;38;5;71m \u001b[0m\u001b[1;38;5;71mS-3  \u001b[0m\u001b[1;38;5;71m \u001b[0m \u001b[1m \u001b[0m\u001b[1mSIGMA ADDITIVE SOLUTIONS, INC.          \u001b[0m\u001b[1m \u001b[0m \u001b[1m \u001b[0m\u001b[1m788611 \u001b[0m\u001b[1m \u001b[0m \u001b[1;38;5;39m \u001b[0m\u001b[1;38;5;39m2023-02-10 \u001b[0m\u001b[1;38;5;39m \u001b[0m \u001b[1m \u001b[0m\u001b[1m0001493152-23-004266\u001b[0m\u001b[1m \u001b[0m \n",
       "  19  \u001b[38;5;71m \u001b[0m\u001b[38;5;71mS-3/A\u001b[0m\u001b[38;5;71m \u001b[0m  89bio, Inc.                                1785173  \u001b[38;5;39m \u001b[0m\u001b[38;5;39m2023-02-10 \u001b[0m\u001b[38;5;39m \u001b[0m  0001193125-23-032518  \n",
       " \u001b[1m \u001b[0m\u001b[1m20\u001b[0m\u001b[1m \u001b[0m \u001b[1;38;5;71m \u001b[0m\u001b[1;38;5;71mS-3/A\u001b[0m\u001b[1;38;5;71m \u001b[0m \u001b[1m \u001b[0m\u001b[1mATIF Holdings Ltd                       \u001b[0m\u001b[1m \u001b[0m \u001b[1m \u001b[0m\u001b[1m1755058\u001b[0m\u001b[1m \u001b[0m \u001b[1;38;5;39m \u001b[0m\u001b[1;38;5;39m2023-02-10 \u001b[0m\u001b[1;38;5;39m \u001b[0m \u001b[1m \u001b[0m\u001b[1m0001213900-23-010314\u001b[0m\u001b[1m \u001b[0m \n",
       "  21  \u001b[38;5;71m \u001b[0m\u001b[38;5;71mS-3/A\u001b[0m\u001b[38;5;71m \u001b[0m  EVOLUTION PETROLEUM CORP                   1006655  \u001b[38;5;39m \u001b[0m\u001b[38;5;39m2023-02-10 \u001b[0m\u001b[38;5;39m \u001b[0m  0001104659-23-017742  \n",
       " \u001b[1m \u001b[0m\u001b[1m22\u001b[0m\u001b[1m \u001b[0m \u001b[1;38;5;71m \u001b[0m\u001b[1;38;5;71m424B4\u001b[0m\u001b[1;38;5;71m \u001b[0m \u001b[1m \u001b[0m\u001b[1mHesai Group                             \u001b[0m\u001b[1m \u001b[0m \u001b[1m \u001b[0m\u001b[1m1861737\u001b[0m\u001b[1m \u001b[0m \u001b[1;38;5;39m \u001b[0m\u001b[1;38;5;39m2023-02-09 \u001b[0m\u001b[1;38;5;39m \u001b[0m \u001b[1m \u001b[0m\u001b[1m0001104659-23-017567\u001b[0m\u001b[1m \u001b[0m \n",
       "  23  \u001b[38;5;71m \u001b[0m\u001b[38;5;71m424B4\u001b[0m\u001b[38;5;71m \u001b[0m  Sintx Technologies, Inc.                   1269026  \u001b[38;5;39m \u001b[0m\u001b[38;5;39m2023-02-09 \u001b[0m\u001b[38;5;39m \u001b[0m  0001493152-23-004093  \n",
       " \u001b[1m \u001b[0m\u001b[1m24\u001b[0m\u001b[1m \u001b[0m \u001b[1;38;5;71m \u001b[0m\u001b[1;38;5;71m424B4\u001b[0m\u001b[1;38;5;71m \u001b[0m \u001b[1m \u001b[0m\u001b[1mSonnet BioTherapeutics Holdings, Inc.   \u001b[0m\u001b[1m \u001b[0m \u001b[1m \u001b[0m\u001b[1m1106838\u001b[0m\u001b[1m \u001b[0m \u001b[1;38;5;39m \u001b[0m\u001b[1;38;5;39m2023-02-09 \u001b[0m\u001b[1;38;5;39m \u001b[0m \u001b[1m \u001b[0m\u001b[1m0001493152-23-004066\u001b[0m\u001b[1m \u001b[0m \n",
       "  25  \u001b[38;5;71m \u001b[0m\u001b[38;5;71m424B4\u001b[0m\u001b[38;5;71m \u001b[0m  Staffing 360 Solutions, Inc.               1499717  \u001b[38;5;39m \u001b[0m\u001b[38;5;39m2023-02-09 \u001b[0m\u001b[38;5;39m \u001b[0m  0001493152-23-004062  \n",
       " \u001b[1m \u001b[0m\u001b[1m26\u001b[0m\u001b[1m \u001b[0m \u001b[1;38;5;71m \u001b[0m\u001b[1;38;5;71m424B4\u001b[0m\u001b[1;38;5;71m \u001b[0m \u001b[1m \u001b[0m\u001b[1mXponential Fitness, Inc.                \u001b[0m\u001b[1m \u001b[0m \u001b[1m \u001b[0m\u001b[1m1802156\u001b[0m\u001b[1m \u001b[0m \u001b[1;38;5;39m \u001b[0m\u001b[1;38;5;39m2023-02-09 \u001b[0m\u001b[1;38;5;39m \u001b[0m \u001b[1m \u001b[0m\u001b[1m0001193125-23-028877\u001b[0m\u001b[1m \u001b[0m \n",
       "  27  \u001b[38;5;71m \u001b[0m\u001b[38;5;71mS-3  \u001b[0m\u001b[38;5;71m \u001b[0m  CONTRAFECT Corp                            1478069  \u001b[38;5;39m \u001b[0m\u001b[38;5;39m2023-02-09 \u001b[0m\u001b[38;5;39m \u001b[0m  0001193125-23-030386  \n",
       " \u001b[1m \u001b[0m\u001b[1m28\u001b[0m\u001b[1m \u001b[0m \u001b[1;38;5;71m \u001b[0m\u001b[1;38;5;71mS-3  \u001b[0m\u001b[1;38;5;71m \u001b[0m \u001b[1m \u001b[0m\u001b[1mSphere 3D Corp.                         \u001b[0m\u001b[1m \u001b[0m \u001b[1m \u001b[0m\u001b[1m1591956\u001b[0m\u001b[1m \u001b[0m \u001b[1;38;5;39m \u001b[0m\u001b[1;38;5;39m2023-02-09 \u001b[0m\u001b[1;38;5;39m \u001b[0m \u001b[1m \u001b[0m\u001b[1m0001213900-23-009761\u001b[0m\u001b[1m \u001b[0m \n",
       "  29  \u001b[38;5;71m \u001b[0m\u001b[38;5;71mS-3  \u001b[0m\u001b[38;5;71m \u001b[0m  Vanda Pharmaceuticals Inc.                 1347178  \u001b[38;5;39m \u001b[0m\u001b[38;5;39m2023-02-09 \u001b[0m\u001b[38;5;39m \u001b[0m  0001193125-23-029269  \n",
       " \u001b[1m \u001b[0m\u001b[1m30\u001b[0m\u001b[1m \u001b[0m \u001b[1;38;5;71m \u001b[0m\u001b[1;38;5;71mS-3/A\u001b[0m\u001b[1;38;5;71m \u001b[0m \u001b[1m \u001b[0m\u001b[1mGOLDMAN SACHS CAPITAL I                 \u001b[0m\u001b[1m \u001b[0m \u001b[1m \u001b[0m\u001b[1m1277121\u001b[0m\u001b[1m \u001b[0m \u001b[1;38;5;39m \u001b[0m\u001b[1;38;5;39m2023-02-09 \u001b[0m\u001b[1;38;5;39m \u001b[0m \u001b[1m \u001b[0m\u001b[1m0001193125-23-030037\u001b[0m\u001b[1m \u001b[0m \n",
       "  31  \u001b[38;5;71m \u001b[0m\u001b[38;5;71mS-3/A\u001b[0m\u001b[38;5;71m \u001b[0m  GOLDMAN SACHS CAPITAL II                   1277127  \u001b[38;5;39m \u001b[0m\u001b[38;5;39m2023-02-09 \u001b[0m\u001b[38;5;39m \u001b[0m  0001193125-23-030037  \n",
       " \u001b[1m \u001b[0m\u001b[1m32\u001b[0m\u001b[1m \u001b[0m \u001b[1;38;5;71m \u001b[0m\u001b[1;38;5;71mS-3/A\u001b[0m\u001b[1;38;5;71m \u001b[0m \u001b[1m \u001b[0m\u001b[1mGOLDMAN SACHS GROUP INC                 \u001b[0m\u001b[1m \u001b[0m \u001b[1m \u001b[0m\u001b[1m886982 \u001b[0m\u001b[1m \u001b[0m \u001b[1;38;5;39m \u001b[0m\u001b[1;38;5;39m2023-02-09 \u001b[0m\u001b[1;38;5;39m \u001b[0m \u001b[1m \u001b[0m\u001b[1m0001193125-23-030037\u001b[0m\u001b[1m \u001b[0m \n",
       "  33  \u001b[38;5;71m \u001b[0m\u001b[38;5;71mS-3/A\u001b[0m\u001b[38;5;71m \u001b[0m  GS Finance Corp.                           1419828  \u001b[38;5;39m \u001b[0m\u001b[38;5;39m2023-02-09 \u001b[0m\u001b[38;5;39m \u001b[0m  0001193125-23-030037  \n",
       " \u001b[1m \u001b[0m\u001b[1m34\u001b[0m\u001b[1m \u001b[0m \u001b[1;38;5;71m \u001b[0m\u001b[1;38;5;71mS-3/A\u001b[0m\u001b[1;38;5;71m \u001b[0m \u001b[1m \u001b[0m\u001b[1mGoldman Sachs Capital III               \u001b[0m\u001b[1m \u001b[0m \u001b[1m \u001b[0m\u001b[1m1318844\u001b[0m\u001b[1m \u001b[0m \u001b[1;38;5;39m \u001b[0m\u001b[1;38;5;39m2023-02-09 \u001b[0m\u001b[1;38;5;39m \u001b[0m \u001b[1m \u001b[0m\u001b[1m0001193125-23-030037\u001b[0m\u001b[1m \u001b[0m \n",
       "  35  \u001b[38;5;71m \u001b[0m\u001b[38;5;71mS-3/A\u001b[0m\u001b[38;5;71m \u001b[0m  Goldman Sachs Capital VI                   1318841  \u001b[38;5;39m \u001b[0m\u001b[38;5;39m2023-02-09 \u001b[0m\u001b[38;5;39m \u001b[0m  0001193125-23-030037  \n",
       " \u001b[1m \u001b[0m\u001b[1m36\u001b[0m\u001b[1m \u001b[0m \u001b[1;38;5;71m \u001b[0m\u001b[1;38;5;71mS-3/A\u001b[0m\u001b[1;38;5;71m \u001b[0m \u001b[1m \u001b[0m\u001b[1mGoldman Sachs Capital VII               \u001b[0m\u001b[1m \u001b[0m \u001b[1m \u001b[0m\u001b[1m1711023\u001b[0m\u001b[1m \u001b[0m \u001b[1;38;5;39m \u001b[0m\u001b[1;38;5;39m2023-02-09 \u001b[0m\u001b[1;38;5;39m \u001b[0m \u001b[1m \u001b[0m\u001b[1m0001193125-23-030037\u001b[0m\u001b[1m \u001b[0m \n",
       "  37  \u001b[38;5;71m \u001b[0m\u001b[38;5;71mS-3/A\u001b[0m\u001b[38;5;71m \u001b[0m  Stronghold Digital Mining, Inc.            1856028  \u001b[38;5;39m \u001b[0m\u001b[38;5;39m2023-02-09 \u001b[0m\u001b[38;5;39m \u001b[0m  0001140361-23-005567  \n",
       " \u001b[1m \u001b[0m\u001b[1m38\u001b[0m\u001b[1m \u001b[0m \u001b[1;38;5;71m \u001b[0m\u001b[1;38;5;71m424B4\u001b[0m\u001b[1;38;5;71m \u001b[0m \u001b[1m \u001b[0m\u001b[1mInnovative Payment Solutions, Inc.      \u001b[0m\u001b[1m \u001b[0m \u001b[1m \u001b[0m\u001b[1m1591913\u001b[0m\u001b[1m \u001b[0m \u001b[1;38;5;39m \u001b[0m\u001b[1;38;5;39m2023-02-08 \u001b[0m\u001b[1;38;5;39m \u001b[0m \u001b[1m \u001b[0m\u001b[1m0001213900-23-009293\u001b[0m\u001b[1m \u001b[0m \n",
       "  39  \u001b[38;5;71m \u001b[0m\u001b[38;5;71m424B4\u001b[0m\u001b[38;5;71m \u001b[0m  ReShape Lifesciences Inc.                  1427570  \u001b[38;5;39m \u001b[0m\u001b[38;5;39m2023-02-08 \u001b[0m\u001b[38;5;39m \u001b[0m  0001104659-23-012196  \n",
       " \u001b[1m \u001b[0m\u001b[1m40\u001b[0m\u001b[1m \u001b[0m \u001b[1;38;5;71m \u001b[0m\u001b[1;38;5;71mS-3  \u001b[0m\u001b[1;38;5;71m \u001b[0m \u001b[1m \u001b[0m\u001b[1mVolcon, Inc.                            \u001b[0m\u001b[1m \u001b[0m \u001b[1m \u001b[0m\u001b[1m1829794\u001b[0m\u001b[1m \u001b[0m \u001b[1;38;5;39m \u001b[0m\u001b[1;38;5;39m2023-02-08 \u001b[0m\u001b[1;38;5;39m \u001b[0m \u001b[1m \u001b[0m\u001b[1m0001683168-23-000651\u001b[0m\u001b[1m \u001b[0m \n",
       "  41  \u001b[38;5;71m \u001b[0m\u001b[38;5;71m424B4\u001b[0m\u001b[38;5;71m \u001b[0m  Lichen China Ltd                           1876766  \u001b[38;5;39m \u001b[0m\u001b[38;5;39m2023-02-07 \u001b[0m\u001b[38;5;39m \u001b[0m  0001213900-23-008874  \n",
       " \u001b[1m \u001b[0m\u001b[1m42\u001b[0m\u001b[1m \u001b[0m \u001b[1;38;5;71m \u001b[0m\u001b[1;38;5;71m424B4\u001b[0m\u001b[1;38;5;71m \u001b[0m \u001b[1m \u001b[0m\u001b[1mSummit Therapeutics Inc.                \u001b[0m\u001b[1m \u001b[0m \u001b[1m \u001b[0m\u001b[1m1599298\u001b[0m\u001b[1m \u001b[0m \u001b[1;38;5;39m \u001b[0m\u001b[1;38;5;39m2023-02-07 \u001b[0m\u001b[1;38;5;39m \u001b[0m \u001b[1m \u001b[0m\u001b[1m0001387131-23-001487\u001b[0m\u001b[1m \u001b[0m \n",
       "  43  \u001b[38;5;71m \u001b[0m\u001b[38;5;71mS-3  \u001b[0m\u001b[38;5;71m \u001b[0m  BioRestorative Therapies, Inc.             1505497  \u001b[38;5;39m \u001b[0m\u001b[38;5;39m2023-02-07 \u001b[0m\u001b[38;5;39m \u001b[0m  0001021771-23-000010  \n",
       " \u001b[1m \u001b[0m\u001b[1m44\u001b[0m\u001b[1m \u001b[0m \u001b[1;38;5;71m \u001b[0m\u001b[1;38;5;71mS-3  \u001b[0m\u001b[1;38;5;71m \u001b[0m \u001b[1m \u001b[0m\u001b[1mImmunityBio, Inc.                       \u001b[0m\u001b[1m \u001b[0m \u001b[1m \u001b[0m\u001b[1m1326110\u001b[0m\u001b[1m \u001b[0m \u001b[1;38;5;39m \u001b[0m\u001b[1;38;5;39m2023-02-07 \u001b[0m\u001b[1;38;5;39m \u001b[0m \u001b[1m \u001b[0m\u001b[1m0001193125-23-025832\u001b[0m\u001b[1m \u001b[0m \n",
       "  45  \u001b[38;5;71m \u001b[0m\u001b[38;5;71mS-3/A\u001b[0m\u001b[38;5;71m \u001b[0m  Vivakor, Inc.                              1450704  \u001b[38;5;39m \u001b[0m\u001b[38;5;39m2023-02-07 \u001b[0m\u001b[38;5;39m \u001b[0m  0001683168-23-000601  \n",
       " \u001b[1m \u001b[0m\u001b[1m46\u001b[0m\u001b[1m \u001b[0m \u001b[1;38;5;71m \u001b[0m\u001b[1;38;5;71m424B4\u001b[0m\u001b[1;38;5;71m \u001b[0m \u001b[1m \u001b[0m\u001b[1mAsset Entities Inc.                     \u001b[0m\u001b[1m \u001b[0m \u001b[1m \u001b[0m\u001b[1m1920406\u001b[0m\u001b[1m \u001b[0m \u001b[1;38;5;39m \u001b[0m\u001b[1;38;5;39m2023-02-06 \u001b[0m\u001b[1;38;5;39m \u001b[0m \u001b[1m \u001b[0m\u001b[1m0001213900-23-008250\u001b[0m\u001b[1m \u001b[0m \n",
       "  47  \u001b[38;5;71m \u001b[0m\u001b[38;5;71m424B4\u001b[0m\u001b[38;5;71m \u001b[0m  CureVac N.V.                               1809122  \u001b[38;5;39m \u001b[0m\u001b[38;5;39m2023-02-06 \u001b[0m\u001b[38;5;39m \u001b[0m  0001104659-23-011269  \n",
       " \u001b[1m \u001b[0m\u001b[1m48\u001b[0m\u001b[1m \u001b[0m \u001b[1;38;5;71m \u001b[0m\u001b[1;38;5;71m424B4\u001b[0m\u001b[1;38;5;71m \u001b[0m \u001b[1m \u001b[0m\u001b[1mStructure Therapeutics Inc.             \u001b[0m\u001b[1m \u001b[0m \u001b[1m \u001b[0m\u001b[1m1888886\u001b[0m\u001b[1m \u001b[0m \u001b[1;38;5;39m \u001b[0m\u001b[1;38;5;39m2023-02-06 \u001b[0m\u001b[1;38;5;39m \u001b[0m \u001b[1m \u001b[0m\u001b[1m0001104659-23-010729\u001b[0m\u001b[1m \u001b[0m \n",
       "  49  \u001b[38;5;71m \u001b[0m\u001b[38;5;71m424B4\u001b[0m\u001b[38;5;71m \u001b[0m  T Stamp Inc                                1718939  \u001b[38;5;39m \u001b[0m\u001b[38;5;39m2023-02-06 \u001b[0m\u001b[38;5;39m \u001b[0m  0001410578-23-000068  \n",
       "                                                                                                        \n",
       "Showing 50 of 177 filings"
      ]
     },
     "execution_count": 12,
     "metadata": {},
     "output_type": "execute_result"
    }
   ],
   "source": [
    "filings = get_filings(form=[\"S-3\", \"424B4\"])\n",
    "filings"
   ]
  },
  {
   "cell_type": "markdown",
   "id": "7714bf89",
   "metadata": {},
   "source": [
    "## Get the filings as a pandas dataframe\n",
    "You can get the filings data as a pandas dataframe using `to_pandas()`"
   ]
  },
  {
   "cell_type": "code",
   "execution_count": 13,
   "id": "660bdc30",
   "metadata": {},
   "outputs": [
    {
     "data": {
      "text/html": [
       "<div>\n",
       "<style scoped>\n",
       "    .dataframe tbody tr th:only-of-type {\n",
       "        vertical-align: middle;\n",
       "    }\n",
       "\n",
       "    .dataframe tbody tr th {\n",
       "        vertical-align: top;\n",
       "    }\n",
       "\n",
       "    .dataframe thead th {\n",
       "        text-align: right;\n",
       "    }\n",
       "</style>\n",
       "<table border=\"1\" class=\"dataframe\">\n",
       "  <thead>\n",
       "    <tr style=\"text-align: right;\">\n",
       "      <th></th>\n",
       "      <th>form</th>\n",
       "      <th>company</th>\n",
       "      <th>cik</th>\n",
       "      <th>filing_date</th>\n",
       "      <th>accession_number</th>\n",
       "    </tr>\n",
       "  </thead>\n",
       "  <tbody>\n",
       "    <tr>\n",
       "      <th>0</th>\n",
       "      <td>424B4</td>\n",
       "      <td>Mars Acquisition Corp.</td>\n",
       "      <td>1892922</td>\n",
       "      <td>2023-02-14</td>\n",
       "      <td>0001104659-23-021986</td>\n",
       "    </tr>\n",
       "    <tr>\n",
       "      <th>1</th>\n",
       "      <td>S-3</td>\n",
       "      <td>Navitas Semiconductor Corp</td>\n",
       "      <td>1821769</td>\n",
       "      <td>2023-02-14</td>\n",
       "      <td>0001628280-23-003446</td>\n",
       "    </tr>\n",
       "    <tr>\n",
       "      <th>2</th>\n",
       "      <td>S-3/A</td>\n",
       "      <td>TERAWULF INC.</td>\n",
       "      <td>1083301</td>\n",
       "      <td>2023-02-14</td>\n",
       "      <td>0001083301-23-000016</td>\n",
       "    </tr>\n",
       "    <tr>\n",
       "      <th>3</th>\n",
       "      <td>424B4</td>\n",
       "      <td>Bellevue Life Sciences Acquisition Corp.</td>\n",
       "      <td>1840425</td>\n",
       "      <td>2023-02-13</td>\n",
       "      <td>0001193125-23-035877</td>\n",
       "    </tr>\n",
       "    <tr>\n",
       "      <th>4</th>\n",
       "      <td>424B4</td>\n",
       "      <td>Enlight Renewable Energy Ltd.</td>\n",
       "      <td>1922641</td>\n",
       "      <td>2023-02-13</td>\n",
       "      <td>0001104659-23-018716</td>\n",
       "    </tr>\n",
       "    <tr>\n",
       "      <th>...</th>\n",
       "      <td>...</td>\n",
       "      <td>...</td>\n",
       "      <td>...</td>\n",
       "      <td>...</td>\n",
       "      <td>...</td>\n",
       "    </tr>\n",
       "    <tr>\n",
       "      <th>172</th>\n",
       "      <td>S-3</td>\n",
       "      <td>CVENT HOLDING CORP.</td>\n",
       "      <td>1827075</td>\n",
       "      <td>2023-01-03</td>\n",
       "      <td>0001193125-23-000802</td>\n",
       "    </tr>\n",
       "    <tr>\n",
       "      <th>173</th>\n",
       "      <td>S-3</td>\n",
       "      <td>Cingulate Inc.</td>\n",
       "      <td>1862150</td>\n",
       "      <td>2023-01-03</td>\n",
       "      <td>0001493152-23-000143</td>\n",
       "    </tr>\n",
       "    <tr>\n",
       "      <th>174</th>\n",
       "      <td>S-3</td>\n",
       "      <td>Immix Biopharma, Inc.</td>\n",
       "      <td>1873835</td>\n",
       "      <td>2023-01-03</td>\n",
       "      <td>0001493152-23-000127</td>\n",
       "    </tr>\n",
       "    <tr>\n",
       "      <th>175</th>\n",
       "      <td>S-3</td>\n",
       "      <td>Pear Therapeutics, Inc.</td>\n",
       "      <td>1835567</td>\n",
       "      <td>2023-01-03</td>\n",
       "      <td>0001628280-23-000004</td>\n",
       "    </tr>\n",
       "    <tr>\n",
       "      <th>176</th>\n",
       "      <td>S-3/A</td>\n",
       "      <td>ACHIEVE LIFE SCIENCES, INC.</td>\n",
       "      <td>949858</td>\n",
       "      <td>2023-01-03</td>\n",
       "      <td>0001193125-23-000179</td>\n",
       "    </tr>\n",
       "  </tbody>\n",
       "</table>\n",
       "<p>177 rows × 5 columns</p>\n",
       "</div>"
      ],
      "text/plain": [
       "      form                                   company      cik filing_date  \\\n",
       "0    424B4                    Mars Acquisition Corp.  1892922  2023-02-14   \n",
       "1      S-3                Navitas Semiconductor Corp  1821769  2023-02-14   \n",
       "2    S-3/A                             TERAWULF INC.  1083301  2023-02-14   \n",
       "3    424B4  Bellevue Life Sciences Acquisition Corp.  1840425  2023-02-13   \n",
       "4    424B4             Enlight Renewable Energy Ltd.  1922641  2023-02-13   \n",
       "..     ...                                       ...      ...         ...   \n",
       "172    S-3                       CVENT HOLDING CORP.  1827075  2023-01-03   \n",
       "173    S-3                            Cingulate Inc.  1862150  2023-01-03   \n",
       "174    S-3                     Immix Biopharma, Inc.  1873835  2023-01-03   \n",
       "175    S-3                   Pear Therapeutics, Inc.  1835567  2023-01-03   \n",
       "176  S-3/A               ACHIEVE LIFE SCIENCES, INC.   949858  2023-01-03   \n",
       "\n",
       "         accession_number  \n",
       "0    0001104659-23-021986  \n",
       "1    0001628280-23-003446  \n",
       "2    0001083301-23-000016  \n",
       "3    0001193125-23-035877  \n",
       "4    0001104659-23-018716  \n",
       "..                    ...  \n",
       "172  0001193125-23-000802  \n",
       "173  0001493152-23-000143  \n",
       "174  0001493152-23-000127  \n",
       "175  0001628280-23-000004  \n",
       "176  0001193125-23-000179  \n",
       "\n",
       "[177 rows x 5 columns]"
      ]
     },
     "execution_count": 13,
     "metadata": {},
     "output_type": "execute_result"
    }
   ],
   "source": [
    "filings.to_pandas()"
   ]
  },
  {
   "cell_type": "markdown",
   "id": "8e504f4d",
   "metadata": {},
   "source": [
    "### Select the columns included in to_pandas\n",
    "You can select the columns of the resulting pandas dataframe by passing it into `to_pandas`"
   ]
  },
  {
   "cell_type": "code",
   "execution_count": 14,
   "id": "8e9478a3",
   "metadata": {},
   "outputs": [
    {
     "data": {
      "text/html": [
       "<div>\n",
       "<style scoped>\n",
       "    .dataframe tbody tr th:only-of-type {\n",
       "        vertical-align: middle;\n",
       "    }\n",
       "\n",
       "    .dataframe tbody tr th {\n",
       "        vertical-align: top;\n",
       "    }\n",
       "\n",
       "    .dataframe thead th {\n",
       "        text-align: right;\n",
       "    }\n",
       "</style>\n",
       "<table border=\"1\" class=\"dataframe\">\n",
       "  <thead>\n",
       "    <tr style=\"text-align: right;\">\n",
       "      <th></th>\n",
       "      <th>form</th>\n",
       "      <th>company</th>\n",
       "    </tr>\n",
       "  </thead>\n",
       "  <tbody>\n",
       "    <tr>\n",
       "      <th>0</th>\n",
       "      <td>424B4</td>\n",
       "      <td>Mars Acquisition Corp.</td>\n",
       "    </tr>\n",
       "    <tr>\n",
       "      <th>1</th>\n",
       "      <td>S-3</td>\n",
       "      <td>Navitas Semiconductor Corp</td>\n",
       "    </tr>\n",
       "    <tr>\n",
       "      <th>2</th>\n",
       "      <td>S-3/A</td>\n",
       "      <td>TERAWULF INC.</td>\n",
       "    </tr>\n",
       "    <tr>\n",
       "      <th>3</th>\n",
       "      <td>424B4</td>\n",
       "      <td>Bellevue Life Sciences Acquisition Corp.</td>\n",
       "    </tr>\n",
       "    <tr>\n",
       "      <th>4</th>\n",
       "      <td>424B4</td>\n",
       "      <td>Enlight Renewable Energy Ltd.</td>\n",
       "    </tr>\n",
       "    <tr>\n",
       "      <th>...</th>\n",
       "      <td>...</td>\n",
       "      <td>...</td>\n",
       "    </tr>\n",
       "    <tr>\n",
       "      <th>172</th>\n",
       "      <td>S-3</td>\n",
       "      <td>CVENT HOLDING CORP.</td>\n",
       "    </tr>\n",
       "    <tr>\n",
       "      <th>173</th>\n",
       "      <td>S-3</td>\n",
       "      <td>Cingulate Inc.</td>\n",
       "    </tr>\n",
       "    <tr>\n",
       "      <th>174</th>\n",
       "      <td>S-3</td>\n",
       "      <td>Immix Biopharma, Inc.</td>\n",
       "    </tr>\n",
       "    <tr>\n",
       "      <th>175</th>\n",
       "      <td>S-3</td>\n",
       "      <td>Pear Therapeutics, Inc.</td>\n",
       "    </tr>\n",
       "    <tr>\n",
       "      <th>176</th>\n",
       "      <td>S-3/A</td>\n",
       "      <td>ACHIEVE LIFE SCIENCES, INC.</td>\n",
       "    </tr>\n",
       "  </tbody>\n",
       "</table>\n",
       "<p>177 rows × 2 columns</p>\n",
       "</div>"
      ],
      "text/plain": [
       "      form                                   company\n",
       "0    424B4                    Mars Acquisition Corp.\n",
       "1      S-3                Navitas Semiconductor Corp\n",
       "2    S-3/A                             TERAWULF INC.\n",
       "3    424B4  Bellevue Life Sciences Acquisition Corp.\n",
       "4    424B4             Enlight Renewable Energy Ltd.\n",
       "..     ...                                       ...\n",
       "172    S-3                       CVENT HOLDING CORP.\n",
       "173    S-3                            Cingulate Inc.\n",
       "174    S-3                     Immix Biopharma, Inc.\n",
       "175    S-3                   Pear Therapeutics, Inc.\n",
       "176  S-3/A               ACHIEVE LIFE SCIENCES, INC.\n",
       "\n",
       "[177 rows x 2 columns]"
      ]
     },
     "execution_count": 14,
     "metadata": {},
     "output_type": "execute_result"
    }
   ],
   "source": [
    "filings.to_pandas('form', 'company')"
   ]
  },
  {
   "cell_type": "markdown",
   "id": "632a69ef",
   "metadata": {},
   "source": [
    "## Get the underlying filings data as a pyarrow Table\n",
    "\n",
    "The filings data is kept as a `pyarrow.Table` which you can access using `.data`"
   ]
  },
  {
   "cell_type": "code",
   "execution_count": 15,
   "id": "3440ea85",
   "metadata": {},
   "outputs": [
    {
     "data": {
      "text/plain": [
       "pyarrow.Table\n",
       "form: string\n",
       "company: string\n",
       "cik: int32\n",
       "filing_date: date32[day]\n",
       "accession_number: string\n",
       "----\n",
       "form: [[\"424B4\",\"S-3\",\"S-3/A\",\"424B4\",\"424B4\",...,\"S-3\",\"S-3\",\"S-3\",\"S-3\",\"S-3/A\"]]\n",
       "company: [[\"Mars Acquisition Corp.\",\"Navitas Semiconductor Corp\",\"TERAWULF INC.\",\"Bellevue Life Sciences Acquisition Corp.\",\"Enlight Renewable Energy Ltd.\",...,\"CVENT HOLDING CORP.\",\"Cingulate Inc.\",\"Immix Biopharma, Inc.\",\"Pear Therapeutics, Inc.\",\"ACHIEVE LIFE SCIENCES, INC.\"]]\n",
       "cik: [[1892922,1821769,1083301,1840425,1922641,...,1827075,1862150,1873835,1835567,949858]]\n",
       "filing_date: [[2023-02-14,2023-02-14,2023-02-14,2023-02-13,2023-02-13,...,2023-01-03,2023-01-03,2023-01-03,2023-01-03,2023-01-03]]\n",
       "accession_number: [[\"0001104659-23-021986\",\"0001628280-23-003446\",\"0001083301-23-000016\",\"0001193125-23-035877\",\"0001104659-23-018716\",...,\"0001193125-23-000802\",\"0001493152-23-000143\",\"0001493152-23-000127\",\"0001628280-23-000004\",\"0001193125-23-000179\"]]"
      ]
     },
     "execution_count": 15,
     "metadata": {},
     "output_type": "execute_result"
    }
   ],
   "source": [
    "filings.data"
   ]
  },
  {
   "cell_type": "markdown",
   "id": "e7319254",
   "metadata": {},
   "source": [
    "# Get Filing\n",
    "<hr/>"
   ]
  },
  {
   "cell_type": "code",
   "execution_count": 16,
   "id": "5e552182",
   "metadata": {},
   "outputs": [
    {
     "data": {
      "text/html": [
       "<pre style=\"white-space:pre;overflow-x:auto;line-height:normal;font-family:Menlo,'DejaVu Sans Mono',consolas,'Courier New',monospace\"></pre>\n"
      ],
      "text/plain": []
     },
     "metadata": {},
     "output_type": "display_data"
    },
    {
     "data": {
      "text/plain": [
       "\u001b[1m424B4 filing\u001b[0m\n",
       "                                                                                       \n",
       " \u001b[1m \u001b[0m\u001b[1maccession_no        \u001b[0m\u001b[1m \u001b[0m \u001b[1;38;5;71m \u001b[0m\u001b[1;38;5;71mform \u001b[0m\u001b[1;38;5;71m \u001b[0m \u001b[1m \u001b[0m\u001b[1mcompany                     \u001b[0m\u001b[1m \u001b[0m \u001b[1m \u001b[0m\u001b[1mcik    \u001b[0m\u001b[1m \u001b[0m \u001b[1;38;5;39m \u001b[0m\u001b[1;38;5;39mfiling_date\u001b[0m\u001b[1;38;5;39m \u001b[0m \n",
       " ───────────────────────────────────────────────────────────────────────────────────── \n",
       " \u001b[1m \u001b[0m\u001b[1m0001628280-23-003159\u001b[0m\u001b[1m \u001b[0m \u001b[1;38;5;71m \u001b[0m\u001b[1;38;5;71m424B4\u001b[0m\u001b[1;38;5;71m \u001b[0m \u001b[1m \u001b[0m\u001b[1mMineralys Therapeutics, Inc.\u001b[0m\u001b[1m \u001b[0m \u001b[1m \u001b[0m\u001b[1m1933414\u001b[0m\u001b[1m \u001b[0m \u001b[1;38;5;39m \u001b[0m\u001b[1;38;5;39m2023-02-10 \u001b[0m\u001b[1;38;5;39m \u001b[0m \n",
       "                                                                                       "
      ]
     },
     "execution_count": 16,
     "metadata": {},
     "output_type": "execute_result"
    }
   ],
   "source": [
    "filing = filings[10]\n",
    "filing"
   ]
  },
  {
   "cell_type": "markdown",
   "id": "e6622f10",
   "metadata": {},
   "source": [
    "## Get filing homepage"
   ]
  },
  {
   "cell_type": "code",
   "execution_count": 17,
   "id": "da82d706",
   "metadata": {},
   "outputs": [
    {
     "data": {
      "text/html": [
       "<pre style=\"white-space:pre;overflow-x:auto;line-height:normal;font-family:Menlo,'DejaVu Sans Mono',consolas,'Courier New',monospace\"></pre>\n"
      ],
      "text/plain": []
     },
     "metadata": {},
     "output_type": "display_data"
    },
    {
     "data": {
      "text/plain": [
       "\u001b[1m424B4 filing\u001b[0m\n",
       "                                                                                       \n",
       " \u001b[1m \u001b[0m\u001b[1maccession_no        \u001b[0m\u001b[1m \u001b[0m \u001b[1;38;5;71m \u001b[0m\u001b[1;38;5;71mform \u001b[0m\u001b[1;38;5;71m \u001b[0m \u001b[1m \u001b[0m\u001b[1mcompany                     \u001b[0m\u001b[1m \u001b[0m \u001b[1m \u001b[0m\u001b[1mcik    \u001b[0m\u001b[1m \u001b[0m \u001b[1;38;5;39m \u001b[0m\u001b[1;38;5;39mfiling_date\u001b[0m\u001b[1;38;5;39m \u001b[0m \n",
       " ───────────────────────────────────────────────────────────────────────────────────── \n",
       " \u001b[1m \u001b[0m\u001b[1m0001628280-23-003159\u001b[0m\u001b[1m \u001b[0m \u001b[1;38;5;71m \u001b[0m\u001b[1;38;5;71m424B4\u001b[0m\u001b[1;38;5;71m \u001b[0m \u001b[1m \u001b[0m\u001b[1mMineralys Therapeutics, Inc.\u001b[0m\u001b[1m \u001b[0m \u001b[1m \u001b[0m\u001b[1m1933414\u001b[0m\u001b[1m \u001b[0m \u001b[1;38;5;39m \u001b[0m\u001b[1;38;5;39m2023-02-10 \u001b[0m\u001b[1;38;5;39m \u001b[0m \n",
       "                                                                                       \n",
       "\u001b[1mDocuments\u001b[0m\n",
       "                                                                             \n",
       " \u001b[1m \u001b[0m\u001b[1mSeq\u001b[0m\u001b[1m \u001b[0m \u001b[1m \u001b[0m\u001b[1mDocument                \u001b[0m\u001b[1m \u001b[0m \u001b[1m \u001b[0m\u001b[1mDescription                  \u001b[0m\u001b[1m \u001b[0m \u001b[1m \u001b[0m\u001b[1mSize    \u001b[0m\u001b[1m \u001b[0m \n",
       " ─────────────────────────────────────────────────────────────────────────── \n",
       " \u001b[1m \u001b[0m\u001b[1m1  \u001b[0m\u001b[1m \u001b[0m \u001b[1m \u001b[0m\u001b[1mmineralys-424b4.htm     \u001b[0m\u001b[1m \u001b[0m \u001b[1m \u001b[0m\u001b[1m424B4                        \u001b[0m\u001b[1m \u001b[0m \u001b[1m \u001b[0m\u001b[1m2.0 MB  \u001b[0m\u001b[1m \u001b[0m \n",
       "  2     backcoverlogo.jpg                                          21.2 KB   \n",
       " \u001b[1m \u001b[0m\u001b[1m3  \u001b[0m\u001b[1m \u001b[0m \u001b[1m \u001b[0m\u001b[1mbusiness11e.jpg         \u001b[0m\u001b[1m \u001b[0m \u001b[1m \u001b[0m\u001b[1m                             \u001b[0m\u001b[1m \u001b[0m \u001b[1m \u001b[0m\u001b[1m647.3 KB\u001b[0m\u001b[1m \u001b[0m \n",
       "  4     business12b.jpg                                            264.1 KB  \n",
       " \u001b[1m \u001b[0m\u001b[1m5  \u001b[0m\u001b[1m \u001b[0m \u001b[1m \u001b[0m\u001b[1mbusiness13d.jpg         \u001b[0m\u001b[1m \u001b[0m \u001b[1m \u001b[0m\u001b[1m                             \u001b[0m\u001b[1m \u001b[0m \u001b[1m \u001b[0m\u001b[1m539.7 KB\u001b[0m\u001b[1m \u001b[0m \n",
       "  6     business2e.jpg                                             525.3 KB  \n",
       " \u001b[1m \u001b[0m\u001b[1m7  \u001b[0m\u001b[1m \u001b[0m \u001b[1m \u001b[0m\u001b[1mbusiness3b.jpg          \u001b[0m\u001b[1m \u001b[0m \u001b[1m \u001b[0m\u001b[1m                             \u001b[0m\u001b[1m \u001b[0m \u001b[1m \u001b[0m\u001b[1m655.3 KB\u001b[0m\u001b[1m \u001b[0m \n",
       "  8     business4b.jpg                                             377.2 KB  \n",
       " \u001b[1m \u001b[0m\u001b[1m9  \u001b[0m\u001b[1m \u001b[0m \u001b[1m \u001b[0m\u001b[1mbusiness5c.jpg          \u001b[0m\u001b[1m \u001b[0m \u001b[1m \u001b[0m\u001b[1m                             \u001b[0m\u001b[1m \u001b[0m \u001b[1m \u001b[0m\u001b[1m1.6 MB  \u001b[0m\u001b[1m \u001b[0m \n",
       "  10    business6b.jpg                                             144.7 KB  \n",
       " \u001b[1m \u001b[0m\u001b[1m11 \u001b[0m\u001b[1m \u001b[0m \u001b[1m \u001b[0m\u001b[1mbusiness7e.jpg          \u001b[0m\u001b[1m \u001b[0m \u001b[1m \u001b[0m\u001b[1m                             \u001b[0m\u001b[1m \u001b[0m \u001b[1m \u001b[0m\u001b[1m1.4 MB  \u001b[0m\u001b[1m \u001b[0m \n",
       "  12    business8d.jpg                                             384.5 KB  \n",
       " \u001b[1m \u001b[0m\u001b[1m13 \u001b[0m\u001b[1m \u001b[0m \u001b[1m \u001b[0m\u001b[1mbusiness9c.jpg          \u001b[0m\u001b[1m \u001b[0m \u001b[1m \u001b[0m\u001b[1m                             \u001b[0m\u001b[1m \u001b[0m \u001b[1m \u001b[0m\u001b[1m616.3 KB\u001b[0m\u001b[1m \u001b[0m \n",
       "  14    busniess10d.jpg                                            601.8 KB  \n",
       " \u001b[1m \u001b[0m\u001b[1m15 \u001b[0m\u001b[1m \u001b[0m \u001b[1m \u001b[0m\u001b[1mmineralyslogo.jpg       \u001b[0m\u001b[1m \u001b[0m \u001b[1m \u001b[0m\u001b[1m                             \u001b[0m\u001b[1m \u001b[0m \u001b[1m \u001b[0m\u001b[1m33.4 KB \u001b[0m\u001b[1m \u001b[0m \n",
       "  16    mineralyslogoa.jpg                                         29.5 KB   \n",
       " \u001b[1m \u001b[0m\u001b[1m17 \u001b[0m\u001b[1m \u001b[0m \u001b[1m \u001b[0m\u001b[1mprospectussummary1b.jpg \u001b[0m\u001b[1m \u001b[0m \u001b[1m \u001b[0m\u001b[1m                             \u001b[0m\u001b[1m \u001b[0m \u001b[1m \u001b[0m\u001b[1m192.0 KB\u001b[0m\u001b[1m \u001b[0m \n",
       "        0001628280-23-003159.txt   Complete submission text file   12.5 MB   \n",
       "                                                                             \n",
       "\u001b[1mDatafiles\u001b[0m\n",
       "                                       \n",
       " \u001b[1m \u001b[0m\u001b[1mSeq\u001b[0m\u001b[1m \u001b[0m \u001b[1m \u001b[0m\u001b[1mDocument\u001b[0m\u001b[1m \u001b[0m \u001b[1m \u001b[0m\u001b[1mDescription\u001b[0m\u001b[1m \u001b[0m \u001b[1m \u001b[0m\u001b[1mSize\u001b[0m\u001b[1m \u001b[0m \n",
       " ───────────────────────────────────── \n",
       "                                       "
      ]
     },
     "execution_count": 17,
     "metadata": {},
     "output_type": "execute_result"
    }
   ],
   "source": [
    "filing.homepage"
   ]
  },
  {
   "cell_type": "markdown",
   "id": "8faee529",
   "metadata": {},
   "source": [
    "## Get filing Xbrl"
   ]
  },
  {
   "cell_type": "code",
   "execution_count": 35,
   "id": "d51e4043",
   "metadata": {},
   "outputs": [
    {
     "data": {
      "text/html": [
       "<pre style=\"white-space:pre;overflow-x:auto;line-height:normal;font-family:Menlo,'DejaVu Sans Mono',consolas,'Courier New',monospace\"></pre>\n"
      ],
      "text/plain": []
     },
     "metadata": {},
     "output_type": "display_data"
    },
    {
     "data": {
      "text/plain": [
       "Form 8-K Extracted XBRL\n",
       "                                                          \n",
       " \u001b[1m \u001b[0m\u001b[1m                \u001b[0m\u001b[1m \u001b[0m \u001b[1m \u001b[0m\u001b[1mcik    \u001b[0m\u001b[1m \u001b[0m \u001b[1;38;5;71m \u001b[0m\u001b[1;38;5;71mform\u001b[0m\u001b[1;38;5;71m \u001b[0m \u001b[1m \u001b[0m\u001b[1mnamespaces\u001b[0m\u001b[1m \u001b[0m \u001b[1m \u001b[0m\u001b[1mfacts\u001b[0m\u001b[1m \u001b[0m \n",
       " ──────────────────────────────────────────────────────── \n",
       " \u001b[1m \u001b[0m\u001b[1m1606 CORPORATION\u001b[0m\u001b[1m \u001b[0m \u001b[1m \u001b[0m\u001b[1m1877461\u001b[0m\u001b[1m \u001b[0m \u001b[1;38;5;71m \u001b[0m\u001b[1;38;5;71m8-K \u001b[0m\u001b[1;38;5;71m \u001b[0m \u001b[1m \u001b[0m\u001b[1m4         \u001b[0m\u001b[1m \u001b[0m \u001b[1m \u001b[0m\u001b[1m20   \u001b[0m\u001b[1m \u001b[0m \n",
       "                                                          \n",
       "Facts\n",
       "                                                                                              \n",
       " \u001b[1m \u001b[0m\u001b[1m   \u001b[0m\u001b[1m \u001b[0m \u001b[1m \u001b[0m\u001b[1mnamespace\u001b[0m\u001b[1m \u001b[0m \u001b[1;38;5;39m \u001b[0m\u001b[1;38;5;39mfact                            \u001b[0m\u001b[1;38;5;39m \u001b[0m \u001b[1m \u001b[0m\u001b[1mvalue           \u001b[0m\u001b[1m \u001b[0m \u001b[1m \u001b[0m\u001b[1munits\u001b[0m\u001b[1m \u001b[0m \u001b[1m \u001b[0m\u001b[1mend_date  \u001b[0m\u001b[1m \u001b[0m \n",
       " ──────────────────────────────────────────────────────────────────────────────────────────── \n",
       " \u001b[1m \u001b[0m\u001b[1m0  \u001b[0m\u001b[1m \u001b[0m \u001b[1m \u001b[0m\u001b[1mdei      \u001b[0m\u001b[1m \u001b[0m \u001b[1;38;5;39m \u001b[0m\u001b[1;38;5;39mEntityCentralIndexKey           \u001b[0m\u001b[1;38;5;39m \u001b[0m \u001b[1m \u001b[0m\u001b[1m0001877461      \u001b[0m\u001b[1m \u001b[0m \u001b[1m \u001b[0m\u001b[1mNone \u001b[0m\u001b[1m \u001b[0m \u001b[1m \u001b[0m\u001b[1m2023-02-06\u001b[0m\u001b[1m \u001b[0m \n",
       "  1     dei        \u001b[38;5;39m \u001b[0m\u001b[38;5;39mAmendmentFlag                   \u001b[0m\u001b[38;5;39m \u001b[0m  False              None    2023-02-06  \n",
       " \u001b[1m \u001b[0m\u001b[1m2  \u001b[0m\u001b[1m \u001b[0m \u001b[1m \u001b[0m\u001b[1mdei      \u001b[0m\u001b[1m \u001b[0m \u001b[1;38;5;39m \u001b[0m\u001b[1;38;5;39mDocumentType                    \u001b[0m\u001b[1;38;5;39m \u001b[0m \u001b[1m \u001b[0m\u001b[1m8-K             \u001b[0m\u001b[1m \u001b[0m \u001b[1m \u001b[0m\u001b[1mNone \u001b[0m\u001b[1m \u001b[0m \u001b[1m \u001b[0m\u001b[1m2023-02-06\u001b[0m\u001b[1m \u001b[0m \n",
       "  3     dei        \u001b[38;5;39m \u001b[0m\u001b[38;5;39mDocumentPeriodEndDate           \u001b[0m\u001b[38;5;39m \u001b[0m  2023-02-06         None    2023-02-06  \n",
       " \u001b[1m \u001b[0m\u001b[1m4  \u001b[0m\u001b[1m \u001b[0m \u001b[1m \u001b[0m\u001b[1mdei      \u001b[0m\u001b[1m \u001b[0m \u001b[1;38;5;39m \u001b[0m\u001b[1;38;5;39mEntityRegistrantName            \u001b[0m\u001b[1;38;5;39m \u001b[0m \u001b[1m \u001b[0m\u001b[1m1606 CORPORATION\u001b[0m\u001b[1m \u001b[0m \u001b[1m \u001b[0m\u001b[1mNone \u001b[0m\u001b[1m \u001b[0m \u001b[1m \u001b[0m\u001b[1m2023-02-06\u001b[0m\u001b[1m \u001b[0m \n",
       "  ...   ...        \u001b[38;5;39m \u001b[0m\u001b[38;5;39m...                             \u001b[0m\u001b[38;5;39m \u001b[0m  ...                ...     ...         \n",
       " \u001b[1m \u001b[0m\u001b[1m15 \u001b[0m\u001b[1m \u001b[0m \u001b[1m \u001b[0m\u001b[1mdei      \u001b[0m\u001b[1m \u001b[0m \u001b[1;38;5;39m \u001b[0m\u001b[1;38;5;39mSolicitingMaterial              \u001b[0m\u001b[1;38;5;39m \u001b[0m \u001b[1m \u001b[0m\u001b[1mFalse           \u001b[0m\u001b[1m \u001b[0m \u001b[1m \u001b[0m\u001b[1mNone \u001b[0m\u001b[1m \u001b[0m \u001b[1m \u001b[0m\u001b[1m2023-02-06\u001b[0m\u001b[1m \u001b[0m \n",
       "  16    dei        \u001b[38;5;39m \u001b[0m\u001b[38;5;39mPreCommencementTenderOffer      \u001b[0m\u001b[38;5;39m \u001b[0m  False              None    2023-02-06  \n",
       " \u001b[1m \u001b[0m\u001b[1m17 \u001b[0m\u001b[1m \u001b[0m \u001b[1m \u001b[0m\u001b[1mdei      \u001b[0m\u001b[1m \u001b[0m \u001b[1;38;5;39m \u001b[0m\u001b[1;38;5;39mPreCommencementIssuerTenderOffer\u001b[0m\u001b[1;38;5;39m \u001b[0m \u001b[1m \u001b[0m\u001b[1mFalse           \u001b[0m\u001b[1m \u001b[0m \u001b[1m \u001b[0m\u001b[1mNone \u001b[0m\u001b[1m \u001b[0m \u001b[1m \u001b[0m\u001b[1m2023-02-06\u001b[0m\u001b[1m \u001b[0m \n",
       "  18    dei        \u001b[38;5;39m \u001b[0m\u001b[38;5;39mEntityEmergingGrowthCompany     \u001b[0m\u001b[38;5;39m \u001b[0m  True               None    2023-02-06  \n",
       " \u001b[1m \u001b[0m\u001b[1m19 \u001b[0m\u001b[1m \u001b[0m \u001b[1m \u001b[0m\u001b[1mdei      \u001b[0m\u001b[1m \u001b[0m \u001b[1;38;5;39m \u001b[0m\u001b[1;38;5;39mEntityExTransitionPeriod        \u001b[0m\u001b[1;38;5;39m \u001b[0m \u001b[1m \u001b[0m\u001b[1mFalse           \u001b[0m\u001b[1m \u001b[0m \u001b[1m \u001b[0m\u001b[1mNone \u001b[0m\u001b[1m \u001b[0m \u001b[1m \u001b[0m\u001b[1m2023-02-06\u001b[0m\u001b[1m \u001b[0m \n",
       "                                                                                              \n",
       "Taxonomies\n",
       "                                                    \n",
       " \u001b[1m \u001b[0m\u001b[1m \u001b[0m\u001b[1m \u001b[0m \u001b[1m \u001b[0m\u001b[1mtaxonomy\u001b[0m\u001b[1m \u001b[0m \u001b[1m \u001b[0m\u001b[1mnamespace                        \u001b[0m\u001b[1m \u001b[0m \n",
       " ────────────────────────────────────────────────── \n",
       " \u001b[1m \u001b[0m\u001b[1m0\u001b[0m\u001b[1m \u001b[0m \u001b[1m \u001b[0m\u001b[1mdei     \u001b[0m\u001b[1m \u001b[0m \u001b[1m \u001b[0m\u001b[1mhttp://xbrl.sec.gov/dei/2022     \u001b[0m\u001b[1m \u001b[0m \n",
       "  1   iso4217    http://www.xbrl.org/2003/iso4217   \n",
       " \u001b[1m \u001b[0m\u001b[1m2\u001b[0m\u001b[1m \u001b[0m \u001b[1m \u001b[0m\u001b[1mlink    \u001b[0m\u001b[1m \u001b[0m \u001b[1m \u001b[0m\u001b[1mhttp://www.xbrl.org/2003/linkbase\u001b[0m\u001b[1m \u001b[0m \n",
       "  3   xlink      http://www.w3.org/1999/xlink       \n",
       "                                                    "
      ]
     },
     "execution_count": 35,
     "metadata": {},
     "output_type": "execute_result"
    }
   ],
   "source": [
    "filings_8k = get_filings(form=\"8-K\")\n",
    "eight_k_filing =  filings_8k[0]\n",
    "eight_k_filing.xbrl()"
   ]
  },
  {
   "cell_type": "markdown",
   "id": "03aef2a2",
   "metadata": {},
   "source": [
    "## Get the filing markdown"
   ]
  },
  {
   "cell_type": "code",
   "execution_count": 41,
   "id": "013c87df",
   "metadata": {},
   "outputs": [
    {
     "name": "stdout",
     "output_type": "stream",
     "text": [
      "xml version=\"1.0\" encoding=\"utf-8\"?onesix\\_8k.htm0001877461false00018774612023-02-062023-02-06iso4217:USDxbrli:sharesiso4217:USDxbrli:shares\n",
      "\n",
      "|  |\n",
      "| --- |\n",
      "|  |\n",
      "|  |\n",
      "\n",
      " \n",
      "\n",
      "**UNITED STATES**\n",
      "\n",
      "**SECURITIES AND EXCHANGE COMMISSION**\n",
      "\n",
      "**WASHINGTON, DC 20549**\n",
      "\n",
      " \n",
      "\n",
      "**FORM 8-K**\n",
      "\n",
      " \n",
      "\n",
      "**CURRENT REPORT PURSUANT TO**\n",
      "\n",
      "**SECTION 13 OR 15(D) OF THE**\n",
      "\n",
      "**SECURITIES EXCHANGE ACT OF 1934**\n",
      "\n",
      " \n",
      "\n",
      "Date of report (Date of earliest event reported): **February 6, 2023**\n",
      "\n",
      " \n",
      "\n",
      "\n",
      "\n",
      "|  |\n",
      "| --- |\n",
      "| **1606 CORPORATION** |\n",
      "| (Exact Name of Registrant as Specified in Charter) |\n",
      "\n"
     ]
    }
   ],
   "source": [
    "md = eight_k_filing.markdown()\n",
    "\n",
    "for line in md.split(\"\\n\")[:40]:\n",
    "    print(line)"
   ]
  },
  {
   "cell_type": "markdown",
   "id": "07308a19",
   "metadata": {},
   "source": [
    "## View the filing markdown"
   ]
  },
  {
   "cell_type": "code",
   "execution_count": 37,
   "id": "8cb73b17",
   "metadata": {},
   "outputs": [
    {
     "data": {
      "text/html": [
       "<pre style=\"white-space:pre;overflow-x:auto;line-height:normal;font-family:Menlo,'DejaVu Sans Mono',consolas,'Courier New',monospace\">╭──────────────────────────────────────────── Form 8-K for 1606 CORP. ────────────────────────────────────────────╮\n",
       "│ xml version=\"1.0\"                                                                                               │\n",
       "│ encoding=\"utf-8\"?onesix_8k.htm0001877461false00018774612023-02-062023-02-06iso4217:USDxbrli:sharesiso4217:USDxb │\n",
       "│ rli:shares                                                                                                      │\n",
       "│                                                                                                                 │\n",
       "│  <span style=\"font-weight: bold\">    </span>                                                                                                           │\n",
       "│  ────                                                                                                           │\n",
       "│                                                                                                                 │\n",
       "│ <span style=\"font-weight: bold\">UNITED STATES</span>                                                                                                   │\n",
       "│                                                                                                                 │\n",
       "│ <span style=\"font-weight: bold\">SECURITIES AND EXCHANGE COMMISSION</span>                                                                              │\n",
       "│                                                                                                                 │\n",
       "│ <span style=\"font-weight: bold\">WASHINGTON, DC 20549</span>                                                                                            │\n",
       "│                                                                                                                 │\n",
       "│ <span style=\"font-weight: bold\">FORM 8-K</span>                                                                                                        │\n",
       "│                                                                                                                 │\n",
       "│ <span style=\"font-weight: bold\">CURRENT REPORT PURSUANT TO</span>                                                                                      │\n",
       "│                                                                                                                 │\n",
       "│ <span style=\"font-weight: bold\">SECTION 13 OR 15(D) OF THE</span>                                                                                      │\n",
       "│                                                                                                                 │\n",
       "│ <span style=\"font-weight: bold\">SECURITIES EXCHANGE ACT OF 1934</span>                                                                                 │\n",
       "│                                                                                                                 │\n",
       "│ Date of report (Date of earliest event reported): <span style=\"font-weight: bold\">February 6, 2023</span>                                              │\n",
       "│                                                                                                                 │\n",
       "│  <span style=\"font-weight: bold\">                                                    </span>                                                           │\n",
       "│  ────────────────────────────────────────────────────                                                           │\n",
       "│   **1606 CORPORATION**                                                                                          │\n",
       "│   (Exact Name of Registrant as Specified in Charter)                                                            │\n",
       "│                                                                                                                 │\n",
       "│                                                                                                                 │\n",
       "│  <span style=\"font-weight: bold\">                                          </span> <span style=\"font-weight: bold\">  </span> <span style=\"font-weight: bold\">                         </span> <span style=\"font-weight: bold\">  </span> <span style=\"font-weight: bold\">                                  </span>  │\n",
       "│  ─────────────────────────────────────────────────────────────────────────────────────────────────────────────  │\n",
       "│   **Nevada**                                    **000-53425**                **86-1497346**                     │\n",
       "│   (State or Other Jurisdictionof                (CommissionFile Number)      (IRS EmployerIdentification No.)   │\n",
       "│   Incorporation)                                                                                                │\n",
       "│                                                                                                                 │\n",
       "│ <span style=\"font-weight: bold\">2425 E. Camelback Rd Suite 150</span>                                                                                  │\n",
       "│                                                                                                                 │\n",
       "│ <span style=\"font-weight: bold\">Phoenix, AZ 85016</span>                                                                                               │\n",
       "│                                                                                                                 │\n",
       "│ (Address of Principal Executive Offices) (Zip Code)                                                             │\n",
       "│                                                                                                                 │\n",
       "│ <span style=\"font-weight: bold\">(602) 481-1544</span>                                                                                                  │\n",
       "│                                                                                                                 │\n",
       "│ (Registrant’s telephone number, including area code)                                                            │\n",
       "│                                                                                                                 │\n",
       "│ Check the appropriate box below if the Form 8-K filing is intended to simultaneously satisfy the filing         │\n",
       "│ obligation of the registrant under any of the following provisions:                                             │\n",
       "│                                                                                                                 │\n",
       "│  <span style=\"font-weight: bold\">     </span> <span style=\"font-weight: bold\">                                                                                                       </span>  │\n",
       "│  ─────────────────────────────────────────────────────────────────────────────────────────────────────────────  │\n",
       "│   ☐     Written communications pursuant to Rule 425 under the Securities Act (17 CFR 230.425)                   │\n",
       "│   ☐     Soliciting material pursuant to Rule 14a-12 under the Exchange Act (17 CFR 240.14a-12)                  │\n",
       "│   ☐     Pre-commencement communications pursuant to Rule 14d-2(b) under the Exchange Act (17 CFR                │\n",
       "│         240.14d-2(b))                                                                                           │\n",
       "│   ☐     Pre-commencement communications pursuant to Rule 13e-4(c) under the Exchange Act (17 CFR                │\n",
       "│         240.13e-4(c))                                                                                           │\n",
       "│                                                                                                                 │\n",
       "│ Securities registered pursuant to Section 12(b) of the Act:                                                     │\n",
       "│                                                                                                                 │\n",
       "│  <span style=\"font-weight: bold\">                     </span> <span style=\"font-weight: bold\">                   </span> <span style=\"font-weight: bold\">                                           </span>                          │\n",
       "│  ─────────────────────────────────────────────────────────────────────────────────────                          │\n",
       "│   Title of each class   Trading Symbol(s)   Name of each exchange on which registered                           │\n",
       "│   Common                CBDW                OTC Pink Sheets                                                     │\n",
       "│                                                                                                                 │\n",
       "│ Indicate by check mark whether the registrant is an emerging growth company as defined in Rule 405 of the       │\n",
       "│ Securities Act of 1933 (17 CFR §230.405) or Rule 12b-2 of the Securities Exchange Act of 1934 (17 CFR           │\n",
       "│ §240.12b-2).                                                                                                    │\n",
       "│                                                                                                                 │\n",
       "│ Emerging growth company ☒                                                                                       │\n",
       "│                                                                                                                 │\n",
       "│ If an emerging growth company, indicate by check mark if the registrant has elected not to use the extended     │\n",
       "│ transition period for complying with any new or revised financial accounting standards provided pursuant to     │\n",
       "│ Section 13(a) of the Exchange Act. ☐                                                                            │\n",
       "│                                                                                                                 │\n",
       "│  <span style=\"font-weight: bold\">    </span>                                                                                                           │\n",
       "│  ────                                                                                                           │\n",
       "│                                                                                                                 │\n",
       "│                                                                                                                 │\n",
       "│  <span style=\"font-weight: bold\">    </span>                                                                                                           │\n",
       "│  ────                                                                                                           │\n",
       "│                                                                                                                 │\n",
       "│ <span style=\"font-weight: bold\">Section 1 - Registrant’s Business and Operations</span>                                                                │\n",
       "│                                                                                                                 │\n",
       "│ <span style=\"font-weight: bold\">Item 1.01 Entry into a Material Deﬁnitive Agreement.</span>                                                            │\n",
       "│                                                                                                                 │\n",
       "│ On February 6, 2023 the Registrant, 1606 Corporation., a Nevada corporation entered into an Equity Financing    │\n",
       "│ Agreement and on February 8, 2023 the Registrant entered into a Registration Rights with GHS Investments LLC, a │\n",
       "│ Nevada limited liability company. Under the terms of the Equity Financing Agreement, GHS agreed to provide the  │\n",
       "│ Registrant with up to $20,000,000 over a 24-month period after the effectiveness of a registration statement on │\n",
       "│ Form S-1 filed with the U.S. Securities and Exchange Commission.                                                │\n",
       "│                                                                                                                 │\n",
       "│ The Registrant, after the effectiveness of the registration statement will, at its discretion, deliver Puts to  │\n",
       "│ GHS obligating GHS to purchase Registrant’s common stock based on the investment amount in each Put notice.     │\n",
       "│                                                                                                                 │\n",
       "│ The purchase price shall be eighty percent (80%) of the Market Price. Following an up-list to the NASDAQ or an  │\n",
       "│ equivalent national exchange by the Registrant, the purchase price shall mean ninety percent (90%) of the       │\n",
       "│ Market Price, subject to a floor of $2.00 per share, below which the Company shall not deliver a Put. The       │\n",
       "│ Registrant also is obligated to issue 400,000 shares of common stock as commitment shares to GHS.               │\n",
       "│                                                                                                                 │\n",
       "│ The Registration Rights Agreement requires that the Registrant register for resale all of the Registrable       │\n",
       "│ Securities which would be issuable on the date preceding the filing of the Registration Statement based on the  │\n",
       "│ closing bid price of the Company’s Common Stock on such date and the amount reasonably calculated that          │\n",
       "│ represents Common Stock issuable to other parties as set forth in the Equity Financing Agreement except to the  │\n",
       "│ extent that the SEC requires the share amount to be reduced as a condition of effectiveness. The Registrant     │\n",
       "│ shall use all commercially reasonable efforts to have the Registration Statement(s) declared effective by the   │\n",
       "│ SEC within thirty (30) calendar days, but no more than ninety (90) calendar days after the Company has filed    │\n",
       "│ the Registration Statement.                                                                                     │\n",
       "│                                                                                                                 │\n",
       "│ <span style=\"font-weight: bold\">Item 9.01 Financial Statements and Exhibits</span>                                                                     │\n",
       "│                                                                                                                 │\n",
       "│  <span style=\"font-weight: bold\">                              </span> <span style=\"font-weight: bold\">  </span> <span style=\"font-weight: bold\">                                                                           </span>  │\n",
       "│  ─────────────────────────────────────────────────────────────────────────────────────────────────────────────  │\n",
       "│   **Exhibit Number**                **Exhibit**                                                                 │\n",
       "│   **[10.6](onesix_ex106.htm)**      **[Equity Financing Agreement](onesix_ex106.htm)**                          │\n",
       "│   **[10.7](onesix_ex107.htm)**      **[Registration Rights Agreement](onesix_ex107.htm)**                       │\n",
       "│   104                               Cover Page Interactive Data File (embedded within the Inline XBRL           │\n",
       "│                                     Document)                                                                   │\n",
       "│                                                                                                                 │\n",
       "│                                                                                                                 │\n",
       "│  <span style=\"font-weight: bold\">    </span>                                                                                                           │\n",
       "│  ────                                                                                                           │\n",
       "│   2                                                                                                             │\n",
       "│                                                                                                                 │\n",
       "│ <span style=\"font-weight: bold\">SIGNATURES</span>                                                                                                      │\n",
       "│                                                                                                                 │\n",
       "│ Pursuant to the requirements of the Securities Exchange Act of 1934, the registrant has duly caused this report │\n",
       "│ to be signed on its  behalf by the undersigned hereunto duly authorized.                                        │\n",
       "│                                                                                                                 │\n",
       "│  <span style=\"font-weight: bold\">                         </span> <span style=\"font-weight: bold\">                      </span> <span style=\"font-weight: bold\">                                                         </span> <span style=\"font-weight: bold\">  </span>  │\n",
       "│  ─────────────────────────────────────────────────────────────────────────────────────────────────────────────  │\n",
       "│   Registrant                **1606 Corporation**                                                                │\n",
       "│   Date: February 10, 2023   By:                    */s/ Greg Lambrecht*                                         │\n",
       "│                                                    Greg Lambrecht                                               │\n",
       "│                                                    Chief Executive Officer(Principal Executive Officer)         │\n",
       "│                                                    and Director                                                 │\n",
       "│                                                                                                                 │\n",
       "│                                                                                                                 │\n",
       "│  <span style=\"font-weight: bold\">    </span>                                                                                                           │\n",
       "│  ────                                                                                                           │\n",
       "│   3                                                                                                             │\n",
       "│                                                                                                                 │\n",
       "╰──────────────────────────────────────────── Form 8-K for 1606 CORP. ────────────────────────────────────────────╯\n",
       "</pre>\n"
      ],
      "text/plain": [
       "╭──────────────────────────────────────────── Form 8-K for 1606 CORP. ────────────────────────────────────────────╮\n",
       "│ xml version=\"1.0\"                                                                                               │\n",
       "│ encoding=\"utf-8\"?onesix_8k.htm0001877461false00018774612023-02-062023-02-06iso4217:USDxbrli:sharesiso4217:USDxb │\n",
       "│ rli:shares                                                                                                      │\n",
       "│                                                                                                                 │\n",
       "│  \u001b[1m \u001b[0m\u001b[1m  \u001b[0m\u001b[1m \u001b[0m                                                                                                           │\n",
       "│  ────                                                                                                           │\n",
       "│                                                                                                                 │\n",
       "│ \u001b[1mUNITED STATES\u001b[0m                                                                                                   │\n",
       "│                                                                                                                 │\n",
       "│ \u001b[1mSECURITIES AND EXCHANGE COMMISSION\u001b[0m                                                                              │\n",
       "│                                                                                                                 │\n",
       "│ \u001b[1mWASHINGTON, DC 20549\u001b[0m                                                                                            │\n",
       "│                                                                                                                 │\n",
       "│ \u001b[1mFORM 8-K\u001b[0m                                                                                                        │\n",
       "│                                                                                                                 │\n",
       "│ \u001b[1mCURRENT REPORT PURSUANT TO\u001b[0m                                                                                      │\n",
       "│                                                                                                                 │\n",
       "│ \u001b[1mSECTION 13 OR 15(D) OF THE\u001b[0m                                                                                      │\n",
       "│                                                                                                                 │\n",
       "│ \u001b[1mSECURITIES EXCHANGE ACT OF 1934\u001b[0m                                                                                 │\n",
       "│                                                                                                                 │\n",
       "│ Date of report (Date of earliest event reported): \u001b[1mFebruary 6, 2023\u001b[0m                                              │\n",
       "│                                                                                                                 │\n",
       "│  \u001b[1m \u001b[0m\u001b[1m                                                  \u001b[0m\u001b[1m \u001b[0m                                                           │\n",
       "│  ────────────────────────────────────────────────────                                                           │\n",
       "│   **1606 CORPORATION**                                                                                          │\n",
       "│   (Exact Name of Registrant as Specified in Charter)                                                            │\n",
       "│                                                                                                                 │\n",
       "│                                                                                                                 │\n",
       "│  \u001b[1m \u001b[0m\u001b[1m                                        \u001b[0m\u001b[1m \u001b[0m \u001b[1m  \u001b[0m \u001b[1m \u001b[0m\u001b[1m                       \u001b[0m\u001b[1m \u001b[0m \u001b[1m  \u001b[0m \u001b[1m \u001b[0m\u001b[1m                                \u001b[0m\u001b[1m \u001b[0m  │\n",
       "│  ─────────────────────────────────────────────────────────────────────────────────────────────────────────────  │\n",
       "│   **Nevada**                                    **000-53425**                **86-1497346**                     │\n",
       "│   (State or Other Jurisdictionof                (CommissionFile Number)      (IRS EmployerIdentification No.)   │\n",
       "│   Incorporation)                                                                                                │\n",
       "│                                                                                                                 │\n",
       "│ \u001b[1m2425 E. Camelback Rd Suite 150\u001b[0m                                                                                  │\n",
       "│                                                                                                                 │\n",
       "│ \u001b[1mPhoenix, AZ 85016\u001b[0m                                                                                               │\n",
       "│                                                                                                                 │\n",
       "│ (Address of Principal Executive Offices) (Zip Code)                                                             │\n",
       "│                                                                                                                 │\n",
       "│ \u001b[1m(602) 481-1544\u001b[0m                                                                                                  │\n",
       "│                                                                                                                 │\n",
       "│ (Registrant’s telephone number, including area code)                                                            │\n",
       "│                                                                                                                 │\n",
       "│ Check the appropriate box below if the Form 8-K filing is intended to simultaneously satisfy the filing         │\n",
       "│ obligation of the registrant under any of the following provisions:                                             │\n",
       "│                                                                                                                 │\n",
       "│  \u001b[1m \u001b[0m\u001b[1m   \u001b[0m\u001b[1m \u001b[0m \u001b[1m \u001b[0m\u001b[1m                                                                                                     \u001b[0m\u001b[1m \u001b[0m  │\n",
       "│  ─────────────────────────────────────────────────────────────────────────────────────────────────────────────  │\n",
       "│   ☐     Written communications pursuant to Rule 425 under the Securities Act (17 CFR 230.425)                   │\n",
       "│   ☐     Soliciting material pursuant to Rule 14a-12 under the Exchange Act (17 CFR 240.14a-12)                  │\n",
       "│   ☐     Pre-commencement communications pursuant to Rule 14d-2(b) under the Exchange Act (17 CFR                │\n",
       "│         240.14d-2(b))                                                                                           │\n",
       "│   ☐     Pre-commencement communications pursuant to Rule 13e-4(c) under the Exchange Act (17 CFR                │\n",
       "│         240.13e-4(c))                                                                                           │\n",
       "│                                                                                                                 │\n",
       "│ Securities registered pursuant to Section 12(b) of the Act:                                                     │\n",
       "│                                                                                                                 │\n",
       "│  \u001b[1m \u001b[0m\u001b[1m                   \u001b[0m\u001b[1m \u001b[0m \u001b[1m \u001b[0m\u001b[1m                 \u001b[0m\u001b[1m \u001b[0m \u001b[1m \u001b[0m\u001b[1m                                         \u001b[0m\u001b[1m \u001b[0m                          │\n",
       "│  ─────────────────────────────────────────────────────────────────────────────────────                          │\n",
       "│   Title of each class   Trading Symbol(s)   Name of each exchange on which registered                           │\n",
       "│   Common                CBDW                OTC Pink Sheets                                                     │\n",
       "│                                                                                                                 │\n",
       "│ Indicate by check mark whether the registrant is an emerging growth company as defined in Rule 405 of the       │\n",
       "│ Securities Act of 1933 (17 CFR §230.405) or Rule 12b-2 of the Securities Exchange Act of 1934 (17 CFR           │\n",
       "│ §240.12b-2).                                                                                                    │\n",
       "│                                                                                                                 │\n",
       "│ Emerging growth company ☒                                                                                       │\n",
       "│                                                                                                                 │\n",
       "│ If an emerging growth company, indicate by check mark if the registrant has elected not to use the extended     │\n",
       "│ transition period for complying with any new or revised financial accounting standards provided pursuant to     │\n",
       "│ Section 13(a) of the Exchange Act. ☐                                                                            │\n",
       "│                                                                                                                 │\n",
       "│  \u001b[1m \u001b[0m\u001b[1m  \u001b[0m\u001b[1m \u001b[0m                                                                                                           │\n",
       "│  ────                                                                                                           │\n",
       "│                                                                                                                 │\n",
       "│                                                                                                                 │\n",
       "│  \u001b[1m \u001b[0m\u001b[1m  \u001b[0m\u001b[1m \u001b[0m                                                                                                           │\n",
       "│  ────                                                                                                           │\n",
       "│                                                                                                                 │\n",
       "│ \u001b[1mSection 1 - Registrant’s Business and Operations\u001b[0m                                                                │\n",
       "│                                                                                                                 │\n",
       "│ \u001b[1mItem 1.01 Entry into a Material Deﬁnitive Agreement.\u001b[0m                                                            │\n",
       "│                                                                                                                 │\n",
       "│ On February 6, 2023 the Registrant, 1606 Corporation., a Nevada corporation entered into an Equity Financing    │\n",
       "│ Agreement and on February 8, 2023 the Registrant entered into a Registration Rights with GHS Investments LLC, a │\n",
       "│ Nevada limited liability company. Under the terms of the Equity Financing Agreement, GHS agreed to provide the  │\n",
       "│ Registrant with up to $20,000,000 over a 24-month period after the effectiveness of a registration statement on │\n",
       "│ Form S-1 filed with the U.S. Securities and Exchange Commission.                                                │\n",
       "│                                                                                                                 │\n",
       "│ The Registrant, after the effectiveness of the registration statement will, at its discretion, deliver Puts to  │\n",
       "│ GHS obligating GHS to purchase Registrant’s common stock based on the investment amount in each Put notice.     │\n",
       "│                                                                                                                 │\n",
       "│ The purchase price shall be eighty percent (80%) of the Market Price. Following an up-list to the NASDAQ or an  │\n",
       "│ equivalent national exchange by the Registrant, the purchase price shall mean ninety percent (90%) of the       │\n",
       "│ Market Price, subject to a floor of $2.00 per share, below which the Company shall not deliver a Put. The       │\n",
       "│ Registrant also is obligated to issue 400,000 shares of common stock as commitment shares to GHS.               │\n",
       "│                                                                                                                 │\n",
       "│ The Registration Rights Agreement requires that the Registrant register for resale all of the Registrable       │\n",
       "│ Securities which would be issuable on the date preceding the filing of the Registration Statement based on the  │\n",
       "│ closing bid price of the Company’s Common Stock on such date and the amount reasonably calculated that          │\n",
       "│ represents Common Stock issuable to other parties as set forth in the Equity Financing Agreement except to the  │\n",
       "│ extent that the SEC requires the share amount to be reduced as a condition of effectiveness. The Registrant     │\n",
       "│ shall use all commercially reasonable efforts to have the Registration Statement(s) declared effective by the   │\n",
       "│ SEC within thirty (30) calendar days, but no more than ninety (90) calendar days after the Company has filed    │\n",
       "│ the Registration Statement.                                                                                     │\n",
       "│                                                                                                                 │\n",
       "│ \u001b[1mItem 9.01 Financial Statements and Exhibits\u001b[0m                                                                     │\n",
       "│                                                                                                                 │\n",
       "│  \u001b[1m \u001b[0m\u001b[1m                            \u001b[0m\u001b[1m \u001b[0m \u001b[1m  \u001b[0m \u001b[1m \u001b[0m\u001b[1m                                                                         \u001b[0m\u001b[1m \u001b[0m  │\n",
       "│  ─────────────────────────────────────────────────────────────────────────────────────────────────────────────  │\n",
       "│   **Exhibit Number**                **Exhibit**                                                                 │\n",
       "│   **[10.6](onesix_ex106.htm)**      **[Equity Financing Agreement](onesix_ex106.htm)**                          │\n",
       "│   **[10.7](onesix_ex107.htm)**      **[Registration Rights Agreement](onesix_ex107.htm)**                       │\n",
       "│   104                               Cover Page Interactive Data File (embedded within the Inline XBRL           │\n",
       "│                                     Document)                                                                   │\n",
       "│                                                                                                                 │\n",
       "│                                                                                                                 │\n",
       "│  \u001b[1m \u001b[0m\u001b[1m  \u001b[0m\u001b[1m \u001b[0m                                                                                                           │\n",
       "│  ────                                                                                                           │\n",
       "│   2                                                                                                             │\n",
       "│                                                                                                                 │\n",
       "│ \u001b[1mSIGNATURES\u001b[0m                                                                                                      │\n",
       "│                                                                                                                 │\n",
       "│ Pursuant to the requirements of the Securities Exchange Act of 1934, the registrant has duly caused this report │\n",
       "│ to be signed on its  behalf by the undersigned hereunto duly authorized.                                        │\n",
       "│                                                                                                                 │\n",
       "│  \u001b[1m \u001b[0m\u001b[1m                       \u001b[0m\u001b[1m \u001b[0m \u001b[1m \u001b[0m\u001b[1m                    \u001b[0m\u001b[1m \u001b[0m \u001b[1m \u001b[0m\u001b[1m                                                       \u001b[0m\u001b[1m \u001b[0m \u001b[1m  \u001b[0m  │\n",
       "│  ─────────────────────────────────────────────────────────────────────────────────────────────────────────────  │\n",
       "│   Registrant                **1606 Corporation**                                                                │\n",
       "│   Date: February 10, 2023   By:                    */s/ Greg Lambrecht*                                         │\n",
       "│                                                    Greg Lambrecht                                               │\n",
       "│                                                    Chief Executive Officer(Principal Executive Officer)         │\n",
       "│                                                    and Director                                                 │\n",
       "│                                                                                                                 │\n",
       "│                                                                                                                 │\n",
       "│  \u001b[1m \u001b[0m\u001b[1m  \u001b[0m\u001b[1m \u001b[0m                                                                                                           │\n",
       "│  ────                                                                                                           │\n",
       "│   3                                                                                                             │\n",
       "│                                                                                                                 │\n",
       "╰──────────────────────────────────────────── Form 8-K for 1606 CORP. ────────────────────────────────────────────╯\n"
      ]
     },
     "metadata": {},
     "output_type": "display_data"
    }
   ],
   "source": [
    "eight_k_filing.view()"
   ]
  },
  {
   "cell_type": "markdown",
   "id": "e35ef2dc",
   "metadata": {},
   "source": [
    "# Company\n",
    "<hr/>"
   ]
  },
  {
   "cell_type": "markdown",
   "id": "9354e375",
   "metadata": {},
   "source": [
    "## Get company by cik"
   ]
  },
  {
   "cell_type": "code",
   "execution_count": 19,
   "id": "34308a3b",
   "metadata": {},
   "outputs": [
    {
     "data": {
      "text/html": [
       "<pre style=\"white-space:pre;overflow-x:auto;line-height:normal;font-family:Menlo,'DejaVu Sans Mono',consolas,'Courier New',monospace\"></pre>\n"
      ],
      "text/plain": []
     },
     "metadata": {},
     "output_type": "display_data"
    },
    {
     "data": {
      "text/plain": [
       "\u001b[1mSUNCOR ENERGY INC [SU]\u001b[0m\n",
       "                                                   \n",
       " \u001b[1m \u001b[0m\u001b[1mcik   \u001b[0m\u001b[1m \u001b[0m \u001b[1m \u001b[0m\u001b[1mcategory         \u001b[0m\u001b[1m \u001b[0m \u001b[1;38;5;39m \u001b[0m\u001b[1;38;5;39mindustry          \u001b[0m\u001b[1;38;5;39m \u001b[0m \n",
       " ───────────────────────────────────────────────── \n",
       " \u001b[1m \u001b[0m\u001b[1m311337\u001b[0m\u001b[1m \u001b[0m \u001b[1m \u001b[0m\u001b[1mLarge Accelerated\u001b[0m\u001b[1m \u001b[0m \u001b[1;38;5;39m \u001b[0m\u001b[1;38;5;39mPetroleum Refining\u001b[0m\u001b[1;38;5;39m \u001b[0m \n",
       "                                                   \n"
      ]
     },
     "execution_count": 19,
     "metadata": {},
     "output_type": "execute_result"
    }
   ],
   "source": [
    "Company(311337)"
   ]
  },
  {
   "cell_type": "markdown",
   "id": "276d97f4",
   "metadata": {},
   "source": [
    "## Get company by ticker"
   ]
  },
  {
   "cell_type": "code",
   "execution_count": 20,
   "id": "33631a44",
   "metadata": {},
   "outputs": [
    {
     "data": {
      "text/html": [
       "<pre style=\"white-space:pre;overflow-x:auto;line-height:normal;font-family:Menlo,'DejaVu Sans Mono',consolas,'Courier New',monospace\"></pre>\n"
      ],
      "text/plain": []
     },
     "metadata": {},
     "output_type": "display_data"
    },
    {
     "data": {
      "text/plain": [
       "\u001b[1mSnowflake Inc. [SNOW]\u001b[0m\n",
       "                                                                     \n",
       " \u001b[1m \u001b[0m\u001b[1mcik    \u001b[0m\u001b[1m \u001b[0m \u001b[1m \u001b[0m\u001b[1mcategory               \u001b[0m\u001b[1m \u001b[0m \u001b[1;38;5;39m \u001b[0m\u001b[1;38;5;39mindustry                     \u001b[0m\u001b[1;38;5;39m \u001b[0m \n",
       " ─────────────────────────────────────────────────────────────────── \n",
       " \u001b[1m \u001b[0m\u001b[1m1640147\u001b[0m\u001b[1m \u001b[0m \u001b[1m \u001b[0m\u001b[1mLarge accelerated filer\u001b[0m\u001b[1m \u001b[0m \u001b[1;38;5;39m \u001b[0m\u001b[1;38;5;39mServices-Prepackaged Software\u001b[0m\u001b[1;38;5;39m \u001b[0m \n",
       "                                                                     \n"
      ]
     },
     "execution_count": 20,
     "metadata": {},
     "output_type": "execute_result"
    }
   ],
   "source": [
    "company = Company(\"SNOW\")\n",
    "company"
   ]
  },
  {
   "cell_type": "code",
   "execution_count": 21,
   "id": "c3d64d97",
   "metadata": {},
   "outputs": [
    {
     "data": {
      "text/html": [
       "<pre style=\"white-space:pre;overflow-x:auto;line-height:normal;font-family:Menlo,'DejaVu Sans Mono',consolas,'Courier New',monospace\"></pre>\n"
      ],
      "text/plain": []
     },
     "metadata": {},
     "output_type": "display_data"
    },
    {
     "data": {
      "text/plain": [
       "\u001b[1m            Filings for Snowflake Inc. [1640147]            \u001b[0m\n",
       "                                                            \n",
       " \u001b[1m \u001b[0m\u001b[1m  \u001b[0m\u001b[1m \u001b[0m \u001b[1;38;5;71m \u001b[0m\u001b[1;38;5;71mform    \u001b[0m\u001b[1;38;5;71m \u001b[0m \u001b[1;38;5;39m \u001b[0m\u001b[1;38;5;39mfiled     \u001b[0m\u001b[1;38;5;39m \u001b[0m \u001b[1m \u001b[0m\u001b[1maccession_number    \u001b[0m\u001b[1m \u001b[0m \u001b[1m \u001b[0m\u001b[1mxbrl\u001b[0m\u001b[1m \u001b[0m \n",
       " ────────────────────────────────────────────────────────── \n",
       " \u001b[1m \u001b[0m\u001b[1m0 \u001b[0m\u001b[1m \u001b[0m \u001b[1;38;5;71m \u001b[0m\u001b[1;38;5;71mSC 13G/A\u001b[0m\u001b[1;38;5;71m \u001b[0m \u001b[1;38;5;39m \u001b[0m\u001b[1;38;5;39m2023-02-14\u001b[0m\u001b[1;38;5;39m \u001b[0m \u001b[1m \u001b[0m\u001b[1m0001193125-23-037410\u001b[0m\u001b[1m \u001b[0m \u001b[1m \u001b[0m\u001b[1m    \u001b[0m\u001b[1m \u001b[0m \n",
       "  1   \u001b[38;5;71m \u001b[0m\u001b[38;5;71mSC 13G/A\u001b[0m\u001b[38;5;71m \u001b[0m \u001b[38;5;39m \u001b[0m\u001b[38;5;39m2023-02-09\u001b[0m\u001b[38;5;39m \u001b[0m  0001104659-23-016977         \n",
       " \u001b[1m \u001b[0m\u001b[1m2 \u001b[0m\u001b[1m \u001b[0m \u001b[1;38;5;71m \u001b[0m\u001b[1;38;5;71mSC 13G/A\u001b[0m\u001b[1;38;5;71m \u001b[0m \u001b[1;38;5;39m \u001b[0m\u001b[1;38;5;39m2023-01-09\u001b[0m\u001b[1;38;5;39m \u001b[0m \u001b[1m \u001b[0m\u001b[1m0001541617-23-000001\u001b[0m\u001b[1m \u001b[0m \u001b[1m \u001b[0m\u001b[1m    \u001b[0m\u001b[1m \u001b[0m \n",
       "  3   \u001b[38;5;71m \u001b[0m\u001b[38;5;71m4       \u001b[0m\u001b[38;5;71m \u001b[0m \u001b[38;5;39m \u001b[0m\u001b[38;5;39m2022-12-14\u001b[0m\u001b[38;5;39m \u001b[0m  0001640147-22-000110         \n",
       " \u001b[1m \u001b[0m\u001b[1m4 \u001b[0m\u001b[1m \u001b[0m \u001b[1;38;5;71m \u001b[0m\u001b[1;38;5;71m4       \u001b[0m\u001b[1;38;5;71m \u001b[0m \u001b[1;38;5;39m \u001b[0m\u001b[1;38;5;39m2022-12-14\u001b[0m\u001b[1;38;5;39m \u001b[0m \u001b[1m \u001b[0m\u001b[1m0001062993-22-023890\u001b[0m\u001b[1m \u001b[0m \u001b[1m \u001b[0m\u001b[1m    \u001b[0m\u001b[1m \u001b[0m \n",
       "  5   \u001b[38;5;71m \u001b[0m\u001b[38;5;71m4       \u001b[0m\u001b[38;5;71m \u001b[0m \u001b[38;5;39m \u001b[0m\u001b[38;5;39m2022-12-12\u001b[0m\u001b[38;5;39m \u001b[0m  0001640147-22-000108         \n",
       " \u001b[1m \u001b[0m\u001b[1m6 \u001b[0m\u001b[1m \u001b[0m \u001b[1;38;5;71m \u001b[0m\u001b[1;38;5;71m4       \u001b[0m\u001b[1;38;5;71m \u001b[0m \u001b[1;38;5;39m \u001b[0m\u001b[1;38;5;39m2022-12-12\u001b[0m\u001b[1;38;5;39m \u001b[0m \u001b[1m \u001b[0m\u001b[1m0001640147-22-000107\u001b[0m\u001b[1m \u001b[0m \u001b[1m \u001b[0m\u001b[1m    \u001b[0m\u001b[1m \u001b[0m \n",
       "  7   \u001b[38;5;71m \u001b[0m\u001b[38;5;71m4       \u001b[0m\u001b[38;5;71m \u001b[0m \u001b[38;5;39m \u001b[0m\u001b[38;5;39m2022-12-12\u001b[0m\u001b[38;5;39m \u001b[0m  0001640147-22-000106         \n",
       " \u001b[1m \u001b[0m\u001b[1m8 \u001b[0m\u001b[1m \u001b[0m \u001b[1;38;5;71m \u001b[0m\u001b[1;38;5;71m4       \u001b[0m\u001b[1;38;5;71m \u001b[0m \u001b[1;38;5;39m \u001b[0m\u001b[1;38;5;39m2022-12-12\u001b[0m\u001b[1;38;5;39m \u001b[0m \u001b[1m \u001b[0m\u001b[1m0001640147-22-000105\u001b[0m\u001b[1m \u001b[0m \u001b[1m \u001b[0m\u001b[1m    \u001b[0m\u001b[1m \u001b[0m \n",
       "  9   \u001b[38;5;71m \u001b[0m\u001b[38;5;71mSC 13G/A\u001b[0m\u001b[38;5;71m \u001b[0m \u001b[38;5;39m \u001b[0m\u001b[38;5;39m2022-12-12\u001b[0m\u001b[38;5;39m \u001b[0m  0000895421-22-000660         \n",
       " \u001b[1m \u001b[0m\u001b[1m10\u001b[0m\u001b[1m \u001b[0m \u001b[1;38;5;71m \u001b[0m\u001b[1;38;5;71m10-Q    \u001b[0m\u001b[1;38;5;71m \u001b[0m \u001b[1;38;5;39m \u001b[0m\u001b[1;38;5;39m2022-12-02\u001b[0m\u001b[1;38;5;39m \u001b[0m \u001b[1m \u001b[0m\u001b[1m0001640147-22-000100\u001b[0m\u001b[1m \u001b[0m \u001b[1m \u001b[0m\u001b[1m✓   \u001b[0m\u001b[1m \u001b[0m \n",
       "  11  \u001b[38;5;71m \u001b[0m\u001b[38;5;71m8-K     \u001b[0m\u001b[38;5;71m \u001b[0m \u001b[38;5;39m \u001b[0m\u001b[38;5;39m2022-11-30\u001b[0m\u001b[38;5;39m \u001b[0m  0001640147-22-000097   ✓     \n",
       " \u001b[1m \u001b[0m\u001b[1m12\u001b[0m\u001b[1m \u001b[0m \u001b[1;38;5;71m \u001b[0m\u001b[1;38;5;71m4       \u001b[0m\u001b[1;38;5;71m \u001b[0m \u001b[1;38;5;39m \u001b[0m\u001b[1;38;5;39m2022-09-13\u001b[0m\u001b[1;38;5;39m \u001b[0m \u001b[1m \u001b[0m\u001b[1m0001062993-22-019520\u001b[0m\u001b[1m \u001b[0m \u001b[1m \u001b[0m\u001b[1m    \u001b[0m\u001b[1m \u001b[0m \n",
       "  13  \u001b[38;5;71m \u001b[0m\u001b[38;5;71m4       \u001b[0m\u001b[38;5;71m \u001b[0m \u001b[38;5;39m \u001b[0m\u001b[38;5;39m2022-09-12\u001b[0m\u001b[38;5;39m \u001b[0m  0001640147-22-000092         \n",
       " \u001b[1m \u001b[0m\u001b[1m14\u001b[0m\u001b[1m \u001b[0m \u001b[1;38;5;71m \u001b[0m\u001b[1;38;5;71m4       \u001b[0m\u001b[1;38;5;71m \u001b[0m \u001b[1;38;5;39m \u001b[0m\u001b[1;38;5;39m2022-09-12\u001b[0m\u001b[1;38;5;39m \u001b[0m \u001b[1m \u001b[0m\u001b[1m0001640147-22-000091\u001b[0m\u001b[1m \u001b[0m \u001b[1m \u001b[0m\u001b[1m    \u001b[0m\u001b[1m \u001b[0m \n",
       "  15  \u001b[38;5;71m \u001b[0m\u001b[38;5;71m4       \u001b[0m\u001b[38;5;71m \u001b[0m \u001b[38;5;39m \u001b[0m\u001b[38;5;39m2022-09-12\u001b[0m\u001b[38;5;39m \u001b[0m  0001640147-22-000090         \n",
       " \u001b[1m \u001b[0m\u001b[1m16\u001b[0m\u001b[1m \u001b[0m \u001b[1;38;5;71m \u001b[0m\u001b[1;38;5;71m4       \u001b[0m\u001b[1;38;5;71m \u001b[0m \u001b[1;38;5;39m \u001b[0m\u001b[1;38;5;39m2022-09-12\u001b[0m\u001b[1;38;5;39m \u001b[0m \u001b[1m \u001b[0m\u001b[1m0001640147-22-000089\u001b[0m\u001b[1m \u001b[0m \u001b[1m \u001b[0m\u001b[1m    \u001b[0m\u001b[1m \u001b[0m \n",
       "  17  \u001b[38;5;71m \u001b[0m\u001b[38;5;71m10-Q    \u001b[0m\u001b[38;5;71m \u001b[0m \u001b[38;5;39m \u001b[0m\u001b[38;5;39m2022-09-01\u001b[0m\u001b[38;5;39m \u001b[0m  0001640147-22-000084   ✓     \n",
       " \u001b[1m \u001b[0m\u001b[1m18\u001b[0m\u001b[1m \u001b[0m \u001b[1;38;5;71m \u001b[0m\u001b[1;38;5;71m4       \u001b[0m\u001b[1;38;5;71m \u001b[0m \u001b[1;38;5;39m \u001b[0m\u001b[1;38;5;39m2022-08-30\u001b[0m\u001b[1;38;5;39m \u001b[0m \u001b[1m \u001b[0m\u001b[1m0001640147-22-000081\u001b[0m\u001b[1m \u001b[0m \u001b[1m \u001b[0m\u001b[1m    \u001b[0m\u001b[1m \u001b[0m \n",
       "  19  \u001b[38;5;71m \u001b[0m\u001b[38;5;71m8-K     \u001b[0m\u001b[38;5;71m \u001b[0m \u001b[38;5;39m \u001b[0m\u001b[38;5;39m2022-08-24\u001b[0m\u001b[38;5;39m \u001b[0m  0001640147-22-000078   ✓     \n",
       " \u001b[1m \u001b[0m\u001b[1m20\u001b[0m\u001b[1m \u001b[0m \u001b[1;38;5;71m \u001b[0m\u001b[1;38;5;71m8-K     \u001b[0m\u001b[1;38;5;71m \u001b[0m \u001b[1;38;5;39m \u001b[0m\u001b[1;38;5;39m2022-07-12\u001b[0m\u001b[1;38;5;39m \u001b[0m \u001b[1m \u001b[0m\u001b[1m0001640147-22-000074\u001b[0m\u001b[1m \u001b[0m \u001b[1m \u001b[0m\u001b[1m✓   \u001b[0m\u001b[1m \u001b[0m \n",
       "  21  \u001b[38;5;71m \u001b[0m\u001b[38;5;71m4       \u001b[0m\u001b[38;5;71m \u001b[0m \u001b[38;5;39m \u001b[0m\u001b[38;5;39m2022-07-11\u001b[0m\u001b[38;5;39m \u001b[0m  0001225208-22-008759         \n",
       " \u001b[1m \u001b[0m\u001b[1m22\u001b[0m\u001b[1m \u001b[0m \u001b[1;38;5;71m \u001b[0m\u001b[1;38;5;71m4       \u001b[0m\u001b[1;38;5;71m \u001b[0m \u001b[1;38;5;39m \u001b[0m\u001b[1;38;5;39m2022-07-11\u001b[0m\u001b[1;38;5;39m \u001b[0m \u001b[1m \u001b[0m\u001b[1m0001640147-22-000072\u001b[0m\u001b[1m \u001b[0m \u001b[1m \u001b[0m\u001b[1m    \u001b[0m\u001b[1m \u001b[0m \n",
       "  23  \u001b[38;5;71m \u001b[0m\u001b[38;5;71m4       \u001b[0m\u001b[38;5;71m \u001b[0m \u001b[38;5;39m \u001b[0m\u001b[38;5;39m2022-07-11\u001b[0m\u001b[38;5;39m \u001b[0m  0001640147-22-000071         \n",
       " \u001b[1m \u001b[0m\u001b[1m24\u001b[0m\u001b[1m \u001b[0m \u001b[1;38;5;71m \u001b[0m\u001b[1;38;5;71m4       \u001b[0m\u001b[1;38;5;71m \u001b[0m \u001b[1;38;5;39m \u001b[0m\u001b[1;38;5;39m2022-07-11\u001b[0m\u001b[1;38;5;39m \u001b[0m \u001b[1m \u001b[0m\u001b[1m0001640147-22-000070\u001b[0m\u001b[1m \u001b[0m \u001b[1m \u001b[0m\u001b[1m    \u001b[0m\u001b[1m \u001b[0m \n",
       "  25  \u001b[38;5;71m \u001b[0m\u001b[38;5;71m4       \u001b[0m\u001b[38;5;71m \u001b[0m \u001b[38;5;39m \u001b[0m\u001b[38;5;39m2022-07-11\u001b[0m\u001b[38;5;39m \u001b[0m  0001640147-22-000069         \n",
       " \u001b[1m \u001b[0m\u001b[1m26\u001b[0m\u001b[1m \u001b[0m \u001b[1;38;5;71m \u001b[0m\u001b[1;38;5;71m4       \u001b[0m\u001b[1;38;5;71m \u001b[0m \u001b[1;38;5;39m \u001b[0m\u001b[1;38;5;39m2022-07-11\u001b[0m\u001b[1;38;5;39m \u001b[0m \u001b[1m \u001b[0m\u001b[1m0001640147-22-000068\u001b[0m\u001b[1m \u001b[0m \u001b[1m \u001b[0m\u001b[1m    \u001b[0m\u001b[1m \u001b[0m \n",
       "  27  \u001b[38;5;71m \u001b[0m\u001b[38;5;71m4       \u001b[0m\u001b[38;5;71m \u001b[0m \u001b[38;5;39m \u001b[0m\u001b[38;5;39m2022-07-11\u001b[0m\u001b[38;5;39m \u001b[0m  0001640147-22-000067         \n",
       " \u001b[1m \u001b[0m\u001b[1m28\u001b[0m\u001b[1m \u001b[0m \u001b[1;38;5;71m \u001b[0m\u001b[1;38;5;71m4       \u001b[0m\u001b[1;38;5;71m \u001b[0m \u001b[1;38;5;39m \u001b[0m\u001b[1;38;5;39m2022-07-11\u001b[0m\u001b[1;38;5;39m \u001b[0m \u001b[1m \u001b[0m\u001b[1m0001640147-22-000066\u001b[0m\u001b[1m \u001b[0m \u001b[1m \u001b[0m\u001b[1m    \u001b[0m\u001b[1m \u001b[0m \n",
       "  29  \u001b[38;5;71m \u001b[0m\u001b[38;5;71m4       \u001b[0m\u001b[38;5;71m \u001b[0m \u001b[38;5;39m \u001b[0m\u001b[38;5;39m2022-07-05\u001b[0m\u001b[38;5;39m \u001b[0m  0001640147-22-000056         \n",
       " \u001b[1m \u001b[0m\u001b[1m30\u001b[0m\u001b[1m \u001b[0m \u001b[1;38;5;71m \u001b[0m\u001b[1;38;5;71m4       \u001b[0m\u001b[1;38;5;71m \u001b[0m \u001b[1;38;5;39m \u001b[0m\u001b[1;38;5;39m2022-06-10\u001b[0m\u001b[1;38;5;39m \u001b[0m \u001b[1m \u001b[0m\u001b[1m0001640147-22-000052\u001b[0m\u001b[1m \u001b[0m \u001b[1m \u001b[0m\u001b[1m    \u001b[0m\u001b[1m \u001b[0m \n",
       "  31  \u001b[38;5;71m \u001b[0m\u001b[38;5;71m4       \u001b[0m\u001b[38;5;71m \u001b[0m \u001b[38;5;39m \u001b[0m\u001b[38;5;39m2022-06-10\u001b[0m\u001b[38;5;39m \u001b[0m  0001640147-22-000051         \n",
       " \u001b[1m \u001b[0m\u001b[1m32\u001b[0m\u001b[1m \u001b[0m \u001b[1;38;5;71m \u001b[0m\u001b[1;38;5;71m4       \u001b[0m\u001b[1;38;5;71m \u001b[0m \u001b[1;38;5;39m \u001b[0m\u001b[1;38;5;39m2022-06-10\u001b[0m\u001b[1;38;5;39m \u001b[0m \u001b[1m \u001b[0m\u001b[1m0001640147-22-000050\u001b[0m\u001b[1m \u001b[0m \u001b[1m \u001b[0m\u001b[1m    \u001b[0m\u001b[1m \u001b[0m \n",
       "  33  \u001b[38;5;71m \u001b[0m\u001b[38;5;71m4       \u001b[0m\u001b[38;5;71m \u001b[0m \u001b[38;5;39m \u001b[0m\u001b[38;5;39m2022-06-10\u001b[0m\u001b[38;5;39m \u001b[0m  0001640147-22-000049         \n",
       " \u001b[1m \u001b[0m\u001b[1m34\u001b[0m\u001b[1m \u001b[0m \u001b[1;38;5;71m \u001b[0m\u001b[1;38;5;71m10-Q    \u001b[0m\u001b[1;38;5;71m \u001b[0m \u001b[1;38;5;39m \u001b[0m\u001b[1;38;5;39m2022-06-03\u001b[0m\u001b[1;38;5;39m \u001b[0m \u001b[1m \u001b[0m\u001b[1m0001640147-22-000044\u001b[0m\u001b[1m \u001b[0m \u001b[1m \u001b[0m\u001b[1m✓   \u001b[0m\u001b[1m \u001b[0m \n",
       "  35  \u001b[38;5;71m \u001b[0m\u001b[38;5;71mDEFA14A \u001b[0m\u001b[38;5;71m \u001b[0m \u001b[38;5;39m \u001b[0m\u001b[38;5;39m2022-05-27\u001b[0m\u001b[38;5;39m \u001b[0m  0001640147-22-000039         \n",
       " \u001b[1m \u001b[0m\u001b[1m36\u001b[0m\u001b[1m \u001b[0m \u001b[1;38;5;71m \u001b[0m\u001b[1;38;5;71mDEF 14A \u001b[0m\u001b[1;38;5;71m \u001b[0m \u001b[1;38;5;39m \u001b[0m\u001b[1;38;5;39m2022-05-27\u001b[0m\u001b[1;38;5;39m \u001b[0m \u001b[1m \u001b[0m\u001b[1m0001640147-22-000038\u001b[0m\u001b[1m \u001b[0m \u001b[1m \u001b[0m\u001b[1m    \u001b[0m\u001b[1m \u001b[0m \n",
       "  37  \u001b[38;5;71m \u001b[0m\u001b[38;5;71m8-K     \u001b[0m\u001b[38;5;71m \u001b[0m \u001b[38;5;39m \u001b[0m\u001b[38;5;39m2022-05-25\u001b[0m\u001b[38;5;39m \u001b[0m  0001640147-22-000031   ✓     \n",
       " \u001b[1m \u001b[0m\u001b[1m38\u001b[0m\u001b[1m \u001b[0m \u001b[1;38;5;71m \u001b[0m\u001b[1;38;5;71m4       \u001b[0m\u001b[1;38;5;71m \u001b[0m \u001b[1;38;5;39m \u001b[0m\u001b[1;38;5;39m2022-05-10\u001b[0m\u001b[1;38;5;39m \u001b[0m \u001b[1m \u001b[0m\u001b[1m0001062993-22-012036\u001b[0m\u001b[1m \u001b[0m \u001b[1m \u001b[0m\u001b[1m    \u001b[0m\u001b[1m \u001b[0m \n",
       "  39  \u001b[38;5;71m \u001b[0m\u001b[38;5;71mD       \u001b[0m\u001b[38;5;71m \u001b[0m \u001b[38;5;39m \u001b[0m\u001b[38;5;39m2022-04-20\u001b[0m\u001b[38;5;39m \u001b[0m  0001640147-22-000027         \n",
       " \u001b[1m \u001b[0m\u001b[1m40\u001b[0m\u001b[1m \u001b[0m \u001b[1;38;5;71m \u001b[0m\u001b[1;38;5;71mS-8     \u001b[0m\u001b[1;38;5;71m \u001b[0m \u001b[1;38;5;39m \u001b[0m\u001b[1;38;5;39m2022-03-30\u001b[0m\u001b[1;38;5;39m \u001b[0m \u001b[1m \u001b[0m\u001b[1m0001640147-22-000026\u001b[0m\u001b[1m \u001b[0m \u001b[1m \u001b[0m\u001b[1m    \u001b[0m\u001b[1m \u001b[0m \n",
       "  41  \u001b[38;5;71m \u001b[0m\u001b[38;5;71m10-K    \u001b[0m\u001b[38;5;71m \u001b[0m \u001b[38;5;39m \u001b[0m\u001b[38;5;39m2022-03-30\u001b[0m\u001b[38;5;39m \u001b[0m  0001640147-22-000023   ✓     \n",
       " \u001b[1m \u001b[0m\u001b[1m42\u001b[0m\u001b[1m \u001b[0m \u001b[1;38;5;71m \u001b[0m\u001b[1;38;5;71m4       \u001b[0m\u001b[1;38;5;71m \u001b[0m \u001b[1;38;5;39m \u001b[0m\u001b[1;38;5;39m2022-03-21\u001b[0m\u001b[1;38;5;39m \u001b[0m \u001b[1m \u001b[0m\u001b[1m0001225208-22-004947\u001b[0m\u001b[1m \u001b[0m \u001b[1m \u001b[0m\u001b[1m    \u001b[0m\u001b[1m \u001b[0m \n",
       "  43  \u001b[38;5;71m \u001b[0m\u001b[38;5;71m5       \u001b[0m\u001b[38;5;71m \u001b[0m \u001b[38;5;39m \u001b[0m\u001b[38;5;39m2022-03-11\u001b[0m\u001b[38;5;39m \u001b[0m  0001640147-22-000015         \n",
       " \u001b[1m \u001b[0m\u001b[1m44\u001b[0m\u001b[1m \u001b[0m \u001b[1;38;5;71m \u001b[0m\u001b[1;38;5;71m4       \u001b[0m\u001b[1;38;5;71m \u001b[0m \u001b[1;38;5;39m \u001b[0m\u001b[1;38;5;39m2022-03-11\u001b[0m\u001b[1;38;5;39m \u001b[0m \u001b[1m \u001b[0m\u001b[1m0001640147-22-000014\u001b[0m\u001b[1m \u001b[0m \u001b[1m \u001b[0m\u001b[1m    \u001b[0m\u001b[1m \u001b[0m \n",
       "  45  \u001b[38;5;71m \u001b[0m\u001b[38;5;71m4       \u001b[0m\u001b[38;5;71m \u001b[0m \u001b[38;5;39m \u001b[0m\u001b[38;5;39m2022-03-11\u001b[0m\u001b[38;5;39m \u001b[0m  0001640147-22-000013         \n",
       " \u001b[1m \u001b[0m\u001b[1m46\u001b[0m\u001b[1m \u001b[0m \u001b[1;38;5;71m \u001b[0m\u001b[1;38;5;71m4       \u001b[0m\u001b[1;38;5;71m \u001b[0m \u001b[1;38;5;39m \u001b[0m\u001b[1;38;5;39m2022-03-11\u001b[0m\u001b[1;38;5;39m \u001b[0m \u001b[1m \u001b[0m\u001b[1m0001640147-22-000012\u001b[0m\u001b[1m \u001b[0m \u001b[1m \u001b[0m\u001b[1m    \u001b[0m\u001b[1m \u001b[0m \n",
       "  47  \u001b[38;5;71m \u001b[0m\u001b[38;5;71m4       \u001b[0m\u001b[38;5;71m \u001b[0m \u001b[38;5;39m \u001b[0m\u001b[38;5;39m2022-03-11\u001b[0m\u001b[38;5;39m \u001b[0m  0001640147-22-000011         \n",
       " \u001b[1m \u001b[0m\u001b[1m48\u001b[0m\u001b[1m \u001b[0m \u001b[1;38;5;71m \u001b[0m\u001b[1;38;5;71m4       \u001b[0m\u001b[1;38;5;71m \u001b[0m \u001b[1;38;5;39m \u001b[0m\u001b[1;38;5;39m2022-03-11\u001b[0m\u001b[1;38;5;39m \u001b[0m \u001b[1m \u001b[0m\u001b[1m0001062993-22-007514\u001b[0m\u001b[1m \u001b[0m \u001b[1m \u001b[0m\u001b[1m    \u001b[0m\u001b[1m \u001b[0m \n",
       "  49  \u001b[38;5;71m \u001b[0m\u001b[38;5;71m8-K     \u001b[0m\u001b[38;5;71m \u001b[0m \u001b[38;5;39m \u001b[0m\u001b[38;5;39m2022-03-02\u001b[0m\u001b[38;5;39m \u001b[0m  0001640147-22-000005   ✓     \n",
       "                                                            \n",
       "Showing 50 filings of 325 total"
      ]
     },
     "execution_count": 21,
     "metadata": {},
     "output_type": "execute_result"
    }
   ],
   "source": [
    "company.get_filings()"
   ]
  },
  {
   "cell_type": "markdown",
   "id": "0c2049a2",
   "metadata": {},
   "source": [
    "# Effect filings\n",
    "<hr/>"
   ]
  },
  {
   "cell_type": "code",
   "execution_count": 22,
   "id": "aaa196cd",
   "metadata": {},
   "outputs": [
    {
     "data": {
      "text/html": [
       "<pre style=\"white-space:pre;overflow-x:auto;line-height:normal;font-family:Menlo,'DejaVu Sans Mono',consolas,'Courier New',monospace\"></pre>\n"
      ],
      "text/plain": []
     },
     "metadata": {},
     "output_type": "display_data"
    },
    {
     "data": {
      "text/plain": [
       "\u001b[1m                                                  Filings                                                  \u001b[0m\n",
       "                                                                                                           \n",
       " \u001b[1m \u001b[0m\u001b[1m  \u001b[0m\u001b[1m \u001b[0m \u001b[1;38;5;71m \u001b[0m\u001b[1;38;5;71mform  \u001b[0m\u001b[1;38;5;71m \u001b[0m \u001b[1m \u001b[0m\u001b[1mcompany                                   \u001b[0m\u001b[1m \u001b[0m \u001b[1m \u001b[0m\u001b[1mcik    \u001b[0m\u001b[1m \u001b[0m \u001b[1;38;5;39m \u001b[0m\u001b[1;38;5;39mfiling_date\u001b[0m\u001b[1;38;5;39m \u001b[0m \u001b[1m \u001b[0m\u001b[1maccession_number    \u001b[0m\u001b[1m \u001b[0m \n",
       " ───────────────────────────────────────────────────────────────────────────────────────────────────────── \n",
       " \u001b[1m \u001b[0m\u001b[1m0 \u001b[0m\u001b[1m \u001b[0m \u001b[1;38;5;71m \u001b[0m\u001b[1;38;5;71mEFFECT\u001b[0m\u001b[1;38;5;71m \u001b[0m \u001b[1m \u001b[0m\u001b[1m1847 Holdings LLC                         \u001b[0m\u001b[1m \u001b[0m \u001b[1m \u001b[0m\u001b[1m1599407\u001b[0m\u001b[1m \u001b[0m \u001b[1;38;5;39m \u001b[0m\u001b[1;38;5;39m2023-02-13 \u001b[0m\u001b[1;38;5;39m \u001b[0m \u001b[1m \u001b[0m\u001b[1m9999999995-23-000407\u001b[0m\u001b[1m \u001b[0m \n",
       "  1   \u001b[38;5;71m \u001b[0m\u001b[38;5;71mEFFECT\u001b[0m\u001b[38;5;71m \u001b[0m  Atara Biotherapeutics, Inc.                  1604464  \u001b[38;5;39m \u001b[0m\u001b[38;5;39m2023-02-13 \u001b[0m\u001b[38;5;39m \u001b[0m  9999999995-23-000387  \n",
       " \u001b[1m \u001b[0m\u001b[1m2 \u001b[0m\u001b[1m \u001b[0m \u001b[1;38;5;71m \u001b[0m\u001b[1;38;5;71mEFFECT\u001b[0m\u001b[1;38;5;71m \u001b[0m \u001b[1m \u001b[0m\u001b[1mBigBear.ai Holdings, Inc.                 \u001b[0m\u001b[1m \u001b[0m \u001b[1m \u001b[0m\u001b[1m1836981\u001b[0m\u001b[1m \u001b[0m \u001b[1;38;5;39m \u001b[0m\u001b[1;38;5;39m2023-02-13 \u001b[0m\u001b[1;38;5;39m \u001b[0m \u001b[1m \u001b[0m\u001b[1m9999999995-23-000404\u001b[0m\u001b[1m \u001b[0m \n",
       "  3   \u001b[38;5;71m \u001b[0m\u001b[38;5;71mEFFECT\u001b[0m\u001b[38;5;71m \u001b[0m  Bridger Aerospace Group Holdings, Inc.       1941536  \u001b[38;5;39m \u001b[0m\u001b[38;5;39m2023-02-13 \u001b[0m\u001b[38;5;39m \u001b[0m  9999999995-23-000403  \n",
       " \u001b[1m \u001b[0m\u001b[1m4 \u001b[0m\u001b[1m \u001b[0m \u001b[1;38;5;71m \u001b[0m\u001b[1;38;5;71mEFFECT\u001b[0m\u001b[1;38;5;71m \u001b[0m \u001b[1m \u001b[0m\u001b[1mBullFrog AI Holdings, Inc.                \u001b[0m\u001b[1m \u001b[0m \u001b[1m \u001b[0m\u001b[1m1829247\u001b[0m\u001b[1m \u001b[0m \u001b[1;38;5;39m \u001b[0m\u001b[1;38;5;39m2023-02-13 \u001b[0m\u001b[1;38;5;39m \u001b[0m \u001b[1m \u001b[0m\u001b[1m9999999995-23-000395\u001b[0m\u001b[1m \u001b[0m \n",
       "  5   \u001b[38;5;71m \u001b[0m\u001b[38;5;71mEFFECT\u001b[0m\u001b[38;5;71m \u001b[0m  CASI Pharmaceuticals Holdings, Inc.          1962738  \u001b[38;5;39m \u001b[0m\u001b[38;5;39m2023-02-13 \u001b[0m\u001b[38;5;39m \u001b[0m  9999999995-23-000406  \n",
       " \u001b[1m \u001b[0m\u001b[1m6 \u001b[0m\u001b[1m \u001b[0m \u001b[1;38;5;71m \u001b[0m\u001b[1;38;5;71mEFFECT\u001b[0m\u001b[1;38;5;71m \u001b[0m \u001b[1m \u001b[0m\u001b[1mCXApp Holding Corp.                       \u001b[0m\u001b[1m \u001b[0m \u001b[1m \u001b[0m\u001b[1m1949289\u001b[0m\u001b[1m \u001b[0m \u001b[1;38;5;39m \u001b[0m\u001b[1;38;5;39m2023-02-13 \u001b[0m\u001b[1;38;5;39m \u001b[0m \u001b[1m \u001b[0m\u001b[1m9999999995-23-000396\u001b[0m\u001b[1m \u001b[0m \n",
       "  7   \u001b[38;5;71m \u001b[0m\u001b[38;5;71mEFFECT\u001b[0m\u001b[38;5;71m \u001b[0m  Cyclo Therapeutics, Inc.                     922247   \u001b[38;5;39m \u001b[0m\u001b[38;5;39m2023-02-13 \u001b[0m\u001b[38;5;39m \u001b[0m  9999999995-23-000402  \n",
       " \u001b[1m \u001b[0m\u001b[1m8 \u001b[0m\u001b[1m \u001b[0m \u001b[1;38;5;71m \u001b[0m\u001b[1;38;5;71mEFFECT\u001b[0m\u001b[1;38;5;71m \u001b[0m \u001b[1m \u001b[0m\u001b[1mDUOS TECHNOLOGIES GROUP, INC.             \u001b[0m\u001b[1m \u001b[0m \u001b[1m \u001b[0m\u001b[1m1396536\u001b[0m\u001b[1m \u001b[0m \u001b[1;38;5;39m \u001b[0m\u001b[1;38;5;39m2023-02-13 \u001b[0m\u001b[1;38;5;39m \u001b[0m \u001b[1m \u001b[0m\u001b[1m9999999995-23-000397\u001b[0m\u001b[1m \u001b[0m \n",
       "  9   \u001b[38;5;71m \u001b[0m\u001b[38;5;71mEFFECT\u001b[0m\u001b[38;5;71m \u001b[0m  Distoken Acquisition Corp                    1818605  \u001b[38;5;39m \u001b[0m\u001b[38;5;39m2023-02-13 \u001b[0m\u001b[38;5;39m \u001b[0m  9999999995-23-000386  \n",
       " \u001b[1m \u001b[0m\u001b[1m10\u001b[0m\u001b[1m \u001b[0m \u001b[1;38;5;71m \u001b[0m\u001b[1;38;5;71mEFFECT\u001b[0m\u001b[1;38;5;71m \u001b[0m \u001b[1m \u001b[0m\u001b[1mEargo, Inc.                               \u001b[0m\u001b[1m \u001b[0m \u001b[1m \u001b[0m\u001b[1m1719395\u001b[0m\u001b[1m \u001b[0m \u001b[1;38;5;39m \u001b[0m\u001b[1;38;5;39m2023-02-13 \u001b[0m\u001b[1;38;5;39m \u001b[0m \u001b[1m \u001b[0m\u001b[1m9999999995-23-000398\u001b[0m\u001b[1m \u001b[0m \n",
       "  11  \u001b[38;5;71m \u001b[0m\u001b[38;5;71mEFFECT\u001b[0m\u001b[38;5;71m \u001b[0m  FIVE STAR BANCORP                            1275168  \u001b[38;5;39m \u001b[0m\u001b[38;5;39m2023-02-13 \u001b[0m\u001b[38;5;39m \u001b[0m  9999999995-23-000408  \n",
       " \u001b[1m \u001b[0m\u001b[1m12\u001b[0m\u001b[1m \u001b[0m \u001b[1;38;5;71m \u001b[0m\u001b[1;38;5;71mEFFECT\u001b[0m\u001b[1;38;5;71m \u001b[0m \u001b[1m \u001b[0m\u001b[1mGOLDMAN SACHS CAPITAL I                   \u001b[0m\u001b[1m \u001b[0m \u001b[1m \u001b[0m\u001b[1m1277121\u001b[0m\u001b[1m \u001b[0m \u001b[1;38;5;39m \u001b[0m\u001b[1;38;5;39m2023-02-13 \u001b[0m\u001b[1;38;5;39m \u001b[0m \u001b[1m \u001b[0m\u001b[1m9999999995-23-000401\u001b[0m\u001b[1m \u001b[0m \n",
       "  13  \u001b[38;5;71m \u001b[0m\u001b[38;5;71mEFFECT\u001b[0m\u001b[38;5;71m \u001b[0m  GOLDMAN SACHS CAPITAL II                     1277127  \u001b[38;5;39m \u001b[0m\u001b[38;5;39m2023-02-13 \u001b[0m\u001b[38;5;39m \u001b[0m  9999999995-23-000401  \n",
       " \u001b[1m \u001b[0m\u001b[1m14\u001b[0m\u001b[1m \u001b[0m \u001b[1;38;5;71m \u001b[0m\u001b[1;38;5;71mEFFECT\u001b[0m\u001b[1;38;5;71m \u001b[0m \u001b[1m \u001b[0m\u001b[1mGOLDMAN SACHS GROUP INC                   \u001b[0m\u001b[1m \u001b[0m \u001b[1m \u001b[0m\u001b[1m886982 \u001b[0m\u001b[1m \u001b[0m \u001b[1;38;5;39m \u001b[0m\u001b[1;38;5;39m2023-02-13 \u001b[0m\u001b[1;38;5;39m \u001b[0m \u001b[1m \u001b[0m\u001b[1m9999999995-23-000401\u001b[0m\u001b[1m \u001b[0m \n",
       "  15  \u001b[38;5;71m \u001b[0m\u001b[38;5;71mEFFECT\u001b[0m\u001b[38;5;71m \u001b[0m  GS Finance Corp.                             1419828  \u001b[38;5;39m \u001b[0m\u001b[38;5;39m2023-02-13 \u001b[0m\u001b[38;5;39m \u001b[0m  9999999995-23-000401  \n",
       " \u001b[1m \u001b[0m\u001b[1m16\u001b[0m\u001b[1m \u001b[0m \u001b[1;38;5;71m \u001b[0m\u001b[1;38;5;71mEFFECT\u001b[0m\u001b[1;38;5;71m \u001b[0m \u001b[1m \u001b[0m\u001b[1mGUGGENHEIM DEFINED PORTFOLIOS, SERIES 2287\u001b[0m\u001b[1m \u001b[0m \u001b[1m \u001b[0m\u001b[1m1902621\u001b[0m\u001b[1m \u001b[0m \u001b[1;38;5;39m \u001b[0m\u001b[1;38;5;39m2023-02-13 \u001b[0m\u001b[1;38;5;39m \u001b[0m \u001b[1m \u001b[0m\u001b[1m9999999995-23-000399\u001b[0m\u001b[1m \u001b[0m \n",
       "  17  \u001b[38;5;71m \u001b[0m\u001b[38;5;71mEFFECT\u001b[0m\u001b[38;5;71m \u001b[0m  Goldman Sachs Capital III                    1318844  \u001b[38;5;39m \u001b[0m\u001b[38;5;39m2023-02-13 \u001b[0m\u001b[38;5;39m \u001b[0m  9999999995-23-000401  \n",
       " \u001b[1m \u001b[0m\u001b[1m18\u001b[0m\u001b[1m \u001b[0m \u001b[1;38;5;71m \u001b[0m\u001b[1;38;5;71mEFFECT\u001b[0m\u001b[1;38;5;71m \u001b[0m \u001b[1m \u001b[0m\u001b[1mGoldman Sachs Capital VI                  \u001b[0m\u001b[1m \u001b[0m \u001b[1m \u001b[0m\u001b[1m1318841\u001b[0m\u001b[1m \u001b[0m \u001b[1;38;5;39m \u001b[0m\u001b[1;38;5;39m2023-02-13 \u001b[0m\u001b[1;38;5;39m \u001b[0m \u001b[1m \u001b[0m\u001b[1m9999999995-23-000401\u001b[0m\u001b[1m \u001b[0m \n",
       "  19  \u001b[38;5;71m \u001b[0m\u001b[38;5;71mEFFECT\u001b[0m\u001b[38;5;71m \u001b[0m  Goldman Sachs Capital VII                    1711023  \u001b[38;5;39m \u001b[0m\u001b[38;5;39m2023-02-13 \u001b[0m\u001b[38;5;39m \u001b[0m  9999999995-23-000401  \n",
       " \u001b[1m \u001b[0m\u001b[1m20\u001b[0m\u001b[1m \u001b[0m \u001b[1;38;5;71m \u001b[0m\u001b[1;38;5;71mEFFECT\u001b[0m\u001b[1;38;5;71m \u001b[0m \u001b[1m \u001b[0m\u001b[1mKINETA, INC./DE                           \u001b[0m\u001b[1m \u001b[0m \u001b[1m \u001b[0m\u001b[1m1445283\u001b[0m\u001b[1m \u001b[0m \u001b[1;38;5;39m \u001b[0m\u001b[1;38;5;39m2023-02-13 \u001b[0m\u001b[1;38;5;39m \u001b[0m \u001b[1m \u001b[0m\u001b[1m9999999995-23-000388\u001b[0m\u001b[1m \u001b[0m \n",
       "  21  \u001b[38;5;71m \u001b[0m\u001b[38;5;71mEFFECT\u001b[0m\u001b[38;5;71m \u001b[0m  KINS Technology Group, Inc.                  1820875  \u001b[38;5;39m \u001b[0m\u001b[38;5;39m2023-02-13 \u001b[0m\u001b[38;5;39m \u001b[0m  9999999995-23-000394  \n",
       " \u001b[1m \u001b[0m\u001b[1m22\u001b[0m\u001b[1m \u001b[0m \u001b[1;38;5;71m \u001b[0m\u001b[1;38;5;71mEFFECT\u001b[0m\u001b[1;38;5;71m \u001b[0m \u001b[1m \u001b[0m\u001b[1mKIORA PHARMACEUTICALS INC                 \u001b[0m\u001b[1m \u001b[0m \u001b[1m \u001b[0m\u001b[1m1372514\u001b[0m\u001b[1m \u001b[0m \u001b[1;38;5;39m \u001b[0m\u001b[1;38;5;39m2023-02-13 \u001b[0m\u001b[1;38;5;39m \u001b[0m \u001b[1m \u001b[0m\u001b[1m9999999995-23-000410\u001b[0m\u001b[1m \u001b[0m \n",
       "  23  \u001b[38;5;71m \u001b[0m\u001b[38;5;71mEFFECT\u001b[0m\u001b[38;5;71m \u001b[0m  KLUDEIN I ACQUISITION CORP                   1826671  \u001b[38;5;39m \u001b[0m\u001b[38;5;39m2023-02-13 \u001b[0m\u001b[38;5;39m \u001b[0m  9999999995-23-000390  \n",
       " \u001b[1m \u001b[0m\u001b[1m24\u001b[0m\u001b[1m \u001b[0m \u001b[1;38;5;71m \u001b[0m\u001b[1;38;5;71mEFFECT\u001b[0m\u001b[1;38;5;71m \u001b[0m \u001b[1m \u001b[0m\u001b[1mL A M Y                                   \u001b[0m\u001b[1m \u001b[0m \u001b[1m \u001b[0m\u001b[1m1939937\u001b[0m\u001b[1m \u001b[0m \u001b[1;38;5;39m \u001b[0m\u001b[1;38;5;39m2023-02-13 \u001b[0m\u001b[1;38;5;39m \u001b[0m \u001b[1m \u001b[0m\u001b[1m9999999995-23-000391\u001b[0m\u001b[1m \u001b[0m \n",
       "  25  \u001b[38;5;71m \u001b[0m\u001b[38;5;71mEFFECT\u001b[0m\u001b[38;5;71m \u001b[0m  Mars Acquisition Corp.                       1892922  \u001b[38;5;39m \u001b[0m\u001b[38;5;39m2023-02-13 \u001b[0m\u001b[38;5;39m \u001b[0m  9999999995-23-000389  \n",
       " \u001b[1m \u001b[0m\u001b[1m26\u001b[0m\u001b[1m \u001b[0m \u001b[1;38;5;71m \u001b[0m\u001b[1;38;5;71mEFFECT\u001b[0m\u001b[1;38;5;71m \u001b[0m \u001b[1m \u001b[0m\u001b[1mMobiquity Technologies, Inc.              \u001b[0m\u001b[1m \u001b[0m \u001b[1m \u001b[0m\u001b[1m1084267\u001b[0m\u001b[1m \u001b[0m \u001b[1;38;5;39m \u001b[0m\u001b[1;38;5;39m2023-02-13 \u001b[0m\u001b[1;38;5;39m \u001b[0m \u001b[1m \u001b[0m\u001b[1m9999999995-23-000400\u001b[0m\u001b[1m \u001b[0m \n",
       "  27  \u001b[38;5;71m \u001b[0m\u001b[38;5;71mEFFECT\u001b[0m\u001b[38;5;71m \u001b[0m  Opti-Harvest, Inc.                           1753945  \u001b[38;5;39m \u001b[0m\u001b[38;5;39m2023-02-13 \u001b[0m\u001b[38;5;39m \u001b[0m  9999999995-23-000392  \n",
       " \u001b[1m \u001b[0m\u001b[1m28\u001b[0m\u001b[1m \u001b[0m \u001b[1;38;5;71m \u001b[0m\u001b[1;38;5;71mEFFECT\u001b[0m\u001b[1;38;5;71m \u001b[0m \u001b[1m \u001b[0m\u001b[1mShiftPixy, Inc.                           \u001b[0m\u001b[1m \u001b[0m \u001b[1m \u001b[0m\u001b[1m1675634\u001b[0m\u001b[1m \u001b[0m \u001b[1;38;5;39m \u001b[0m\u001b[1;38;5;39m2023-02-13 \u001b[0m\u001b[1;38;5;39m \u001b[0m \u001b[1m \u001b[0m\u001b[1m9999999995-23-000405\u001b[0m\u001b[1m \u001b[0m \n",
       "  29  \u001b[38;5;71m \u001b[0m\u001b[38;5;71mEFFECT\u001b[0m\u001b[38;5;71m \u001b[0m  VAPOTHERM INC                                1253176  \u001b[38;5;39m \u001b[0m\u001b[38;5;39m2023-02-13 \u001b[0m\u001b[38;5;39m \u001b[0m  9999999995-23-000409  \n",
       " \u001b[1m \u001b[0m\u001b[1m30\u001b[0m\u001b[1m \u001b[0m \u001b[1;38;5;71m \u001b[0m\u001b[1;38;5;71mEFFECT\u001b[0m\u001b[1;38;5;71m \u001b[0m \u001b[1m \u001b[0m\u001b[1mVivakor, Inc.                             \u001b[0m\u001b[1m \u001b[0m \u001b[1m \u001b[0m\u001b[1m1450704\u001b[0m\u001b[1m \u001b[0m \u001b[1;38;5;39m \u001b[0m\u001b[1;38;5;39m2023-02-13 \u001b[0m\u001b[1;38;5;39m \u001b[0m \u001b[1m \u001b[0m\u001b[1m9999999995-23-000393\u001b[0m\u001b[1m \u001b[0m \n",
       "  31  \u001b[38;5;71m \u001b[0m\u001b[38;5;71mEFFECT\u001b[0m\u001b[38;5;71m \u001b[0m  ATHENA GOLD CORP                             1304409  \u001b[38;5;39m \u001b[0m\u001b[38;5;39m2023-02-10 \u001b[0m\u001b[38;5;39m \u001b[0m  9999999995-23-000365  \n",
       " \u001b[1m \u001b[0m\u001b[1m32\u001b[0m\u001b[1m \u001b[0m \u001b[1;38;5;71m \u001b[0m\u001b[1;38;5;71mEFFECT\u001b[0m\u001b[1;38;5;71m \u001b[0m \u001b[1m \u001b[0m\u001b[1mAeonic Ventures LLC                       \u001b[0m\u001b[1m \u001b[0m \u001b[1m \u001b[0m\u001b[1m1960498\u001b[0m\u001b[1m \u001b[0m \u001b[1;38;5;39m \u001b[0m\u001b[1;38;5;39m2023-02-10 \u001b[0m\u001b[1;38;5;39m \u001b[0m \u001b[1m \u001b[0m\u001b[1m9999999995-23-000359\u001b[0m\u001b[1m \u001b[0m \n",
       "  33  \u001b[38;5;71m \u001b[0m\u001b[38;5;71mEFFECT\u001b[0m\u001b[38;5;71m \u001b[0m  Altus Power, Inc.                            1828723  \u001b[38;5;39m \u001b[0m\u001b[38;5;39m2023-02-10 \u001b[0m\u001b[38;5;39m \u001b[0m  9999999995-23-000363  \n",
       " \u001b[1m \u001b[0m\u001b[1m34\u001b[0m\u001b[1m \u001b[0m \u001b[1;38;5;71m \u001b[0m\u001b[1;38;5;71mEFFECT\u001b[0m\u001b[1;38;5;71m \u001b[0m \u001b[1m \u001b[0m\u001b[1mBain Capital Private Credit               \u001b[0m\u001b[1m \u001b[0m \u001b[1m \u001b[0m\u001b[1m1899017\u001b[0m\u001b[1m \u001b[0m \u001b[1;38;5;39m \u001b[0m\u001b[1;38;5;39m2023-02-10 \u001b[0m\u001b[1;38;5;39m \u001b[0m \u001b[1m \u001b[0m\u001b[1m9999999995-23-000362\u001b[0m\u001b[1m \u001b[0m \n",
       "  35  \u001b[38;5;71m \u001b[0m\u001b[38;5;71mEFFECT\u001b[0m\u001b[38;5;71m \u001b[0m  Bakhu Holdings, Corp.                        1440153  \u001b[38;5;39m \u001b[0m\u001b[38;5;39m2023-02-10 \u001b[0m\u001b[38;5;39m \u001b[0m  9999999995-23-000368  \n",
       " \u001b[1m \u001b[0m\u001b[1m36\u001b[0m\u001b[1m \u001b[0m \u001b[1;38;5;71m \u001b[0m\u001b[1;38;5;71mEFFECT\u001b[0m\u001b[1;38;5;71m \u001b[0m \u001b[1m \u001b[0m\u001b[1mBerkeley Lights, Inc.                     \u001b[0m\u001b[1m \u001b[0m \u001b[1m \u001b[0m\u001b[1m1689657\u001b[0m\u001b[1m \u001b[0m \u001b[1;38;5;39m \u001b[0m\u001b[1;38;5;39m2023-02-10 \u001b[0m\u001b[1;38;5;39m \u001b[0m \u001b[1m \u001b[0m\u001b[1m9999999995-23-000375\u001b[0m\u001b[1m \u001b[0m \n",
       "  37  \u001b[38;5;71m \u001b[0m\u001b[38;5;71mEFFECT\u001b[0m\u001b[38;5;71m \u001b[0m  CATTHIS HOLDINGS CORP                        1911500  \u001b[38;5;39m \u001b[0m\u001b[38;5;39m2023-02-10 \u001b[0m\u001b[38;5;39m \u001b[0m  9999999995-23-000364  \n",
       " \u001b[1m \u001b[0m\u001b[1m38\u001b[0m\u001b[1m \u001b[0m \u001b[1;38;5;71m \u001b[0m\u001b[1;38;5;71mEFFECT\u001b[0m\u001b[1;38;5;71m \u001b[0m \u001b[1m \u001b[0m\u001b[1mCHINA NATURAL RESOURCES INC               \u001b[0m\u001b[1m \u001b[0m \u001b[1m \u001b[0m\u001b[1m793628 \u001b[0m\u001b[1m \u001b[0m \u001b[1;38;5;39m \u001b[0m\u001b[1;38;5;39m2023-02-10 \u001b[0m\u001b[1;38;5;39m \u001b[0m \u001b[1m \u001b[0m\u001b[1m9999999995-23-000367\u001b[0m\u001b[1m \u001b[0m \n",
       "  39  \u001b[38;5;71m \u001b[0m\u001b[38;5;71mEFFECT\u001b[0m\u001b[38;5;71m \u001b[0m  COLUMBIA ACORN TRUST                         2110     \u001b[38;5;39m \u001b[0m\u001b[38;5;39m2023-02-10 \u001b[0m\u001b[38;5;39m \u001b[0m  9999999995-23-000381  \n",
       " \u001b[1m \u001b[0m\u001b[1m40\u001b[0m\u001b[1m \u001b[0m \u001b[1;38;5;71m \u001b[0m\u001b[1;38;5;71mEFFECT\u001b[0m\u001b[1;38;5;71m \u001b[0m \u001b[1m \u001b[0m\u001b[1mCan-Fite BioPharma Ltd.                   \u001b[0m\u001b[1m \u001b[0m \u001b[1m \u001b[0m\u001b[1m1536196\u001b[0m\u001b[1m \u001b[0m \u001b[1;38;5;39m \u001b[0m\u001b[1;38;5;39m2023-02-10 \u001b[0m\u001b[1;38;5;39m \u001b[0m \u001b[1m \u001b[0m\u001b[1m9999999995-23-000377\u001b[0m\u001b[1m \u001b[0m \n",
       "  41  \u001b[38;5;71m \u001b[0m\u001b[38;5;71mEFFECT\u001b[0m\u001b[38;5;71m \u001b[0m  Cannabis Sativa, Inc.                        1360442  \u001b[38;5;39m \u001b[0m\u001b[38;5;39m2023-02-10 \u001b[0m\u001b[38;5;39m \u001b[0m  9999999995-23-000372  \n",
       " \u001b[1m \u001b[0m\u001b[1m42\u001b[0m\u001b[1m \u001b[0m \u001b[1;38;5;71m \u001b[0m\u001b[1;38;5;71mEFFECT\u001b[0m\u001b[1;38;5;71m \u001b[0m \u001b[1m \u001b[0m\u001b[1mComera Life Sciences Holdings, Inc.       \u001b[0m\u001b[1m \u001b[0m \u001b[1m \u001b[0m\u001b[1m1907685\u001b[0m\u001b[1m \u001b[0m \u001b[1;38;5;39m \u001b[0m\u001b[1;38;5;39m2023-02-10 \u001b[0m\u001b[1;38;5;39m \u001b[0m \u001b[1m \u001b[0m\u001b[1m9999999995-23-000383\u001b[0m\u001b[1m \u001b[0m \n",
       "  43  \u001b[38;5;71m \u001b[0m\u001b[38;5;71mEFFECT\u001b[0m\u001b[38;5;71m \u001b[0m  Grindr Inc.                                  1820144  \u001b[38;5;39m \u001b[0m\u001b[38;5;39m2023-02-10 \u001b[0m\u001b[38;5;39m \u001b[0m  9999999995-23-000370  \n",
       " \u001b[1m \u001b[0m\u001b[1m44\u001b[0m\u001b[1m \u001b[0m \u001b[1;38;5;71m \u001b[0m\u001b[1;38;5;71mEFFECT\u001b[0m\u001b[1;38;5;71m \u001b[0m \u001b[1m \u001b[0m\u001b[1mHeartBeam, Inc.                           \u001b[0m\u001b[1m \u001b[0m \u001b[1m \u001b[0m\u001b[1m1779372\u001b[0m\u001b[1m \u001b[0m \u001b[1;38;5;39m \u001b[0m\u001b[1;38;5;39m2023-02-10 \u001b[0m\u001b[1;38;5;39m \u001b[0m \u001b[1m \u001b[0m\u001b[1m9999999995-23-000379\u001b[0m\u001b[1m \u001b[0m \n",
       "  45  \u001b[38;5;71m \u001b[0m\u001b[38;5;71mEFFECT\u001b[0m\u001b[38;5;71m \u001b[0m  IO Biotech, Inc.                             1865494  \u001b[38;5;39m \u001b[0m\u001b[38;5;39m2023-02-10 \u001b[0m\u001b[38;5;39m \u001b[0m  9999999995-23-000385  \n",
       " \u001b[1m \u001b[0m\u001b[1m46\u001b[0m\u001b[1m \u001b[0m \u001b[1;38;5;71m \u001b[0m\u001b[1;38;5;71mEFFECT\u001b[0m\u001b[1;38;5;71m \u001b[0m \u001b[1m \u001b[0m\u001b[1mMy Size, Inc.                             \u001b[0m\u001b[1m \u001b[0m \u001b[1m \u001b[0m\u001b[1m1211805\u001b[0m\u001b[1m \u001b[0m \u001b[1;38;5;39m \u001b[0m\u001b[1;38;5;39m2023-02-10 \u001b[0m\u001b[1;38;5;39m \u001b[0m \u001b[1m \u001b[0m\u001b[1m9999999995-23-000376\u001b[0m\u001b[1m \u001b[0m \n",
       "  47  \u001b[38;5;71m \u001b[0m\u001b[38;5;71mEFFECT\u001b[0m\u001b[38;5;71m \u001b[0m  OmniAb, Inc.                                 1846253  \u001b[38;5;39m \u001b[0m\u001b[38;5;39m2023-02-10 \u001b[0m\u001b[38;5;39m \u001b[0m  9999999995-23-000369  \n",
       " \u001b[1m \u001b[0m\u001b[1m48\u001b[0m\u001b[1m \u001b[0m \u001b[1;38;5;71m \u001b[0m\u001b[1;38;5;71mEFFECT\u001b[0m\u001b[1;38;5;71m \u001b[0m \u001b[1m \u001b[0m\u001b[1mQumu Corp                                 \u001b[0m\u001b[1m \u001b[0m \u001b[1m \u001b[0m\u001b[1m892482 \u001b[0m\u001b[1m \u001b[0m \u001b[1;38;5;39m \u001b[0m\u001b[1;38;5;39m2023-02-10 \u001b[0m\u001b[1;38;5;39m \u001b[0m \u001b[1m \u001b[0m\u001b[1m9999999995-23-000360\u001b[0m\u001b[1m \u001b[0m \n",
       "  49  \u001b[38;5;71m \u001b[0m\u001b[38;5;71mEFFECT\u001b[0m\u001b[38;5;71m \u001b[0m  Qumu Corp                                    892482   \u001b[38;5;39m \u001b[0m\u001b[38;5;39m2023-02-10 \u001b[0m\u001b[38;5;39m \u001b[0m  9999999995-23-000361  \n",
       "                                                                                                           \n",
       "Showing 50 of 449 filings"
      ]
     },
     "execution_count": 22,
     "metadata": {},
     "output_type": "execute_result"
    }
   ],
   "source": [
    "effect_filings = get_filings(form=\"EFFECT\")\n",
    "effect_filings"
   ]
  },
  {
   "cell_type": "markdown",
   "id": "00b4ded1",
   "metadata": {},
   "source": [
    "## Show effect filing"
   ]
  },
  {
   "cell_type": "code",
   "execution_count": 23,
   "id": "37ce8b75",
   "metadata": {},
   "outputs": [
    {
     "data": {
      "text/html": [
       "<pre style=\"white-space:pre;overflow-x:auto;line-height:normal;font-family:Menlo,'DejaVu Sans Mono',consolas,'Courier New',monospace\"></pre>\n"
      ],
      "text/plain": []
     },
     "metadata": {},
     "output_type": "display_data"
    },
    {
     "data": {
      "text/plain": [
       "\u001b[1mEFFECT filing\u001b[0m\n",
       "                                                                             \n",
       " \u001b[1m \u001b[0m\u001b[1maccession_no        \u001b[0m\u001b[1m \u001b[0m \u001b[1;38;5;71m \u001b[0m\u001b[1;38;5;71mform  \u001b[0m\u001b[1;38;5;71m \u001b[0m \u001b[1m \u001b[0m\u001b[1mcompany          \u001b[0m\u001b[1m \u001b[0m \u001b[1m \u001b[0m\u001b[1mcik    \u001b[0m\u001b[1m \u001b[0m \u001b[1;38;5;39m \u001b[0m\u001b[1;38;5;39mfiling_date\u001b[0m\u001b[1;38;5;39m \u001b[0m \n",
       " ─────────────────────────────────────────────────────────────────────────── \n",
       " \u001b[1m \u001b[0m\u001b[1m9999999995-23-000407\u001b[0m\u001b[1m \u001b[0m \u001b[1;38;5;71m \u001b[0m\u001b[1;38;5;71mEFFECT\u001b[0m\u001b[1;38;5;71m \u001b[0m \u001b[1m \u001b[0m\u001b[1m1847 Holdings LLC\u001b[0m\u001b[1m \u001b[0m \u001b[1m \u001b[0m\u001b[1m1599407\u001b[0m\u001b[1m \u001b[0m \u001b[1;38;5;39m \u001b[0m\u001b[1;38;5;39m2023-02-13 \u001b[0m\u001b[1;38;5;39m \u001b[0m \n",
       "                                                                             "
      ]
     },
     "execution_count": 23,
     "metadata": {},
     "output_type": "execute_result"
    }
   ],
   "source": [
    "effect_filing = effect_filings[0]\n",
    "effect_filing"
   ]
  },
  {
   "cell_type": "markdown",
   "id": "ea77bbaa",
   "metadata": {},
   "source": [
    "## Effect class"
   ]
  },
  {
   "cell_type": "code",
   "execution_count": 24,
   "id": "e3e94295",
   "metadata": {},
   "outputs": [
    {
     "data": {
      "text/html": [
       "<pre style=\"white-space:pre;overflow-x:auto;line-height:normal;font-family:Menlo,'DejaVu Sans Mono',consolas,'Courier New',monospace\"></pre>\n"
      ],
      "text/plain": []
     },
     "metadata": {},
     "output_type": "display_data"
    },
    {
     "data": {
      "text/plain": [
       "\u001b[1mEFFECT filing for form S-3 filing\u001b[0m\n",
       "                                                               \n",
       " \u001b[1m \u001b[0m\u001b[1mentity           \u001b[0m\u001b[1m \u001b[0m \u001b[1m \u001b[0m\u001b[1mcik       \u001b[0m\u001b[1m \u001b[0m \u001b[1m \u001b[0m\u001b[1msource\u001b[0m\u001b[1m \u001b[0m \u001b[1m \u001b[0m\u001b[1mlive\u001b[0m\u001b[1m \u001b[0m \u001b[1m \u001b[0m\u001b[1meffective \u001b[0m\u001b[1m \u001b[0m \n",
       " ───────────────────────────────────────────────────────────── \n",
       " \u001b[1m \u001b[0m\u001b[1m1847 Holdings LLC\u001b[0m\u001b[1m \u001b[0m \u001b[1m \u001b[0m\u001b[1m0001599407\u001b[0m\u001b[1m \u001b[0m \u001b[1m \u001b[0m\u001b[1mS-3   \u001b[0m\u001b[1m \u001b[0m \u001b[1m \u001b[0m\u001b[1mTrue\u001b[0m\u001b[1m \u001b[0m \u001b[1m \u001b[0m\u001b[1m2023-02-13\u001b[0m\u001b[1m \u001b[0m \n",
       "                                                               "
      ]
     },
     "execution_count": 24,
     "metadata": {},
     "output_type": "execute_result"
    }
   ],
   "source": [
    "Effect.from_xml(effect_filing.xml())"
   ]
  },
  {
   "cell_type": "markdown",
   "id": "96c87b98",
   "metadata": {},
   "source": [
    "# Ownership filings\n",
    "<hr/>"
   ]
  },
  {
   "cell_type": "code",
   "execution_count": 25,
   "id": "77ff20de",
   "metadata": {},
   "outputs": [],
   "source": [
    "ownership_filings = get_filings(form=[\"3\", 4, \"5\"])\n",
    "form_4_filings = ownership_filings.filter(form=\"4\")"
   ]
  },
  {
   "cell_type": "code",
   "execution_count": 26,
   "id": "278e54b1",
   "metadata": {},
   "outputs": [
    {
     "data": {
      "text/html": [
       "<pre style=\"white-space:pre;overflow-x:auto;line-height:normal;font-family:Menlo,'DejaVu Sans Mono',consolas,'Courier New',monospace\"></pre>\n"
      ],
      "text/plain": []
     },
     "metadata": {},
     "output_type": "display_data"
    },
    {
     "data": {
      "text/plain": [
       "\u001b[1m4 filing\u001b[0m\n",
       "                                                                                \n",
       " \u001b[1m \u001b[0m\u001b[1maccession_no        \u001b[0m\u001b[1m \u001b[0m \u001b[1;38;5;71m \u001b[0m\u001b[1;38;5;71mform\u001b[0m\u001b[1;38;5;71m \u001b[0m \u001b[1m \u001b[0m\u001b[1mcompany                \u001b[0m\u001b[1m \u001b[0m \u001b[1m \u001b[0m\u001b[1mcik   \u001b[0m\u001b[1m \u001b[0m \u001b[1;38;5;39m \u001b[0m\u001b[1;38;5;39mfiling_date\u001b[0m\u001b[1;38;5;39m \u001b[0m \n",
       " ────────────────────────────────────────────────────────────────────────────── \n",
       " \u001b[1m \u001b[0m\u001b[1m0001225208-23-001934\u001b[0m\u001b[1m \u001b[0m \u001b[1;38;5;71m \u001b[0m\u001b[1;38;5;71m4   \u001b[0m\u001b[1;38;5;71m \u001b[0m \u001b[1m \u001b[0m\u001b[1mABM INDUSTRIES INC /DE/\u001b[0m\u001b[1m \u001b[0m \u001b[1m \u001b[0m\u001b[1m771497\u001b[0m\u001b[1m \u001b[0m \u001b[1;38;5;39m \u001b[0m\u001b[1;38;5;39m2023-02-14 \u001b[0m\u001b[1;38;5;39m \u001b[0m \n",
       "                                                                                "
      ]
     },
     "execution_count": 26,
     "metadata": {},
     "output_type": "execute_result"
    }
   ],
   "source": [
    "form_4_filing = form_4_filings[4]\n",
    "form_4_filing"
   ]
  },
  {
   "cell_type": "markdown",
   "id": "ca878804",
   "metadata": {},
   "source": [
    "## Show Ownership"
   ]
  },
  {
   "cell_type": "code",
   "execution_count": 27,
   "id": "d181bfc5",
   "metadata": {},
   "outputs": [
    {
     "data": {
      "text/html": [
       "<pre style=\"white-space:pre;overflow-x:auto;line-height:normal;font-family:Menlo,'DejaVu Sans Mono',consolas,'Courier New',monospace\"></pre>\n"
      ],
      "text/plain": []
     },
     "metadata": {},
     "output_type": "display_data"
    },
    {
     "data": {
      "text/plain": [
       "╭─────────────────────────────────────────────────────────────────────────────────────────────────────────────────╮\n",
       "│ \u001b[1;38;5;71mForm 4 Changes in beneficial ownership\u001b[0m                                                                          │\n",
       "│                                                                                                                 │\n",
       "│  \u001b[1m \u001b[0m\u001b[1mticker\u001b[0m\u001b[1m \u001b[0m \u001b[1;38;5;39m \u001b[0m\u001b[1;38;5;39missuer                 \u001b[0m\u001b[1;38;5;39m \u001b[0m \u001b[1m \u001b[0m\u001b[1mreporting owner\u001b[0m\u001b[1m \u001b[0m \u001b[1m \u001b[0m\u001b[1mperiod    \u001b[0m\u001b[1m \u001b[0m                                              │\n",
       "│  ─────────────────────────────────────────────────────────────────                                              │\n",
       "│  \u001b[1m \u001b[0m\u001b[1mABM   \u001b[0m\u001b[1m \u001b[0m \u001b[1;38;5;39m \u001b[0m\u001b[1;38;5;39mABM INDUSTRIES INC /DE/\u001b[0m\u001b[1;38;5;39m \u001b[0m \u001b[1m \u001b[0m\u001b[1mCHIN DEAN A    \u001b[0m\u001b[1m \u001b[0m \u001b[1m \u001b[0m\u001b[1m2023-02-13\u001b[0m\u001b[1m \u001b[0m                                              │\n",
       "│                                                                                                                 │\n",
       "╰─────────────────────────────────────────────────────────────────────────────────────────────────────────────────╯\n",
       "╭──────────────────────────────────────────────── Non Derivatives ────────────────────────────────────────────────╮\n",
       "│ 0 non derivative holdings                                                                                       │\n",
       "│ \u001b[1mTransactions\u001b[0m                                                                                                    │\n",
       "│                                                                                                                 │\n",
       "│  \u001b[1m \u001b[0m\u001b[1mdate      \u001b[0m\u001b[1m \u001b[0m \u001b[1;38;5;39m \u001b[0m\u001b[1;38;5;39msecurity    \u001b[0m\u001b[1;38;5;39m \u001b[0m \u001b[1m \u001b[0m\u001b[1mshares    \u001b[0m\u001b[1m \u001b[0m \u001b[1m \u001b[0m\u001b[1mremaining \u001b[0m\u001b[1m \u001b[0m \u001b[1m \u001b[0m\u001b[1mprice  \u001b[0m\u001b[1m \u001b[0m                                                │\n",
       "│  ───────────────────────────────────────────────────────────────                                                │\n",
       "│  \u001b[1m \u001b[0m\u001b[1m2023-02-13\u001b[0m\u001b[1m \u001b[0m \u001b[1;38;5;39m \u001b[0m\u001b[1;38;5;39mCommon Stock\u001b[0m\u001b[1;38;5;39m \u001b[0m \u001b[1m \u001b[0m\u001b[1m-2815.0000\u001b[0m\u001b[1m \u001b[0m \u001b[1m \u001b[0m\u001b[1m19735.0000\u001b[0m\u001b[1m \u001b[0m \u001b[1m \u001b[0m\u001b[1m47.8600\u001b[0m\u001b[1m \u001b[0m                                                │\n",
       "│                                                                                                                 │\n",
       "╰─────────────────────────────────────────────────────────────────────────────────────────────────────────────────╯\n",
       "╭────────────────────────────────────────────────── Derivatives ──────────────────────────────────────────────────╮\n",
       "│ 0 derivative holdings                                                                                           │\n",
       "│ 0 derivative transactions                                                                                       │\n",
       "╰─────────────────────────────────────────────────────────────────────────────────────────────────────────────────╯\n",
       "\u001b[1mFootnotes\u001b[0m\n",
       "                                                                                                                   \n",
       " \u001b[1m \u001b[0m\u001b[1mid\u001b[0m\u001b[1m \u001b[0m \u001b[1m \u001b[0m\u001b[1mfootnote                                                                                                  \u001b[0m\u001b[1m \u001b[0m \n",
       " ───────────────────────────────────────────────────────────────────────────────────────────────────────────────── \n",
       " \u001b[1m \u001b[0m\u001b[1mF1\u001b[0m\u001b[1m \u001b[0m \u001b[1m \u001b[0m\u001b[1mThe sale of shares reported on this Form 4 was effected pursuant to a Rule 10b5-1 trading plan entered    \u001b[0m\u001b[1m \u001b[0m \n",
       " \u001b[1m    \u001b[0m \u001b[1m \u001b[0m\u001b[1minto by the reporting person on January 13, 2023.                                                         \u001b[0m\u001b[1m \u001b[0m \n",
       "                                                                                                                   "
      ]
     },
     "execution_count": 27,
     "metadata": {},
     "output_type": "execute_result"
    }
   ],
   "source": [
    "Ownership.from_xml(form_4_filing.xml())"
   ]
  },
  {
   "cell_type": "markdown",
   "id": "411b7135",
   "metadata": {},
   "source": [
    "# Fund Filings\n",
    "\n",
    "<hr/>"
   ]
  },
  {
   "cell_type": "code",
   "execution_count": 28,
   "id": "97cc7167",
   "metadata": {},
   "outputs": [
    {
     "data": {
      "text/html": [
       "<pre style=\"white-space:pre;overflow-x:auto;line-height:normal;font-family:Menlo,'DejaVu Sans Mono',consolas,'Courier New',monospace\"></pre>\n"
      ],
      "text/plain": []
     },
     "metadata": {},
     "output_type": "display_data"
    },
    {
     "data": {
      "text/plain": [
       "\u001b[1m                                                      Filings                                                      \u001b[0m\n",
       "                                                                                                                   \n",
       " \u001b[1m \u001b[0m\u001b[1m  \u001b[0m\u001b[1m \u001b[0m \u001b[1;38;5;71m \u001b[0m\u001b[1;38;5;71mform     \u001b[0m\u001b[1;38;5;71m \u001b[0m \u001b[1m \u001b[0m\u001b[1mcompany                                        \u001b[0m\u001b[1m \u001b[0m \u001b[1m \u001b[0m\u001b[1mcik    \u001b[0m\u001b[1m \u001b[0m \u001b[1;38;5;39m \u001b[0m\u001b[1;38;5;39mfiling_date\u001b[0m\u001b[1;38;5;39m \u001b[0m \u001b[1m \u001b[0m\u001b[1maccession_number    \u001b[0m\u001b[1m \u001b[0m \n",
       " ───────────────────────────────────────────────────────────────────────────────────────────────────────────────── \n",
       " \u001b[1m \u001b[0m\u001b[1m0 \u001b[0m\u001b[1m \u001b[0m \u001b[1;38;5;71m \u001b[0m\u001b[1;38;5;71mNPORT-P  \u001b[0m\u001b[1;38;5;71m \u001b[0m \u001b[1m \u001b[0m\u001b[1mCONESTOGA FUNDS                                \u001b[0m\u001b[1m \u001b[0m \u001b[1m \u001b[0m\u001b[1m1175813\u001b[0m\u001b[1m \u001b[0m \u001b[1;38;5;39m \u001b[0m\u001b[1;38;5;39m2023-02-14 \u001b[0m\u001b[1;38;5;39m \u001b[0m \u001b[1m \u001b[0m\u001b[1m0001752724-23-023465\u001b[0m\u001b[1m \u001b[0m \n",
       "  1   \u001b[38;5;71m \u001b[0m\u001b[38;5;71mNPORT-P  \u001b[0m\u001b[38;5;71m \u001b[0m  CONESTOGA FUNDS                                   1175813  \u001b[38;5;39m \u001b[0m\u001b[38;5;39m2023-02-14 \u001b[0m\u001b[38;5;39m \u001b[0m  0001752724-23-023466  \n",
       " \u001b[1m \u001b[0m\u001b[1m2 \u001b[0m\u001b[1m \u001b[0m \u001b[1;38;5;71m \u001b[0m\u001b[1;38;5;71mNPORT-P  \u001b[0m\u001b[1;38;5;71m \u001b[0m \u001b[1m \u001b[0m\u001b[1mCONESTOGA FUNDS                                \u001b[0m\u001b[1m \u001b[0m \u001b[1m \u001b[0m\u001b[1m1175813\u001b[0m\u001b[1m \u001b[0m \u001b[1;38;5;39m \u001b[0m\u001b[1;38;5;39m2023-02-14 \u001b[0m\u001b[1;38;5;39m \u001b[0m \u001b[1m \u001b[0m\u001b[1m0001752724-23-023467\u001b[0m\u001b[1m \u001b[0m \n",
       "  3   \u001b[38;5;71m \u001b[0m\u001b[38;5;71mNPORT-P  \u001b[0m\u001b[38;5;71m \u001b[0m  CONESTOGA FUNDS                                   1175813  \u001b[38;5;39m \u001b[0m\u001b[38;5;39m2023-02-14 \u001b[0m\u001b[38;5;39m \u001b[0m  0001752724-23-023468  \n",
       " \u001b[1m \u001b[0m\u001b[1m4 \u001b[0m\u001b[1m \u001b[0m \u001b[1;38;5;71m \u001b[0m\u001b[1;38;5;71mNPORT-P  \u001b[0m\u001b[1;38;5;71m \u001b[0m \u001b[1m \u001b[0m\u001b[1mEvanston Alternative Opportunities Fund        \u001b[0m\u001b[1m \u001b[0m \u001b[1m \u001b[0m\u001b[1m1589390\u001b[0m\u001b[1m \u001b[0m \u001b[1;38;5;39m \u001b[0m\u001b[1;38;5;39m2023-02-14 \u001b[0m\u001b[1;38;5;39m \u001b[0m \u001b[1m \u001b[0m\u001b[1m0001145549-23-006488\u001b[0m\u001b[1m \u001b[0m \n",
       "  5   \u001b[38;5;71m \u001b[0m\u001b[38;5;71mNPORT-P  \u001b[0m\u001b[38;5;71m \u001b[0m  FORUM FUNDS                                       315774   \u001b[38;5;39m \u001b[0m\u001b[38;5;39m2023-02-14 \u001b[0m\u001b[38;5;39m \u001b[0m  0001752724-23-023328  \n",
       " \u001b[1m \u001b[0m\u001b[1m6 \u001b[0m\u001b[1m \u001b[0m \u001b[1;38;5;71m \u001b[0m\u001b[1;38;5;71mNPORT-P  \u001b[0m\u001b[1;38;5;71m \u001b[0m \u001b[1m \u001b[0m\u001b[1mFORUM FUNDS                                    \u001b[0m\u001b[1m \u001b[0m \u001b[1m \u001b[0m\u001b[1m315774 \u001b[0m\u001b[1m \u001b[0m \u001b[1;38;5;39m \u001b[0m\u001b[1;38;5;39m2023-02-14 \u001b[0m\u001b[1;38;5;39m \u001b[0m \u001b[1m \u001b[0m\u001b[1m0001752724-23-023329\u001b[0m\u001b[1m \u001b[0m \n",
       "  7   \u001b[38;5;71m \u001b[0m\u001b[38;5;71mNPORT-P  \u001b[0m\u001b[38;5;71m \u001b[0m  FORUM FUNDS                                       315774   \u001b[38;5;39m \u001b[0m\u001b[38;5;39m2023-02-14 \u001b[0m\u001b[38;5;39m \u001b[0m  0001752724-23-023330  \n",
       " \u001b[1m \u001b[0m\u001b[1m8 \u001b[0m\u001b[1m \u001b[0m \u001b[1;38;5;71m \u001b[0m\u001b[1;38;5;71mNPORT-P  \u001b[0m\u001b[1;38;5;71m \u001b[0m \u001b[1m \u001b[0m\u001b[1mMONETTA TRUST                                  \u001b[0m\u001b[1m \u001b[0m \u001b[1m \u001b[0m\u001b[1m894240 \u001b[0m\u001b[1m \u001b[0m \u001b[1;38;5;39m \u001b[0m\u001b[1;38;5;39m2023-02-14 \u001b[0m\u001b[1;38;5;39m \u001b[0m \u001b[1m \u001b[0m\u001b[1m0000894240-23-000006\u001b[0m\u001b[1m \u001b[0m \n",
       "  9   \u001b[38;5;71m \u001b[0m\u001b[38;5;71mNPORT-P  \u001b[0m\u001b[38;5;71m \u001b[0m  MONETTA TRUST                                     894240   \u001b[38;5;39m \u001b[0m\u001b[38;5;39m2023-02-14 \u001b[0m\u001b[38;5;39m \u001b[0m  0000894240-23-000012  \n",
       " \u001b[1m \u001b[0m\u001b[1m10\u001b[0m\u001b[1m \u001b[0m \u001b[1;38;5;71m \u001b[0m\u001b[1;38;5;71mNPORT-P  \u001b[0m\u001b[1;38;5;71m \u001b[0m \u001b[1m \u001b[0m\u001b[1mPFS FUNDS                                      \u001b[0m\u001b[1m \u001b[0m \u001b[1m \u001b[0m\u001b[1m1103243\u001b[0m\u001b[1m \u001b[0m \u001b[1;38;5;39m \u001b[0m\u001b[1;38;5;39m2023-02-14 \u001b[0m\u001b[1;38;5;39m \u001b[0m \u001b[1m \u001b[0m\u001b[1m0001413042-23-000107\u001b[0m\u001b[1m \u001b[0m \n",
       "  11  \u001b[38;5;71m \u001b[0m\u001b[38;5;71mNPORT-P  \u001b[0m\u001b[38;5;71m \u001b[0m  SCHWARTZ INVESTMENT TRUST                         891160   \u001b[38;5;39m \u001b[0m\u001b[38;5;39m2023-02-14 \u001b[0m\u001b[38;5;39m \u001b[0m  0001752724-23-023454  \n",
       " \u001b[1m \u001b[0m\u001b[1m12\u001b[0m\u001b[1m \u001b[0m \u001b[1;38;5;71m \u001b[0m\u001b[1;38;5;71mNPORT-P  \u001b[0m\u001b[1;38;5;71m \u001b[0m \u001b[1m \u001b[0m\u001b[1mSCHWARTZ INVESTMENT TRUST                      \u001b[0m\u001b[1m \u001b[0m \u001b[1m \u001b[0m\u001b[1m891160 \u001b[0m\u001b[1m \u001b[0m \u001b[1;38;5;39m \u001b[0m\u001b[1;38;5;39m2023-02-14 \u001b[0m\u001b[1;38;5;39m \u001b[0m \u001b[1m \u001b[0m\u001b[1m0001752724-23-023459\u001b[0m\u001b[1m \u001b[0m \n",
       "  13  \u001b[38;5;71m \u001b[0m\u001b[38;5;71mNPORT-P  \u001b[0m\u001b[38;5;71m \u001b[0m  SCHWARTZ INVESTMENT TRUST                         891160   \u001b[38;5;39m \u001b[0m\u001b[38;5;39m2023-02-14 \u001b[0m\u001b[38;5;39m \u001b[0m  0001752724-23-023460  \n",
       " \u001b[1m \u001b[0m\u001b[1m14\u001b[0m\u001b[1m \u001b[0m \u001b[1;38;5;71m \u001b[0m\u001b[1;38;5;71mNPORT-P  \u001b[0m\u001b[1;38;5;71m \u001b[0m \u001b[1m \u001b[0m\u001b[1mSCHWARTZ INVESTMENT TRUST                      \u001b[0m\u001b[1m \u001b[0m \u001b[1m \u001b[0m\u001b[1m891160 \u001b[0m\u001b[1m \u001b[0m \u001b[1;38;5;39m \u001b[0m\u001b[1;38;5;39m2023-02-14 \u001b[0m\u001b[1;38;5;39m \u001b[0m \u001b[1m \u001b[0m\u001b[1m0001752724-23-023461\u001b[0m\u001b[1m \u001b[0m \n",
       "  15  \u001b[38;5;71m \u001b[0m\u001b[38;5;71mNPORT-P  \u001b[0m\u001b[38;5;71m \u001b[0m  SCHWARTZ INVESTMENT TRUST                         891160   \u001b[38;5;39m \u001b[0m\u001b[38;5;39m2023-02-14 \u001b[0m\u001b[38;5;39m \u001b[0m  0001752724-23-023462  \n",
       " \u001b[1m \u001b[0m\u001b[1m16\u001b[0m\u001b[1m \u001b[0m \u001b[1;38;5;71m \u001b[0m\u001b[1;38;5;71mNPORT-P  \u001b[0m\u001b[1;38;5;71m \u001b[0m \u001b[1m \u001b[0m\u001b[1mSCHWARTZ INVESTMENT TRUST                      \u001b[0m\u001b[1m \u001b[0m \u001b[1m \u001b[0m\u001b[1m891160 \u001b[0m\u001b[1m \u001b[0m \u001b[1;38;5;39m \u001b[0m\u001b[1;38;5;39m2023-02-14 \u001b[0m\u001b[1;38;5;39m \u001b[0m \u001b[1m \u001b[0m\u001b[1m0001752724-23-023463\u001b[0m\u001b[1m \u001b[0m \n",
       "  17  \u001b[38;5;71m \u001b[0m\u001b[38;5;71mNPORT-P  \u001b[0m\u001b[38;5;71m \u001b[0m  SCHWARTZ INVESTMENT TRUST                         891160   \u001b[38;5;39m \u001b[0m\u001b[38;5;39m2023-02-14 \u001b[0m\u001b[38;5;39m \u001b[0m  0001752724-23-023470  \n",
       " \u001b[1m \u001b[0m\u001b[1m18\u001b[0m\u001b[1m \u001b[0m \u001b[1;38;5;71m \u001b[0m\u001b[1;38;5;71mNPORT-P/A\u001b[0m\u001b[1;38;5;71m \u001b[0m \u001b[1m \u001b[0m\u001b[1mUS GLOBAL INVESTORS FUNDS                      \u001b[0m\u001b[1m \u001b[0m \u001b[1m \u001b[0m\u001b[1m101507 \u001b[0m\u001b[1m \u001b[0m \u001b[1;38;5;39m \u001b[0m\u001b[1;38;5;39m2023-02-14 \u001b[0m\u001b[1;38;5;39m \u001b[0m \u001b[1m \u001b[0m\u001b[1m0001752724-23-023961\u001b[0m\u001b[1m \u001b[0m \n",
       "  19  \u001b[38;5;71m \u001b[0m\u001b[38;5;71mNPORT-P/A\u001b[0m\u001b[38;5;71m \u001b[0m  US GLOBAL INVESTORS FUNDS                         101507   \u001b[38;5;39m \u001b[0m\u001b[38;5;39m2023-02-14 \u001b[0m\u001b[38;5;39m \u001b[0m  0001752724-23-023963  \n",
       " \u001b[1m \u001b[0m\u001b[1m20\u001b[0m\u001b[1m \u001b[0m \u001b[1;38;5;71m \u001b[0m\u001b[1;38;5;71mNPORT-P  \u001b[0m\u001b[1;38;5;71m \u001b[0m \u001b[1m \u001b[0m\u001b[1mAdvantage Advisers Xanthus Fund, L.L.C.        \u001b[0m\u001b[1m \u001b[0m \u001b[1m \u001b[0m\u001b[1m1076673\u001b[0m\u001b[1m \u001b[0m \u001b[1;38;5;39m \u001b[0m\u001b[1;38;5;39m2023-02-13 \u001b[0m\u001b[1;38;5;39m \u001b[0m \u001b[1m \u001b[0m\u001b[1m0001145549-23-006056\u001b[0m\u001b[1m \u001b[0m \n",
       "  21  \u001b[38;5;71m \u001b[0m\u001b[38;5;71mNPORT-P  \u001b[0m\u001b[38;5;71m \u001b[0m  CENTRAL SECURITIES CORP                           18748    \u001b[38;5;39m \u001b[0m\u001b[38;5;39m2023-02-13 \u001b[0m\u001b[38;5;39m \u001b[0m  0001387131-23-001845  \n",
       " \u001b[1m \u001b[0m\u001b[1m22\u001b[0m\u001b[1m \u001b[0m \u001b[1;38;5;71m \u001b[0m\u001b[1;38;5;71mNPORT-P  \u001b[0m\u001b[1;38;5;71m \u001b[0m \u001b[1m \u001b[0m\u001b[1mCYPRESS CREEK PRIVATE STRATEGIES INSTITUTIONAL \u001b[0m\u001b[1m \u001b[0m \u001b[1m \u001b[0m\u001b[1m1478268\u001b[0m\u001b[1m \u001b[0m \u001b[1;38;5;39m \u001b[0m\u001b[1;38;5;39m2023-02-13 \u001b[0m\u001b[1;38;5;39m \u001b[0m \u001b[1m \u001b[0m\u001b[1m0001145549-23-006451\u001b[0m\u001b[1m \u001b[0m \n",
       " \u001b[1m    \u001b[0m \u001b[1;38;5;71m           \u001b[0m \u001b[1m \u001b[0m\u001b[1mFUND, L.P.                                     \u001b[0m\u001b[1m \u001b[0m \u001b[1m         \u001b[0m \u001b[1;38;5;39m             \u001b[0m \u001b[1m                      \u001b[0m \n",
       "  23  \u001b[38;5;71m \u001b[0m\u001b[38;5;71mNPORT-P  \u001b[0m\u001b[38;5;71m \u001b[0m  CYPRESS CREEK PRIVATE STRATEGIES MASTER FUND L    1279392  \u001b[38;5;39m \u001b[0m\u001b[38;5;39m2023-02-13 \u001b[0m\u001b[38;5;39m \u001b[0m  0001145549-23-006448  \n",
       "      \u001b[38;5;71m           \u001b[0m  P                                                          \u001b[38;5;39m             \u001b[0m                        \n",
       " \u001b[1m \u001b[0m\u001b[1m24\u001b[0m\u001b[1m \u001b[0m \u001b[1;38;5;71m \u001b[0m\u001b[1;38;5;71mNPORT-P  \u001b[0m\u001b[1;38;5;71m \u001b[0m \u001b[1m \u001b[0m\u001b[1mCYPRESS CREEK PRIVATE STRATEGIES REGISTERED    \u001b[0m\u001b[1m \u001b[0m \u001b[1m \u001b[0m\u001b[1m1279394\u001b[0m\u001b[1m \u001b[0m \u001b[1;38;5;39m \u001b[0m\u001b[1;38;5;39m2023-02-13 \u001b[0m\u001b[1;38;5;39m \u001b[0m \u001b[1m \u001b[0m\u001b[1m0001145549-23-006449\u001b[0m\u001b[1m \u001b[0m \n",
       " \u001b[1m    \u001b[0m \u001b[1;38;5;71m           \u001b[0m \u001b[1m \u001b[0m\u001b[1mFUND L P                                       \u001b[0m\u001b[1m \u001b[0m \u001b[1m         \u001b[0m \u001b[1;38;5;39m             \u001b[0m \u001b[1m                      \u001b[0m \n",
       "  25  \u001b[38;5;71m \u001b[0m\u001b[38;5;71mNPORT-P  \u001b[0m\u001b[38;5;71m \u001b[0m  CYPRESS CREEK PRIVATE STRATEGIES TEI FUND, L.P.   1320688  \u001b[38;5;39m \u001b[0m\u001b[38;5;39m2023-02-13 \u001b[0m\u001b[38;5;39m \u001b[0m  0001145549-23-006450  \n",
       " \u001b[1m \u001b[0m\u001b[1m26\u001b[0m\u001b[1m \u001b[0m \u001b[1;38;5;71m \u001b[0m\u001b[1;38;5;71mNPORT-P  \u001b[0m\u001b[1;38;5;71m \u001b[0m \u001b[1m \u001b[0m\u001b[1mEndowment PMF Master Fund, L.P.                \u001b[0m\u001b[1m \u001b[0m \u001b[1m \u001b[0m\u001b[1m1597218\u001b[0m\u001b[1m \u001b[0m \u001b[1;38;5;39m \u001b[0m\u001b[1;38;5;39m2023-02-13 \u001b[0m\u001b[1;38;5;39m \u001b[0m \u001b[1m \u001b[0m\u001b[1m0001145549-23-006452\u001b[0m\u001b[1m \u001b[0m \n",
       "  27  \u001b[38;5;71m \u001b[0m\u001b[38;5;71mNPORT-P  \u001b[0m\u001b[38;5;71m \u001b[0m  FundX Investment Trust                            1602508  \u001b[38;5;39m \u001b[0m\u001b[38;5;39m2023-02-13 \u001b[0m\u001b[38;5;39m \u001b[0m  0001145549-23-006370  \n",
       " \u001b[1m \u001b[0m\u001b[1m28\u001b[0m\u001b[1m \u001b[0m \u001b[1;38;5;71m \u001b[0m\u001b[1;38;5;71mNPORT-P  \u001b[0m\u001b[1;38;5;71m \u001b[0m \u001b[1m \u001b[0m\u001b[1mFundX Investment Trust                         \u001b[0m\u001b[1m \u001b[0m \u001b[1m \u001b[0m\u001b[1m1602508\u001b[0m\u001b[1m \u001b[0m \u001b[1;38;5;39m \u001b[0m\u001b[1;38;5;39m2023-02-13 \u001b[0m\u001b[1;38;5;39m \u001b[0m \u001b[1m \u001b[0m\u001b[1m0001145549-23-006371\u001b[0m\u001b[1m \u001b[0m \n",
       "  29  \u001b[38;5;71m \u001b[0m\u001b[38;5;71mNPORT-P  \u001b[0m\u001b[38;5;71m \u001b[0m  FundX Investment Trust                            1602508  \u001b[38;5;39m \u001b[0m\u001b[38;5;39m2023-02-13 \u001b[0m\u001b[38;5;39m \u001b[0m  0001145549-23-006372  \n",
       " \u001b[1m \u001b[0m\u001b[1m30\u001b[0m\u001b[1m \u001b[0m \u001b[1;38;5;71m \u001b[0m\u001b[1;38;5;71mNPORT-P  \u001b[0m\u001b[1;38;5;71m \u001b[0m \u001b[1m \u001b[0m\u001b[1mFundX Investment Trust                         \u001b[0m\u001b[1m \u001b[0m \u001b[1m \u001b[0m\u001b[1m1602508\u001b[0m\u001b[1m \u001b[0m \u001b[1;38;5;39m \u001b[0m\u001b[1;38;5;39m2023-02-13 \u001b[0m\u001b[1;38;5;39m \u001b[0m \u001b[1m \u001b[0m\u001b[1m0001145549-23-006373\u001b[0m\u001b[1m \u001b[0m \n",
       "  31  \u001b[38;5;71m \u001b[0m\u001b[38;5;71mNPORT-P  \u001b[0m\u001b[38;5;71m \u001b[0m  FundX Investment Trust                            1602508  \u001b[38;5;39m \u001b[0m\u001b[38;5;39m2023-02-13 \u001b[0m\u001b[38;5;39m \u001b[0m  0001145549-23-006374  \n",
       " \u001b[1m \u001b[0m\u001b[1m32\u001b[0m\u001b[1m \u001b[0m \u001b[1;38;5;71m \u001b[0m\u001b[1;38;5;71mNPORT-P  \u001b[0m\u001b[1;38;5;71m \u001b[0m \u001b[1m \u001b[0m\u001b[1mPMF Fund, L.P.                                 \u001b[0m\u001b[1m \u001b[0m \u001b[1m \u001b[0m\u001b[1m1597219\u001b[0m\u001b[1m \u001b[0m \u001b[1;38;5;39m \u001b[0m\u001b[1;38;5;39m2023-02-13 \u001b[0m\u001b[1;38;5;39m \u001b[0m \u001b[1m \u001b[0m\u001b[1m0001145549-23-006453\u001b[0m\u001b[1m \u001b[0m \n",
       "  33  \u001b[38;5;71m \u001b[0m\u001b[38;5;71mNPORT-P  \u001b[0m\u001b[38;5;71m \u001b[0m  PMF TEI Fund, L.P.                                1597220  \u001b[38;5;39m \u001b[0m\u001b[38;5;39m2023-02-13 \u001b[0m\u001b[38;5;39m \u001b[0m  0001145549-23-006454  \n",
       " \u001b[1m \u001b[0m\u001b[1m34\u001b[0m\u001b[1m \u001b[0m \u001b[1;38;5;71m \u001b[0m\u001b[1;38;5;71mNPORT-P  \u001b[0m\u001b[1;38;5;71m \u001b[0m \u001b[1m \u001b[0m\u001b[1mWorld Funds Trust                              \u001b[0m\u001b[1m \u001b[0m \u001b[1m \u001b[0m\u001b[1m1396092\u001b[0m\u001b[1m \u001b[0m \u001b[1;38;5;39m \u001b[0m\u001b[1;38;5;39m2023-02-13 \u001b[0m\u001b[1;38;5;39m \u001b[0m \u001b[1m \u001b[0m\u001b[1m0001752724-23-022129\u001b[0m\u001b[1m \u001b[0m \n",
       "  35  \u001b[38;5;71m \u001b[0m\u001b[38;5;71mNPORT-P  \u001b[0m\u001b[38;5;71m \u001b[0m  World Funds Trust                                 1396092  \u001b[38;5;39m \u001b[0m\u001b[38;5;39m2023-02-13 \u001b[0m\u001b[38;5;39m \u001b[0m  0001752724-23-022131  \n",
       " \u001b[1m \u001b[0m\u001b[1m36\u001b[0m\u001b[1m \u001b[0m \u001b[1;38;5;71m \u001b[0m\u001b[1;38;5;71mNPORT-P  \u001b[0m\u001b[1;38;5;71m \u001b[0m \u001b[1m \u001b[0m\u001b[1mWorld Funds Trust                              \u001b[0m\u001b[1m \u001b[0m \u001b[1m \u001b[0m\u001b[1m1396092\u001b[0m\u001b[1m \u001b[0m \u001b[1;38;5;39m \u001b[0m\u001b[1;38;5;39m2023-02-13 \u001b[0m\u001b[1;38;5;39m \u001b[0m \u001b[1m \u001b[0m\u001b[1m0001752724-23-022132\u001b[0m\u001b[1m \u001b[0m \n",
       "  37  \u001b[38;5;71m \u001b[0m\u001b[38;5;71mNPORT-P  \u001b[0m\u001b[38;5;71m \u001b[0m  World Funds Trust                                 1396092  \u001b[38;5;39m \u001b[0m\u001b[38;5;39m2023-02-13 \u001b[0m\u001b[38;5;39m \u001b[0m  0001752724-23-022133  \n",
       " \u001b[1m \u001b[0m\u001b[1m38\u001b[0m\u001b[1m \u001b[0m \u001b[1;38;5;71m \u001b[0m\u001b[1;38;5;71mNPORT-P  \u001b[0m\u001b[1;38;5;71m \u001b[0m \u001b[1m \u001b[0m\u001b[1mWorld Funds Trust                              \u001b[0m\u001b[1m \u001b[0m \u001b[1m \u001b[0m\u001b[1m1396092\u001b[0m\u001b[1m \u001b[0m \u001b[1;38;5;39m \u001b[0m\u001b[1;38;5;39m2023-02-13 \u001b[0m\u001b[1;38;5;39m \u001b[0m \u001b[1m \u001b[0m\u001b[1m0001752724-23-022138\u001b[0m\u001b[1m \u001b[0m \n",
       "  39  \u001b[38;5;71m \u001b[0m\u001b[38;5;71mNPORT-P  \u001b[0m\u001b[38;5;71m \u001b[0m  World Funds Trust                                 1396092  \u001b[38;5;39m \u001b[0m\u001b[38;5;39m2023-02-13 \u001b[0m\u001b[38;5;39m \u001b[0m  0001752724-23-022139  \n",
       " \u001b[1m \u001b[0m\u001b[1m40\u001b[0m\u001b[1m \u001b[0m \u001b[1;38;5;71m \u001b[0m\u001b[1;38;5;71mNPORT-P  \u001b[0m\u001b[1;38;5;71m \u001b[0m \u001b[1m \u001b[0m\u001b[1mWorld Funds Trust                              \u001b[0m\u001b[1m \u001b[0m \u001b[1m \u001b[0m\u001b[1m1396092\u001b[0m\u001b[1m \u001b[0m \u001b[1;38;5;39m \u001b[0m\u001b[1;38;5;39m2023-02-13 \u001b[0m\u001b[1;38;5;39m \u001b[0m \u001b[1m \u001b[0m\u001b[1m0001752724-23-022140\u001b[0m\u001b[1m \u001b[0m \n",
       "  41  \u001b[38;5;71m \u001b[0m\u001b[38;5;71mNPORT-P  \u001b[0m\u001b[38;5;71m \u001b[0m  World Funds Trust                                 1396092  \u001b[38;5;39m \u001b[0m\u001b[38;5;39m2023-02-13 \u001b[0m\u001b[38;5;39m \u001b[0m  0001752724-23-022141  \n",
       " \u001b[1m \u001b[0m\u001b[1m42\u001b[0m\u001b[1m \u001b[0m \u001b[1;38;5;71m \u001b[0m\u001b[1;38;5;71mNPORT-P  \u001b[0m\u001b[1;38;5;71m \u001b[0m \u001b[1m \u001b[0m\u001b[1mWorld Funds Trust                              \u001b[0m\u001b[1m \u001b[0m \u001b[1m \u001b[0m\u001b[1m1396092\u001b[0m\u001b[1m \u001b[0m \u001b[1;38;5;39m \u001b[0m\u001b[1;38;5;39m2023-02-13 \u001b[0m\u001b[1;38;5;39m \u001b[0m \u001b[1m \u001b[0m\u001b[1m0001752724-23-022142\u001b[0m\u001b[1m \u001b[0m \n",
       "  43  \u001b[38;5;71m \u001b[0m\u001b[38;5;71mNPORT-P  \u001b[0m\u001b[38;5;71m \u001b[0m  World Funds Trust                                 1396092  \u001b[38;5;39m \u001b[0m\u001b[38;5;39m2023-02-13 \u001b[0m\u001b[38;5;39m \u001b[0m  0001752724-23-022143  \n",
       " \u001b[1m \u001b[0m\u001b[1m44\u001b[0m\u001b[1m \u001b[0m \u001b[1;38;5;71m \u001b[0m\u001b[1;38;5;71mNPORT-P  \u001b[0m\u001b[1;38;5;71m \u001b[0m \u001b[1m \u001b[0m\u001b[1mWorld Funds Trust                              \u001b[0m\u001b[1m \u001b[0m \u001b[1m \u001b[0m\u001b[1m1396092\u001b[0m\u001b[1m \u001b[0m \u001b[1;38;5;39m \u001b[0m\u001b[1;38;5;39m2023-02-13 \u001b[0m\u001b[1;38;5;39m \u001b[0m \u001b[1m \u001b[0m\u001b[1m0001752724-23-022144\u001b[0m\u001b[1m \u001b[0m \n",
       "  45  \u001b[38;5;71m \u001b[0m\u001b[38;5;71mNPORT-P  \u001b[0m\u001b[38;5;71m \u001b[0m  World Funds Trust                                 1396092  \u001b[38;5;39m \u001b[0m\u001b[38;5;39m2023-02-13 \u001b[0m\u001b[38;5;39m \u001b[0m  0001752724-23-022145  \n",
       " \u001b[1m \u001b[0m\u001b[1m46\u001b[0m\u001b[1m \u001b[0m \u001b[1;38;5;71m \u001b[0m\u001b[1;38;5;71mNPORT-P  \u001b[0m\u001b[1;38;5;71m \u001b[0m \u001b[1m \u001b[0m\u001b[1mWorld Funds Trust                              \u001b[0m\u001b[1m \u001b[0m \u001b[1m \u001b[0m\u001b[1m1396092\u001b[0m\u001b[1m \u001b[0m \u001b[1;38;5;39m \u001b[0m\u001b[1;38;5;39m2023-02-13 \u001b[0m\u001b[1;38;5;39m \u001b[0m \u001b[1m \u001b[0m\u001b[1m0001752724-23-022151\u001b[0m\u001b[1m \u001b[0m \n",
       "  47  \u001b[38;5;71m \u001b[0m\u001b[38;5;71mNPORT-P/A\u001b[0m\u001b[38;5;71m \u001b[0m  SHELTON FUNDS                                     778206   \u001b[38;5;39m \u001b[0m\u001b[38;5;39m2023-02-13 \u001b[0m\u001b[38;5;39m \u001b[0m  0001387131-23-001859  \n",
       " \u001b[1m \u001b[0m\u001b[1m48\u001b[0m\u001b[1m \u001b[0m \u001b[1;38;5;71m \u001b[0m\u001b[1;38;5;71mNPORT-P/A\u001b[0m\u001b[1;38;5;71m \u001b[0m \u001b[1m \u001b[0m\u001b[1mSHELTON FUNDS                                  \u001b[0m\u001b[1m \u001b[0m \u001b[1m \u001b[0m\u001b[1m778206 \u001b[0m\u001b[1m \u001b[0m \u001b[1;38;5;39m \u001b[0m\u001b[1;38;5;39m2023-02-13 \u001b[0m\u001b[1;38;5;39m \u001b[0m \u001b[1m \u001b[0m\u001b[1m0001387131-23-001862\u001b[0m\u001b[1m \u001b[0m \n",
       "  49  \u001b[38;5;71m \u001b[0m\u001b[38;5;71mNPORT-P/A\u001b[0m\u001b[38;5;71m \u001b[0m  SHELTON FUNDS                                     778206   \u001b[38;5;39m \u001b[0m\u001b[38;5;39m2023-02-13 \u001b[0m\u001b[38;5;39m \u001b[0m  0001387131-23-001863  \n",
       "                                                                                                                   \n",
       "Showing 50 of 2,740 filings"
      ]
     },
     "execution_count": 28,
     "metadata": {},
     "output_type": "execute_result"
    }
   ],
   "source": [
    "funds = get_funds()\n",
    "funds"
   ]
  },
  {
   "cell_type": "markdown",
   "id": "6b2a3ce0",
   "metadata": {},
   "source": [
    "## Fund Report"
   ]
  },
  {
   "cell_type": "code",
   "execution_count": 29,
   "id": "cb7df50e",
   "metadata": {},
   "outputs": [
    {
     "data": {
      "text/html": [
       "<pre style=\"white-space:pre;overflow-x:auto;line-height:normal;font-family:Menlo,'DejaVu Sans Mono',consolas,'Courier New',monospace\"></pre>\n"
      ],
      "text/plain": []
     },
     "metadata": {},
     "output_type": "display_data"
    },
    {
     "data": {
      "text/plain": [
       "\u001b[1;38;5;71mConestoga Funds - CONESTOGA SMALL CAP FUND\u001b[0m\n",
       "\u001b[1;38;5;39m                                      Fund Summary                                       \u001b[0m\n",
       "                                                                                         \n",
       " \u001b[1m \u001b[0m\u001b[1mAssets        \u001b[0m\u001b[1m \u001b[0m \u001b[1m \u001b[0m\u001b[1mLiabilities\u001b[0m\u001b[1m \u001b[0m \u001b[1m \u001b[0m\u001b[1mNet Assets    \u001b[0m\u001b[1m \u001b[0m \u001b[1m \u001b[0m\u001b[1mInvestments\u001b[0m\u001b[1m \u001b[0m \u001b[1m \u001b[0m\u001b[1mPeriod                 \u001b[0m\u001b[1m \u001b[0m \n",
       " ─────────────────────────────────────────────────────────────────────────────────────── \n",
       "  $3,071,257,176   $12,727,609   $3,058,529,567   46            2022-12-31 - 2023-09-30  \n",
       "                                                                                         \n",
       "\u001b[1;38;5;39m                      Interest Rate Sensitivity                      \u001b[0m\n",
       "                                                                     \n",
       " \u001b[1m \u001b[0m\u001b[1mMetric\u001b[0m\u001b[1m \u001b[0m \u001b[1m \u001b[0m\u001b[1mCurrency\u001b[0m\u001b[1m \u001b[0m \u001b[1m \u001b[0m\u001b[1m3 month\u001b[0m\u001b[1m \u001b[0m \u001b[1m \u001b[0m\u001b[1m1 year\u001b[0m\u001b[1m \u001b[0m \u001b[1m \u001b[0m\u001b[1m5 year\u001b[0m\u001b[1m \u001b[0m \u001b[1m \u001b[0m\u001b[1m10 year\u001b[0m\u001b[1m \u001b[0m \u001b[1m \u001b[0m\u001b[1m30 year\u001b[0m\u001b[1m \u001b[0m \n",
       " ─────────────────────────────────────────────────────────────────── \n",
       "                                                                     \n",
       " \n",
       "\u001b[1;38;5;39m                                                    Investments                                                    \u001b[0m\n",
       "                                                                                                                   \n",
       " \u001b[1m \u001b[0m\u001b[1m  \u001b[0m\u001b[1m \u001b[0m \u001b[1m \u001b[0m\u001b[1mName                       \u001b[0m\u001b[1m \u001b[0m \u001b[1m \u001b[0m\u001b[1mTitle                       \u001b[0m\u001b[1m \u001b[0m \u001b[1m \u001b[0m\u001b[1mCusip    \u001b[0m\u001b[1m \u001b[0m \u001b[1m \u001b[0m\u001b[1mCategory\u001b[0m\u001b[1m \u001b[0m \u001b[1m \u001b[0m\u001b[1mValue       \u001b[0m\u001b[1m \u001b[0m \u001b[1m \u001b[0m\u001b[1mPercent\u001b[0m\u001b[1m \u001b[0m \n",
       " ───────────────────────────────────────────────────────────────────────────────────────────────────────────────── \n",
       " \u001b[1m \u001b[0m\u001b[1m0 \u001b[0m\u001b[1m \u001b[0m \u001b[1m \u001b[0m\u001b[1mExponent Inc               \u001b[0m\u001b[1m \u001b[0m \u001b[1m \u001b[0m\u001b[1mExponent, Inc.              \u001b[0m\u001b[1m \u001b[0m \u001b[1m \u001b[0m\u001b[1m30214U102\u001b[0m\u001b[1m \u001b[0m \u001b[1m \u001b[0m\u001b[1mCORP EC \u001b[0m\u001b[1m \u001b[0m \u001b[1m \u001b[0m\u001b[1m$140,520,024\u001b[0m\u001b[1m \u001b[0m \u001b[1m \u001b[0m\u001b[1m4.6    \u001b[0m\u001b[1m \u001b[0m \n",
       "  1    Casella Waste Systems, Inc.   Casella Waste Systems, Inc.    147448104   CORP EC    $139,191,826   4.6      \n",
       " \u001b[1m \u001b[0m\u001b[1m2 \u001b[0m\u001b[1m \u001b[0m \u001b[1m \u001b[0m\u001b[1mAaon Inc                   \u001b[0m\u001b[1m \u001b[0m \u001b[1m \u001b[0m\u001b[1mAAON, Inc.                  \u001b[0m\u001b[1m \u001b[0m \u001b[1m \u001b[0m\u001b[1m000360206\u001b[0m\u001b[1m \u001b[0m \u001b[1m \u001b[0m\u001b[1mCORP EC \u001b[0m\u001b[1m \u001b[0m \u001b[1m \u001b[0m\u001b[1m$131,985,119\u001b[0m\u001b[1m \u001b[0m \u001b[1m \u001b[0m\u001b[1m4.3    \u001b[0m\u001b[1m \u001b[0m \n",
       "  3    Descartes Systems Group       Descartes Systems Group,       249906108   CORP EC    $124,269,251   4.1      \n",
       "       Inc.                          Inc. (The)                                                                    \n",
       " \u001b[1m \u001b[0m\u001b[1m4 \u001b[0m\u001b[1m \u001b[0m \u001b[1m \u001b[0m\u001b[1mSPS Commerce Inc           \u001b[0m\u001b[1m \u001b[0m \u001b[1m \u001b[0m\u001b[1mSPS Commerce, Inc.          \u001b[0m\u001b[1m \u001b[0m \u001b[1m \u001b[0m\u001b[1m78463M107\u001b[0m\u001b[1m \u001b[0m \u001b[1m \u001b[0m\u001b[1mCORP EC \u001b[0m\u001b[1m \u001b[0m \u001b[1m \u001b[0m\u001b[1m$121,903,187\u001b[0m\u001b[1m \u001b[0m \u001b[1m \u001b[0m\u001b[1m4.0    \u001b[0m\u001b[1m \u001b[0m \n",
       "  5    Novanta Inc                   NOVANTA INCORPORATED           67000B104   CORP EC    $114,696,699   3.8      \n",
       " \u001b[1m \u001b[0m\u001b[1m6 \u001b[0m\u001b[1m \u001b[0m \u001b[1m \u001b[0m\u001b[1mModel N Inc.               \u001b[0m\u001b[1m \u001b[0m \u001b[1m \u001b[0m\u001b[1mMODEL N, INC.               \u001b[0m\u001b[1m \u001b[0m \u001b[1m \u001b[0m\u001b[1m607525102\u001b[0m\u001b[1m \u001b[0m \u001b[1m \u001b[0m\u001b[1mCORP EC \u001b[0m\u001b[1m \u001b[0m \u001b[1m \u001b[0m\u001b[1m$104,106,123\u001b[0m\u001b[1m \u001b[0m \u001b[1m \u001b[0m\u001b[1m3.4    \u001b[0m\u001b[1m \u001b[0m \n",
       "  7    Axon Enterprise Inc           Axon Enterprise, Inc.          05464C101   CORP EC    $95,096,142    3.1      \n",
       " \u001b[1m \u001b[0m\u001b[1m8 \u001b[0m\u001b[1m \u001b[0m \u001b[1m \u001b[0m\u001b[1mFirstService Corp.         \u001b[0m\u001b[1m \u001b[0m \u001b[1m \u001b[0m\u001b[1mFIRSTSERVICE CORPORATION    \u001b[0m\u001b[1m \u001b[0m \u001b[1m \u001b[0m\u001b[1m33767E202\u001b[0m\u001b[1m \u001b[0m \u001b[1m \u001b[0m\u001b[1mCORP EC \u001b[0m\u001b[1m \u001b[0m \u001b[1m \u001b[0m\u001b[1m$91,941,299 \u001b[0m\u001b[1m \u001b[0m \u001b[1m \u001b[0m\u001b[1m3.0    \u001b[0m\u001b[1m \u001b[0m \n",
       "  9    Merit Medical Systems Inc.    Merit Medical Systems, Inc.    589889104   CORP EC    $84,764,833    2.8      \n",
       " \u001b[1m \u001b[0m\u001b[1m10\u001b[0m\u001b[1m \u001b[0m \u001b[1m \u001b[0m\u001b[1mFox Factory Holding        \u001b[0m\u001b[1m \u001b[0m \u001b[1m \u001b[0m\u001b[1mFox Factory Holding         \u001b[0m\u001b[1m \u001b[0m \u001b[1m \u001b[0m\u001b[1m35138V102\u001b[0m\u001b[1m \u001b[0m \u001b[1m \u001b[0m\u001b[1mCORP EC \u001b[0m\u001b[1m \u001b[0m \u001b[1m \u001b[0m\u001b[1m$82,689,777 \u001b[0m\u001b[1m \u001b[0m \u001b[1m \u001b[0m\u001b[1m2.7    \u001b[0m\u001b[1m \u001b[0m \n",
       " \u001b[1m    \u001b[0m \u001b[1m \u001b[0m\u001b[1mCorporation                \u001b[0m\u001b[1m \u001b[0m \u001b[1m \u001b[0m\u001b[1mCorporation                 \u001b[0m\u001b[1m \u001b[0m \u001b[1m           \u001b[0m \u001b[1m          \u001b[0m \u001b[1m              \u001b[0m \u001b[1m         \u001b[0m \n",
       "  11   RBC Bearings Inc              RBC Bearings, Inc.             75524B104   CORP EC    $81,578,461    2.7      \n",
       " \u001b[1m \u001b[0m\u001b[1m12\u001b[0m\u001b[1m \u001b[0m \u001b[1m \u001b[0m\u001b[1mConstruction Partners Inc. \u001b[0m\u001b[1m \u001b[0m \u001b[1m \u001b[0m\u001b[1mConstruction Partners, Inc. \u001b[0m\u001b[1m \u001b[0m \u001b[1m \u001b[0m\u001b[1m21044C107\u001b[0m\u001b[1m \u001b[0m \u001b[1m \u001b[0m\u001b[1mCORP EC \u001b[0m\u001b[1m \u001b[0m \u001b[1m \u001b[0m\u001b[1m$81,027,264 \u001b[0m\u001b[1m \u001b[0m \u001b[1m \u001b[0m\u001b[1m2.6    \u001b[0m\u001b[1m \u001b[0m \n",
       "  13   Balchem Corp                  Balchem Corporation            057665200   CORP EC    $77,974,562    2.5      \n",
       " \u001b[1m \u001b[0m\u001b[1m14\u001b[0m\u001b[1m \u001b[0m \u001b[1m \u001b[0m\u001b[1mSimpson Manufacturing Co   \u001b[0m\u001b[1m \u001b[0m \u001b[1m \u001b[0m\u001b[1mSimpson Manufacturing       \u001b[0m\u001b[1m \u001b[0m \u001b[1m \u001b[0m\u001b[1m829073105\u001b[0m\u001b[1m \u001b[0m \u001b[1m \u001b[0m\u001b[1mCORP EC \u001b[0m\u001b[1m \u001b[0m \u001b[1m \u001b[0m\u001b[1m$75,963,001 \u001b[0m\u001b[1m \u001b[0m \u001b[1m \u001b[0m\u001b[1m2.5    \u001b[0m\u001b[1m \u001b[0m \n",
       " \u001b[1m    \u001b[0m \u001b[1m \u001b[0m\u001b[1mInc.                       \u001b[0m\u001b[1m \u001b[0m \u001b[1m \u001b[0m\u001b[1mCompany, Inc.               \u001b[0m\u001b[1m \u001b[0m \u001b[1m           \u001b[0m \u001b[1m          \u001b[0m \u001b[1m              \u001b[0m \u001b[1m         \u001b[0m \n",
       "  15   Siteone Landscape Supply      SiteOne Landscape Supply,      82982L103   CORP EC    $75,827,436    2.5      \n",
       "       Inc                           Inc.                                                                          \n",
       " \u001b[1m \u001b[0m\u001b[1m16\u001b[0m\u001b[1m \u001b[0m \u001b[1m \u001b[0m\u001b[1mPaycor HCM Inc.            \u001b[0m\u001b[1m \u001b[0m \u001b[1m \u001b[0m\u001b[1mPaycor HCM, Inc.            \u001b[0m\u001b[1m \u001b[0m \u001b[1m \u001b[0m\u001b[1m70435P102\u001b[0m\u001b[1m \u001b[0m \u001b[1m \u001b[0m\u001b[1mCORP EC \u001b[0m\u001b[1m \u001b[0m \u001b[1m \u001b[0m\u001b[1m$68,391,937 \u001b[0m\u001b[1m \u001b[0m \u001b[1m \u001b[0m\u001b[1m2.2    \u001b[0m\u001b[1m \u001b[0m \n",
       "  17   Altair Engineering Inc        Altair Engineering, Inc.       021369103   CORP EC    $66,669,478    2.2      \n",
       " \u001b[1m \u001b[0m\u001b[1m18\u001b[0m\u001b[1m \u001b[0m \u001b[1m \u001b[0m\u001b[1mBlackline Inc              \u001b[0m\u001b[1m \u001b[0m \u001b[1m \u001b[0m\u001b[1mBlackLine, Inc.             \u001b[0m\u001b[1m \u001b[0m \u001b[1m \u001b[0m\u001b[1m09239B109\u001b[0m\u001b[1m \u001b[0m \u001b[1m \u001b[0m\u001b[1mCORP EC \u001b[0m\u001b[1m \u001b[0m \u001b[1m \u001b[0m\u001b[1m$65,246,182 \u001b[0m\u001b[1m \u001b[0m \u001b[1m \u001b[0m\u001b[1m2.1    \u001b[0m\u001b[1m \u001b[0m \n",
       "  19   Mesa Laboratories Inc.        Mesa Laboratories, Inc.        59064R109   CORP EC    $64,855,973    2.1      \n",
       " \u001b[1m \u001b[0m\u001b[1m20\u001b[0m\u001b[1m \u001b[0m \u001b[1m \u001b[0m\u001b[1mMercury Systems Inc        \u001b[0m\u001b[1m \u001b[0m \u001b[1m \u001b[0m\u001b[1mMERCURY SYSTEMS INCORPORATED\u001b[0m\u001b[1m \u001b[0m \u001b[1m \u001b[0m\u001b[1m589378108\u001b[0m\u001b[1m \u001b[0m \u001b[1m \u001b[0m\u001b[1mCORP EC \u001b[0m\u001b[1m \u001b[0m \u001b[1m \u001b[0m\u001b[1m$63,257,797 \u001b[0m\u001b[1m \u001b[0m \u001b[1m \u001b[0m\u001b[1m2.1    \u001b[0m\u001b[1m \u001b[0m \n",
       "  21   Repligen Corporation          Repligen Corporation           759916109   CORP EC    $61,088,741    2.0      \n",
       " \u001b[1m \u001b[0m\u001b[1m22\u001b[0m\u001b[1m \u001b[0m \u001b[1m \u001b[0m\u001b[1mESCO Technologies Inc.     \u001b[0m\u001b[1m \u001b[0m \u001b[1m \u001b[0m\u001b[1mESCO Technologies, Inc.     \u001b[0m\u001b[1m \u001b[0m \u001b[1m \u001b[0m\u001b[1m296315104\u001b[0m\u001b[1m \u001b[0m \u001b[1m \u001b[0m\u001b[1mCORP EC \u001b[0m\u001b[1m \u001b[0m \u001b[1m \u001b[0m\u001b[1m$59,214,682 \u001b[0m\u001b[1m \u001b[0m \u001b[1m \u001b[0m\u001b[1m1.9    \u001b[0m\u001b[1m \u001b[0m \n",
       "  23   Lemaitre Vascular Inc.        LeMaitre Vascular, Inc.        525558201   CORP EC    $58,707,530    1.9      \n",
       " \u001b[1m \u001b[0m\u001b[1m24\u001b[0m\u001b[1m \u001b[0m \u001b[1m \u001b[0m\u001b[1mHelios Technologies Inc    \u001b[0m\u001b[1m \u001b[0m \u001b[1m \u001b[0m\u001b[1mHELIOS TECHNOLOGIES, INC.   \u001b[0m\u001b[1m \u001b[0m \u001b[1m \u001b[0m\u001b[1m42328H109\u001b[0m\u001b[1m \u001b[0m \u001b[1m \u001b[0m\u001b[1mCORP EC \u001b[0m\u001b[1m \u001b[0m \u001b[1m \u001b[0m\u001b[1m$58,151,883 \u001b[0m\u001b[1m \u001b[0m \u001b[1m \u001b[0m\u001b[1m1.9    \u001b[0m\u001b[1m \u001b[0m \n",
       "  25   Simulations Plus Inc.         Simulations Plus, Inc.         829214105   CORP EC    $55,247,981    1.8      \n",
       " \u001b[1m \u001b[0m\u001b[1m26\u001b[0m\u001b[1m \u001b[0m \u001b[1m \u001b[0m\u001b[1mDouglas Dynamics Inc.      \u001b[0m\u001b[1m \u001b[0m \u001b[1m \u001b[0m\u001b[1mDouglas Dynamics, Inc.      \u001b[0m\u001b[1m \u001b[0m \u001b[1m \u001b[0m\u001b[1m25960R105\u001b[0m\u001b[1m \u001b[0m \u001b[1m \u001b[0m\u001b[1mCORP EC \u001b[0m\u001b[1m \u001b[0m \u001b[1m \u001b[0m\u001b[1m$53,260,606 \u001b[0m\u001b[1m \u001b[0m \u001b[1m \u001b[0m\u001b[1m1.7    \u001b[0m\u001b[1m \u001b[0m \n",
       "  27   Evoqua Water Technologies     Evoqua Water Technologies      30057T105   CORP EC    $52,948,170    1.7      \n",
       "       Corp                          Corporation                                                                   \n",
       " \u001b[1m \u001b[0m\u001b[1m28\u001b[0m\u001b[1m \u001b[0m \u001b[1m \u001b[0m\u001b[1mNeogen Corp                \u001b[0m\u001b[1m \u001b[0m \u001b[1m \u001b[0m\u001b[1mNeogen Corporation          \u001b[0m\u001b[1m \u001b[0m \u001b[1m \u001b[0m\u001b[1m640491106\u001b[0m\u001b[1m \u001b[0m \u001b[1m \u001b[0m\u001b[1mCORP EC \u001b[0m\u001b[1m \u001b[0m \u001b[1m \u001b[0m\u001b[1m$51,227,110 \u001b[0m\u001b[1m \u001b[0m \u001b[1m \u001b[0m\u001b[1m1.7    \u001b[0m\u001b[1m \u001b[0m \n",
       "  29   PROS Holdings Inc.            PROS Holdings, Inc.            74346Y103   CORP EC    $51,059,173    1.7      \n",
       " \u001b[1m \u001b[0m\u001b[1m30\u001b[0m\u001b[1m \u001b[0m \u001b[1m \u001b[0m\u001b[1mAzenta Inc                 \u001b[0m\u001b[1m \u001b[0m \u001b[1m \u001b[0m\u001b[1mAzenta, Inc.                \u001b[0m\u001b[1m \u001b[0m \u001b[1m \u001b[0m\u001b[1m114340102\u001b[0m\u001b[1m \u001b[0m \u001b[1m \u001b[0m\u001b[1mCORP EC \u001b[0m\u001b[1m \u001b[0m \u001b[1m \u001b[0m\u001b[1m$50,272,795 \u001b[0m\u001b[1m \u001b[0m \u001b[1m \u001b[0m\u001b[1m1.6    \u001b[0m\u001b[1m \u001b[0m \n",
       "  31   John Bean Technologies        John Bean Technologies         477839104   CORP EC    $49,941,984    1.6      \n",
       "       Corp.                         Corporation                                                                   \n",
       " \u001b[1m \u001b[0m\u001b[1m32\u001b[0m\u001b[1m \u001b[0m \u001b[1m \u001b[0m\u001b[1mOmnicell Inc               \u001b[0m\u001b[1m \u001b[0m \u001b[1m \u001b[0m\u001b[1mOmnicell, Inc.              \u001b[0m\u001b[1m \u001b[0m \u001b[1m \u001b[0m\u001b[1m68213N109\u001b[0m\u001b[1m \u001b[0m \u001b[1m \u001b[0m\u001b[1mCORP EC \u001b[0m\u001b[1m \u001b[0m \u001b[1m \u001b[0m\u001b[1m$45,999,426 \u001b[0m\u001b[1m \u001b[0m \u001b[1m \u001b[0m\u001b[1m1.5    \u001b[0m\u001b[1m \u001b[0m \n",
       "  33   Workiva Inc                   WORKIVA, INC.                  98139A105   CORP EC    $44,511,237    1.5      \n",
       " \u001b[1m \u001b[0m\u001b[1m34\u001b[0m\u001b[1m \u001b[0m \u001b[1m \u001b[0m\u001b[1mTrex Company, Inc.         \u001b[0m\u001b[1m \u001b[0m \u001b[1m \u001b[0m\u001b[1mTrex Company, Inc.          \u001b[0m\u001b[1m \u001b[0m \u001b[1m \u001b[0m\u001b[1m89531P105\u001b[0m\u001b[1m \u001b[0m \u001b[1m \u001b[0m\u001b[1mCORP EC \u001b[0m\u001b[1m \u001b[0m \u001b[1m \u001b[0m\u001b[1m$41,419,270 \u001b[0m\u001b[1m \u001b[0m \u001b[1m \u001b[0m\u001b[1m1.4    \u001b[0m\u001b[1m \u001b[0m \n",
       "  35   Vericel Corporation           Vericel Corporation            92346J108   CORP EC    $40,920,244    1.3      \n",
       " \u001b[1m \u001b[0m\u001b[1m36\u001b[0m\u001b[1m \u001b[0m \u001b[1m \u001b[0m\u001b[1mClearwater Analytics       \u001b[0m\u001b[1m \u001b[0m \u001b[1m \u001b[0m\u001b[1mClearwater Analytics        \u001b[0m\u001b[1m \u001b[0m \u001b[1m \u001b[0m\u001b[1m185123106\u001b[0m\u001b[1m \u001b[0m \u001b[1m \u001b[0m\u001b[1mCORP EC \u001b[0m\u001b[1m \u001b[0m \u001b[1m \u001b[0m\u001b[1m$39,412,500 \u001b[0m\u001b[1m \u001b[0m \u001b[1m \u001b[0m\u001b[1m1.3    \u001b[0m\u001b[1m \u001b[0m \n",
       " \u001b[1m    \u001b[0m \u001b[1m \u001b[0m\u001b[1mHoldings Inc               \u001b[0m\u001b[1m \u001b[0m \u001b[1m \u001b[0m\u001b[1mHoldings, Inc.              \u001b[0m\u001b[1m \u001b[0m \u001b[1m           \u001b[0m \u001b[1m          \u001b[0m \u001b[1m              \u001b[0m \u001b[1m         \u001b[0m \n",
       "  37   Stevanato Group S.p.A.        Stevanato Group S.p.A          T9224W109   CORP EC    $36,658,800    1.2      \n",
       " \u001b[1m \u001b[0m\u001b[1m38\u001b[0m\u001b[1m \u001b[0m \u001b[1m \u001b[0m\u001b[1mOmega Flex Inc             \u001b[0m\u001b[1m \u001b[0m \u001b[1m \u001b[0m\u001b[1mOMEGA FLEX, INC.            \u001b[0m\u001b[1m \u001b[0m \u001b[1m \u001b[0m\u001b[1m682095104\u001b[0m\u001b[1m \u001b[0m \u001b[1m \u001b[0m\u001b[1mCORP EC \u001b[0m\u001b[1m \u001b[0m \u001b[1m \u001b[0m\u001b[1m$34,818,532 \u001b[0m\u001b[1m \u001b[0m \u001b[1m \u001b[0m\u001b[1m1.1    \u001b[0m\u001b[1m \u001b[0m \n",
       "  39   Transcat Inc.                 TRANSCAT, INC.                 893529107   CORP EC    $34,288,607    1.1      \n",
       " \u001b[1m \u001b[0m\u001b[1m40\u001b[0m\u001b[1m \u001b[0m \u001b[1m \u001b[0m\u001b[1mQ2 Holdings Inc            \u001b[0m\u001b[1m \u001b[0m \u001b[1m \u001b[0m\u001b[1mQ2 Holdings, Inc.           \u001b[0m\u001b[1m \u001b[0m \u001b[1m \u001b[0m\u001b[1m74736L109\u001b[0m\u001b[1m \u001b[0m \u001b[1m \u001b[0m\u001b[1mCORP EC \u001b[0m\u001b[1m \u001b[0m \u001b[1m \u001b[0m\u001b[1m$33,124,396 \u001b[0m\u001b[1m \u001b[0m \u001b[1m \u001b[0m\u001b[1m1.1    \u001b[0m\u001b[1m \u001b[0m \n",
       "  41   WD-40 Co.                     WD-40 Company                  929236107   CORP EC    $32,298,585    1.1      \n",
       " \u001b[1m \u001b[0m\u001b[1m42\u001b[0m\u001b[1m \u001b[0m \u001b[1m \u001b[0m\u001b[1mHillman Solutions Corp     \u001b[0m\u001b[1m \u001b[0m \u001b[1m \u001b[0m\u001b[1mHillman Solutions           \u001b[0m\u001b[1m \u001b[0m \u001b[1m \u001b[0m\u001b[1m431636109\u001b[0m\u001b[1m \u001b[0m \u001b[1m \u001b[0m\u001b[1mCORP EC \u001b[0m\u001b[1m \u001b[0m \u001b[1m \u001b[0m\u001b[1m$27,576,448 \u001b[0m\u001b[1m \u001b[0m \u001b[1m \u001b[0m\u001b[1m0.9    \u001b[0m\u001b[1m \u001b[0m \n",
       " \u001b[1m    \u001b[0m \u001b[1m                             \u001b[0m \u001b[1m \u001b[0m\u001b[1mCorporation                 \u001b[0m\u001b[1m \u001b[0m \u001b[1m           \u001b[0m \u001b[1m          \u001b[0m \u001b[1m              \u001b[0m \u001b[1m         \u001b[0m \n",
       "  43   Vertex Inc                    Vertex, Inc. Class A           92538J106   CORP EC    $27,123,398    0.9      \n",
       " \u001b[1m \u001b[0m\u001b[1m44\u001b[0m\u001b[1m \u001b[0m \u001b[1m \u001b[0m\u001b[1mDefinitive Healthcare      \u001b[0m\u001b[1m \u001b[0m \u001b[1m \u001b[0m\u001b[1mDefinitive Healthcare       \u001b[0m\u001b[1m \u001b[0m \u001b[1m \u001b[0m\u001b[1m24477E103\u001b[0m\u001b[1m \u001b[0m \u001b[1m \u001b[0m\u001b[1mCORP EC \u001b[0m\u001b[1m \u001b[0m \u001b[1m \u001b[0m\u001b[1m$21,236,570 \u001b[0m\u001b[1m \u001b[0m \u001b[1m \u001b[0m\u001b[1m0.7    \u001b[0m\u001b[1m \u001b[0m \n",
       " \u001b[1m    \u001b[0m \u001b[1m \u001b[0m\u001b[1mCorporation                \u001b[0m\u001b[1m \u001b[0m \u001b[1m \u001b[0m\u001b[1mCorporation Class A Com     \u001b[0m\u001b[1m \u001b[0m \u001b[1m           \u001b[0m \u001b[1m          \u001b[0m \u001b[1m              \u001b[0m \u001b[1m         \u001b[0m \n",
       "  45   National Research Corp.       National Research              637372202   CORP EC    $18,776,783    0.6      \n",
       "                                     Corporation                                                                   \n",
       "                                                                                                                   "
      ]
     },
     "execution_count": 29,
     "metadata": {},
     "output_type": "execute_result"
    }
   ],
   "source": [
    "FundReport.from_xml(funds[1].xml())"
   ]
  },
  {
   "cell_type": "markdown",
   "id": "7cfb9ae2",
   "metadata": {},
   "source": [
    "# Offering"
   ]
  },
  {
   "cell_type": "code",
   "execution_count": 30,
   "id": "285c724a",
   "metadata": {},
   "outputs": [
    {
     "data": {
      "text/html": [
       "<pre style=\"white-space:pre;overflow-x:auto;line-height:normal;font-family:Menlo,'DejaVu Sans Mono',consolas,'Courier New',monospace\"></pre>\n"
      ],
      "text/plain": []
     },
     "metadata": {},
     "output_type": "display_data"
    },
    {
     "data": {
      "text/plain": [
       "\u001b[1m                                                      Filings                                                      \u001b[0m\n",
       "                                                                                                                   \n",
       " \u001b[1m \u001b[0m\u001b[1m  \u001b[0m\u001b[1m \u001b[0m \u001b[1;38;5;71m \u001b[0m\u001b[1;38;5;71mform\u001b[0m\u001b[1;38;5;71m \u001b[0m \u001b[1m \u001b[0m\u001b[1mcompany                                             \u001b[0m\u001b[1m \u001b[0m \u001b[1m \u001b[0m\u001b[1mcik    \u001b[0m\u001b[1m \u001b[0m \u001b[1;38;5;39m \u001b[0m\u001b[1;38;5;39mfiling_date\u001b[0m\u001b[1;38;5;39m \u001b[0m \u001b[1m \u001b[0m\u001b[1maccession_number    \u001b[0m\u001b[1m \u001b[0m \n",
       " ───────────────────────────────────────────────────────────────────────────────────────────────────────────────── \n",
       " \u001b[1m \u001b[0m\u001b[1m0 \u001b[0m\u001b[1m \u001b[0m \u001b[1;38;5;71m \u001b[0m\u001b[1;38;5;71mD   \u001b[0m\u001b[1;38;5;71m \u001b[0m \u001b[1m \u001b[0m\u001b[1m225 N Charles Owner, LLC                            \u001b[0m\u001b[1m \u001b[0m \u001b[1m \u001b[0m\u001b[1m1963315\u001b[0m\u001b[1m \u001b[0m \u001b[1;38;5;39m \u001b[0m\u001b[1;38;5;39m2023-02-14 \u001b[0m\u001b[1;38;5;39m \u001b[0m \u001b[1m \u001b[0m\u001b[1m0001963315-23-000001\u001b[0m\u001b[1m \u001b[0m \n",
       "  1   \u001b[38;5;71m \u001b[0m\u001b[38;5;71mD   \u001b[0m\u001b[38;5;71m \u001b[0m  AM ASIA STRATEGIES FUND LP                             1605709  \u001b[38;5;39m \u001b[0m\u001b[38;5;39m2023-02-14 \u001b[0m\u001b[38;5;39m \u001b[0m  0001605709-23-000001  \n",
       " \u001b[1m \u001b[0m\u001b[1m2 \u001b[0m\u001b[1m \u001b[0m \u001b[1;38;5;71m \u001b[0m\u001b[1;38;5;71mD   \u001b[0m\u001b[1;38;5;71m \u001b[0m \u001b[1m \u001b[0m\u001b[1mAM ASIA STRATEGIES FUND LTD.                        \u001b[0m\u001b[1m \u001b[0m \u001b[1m \u001b[0m\u001b[1m1605710\u001b[0m\u001b[1m \u001b[0m \u001b[1;38;5;39m \u001b[0m\u001b[1;38;5;39m2023-02-14 \u001b[0m\u001b[1;38;5;39m \u001b[0m \u001b[1m \u001b[0m\u001b[1m0001605710-23-000001\u001b[0m\u001b[1m \u001b[0m \n",
       "  3   \u001b[38;5;71m \u001b[0m\u001b[38;5;71mD   \u001b[0m\u001b[38;5;71m \u001b[0m  AVENUE THERAPEUTICS, INC.                              1644963  \u001b[38;5;39m \u001b[0m\u001b[38;5;39m2023-02-14 \u001b[0m\u001b[38;5;39m \u001b[0m  0001104659-23-020903  \n",
       " \u001b[1m \u001b[0m\u001b[1m4 \u001b[0m\u001b[1m \u001b[0m \u001b[1;38;5;71m \u001b[0m\u001b[1;38;5;71mD   \u001b[0m\u001b[1;38;5;71m \u001b[0m \u001b[1m \u001b[0m\u001b[1mAirlinq Inc.                                        \u001b[0m\u001b[1m \u001b[0m \u001b[1m \u001b[0m\u001b[1m1722190\u001b[0m\u001b[1m \u001b[0m \u001b[1;38;5;39m \u001b[0m\u001b[1;38;5;39m2023-02-14 \u001b[0m\u001b[1;38;5;39m \u001b[0m \u001b[1m \u001b[0m\u001b[1m0001722190-23-000002\u001b[0m\u001b[1m \u001b[0m \n",
       "  5   \u001b[38;5;71m \u001b[0m\u001b[38;5;71mD   \u001b[0m\u001b[38;5;71m \u001b[0m  American Ostrich Company, LLC                          1635887  \u001b[38;5;39m \u001b[0m\u001b[38;5;39m2023-02-14 \u001b[0m\u001b[38;5;39m \u001b[0m  0001635887-23-000001  \n",
       " \u001b[1m \u001b[0m\u001b[1m6 \u001b[0m\u001b[1m \u001b[0m \u001b[1;38;5;71m \u001b[0m\u001b[1;38;5;71mD   \u001b[0m\u001b[1;38;5;71m \u001b[0m \u001b[1m \u001b[0m\u001b[1mAndovia Inc.                                        \u001b[0m\u001b[1m \u001b[0m \u001b[1m \u001b[0m\u001b[1m1964856\u001b[0m\u001b[1m \u001b[0m \u001b[1;38;5;39m \u001b[0m\u001b[1;38;5;39m2023-02-14 \u001b[0m\u001b[1;38;5;39m \u001b[0m \u001b[1m \u001b[0m\u001b[1m0001964856-23-000001\u001b[0m\u001b[1m \u001b[0m \n",
       "  7   \u001b[38;5;71m \u001b[0m\u001b[38;5;71mD   \u001b[0m\u001b[38;5;71m \u001b[0m  Angel Collective Opportunity Fund, LP - C1             1961265  \u001b[38;5;39m \u001b[0m\u001b[38;5;39m2023-02-14 \u001b[0m\u001b[38;5;39m \u001b[0m  0001961265-23-000002  \n",
       " \u001b[1m \u001b[0m\u001b[1m8 \u001b[0m\u001b[1m \u001b[0m \u001b[1;38;5;71m \u001b[0m\u001b[1;38;5;71mD   \u001b[0m\u001b[1;38;5;71m \u001b[0m \u001b[1m \u001b[0m\u001b[1mApartmentVestors Golf Fund, LLC                     \u001b[0m\u001b[1m \u001b[0m \u001b[1m \u001b[0m\u001b[1m1965762\u001b[0m\u001b[1m \u001b[0m \u001b[1;38;5;39m \u001b[0m\u001b[1;38;5;39m2023-02-14 \u001b[0m\u001b[1;38;5;39m \u001b[0m \u001b[1m \u001b[0m\u001b[1m0001965762-23-000002\u001b[0m\u001b[1m \u001b[0m \n",
       "  9   \u001b[38;5;71m \u001b[0m\u001b[38;5;71mD   \u001b[0m\u001b[38;5;71m \u001b[0m  Apexigen, Inc.                                         1814140  \u001b[38;5;39m \u001b[0m\u001b[38;5;39m2023-02-14 \u001b[0m\u001b[38;5;39m \u001b[0m  0001947761-23-000001  \n",
       " \u001b[1m \u001b[0m\u001b[1m10\u001b[0m\u001b[1m \u001b[0m \u001b[1;38;5;71m \u001b[0m\u001b[1;38;5;71mD   \u001b[0m\u001b[1;38;5;71m \u001b[0m \u001b[1m \u001b[0m\u001b[1mArthur Ventures Growth IV, LP                       \u001b[0m\u001b[1m \u001b[0m \u001b[1m \u001b[0m\u001b[1m1963249\u001b[0m\u001b[1m \u001b[0m \u001b[1;38;5;39m \u001b[0m\u001b[1;38;5;39m2023-02-14 \u001b[0m\u001b[1;38;5;39m \u001b[0m \u001b[1m \u001b[0m\u001b[1m0001963249-23-000001\u001b[0m\u001b[1m \u001b[0m \n",
       "  11  \u001b[38;5;71m \u001b[0m\u001b[38;5;71mD   \u001b[0m\u001b[38;5;71m \u001b[0m  Arthur Ventures V, LP                                  1963208  \u001b[38;5;39m \u001b[0m\u001b[38;5;39m2023-02-14 \u001b[0m\u001b[38;5;39m \u001b[0m  0001963249-23-000002  \n",
       " \u001b[1m \u001b[0m\u001b[1m12\u001b[0m\u001b[1m \u001b[0m \u001b[1;38;5;71m \u001b[0m\u001b[1;38;5;71mD   \u001b[0m\u001b[1;38;5;71m \u001b[0m \u001b[1m \u001b[0m\u001b[1mAura Group, Inc.                                    \u001b[0m\u001b[1m \u001b[0m \u001b[1m \u001b[0m\u001b[1m1965514\u001b[0m\u001b[1m \u001b[0m \u001b[1;38;5;39m \u001b[0m\u001b[1;38;5;39m2023-02-14 \u001b[0m\u001b[1;38;5;39m \u001b[0m \u001b[1m \u001b[0m\u001b[1m0001965514-23-000001\u001b[0m\u001b[1m \u001b[0m \n",
       "  13  \u001b[38;5;71m \u001b[0m\u001b[38;5;71mD   \u001b[0m\u001b[38;5;71m \u001b[0m  BE-1122 Fund I, a series of Elder Equity Partners,     1960829  \u001b[38;5;39m \u001b[0m\u001b[38;5;39m2023-02-14 \u001b[0m\u001b[38;5;39m \u001b[0m  0001960829-23-000002  \n",
       "      \u001b[38;5;71m      \u001b[0m  LP                                                              \u001b[38;5;39m             \u001b[0m                        \n",
       " \u001b[1m \u001b[0m\u001b[1m14\u001b[0m\u001b[1m \u001b[0m \u001b[1;38;5;71m \u001b[0m\u001b[1;38;5;71mD   \u001b[0m\u001b[1;38;5;71m \u001b[0m \u001b[1m \u001b[0m\u001b[1mBala a Series of CGF2021 LLC                        \u001b[0m\u001b[1m \u001b[0m \u001b[1m \u001b[0m\u001b[1m1965648\u001b[0m\u001b[1m \u001b[0m \u001b[1;38;5;39m \u001b[0m\u001b[1;38;5;39m2023-02-14 \u001b[0m\u001b[1;38;5;39m \u001b[0m \u001b[1m \u001b[0m\u001b[1m0001965648-23-000001\u001b[0m\u001b[1m \u001b[0m \n",
       "  15  \u001b[38;5;71m \u001b[0m\u001b[38;5;71mD   \u001b[0m\u001b[38;5;71m \u001b[0m  BioSig Technologies, Inc.                              1530766  \u001b[38;5;39m \u001b[0m\u001b[38;5;39m2023-02-14 \u001b[0m\u001b[38;5;39m \u001b[0m  0001185185-23-000135  \n",
       " \u001b[1m \u001b[0m\u001b[1m16\u001b[0m\u001b[1m \u001b[0m \u001b[1;38;5;71m \u001b[0m\u001b[1;38;5;71mD   \u001b[0m\u001b[1;38;5;71m \u001b[0m \u001b[1m \u001b[0m\u001b[1mBlack Label Capital Fund I, LLC                     \u001b[0m\u001b[1m \u001b[0m \u001b[1m \u001b[0m\u001b[1m1965777\u001b[0m\u001b[1m \u001b[0m \u001b[1;38;5;39m \u001b[0m\u001b[1;38;5;39m2023-02-14 \u001b[0m\u001b[1;38;5;39m \u001b[0m \u001b[1m \u001b[0m\u001b[1m0001965777-23-000001\u001b[0m\u001b[1m \u001b[0m \n",
       "  17  \u001b[38;5;71m \u001b[0m\u001b[38;5;71mD   \u001b[0m\u001b[38;5;71m \u001b[0m  Boosted Ecommerce, Inc.                                1938619  \u001b[38;5;39m \u001b[0m\u001b[38;5;39m2023-02-14 \u001b[0m\u001b[38;5;39m \u001b[0m  0000950138-23-000044  \n",
       " \u001b[1m \u001b[0m\u001b[1m18\u001b[0m\u001b[1m \u001b[0m \u001b[1;38;5;71m \u001b[0m\u001b[1;38;5;71mD   \u001b[0m\u001b[1;38;5;71m \u001b[0m \u001b[1m \u001b[0m\u001b[1mBrassica Technologies Inc.                          \u001b[0m\u001b[1m \u001b[0m \u001b[1m \u001b[0m\u001b[1m1965789\u001b[0m\u001b[1m \u001b[0m \u001b[1;38;5;39m \u001b[0m\u001b[1;38;5;39m2023-02-14 \u001b[0m\u001b[1;38;5;39m \u001b[0m \u001b[1m \u001b[0m\u001b[1m0001231919-23-000007\u001b[0m\u001b[1m \u001b[0m \n",
       "  19  \u001b[38;5;71m \u001b[0m\u001b[38;5;71mD   \u001b[0m\u001b[38;5;71m \u001b[0m  Buddy DAO Token Inc.                                   1953102  \u001b[38;5;39m \u001b[0m\u001b[38;5;39m2023-02-14 \u001b[0m\u001b[38;5;39m \u001b[0m  0001953102-23-000001  \n",
       " \u001b[1m \u001b[0m\u001b[1m20\u001b[0m\u001b[1m \u001b[0m \u001b[1;38;5;71m \u001b[0m\u001b[1;38;5;71mD   \u001b[0m\u001b[1;38;5;71m \u001b[0m \u001b[1m \u001b[0m\u001b[1mCMWA Small Cap Fund LLC                             \u001b[0m\u001b[1m \u001b[0m \u001b[1m \u001b[0m\u001b[1m1310990\u001b[0m\u001b[1m \u001b[0m \u001b[1;38;5;39m \u001b[0m\u001b[1;38;5;39m2023-02-14 \u001b[0m\u001b[1;38;5;39m \u001b[0m \u001b[1m \u001b[0m\u001b[1m0001310990-23-000002\u001b[0m\u001b[1m \u001b[0m \n",
       "  21  \u001b[38;5;71m \u001b[0m\u001b[38;5;71mD   \u001b[0m\u001b[38;5;71m \u001b[0m  Canopy Holdings, LLC                                   1823640  \u001b[38;5;39m \u001b[0m\u001b[38;5;39m2023-02-14 \u001b[0m\u001b[38;5;39m \u001b[0m  0001823640-23-000001  \n",
       " \u001b[1m \u001b[0m\u001b[1m22\u001b[0m\u001b[1m \u001b[0m \u001b[1;38;5;71m \u001b[0m\u001b[1;38;5;71mD   \u001b[0m\u001b[1;38;5;71m \u001b[0m \u001b[1m \u001b[0m\u001b[1mCivitas Bishop Arts Mezzanine Fund, LP              \u001b[0m\u001b[1m \u001b[0m \u001b[1m \u001b[0m\u001b[1m1939560\u001b[0m\u001b[1m \u001b[0m \u001b[1;38;5;39m \u001b[0m\u001b[1;38;5;39m2023-02-14 \u001b[0m\u001b[1;38;5;39m \u001b[0m \u001b[1m \u001b[0m\u001b[1m0001315863-23-000299\u001b[0m\u001b[1m \u001b[0m \n",
       "  23  \u001b[38;5;71m \u001b[0m\u001b[38;5;71mD   \u001b[0m\u001b[38;5;71m \u001b[0m  Civitas Bishop Arts Mezzanine Fund, LP                 1939560  \u001b[38;5;39m \u001b[0m\u001b[38;5;39m2023-02-14 \u001b[0m\u001b[38;5;39m \u001b[0m  0001315863-23-000326  \n",
       " \u001b[1m \u001b[0m\u001b[1m24\u001b[0m\u001b[1m \u001b[0m \u001b[1;38;5;71m \u001b[0m\u001b[1;38;5;71mD   \u001b[0m\u001b[1;38;5;71m \u001b[0m \u001b[1m \u001b[0m\u001b[1mCivitas Cypresswood Investor, LLC                   \u001b[0m\u001b[1m \u001b[0m \u001b[1m \u001b[0m\u001b[1m1963023\u001b[0m\u001b[1m \u001b[0m \u001b[1;38;5;39m \u001b[0m\u001b[1;38;5;39m2023-02-14 \u001b[0m\u001b[1;38;5;39m \u001b[0m \u001b[1m \u001b[0m\u001b[1m0001315863-23-000330\u001b[0m\u001b[1m \u001b[0m \n",
       "  25  \u001b[38;5;71m \u001b[0m\u001b[38;5;71mD   \u001b[0m\u001b[38;5;71m \u001b[0m  Clearsense, Inc                                        1764729  \u001b[38;5;39m \u001b[0m\u001b[38;5;39m2023-02-14 \u001b[0m\u001b[38;5;39m \u001b[0m  0001200876-23-000009  \n",
       " \u001b[1m \u001b[0m\u001b[1m26\u001b[0m\u001b[1m \u001b[0m \u001b[1;38;5;71m \u001b[0m\u001b[1;38;5;71mD   \u001b[0m\u001b[1;38;5;71m \u001b[0m \u001b[1m \u001b[0m\u001b[1mClosing Docs, Inc.                                  \u001b[0m\u001b[1m \u001b[0m \u001b[1m \u001b[0m\u001b[1m1962852\u001b[0m\u001b[1m \u001b[0m \u001b[1;38;5;39m \u001b[0m\u001b[1;38;5;39m2023-02-14 \u001b[0m\u001b[1;38;5;39m \u001b[0m \u001b[1m \u001b[0m\u001b[1m0001962852-23-000001\u001b[0m\u001b[1m \u001b[0m \n",
       "  27  \u001b[38;5;71m \u001b[0m\u001b[38;5;71mD   \u001b[0m\u001b[38;5;71m \u001b[0m  Clover Private Credit Opportunities (Cayman) III LP    1960127  \u001b[38;5;39m \u001b[0m\u001b[38;5;39m2023-02-14 \u001b[0m\u001b[38;5;39m \u001b[0m  0001960127-23-000001  \n",
       " \u001b[1m \u001b[0m\u001b[1m28\u001b[0m\u001b[1m \u001b[0m \u001b[1;38;5;71m \u001b[0m\u001b[1;38;5;71mD   \u001b[0m\u001b[1;38;5;71m \u001b[0m \u001b[1m \u001b[0m\u001b[1mClover Private Credit Opportunities (Delaware) III  \u001b[0m\u001b[1m \u001b[0m \u001b[1m \u001b[0m\u001b[1m1960300\u001b[0m\u001b[1m \u001b[0m \u001b[1;38;5;39m \u001b[0m\u001b[1;38;5;39m2023-02-14 \u001b[0m\u001b[1;38;5;39m \u001b[0m \u001b[1m \u001b[0m\u001b[1m0001960127-23-000002\u001b[0m\u001b[1m \u001b[0m \n",
       " \u001b[1m    \u001b[0m \u001b[1;38;5;71m      \u001b[0m \u001b[1m \u001b[0m\u001b[1mLP                                                  \u001b[0m\u001b[1m \u001b[0m \u001b[1m         \u001b[0m \u001b[1;38;5;39m             \u001b[0m \u001b[1m                      \u001b[0m \n",
       "  29  \u001b[38;5;71m \u001b[0m\u001b[38;5;71mD   \u001b[0m\u001b[38;5;71m \u001b[0m  Constellation Labs Inc.                                1965495  \u001b[38;5;39m \u001b[0m\u001b[38;5;39m2023-02-14 \u001b[0m\u001b[38;5;39m \u001b[0m  0001965495-23-000001  \n",
       " \u001b[1m \u001b[0m\u001b[1m30\u001b[0m\u001b[1m \u001b[0m \u001b[1;38;5;71m \u001b[0m\u001b[1;38;5;71mD   \u001b[0m\u001b[1;38;5;71m \u001b[0m \u001b[1m \u001b[0m\u001b[1mCreative Affects LLC                                \u001b[0m\u001b[1m \u001b[0m \u001b[1m \u001b[0m\u001b[1m1587984\u001b[0m\u001b[1m \u001b[0m \u001b[1;38;5;39m \u001b[0m\u001b[1;38;5;39m2023-02-14 \u001b[0m\u001b[1;38;5;39m \u001b[0m \u001b[1m \u001b[0m\u001b[1m0001587984-23-000002\u001b[0m\u001b[1m \u001b[0m \n",
       "  31  \u001b[38;5;71m \u001b[0m\u001b[38;5;71mD   \u001b[0m\u001b[38;5;71m \u001b[0m  Credit Union 1                                         1965830  \u001b[38;5;39m \u001b[0m\u001b[38;5;39m2023-02-14 \u001b[0m\u001b[38;5;39m \u001b[0m  0001965830-23-000001  \n",
       " \u001b[1m \u001b[0m\u001b[1m32\u001b[0m\u001b[1m \u001b[0m \u001b[1;38;5;71m \u001b[0m\u001b[1;38;5;71mD   \u001b[0m\u001b[1;38;5;71m \u001b[0m \u001b[1m \u001b[0m\u001b[1mDAPT Fayetteville 2, LLC                            \u001b[0m\u001b[1m \u001b[0m \u001b[1m \u001b[0m\u001b[1m1965673\u001b[0m\u001b[1m \u001b[0m \u001b[1;38;5;39m \u001b[0m\u001b[1;38;5;39m2023-02-14 \u001b[0m\u001b[1;38;5;39m \u001b[0m \u001b[1m \u001b[0m\u001b[1m0001965494-23-000002\u001b[0m\u001b[1m \u001b[0m \n",
       "  33  \u001b[38;5;71m \u001b[0m\u001b[38;5;71mD   \u001b[0m\u001b[38;5;71m \u001b[0m  DPEG Holzwarth, LP                                     1965220  \u001b[38;5;39m \u001b[0m\u001b[38;5;39m2023-02-14 \u001b[0m\u001b[38;5;39m \u001b[0m  0001965220-23-000001  \n",
       " \u001b[1m \u001b[0m\u001b[1m34\u001b[0m\u001b[1m \u001b[0m \u001b[1;38;5;71m \u001b[0m\u001b[1;38;5;71mD   \u001b[0m\u001b[1;38;5;71m \u001b[0m \u001b[1m \u001b[0m\u001b[1mDry Line Opportunity II, LLC                        \u001b[0m\u001b[1m \u001b[0m \u001b[1m \u001b[0m\u001b[1m1943233\u001b[0m\u001b[1m \u001b[0m \u001b[1;38;5;39m \u001b[0m\u001b[1;38;5;39m2023-02-14 \u001b[0m\u001b[1;38;5;39m \u001b[0m \u001b[1m \u001b[0m\u001b[1m0001890257-23-000013\u001b[0m\u001b[1m \u001b[0m \n",
       "  35  \u001b[38;5;71m \u001b[0m\u001b[38;5;71mD   \u001b[0m\u001b[38;5;71m \u001b[0m  E-Cobalt Fund 2                                        1965515  \u001b[38;5;39m \u001b[0m\u001b[38;5;39m2023-02-14 \u001b[0m\u001b[38;5;39m \u001b[0m  0001965515-23-000001  \n",
       " \u001b[1m \u001b[0m\u001b[1m36\u001b[0m\u001b[1m \u001b[0m \u001b[1;38;5;71m \u001b[0m\u001b[1;38;5;71mD   \u001b[0m\u001b[1;38;5;71m \u001b[0m \u001b[1m \u001b[0m\u001b[1mE-Cobalt Master Fund 2                              \u001b[0m\u001b[1m \u001b[0m \u001b[1m \u001b[0m\u001b[1m1965513\u001b[0m\u001b[1m \u001b[0m \u001b[1;38;5;39m \u001b[0m\u001b[1;38;5;39m2023-02-14 \u001b[0m\u001b[1;38;5;39m \u001b[0m \u001b[1m \u001b[0m\u001b[1m0001965513-23-000001\u001b[0m\u001b[1m \u001b[0m \n",
       "  37  \u001b[38;5;71m \u001b[0m\u001b[38;5;71mD   \u001b[0m\u001b[38;5;71m \u001b[0m  EBET, Inc.                                             1829966  \u001b[38;5;39m \u001b[0m\u001b[38;5;39m2023-02-14 \u001b[0m\u001b[38;5;39m \u001b[0m  0001683168-23-000837  \n",
       " \u001b[1m \u001b[0m\u001b[1m38\u001b[0m\u001b[1m \u001b[0m \u001b[1;38;5;71m \u001b[0m\u001b[1;38;5;71mD   \u001b[0m\u001b[1;38;5;71m \u001b[0m \u001b[1m \u001b[0m\u001b[1mEFC-CM Nov 2022 a Series of EFC-CM LLC              \u001b[0m\u001b[1m \u001b[0m \u001b[1m \u001b[0m\u001b[1m1965646\u001b[0m\u001b[1m \u001b[0m \u001b[1;38;5;39m \u001b[0m\u001b[1;38;5;39m2023-02-14 \u001b[0m\u001b[1;38;5;39m \u001b[0m \u001b[1m \u001b[0m\u001b[1m0001965646-23-000001\u001b[0m\u001b[1m \u001b[0m \n",
       "  39  \u001b[38;5;71m \u001b[0m\u001b[38;5;71mD   \u001b[0m\u001b[38;5;71m \u001b[0m  Elate, Inc.                                            1782682  \u001b[38;5;39m \u001b[0m\u001b[38;5;39m2023-02-14 \u001b[0m\u001b[38;5;39m \u001b[0m  0001782682-23-000002  \n",
       " \u001b[1m \u001b[0m\u001b[1m40\u001b[0m\u001b[1m \u001b[0m \u001b[1;38;5;71m \u001b[0m\u001b[1;38;5;71mD   \u001b[0m\u001b[1;38;5;71m \u001b[0m \u001b[1m \u001b[0m\u001b[1mElevation Opportunities I - Anduril,a Series of     \u001b[0m\u001b[1m \u001b[0m \u001b[1m \u001b[0m\u001b[1m1965667\u001b[0m\u001b[1m \u001b[0m \u001b[1;38;5;39m \u001b[0m\u001b[1;38;5;39m2023-02-14 \u001b[0m\u001b[1;38;5;39m \u001b[0m \u001b[1m \u001b[0m\u001b[1m0001965667-23-000001\u001b[0m\u001b[1m \u001b[0m \n",
       " \u001b[1m    \u001b[0m \u001b[1;38;5;71m      \u001b[0m \u001b[1m \u001b[0m\u001b[1mCGF2021 LLC                                         \u001b[0m\u001b[1m \u001b[0m \u001b[1m         \u001b[0m \u001b[1;38;5;39m             \u001b[0m \u001b[1m                      \u001b[0m \n",
       "  41  \u001b[38;5;71m \u001b[0m\u001b[38;5;71mD   \u001b[0m\u001b[38;5;71m \u001b[0m  Emory Peak Capital LP                                  1965821  \u001b[38;5;39m \u001b[0m\u001b[38;5;39m2023-02-14 \u001b[0m\u001b[38;5;39m \u001b[0m  0001965821-23-000001  \n",
       " \u001b[1m \u001b[0m\u001b[1m42\u001b[0m\u001b[1m \u001b[0m \u001b[1;38;5;71m \u001b[0m\u001b[1;38;5;71mD   \u001b[0m\u001b[1;38;5;71m \u001b[0m \u001b[1m \u001b[0m\u001b[1mEnduring Ventures Inc Nov 2022 a Series of Stonks   \u001b[0m\u001b[1m \u001b[0m \u001b[1m \u001b[0m\u001b[1m1965774\u001b[0m\u001b[1m \u001b[0m \u001b[1;38;5;39m \u001b[0m\u001b[1;38;5;39m2023-02-14 \u001b[0m\u001b[1;38;5;39m \u001b[0m \u001b[1m \u001b[0m\u001b[1m0001965774-23-000001\u001b[0m\u001b[1m \u001b[0m \n",
       " \u001b[1m    \u001b[0m \u001b[1;38;5;71m      \u001b[0m \u001b[1m \u001b[0m\u001b[1mSPVs LLC                                            \u001b[0m\u001b[1m \u001b[0m \u001b[1m         \u001b[0m \u001b[1;38;5;39m             \u001b[0m \u001b[1m                      \u001b[0m \n",
       "  43  \u001b[38;5;71m \u001b[0m\u001b[38;5;71mD   \u001b[0m\u001b[38;5;71m \u001b[0m  Fibo Town 002 LLC                                      1956186  \u001b[38;5;39m \u001b[0m\u001b[38;5;39m2023-02-14 \u001b[0m\u001b[38;5;39m \u001b[0m  0001956186-23-000001  \n",
       " \u001b[1m \u001b[0m\u001b[1m44\u001b[0m\u001b[1m \u001b[0m \u001b[1;38;5;71m \u001b[0m\u001b[1;38;5;71mD   \u001b[0m\u001b[1;38;5;71m \u001b[0m \u001b[1m \u001b[0m\u001b[1mField Intelligence Inc.                             \u001b[0m\u001b[1m \u001b[0m \u001b[1m \u001b[0m\u001b[1m1806200\u001b[0m\u001b[1m \u001b[0m \u001b[1;38;5;39m \u001b[0m\u001b[1;38;5;39m2023-02-14 \u001b[0m\u001b[1;38;5;39m \u001b[0m \u001b[1m \u001b[0m\u001b[1m0001806200-23-000001\u001b[0m\u001b[1m \u001b[0m \n",
       "  45  \u001b[38;5;71m \u001b[0m\u001b[38;5;71mD   \u001b[0m\u001b[38;5;71m \u001b[0m  Freewheel LLC                                          1965632  \u001b[38;5;39m \u001b[0m\u001b[38;5;39m2023-02-14 \u001b[0m\u001b[38;5;39m \u001b[0m  0001965632-23-000001  \n",
       " \u001b[1m \u001b[0m\u001b[1m46\u001b[0m\u001b[1m \u001b[0m \u001b[1;38;5;71m \u001b[0m\u001b[1;38;5;71mD   \u001b[0m\u001b[1;38;5;71m \u001b[0m \u001b[1m \u001b[0m\u001b[1mFrontiersman Holdings, Inc.                         \u001b[0m\u001b[1m \u001b[0m \u001b[1m \u001b[0m\u001b[1m1770513\u001b[0m\u001b[1m \u001b[0m \u001b[1;38;5;39m \u001b[0m\u001b[1;38;5;39m2023-02-14 \u001b[0m\u001b[1;38;5;39m \u001b[0m \u001b[1m \u001b[0m\u001b[1m0001770513-23-000002\u001b[0m\u001b[1m \u001b[0m \n",
       "  47  \u001b[38;5;71m \u001b[0m\u001b[38;5;71mD   \u001b[0m\u001b[38;5;71m \u001b[0m  Gaingels Remedial Health LLC                           1965233  \u001b[38;5;39m \u001b[0m\u001b[38;5;39m2023-02-14 \u001b[0m\u001b[38;5;39m \u001b[0m  0001965233-23-000001  \n",
       " \u001b[1m \u001b[0m\u001b[1m48\u001b[0m\u001b[1m \u001b[0m \u001b[1;38;5;71m \u001b[0m\u001b[1;38;5;71mD   \u001b[0m\u001b[1;38;5;71m \u001b[0m \u001b[1m \u001b[0m\u001b[1mGaingels Slync 2023 LLC                             \u001b[0m\u001b[1m \u001b[0m \u001b[1m \u001b[0m\u001b[1m1963195\u001b[0m\u001b[1m \u001b[0m \u001b[1;38;5;39m \u001b[0m\u001b[1;38;5;39m2023-02-14 \u001b[0m\u001b[1;38;5;39m \u001b[0m \u001b[1m \u001b[0m\u001b[1m0001963195-23-000001\u001b[0m\u001b[1m \u001b[0m \n",
       "  49  \u001b[38;5;71m \u001b[0m\u001b[38;5;71mD   \u001b[0m\u001b[38;5;71m \u001b[0m  Gaingels StellarFi LLC                                 1963755  \u001b[38;5;39m \u001b[0m\u001b[38;5;39m2023-02-14 \u001b[0m\u001b[38;5;39m \u001b[0m  0001965233-23-000002  \n",
       "                                                                                                                   \n",
       "Showing 50 of 7,253 filings"
      ]
     },
     "execution_count": 30,
     "metadata": {},
     "output_type": "execute_result"
    }
   ],
   "source": [
    "offering_filings = get_filings(form=\"D\")\n",
    "offering_filings"
   ]
  },
  {
   "cell_type": "code",
   "execution_count": 31,
   "id": "4fcf7ccf",
   "metadata": {},
   "outputs": [
    {
     "data": {
      "text/html": [
       "<pre style=\"white-space:pre;overflow-x:auto;line-height:normal;font-family:Menlo,'DejaVu Sans Mono',consolas,'Courier New',monospace\"></pre>\n"
      ],
      "text/plain": []
     },
     "metadata": {},
     "output_type": "display_data"
    },
    {
     "data": {
      "text/plain": [
       "\u001b[1mD filing\u001b[0m\n",
       "                                                                                  \n",
       " \u001b[1m \u001b[0m\u001b[1maccession_no        \u001b[0m\u001b[1m \u001b[0m \u001b[1;38;5;71m \u001b[0m\u001b[1;38;5;71mform\u001b[0m\u001b[1;38;5;71m \u001b[0m \u001b[1m \u001b[0m\u001b[1mcompany                 \u001b[0m\u001b[1m \u001b[0m \u001b[1m \u001b[0m\u001b[1mcik    \u001b[0m\u001b[1m \u001b[0m \u001b[1;38;5;39m \u001b[0m\u001b[1;38;5;39mfiling_date\u001b[0m\u001b[1;38;5;39m \u001b[0m \n",
       " ──────────────────────────────────────────────────────────────────────────────── \n",
       " \u001b[1m \u001b[0m\u001b[1m0001963315-23-000001\u001b[0m\u001b[1m \u001b[0m \u001b[1;38;5;71m \u001b[0m\u001b[1;38;5;71mD   \u001b[0m\u001b[1;38;5;71m \u001b[0m \u001b[1m \u001b[0m\u001b[1m225 N Charles Owner, LLC\u001b[0m\u001b[1m \u001b[0m \u001b[1m \u001b[0m\u001b[1m1963315\u001b[0m\u001b[1m \u001b[0m \u001b[1;38;5;39m \u001b[0m\u001b[1;38;5;39m2023-02-14 \u001b[0m\u001b[1;38;5;39m \u001b[0m \n",
       "                                                                                  "
      ]
     },
     "execution_count": 31,
     "metadata": {},
     "output_type": "execute_result"
    }
   ],
   "source": [
    "offering_filings[0]"
   ]
  },
  {
   "cell_type": "code",
   "execution_count": 32,
   "id": "52f06c6c",
   "metadata": {},
   "outputs": [
    {
     "data": {
      "text/html": [
       "<pre style=\"white-space:pre;overflow-x:auto;line-height:normal;font-family:Menlo,'DejaVu Sans Mono',consolas,'Courier New',monospace\"></pre>\n"
      ],
      "text/plain": []
     },
     "metadata": {},
     "output_type": "display_data"
    },
    {
     "data": {
      "text/plain": [
       "\u001b[1m  \u001b[0m\u001b[1m Form D Offering \u001b[0m\u001b[1m                                          \u001b[0m\u001b[1m  \u001b[0m\n",
       "\u001b[1m \u001b[0m\u001b[1m \u001b[0m\u001b[1m                                                           \u001b[0m\u001b[1m \u001b[0m\u001b[1m \u001b[0m\n",
       "\u001b[1m \u001b[0m\u001b[1m \u001b[0m\u001b[1m \u001b[0m\u001b[1m \u001b[0m\u001b[1mentity                  \u001b[0m\u001b[1m \u001b[0m\u001b[1m \u001b[0m\u001b[1m \u001b[0m\u001b[1mcik       \u001b[0m\u001b[1m \u001b[0m\u001b[1m \u001b[0m\u001b[1m \u001b[0m\u001b[1mincorporated   \u001b[0m\u001b[1m \u001b[0m\u001b[1m \u001b[0m\u001b[1m \u001b[0m\u001b[1m \u001b[0m\n",
       "\u001b[1m \u001b[0m\u001b[1m \u001b[0m\u001b[1m ───────────────────────────────────────────────────────── \u001b[0m\u001b[1m \u001b[0m\u001b[1m \u001b[0m\n",
       "\u001b[1m \u001b[0m\u001b[1m \u001b[0m\u001b[1m \u001b[0m\u001b[1;38;5;39m \u001b[0m\u001b[1;38;5;39m225 N Charles Owner, LLC\u001b[0m\u001b[1;38;5;39m \u001b[0m\u001b[1m \u001b[0m\u001b[1m \u001b[0m\u001b[1m0001963315\u001b[0m\u001b[1m \u001b[0m\u001b[1m \u001b[0m\u001b[1m \u001b[0m\u001b[1m2022 (DELAWARE)\u001b[0m\u001b[1m \u001b[0m\u001b[1m \u001b[0m\u001b[1m \u001b[0m\u001b[1m \u001b[0m\n",
       "\u001b[1m \u001b[0m\u001b[1m \u001b[0m\u001b[1m                                                           \u001b[0m\u001b[1m \u001b[0m\u001b[1m \u001b[0m\n",
       "\u001b[1m                                                               \u001b[0m\n",
       "\u001b[1m  \u001b[0m\u001b[1m Offering Detail \u001b[0m\u001b[1m                                                \u001b[0m\u001b[1m  \u001b[0m\n",
       "\u001b[1m \u001b[0m\u001b[1m \u001b[0m\u001b[1m                                                                 \u001b[0m\u001b[1m \u001b[0m\u001b[1m \u001b[0m\n",
       "\u001b[1m \u001b[0m\u001b[1m \u001b[0m\u001b[1m \u001b[0m\u001b[1m \u001b[0m\u001b[1mamount offered\u001b[0m\u001b[1m \u001b[0m\u001b[1m \u001b[0m\u001b[1m \u001b[0m\u001b[1mamount sold\u001b[0m\u001b[1m \u001b[0m\u001b[1m \u001b[0m\u001b[1m \u001b[0m\u001b[1minvestors\u001b[0m\u001b[1m \u001b[0m\u001b[1m \u001b[0m\u001b[1m \u001b[0m\u001b[1mminimum investment\u001b[0m\u001b[1m \u001b[0m\u001b[1m \u001b[0m\u001b[1m \u001b[0m\u001b[1m \u001b[0m\n",
       "\u001b[1m \u001b[0m\u001b[1m \u001b[0m\u001b[1m ─────────────────────────────────────────────────────────────── \u001b[0m\u001b[1m \u001b[0m\u001b[1m \u001b[0m\n",
       "\u001b[1m \u001b[0m\u001b[1m \u001b[0m\u001b[1m \u001b[0m\u001b[1;38;5;39m \u001b[0m\u001b[1;38;5;39m2720000       \u001b[0m\u001b[1;38;5;39m \u001b[0m\u001b[1m \u001b[0m\u001b[1m \u001b[0m\u001b[1m2720000    \u001b[0m\u001b[1m \u001b[0m\u001b[1m \u001b[0m\u001b[1m \u001b[0m\u001b[1m40       \u001b[0m\u001b[1m \u001b[0m\u001b[1m \u001b[0m\u001b[1m \u001b[0m\u001b[1m25000             \u001b[0m\u001b[1m \u001b[0m\u001b[1m \u001b[0m\u001b[1m \u001b[0m\u001b[1m \u001b[0m\n",
       "\u001b[1m \u001b[0m\u001b[1m \u001b[0m\u001b[1m                                                                 \u001b[0m\u001b[1m \u001b[0m\u001b[1m \u001b[0m\n",
       "\u001b[1m                                                                     \u001b[0m\n",
       "\u001b[1m                                                                                                                   \u001b[0m\n",
       "\u001b[1m \u001b[0m\u001b[1m \u001b[0m\u001b[1mRelated Persons                        \u001b[0m\u001b[1m \u001b[0m\u001b[1mSales Compensation     \u001b[0m\u001b[1m                                                \u001b[0m\u001b[1m \u001b[0m\u001b[1m \u001b[0m\n",
       "\u001b[1m \u001b[0m\u001b[1m \u001b[0m\u001b[1m                                       \u001b[0m\u001b[1m \u001b[0m\u001b[1m                       \u001b[0m\u001b[1m                                                \u001b[0m\u001b[1m \u001b[0m\u001b[1m \u001b[0m\n",
       "\u001b[1m \u001b[0m\u001b[1m \u001b[0m\u001b[1m \u001b[0m\u001b[1m \u001b[0m\u001b[1mrelated person                     \u001b[0m\u001b[1m \u001b[0m\u001b[1m \u001b[0m\u001b[1m \u001b[0m\u001b[1m \u001b[0m\u001b[1m \u001b[0m\u001b[1mname\u001b[0m\u001b[1m \u001b[0m\u001b[1m \u001b[0m\u001b[1m \u001b[0m\u001b[1mcrd\u001b[0m\u001b[1m \u001b[0m\u001b[1m \u001b[0m\u001b[1m \u001b[0m\u001b[1mstates\u001b[0m\u001b[1m \u001b[0m\u001b[1m \u001b[0m\u001b[1m                                                \u001b[0m\u001b[1m \u001b[0m\u001b[1m \u001b[0m\n",
       "\u001b[1m \u001b[0m\u001b[1m \u001b[0m\u001b[1m ───────────────────────────────────── \u001b[0m\u001b[1m \u001b[0m\u001b[1m ───────────────────── \u001b[0m\u001b[1m                                                \u001b[0m\u001b[1m \u001b[0m\u001b[1m \u001b[0m\n",
       "\u001b[1m \u001b[0m\u001b[1m \u001b[0m\u001b[1m \u001b[0m\u001b[1;38;5;39m \u001b[0m\u001b[1;38;5;39mSteven Schwat                      \u001b[0m\u001b[1;38;5;39m \u001b[0m\u001b[1m \u001b[0m\u001b[1m \u001b[0m\u001b[1m                       \u001b[0m\u001b[1m                                                \u001b[0m\u001b[1m \u001b[0m\u001b[1m \u001b[0m\n",
       "\u001b[1m \u001b[0m\u001b[1m \u001b[0m\u001b[1m \u001b[0m\u001b[1;38;5;39m \u001b[0m\u001b[1;38;5;39mPeter Bonnell                      \u001b[0m\u001b[1;38;5;39m \u001b[0m\u001b[1m \u001b[0m\u001b[1m \u001b[0m\u001b[1m                       \u001b[0m\u001b[1m                                                \u001b[0m\u001b[1m \u001b[0m\u001b[1m \u001b[0m\n",
       "\u001b[1m \u001b[0m\u001b[1m \u001b[0m\u001b[1m \u001b[0m\u001b[1;38;5;39m \u001b[0m\u001b[1;38;5;39mUIP Asset Management, Inc. N/A     \u001b[0m\u001b[1;38;5;39m \u001b[0m\u001b[1m \u001b[0m\u001b[1m \u001b[0m\u001b[1m                       \u001b[0m\u001b[1m                                                \u001b[0m\u001b[1m \u001b[0m\u001b[1m \u001b[0m\n",
       "\u001b[1m \u001b[0m\u001b[1m \u001b[0m\u001b[1m \u001b[0m\u001b[1;38;5;39m \u001b[0m\u001b[1;38;5;39mUIP Maryland Residential 6, LLC N/A\u001b[0m\u001b[1;38;5;39m \u001b[0m\u001b[1m \u001b[0m\u001b[1m \u001b[0m\u001b[1m                       \u001b[0m\u001b[1m                                                \u001b[0m\u001b[1m \u001b[0m\u001b[1m \u001b[0m\n",
       "\u001b[1m \u001b[0m\u001b[1m \u001b[0m\u001b[1m                                       \u001b[0m\u001b[1m \u001b[0m\u001b[1m                       \u001b[0m\u001b[1m                                                \u001b[0m\u001b[1m \u001b[0m\u001b[1m \u001b[0m\n",
       "\u001b[1m                                                                                                                   \u001b[0m\n",
       "\u001b[1m  \u001b[0m\u001b[1m Signatures \u001b[0m\u001b[1m                                                                               \u001b[0m\u001b[1m  \u001b[0m\n",
       "\u001b[1m \u001b[0m\u001b[1m \u001b[0m\u001b[1m                                                                                           \u001b[0m\u001b[1m \u001b[0m\u001b[1m \u001b[0m\n",
       "\u001b[1m \u001b[0m\u001b[1m \u001b[0m\u001b[1m \u001b[0m\u001b[1m \u001b[0m\u001b[1m \u001b[0m\u001b[1m \u001b[0m\u001b[1m \u001b[0m\u001b[1m \u001b[0m\u001b[1msignature        \u001b[0m\u001b[1m \u001b[0m\u001b[1m \u001b[0m\u001b[1m \u001b[0m\u001b[1msigner       \u001b[0m\u001b[1m \u001b[0m\u001b[1m \u001b[0m\u001b[1m \u001b[0m\u001b[1mtitle  \u001b[0m\u001b[1m \u001b[0m\u001b[1m \u001b[0m\u001b[1m \u001b[0m\u001b[1mdate      \u001b[0m\u001b[1m \u001b[0m\u001b[1m \u001b[0m\u001b[1m \u001b[0m\u001b[1missuer                  \u001b[0m\u001b[1m \u001b[0m\u001b[1m \u001b[0m\u001b[1m \u001b[0m\u001b[1m \u001b[0m\n",
       "\u001b[1m \u001b[0m\u001b[1m \u001b[0m\u001b[1m ───────────────────────────────────────────────────────────────────────────────────────── \u001b[0m\u001b[1m \u001b[0m\u001b[1m \u001b[0m\n",
       "\u001b[1m \u001b[0m\u001b[1m \u001b[0m\u001b[1m \u001b[0m\u001b[1m \u001b[0m\u001b[1m1\u001b[0m\u001b[1m \u001b[0m\u001b[1m \u001b[0m\u001b[1;38;5;39m \u001b[0m\u001b[1;38;5;39m/s/ Peter Bonnell\u001b[0m\u001b[1;38;5;39m \u001b[0m\u001b[1m \u001b[0m\u001b[1m \u001b[0m\u001b[1mPeter Bonnell\u001b[0m\u001b[1m \u001b[0m\u001b[1m \u001b[0m\u001b[1m \u001b[0m\u001b[1mManager\u001b[0m\u001b[1m \u001b[0m\u001b[1m \u001b[0m\u001b[1m \u001b[0m\u001b[1m2023-02-14\u001b[0m\u001b[1m \u001b[0m\u001b[1m \u001b[0m\u001b[1m \u001b[0m\u001b[1m225 N Charles Owner, LLC\u001b[0m\u001b[1m \u001b[0m\u001b[1m \u001b[0m\u001b[1m \u001b[0m\u001b[1m \u001b[0m\n",
       "\u001b[1m \u001b[0m\u001b[1m \u001b[0m\u001b[1m                                                                                           \u001b[0m\u001b[1m \u001b[0m\u001b[1m \u001b[0m\n",
       "\u001b[1m                                                                                               \u001b[0m"
      ]
     },
     "execution_count": 32,
     "metadata": {},
     "output_type": "execute_result"
    }
   ],
   "source": [
    "Offering.from_xml(offering_filings[0].xml())"
   ]
  }
 ],
 "metadata": {
  "kernelspec": {
   "display_name": "Edgar Tools",
   "language": "python",
   "name": "edgartools"
  },
  "language_info": {
   "codemirror_mode": {
    "name": "ipython",
    "version": 3
   },
   "file_extension": ".py",
   "mimetype": "text/x-python",
   "name": "python",
   "nbconvert_exporter": "python",
   "pygments_lexer": "ipython3",
   "version": "3.10.5"
  }
 },
 "nbformat": 4,
 "nbformat_minor": 5
}

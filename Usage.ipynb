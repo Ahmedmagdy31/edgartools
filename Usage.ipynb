{
 "cells": [
  {
   "cell_type": "markdown",
   "id": "0b65ef79",
   "metadata": {},
   "source": [
    "# Usage\n",
    "<hr/>"
   ]
  },
  {
   "cell_type": "markdown",
   "id": "6973612d",
   "metadata": {},
   "source": [
    "# Imports\n",
    "<hr/>"
   ]
  },
  {
   "cell_type": "code",
   "execution_count": 4,
   "id": "8702904d",
   "metadata": {},
   "outputs": [],
   "source": [
    "from edgar import *"
   ]
  },
  {
   "cell_type": "markdown",
   "id": "723cc193",
   "metadata": {},
   "source": [
    "# Set identity"
   ]
  },
  {
   "cell_type": "code",
   "execution_count": 5,
   "id": "68614b4f",
   "metadata": {},
   "outputs": [
    {
     "data": {
      "text/html": [
       "<pre style=\"white-space:pre;overflow-x:auto;line-height:normal;font-family:Menlo,'DejaVu Sans Mono',consolas,'Courier New',monospace\"><span style=\"color: #7fbfbf; text-decoration-color: #7fbfbf\">[08:14:26] </span><span style=\"color: #000080; text-decoration-color: #000080\">INFO    </span> Identity of the Edgar REST client set to <span style=\"font-weight: bold\">[</span>Satya Somish smosh@gmail.com<span style=\"font-weight: bold\">]</span>              <a href=\"file://C:\\Users\\dwight\\PycharmProjects\\edgar\\edgar\\core.py\" target=\"_blank\"><span style=\"color: #7f7f7f; text-decoration-color: #7f7f7f\">core.py</span></a><span style=\"color: #7f7f7f; text-decoration-color: #7f7f7f\">:</span><a href=\"file://C:\\Users\\dwight\\PycharmProjects\\edgar\\edgar\\core.py#91\" target=\"_blank\"><span style=\"color: #7f7f7f; text-decoration-color: #7f7f7f\">91</span></a>\n",
       "</pre>\n"
      ],
      "text/plain": [
       "\u001B[2;36m[08:14:26]\u001B[0m\u001B[2;36m \u001B[0m\u001B[34mINFO    \u001B[0m Identity of the Edgar REST client set to \u001B[1m[\u001B[0mSatya Somish smosh@gmail.com\u001B[1m]\u001B[0m              \u001B]8;id=927862;file://C:\\Users\\dwight\\PycharmProjects\\edgar\\edgar\\core.py\u001B\\\u001B[2mcore.py\u001B[0m\u001B]8;;\u001B\\\u001B[2m:\u001B[0m\u001B]8;id=1525;file://C:\\Users\\dwight\\PycharmProjects\\edgar\\edgar\\core.py#91\u001B\\\u001B[2m91\u001B[0m\u001B]8;;\u001B\\\n"
      ]
     },
     "metadata": {},
     "output_type": "display_data"
    }
   ],
   "source": [
    "set_identity('Satya Somish smosh@gmail.com')"
   ]
  },
  {
   "cell_type": "markdown",
   "id": "f24d6abc",
   "metadata": {},
   "source": [
    "# Get Filings\n",
    "<hr/>"
   ]
  },
  {
   "cell_type": "markdown",
   "id": "64d90b0f",
   "metadata": {},
   "source": [
    "## Get filings with default values"
   ]
  },
  {
   "cell_type": "code",
   "execution_count": 6,
   "id": "4c46179a",
   "metadata": {},
   "outputs": [],
   "source": [
    "filings = get_filings()"
   ]
  },
  {
   "cell_type": "code",
   "execution_count": 7,
   "id": "80c6aec0",
   "metadata": {},
   "outputs": [
    {
     "data": {
      "text/html": [
       "<pre style=\"white-space:pre;overflow-x:auto;line-height:normal;font-family:Menlo,'DejaVu Sans Mono',consolas,'Courier New',monospace\"></pre>\n"
      ],
      "text/plain": []
     },
     "metadata": {},
     "output_type": "display_data"
    },
    {
     "data": {
      "text/plain": [
       "\u001B[1m                                              Filings                                              \u001B[0m\n",
       "                                                                                                   \n",
       " \u001B[1m \u001B[0m\u001B[1m  \u001B[0m\u001B[1m \u001B[0m \u001B[1;38;5;71m \u001B[0m\u001B[1;38;5;71mform   \u001B[0m\u001B[1;38;5;71m \u001B[0m \u001B[1m \u001B[0m\u001B[1mcompany                          \u001B[0m\u001B[1m \u001B[0m \u001B[1m \u001B[0m\u001B[1mcik    \u001B[0m\u001B[1m \u001B[0m \u001B[1;38;5;39m \u001B[0m\u001B[1;38;5;39mfiling_date\u001B[0m\u001B[1;38;5;39m \u001B[0m \u001B[1m \u001B[0m\u001B[1maccession_number    \u001B[0m\u001B[1m \u001B[0m \n",
       " ───────────────────────────────────────────────────────────────────────────────────────────────── \n",
       " \u001B[1m \u001B[0m\u001B[1m0 \u001B[0m\u001B[1m \u001B[0m \u001B[1;38;5;71m \u001B[0m\u001B[1;38;5;71m1-A    \u001B[0m\u001B[1;38;5;71m \u001B[0m \u001B[1m \u001B[0m\u001B[1mBlack Unicorn Factory            \u001B[0m\u001B[1m \u001B[0m \u001B[1m \u001B[0m\u001B[1m1822415\u001B[0m\u001B[1m \u001B[0m \u001B[1;38;5;39m \u001B[0m\u001B[1;38;5;39m2023-02-07 \u001B[0m\u001B[1;38;5;39m \u001B[0m \u001B[1m \u001B[0m\u001B[1m0001096906-23-000262\u001B[0m\u001B[1m \u001B[0m \n",
       "  1   \u001B[38;5;71m \u001B[0m\u001B[38;5;71m1-A    \u001B[0m\u001B[38;5;71m \u001B[0m  Masterworks 222, LLC                1958941  \u001B[38;5;39m \u001B[0m\u001B[38;5;39m2023-02-07 \u001B[0m\u001B[38;5;39m \u001B[0m  0001493152-23-003850  \n",
       " \u001B[1m \u001B[0m\u001B[1m2 \u001B[0m\u001B[1m \u001B[0m \u001B[1;38;5;71m \u001B[0m\u001B[1;38;5;71m1-A POS\u001B[0m\u001B[1;38;5;71m \u001B[0m \u001B[1m \u001B[0m\u001B[1mArrived STR, LLC                 \u001B[0m\u001B[1m \u001B[0m \u001B[1m \u001B[0m\u001B[1m1942208\u001B[0m\u001B[1m \u001B[0m \u001B[1;38;5;39m \u001B[0m\u001B[1;38;5;39m2023-02-07 \u001B[0m\u001B[1;38;5;39m \u001B[0m \u001B[1m \u001B[0m\u001B[1m0001942208-23-000014\u001B[0m\u001B[1m \u001B[0m \n",
       "  3   \u001B[38;5;71m \u001B[0m\u001B[38;5;71m1-A POS\u001B[0m\u001B[38;5;71m \u001B[0m  TROPICAL RACING INC                 1746611  \u001B[38;5;39m \u001B[0m\u001B[38;5;39m2023-02-07 \u001B[0m\u001B[38;5;39m \u001B[0m  0001640334-23-000172  \n",
       " \u001B[1m \u001B[0m\u001B[1m4 \u001B[0m\u001B[1m \u001B[0m \u001B[1;38;5;71m \u001B[0m\u001B[1;38;5;71m1-A POS\u001B[0m\u001B[1;38;5;71m \u001B[0m \u001B[1m \u001B[0m\u001B[1mXCPCNL Business Services Corp    \u001B[0m\u001B[1m \u001B[0m \u001B[1m \u001B[0m\u001B[1m1331275\u001B[0m\u001B[1m \u001B[0m \u001B[1;38;5;39m \u001B[0m\u001B[1;38;5;39m2023-02-07 \u001B[0m\u001B[1;38;5;39m \u001B[0m \u001B[1m \u001B[0m\u001B[1m0001214659-23-001689\u001B[0m\u001B[1m \u001B[0m \n",
       "  5   \u001B[38;5;71m \u001B[0m\u001B[38;5;71m1-A/A  \u001B[0m\u001B[38;5;71m \u001B[0m  EthicStream Inc.                    1955926  \u001B[38;5;39m \u001B[0m\u001B[38;5;39m2023-02-07 \u001B[0m\u001B[38;5;39m \u001B[0m  0001493152-23-003750  \n",
       " \u001B[1m \u001B[0m\u001B[1m6 \u001B[0m\u001B[1m \u001B[0m \u001B[1;38;5;71m \u001B[0m\u001B[1;38;5;71m1-A/A  \u001B[0m\u001B[1;38;5;71m \u001B[0m \u001B[1m \u001B[0m\u001B[1mHIMALAYA TECHNOLOGIES, INC       \u001B[0m\u001B[1m \u001B[0m \u001B[1m \u001B[0m\u001B[1m1409624\u001B[0m\u001B[1m \u001B[0m \u001B[1;38;5;39m \u001B[0m\u001B[1;38;5;39m2023-02-07 \u001B[0m\u001B[1;38;5;39m \u001B[0m \u001B[1m \u001B[0m\u001B[1m0001493152-23-003876\u001B[0m\u001B[1m \u001B[0m \n",
       "  7   \u001B[38;5;71m \u001B[0m\u001B[38;5;71m1-A/A  \u001B[0m\u001B[38;5;71m \u001B[0m  TROPICAL RACING INC                 1746611  \u001B[38;5;39m \u001B[0m\u001B[38;5;39m2023-02-07 \u001B[0m\u001B[38;5;39m \u001B[0m  0001640334-23-000169  \n",
       " \u001B[1m \u001B[0m\u001B[1m8 \u001B[0m\u001B[1m \u001B[0m \u001B[1;38;5;71m \u001B[0m\u001B[1;38;5;71m1-U    \u001B[0m\u001B[1;38;5;71m \u001B[0m \u001B[1m \u001B[0m\u001B[1mEnergea Portfolio 2 LLC          \u001B[0m\u001B[1m \u001B[0m \u001B[1m \u001B[0m\u001B[1m1811470\u001B[0m\u001B[1m \u001B[0m \u001B[1;38;5;39m \u001B[0m\u001B[1;38;5;39m2023-02-07 \u001B[0m\u001B[1;38;5;39m \u001B[0m \u001B[1m \u001B[0m\u001B[1m0001811470-23-000002\u001B[0m\u001B[1m \u001B[0m \n",
       "  9   \u001B[38;5;71m \u001B[0m\u001B[38;5;71m1-U    \u001B[0m\u001B[38;5;71m \u001B[0m  Masterworks 036, LLC                1829030  \u001B[38;5;39m \u001B[0m\u001B[38;5;39m2023-02-07 \u001B[0m\u001B[38;5;39m \u001B[0m  0001493152-23-003813  \n",
       " \u001B[1m \u001B[0m\u001B[1m10\u001B[0m\u001B[1m \u001B[0m \u001B[1;38;5;71m \u001B[0m\u001B[1;38;5;71m10-D   \u001B[0m\u001B[1;38;5;71m \u001B[0m \u001B[1m \u001B[0m\u001B[1mNavient Student Loan Trust 2014-1\u001B[0m\u001B[1m \u001B[0m \u001B[1m \u001B[0m\u001B[1m1607401\u001B[0m\u001B[1m \u001B[0m \u001B[1;38;5;39m \u001B[0m\u001B[1;38;5;39m2023-02-07 \u001B[0m\u001B[1;38;5;39m \u001B[0m \u001B[1m \u001B[0m\u001B[1m0001140361-23-004898\u001B[0m\u001B[1m \u001B[0m \n",
       "  11  \u001B[38;5;71m \u001B[0m\u001B[38;5;71m10-D   \u001B[0m\u001B[38;5;71m \u001B[0m  Navient Student Loan Trust 2014-2   1613762  \u001B[38;5;39m \u001B[0m\u001B[38;5;39m2023-02-07 \u001B[0m\u001B[38;5;39m \u001B[0m  0001140361-23-004899  \n",
       " \u001B[1m \u001B[0m\u001B[1m12\u001B[0m\u001B[1m \u001B[0m \u001B[1;38;5;71m \u001B[0m\u001B[1;38;5;71m10-D   \u001B[0m\u001B[1;38;5;71m \u001B[0m \u001B[1m \u001B[0m\u001B[1mNavient Student Loan Trust 2014-3\u001B[0m\u001B[1m \u001B[0m \u001B[1m \u001B[0m\u001B[1m1613763\u001B[0m\u001B[1m \u001B[0m \u001B[1;38;5;39m \u001B[0m\u001B[1;38;5;39m2023-02-07 \u001B[0m\u001B[1;38;5;39m \u001B[0m \u001B[1m \u001B[0m\u001B[1m0001140361-23-004900\u001B[0m\u001B[1m \u001B[0m \n",
       "  13  \u001B[38;5;71m \u001B[0m\u001B[38;5;71m10-D   \u001B[0m\u001B[38;5;71m \u001B[0m  Navient Student Loan Trust 2014-4   1613764  \u001B[38;5;39m \u001B[0m\u001B[38;5;39m2023-02-07 \u001B[0m\u001B[38;5;39m \u001B[0m  0001140361-23-004901  \n",
       " \u001B[1m \u001B[0m\u001B[1m14\u001B[0m\u001B[1m \u001B[0m \u001B[1;38;5;71m \u001B[0m\u001B[1;38;5;71m10-D   \u001B[0m\u001B[1;38;5;71m \u001B[0m \u001B[1m \u001B[0m\u001B[1mNavient Student Loan Trust 2014-5\u001B[0m\u001B[1m \u001B[0m \u001B[1m \u001B[0m\u001B[1m1613765\u001B[0m\u001B[1m \u001B[0m \u001B[1;38;5;39m \u001B[0m\u001B[1;38;5;39m2023-02-07 \u001B[0m\u001B[1;38;5;39m \u001B[0m \u001B[1m \u001B[0m\u001B[1m0001140361-23-004902\u001B[0m\u001B[1m \u001B[0m \n",
       "  15  \u001B[38;5;71m \u001B[0m\u001B[38;5;71m10-D   \u001B[0m\u001B[38;5;71m \u001B[0m  Navient Student Loan Trust 2014-6   1613766  \u001B[38;5;39m \u001B[0m\u001B[38;5;39m2023-02-07 \u001B[0m\u001B[38;5;39m \u001B[0m  0001140361-23-004903  \n",
       " \u001B[1m \u001B[0m\u001B[1m16\u001B[0m\u001B[1m \u001B[0m \u001B[1;38;5;71m \u001B[0m\u001B[1;38;5;71m10-D   \u001B[0m\u001B[1;38;5;71m \u001B[0m \u001B[1m \u001B[0m\u001B[1mNavient Student Loan Trust 2014-7\u001B[0m\u001B[1m \u001B[0m \u001B[1m \u001B[0m\u001B[1m1613767\u001B[0m\u001B[1m \u001B[0m \u001B[1;38;5;39m \u001B[0m\u001B[1;38;5;39m2023-02-07 \u001B[0m\u001B[1;38;5;39m \u001B[0m \u001B[1m \u001B[0m\u001B[1m0001140361-23-004904\u001B[0m\u001B[1m \u001B[0m \n",
       "  17  \u001B[38;5;71m \u001B[0m\u001B[38;5;71m10-D   \u001B[0m\u001B[38;5;71m \u001B[0m  Navient Student Loan Trust 2014-8   1623518  \u001B[38;5;39m \u001B[0m\u001B[38;5;39m2023-02-07 \u001B[0m\u001B[38;5;39m \u001B[0m  0001140361-23-004905  \n",
       " \u001B[1m \u001B[0m\u001B[1m18\u001B[0m\u001B[1m \u001B[0m \u001B[1;38;5;71m \u001B[0m\u001B[1;38;5;71m10-D   \u001B[0m\u001B[1;38;5;71m \u001B[0m \u001B[1m \u001B[0m\u001B[1mNavient Student Loan Trust 2015-1\u001B[0m\u001B[1m \u001B[0m \u001B[1m \u001B[0m\u001B[1m1633023\u001B[0m\u001B[1m \u001B[0m \u001B[1;38;5;39m \u001B[0m\u001B[1;38;5;39m2023-02-07 \u001B[0m\u001B[1;38;5;39m \u001B[0m \u001B[1m \u001B[0m\u001B[1m0001140361-23-004906\u001B[0m\u001B[1m \u001B[0m \n",
       "  19  \u001B[38;5;71m \u001B[0m\u001B[38;5;71m10-D   \u001B[0m\u001B[38;5;71m \u001B[0m  Navient Student Loan Trust 2015-2   1636459  \u001B[38;5;39m \u001B[0m\u001B[38;5;39m2023-02-07 \u001B[0m\u001B[38;5;39m \u001B[0m  0001140361-23-004907  \n",
       " \u001B[1m \u001B[0m\u001B[1m20\u001B[0m\u001B[1m \u001B[0m \u001B[1;38;5;71m \u001B[0m\u001B[1;38;5;71m10-D   \u001B[0m\u001B[1;38;5;71m \u001B[0m \u001B[1m \u001B[0m\u001B[1mNavient Student Loan Trust 2015-3\u001B[0m\u001B[1m \u001B[0m \u001B[1m \u001B[0m\u001B[1m1641623\u001B[0m\u001B[1m \u001B[0m \u001B[1;38;5;39m \u001B[0m\u001B[1;38;5;39m2023-02-07 \u001B[0m\u001B[1;38;5;39m \u001B[0m \u001B[1m \u001B[0m\u001B[1m0001140361-23-004908\u001B[0m\u001B[1m \u001B[0m \n",
       "  21  \u001B[38;5;71m \u001B[0m\u001B[38;5;71m10-D   \u001B[0m\u001B[38;5;71m \u001B[0m  SLM Student Loan Trust 2010-1       1482912  \u001B[38;5;39m \u001B[0m\u001B[38;5;39m2023-02-07 \u001B[0m\u001B[38;5;39m \u001B[0m  0001140361-23-004909  \n",
       " \u001B[1m \u001B[0m\u001B[1m22\u001B[0m\u001B[1m \u001B[0m \u001B[1;38;5;71m \u001B[0m\u001B[1;38;5;71m10-D   \u001B[0m\u001B[1;38;5;71m \u001B[0m \u001B[1m \u001B[0m\u001B[1mSLM Student Loan Trust 2010-2    \u001B[0m\u001B[1m \u001B[0m \u001B[1m \u001B[0m\u001B[1m1482913\u001B[0m\u001B[1m \u001B[0m \u001B[1;38;5;39m \u001B[0m\u001B[1;38;5;39m2023-02-07 \u001B[0m\u001B[1;38;5;39m \u001B[0m \u001B[1m \u001B[0m\u001B[1m0001140361-23-004910\u001B[0m\u001B[1m \u001B[0m \n",
       "  23  \u001B[38;5;71m \u001B[0m\u001B[38;5;71m10-D   \u001B[0m\u001B[38;5;71m \u001B[0m  SLM Student Loan Trust 2011-1       1510872  \u001B[38;5;39m \u001B[0m\u001B[38;5;39m2023-02-07 \u001B[0m\u001B[38;5;39m \u001B[0m  0001140361-23-004911  \n",
       " \u001B[1m \u001B[0m\u001B[1m24\u001B[0m\u001B[1m \u001B[0m \u001B[1;38;5;71m \u001B[0m\u001B[1;38;5;71m10-D   \u001B[0m\u001B[1;38;5;71m \u001B[0m \u001B[1m \u001B[0m\u001B[1mSLM Student Loan Trust 2011-2    \u001B[0m\u001B[1m \u001B[0m \u001B[1m \u001B[0m\u001B[1m1510873\u001B[0m\u001B[1m \u001B[0m \u001B[1;38;5;39m \u001B[0m\u001B[1;38;5;39m2023-02-07 \u001B[0m\u001B[1;38;5;39m \u001B[0m \u001B[1m \u001B[0m\u001B[1m0001140361-23-004912\u001B[0m\u001B[1m \u001B[0m \n",
       "  25  \u001B[38;5;71m \u001B[0m\u001B[38;5;71m10-D   \u001B[0m\u001B[38;5;71m \u001B[0m  SLM Student Loan Trust 2011-3       1510874  \u001B[38;5;39m \u001B[0m\u001B[38;5;39m2023-02-07 \u001B[0m\u001B[38;5;39m \u001B[0m  0001140361-23-004913  \n",
       " \u001B[1m \u001B[0m\u001B[1m26\u001B[0m\u001B[1m \u001B[0m \u001B[1;38;5;71m \u001B[0m\u001B[1;38;5;71m10-D   \u001B[0m\u001B[1;38;5;71m \u001B[0m \u001B[1m \u001B[0m\u001B[1mSLM Student Loan Trust 2012-1    \u001B[0m\u001B[1m \u001B[0m \u001B[1m \u001B[0m\u001B[1m1536720\u001B[0m\u001B[1m \u001B[0m \u001B[1;38;5;39m \u001B[0m\u001B[1;38;5;39m2023-02-07 \u001B[0m\u001B[1;38;5;39m \u001B[0m \u001B[1m \u001B[0m\u001B[1m0001140361-23-004914\u001B[0m\u001B[1m \u001B[0m \n",
       "  27  \u001B[38;5;71m \u001B[0m\u001B[38;5;71m10-D   \u001B[0m\u001B[38;5;71m \u001B[0m  SLM Student Loan Trust 2012-2       1540960  \u001B[38;5;39m \u001B[0m\u001B[38;5;39m2023-02-07 \u001B[0m\u001B[38;5;39m \u001B[0m  0001140361-23-004915  \n",
       " \u001B[1m \u001B[0m\u001B[1m28\u001B[0m\u001B[1m \u001B[0m \u001B[1;38;5;71m \u001B[0m\u001B[1;38;5;71m10-D   \u001B[0m\u001B[1;38;5;71m \u001B[0m \u001B[1m \u001B[0m\u001B[1mSLM Student Loan Trust 2012-3    \u001B[0m\u001B[1m \u001B[0m \u001B[1m \u001B[0m\u001B[1m1546637\u001B[0m\u001B[1m \u001B[0m \u001B[1;38;5;39m \u001B[0m\u001B[1;38;5;39m2023-02-07 \u001B[0m\u001B[1;38;5;39m \u001B[0m \u001B[1m \u001B[0m\u001B[1m0001140361-23-004916\u001B[0m\u001B[1m \u001B[0m \n",
       "  29  \u001B[38;5;71m \u001B[0m\u001B[38;5;71m10-D   \u001B[0m\u001B[38;5;71m \u001B[0m  SLM Student Loan Trust 2012-5       1551271  \u001B[38;5;39m \u001B[0m\u001B[38;5;39m2023-02-07 \u001B[0m\u001B[38;5;39m \u001B[0m  0001140361-23-004917  \n",
       " \u001B[1m \u001B[0m\u001B[1m30\u001B[0m\u001B[1m \u001B[0m \u001B[1;38;5;71m \u001B[0m\u001B[1;38;5;71m10-D   \u001B[0m\u001B[1;38;5;71m \u001B[0m \u001B[1m \u001B[0m\u001B[1mSLM Student Loan Trust 2012-6    \u001B[0m\u001B[1m \u001B[0m \u001B[1m \u001B[0m\u001B[1m1556107\u001B[0m\u001B[1m \u001B[0m \u001B[1;38;5;39m \u001B[0m\u001B[1;38;5;39m2023-02-07 \u001B[0m\u001B[1;38;5;39m \u001B[0m \u001B[1m \u001B[0m\u001B[1m0001140361-23-004918\u001B[0m\u001B[1m \u001B[0m \n",
       "  31  \u001B[38;5;71m \u001B[0m\u001B[38;5;71m10-D   \u001B[0m\u001B[38;5;71m \u001B[0m  SLM Student Loan Trust 2012-7       1559856  \u001B[38;5;39m \u001B[0m\u001B[38;5;39m2023-02-07 \u001B[0m\u001B[38;5;39m \u001B[0m  0001140361-23-004919  \n",
       " \u001B[1m \u001B[0m\u001B[1m32\u001B[0m\u001B[1m \u001B[0m \u001B[1;38;5;71m \u001B[0m\u001B[1;38;5;71m10-D   \u001B[0m\u001B[1;38;5;71m \u001B[0m \u001B[1m \u001B[0m\u001B[1mSLM Student Loan Trust 2013-1    \u001B[0m\u001B[1m \u001B[0m \u001B[1m \u001B[0m\u001B[1m1565531\u001B[0m\u001B[1m \u001B[0m \u001B[1;38;5;39m \u001B[0m\u001B[1;38;5;39m2023-02-07 \u001B[0m\u001B[1;38;5;39m \u001B[0m \u001B[1m \u001B[0m\u001B[1m0001140361-23-004920\u001B[0m\u001B[1m \u001B[0m \n",
       "  33  \u001B[38;5;71m \u001B[0m\u001B[38;5;71m10-D   \u001B[0m\u001B[38;5;71m \u001B[0m  SLM Student Loan Trust 2013-2       1572987  \u001B[38;5;39m \u001B[0m\u001B[38;5;39m2023-02-07 \u001B[0m\u001B[38;5;39m \u001B[0m  0001140361-23-004921  \n",
       " \u001B[1m \u001B[0m\u001B[1m34\u001B[0m\u001B[1m \u001B[0m \u001B[1;38;5;71m \u001B[0m\u001B[1;38;5;71m10-D   \u001B[0m\u001B[1;38;5;71m \u001B[0m \u001B[1m \u001B[0m\u001B[1mSLM Student Loan Trust 2013-3    \u001B[0m\u001B[1m \u001B[0m \u001B[1m \u001B[0m\u001B[1m1575098\u001B[0m\u001B[1m \u001B[0m \u001B[1;38;5;39m \u001B[0m\u001B[1;38;5;39m2023-02-07 \u001B[0m\u001B[1;38;5;39m \u001B[0m \u001B[1m \u001B[0m\u001B[1m0001140361-23-004922\u001B[0m\u001B[1m \u001B[0m \n",
       "  35  \u001B[38;5;71m \u001B[0m\u001B[38;5;71m10-D   \u001B[0m\u001B[38;5;71m \u001B[0m  SLM Student Loan Trust 2013-4       1582081  \u001B[38;5;39m \u001B[0m\u001B[38;5;39m2023-02-07 \u001B[0m\u001B[38;5;39m \u001B[0m  0001140361-23-004923  \n",
       " \u001B[1m \u001B[0m\u001B[1m36\u001B[0m\u001B[1m \u001B[0m \u001B[1;38;5;71m \u001B[0m\u001B[1;38;5;71m10-D   \u001B[0m\u001B[1;38;5;71m \u001B[0m \u001B[1m \u001B[0m\u001B[1mSLM Student Loan Trust 2013-5    \u001B[0m\u001B[1m \u001B[0m \u001B[1m \u001B[0m\u001B[1m1584747\u001B[0m\u001B[1m \u001B[0m \u001B[1;38;5;39m \u001B[0m\u001B[1;38;5;39m2023-02-07 \u001B[0m\u001B[1;38;5;39m \u001B[0m \u001B[1m \u001B[0m\u001B[1m0001140361-23-004924\u001B[0m\u001B[1m \u001B[0m \n",
       "  37  \u001B[38;5;71m \u001B[0m\u001B[38;5;71m10-D   \u001B[0m\u001B[38;5;71m \u001B[0m  SLM Student Loan Trust 2013-6       1589224  \u001B[38;5;39m \u001B[0m\u001B[38;5;39m2023-02-07 \u001B[0m\u001B[38;5;39m \u001B[0m  0001140361-23-004925  \n",
       " \u001B[1m \u001B[0m\u001B[1m38\u001B[0m\u001B[1m \u001B[0m \u001B[1;38;5;71m \u001B[0m\u001B[1;38;5;71m10-D   \u001B[0m\u001B[1;38;5;71m \u001B[0m \u001B[1m \u001B[0m\u001B[1mSLM Student Loan Trust 2014-1    \u001B[0m\u001B[1m \u001B[0m \u001B[1m \u001B[0m\u001B[1m1594688\u001B[0m\u001B[1m \u001B[0m \u001B[1;38;5;39m \u001B[0m\u001B[1;38;5;39m2023-02-07 \u001B[0m\u001B[1;38;5;39m \u001B[0m \u001B[1m \u001B[0m\u001B[1m0001140361-23-004926\u001B[0m\u001B[1m \u001B[0m \n",
       "  39  \u001B[38;5;71m \u001B[0m\u001B[38;5;71m10-D   \u001B[0m\u001B[38;5;71m \u001B[0m  SLM Student Loan Trust 2014-2       1599033  \u001B[38;5;39m \u001B[0m\u001B[38;5;39m2023-02-07 \u001B[0m\u001B[38;5;39m \u001B[0m  0001140361-23-004927  \n",
       " \u001B[1m \u001B[0m\u001B[1m40\u001B[0m\u001B[1m \u001B[0m \u001B[1;38;5;71m \u001B[0m\u001B[1;38;5;71m10-K   \u001B[0m\u001B[1;38;5;71m \u001B[0m \u001B[1m \u001B[0m\u001B[1mARES CAPITAL CORP                \u001B[0m\u001B[1m \u001B[0m \u001B[1m \u001B[0m\u001B[1m1287750\u001B[0m\u001B[1m \u001B[0m \u001B[1;38;5;39m \u001B[0m\u001B[1;38;5;39m2023-02-07 \u001B[0m\u001B[1;38;5;39m \u001B[0m \u001B[1m \u001B[0m\u001B[1m0001287750-23-000010\u001B[0m\u001B[1m \u001B[0m \n",
       "  41  \u001B[38;5;71m \u001B[0m\u001B[38;5;71m10-K   \u001B[0m\u001B[38;5;71m \u001B[0m  Boardwalk Pipeline Partners, LP     1336047  \u001B[38;5;39m \u001B[0m\u001B[38;5;39m2023-02-07 \u001B[0m\u001B[38;5;39m \u001B[0m  0001336047-23-000006  \n",
       " \u001B[1m \u001B[0m\u001B[1m42\u001B[0m\u001B[1m \u001B[0m \u001B[1;38;5;71m \u001B[0m\u001B[1;38;5;71m10-K   \u001B[0m\u001B[1;38;5;71m \u001B[0m \u001B[1m \u001B[0m\u001B[1mCARRIER GLOBAL Corp              \u001B[0m\u001B[1m \u001B[0m \u001B[1m \u001B[0m\u001B[1m1783180\u001B[0m\u001B[1m \u001B[0m \u001B[1;38;5;39m \u001B[0m\u001B[1;38;5;39m2023-02-07 \u001B[0m\u001B[1;38;5;39m \u001B[0m \u001B[1m \u001B[0m\u001B[1m0001783180-23-000012\u001B[0m\u001B[1m \u001B[0m \n",
       "  43  \u001B[38;5;71m \u001B[0m\u001B[38;5;71m10-K   \u001B[0m\u001B[38;5;71m \u001B[0m  CNA FINANCIAL CORP                  21175    \u001B[38;5;39m \u001B[0m\u001B[38;5;39m2023-02-07 \u001B[0m\u001B[38;5;39m \u001B[0m  0000021175-23-000006  \n",
       " \u001B[1m \u001B[0m\u001B[1m44\u001B[0m\u001B[1m \u001B[0m \u001B[1;38;5;71m \u001B[0m\u001B[1;38;5;71m10-K   \u001B[0m\u001B[1;38;5;71m \u001B[0m \u001B[1m \u001B[0m\u001B[1mChina WuYi Mountain, Ltd.        \u001B[0m\u001B[1m \u001B[0m \u001B[1m \u001B[0m\u001B[1m1687065\u001B[0m\u001B[1m \u001B[0m \u001B[1;38;5;39m \u001B[0m\u001B[1;38;5;39m2023-02-07 \u001B[0m\u001B[1;38;5;39m \u001B[0m \u001B[1m \u001B[0m\u001B[1m0001477932-23-000786\u001B[0m\u001B[1m \u001B[0m \n",
       "  45  \u001B[38;5;71m \u001B[0m\u001B[38;5;71m10-K   \u001B[0m\u001B[38;5;71m \u001B[0m  Deciphera Pharmaceuticals, Inc.     1654151  \u001B[38;5;39m \u001B[0m\u001B[38;5;39m2023-02-07 \u001B[0m\u001B[38;5;39m \u001B[0m  0001654151-23-000003  \n",
       " \u001B[1m \u001B[0m\u001B[1m46\u001B[0m\u001B[1m \u001B[0m \u001B[1;38;5;71m \u001B[0m\u001B[1;38;5;71m10-K   \u001B[0m\u001B[1;38;5;71m \u001B[0m \u001B[1m \u001B[0m\u001B[1mEXELIXIS, INC.                   \u001B[0m\u001B[1m \u001B[0m \u001B[1m \u001B[0m\u001B[1m939767 \u001B[0m\u001B[1m \u001B[0m \u001B[1;38;5;39m \u001B[0m\u001B[1;38;5;39m2023-02-07 \u001B[0m\u001B[1;38;5;39m \u001B[0m \u001B[1m \u001B[0m\u001B[1m0000939767-23-000019\u001B[0m\u001B[1m \u001B[0m \n",
       "  47  \u001B[38;5;71m \u001B[0m\u001B[38;5;71m10-K   \u001B[0m\u001B[38;5;71m \u001B[0m  FASTENAL CO                         815556   \u001B[38;5;39m \u001B[0m\u001B[38;5;39m2023-02-07 \u001B[0m\u001B[38;5;39m \u001B[0m  0000815556-23-000009  \n",
       " \u001B[1m \u001B[0m\u001B[1m48\u001B[0m\u001B[1m \u001B[0m \u001B[1;38;5;71m \u001B[0m\u001B[1;38;5;71m10-K   \u001B[0m\u001B[1;38;5;71m \u001B[0m \u001B[1m \u001B[0m\u001B[1mGENERAL DYNAMICS CORP            \u001B[0m\u001B[1m \u001B[0m \u001B[1m \u001B[0m\u001B[1m40533  \u001B[0m\u001B[1m \u001B[0m \u001B[1;38;5;39m \u001B[0m\u001B[1;38;5;39m2023-02-07 \u001B[0m\u001B[1;38;5;39m \u001B[0m \u001B[1m \u001B[0m\u001B[1m0000040533-23-000014\u001B[0m\u001B[1m \u001B[0m \n",
       "  49  \u001B[38;5;71m \u001B[0m\u001B[38;5;71m10-K   \u001B[0m\u001B[38;5;71m \u001B[0m  GLOBAL LEADERS CORP                 1830696  \u001B[38;5;39m \u001B[0m\u001B[38;5;39m2023-02-07 \u001B[0m\u001B[38;5;39m \u001B[0m  0001493152-23-003772  \n",
       "                                                                                                   \n",
       "Showing 50 filings of 116,608 total from 2023-01-02 to 2023-02-07"
      ]
     },
     "execution_count": 7,
     "metadata": {},
     "output_type": "execute_result"
    }
   ],
   "source": [
    "filings"
   ]
  },
  {
   "cell_type": "markdown",
   "id": "7ac27af3",
   "metadata": {},
   "source": [
    "## Get next page of filings"
   ]
  },
  {
   "cell_type": "code",
   "execution_count": 8,
   "id": "a7255a86",
   "metadata": {},
   "outputs": [
    {
     "data": {
      "text/html": [
       "<pre style=\"white-space:pre;overflow-x:auto;line-height:normal;font-family:Menlo,'DejaVu Sans Mono',consolas,'Courier New',monospace\"></pre>\n"
      ],
      "text/plain": []
     },
     "metadata": {},
     "output_type": "display_data"
    },
    {
     "data": {
      "text/plain": [
       "\u001B[1m                                                  Filings                                                   \u001B[0m\n",
       "                                                                                                            \n",
       " \u001B[1m \u001B[0m\u001B[1m  \u001B[0m\u001B[1m \u001B[0m \u001B[1;38;5;71m \u001B[0m\u001B[1;38;5;71mform   \u001B[0m\u001B[1;38;5;71m \u001B[0m \u001B[1m \u001B[0m\u001B[1mcompany                                   \u001B[0m\u001B[1m \u001B[0m \u001B[1m \u001B[0m\u001B[1mcik    \u001B[0m\u001B[1m \u001B[0m \u001B[1;38;5;39m \u001B[0m\u001B[1;38;5;39mfiling_date\u001B[0m\u001B[1;38;5;39m \u001B[0m \u001B[1m \u001B[0m\u001B[1maccession_number    \u001B[0m\u001B[1m \u001B[0m \n",
       " ────────────────────────────────────────────────────────────────────────────────────────────────────────── \n",
       " \u001B[1m \u001B[0m\u001B[1m50\u001B[0m\u001B[1m \u001B[0m \u001B[1;38;5;71m \u001B[0m\u001B[1;38;5;71m10-K   \u001B[0m\u001B[1;38;5;71m \u001B[0m \u001B[1m \u001B[0m\u001B[1mHALLIBURTON CO                            \u001B[0m\u001B[1m \u001B[0m \u001B[1m \u001B[0m\u001B[1m45012  \u001B[0m\u001B[1m \u001B[0m \u001B[1;38;5;39m \u001B[0m\u001B[1;38;5;39m2023-02-07 \u001B[0m\u001B[1;38;5;39m \u001B[0m \u001B[1m \u001B[0m\u001B[1m0000045012-23-000011\u001B[0m\u001B[1m \u001B[0m \n",
       "  51  \u001B[38;5;71m \u001B[0m\u001B[38;5;71m10-K   \u001B[0m\u001B[38;5;71m \u001B[0m  HERTZ CORP                                   47129    \u001B[38;5;39m \u001B[0m\u001B[38;5;39m2023-02-07 \u001B[0m\u001B[38;5;39m \u001B[0m  0001657853-23-000039  \n",
       " \u001B[1m \u001B[0m\u001B[1m52\u001B[0m\u001B[1m \u001B[0m \u001B[1;38;5;71m \u001B[0m\u001B[1;38;5;71m10-K   \u001B[0m\u001B[1;38;5;71m \u001B[0m \u001B[1m \u001B[0m\u001B[1mHERTZ GLOBAL HOLDINGS, INC                \u001B[0m\u001B[1m \u001B[0m \u001B[1m \u001B[0m\u001B[1m1657853\u001B[0m\u001B[1m \u001B[0m \u001B[1;38;5;39m \u001B[0m\u001B[1;38;5;39m2023-02-07 \u001B[0m\u001B[1;38;5;39m \u001B[0m \u001B[1m \u001B[0m\u001B[1m0001657853-23-000039\u001B[0m\u001B[1m \u001B[0m \n",
       "  53  \u001B[38;5;71m \u001B[0m\u001B[38;5;71m10-K   \u001B[0m\u001B[38;5;71m \u001B[0m  HIGHWOODS PROPERTIES, INC.                   921082   \u001B[38;5;39m \u001B[0m\u001B[38;5;39m2023-02-07 \u001B[0m\u001B[38;5;39m \u001B[0m  0000921082-23-000006  \n",
       " \u001B[1m \u001B[0m\u001B[1m54\u001B[0m\u001B[1m \u001B[0m \u001B[1;38;5;71m \u001B[0m\u001B[1;38;5;71m10-K   \u001B[0m\u001B[1;38;5;71m \u001B[0m \u001B[1m \u001B[0m\u001B[1mHIGHWOODS REALTY LTD PARTNERSHIP          \u001B[0m\u001B[1m \u001B[0m \u001B[1m \u001B[0m\u001B[1m941713 \u001B[0m\u001B[1m \u001B[0m \u001B[1;38;5;39m \u001B[0m\u001B[1;38;5;39m2023-02-07 \u001B[0m\u001B[1;38;5;39m \u001B[0m \u001B[1m \u001B[0m\u001B[1m0000921082-23-000006\u001B[0m\u001B[1m \u001B[0m \n",
       "  55  \u001B[38;5;71m \u001B[0m\u001B[38;5;71m10-K   \u001B[0m\u001B[38;5;71m \u001B[0m  INCYTE CORP                                  879169   \u001B[38;5;39m \u001B[0m\u001B[38;5;39m2023-02-07 \u001B[0m\u001B[38;5;39m \u001B[0m  0000879169-23-000008  \n",
       " \u001B[1m \u001B[0m\u001B[1m56\u001B[0m\u001B[1m \u001B[0m \u001B[1;38;5;71m \u001B[0m\u001B[1;38;5;71m10-K   \u001B[0m\u001B[1;38;5;71m \u001B[0m \u001B[1m \u001B[0m\u001B[1mKKR Real Estate Finance Trust Inc.        \u001B[0m\u001B[1m \u001B[0m \u001B[1m \u001B[0m\u001B[1m1631596\u001B[0m\u001B[1m \u001B[0m \u001B[1;38;5;39m \u001B[0m\u001B[1;38;5;39m2023-02-07 \u001B[0m\u001B[1;38;5;39m \u001B[0m \u001B[1m \u001B[0m\u001B[1m0001631596-23-000009\u001B[0m\u001B[1m \u001B[0m \n",
       "  57  \u001B[38;5;71m \u001B[0m\u001B[38;5;71m10-K   \u001B[0m\u001B[38;5;71m \u001B[0m  LOEWS CORP                                   60086    \u001B[38;5;39m \u001B[0m\u001B[38;5;39m2023-02-07 \u001B[0m\u001B[38;5;39m \u001B[0m  0000060086-23-000025  \n",
       " \u001B[1m \u001B[0m\u001B[1m58\u001B[0m\u001B[1m \u001B[0m \u001B[1;38;5;71m \u001B[0m\u001B[1;38;5;71m10-K   \u001B[0m\u001B[1;38;5;71m \u001B[0m \u001B[1m \u001B[0m\u001B[1mPOWER INTEGRATIONS INC                    \u001B[0m\u001B[1m \u001B[0m \u001B[1m \u001B[0m\u001B[1m833640 \u001B[0m\u001B[1m \u001B[0m \u001B[1;38;5;39m \u001B[0m\u001B[1;38;5;39m2023-02-07 \u001B[0m\u001B[1;38;5;39m \u001B[0m \u001B[1m \u001B[0m\u001B[1m0000833640-23-000025\u001B[0m\u001B[1m \u001B[0m \n",
       "  59  \u001B[38;5;71m \u001B[0m\u001B[38;5;71m10-K   \u001B[0m\u001B[38;5;71m \u001B[0m  Praxis Precision Medicines, Inc.             1689548  \u001B[38;5;39m \u001B[0m\u001B[38;5;39m2023-02-07 \u001B[0m\u001B[38;5;39m \u001B[0m  0001689548-23-000044  \n",
       " \u001B[1m \u001B[0m\u001B[1m60\u001B[0m\u001B[1m \u001B[0m \u001B[1;38;5;71m \u001B[0m\u001B[1;38;5;71m10-K   \u001B[0m\u001B[1;38;5;71m \u001B[0m \u001B[1m \u001B[0m\u001B[1mRAYTHEON TECHNOLOGIES CORP                \u001B[0m\u001B[1m \u001B[0m \u001B[1m \u001B[0m\u001B[1m101829 \u001B[0m\u001B[1m \u001B[0m \u001B[1;38;5;39m \u001B[0m\u001B[1;38;5;39m2023-02-07 \u001B[0m\u001B[1;38;5;39m \u001B[0m \u001B[1m \u001B[0m\u001B[1m0000101829-23-000009\u001B[0m\u001B[1m \u001B[0m \n",
       "  61  \u001B[38;5;71m \u001B[0m\u001B[38;5;71m10-K   \u001B[0m\u001B[38;5;71m \u001B[0m  SOUTHWEST AIRLINES CO                        92380    \u001B[38;5;39m \u001B[0m\u001B[38;5;39m2023-02-07 \u001B[0m\u001B[38;5;39m \u001B[0m  0000092380-23-000010  \n",
       " \u001B[1m \u001B[0m\u001B[1m62\u001B[0m\u001B[1m \u001B[0m \u001B[1;38;5;71m \u001B[0m\u001B[1;38;5;71m10-K   \u001B[0m\u001B[1;38;5;71m \u001B[0m \u001B[1m \u001B[0m\u001B[1mVARONIS SYSTEMS INC                       \u001B[0m\u001B[1m \u001B[0m \u001B[1m \u001B[0m\u001B[1m1361113\u001B[0m\u001B[1m \u001B[0m \u001B[1;38;5;39m \u001B[0m\u001B[1;38;5;39m2023-02-07 \u001B[0m\u001B[1;38;5;39m \u001B[0m \u001B[1m \u001B[0m\u001B[1m0001628280-23-002580\u001B[0m\u001B[1m \u001B[0m \n",
       "  63  \u001B[38;5;71m \u001B[0m\u001B[38;5;71m10-K   \u001B[0m\u001B[38;5;71m \u001B[0m  WASTE MANAGEMENT INC                         823768   \u001B[38;5;39m \u001B[0m\u001B[38;5;39m2023-02-07 \u001B[0m\u001B[38;5;39m \u001B[0m  0001558370-23-000964  \n",
       " \u001B[1m \u001B[0m\u001B[1m64\u001B[0m\u001B[1m \u001B[0m \u001B[1;38;5;71m \u001B[0m\u001B[1;38;5;71m10-K/A \u001B[0m\u001B[1;38;5;71m \u001B[0m \u001B[1m \u001B[0m\u001B[1mChina Foods Holdings Ltd.                 \u001B[0m\u001B[1m \u001B[0m \u001B[1m \u001B[0m\u001B[1m1310630\u001B[0m\u001B[1m \u001B[0m \u001B[1;38;5;39m \u001B[0m\u001B[1;38;5;39m2023-02-07 \u001B[0m\u001B[1;38;5;39m \u001B[0m \u001B[1m \u001B[0m\u001B[1m0001493152-23-003859\u001B[0m\u001B[1m \u001B[0m \n",
       "  65  \u001B[38;5;71m \u001B[0m\u001B[38;5;71m10-KT/A\u001B[0m\u001B[38;5;71m \u001B[0m  AmeriCrew Inc.                               1407573  \u001B[38;5;39m \u001B[0m\u001B[38;5;39m2023-02-07 \u001B[0m\u001B[38;5;39m \u001B[0m  0001654954-23-001360  \n",
       " \u001B[1m \u001B[0m\u001B[1m66\u001B[0m\u001B[1m \u001B[0m \u001B[1;38;5;71m \u001B[0m\u001B[1;38;5;71m10-Q   \u001B[0m\u001B[1;38;5;71m \u001B[0m \u001B[1m \u001B[0m\u001B[1m8X8 INC /DE/                              \u001B[0m\u001B[1m \u001B[0m \u001B[1m \u001B[0m\u001B[1m1023731\u001B[0m\u001B[1m \u001B[0m \u001B[1;38;5;39m \u001B[0m\u001B[1;38;5;39m2023-02-07 \u001B[0m\u001B[1;38;5;39m \u001B[0m \u001B[1m \u001B[0m\u001B[1m0001023731-23-000020\u001B[0m\u001B[1m \u001B[0m \n",
       "  67  \u001B[38;5;71m \u001B[0m\u001B[38;5;71m10-Q   \u001B[0m\u001B[38;5;71m \u001B[0m  AECOM                                        868857   \u001B[38;5;39m \u001B[0m\u001B[38;5;39m2023-02-07 \u001B[0m\u001B[38;5;39m \u001B[0m  0001104659-23-011748  \n",
       " \u001B[1m \u001B[0m\u001B[1m68\u001B[0m\u001B[1m \u001B[0m \u001B[1;38;5;71m \u001B[0m\u001B[1;38;5;71m10-Q   \u001B[0m\u001B[1;38;5;71m \u001B[0m \u001B[1m \u001B[0m\u001B[1mANAVEX LIFE SCIENCES CORP.                \u001B[0m\u001B[1m \u001B[0m \u001B[1m \u001B[0m\u001B[1m1314052\u001B[0m\u001B[1m \u001B[0m \u001B[1;38;5;39m \u001B[0m\u001B[1;38;5;39m2023-02-07 \u001B[0m\u001B[1;38;5;39m \u001B[0m \u001B[1m \u001B[0m\u001B[1m0001731122-23-000152\u001B[0m\u001B[1m \u001B[0m \n",
       "  69  \u001B[38;5;71m \u001B[0m\u001B[38;5;71m10-Q   \u001B[0m\u001B[38;5;71m \u001B[0m  ATMOS ENERGY CORP                            731802   \u001B[38;5;39m \u001B[0m\u001B[38;5;39m2023-02-07 \u001B[0m\u001B[38;5;39m \u001B[0m  0000731802-23-000006  \n",
       " \u001B[1m \u001B[0m\u001B[1m70\u001B[0m\u001B[1m \u001B[0m \u001B[1;38;5;71m \u001B[0m\u001B[1;38;5;71m10-Q   \u001B[0m\u001B[1;38;5;71m \u001B[0m \u001B[1m \u001B[0m\u001B[1mAdient plc                                \u001B[0m\u001B[1m \u001B[0m \u001B[1m \u001B[0m\u001B[1m1670541\u001B[0m\u001B[1m \u001B[0m \u001B[1;38;5;39m \u001B[0m\u001B[1;38;5;39m2023-02-07 \u001B[0m\u001B[1;38;5;39m \u001B[0m \u001B[1m \u001B[0m\u001B[1m0001670541-23-000050\u001B[0m\u001B[1m \u001B[0m \n",
       "  71  \u001B[38;5;71m \u001B[0m\u001B[38;5;71m10-Q   \u001B[0m\u001B[38;5;71m \u001B[0m  Akoustis Technologies, Inc.                  1584754  \u001B[38;5;39m \u001B[0m\u001B[38;5;39m2023-02-07 \u001B[0m\u001B[38;5;39m \u001B[0m  0001213900-23-008709  \n",
       " \u001B[1m \u001B[0m\u001B[1m72\u001B[0m\u001B[1m \u001B[0m \u001B[1;38;5;71m \u001B[0m\u001B[1;38;5;71m10-Q   \u001B[0m\u001B[1;38;5;71m \u001B[0m \u001B[1m \u001B[0m\u001B[1mAramark                                   \u001B[0m\u001B[1m \u001B[0m \u001B[1m \u001B[0m\u001B[1m1584509\u001B[0m\u001B[1m \u001B[0m \u001B[1;38;5;39m \u001B[0m\u001B[1;38;5;39m2023-02-07 \u001B[0m\u001B[1;38;5;39m \u001B[0m \u001B[1m \u001B[0m\u001B[1m0001584509-23-000044\u001B[0m\u001B[1m \u001B[0m \n",
       "  73  \u001B[38;5;71m \u001B[0m\u001B[38;5;71m10-Q   \u001B[0m\u001B[38;5;71m \u001B[0m  BELLRING BRANDS, INC.                        1772016  \u001B[38;5;39m \u001B[0m\u001B[38;5;39m2023-02-07 \u001B[0m\u001B[38;5;39m \u001B[0m  0001772016-23-000015  \n",
       " \u001B[1m \u001B[0m\u001B[1m74\u001B[0m\u001B[1m \u001B[0m \u001B[1;38;5;71m \u001B[0m\u001B[1;38;5;71m10-Q   \u001B[0m\u001B[1;38;5;71m \u001B[0m \u001B[1m \u001B[0m\u001B[1mBIO-TECHNE Corp                           \u001B[0m\u001B[1m \u001B[0m \u001B[1m \u001B[0m\u001B[1m842023 \u001B[0m\u001B[1m \u001B[0m \u001B[1;38;5;39m \u001B[0m\u001B[1;38;5;39m2023-02-07 \u001B[0m\u001B[1;38;5;39m \u001B[0m \u001B[1m \u001B[0m\u001B[1m0001558370-23-000979\u001B[0m\u001B[1m \u001B[0m \n",
       "  75  \u001B[38;5;71m \u001B[0m\u001B[38;5;71m10-Q   \u001B[0m\u001B[38;5;71m \u001B[0m  BrightView Holdings, Inc.                    1734713  \u001B[38;5;39m \u001B[0m\u001B[38;5;39m2023-02-07 \u001B[0m\u001B[38;5;39m \u001B[0m  0000950170-23-001914  \n",
       " \u001B[1m \u001B[0m\u001B[1m76\u001B[0m\u001B[1m \u001B[0m \u001B[1;38;5;71m \u001B[0m\u001B[1;38;5;71m10-Q   \u001B[0m\u001B[1;38;5;71m \u001B[0m \u001B[1m \u001B[0m\u001B[1mCOMPASS MINERALS INTERNATIONAL INC        \u001B[0m\u001B[1m \u001B[0m \u001B[1m \u001B[0m\u001B[1m1227654\u001B[0m\u001B[1m \u001B[0m \u001B[1;38;5;39m \u001B[0m\u001B[1;38;5;39m2023-02-07 \u001B[0m\u001B[1;38;5;39m \u001B[0m \u001B[1m \u001B[0m\u001B[1m0001227654-23-000022\u001B[0m\u001B[1m \u001B[0m \n",
       "  77  \u001B[38;5;71m \u001B[0m\u001B[38;5;71m10-Q   \u001B[0m\u001B[38;5;71m \u001B[0m  Catalent, Inc.                               1596783  \u001B[38;5;39m \u001B[0m\u001B[38;5;39m2023-02-07 \u001B[0m\u001B[38;5;39m \u001B[0m  0001596783-23-000017  \n",
       " \u001B[1m \u001B[0m\u001B[1m78\u001B[0m\u001B[1m \u001B[0m \u001B[1;38;5;71m \u001B[0m\u001B[1;38;5;71m10-Q   \u001B[0m\u001B[1;38;5;71m \u001B[0m \u001B[1m \u001B[0m\u001B[1mClearfield, Inc.                          \u001B[0m\u001B[1m \u001B[0m \u001B[1m \u001B[0m\u001B[1m796505 \u001B[0m\u001B[1m \u001B[0m \u001B[1;38;5;39m \u001B[0m\u001B[1;38;5;39m2023-02-07 \u001B[0m\u001B[1;38;5;39m \u001B[0m \u001B[1m \u001B[0m\u001B[1m0001171843-23-000755\u001B[0m\u001B[1m \u001B[0m \n",
       "  79  \u001B[38;5;71m \u001B[0m\u001B[38;5;71m10-Q   \u001B[0m\u001B[38;5;71m \u001B[0m  DELTA APPAREL, INC                           1101396  \u001B[38;5;39m \u001B[0m\u001B[38;5;39m2023-02-07 \u001B[0m\u001B[38;5;39m \u001B[0m  0001562762-23-000041  \n",
       " \u001B[1m \u001B[0m\u001B[1m80\u001B[0m\u001B[1m \u001B[0m \u001B[1;38;5;71m \u001B[0m\u001B[1;38;5;71m10-Q   \u001B[0m\u001B[1;38;5;71m \u001B[0m \u001B[1m \u001B[0m\u001B[1mELECTRONIC ARTS INC.                      \u001B[0m\u001B[1m \u001B[0m \u001B[1m \u001B[0m\u001B[1m712515 \u001B[0m\u001B[1m \u001B[0m \u001B[1;38;5;39m \u001B[0m\u001B[1;38;5;39m2023-02-07 \u001B[0m\u001B[1;38;5;39m \u001B[0m \u001B[1m \u001B[0m\u001B[1m0000712515-23-000008\u001B[0m\u001B[1m \u001B[0m \n",
       "  81  \u001B[38;5;71m \u001B[0m\u001B[38;5;71m10-Q   \u001B[0m\u001B[38;5;71m \u001B[0m  EPLUS INC                                    1022408  \u001B[38;5;39m \u001B[0m\u001B[38;5;39m2023-02-07 \u001B[0m\u001B[38;5;39m \u001B[0m  0001140361-23-005051  \n",
       " \u001B[1m \u001B[0m\u001B[1m82\u001B[0m\u001B[1m \u001B[0m \u001B[1;38;5;71m \u001B[0m\u001B[1;38;5;71m10-Q   \u001B[0m\u001B[1;38;5;71m \u001B[0m \u001B[1m \u001B[0m\u001B[1mESSA Pharma Inc.                          \u001B[0m\u001B[1m \u001B[0m \u001B[1m \u001B[0m\u001B[1m1633932\u001B[0m\u001B[1m \u001B[0m \u001B[1;38;5;39m \u001B[0m\u001B[1;38;5;39m2023-02-07 \u001B[0m\u001B[1;38;5;39m \u001B[0m \u001B[1m \u001B[0m\u001B[1m0001558370-23-000948\u001B[0m\u001B[1m \u001B[0m \n",
       "  83  \u001B[38;5;71m \u001B[0m\u001B[38;5;71m10-Q   \u001B[0m\u001B[38;5;71m \u001B[0m  EVO Transportation & Energy Services, Inc.   728447   \u001B[38;5;39m \u001B[0m\u001B[38;5;39m2023-02-07 \u001B[0m\u001B[38;5;39m \u001B[0m  0000950170-23-001958  \n",
       " \u001B[1m \u001B[0m\u001B[1m84\u001B[0m\u001B[1m \u001B[0m \u001B[1;38;5;71m \u001B[0m\u001B[1;38;5;71m10-Q   \u001B[0m\u001B[1;38;5;71m \u001B[0m \u001B[1m \u001B[0m\u001B[1mFabrinet                                  \u001B[0m\u001B[1m \u001B[0m \u001B[1m \u001B[0m\u001B[1m1408710\u001B[0m\u001B[1m \u001B[0m \u001B[1;38;5;39m \u001B[0m\u001B[1;38;5;39m2023-02-07 \u001B[0m\u001B[1;38;5;39m \u001B[0m \u001B[1m \u001B[0m\u001B[1m0001408710-23-000008\u001B[0m\u001B[1m \u001B[0m \n",
       "  85  \u001B[38;5;71m \u001B[0m\u001B[38;5;71m10-Q   \u001B[0m\u001B[38;5;71m \u001B[0m  H&R BLOCK INC                                12659    \u001B[38;5;39m \u001B[0m\u001B[38;5;39m2023-02-07 \u001B[0m\u001B[38;5;39m \u001B[0m  0001838862-23-000011  \n",
       " \u001B[1m \u001B[0m\u001B[1m86\u001B[0m\u001B[1m \u001B[0m \u001B[1;38;5;71m \u001B[0m\u001B[1;38;5;71m10-Q   \u001B[0m\u001B[1;38;5;71m \u001B[0m \u001B[1m \u001B[0m\u001B[1mHAEMONETICS CORP                          \u001B[0m\u001B[1m \u001B[0m \u001B[1m \u001B[0m\u001B[1m313143 \u001B[0m\u001B[1m \u001B[0m \u001B[1;38;5;39m \u001B[0m\u001B[1;38;5;39m2023-02-07 \u001B[0m\u001B[1;38;5;39m \u001B[0m \u001B[1m \u001B[0m\u001B[1m0000313143-23-000006\u001B[0m\u001B[1m \u001B[0m \n",
       "  87  \u001B[38;5;71m \u001B[0m\u001B[38;5;71m10-Q   \u001B[0m\u001B[38;5;71m \u001B[0m  HAIN CELESTIAL GROUP INC                     910406   \u001B[38;5;39m \u001B[0m\u001B[38;5;39m2023-02-07 \u001B[0m\u001B[38;5;39m \u001B[0m  0000910406-23-000014  \n",
       " \u001B[1m \u001B[0m\u001B[1m88\u001B[0m\u001B[1m \u001B[0m \u001B[1;38;5;71m \u001B[0m\u001B[1;38;5;71m10-Q   \u001B[0m\u001B[1;38;5;71m \u001B[0m \u001B[1m \u001B[0m\u001B[1mHOULIHAN LOKEY, INC.                      \u001B[0m\u001B[1m \u001B[0m \u001B[1m \u001B[0m\u001B[1m1302215\u001B[0m\u001B[1m \u001B[0m \u001B[1;38;5;39m \u001B[0m\u001B[1;38;5;39m2023-02-07 \u001B[0m\u001B[1;38;5;39m \u001B[0m \u001B[1m \u001B[0m\u001B[1m0001302215-23-000007\u001B[0m\u001B[1m \u001B[0m \n",
       "  89  \u001B[38;5;71m \u001B[0m\u001B[38;5;71m10-Q   \u001B[0m\u001B[38;5;71m \u001B[0m  Hamilton Lane INC                            1433642  \u001B[38;5;39m \u001B[0m\u001B[38;5;39m2023-02-07 \u001B[0m\u001B[38;5;39m \u001B[0m  0001433642-23-000006  \n",
       " \u001B[1m \u001B[0m\u001B[1m90\u001B[0m\u001B[1m \u001B[0m \u001B[1;38;5;71m \u001B[0m\u001B[1;38;5;71m10-Q   \u001B[0m\u001B[1;38;5;71m \u001B[0m \u001B[1m \u001B[0m\u001B[1mHomeTrust Bancshares, Inc.                \u001B[0m\u001B[1m \u001B[0m \u001B[1m \u001B[0m\u001B[1m1538263\u001B[0m\u001B[1m \u001B[0m \u001B[1;38;5;39m \u001B[0m\u001B[1;38;5;39m2023-02-07 \u001B[0m\u001B[1;38;5;39m \u001B[0m \u001B[1m \u001B[0m\u001B[1m0001538263-23-000009\u001B[0m\u001B[1m \u001B[0m \n",
       "  91  \u001B[38;5;71m \u001B[0m\u001B[38;5;71m10-Q   \u001B[0m\u001B[38;5;71m \u001B[0m  InnovAge Holding Corp.                       1834376  \u001B[38;5;39m \u001B[0m\u001B[38;5;39m2023-02-07 \u001B[0m\u001B[38;5;39m \u001B[0m  0001558370-23-000986  \n",
       " \u001B[1m \u001B[0m\u001B[1m92\u001B[0m\u001B[1m \u001B[0m \u001B[1;38;5;71m \u001B[0m\u001B[1;38;5;71m10-Q   \u001B[0m\u001B[1;38;5;71m \u001B[0m \u001B[1m \u001B[0m\u001B[1mJACOBS SOLUTIONS INC.                     \u001B[0m\u001B[1m \u001B[0m \u001B[1m \u001B[0m\u001B[1m52988  \u001B[0m\u001B[1m \u001B[0m \u001B[1;38;5;39m \u001B[0m\u001B[1;38;5;39m2023-02-07 \u001B[0m\u001B[1;38;5;39m \u001B[0m \u001B[1m \u001B[0m\u001B[1m0000052988-23-000012\u001B[0m\u001B[1m \u001B[0m \n",
       "  93  \u001B[38;5;71m \u001B[0m\u001B[38;5;71m10-Q   \u001B[0m\u001B[38;5;71m \u001B[0m  KIMBALL INTERNATIONAL INC                    55772    \u001B[38;5;39m \u001B[0m\u001B[38;5;39m2023-02-07 \u001B[0m\u001B[38;5;39m \u001B[0m  0000055772-23-000019  \n",
       " \u001B[1m \u001B[0m\u001B[1m94\u001B[0m\u001B[1m \u001B[0m \u001B[1;38;5;71m \u001B[0m\u001B[1;38;5;71m10-Q   \u001B[0m\u001B[1;38;5;71m \u001B[0m \u001B[1m \u001B[0m\u001B[1mKearny Financial Corp.                    \u001B[0m\u001B[1m \u001B[0m \u001B[1m \u001B[0m\u001B[1m1617242\u001B[0m\u001B[1m \u001B[0m \u001B[1;38;5;39m \u001B[0m\u001B[1;38;5;39m2023-02-07 \u001B[0m\u001B[1;38;5;39m \u001B[0m \u001B[1m \u001B[0m\u001B[1m0001617242-23-000009\u001B[0m\u001B[1m \u001B[0m \n",
       "  95  \u001B[38;5;71m \u001B[0m\u001B[38;5;71m10-Q   \u001B[0m\u001B[38;5;71m \u001B[0m  Kimball Electronics, Inc.                    1606757  \u001B[38;5;39m \u001B[0m\u001B[38;5;39m2023-02-07 \u001B[0m\u001B[38;5;39m \u001B[0m  0001606757-23-000007  \n",
       " \u001B[1m \u001B[0m\u001B[1m96\u001B[0m\u001B[1m \u001B[0m \u001B[1;38;5;71m \u001B[0m\u001B[1;38;5;71m10-Q   \u001B[0m\u001B[1;38;5;71m \u001B[0m \u001B[1m \u001B[0m\u001B[1mLESAKA TECHNOLOGIES INC                   \u001B[0m\u001B[1m \u001B[0m \u001B[1m \u001B[0m\u001B[1m1041514\u001B[0m\u001B[1m \u001B[0m \u001B[1;38;5;39m \u001B[0m\u001B[1;38;5;39m2023-02-07 \u001B[0m\u001B[1;38;5;39m \u001B[0m \u001B[1m \u001B[0m\u001B[1m0001562762-23-000040\u001B[0m\u001B[1m \u001B[0m \n",
       "  97  \u001B[38;5;71m \u001B[0m\u001B[38;5;71m10-Q   \u001B[0m\u001B[38;5;71m \u001B[0m  LSI INDUSTRIES INC                           763532   \u001B[38;5;39m \u001B[0m\u001B[38;5;39m2023-02-07 \u001B[0m\u001B[38;5;39m \u001B[0m  0001437749-23-002660  \n",
       " \u001B[1m \u001B[0m\u001B[1m98\u001B[0m\u001B[1m \u001B[0m \u001B[1;38;5;71m \u001B[0m\u001B[1;38;5;71m10-Q   \u001B[0m\u001B[1;38;5;71m \u001B[0m \u001B[1m \u001B[0m\u001B[1mLiveRamp Holdings, Inc.                   \u001B[0m\u001B[1m \u001B[0m \u001B[1m \u001B[0m\u001B[1m733269 \u001B[0m\u001B[1m \u001B[0m \u001B[1;38;5;39m \u001B[0m\u001B[1;38;5;39m2023-02-07 \u001B[0m\u001B[1;38;5;39m \u001B[0m \u001B[1m \u001B[0m\u001B[1m0000733269-23-000012\u001B[0m\u001B[1m \u001B[0m \n",
       "  99  \u001B[38;5;71m \u001B[0m\u001B[38;5;71m10-Q   \u001B[0m\u001B[38;5;71m \u001B[0m  Loop Media, Inc.                             1643988  \u001B[38;5;39m \u001B[0m\u001B[38;5;39m2023-02-07 \u001B[0m\u001B[38;5;39m \u001B[0m  0001558370-23-000984  \n",
       "                                                                                                            \n",
       "Showing 50 filings of 116,608 total from 2023-02-07 to 2023-02-07"
      ]
     },
     "execution_count": 8,
     "metadata": {},
     "output_type": "execute_result"
    }
   ],
   "source": [
    "filings.next()"
   ]
  },
  {
   "cell_type": "markdown",
   "id": "5c8b9211",
   "metadata": {},
   "source": [
    "## Get previous page of filings"
   ]
  },
  {
   "cell_type": "code",
   "execution_count": 9,
   "id": "c1e3f860",
   "metadata": {},
   "outputs": [
    {
     "data": {
      "text/html": [
       "<pre style=\"white-space:pre;overflow-x:auto;line-height:normal;font-family:Menlo,'DejaVu Sans Mono',consolas,'Courier New',monospace\"></pre>\n"
      ],
      "text/plain": []
     },
     "metadata": {},
     "output_type": "display_data"
    },
    {
     "data": {
      "text/plain": [
       "\u001B[1m                                              Filings                                              \u001B[0m\n",
       "                                                                                                   \n",
       " \u001B[1m \u001B[0m\u001B[1m  \u001B[0m\u001B[1m \u001B[0m \u001B[1;38;5;71m \u001B[0m\u001B[1;38;5;71mform   \u001B[0m\u001B[1;38;5;71m \u001B[0m \u001B[1m \u001B[0m\u001B[1mcompany                          \u001B[0m\u001B[1m \u001B[0m \u001B[1m \u001B[0m\u001B[1mcik    \u001B[0m\u001B[1m \u001B[0m \u001B[1;38;5;39m \u001B[0m\u001B[1;38;5;39mfiling_date\u001B[0m\u001B[1;38;5;39m \u001B[0m \u001B[1m \u001B[0m\u001B[1maccession_number    \u001B[0m\u001B[1m \u001B[0m \n",
       " ───────────────────────────────────────────────────────────────────────────────────────────────── \n",
       " \u001B[1m \u001B[0m\u001B[1m0 \u001B[0m\u001B[1m \u001B[0m \u001B[1;38;5;71m \u001B[0m\u001B[1;38;5;71m1-A    \u001B[0m\u001B[1;38;5;71m \u001B[0m \u001B[1m \u001B[0m\u001B[1mBlack Unicorn Factory            \u001B[0m\u001B[1m \u001B[0m \u001B[1m \u001B[0m\u001B[1m1822415\u001B[0m\u001B[1m \u001B[0m \u001B[1;38;5;39m \u001B[0m\u001B[1;38;5;39m2023-02-07 \u001B[0m\u001B[1;38;5;39m \u001B[0m \u001B[1m \u001B[0m\u001B[1m0001096906-23-000262\u001B[0m\u001B[1m \u001B[0m \n",
       "  1   \u001B[38;5;71m \u001B[0m\u001B[38;5;71m1-A    \u001B[0m\u001B[38;5;71m \u001B[0m  Masterworks 222, LLC                1958941  \u001B[38;5;39m \u001B[0m\u001B[38;5;39m2023-02-07 \u001B[0m\u001B[38;5;39m \u001B[0m  0001493152-23-003850  \n",
       " \u001B[1m \u001B[0m\u001B[1m2 \u001B[0m\u001B[1m \u001B[0m \u001B[1;38;5;71m \u001B[0m\u001B[1;38;5;71m1-A POS\u001B[0m\u001B[1;38;5;71m \u001B[0m \u001B[1m \u001B[0m\u001B[1mArrived STR, LLC                 \u001B[0m\u001B[1m \u001B[0m \u001B[1m \u001B[0m\u001B[1m1942208\u001B[0m\u001B[1m \u001B[0m \u001B[1;38;5;39m \u001B[0m\u001B[1;38;5;39m2023-02-07 \u001B[0m\u001B[1;38;5;39m \u001B[0m \u001B[1m \u001B[0m\u001B[1m0001942208-23-000014\u001B[0m\u001B[1m \u001B[0m \n",
       "  3   \u001B[38;5;71m \u001B[0m\u001B[38;5;71m1-A POS\u001B[0m\u001B[38;5;71m \u001B[0m  TROPICAL RACING INC                 1746611  \u001B[38;5;39m \u001B[0m\u001B[38;5;39m2023-02-07 \u001B[0m\u001B[38;5;39m \u001B[0m  0001640334-23-000172  \n",
       " \u001B[1m \u001B[0m\u001B[1m4 \u001B[0m\u001B[1m \u001B[0m \u001B[1;38;5;71m \u001B[0m\u001B[1;38;5;71m1-A POS\u001B[0m\u001B[1;38;5;71m \u001B[0m \u001B[1m \u001B[0m\u001B[1mXCPCNL Business Services Corp    \u001B[0m\u001B[1m \u001B[0m \u001B[1m \u001B[0m\u001B[1m1331275\u001B[0m\u001B[1m \u001B[0m \u001B[1;38;5;39m \u001B[0m\u001B[1;38;5;39m2023-02-07 \u001B[0m\u001B[1;38;5;39m \u001B[0m \u001B[1m \u001B[0m\u001B[1m0001214659-23-001689\u001B[0m\u001B[1m \u001B[0m \n",
       "  5   \u001B[38;5;71m \u001B[0m\u001B[38;5;71m1-A/A  \u001B[0m\u001B[38;5;71m \u001B[0m  EthicStream Inc.                    1955926  \u001B[38;5;39m \u001B[0m\u001B[38;5;39m2023-02-07 \u001B[0m\u001B[38;5;39m \u001B[0m  0001493152-23-003750  \n",
       " \u001B[1m \u001B[0m\u001B[1m6 \u001B[0m\u001B[1m \u001B[0m \u001B[1;38;5;71m \u001B[0m\u001B[1;38;5;71m1-A/A  \u001B[0m\u001B[1;38;5;71m \u001B[0m \u001B[1m \u001B[0m\u001B[1mHIMALAYA TECHNOLOGIES, INC       \u001B[0m\u001B[1m \u001B[0m \u001B[1m \u001B[0m\u001B[1m1409624\u001B[0m\u001B[1m \u001B[0m \u001B[1;38;5;39m \u001B[0m\u001B[1;38;5;39m2023-02-07 \u001B[0m\u001B[1;38;5;39m \u001B[0m \u001B[1m \u001B[0m\u001B[1m0001493152-23-003876\u001B[0m\u001B[1m \u001B[0m \n",
       "  7   \u001B[38;5;71m \u001B[0m\u001B[38;5;71m1-A/A  \u001B[0m\u001B[38;5;71m \u001B[0m  TROPICAL RACING INC                 1746611  \u001B[38;5;39m \u001B[0m\u001B[38;5;39m2023-02-07 \u001B[0m\u001B[38;5;39m \u001B[0m  0001640334-23-000169  \n",
       " \u001B[1m \u001B[0m\u001B[1m8 \u001B[0m\u001B[1m \u001B[0m \u001B[1;38;5;71m \u001B[0m\u001B[1;38;5;71m1-U    \u001B[0m\u001B[1;38;5;71m \u001B[0m \u001B[1m \u001B[0m\u001B[1mEnergea Portfolio 2 LLC          \u001B[0m\u001B[1m \u001B[0m \u001B[1m \u001B[0m\u001B[1m1811470\u001B[0m\u001B[1m \u001B[0m \u001B[1;38;5;39m \u001B[0m\u001B[1;38;5;39m2023-02-07 \u001B[0m\u001B[1;38;5;39m \u001B[0m \u001B[1m \u001B[0m\u001B[1m0001811470-23-000002\u001B[0m\u001B[1m \u001B[0m \n",
       "  9   \u001B[38;5;71m \u001B[0m\u001B[38;5;71m1-U    \u001B[0m\u001B[38;5;71m \u001B[0m  Masterworks 036, LLC                1829030  \u001B[38;5;39m \u001B[0m\u001B[38;5;39m2023-02-07 \u001B[0m\u001B[38;5;39m \u001B[0m  0001493152-23-003813  \n",
       " \u001B[1m \u001B[0m\u001B[1m10\u001B[0m\u001B[1m \u001B[0m \u001B[1;38;5;71m \u001B[0m\u001B[1;38;5;71m10-D   \u001B[0m\u001B[1;38;5;71m \u001B[0m \u001B[1m \u001B[0m\u001B[1mNavient Student Loan Trust 2014-1\u001B[0m\u001B[1m \u001B[0m \u001B[1m \u001B[0m\u001B[1m1607401\u001B[0m\u001B[1m \u001B[0m \u001B[1;38;5;39m \u001B[0m\u001B[1;38;5;39m2023-02-07 \u001B[0m\u001B[1;38;5;39m \u001B[0m \u001B[1m \u001B[0m\u001B[1m0001140361-23-004898\u001B[0m\u001B[1m \u001B[0m \n",
       "  11  \u001B[38;5;71m \u001B[0m\u001B[38;5;71m10-D   \u001B[0m\u001B[38;5;71m \u001B[0m  Navient Student Loan Trust 2014-2   1613762  \u001B[38;5;39m \u001B[0m\u001B[38;5;39m2023-02-07 \u001B[0m\u001B[38;5;39m \u001B[0m  0001140361-23-004899  \n",
       " \u001B[1m \u001B[0m\u001B[1m12\u001B[0m\u001B[1m \u001B[0m \u001B[1;38;5;71m \u001B[0m\u001B[1;38;5;71m10-D   \u001B[0m\u001B[1;38;5;71m \u001B[0m \u001B[1m \u001B[0m\u001B[1mNavient Student Loan Trust 2014-3\u001B[0m\u001B[1m \u001B[0m \u001B[1m \u001B[0m\u001B[1m1613763\u001B[0m\u001B[1m \u001B[0m \u001B[1;38;5;39m \u001B[0m\u001B[1;38;5;39m2023-02-07 \u001B[0m\u001B[1;38;5;39m \u001B[0m \u001B[1m \u001B[0m\u001B[1m0001140361-23-004900\u001B[0m\u001B[1m \u001B[0m \n",
       "  13  \u001B[38;5;71m \u001B[0m\u001B[38;5;71m10-D   \u001B[0m\u001B[38;5;71m \u001B[0m  Navient Student Loan Trust 2014-4   1613764  \u001B[38;5;39m \u001B[0m\u001B[38;5;39m2023-02-07 \u001B[0m\u001B[38;5;39m \u001B[0m  0001140361-23-004901  \n",
       " \u001B[1m \u001B[0m\u001B[1m14\u001B[0m\u001B[1m \u001B[0m \u001B[1;38;5;71m \u001B[0m\u001B[1;38;5;71m10-D   \u001B[0m\u001B[1;38;5;71m \u001B[0m \u001B[1m \u001B[0m\u001B[1mNavient Student Loan Trust 2014-5\u001B[0m\u001B[1m \u001B[0m \u001B[1m \u001B[0m\u001B[1m1613765\u001B[0m\u001B[1m \u001B[0m \u001B[1;38;5;39m \u001B[0m\u001B[1;38;5;39m2023-02-07 \u001B[0m\u001B[1;38;5;39m \u001B[0m \u001B[1m \u001B[0m\u001B[1m0001140361-23-004902\u001B[0m\u001B[1m \u001B[0m \n",
       "  15  \u001B[38;5;71m \u001B[0m\u001B[38;5;71m10-D   \u001B[0m\u001B[38;5;71m \u001B[0m  Navient Student Loan Trust 2014-6   1613766  \u001B[38;5;39m \u001B[0m\u001B[38;5;39m2023-02-07 \u001B[0m\u001B[38;5;39m \u001B[0m  0001140361-23-004903  \n",
       " \u001B[1m \u001B[0m\u001B[1m16\u001B[0m\u001B[1m \u001B[0m \u001B[1;38;5;71m \u001B[0m\u001B[1;38;5;71m10-D   \u001B[0m\u001B[1;38;5;71m \u001B[0m \u001B[1m \u001B[0m\u001B[1mNavient Student Loan Trust 2014-7\u001B[0m\u001B[1m \u001B[0m \u001B[1m \u001B[0m\u001B[1m1613767\u001B[0m\u001B[1m \u001B[0m \u001B[1;38;5;39m \u001B[0m\u001B[1;38;5;39m2023-02-07 \u001B[0m\u001B[1;38;5;39m \u001B[0m \u001B[1m \u001B[0m\u001B[1m0001140361-23-004904\u001B[0m\u001B[1m \u001B[0m \n",
       "  17  \u001B[38;5;71m \u001B[0m\u001B[38;5;71m10-D   \u001B[0m\u001B[38;5;71m \u001B[0m  Navient Student Loan Trust 2014-8   1623518  \u001B[38;5;39m \u001B[0m\u001B[38;5;39m2023-02-07 \u001B[0m\u001B[38;5;39m \u001B[0m  0001140361-23-004905  \n",
       " \u001B[1m \u001B[0m\u001B[1m18\u001B[0m\u001B[1m \u001B[0m \u001B[1;38;5;71m \u001B[0m\u001B[1;38;5;71m10-D   \u001B[0m\u001B[1;38;5;71m \u001B[0m \u001B[1m \u001B[0m\u001B[1mNavient Student Loan Trust 2015-1\u001B[0m\u001B[1m \u001B[0m \u001B[1m \u001B[0m\u001B[1m1633023\u001B[0m\u001B[1m \u001B[0m \u001B[1;38;5;39m \u001B[0m\u001B[1;38;5;39m2023-02-07 \u001B[0m\u001B[1;38;5;39m \u001B[0m \u001B[1m \u001B[0m\u001B[1m0001140361-23-004906\u001B[0m\u001B[1m \u001B[0m \n",
       "  19  \u001B[38;5;71m \u001B[0m\u001B[38;5;71m10-D   \u001B[0m\u001B[38;5;71m \u001B[0m  Navient Student Loan Trust 2015-2   1636459  \u001B[38;5;39m \u001B[0m\u001B[38;5;39m2023-02-07 \u001B[0m\u001B[38;5;39m \u001B[0m  0001140361-23-004907  \n",
       " \u001B[1m \u001B[0m\u001B[1m20\u001B[0m\u001B[1m \u001B[0m \u001B[1;38;5;71m \u001B[0m\u001B[1;38;5;71m10-D   \u001B[0m\u001B[1;38;5;71m \u001B[0m \u001B[1m \u001B[0m\u001B[1mNavient Student Loan Trust 2015-3\u001B[0m\u001B[1m \u001B[0m \u001B[1m \u001B[0m\u001B[1m1641623\u001B[0m\u001B[1m \u001B[0m \u001B[1;38;5;39m \u001B[0m\u001B[1;38;5;39m2023-02-07 \u001B[0m\u001B[1;38;5;39m \u001B[0m \u001B[1m \u001B[0m\u001B[1m0001140361-23-004908\u001B[0m\u001B[1m \u001B[0m \n",
       "  21  \u001B[38;5;71m \u001B[0m\u001B[38;5;71m10-D   \u001B[0m\u001B[38;5;71m \u001B[0m  SLM Student Loan Trust 2010-1       1482912  \u001B[38;5;39m \u001B[0m\u001B[38;5;39m2023-02-07 \u001B[0m\u001B[38;5;39m \u001B[0m  0001140361-23-004909  \n",
       " \u001B[1m \u001B[0m\u001B[1m22\u001B[0m\u001B[1m \u001B[0m \u001B[1;38;5;71m \u001B[0m\u001B[1;38;5;71m10-D   \u001B[0m\u001B[1;38;5;71m \u001B[0m \u001B[1m \u001B[0m\u001B[1mSLM Student Loan Trust 2010-2    \u001B[0m\u001B[1m \u001B[0m \u001B[1m \u001B[0m\u001B[1m1482913\u001B[0m\u001B[1m \u001B[0m \u001B[1;38;5;39m \u001B[0m\u001B[1;38;5;39m2023-02-07 \u001B[0m\u001B[1;38;5;39m \u001B[0m \u001B[1m \u001B[0m\u001B[1m0001140361-23-004910\u001B[0m\u001B[1m \u001B[0m \n",
       "  23  \u001B[38;5;71m \u001B[0m\u001B[38;5;71m10-D   \u001B[0m\u001B[38;5;71m \u001B[0m  SLM Student Loan Trust 2011-1       1510872  \u001B[38;5;39m \u001B[0m\u001B[38;5;39m2023-02-07 \u001B[0m\u001B[38;5;39m \u001B[0m  0001140361-23-004911  \n",
       " \u001B[1m \u001B[0m\u001B[1m24\u001B[0m\u001B[1m \u001B[0m \u001B[1;38;5;71m \u001B[0m\u001B[1;38;5;71m10-D   \u001B[0m\u001B[1;38;5;71m \u001B[0m \u001B[1m \u001B[0m\u001B[1mSLM Student Loan Trust 2011-2    \u001B[0m\u001B[1m \u001B[0m \u001B[1m \u001B[0m\u001B[1m1510873\u001B[0m\u001B[1m \u001B[0m \u001B[1;38;5;39m \u001B[0m\u001B[1;38;5;39m2023-02-07 \u001B[0m\u001B[1;38;5;39m \u001B[0m \u001B[1m \u001B[0m\u001B[1m0001140361-23-004912\u001B[0m\u001B[1m \u001B[0m \n",
       "  25  \u001B[38;5;71m \u001B[0m\u001B[38;5;71m10-D   \u001B[0m\u001B[38;5;71m \u001B[0m  SLM Student Loan Trust 2011-3       1510874  \u001B[38;5;39m \u001B[0m\u001B[38;5;39m2023-02-07 \u001B[0m\u001B[38;5;39m \u001B[0m  0001140361-23-004913  \n",
       " \u001B[1m \u001B[0m\u001B[1m26\u001B[0m\u001B[1m \u001B[0m \u001B[1;38;5;71m \u001B[0m\u001B[1;38;5;71m10-D   \u001B[0m\u001B[1;38;5;71m \u001B[0m \u001B[1m \u001B[0m\u001B[1mSLM Student Loan Trust 2012-1    \u001B[0m\u001B[1m \u001B[0m \u001B[1m \u001B[0m\u001B[1m1536720\u001B[0m\u001B[1m \u001B[0m \u001B[1;38;5;39m \u001B[0m\u001B[1;38;5;39m2023-02-07 \u001B[0m\u001B[1;38;5;39m \u001B[0m \u001B[1m \u001B[0m\u001B[1m0001140361-23-004914\u001B[0m\u001B[1m \u001B[0m \n",
       "  27  \u001B[38;5;71m \u001B[0m\u001B[38;5;71m10-D   \u001B[0m\u001B[38;5;71m \u001B[0m  SLM Student Loan Trust 2012-2       1540960  \u001B[38;5;39m \u001B[0m\u001B[38;5;39m2023-02-07 \u001B[0m\u001B[38;5;39m \u001B[0m  0001140361-23-004915  \n",
       " \u001B[1m \u001B[0m\u001B[1m28\u001B[0m\u001B[1m \u001B[0m \u001B[1;38;5;71m \u001B[0m\u001B[1;38;5;71m10-D   \u001B[0m\u001B[1;38;5;71m \u001B[0m \u001B[1m \u001B[0m\u001B[1mSLM Student Loan Trust 2012-3    \u001B[0m\u001B[1m \u001B[0m \u001B[1m \u001B[0m\u001B[1m1546637\u001B[0m\u001B[1m \u001B[0m \u001B[1;38;5;39m \u001B[0m\u001B[1;38;5;39m2023-02-07 \u001B[0m\u001B[1;38;5;39m \u001B[0m \u001B[1m \u001B[0m\u001B[1m0001140361-23-004916\u001B[0m\u001B[1m \u001B[0m \n",
       "  29  \u001B[38;5;71m \u001B[0m\u001B[38;5;71m10-D   \u001B[0m\u001B[38;5;71m \u001B[0m  SLM Student Loan Trust 2012-5       1551271  \u001B[38;5;39m \u001B[0m\u001B[38;5;39m2023-02-07 \u001B[0m\u001B[38;5;39m \u001B[0m  0001140361-23-004917  \n",
       " \u001B[1m \u001B[0m\u001B[1m30\u001B[0m\u001B[1m \u001B[0m \u001B[1;38;5;71m \u001B[0m\u001B[1;38;5;71m10-D   \u001B[0m\u001B[1;38;5;71m \u001B[0m \u001B[1m \u001B[0m\u001B[1mSLM Student Loan Trust 2012-6    \u001B[0m\u001B[1m \u001B[0m \u001B[1m \u001B[0m\u001B[1m1556107\u001B[0m\u001B[1m \u001B[0m \u001B[1;38;5;39m \u001B[0m\u001B[1;38;5;39m2023-02-07 \u001B[0m\u001B[1;38;5;39m \u001B[0m \u001B[1m \u001B[0m\u001B[1m0001140361-23-004918\u001B[0m\u001B[1m \u001B[0m \n",
       "  31  \u001B[38;5;71m \u001B[0m\u001B[38;5;71m10-D   \u001B[0m\u001B[38;5;71m \u001B[0m  SLM Student Loan Trust 2012-7       1559856  \u001B[38;5;39m \u001B[0m\u001B[38;5;39m2023-02-07 \u001B[0m\u001B[38;5;39m \u001B[0m  0001140361-23-004919  \n",
       " \u001B[1m \u001B[0m\u001B[1m32\u001B[0m\u001B[1m \u001B[0m \u001B[1;38;5;71m \u001B[0m\u001B[1;38;5;71m10-D   \u001B[0m\u001B[1;38;5;71m \u001B[0m \u001B[1m \u001B[0m\u001B[1mSLM Student Loan Trust 2013-1    \u001B[0m\u001B[1m \u001B[0m \u001B[1m \u001B[0m\u001B[1m1565531\u001B[0m\u001B[1m \u001B[0m \u001B[1;38;5;39m \u001B[0m\u001B[1;38;5;39m2023-02-07 \u001B[0m\u001B[1;38;5;39m \u001B[0m \u001B[1m \u001B[0m\u001B[1m0001140361-23-004920\u001B[0m\u001B[1m \u001B[0m \n",
       "  33  \u001B[38;5;71m \u001B[0m\u001B[38;5;71m10-D   \u001B[0m\u001B[38;5;71m \u001B[0m  SLM Student Loan Trust 2013-2       1572987  \u001B[38;5;39m \u001B[0m\u001B[38;5;39m2023-02-07 \u001B[0m\u001B[38;5;39m \u001B[0m  0001140361-23-004921  \n",
       " \u001B[1m \u001B[0m\u001B[1m34\u001B[0m\u001B[1m \u001B[0m \u001B[1;38;5;71m \u001B[0m\u001B[1;38;5;71m10-D   \u001B[0m\u001B[1;38;5;71m \u001B[0m \u001B[1m \u001B[0m\u001B[1mSLM Student Loan Trust 2013-3    \u001B[0m\u001B[1m \u001B[0m \u001B[1m \u001B[0m\u001B[1m1575098\u001B[0m\u001B[1m \u001B[0m \u001B[1;38;5;39m \u001B[0m\u001B[1;38;5;39m2023-02-07 \u001B[0m\u001B[1;38;5;39m \u001B[0m \u001B[1m \u001B[0m\u001B[1m0001140361-23-004922\u001B[0m\u001B[1m \u001B[0m \n",
       "  35  \u001B[38;5;71m \u001B[0m\u001B[38;5;71m10-D   \u001B[0m\u001B[38;5;71m \u001B[0m  SLM Student Loan Trust 2013-4       1582081  \u001B[38;5;39m \u001B[0m\u001B[38;5;39m2023-02-07 \u001B[0m\u001B[38;5;39m \u001B[0m  0001140361-23-004923  \n",
       " \u001B[1m \u001B[0m\u001B[1m36\u001B[0m\u001B[1m \u001B[0m \u001B[1;38;5;71m \u001B[0m\u001B[1;38;5;71m10-D   \u001B[0m\u001B[1;38;5;71m \u001B[0m \u001B[1m \u001B[0m\u001B[1mSLM Student Loan Trust 2013-5    \u001B[0m\u001B[1m \u001B[0m \u001B[1m \u001B[0m\u001B[1m1584747\u001B[0m\u001B[1m \u001B[0m \u001B[1;38;5;39m \u001B[0m\u001B[1;38;5;39m2023-02-07 \u001B[0m\u001B[1;38;5;39m \u001B[0m \u001B[1m \u001B[0m\u001B[1m0001140361-23-004924\u001B[0m\u001B[1m \u001B[0m \n",
       "  37  \u001B[38;5;71m \u001B[0m\u001B[38;5;71m10-D   \u001B[0m\u001B[38;5;71m \u001B[0m  SLM Student Loan Trust 2013-6       1589224  \u001B[38;5;39m \u001B[0m\u001B[38;5;39m2023-02-07 \u001B[0m\u001B[38;5;39m \u001B[0m  0001140361-23-004925  \n",
       " \u001B[1m \u001B[0m\u001B[1m38\u001B[0m\u001B[1m \u001B[0m \u001B[1;38;5;71m \u001B[0m\u001B[1;38;5;71m10-D   \u001B[0m\u001B[1;38;5;71m \u001B[0m \u001B[1m \u001B[0m\u001B[1mSLM Student Loan Trust 2014-1    \u001B[0m\u001B[1m \u001B[0m \u001B[1m \u001B[0m\u001B[1m1594688\u001B[0m\u001B[1m \u001B[0m \u001B[1;38;5;39m \u001B[0m\u001B[1;38;5;39m2023-02-07 \u001B[0m\u001B[1;38;5;39m \u001B[0m \u001B[1m \u001B[0m\u001B[1m0001140361-23-004926\u001B[0m\u001B[1m \u001B[0m \n",
       "  39  \u001B[38;5;71m \u001B[0m\u001B[38;5;71m10-D   \u001B[0m\u001B[38;5;71m \u001B[0m  SLM Student Loan Trust 2014-2       1599033  \u001B[38;5;39m \u001B[0m\u001B[38;5;39m2023-02-07 \u001B[0m\u001B[38;5;39m \u001B[0m  0001140361-23-004927  \n",
       " \u001B[1m \u001B[0m\u001B[1m40\u001B[0m\u001B[1m \u001B[0m \u001B[1;38;5;71m \u001B[0m\u001B[1;38;5;71m10-K   \u001B[0m\u001B[1;38;5;71m \u001B[0m \u001B[1m \u001B[0m\u001B[1mARES CAPITAL CORP                \u001B[0m\u001B[1m \u001B[0m \u001B[1m \u001B[0m\u001B[1m1287750\u001B[0m\u001B[1m \u001B[0m \u001B[1;38;5;39m \u001B[0m\u001B[1;38;5;39m2023-02-07 \u001B[0m\u001B[1;38;5;39m \u001B[0m \u001B[1m \u001B[0m\u001B[1m0001287750-23-000010\u001B[0m\u001B[1m \u001B[0m \n",
       "  41  \u001B[38;5;71m \u001B[0m\u001B[38;5;71m10-K   \u001B[0m\u001B[38;5;71m \u001B[0m  Boardwalk Pipeline Partners, LP     1336047  \u001B[38;5;39m \u001B[0m\u001B[38;5;39m2023-02-07 \u001B[0m\u001B[38;5;39m \u001B[0m  0001336047-23-000006  \n",
       " \u001B[1m \u001B[0m\u001B[1m42\u001B[0m\u001B[1m \u001B[0m \u001B[1;38;5;71m \u001B[0m\u001B[1;38;5;71m10-K   \u001B[0m\u001B[1;38;5;71m \u001B[0m \u001B[1m \u001B[0m\u001B[1mCARRIER GLOBAL Corp              \u001B[0m\u001B[1m \u001B[0m \u001B[1m \u001B[0m\u001B[1m1783180\u001B[0m\u001B[1m \u001B[0m \u001B[1;38;5;39m \u001B[0m\u001B[1;38;5;39m2023-02-07 \u001B[0m\u001B[1;38;5;39m \u001B[0m \u001B[1m \u001B[0m\u001B[1m0001783180-23-000012\u001B[0m\u001B[1m \u001B[0m \n",
       "  43  \u001B[38;5;71m \u001B[0m\u001B[38;5;71m10-K   \u001B[0m\u001B[38;5;71m \u001B[0m  CNA FINANCIAL CORP                  21175    \u001B[38;5;39m \u001B[0m\u001B[38;5;39m2023-02-07 \u001B[0m\u001B[38;5;39m \u001B[0m  0000021175-23-000006  \n",
       " \u001B[1m \u001B[0m\u001B[1m44\u001B[0m\u001B[1m \u001B[0m \u001B[1;38;5;71m \u001B[0m\u001B[1;38;5;71m10-K   \u001B[0m\u001B[1;38;5;71m \u001B[0m \u001B[1m \u001B[0m\u001B[1mChina WuYi Mountain, Ltd.        \u001B[0m\u001B[1m \u001B[0m \u001B[1m \u001B[0m\u001B[1m1687065\u001B[0m\u001B[1m \u001B[0m \u001B[1;38;5;39m \u001B[0m\u001B[1;38;5;39m2023-02-07 \u001B[0m\u001B[1;38;5;39m \u001B[0m \u001B[1m \u001B[0m\u001B[1m0001477932-23-000786\u001B[0m\u001B[1m \u001B[0m \n",
       "  45  \u001B[38;5;71m \u001B[0m\u001B[38;5;71m10-K   \u001B[0m\u001B[38;5;71m \u001B[0m  Deciphera Pharmaceuticals, Inc.     1654151  \u001B[38;5;39m \u001B[0m\u001B[38;5;39m2023-02-07 \u001B[0m\u001B[38;5;39m \u001B[0m  0001654151-23-000003  \n",
       " \u001B[1m \u001B[0m\u001B[1m46\u001B[0m\u001B[1m \u001B[0m \u001B[1;38;5;71m \u001B[0m\u001B[1;38;5;71m10-K   \u001B[0m\u001B[1;38;5;71m \u001B[0m \u001B[1m \u001B[0m\u001B[1mEXELIXIS, INC.                   \u001B[0m\u001B[1m \u001B[0m \u001B[1m \u001B[0m\u001B[1m939767 \u001B[0m\u001B[1m \u001B[0m \u001B[1;38;5;39m \u001B[0m\u001B[1;38;5;39m2023-02-07 \u001B[0m\u001B[1;38;5;39m \u001B[0m \u001B[1m \u001B[0m\u001B[1m0000939767-23-000019\u001B[0m\u001B[1m \u001B[0m \n",
       "  47  \u001B[38;5;71m \u001B[0m\u001B[38;5;71m10-K   \u001B[0m\u001B[38;5;71m \u001B[0m  FASTENAL CO                         815556   \u001B[38;5;39m \u001B[0m\u001B[38;5;39m2023-02-07 \u001B[0m\u001B[38;5;39m \u001B[0m  0000815556-23-000009  \n",
       " \u001B[1m \u001B[0m\u001B[1m48\u001B[0m\u001B[1m \u001B[0m \u001B[1;38;5;71m \u001B[0m\u001B[1;38;5;71m10-K   \u001B[0m\u001B[1;38;5;71m \u001B[0m \u001B[1m \u001B[0m\u001B[1mGENERAL DYNAMICS CORP            \u001B[0m\u001B[1m \u001B[0m \u001B[1m \u001B[0m\u001B[1m40533  \u001B[0m\u001B[1m \u001B[0m \u001B[1;38;5;39m \u001B[0m\u001B[1;38;5;39m2023-02-07 \u001B[0m\u001B[1;38;5;39m \u001B[0m \u001B[1m \u001B[0m\u001B[1m0000040533-23-000014\u001B[0m\u001B[1m \u001B[0m \n",
       "  49  \u001B[38;5;71m \u001B[0m\u001B[38;5;71m10-K   \u001B[0m\u001B[38;5;71m \u001B[0m  GLOBAL LEADERS CORP                 1830696  \u001B[38;5;39m \u001B[0m\u001B[38;5;39m2023-02-07 \u001B[0m\u001B[38;5;39m \u001B[0m  0001493152-23-003772  \n",
       "                                                                                                   \n",
       "Showing 50 filings of 116,608 total from 2023-02-07 to 2023-02-07"
      ]
     },
     "execution_count": 9,
     "metadata": {},
     "output_type": "execute_result"
    }
   ],
   "source": [
    "filings.prev()"
   ]
  },
  {
   "cell_type": "markdown",
   "id": "d1af015e",
   "metadata": {},
   "source": [
    "## Get filings for year"
   ]
  },
  {
   "cell_type": "code",
   "execution_count": 10,
   "id": "29ba5473",
   "metadata": {},
   "outputs": [
    {
     "data": {
      "text/html": [
       "<pre style=\"white-space:pre;overflow-x:auto;line-height:normal;font-family:Menlo,'DejaVu Sans Mono',consolas,'Courier New',monospace\"></pre>\n"
      ],
      "text/plain": []
     },
     "metadata": {},
     "output_type": "display_data"
    },
    {
     "data": {
      "text/plain": [
       "\u001B[1m                                                  Filings                                                  \u001B[0m\n",
       "                                                                                                           \n",
       " \u001B[1m \u001B[0m\u001B[1m  \u001B[0m\u001B[1m \u001B[0m \u001B[1;38;5;71m \u001B[0m\u001B[1;38;5;71mform \u001B[0m\u001B[1;38;5;71m \u001B[0m \u001B[1m \u001B[0m\u001B[1mcompany                                    \u001B[0m\u001B[1m \u001B[0m \u001B[1m \u001B[0m\u001B[1mcik    \u001B[0m\u001B[1m \u001B[0m \u001B[1;38;5;39m \u001B[0m\u001B[1;38;5;39mfiling_date\u001B[0m\u001B[1;38;5;39m \u001B[0m \u001B[1m \u001B[0m\u001B[1maccession_number    \u001B[0m\u001B[1m \u001B[0m \n",
       " ───────────────────────────────────────────────────────────────────────────────────────────────────────── \n",
       " \u001B[1m \u001B[0m\u001B[1m0 \u001B[0m\u001B[1m \u001B[0m \u001B[1;38;5;71m \u001B[0m\u001B[1;38;5;71m1-A  \u001B[0m\u001B[1;38;5;71m \u001B[0m \u001B[1m \u001B[0m\u001B[1mAlgernon Neuroscience Inc.                 \u001B[0m\u001B[1m \u001B[0m \u001B[1m \u001B[0m\u001B[1m1959708\u001B[0m\u001B[1m \u001B[0m \u001B[1;38;5;39m \u001B[0m\u001B[1;38;5;39m2022-12-30 \u001B[0m\u001B[1;38;5;39m \u001B[0m \u001B[1m \u001B[0m\u001B[1m0001062993-22-024554\u001B[0m\u001B[1m \u001B[0m \n",
       "  1   \u001B[38;5;71m \u001B[0m\u001B[38;5;71m1-A  \u001B[0m\u001B[38;5;71m \u001B[0m  NORCOR TECHNOLOGIES Corp                      1396797  \u001B[38;5;39m \u001B[0m\u001B[38;5;39m2022-12-30 \u001B[0m\u001B[38;5;39m \u001B[0m  0001396797-22-000006  \n",
       " \u001B[1m \u001B[0m\u001B[1m2 \u001B[0m\u001B[1m \u001B[0m \u001B[1;38;5;71m \u001B[0m\u001B[1;38;5;71m1-A/A\u001B[0m\u001B[1;38;5;71m \u001B[0m \u001B[1m \u001B[0m\u001B[1mWater On Demand, Inc.                      \u001B[0m\u001B[1m \u001B[0m \u001B[1m \u001B[0m\u001B[1m1953442\u001B[0m\u001B[1m \u001B[0m \u001B[1;38;5;39m \u001B[0m\u001B[1;38;5;39m2022-12-30 \u001B[0m\u001B[1;38;5;39m \u001B[0m \u001B[1m \u001B[0m\u001B[1m0001096906-22-003072\u001B[0m\u001B[1m \u001B[0m \n",
       "  3   \u001B[38;5;71m \u001B[0m\u001B[38;5;71m1-U  \u001B[0m\u001B[38;5;71m \u001B[0m  Energea Portfolio 2 LLC                       1811470  \u001B[38;5;39m \u001B[0m\u001B[38;5;39m2022-12-30 \u001B[0m\u001B[38;5;39m \u001B[0m  0001811470-22-000015  \n",
       " \u001B[1m \u001B[0m\u001B[1m4 \u001B[0m\u001B[1m \u001B[0m \u001B[1;38;5;71m \u001B[0m\u001B[1;38;5;71m1-U  \u001B[0m\u001B[1;38;5;71m \u001B[0m \u001B[1m \u001B[0m\u001B[1mFUNDRISE BALANCED EREIT II, LLC            \u001B[0m\u001B[1m \u001B[0m \u001B[1m \u001B[0m\u001B[1m1803986\u001B[0m\u001B[1m \u001B[0m \u001B[1;38;5;39m \u001B[0m\u001B[1;38;5;39m2022-12-30 \u001B[0m\u001B[1;38;5;39m \u001B[0m \u001B[1m \u001B[0m\u001B[1m0001104659-22-131175\u001B[0m\u001B[1m \u001B[0m \n",
       "  5   \u001B[38;5;71m \u001B[0m\u001B[38;5;71m1-U  \u001B[0m\u001B[38;5;71m \u001B[0m  FUNDRISE GROWTH EREIT VII, LLC                1804011  \u001B[38;5;39m \u001B[0m\u001B[38;5;39m2022-12-30 \u001B[0m\u001B[38;5;39m \u001B[0m  0001104659-22-131177  \n",
       " \u001B[1m \u001B[0m\u001B[1m6 \u001B[0m\u001B[1m \u001B[0m \u001B[1;38;5;71m \u001B[0m\u001B[1;38;5;71m1-U  \u001B[0m\u001B[1;38;5;71m \u001B[0m \u001B[1m \u001B[0m\u001B[1mFundrise Development eREIT, LLC            \u001B[0m\u001B[1m \u001B[0m \u001B[1m \u001B[0m\u001B[1m1768726\u001B[0m\u001B[1m \u001B[0m \u001B[1;38;5;39m \u001B[0m\u001B[1;38;5;39m2022-12-30 \u001B[0m\u001B[1;38;5;39m \u001B[0m \u001B[1m \u001B[0m\u001B[1m0001104659-22-131170\u001B[0m\u001B[1m \u001B[0m \n",
       "  7   \u001B[38;5;71m \u001B[0m\u001B[38;5;71m1-U  \u001B[0m\u001B[38;5;71m \u001B[0m  Fundrise East Coast Opportunistic REIT, LLC   1660918  \u001B[38;5;39m \u001B[0m\u001B[38;5;39m2022-12-30 \u001B[0m\u001B[38;5;39m \u001B[0m  0001104659-22-131160  \n",
       " \u001B[1m \u001B[0m\u001B[1m8 \u001B[0m\u001B[1m \u001B[0m \u001B[1;38;5;71m \u001B[0m\u001B[1;38;5;71m1-U  \u001B[0m\u001B[1;38;5;71m \u001B[0m \u001B[1m \u001B[0m\u001B[1mFundrise Equity REIT, LLC                  \u001B[0m\u001B[1m \u001B[0m \u001B[1m \u001B[0m\u001B[1m1648956\u001B[0m\u001B[1m \u001B[0m \u001B[1;38;5;39m \u001B[0m\u001B[1;38;5;39m2022-12-30 \u001B[0m\u001B[1;38;5;39m \u001B[0m \u001B[1m \u001B[0m\u001B[1m0001104659-22-131155\u001B[0m\u001B[1m \u001B[0m \n",
       "  9   \u001B[38;5;71m \u001B[0m\u001B[38;5;71m1-U  \u001B[0m\u001B[38;5;71m \u001B[0m  Fundrise Equity REIT, LLC                     1648956  \u001B[38;5;39m \u001B[0m\u001B[38;5;39m2022-12-30 \u001B[0m\u001B[38;5;39m \u001B[0m  0001104659-22-131210  \n",
       " \u001B[1m \u001B[0m\u001B[1m10\u001B[0m\u001B[1m \u001B[0m \u001B[1;38;5;71m \u001B[0m\u001B[1;38;5;71m1-U  \u001B[0m\u001B[1;38;5;71m \u001B[0m \u001B[1m \u001B[0m\u001B[1mFundrise Growth eREIT II, LLC              \u001B[0m\u001B[1m \u001B[0m \u001B[1m \u001B[0m\u001B[1m1661000\u001B[0m\u001B[1m \u001B[0m \u001B[1;38;5;39m \u001B[0m\u001B[1;38;5;39m2022-12-30 \u001B[0m\u001B[1;38;5;39m \u001B[0m \u001B[1m \u001B[0m\u001B[1m0001104659-22-131164\u001B[0m\u001B[1m \u001B[0m \n",
       "  11  \u001B[38;5;71m \u001B[0m\u001B[38;5;71m1-U  \u001B[0m\u001B[38;5;71m \u001B[0m  Fundrise Growth eREIT III, LLC                1758744  \u001B[38;5;39m \u001B[0m\u001B[38;5;39m2022-12-30 \u001B[0m\u001B[38;5;39m \u001B[0m  0001104659-22-131167  \n",
       " \u001B[1m \u001B[0m\u001B[1m12\u001B[0m\u001B[1m \u001B[0m \u001B[1;38;5;71m \u001B[0m\u001B[1;38;5;71m1-U  \u001B[0m\u001B[1;38;5;71m \u001B[0m \u001B[1m \u001B[0m\u001B[1mFundrise Midland Opportunistic REIT, LLC   \u001B[0m\u001B[1m \u001B[0m \u001B[1m \u001B[0m\u001B[1m1661023\u001B[0m\u001B[1m \u001B[0m \u001B[1;38;5;39m \u001B[0m\u001B[1;38;5;39m2022-12-30 \u001B[0m\u001B[1;38;5;39m \u001B[0m \u001B[1m \u001B[0m\u001B[1m0001104659-22-131162\u001B[0m\u001B[1m \u001B[0m \n",
       "  13  \u001B[38;5;71m \u001B[0m\u001B[38;5;71m1-U  \u001B[0m\u001B[38;5;71m \u001B[0m  Fundrise Midland Opportunistic REIT, LLC      1661023  \u001B[38;5;39m \u001B[0m\u001B[38;5;39m2022-12-30 \u001B[0m\u001B[38;5;39m \u001B[0m  0001104659-22-131216  \n",
       " \u001B[1m \u001B[0m\u001B[1m14\u001B[0m\u001B[1m \u001B[0m \u001B[1;38;5;71m \u001B[0m\u001B[1;38;5;71m1-U  \u001B[0m\u001B[1;38;5;71m \u001B[0m \u001B[1m \u001B[0m\u001B[1mFundrise West Coast Opportunistic REIT, LLC\u001B[0m\u001B[1m \u001B[0m \u001B[1m \u001B[0m\u001B[1m1660919\u001B[0m\u001B[1m \u001B[0m \u001B[1;38;5;39m \u001B[0m\u001B[1;38;5;39m2022-12-30 \u001B[0m\u001B[1;38;5;39m \u001B[0m \u001B[1m \u001B[0m\u001B[1m0001104659-22-131157\u001B[0m\u001B[1m \u001B[0m \n",
       "  15  \u001B[38;5;71m \u001B[0m\u001B[38;5;71m1-U  \u001B[0m\u001B[38;5;71m \u001B[0m  Masterworks 002, LLC                          1750148  \u001B[38;5;39m \u001B[0m\u001B[38;5;39m2022-12-30 \u001B[0m\u001B[38;5;39m \u001B[0m  0001493152-22-036866  \n",
       " \u001B[1m \u001B[0m\u001B[1m16\u001B[0m\u001B[1m \u001B[0m \u001B[1;38;5;71m \u001B[0m\u001B[1;38;5;71m1-U  \u001B[0m\u001B[1;38;5;71m \u001B[0m \u001B[1m \u001B[0m\u001B[1mMasterworks 010, LLC                       \u001B[0m\u001B[1m \u001B[0m \u001B[1m \u001B[0m\u001B[1m1806902\u001B[0m\u001B[1m \u001B[0m \u001B[1;38;5;39m \u001B[0m\u001B[1;38;5;39m2022-12-30 \u001B[0m\u001B[1;38;5;39m \u001B[0m \u001B[1m \u001B[0m\u001B[1m0001493152-22-036868\u001B[0m\u001B[1m \u001B[0m \n",
       "  17  \u001B[38;5;71m \u001B[0m\u001B[38;5;71m1-U  \u001B[0m\u001B[38;5;71m \u001B[0m  Masterworks 011, LLC                          1809772  \u001B[38;5;39m \u001B[0m\u001B[38;5;39m2022-12-30 \u001B[0m\u001B[38;5;39m \u001B[0m  0001493152-22-036870  \n",
       " \u001B[1m \u001B[0m\u001B[1m18\u001B[0m\u001B[1m \u001B[0m \u001B[1;38;5;71m \u001B[0m\u001B[1;38;5;71m1-U  \u001B[0m\u001B[1;38;5;71m \u001B[0m \u001B[1m \u001B[0m\u001B[1mMasterworks 014, LLC                       \u001B[0m\u001B[1m \u001B[0m \u001B[1m \u001B[0m\u001B[1m1812768\u001B[0m\u001B[1m \u001B[0m \u001B[1;38;5;39m \u001B[0m\u001B[1;38;5;39m2022-12-30 \u001B[0m\u001B[1;38;5;39m \u001B[0m \u001B[1m \u001B[0m\u001B[1m0001493152-22-036872\u001B[0m\u001B[1m \u001B[0m \n",
       "  19  \u001B[38;5;71m \u001B[0m\u001B[38;5;71m1-U  \u001B[0m\u001B[38;5;71m \u001B[0m  Masterworks 016, LLC                          1813339  \u001B[38;5;39m \u001B[0m\u001B[38;5;39m2022-12-30 \u001B[0m\u001B[38;5;39m \u001B[0m  0001493152-22-036874  \n",
       " \u001B[1m \u001B[0m\u001B[1m20\u001B[0m\u001B[1m \u001B[0m \u001B[1;38;5;71m \u001B[0m\u001B[1;38;5;71m1-U  \u001B[0m\u001B[1;38;5;71m \u001B[0m \u001B[1m \u001B[0m\u001B[1mMasterworks 022, LLC                       \u001B[0m\u001B[1m \u001B[0m \u001B[1m \u001B[0m\u001B[1m1819367\u001B[0m\u001B[1m \u001B[0m \u001B[1;38;5;39m \u001B[0m\u001B[1;38;5;39m2022-12-30 \u001B[0m\u001B[1;38;5;39m \u001B[0m \u001B[1m \u001B[0m\u001B[1m0001493152-22-036876\u001B[0m\u001B[1m \u001B[0m \n",
       "  21  \u001B[38;5;71m \u001B[0m\u001B[38;5;71m1-U  \u001B[0m\u001B[38;5;71m \u001B[0m  Masterworks 025, LLC                          1819368  \u001B[38;5;39m \u001B[0m\u001B[38;5;39m2022-12-30 \u001B[0m\u001B[38;5;39m \u001B[0m  0001493152-22-036878  \n",
       " \u001B[1m \u001B[0m\u001B[1m22\u001B[0m\u001B[1m \u001B[0m \u001B[1;38;5;71m \u001B[0m\u001B[1;38;5;71m1-U  \u001B[0m\u001B[1;38;5;71m \u001B[0m \u001B[1m \u001B[0m\u001B[1mMasterworks 032, LLC                       \u001B[0m\u001B[1m \u001B[0m \u001B[1m \u001B[0m\u001B[1m1829029\u001B[0m\u001B[1m \u001B[0m \u001B[1;38;5;39m \u001B[0m\u001B[1;38;5;39m2022-12-30 \u001B[0m\u001B[1;38;5;39m \u001B[0m \u001B[1m \u001B[0m\u001B[1m0001493152-22-036880\u001B[0m\u001B[1m \u001B[0m \n",
       "  23  \u001B[38;5;71m \u001B[0m\u001B[38;5;71m1-U  \u001B[0m\u001B[38;5;71m \u001B[0m  Masterworks 070, LLC                          1874009  \u001B[38;5;39m \u001B[0m\u001B[38;5;39m2022-12-30 \u001B[0m\u001B[38;5;39m \u001B[0m  0001493152-22-036882  \n",
       " \u001B[1m \u001B[0m\u001B[1m24\u001B[0m\u001B[1m \u001B[0m \u001B[1;38;5;71m \u001B[0m\u001B[1;38;5;71m1-U  \u001B[0m\u001B[1;38;5;71m \u001B[0m \u001B[1m \u001B[0m\u001B[1mMasterworks 093, LLC                       \u001B[0m\u001B[1m \u001B[0m \u001B[1m \u001B[0m\u001B[1m1891698\u001B[0m\u001B[1m \u001B[0m \u001B[1;38;5;39m \u001B[0m\u001B[1;38;5;39m2022-12-30 \u001B[0m\u001B[1;38;5;39m \u001B[0m \u001B[1m \u001B[0m\u001B[1m0001493152-22-037021\u001B[0m\u001B[1m \u001B[0m \n",
       "  25  \u001B[38;5;71m \u001B[0m\u001B[38;5;71m1-U  \u001B[0m\u001B[38;5;71m \u001B[0m  Masterworks 121, LLC                          1914625  \u001B[38;5;39m \u001B[0m\u001B[38;5;39m2022-12-30 \u001B[0m\u001B[38;5;39m \u001B[0m  0001493152-22-037025  \n",
       " \u001B[1m \u001B[0m\u001B[1m26\u001B[0m\u001B[1m \u001B[0m \u001B[1;38;5;71m \u001B[0m\u001B[1;38;5;71m1-U  \u001B[0m\u001B[1;38;5;71m \u001B[0m \u001B[1m \u001B[0m\u001B[1mMasterworks 130, LLC                       \u001B[0m\u001B[1m \u001B[0m \u001B[1m \u001B[0m\u001B[1m1918082\u001B[0m\u001B[1m \u001B[0m \u001B[1;38;5;39m \u001B[0m\u001B[1;38;5;39m2022-12-30 \u001B[0m\u001B[1;38;5;39m \u001B[0m \u001B[1m \u001B[0m\u001B[1m0001493152-22-037028\u001B[0m\u001B[1m \u001B[0m \n",
       "  27  \u001B[38;5;71m \u001B[0m\u001B[38;5;71m1-U  \u001B[0m\u001B[38;5;71m \u001B[0m  Masterworks 140, LLC                          1922415  \u001B[38;5;39m \u001B[0m\u001B[38;5;39m2022-12-30 \u001B[0m\u001B[38;5;39m \u001B[0m  0001493152-22-037030  \n",
       " \u001B[1m \u001B[0m\u001B[1m28\u001B[0m\u001B[1m \u001B[0m \u001B[1;38;5;71m \u001B[0m\u001B[1;38;5;71m1-U  \u001B[0m\u001B[1;38;5;71m \u001B[0m \u001B[1m \u001B[0m\u001B[1mMasterworks 146, LLC                       \u001B[0m\u001B[1m \u001B[0m \u001B[1m \u001B[0m\u001B[1m1925329\u001B[0m\u001B[1m \u001B[0m \u001B[1;38;5;39m \u001B[0m\u001B[1;38;5;39m2022-12-30 \u001B[0m\u001B[1;38;5;39m \u001B[0m \u001B[1m \u001B[0m\u001B[1m0001493152-22-037033\u001B[0m\u001B[1m \u001B[0m \n",
       "  29  \u001B[38;5;71m \u001B[0m\u001B[38;5;71m1-U  \u001B[0m\u001B[38;5;71m \u001B[0m  Masterworks 147, LLC                          1925316  \u001B[38;5;39m \u001B[0m\u001B[38;5;39m2022-12-30 \u001B[0m\u001B[38;5;39m \u001B[0m  0001493152-22-037035  \n",
       " \u001B[1m \u001B[0m\u001B[1m30\u001B[0m\u001B[1m \u001B[0m \u001B[1;38;5;71m \u001B[0m\u001B[1;38;5;71m1-U  \u001B[0m\u001B[1;38;5;71m \u001B[0m \u001B[1m \u001B[0m\u001B[1mMasterworks 149, LLC                       \u001B[0m\u001B[1m \u001B[0m \u001B[1m \u001B[0m\u001B[1m1925323\u001B[0m\u001B[1m \u001B[0m \u001B[1;38;5;39m \u001B[0m\u001B[1;38;5;39m2022-12-30 \u001B[0m\u001B[1;38;5;39m \u001B[0m \u001B[1m \u001B[0m\u001B[1m0001493152-22-037040\u001B[0m\u001B[1m \u001B[0m \n",
       "  31  \u001B[38;5;71m \u001B[0m\u001B[38;5;71m1-U  \u001B[0m\u001B[38;5;71m \u001B[0m  Masterworks 156, LLC                          1938933  \u001B[38;5;39m \u001B[0m\u001B[38;5;39m2022-12-30 \u001B[0m\u001B[38;5;39m \u001B[0m  0001493152-22-037044  \n",
       " \u001B[1m \u001B[0m\u001B[1m32\u001B[0m\u001B[1m \u001B[0m \u001B[1;38;5;71m \u001B[0m\u001B[1;38;5;71m1-U  \u001B[0m\u001B[1;38;5;71m \u001B[0m \u001B[1m \u001B[0m\u001B[1mMasterworks 157, LLC                       \u001B[0m\u001B[1m \u001B[0m \u001B[1m \u001B[0m\u001B[1m1939028\u001B[0m\u001B[1m \u001B[0m \u001B[1;38;5;39m \u001B[0m\u001B[1;38;5;39m2022-12-30 \u001B[0m\u001B[1;38;5;39m \u001B[0m \u001B[1m \u001B[0m\u001B[1m0001493152-22-037047\u001B[0m\u001B[1m \u001B[0m \n",
       "  33  \u001B[38;5;71m \u001B[0m\u001B[38;5;71m1-U  \u001B[0m\u001B[38;5;71m \u001B[0m  Masterworks 158, LLC                          1942200  \u001B[38;5;39m \u001B[0m\u001B[38;5;39m2022-12-30 \u001B[0m\u001B[38;5;39m \u001B[0m  0001493152-22-037056  \n",
       " \u001B[1m \u001B[0m\u001B[1m34\u001B[0m\u001B[1m \u001B[0m \u001B[1;38;5;71m \u001B[0m\u001B[1;38;5;71m1-U  \u001B[0m\u001B[1;38;5;71m \u001B[0m \u001B[1m \u001B[0m\u001B[1mMasterworks 161, LLC                       \u001B[0m\u001B[1m \u001B[0m \u001B[1m \u001B[0m\u001B[1m1942205\u001B[0m\u001B[1m \u001B[0m \u001B[1;38;5;39m \u001B[0m\u001B[1;38;5;39m2022-12-30 \u001B[0m\u001B[1;38;5;39m \u001B[0m \u001B[1m \u001B[0m\u001B[1m0001493152-22-037065\u001B[0m\u001B[1m \u001B[0m \n",
       "  35  \u001B[38;5;71m \u001B[0m\u001B[38;5;71m1-U  \u001B[0m\u001B[38;5;71m \u001B[0m  Masterworks 162, LLC                          1942396  \u001B[38;5;39m \u001B[0m\u001B[38;5;39m2022-12-30 \u001B[0m\u001B[38;5;39m \u001B[0m  0001493152-22-037078  \n",
       " \u001B[1m \u001B[0m\u001B[1m36\u001B[0m\u001B[1m \u001B[0m \u001B[1;38;5;71m \u001B[0m\u001B[1;38;5;71m1-U  \u001B[0m\u001B[1;38;5;71m \u001B[0m \u001B[1m \u001B[0m\u001B[1mMasterworks 164, LLC                       \u001B[0m\u001B[1m \u001B[0m \u001B[1m \u001B[0m\u001B[1m1942222\u001B[0m\u001B[1m \u001B[0m \u001B[1;38;5;39m \u001B[0m\u001B[1;38;5;39m2022-12-30 \u001B[0m\u001B[1;38;5;39m \u001B[0m \u001B[1m \u001B[0m\u001B[1m0001493152-22-037083\u001B[0m\u001B[1m \u001B[0m \n",
       "  37  \u001B[38;5;71m \u001B[0m\u001B[38;5;71m1-U  \u001B[0m\u001B[38;5;71m \u001B[0m  Masterworks 167, LLC                          1942179  \u001B[38;5;39m \u001B[0m\u001B[38;5;39m2022-12-30 \u001B[0m\u001B[38;5;39m \u001B[0m  0001493152-22-037093  \n",
       " \u001B[1m \u001B[0m\u001B[1m38\u001B[0m\u001B[1m \u001B[0m \u001B[1;38;5;71m \u001B[0m\u001B[1;38;5;71m1-U  \u001B[0m\u001B[1;38;5;71m \u001B[0m \u001B[1m \u001B[0m\u001B[1mMasterworks 170, LLC                       \u001B[0m\u001B[1m \u001B[0m \u001B[1m \u001B[0m\u001B[1m1944157\u001B[0m\u001B[1m \u001B[0m \u001B[1;38;5;39m \u001B[0m\u001B[1;38;5;39m2022-12-30 \u001B[0m\u001B[1;38;5;39m \u001B[0m \u001B[1m \u001B[0m\u001B[1m0001493152-22-037096\u001B[0m\u001B[1m \u001B[0m \n",
       "  39  \u001B[38;5;71m \u001B[0m\u001B[38;5;71m1-U  \u001B[0m\u001B[38;5;71m \u001B[0m  Masterworks 171, LLC                          1944113  \u001B[38;5;39m \u001B[0m\u001B[38;5;39m2022-12-30 \u001B[0m\u001B[38;5;39m \u001B[0m  0001493152-22-037099  \n",
       " \u001B[1m \u001B[0m\u001B[1m40\u001B[0m\u001B[1m \u001B[0m \u001B[1;38;5;71m \u001B[0m\u001B[1;38;5;71m1-U  \u001B[0m\u001B[1;38;5;71m \u001B[0m \u001B[1m \u001B[0m\u001B[1mMasterworks 173, LLC                       \u001B[0m\u001B[1m \u001B[0m \u001B[1m \u001B[0m\u001B[1m1944244\u001B[0m\u001B[1m \u001B[0m \u001B[1;38;5;39m \u001B[0m\u001B[1;38;5;39m2022-12-30 \u001B[0m\u001B[1;38;5;39m \u001B[0m \u001B[1m \u001B[0m\u001B[1m0001493152-22-037026\u001B[0m\u001B[1m \u001B[0m \n",
       "  41  \u001B[38;5;71m \u001B[0m\u001B[38;5;71m1-U  \u001B[0m\u001B[38;5;71m \u001B[0m  Masterworks 174, LLC                          1944249  \u001B[38;5;39m \u001B[0m\u001B[38;5;39m2022-12-30 \u001B[0m\u001B[38;5;39m \u001B[0m  0001493152-22-037032  \n",
       " \u001B[1m \u001B[0m\u001B[1m42\u001B[0m\u001B[1m \u001B[0m \u001B[1;38;5;71m \u001B[0m\u001B[1;38;5;71m1-U  \u001B[0m\u001B[1;38;5;71m \u001B[0m \u001B[1m \u001B[0m\u001B[1mMasterworks 175, LLC                       \u001B[0m\u001B[1m \u001B[0m \u001B[1m \u001B[0m\u001B[1m1944248\u001B[0m\u001B[1m \u001B[0m \u001B[1;38;5;39m \u001B[0m\u001B[1;38;5;39m2022-12-30 \u001B[0m\u001B[1;38;5;39m \u001B[0m \u001B[1m \u001B[0m\u001B[1m0001493152-22-037039\u001B[0m\u001B[1m \u001B[0m \n",
       "  43  \u001B[38;5;71m \u001B[0m\u001B[38;5;71m1-U  \u001B[0m\u001B[38;5;71m \u001B[0m  Masterworks 176, LLC                          1944250  \u001B[38;5;39m \u001B[0m\u001B[38;5;39m2022-12-30 \u001B[0m\u001B[38;5;39m \u001B[0m  0001493152-22-037046  \n",
       " \u001B[1m \u001B[0m\u001B[1m44\u001B[0m\u001B[1m \u001B[0m \u001B[1;38;5;71m \u001B[0m\u001B[1;38;5;71m1-U  \u001B[0m\u001B[1;38;5;71m \u001B[0m \u001B[1m \u001B[0m\u001B[1mMasterworks 177, LLC                       \u001B[0m\u001B[1m \u001B[0m \u001B[1m \u001B[0m\u001B[1m1944247\u001B[0m\u001B[1m \u001B[0m \u001B[1;38;5;39m \u001B[0m\u001B[1;38;5;39m2022-12-30 \u001B[0m\u001B[1;38;5;39m \u001B[0m \u001B[1m \u001B[0m\u001B[1m0001493152-22-037051\u001B[0m\u001B[1m \u001B[0m \n",
       "  45  \u001B[38;5;71m \u001B[0m\u001B[38;5;71m1-U  \u001B[0m\u001B[38;5;71m \u001B[0m  Masterworks 178, LLC                          1944218  \u001B[38;5;39m \u001B[0m\u001B[38;5;39m2022-12-30 \u001B[0m\u001B[38;5;39m \u001B[0m  0001493152-22-037055  \n",
       " \u001B[1m \u001B[0m\u001B[1m46\u001B[0m\u001B[1m \u001B[0m \u001B[1;38;5;71m \u001B[0m\u001B[1;38;5;71m1-U  \u001B[0m\u001B[1;38;5;71m \u001B[0m \u001B[1m \u001B[0m\u001B[1mMasterworks 179, LLC                       \u001B[0m\u001B[1m \u001B[0m \u001B[1m \u001B[0m\u001B[1m1944229\u001B[0m\u001B[1m \u001B[0m \u001B[1;38;5;39m \u001B[0m\u001B[1;38;5;39m2022-12-30 \u001B[0m\u001B[1;38;5;39m \u001B[0m \u001B[1m \u001B[0m\u001B[1m0001493152-22-037060\u001B[0m\u001B[1m \u001B[0m \n",
       "  47  \u001B[38;5;71m \u001B[0m\u001B[38;5;71m1-U  \u001B[0m\u001B[38;5;71m \u001B[0m  Masterworks 180, LLC                          1944217  \u001B[38;5;39m \u001B[0m\u001B[38;5;39m2022-12-30 \u001B[0m\u001B[38;5;39m \u001B[0m  0001493152-22-037064  \n",
       " \u001B[1m \u001B[0m\u001B[1m48\u001B[0m\u001B[1m \u001B[0m \u001B[1;38;5;71m \u001B[0m\u001B[1;38;5;71m1-U  \u001B[0m\u001B[1;38;5;71m \u001B[0m \u001B[1m \u001B[0m\u001B[1mMasterworks 181, LLC                       \u001B[0m\u001B[1m \u001B[0m \u001B[1m \u001B[0m\u001B[1m1951375\u001B[0m\u001B[1m \u001B[0m \u001B[1;38;5;39m \u001B[0m\u001B[1;38;5;39m2022-12-30 \u001B[0m\u001B[1;38;5;39m \u001B[0m \u001B[1m \u001B[0m\u001B[1m0001493152-22-037069\u001B[0m\u001B[1m \u001B[0m \n",
       "  49  \u001B[38;5;71m \u001B[0m\u001B[38;5;71m1-U  \u001B[0m\u001B[38;5;71m \u001B[0m  Masterworks 182, LLC                          1951373  \u001B[38;5;39m \u001B[0m\u001B[38;5;39m2022-12-30 \u001B[0m\u001B[38;5;39m \u001B[0m  0001493152-22-037075  \n",
       "                                                                                                           \n",
       "Showing 50 filings of 1,112,682 total from 2022-01-03 to 2022-12-30"
      ]
     },
     "execution_count": 10,
     "metadata": {},
     "output_type": "execute_result"
    }
   ],
   "source": [
    "filings = get_filings(year=2022)\n",
    "filings"
   ]
  },
  {
   "cell_type": "markdown",
   "id": "c7971628",
   "metadata": {},
   "source": [
    "## Get filings for specific form"
   ]
  },
  {
   "cell_type": "code",
   "execution_count": 11,
   "id": "be5fbb8a",
   "metadata": {},
   "outputs": [],
   "source": [
    "filings = get_filings(form=\"8-K\")"
   ]
  },
  {
   "cell_type": "markdown",
   "id": "e7319254",
   "metadata": {},
   "source": [
    "# Get Filing\n",
    "<hr/>"
   ]
  },
  {
   "cell_type": "code",
   "execution_count": 12,
   "id": "5e552182",
   "metadata": {},
   "outputs": [
    {
     "data": {
      "text/html": [
       "<pre style=\"white-space:pre;overflow-x:auto;line-height:normal;font-family:Menlo,'DejaVu Sans Mono',consolas,'Courier New',monospace\"></pre>\n"
      ],
      "text/plain": []
     },
     "metadata": {},
     "output_type": "display_data"
    },
    {
     "data": {
      "text/plain": [
       "\u001B[1m8-K filing\u001B[0m\n",
       "                                                                           \n",
       " \u001B[1m \u001B[0m\u001B[1maccession_no        \u001B[0m\u001B[1m \u001B[0m \u001B[1;38;5;71m \u001B[0m\u001B[1;38;5;71mform\u001B[0m\u001B[1;38;5;71m \u001B[0m \u001B[1m \u001B[0m\u001B[1mcompany          \u001B[0m\u001B[1m \u001B[0m \u001B[1m \u001B[0m\u001B[1mcik    \u001B[0m\u001B[1m \u001B[0m \u001B[1;38;5;39m \u001B[0m\u001B[1;38;5;39mfiling_date\u001B[0m\u001B[1;38;5;39m \u001B[0m \n",
       " ───────────────────────────────────────────────────────────────────────── \n",
       " \u001B[1m \u001B[0m\u001B[1m0001287750-23-000009\u001B[0m\u001B[1m \u001B[0m \u001B[1;38;5;71m \u001B[0m\u001B[1;38;5;71m8-K \u001B[0m\u001B[1;38;5;71m \u001B[0m \u001B[1m \u001B[0m\u001B[1mARES CAPITAL CORP\u001B[0m\u001B[1m \u001B[0m \u001B[1m \u001B[0m\u001B[1m1287750\u001B[0m\u001B[1m \u001B[0m \u001B[1;38;5;39m \u001B[0m\u001B[1;38;5;39m2023-02-07 \u001B[0m\u001B[1;38;5;39m \u001B[0m \n",
       "                                                                           "
      ]
     },
     "execution_count": 12,
     "metadata": {},
     "output_type": "execute_result"
    }
   ],
   "source": [
    "filing = filings[10]\n",
    "filing"
   ]
  },
  {
   "cell_type": "markdown",
   "id": "e6622f10",
   "metadata": {},
   "source": [
    "## Get filing homepage"
   ]
  },
  {
   "cell_type": "code",
   "execution_count": 13,
   "id": "da82d706",
   "metadata": {},
   "outputs": [
    {
     "data": {
      "text/html": [
       "<pre style=\"white-space:pre;overflow-x:auto;line-height:normal;font-family:Menlo,'DejaVu Sans Mono',consolas,'Courier New',monospace\"></pre>\n"
      ],
      "text/plain": []
     },
     "metadata": {},
     "output_type": "display_data"
    },
    {
     "data": {
      "text/plain": [
       "\u001B[1m8-K filing\u001B[0m\n",
       "                                                                           \n",
       " \u001B[1m \u001B[0m\u001B[1maccession_no        \u001B[0m\u001B[1m \u001B[0m \u001B[1;38;5;71m \u001B[0m\u001B[1;38;5;71mform\u001B[0m\u001B[1;38;5;71m \u001B[0m \u001B[1m \u001B[0m\u001B[1mcompany          \u001B[0m\u001B[1m \u001B[0m \u001B[1m \u001B[0m\u001B[1mcik    \u001B[0m\u001B[1m \u001B[0m \u001B[1;38;5;39m \u001B[0m\u001B[1;38;5;39mfiling_date\u001B[0m\u001B[1;38;5;39m \u001B[0m \n",
       " ───────────────────────────────────────────────────────────────────────── \n",
       " \u001B[1m \u001B[0m\u001B[1m0001287750-23-000009\u001B[0m\u001B[1m \u001B[0m \u001B[1;38;5;71m \u001B[0m\u001B[1;38;5;71m8-K \u001B[0m\u001B[1;38;5;71m \u001B[0m \u001B[1m \u001B[0m\u001B[1mARES CAPITAL CORP\u001B[0m\u001B[1m \u001B[0m \u001B[1m \u001B[0m\u001B[1m1287750\u001B[0m\u001B[1m \u001B[0m \u001B[1;38;5;39m \u001B[0m\u001B[1;38;5;39m2023-02-07 \u001B[0m\u001B[1;38;5;39m \u001B[0m \n",
       "                                                                           \n",
       "\u001B[1mDocuments\u001B[0m\n",
       "                                                                              \n",
       " \u001B[1m \u001B[0m\u001B[1mSeq\u001B[0m\u001B[1m \u001B[0m \u001B[1m \u001B[0m\u001B[1mDocument                 \u001B[0m\u001B[1m \u001B[0m \u001B[1m \u001B[0m\u001B[1mDescription                  \u001B[0m\u001B[1m \u001B[0m \u001B[1m \u001B[0m\u001B[1mSize    \u001B[0m\u001B[1m \u001B[0m \n",
       " ──────────────────────────────────────────────────────────────────────────── \n",
       " \u001B[1m \u001B[0m\u001B[1m1  \u001B[0m\u001B[1m \u001B[0m \u001B[1m \u001B[0m\u001B[1marcc-20230207.htm   iXBRL\u001B[0m\u001B[1m \u001B[0m \u001B[1m \u001B[0m\u001B[1m8-K                          \u001B[0m\u001B[1m \u001B[0m \u001B[1m \u001B[0m\u001B[1m42.2 KB \u001B[0m\u001B[1m \u001B[0m \n",
       "  2     arccq4-22exhibit991.htm     EX-99.1                         238.2 KB  \n",
       " \u001B[1m \u001B[0m\u001B[1m6  \u001B[0m\u001B[1m \u001B[0m \u001B[1m \u001B[0m\u001B[1maresnewlogoa.jpg         \u001B[0m\u001B[1m \u001B[0m \u001B[1m \u001B[0m\u001B[1mGRAPHIC                      \u001B[0m\u001B[1m \u001B[0m \u001B[1m \u001B[0m\u001B[1m88.9 KB \u001B[0m\u001B[1m \u001B[0m \n",
       "        0001287750-23-000009.txt    Complete submission text file   561.1 KB  \n",
       "                                                                              \n",
       "\u001B[1mDatafiles\u001B[0m\n",
       "                                                                                                  \n",
       " \u001B[1m \u001B[0m\u001B[1mSeq\u001B[0m\u001B[1m \u001B[0m \u001B[1m \u001B[0m\u001B[1mDocument             \u001B[0m\u001B[1m \u001B[0m \u001B[1m \u001B[0m\u001B[1mDescription                                           \u001B[0m\u001B[1m \u001B[0m \u001B[1m \u001B[0m\u001B[1mSize   \u001B[0m\u001B[1m \u001B[0m \n",
       " ──────────────────────────────────────────────────────────────────────────────────────────────── \n",
       " \u001B[1m \u001B[0m\u001B[1m3  \u001B[0m\u001B[1m \u001B[0m \u001B[1m \u001B[0m\u001B[1marcc-20230207.xsd    \u001B[0m\u001B[1m \u001B[0m \u001B[1m \u001B[0m\u001B[1mXBRL TAXONOMY EXTENSION SCHEMA DOCUMENT               \u001B[0m\u001B[1m \u001B[0m \u001B[1m \u001B[0m\u001B[1m1.9 KB \u001B[0m\u001B[1m \u001B[0m \n",
       "  4     arcc-20230207_lab.xml   XBRL TAXONOMY EXTENSION LABEL LINKBASE DOCUMENT          24.3 KB  \n",
       " \u001B[1m \u001B[0m\u001B[1m5  \u001B[0m\u001B[1m \u001B[0m \u001B[1m \u001B[0m\u001B[1marcc-20230207_pre.xml\u001B[0m\u001B[1m \u001B[0m \u001B[1m \u001B[0m\u001B[1mXBRL TAXONOMY EXTENSION PRESENTATION LINKBASE DOCUMENT\u001B[0m\u001B[1m \u001B[0m \u001B[1m \u001B[0m\u001B[1m12.8 KB\u001B[0m\u001B[1m \u001B[0m \n",
       "  8     arcc-20230207_htm.xml   EXTRACTED XBRL INSTANCE DOCUMENT                         11.4 KB  \n",
       "                                                                                                  "
      ]
     },
     "execution_count": 13,
     "metadata": {},
     "output_type": "execute_result"
    }
   ],
   "source": [
    "filing.homepage"
   ]
  },
  {
   "cell_type": "markdown",
   "id": "8faee529",
   "metadata": {},
   "source": [
    "## Get filing Xbrl"
   ]
  },
  {
   "cell_type": "code",
   "execution_count": 14,
   "id": "d51e4043",
   "metadata": {},
   "outputs": [
    {
     "data": {
      "text/html": [
       "<pre style=\"white-space:pre;overflow-x:auto;line-height:normal;font-family:Menlo,'DejaVu Sans Mono',consolas,'Courier New',monospace\"></pre>\n"
      ],
      "text/plain": []
     },
     "metadata": {},
     "output_type": "display_data"
    },
    {
     "data": {
      "text/plain": [
       "Form 8-K Extracted XBRL\n",
       "                                                                  \n",
       " \u001B[1m \u001B[0m\u001B[1m                        \u001B[0m\u001B[1m \u001B[0m \u001B[1m \u001B[0m\u001B[1mcik    \u001B[0m\u001B[1m \u001B[0m \u001B[1;38;5;71m \u001B[0m\u001B[1;38;5;71mform\u001B[0m\u001B[1;38;5;71m \u001B[0m \u001B[1m \u001B[0m\u001B[1mnamespaces\u001B[0m\u001B[1m \u001B[0m \u001B[1m \u001B[0m\u001B[1mfacts\u001B[0m\u001B[1m \u001B[0m \n",
       " ──────────────────────────────────────────────────────────────── \n",
       " \u001B[1m \u001B[0m\u001B[1mARES CAPITAL CORPORATION\u001B[0m\u001B[1m \u001B[0m \u001B[1m \u001B[0m\u001B[1m1287750\u001B[0m\u001B[1m \u001B[0m \u001B[1;38;5;71m \u001B[0m\u001B[1;38;5;71m8-K \u001B[0m\u001B[1;38;5;71m \u001B[0m \u001B[1m \u001B[0m\u001B[1m4         \u001B[0m\u001B[1m \u001B[0m \u001B[1m \u001B[0m\u001B[1m23   \u001B[0m\u001B[1m \u001B[0m \n",
       "                                                                  \n",
       "Facts\n",
       "                                                                                                            \n",
       " \u001B[1m \u001B[0m\u001B[1m   \u001B[0m\u001B[1m \u001B[0m \u001B[1m \u001B[0m\u001B[1mnamespace\u001B[0m\u001B[1m \u001B[0m \u001B[1;38;5;39m \u001B[0m\u001B[1;38;5;39mfact                            \u001B[0m\u001B[1;38;5;39m \u001B[0m \u001B[1m \u001B[0m\u001B[1mvalue                         \u001B[0m\u001B[1m \u001B[0m \u001B[1m \u001B[0m\u001B[1munits\u001B[0m\u001B[1m \u001B[0m \u001B[1m \u001B[0m\u001B[1mend_date  \u001B[0m\u001B[1m \u001B[0m \n",
       " ────────────────────────────────────────────────────────────────────────────────────────────────────────── \n",
       " \u001B[1m \u001B[0m\u001B[1m0  \u001B[0m\u001B[1m \u001B[0m \u001B[1m \u001B[0m\u001B[1mdei      \u001B[0m\u001B[1m \u001B[0m \u001B[1;38;5;39m \u001B[0m\u001B[1;38;5;39mEntityCentralIndexKey           \u001B[0m\u001B[1;38;5;39m \u001B[0m \u001B[1m \u001B[0m\u001B[1m0001287750                    \u001B[0m\u001B[1m \u001B[0m \u001B[1m \u001B[0m\u001B[1mNone \u001B[0m\u001B[1m \u001B[0m \u001B[1m \u001B[0m\u001B[1m2023-02-07\u001B[0m\u001B[1m \u001B[0m \n",
       "  1     dei        \u001B[38;5;39m \u001B[0m\u001B[38;5;39mAmendmentFlag                   \u001B[0m\u001B[38;5;39m \u001B[0m  False                            None    2023-02-07  \n",
       " \u001B[1m \u001B[0m\u001B[1m2  \u001B[0m\u001B[1m \u001B[0m \u001B[1m \u001B[0m\u001B[1mdei      \u001B[0m\u001B[1m \u001B[0m \u001B[1;38;5;39m \u001B[0m\u001B[1;38;5;39mDocumentType                    \u001B[0m\u001B[1;38;5;39m \u001B[0m \u001B[1m \u001B[0m\u001B[1m8-K                           \u001B[0m\u001B[1m \u001B[0m \u001B[1m \u001B[0m\u001B[1mNone \u001B[0m\u001B[1m \u001B[0m \u001B[1m \u001B[0m\u001B[1m2023-02-07\u001B[0m\u001B[1m \u001B[0m \n",
       "  3     dei        \u001B[38;5;39m \u001B[0m\u001B[38;5;39mDocumentPeriodEndDate           \u001B[0m\u001B[38;5;39m \u001B[0m  2023-02-07                       None    2023-02-07  \n",
       " \u001B[1m \u001B[0m\u001B[1m4  \u001B[0m\u001B[1m \u001B[0m \u001B[1m \u001B[0m\u001B[1mdei      \u001B[0m\u001B[1m \u001B[0m \u001B[1;38;5;39m \u001B[0m\u001B[1;38;5;39mEntityRegistrantName            \u001B[0m\u001B[1;38;5;39m \u001B[0m \u001B[1m \u001B[0m\u001B[1mARES CAPITAL CORPORATION      \u001B[0m\u001B[1m \u001B[0m \u001B[1m \u001B[0m\u001B[1mNone \u001B[0m\u001B[1m \u001B[0m \u001B[1m \u001B[0m\u001B[1m2023-02-07\u001B[0m\u001B[1m \u001B[0m \n",
       "  ...   ...        \u001B[38;5;39m \u001B[0m\u001B[38;5;39m...                             \u001B[0m\u001B[38;5;39m \u001B[0m  ...                              ...     ...         \n",
       " \u001B[1m \u001B[0m\u001B[1m18 \u001B[0m\u001B[1m \u001B[0m \u001B[1m \u001B[0m\u001B[1mdei      \u001B[0m\u001B[1m \u001B[0m \u001B[1;38;5;39m \u001B[0m\u001B[1;38;5;39mPreCommencementIssuerTenderOffer\u001B[0m\u001B[1;38;5;39m \u001B[0m \u001B[1m \u001B[0m\u001B[1mFalse                         \u001B[0m\u001B[1m \u001B[0m \u001B[1m \u001B[0m\u001B[1mNone \u001B[0m\u001B[1m \u001B[0m \u001B[1m \u001B[0m\u001B[1m2023-02-07\u001B[0m\u001B[1m \u001B[0m \n",
       "  19    dei        \u001B[38;5;39m \u001B[0m\u001B[38;5;39mSecurity12bTitle                \u001B[0m\u001B[38;5;39m \u001B[0m  Common stock, $0.001 par value   None    2023-02-07  \n",
       " \u001B[1m \u001B[0m\u001B[1m20 \u001B[0m\u001B[1m \u001B[0m \u001B[1m \u001B[0m\u001B[1mdei      \u001B[0m\u001B[1m \u001B[0m \u001B[1;38;5;39m \u001B[0m\u001B[1;38;5;39mTradingSymbol                   \u001B[0m\u001B[1;38;5;39m \u001B[0m \u001B[1m \u001B[0m\u001B[1mARCC                          \u001B[0m\u001B[1m \u001B[0m \u001B[1m \u001B[0m\u001B[1mNone \u001B[0m\u001B[1m \u001B[0m \u001B[1m \u001B[0m\u001B[1m2023-02-07\u001B[0m\u001B[1m \u001B[0m \n",
       "  21    dei        \u001B[38;5;39m \u001B[0m\u001B[38;5;39mSecurityExchangeName            \u001B[0m\u001B[38;5;39m \u001B[0m  NASDAQ                           None    2023-02-07  \n",
       " \u001B[1m \u001B[0m\u001B[1m22 \u001B[0m\u001B[1m \u001B[0m \u001B[1m \u001B[0m\u001B[1mdei      \u001B[0m\u001B[1m \u001B[0m \u001B[1;38;5;39m \u001B[0m\u001B[1;38;5;39mEntityEmergingGrowthCompany     \u001B[0m\u001B[1;38;5;39m \u001B[0m \u001B[1m \u001B[0m\u001B[1mFalse                         \u001B[0m\u001B[1m \u001B[0m \u001B[1m \u001B[0m\u001B[1mNone \u001B[0m\u001B[1m \u001B[0m \u001B[1m \u001B[0m\u001B[1m2023-02-07\u001B[0m\u001B[1m \u001B[0m \n",
       "                                                                                                            \n",
       "Taxonomies\n",
       "                                                    \n",
       " \u001B[1m \u001B[0m\u001B[1m \u001B[0m\u001B[1m \u001B[0m \u001B[1m \u001B[0m\u001B[1mtaxonomy\u001B[0m\u001B[1m \u001B[0m \u001B[1m \u001B[0m\u001B[1mnamespace                        \u001B[0m\u001B[1m \u001B[0m \n",
       " ────────────────────────────────────────────────── \n",
       " \u001B[1m \u001B[0m\u001B[1m0\u001B[0m\u001B[1m \u001B[0m \u001B[1m \u001B[0m\u001B[1mdei     \u001B[0m\u001B[1m \u001B[0m \u001B[1m \u001B[0m\u001B[1mhttp://xbrl.sec.gov/dei/2022     \u001B[0m\u001B[1m \u001B[0m \n",
       "  1   lang       en-US                              \n",
       " \u001B[1m \u001B[0m\u001B[1m2\u001B[0m\u001B[1m \u001B[0m \u001B[1m \u001B[0m\u001B[1mlink    \u001B[0m\u001B[1m \u001B[0m \u001B[1m \u001B[0m\u001B[1mhttp://www.xbrl.org/2003/linkbase\u001B[0m\u001B[1m \u001B[0m \n",
       "  3   xlink      http://www.w3.org/1999/xlink       \n",
       "                                                    "
      ]
     },
     "execution_count": 14,
     "metadata": {},
     "output_type": "execute_result"
    }
   ],
   "source": [
    "filing_xbrl = filing.xbrl()\n",
    "filing_xbrl"
   ]
  },
  {
   "cell_type": "markdown",
   "id": "e35ef2dc",
   "metadata": {},
   "source": [
    "# Company\n",
    "<hr/>"
   ]
  },
  {
   "cell_type": "markdown",
   "id": "9354e375",
   "metadata": {},
   "source": [
    "## Get company by cik"
   ]
  },
  {
   "cell_type": "code",
   "execution_count": 15,
   "id": "34308a3b",
   "metadata": {},
   "outputs": [
    {
     "data": {
      "text/html": [
       "<pre style=\"white-space:pre;overflow-x:auto;line-height:normal;font-family:Menlo,'DejaVu Sans Mono',consolas,'Courier New',monospace\"></pre>\n"
      ],
      "text/plain": []
     },
     "metadata": {},
     "output_type": "display_data"
    },
    {
     "data": {
      "text/plain": [
       "\u001B[1mSUNCOR ENERGY INC [SU]\u001B[0m\n",
       "                                                   \n",
       " \u001B[1m \u001B[0m\u001B[1mcik   \u001B[0m\u001B[1m \u001B[0m \u001B[1m \u001B[0m\u001B[1mcategory         \u001B[0m\u001B[1m \u001B[0m \u001B[1;38;5;39m \u001B[0m\u001B[1;38;5;39mindustry          \u001B[0m\u001B[1;38;5;39m \u001B[0m \n",
       " ───────────────────────────────────────────────── \n",
       " \u001B[1m \u001B[0m\u001B[1m311337\u001B[0m\u001B[1m \u001B[0m \u001B[1m \u001B[0m\u001B[1mLarge Accelerated\u001B[0m\u001B[1m \u001B[0m \u001B[1;38;5;39m \u001B[0m\u001B[1;38;5;39mPetroleum Refining\u001B[0m\u001B[1;38;5;39m \u001B[0m \n",
       "                                                   \n"
      ]
     },
     "execution_count": 15,
     "metadata": {},
     "output_type": "execute_result"
    }
   ],
   "source": [
    "Company(311337)"
   ]
  },
  {
   "cell_type": "markdown",
   "id": "276d97f4",
   "metadata": {},
   "source": [
    "## Get company by ticker"
   ]
  },
  {
   "cell_type": "code",
   "execution_count": 16,
   "id": "33631a44",
   "metadata": {},
   "outputs": [
    {
     "data": {
      "text/html": [
       "<pre style=\"white-space:pre;overflow-x:auto;line-height:normal;font-family:Menlo,'DejaVu Sans Mono',consolas,'Courier New',monospace\"></pre>\n"
      ],
      "text/plain": []
     },
     "metadata": {},
     "output_type": "display_data"
    },
    {
     "data": {
      "text/plain": [
       "\u001B[1mSnowflake Inc. [SNOW]\u001B[0m\n",
       "                                                                     \n",
       " \u001B[1m \u001B[0m\u001B[1mcik    \u001B[0m\u001B[1m \u001B[0m \u001B[1m \u001B[0m\u001B[1mcategory               \u001B[0m\u001B[1m \u001B[0m \u001B[1;38;5;39m \u001B[0m\u001B[1;38;5;39mindustry                     \u001B[0m\u001B[1;38;5;39m \u001B[0m \n",
       " ─────────────────────────────────────────────────────────────────── \n",
       " \u001B[1m \u001B[0m\u001B[1m1640147\u001B[0m\u001B[1m \u001B[0m \u001B[1m \u001B[0m\u001B[1mLarge accelerated filer\u001B[0m\u001B[1m \u001B[0m \u001B[1;38;5;39m \u001B[0m\u001B[1;38;5;39mServices-Prepackaged Software\u001B[0m\u001B[1;38;5;39m \u001B[0m \n",
       "                                                                     \n"
      ]
     },
     "execution_count": 16,
     "metadata": {},
     "output_type": "execute_result"
    }
   ],
   "source": [
    "company = Company(\"SNOW\")\n",
    "company"
   ]
  },
  {
   "cell_type": "code",
   "execution_count": 17,
   "id": "c3d64d97",
   "metadata": {},
   "outputs": [
    {
     "data": {
      "text/html": [
       "<pre style=\"white-space:pre;overflow-x:auto;line-height:normal;font-family:Menlo,'DejaVu Sans Mono',consolas,'Courier New',monospace\"></pre>\n"
      ],
      "text/plain": []
     },
     "metadata": {},
     "output_type": "display_data"
    },
    {
     "data": {
      "text/plain": [
       "\u001B[1m            Filings for Snowflake Inc. [1640147]            \u001B[0m\n",
       "                                                            \n",
       " \u001B[1m \u001B[0m\u001B[1m  \u001B[0m\u001B[1m \u001B[0m \u001B[1;38;5;71m \u001B[0m\u001B[1;38;5;71mform    \u001B[0m\u001B[1;38;5;71m \u001B[0m \u001B[1;38;5;39m \u001B[0m\u001B[1;38;5;39mfiled     \u001B[0m\u001B[1;38;5;39m \u001B[0m \u001B[1m \u001B[0m\u001B[1maccession_number    \u001B[0m\u001B[1m \u001B[0m \u001B[1m \u001B[0m\u001B[1mxbrl\u001B[0m\u001B[1m \u001B[0m \n",
       " ────────────────────────────────────────────────────────── \n",
       " \u001B[1m \u001B[0m\u001B[1m0 \u001B[0m\u001B[1m \u001B[0m \u001B[1;38;5;71m \u001B[0m\u001B[1;38;5;71mSC 13G/A\u001B[0m\u001B[1;38;5;71m \u001B[0m \u001B[1;38;5;39m \u001B[0m\u001B[1;38;5;39m2023-01-09\u001B[0m\u001B[1;38;5;39m \u001B[0m \u001B[1m \u001B[0m\u001B[1m0001541617-23-000001\u001B[0m\u001B[1m \u001B[0m \u001B[1m \u001B[0m\u001B[1m    \u001B[0m\u001B[1m \u001B[0m \n",
       "  1   \u001B[38;5;71m \u001B[0m\u001B[38;5;71m4       \u001B[0m\u001B[38;5;71m \u001B[0m \u001B[38;5;39m \u001B[0m\u001B[38;5;39m2022-12-14\u001B[0m\u001B[38;5;39m \u001B[0m  0001640147-22-000110         \n",
       " \u001B[1m \u001B[0m\u001B[1m2 \u001B[0m\u001B[1m \u001B[0m \u001B[1;38;5;71m \u001B[0m\u001B[1;38;5;71m4       \u001B[0m\u001B[1;38;5;71m \u001B[0m \u001B[1;38;5;39m \u001B[0m\u001B[1;38;5;39m2022-12-14\u001B[0m\u001B[1;38;5;39m \u001B[0m \u001B[1m \u001B[0m\u001B[1m0001062993-22-023890\u001B[0m\u001B[1m \u001B[0m \u001B[1m \u001B[0m\u001B[1m    \u001B[0m\u001B[1m \u001B[0m \n",
       "  3   \u001B[38;5;71m \u001B[0m\u001B[38;5;71m4       \u001B[0m\u001B[38;5;71m \u001B[0m \u001B[38;5;39m \u001B[0m\u001B[38;5;39m2022-12-12\u001B[0m\u001B[38;5;39m \u001B[0m  0001640147-22-000108         \n",
       " \u001B[1m \u001B[0m\u001B[1m4 \u001B[0m\u001B[1m \u001B[0m \u001B[1;38;5;71m \u001B[0m\u001B[1;38;5;71m4       \u001B[0m\u001B[1;38;5;71m \u001B[0m \u001B[1;38;5;39m \u001B[0m\u001B[1;38;5;39m2022-12-12\u001B[0m\u001B[1;38;5;39m \u001B[0m \u001B[1m \u001B[0m\u001B[1m0001640147-22-000107\u001B[0m\u001B[1m \u001B[0m \u001B[1m \u001B[0m\u001B[1m    \u001B[0m\u001B[1m \u001B[0m \n",
       "  5   \u001B[38;5;71m \u001B[0m\u001B[38;5;71m4       \u001B[0m\u001B[38;5;71m \u001B[0m \u001B[38;5;39m \u001B[0m\u001B[38;5;39m2022-12-12\u001B[0m\u001B[38;5;39m \u001B[0m  0001640147-22-000106         \n",
       " \u001B[1m \u001B[0m\u001B[1m6 \u001B[0m\u001B[1m \u001B[0m \u001B[1;38;5;71m \u001B[0m\u001B[1;38;5;71m4       \u001B[0m\u001B[1;38;5;71m \u001B[0m \u001B[1;38;5;39m \u001B[0m\u001B[1;38;5;39m2022-12-12\u001B[0m\u001B[1;38;5;39m \u001B[0m \u001B[1m \u001B[0m\u001B[1m0001640147-22-000105\u001B[0m\u001B[1m \u001B[0m \u001B[1m \u001B[0m\u001B[1m    \u001B[0m\u001B[1m \u001B[0m \n",
       "  7   \u001B[38;5;71m \u001B[0m\u001B[38;5;71mSC 13G/A\u001B[0m\u001B[38;5;71m \u001B[0m \u001B[38;5;39m \u001B[0m\u001B[38;5;39m2022-12-12\u001B[0m\u001B[38;5;39m \u001B[0m  0000895421-22-000660         \n",
       " \u001B[1m \u001B[0m\u001B[1m8 \u001B[0m\u001B[1m \u001B[0m \u001B[1;38;5;71m \u001B[0m\u001B[1;38;5;71m10-Q    \u001B[0m\u001B[1;38;5;71m \u001B[0m \u001B[1;38;5;39m \u001B[0m\u001B[1;38;5;39m2022-12-02\u001B[0m\u001B[1;38;5;39m \u001B[0m \u001B[1m \u001B[0m\u001B[1m0001640147-22-000100\u001B[0m\u001B[1m \u001B[0m \u001B[1m \u001B[0m\u001B[1m✓   \u001B[0m\u001B[1m \u001B[0m \n",
       "  9   \u001B[38;5;71m \u001B[0m\u001B[38;5;71m8-K     \u001B[0m\u001B[38;5;71m \u001B[0m \u001B[38;5;39m \u001B[0m\u001B[38;5;39m2022-11-30\u001B[0m\u001B[38;5;39m \u001B[0m  0001640147-22-000097   ✓     \n",
       " \u001B[1m \u001B[0m\u001B[1m10\u001B[0m\u001B[1m \u001B[0m \u001B[1;38;5;71m \u001B[0m\u001B[1;38;5;71m4       \u001B[0m\u001B[1;38;5;71m \u001B[0m \u001B[1;38;5;39m \u001B[0m\u001B[1;38;5;39m2022-09-13\u001B[0m\u001B[1;38;5;39m \u001B[0m \u001B[1m \u001B[0m\u001B[1m0001062993-22-019520\u001B[0m\u001B[1m \u001B[0m \u001B[1m \u001B[0m\u001B[1m    \u001B[0m\u001B[1m \u001B[0m \n",
       "  11  \u001B[38;5;71m \u001B[0m\u001B[38;5;71m4       \u001B[0m\u001B[38;5;71m \u001B[0m \u001B[38;5;39m \u001B[0m\u001B[38;5;39m2022-09-12\u001B[0m\u001B[38;5;39m \u001B[0m  0001640147-22-000092         \n",
       " \u001B[1m \u001B[0m\u001B[1m12\u001B[0m\u001B[1m \u001B[0m \u001B[1;38;5;71m \u001B[0m\u001B[1;38;5;71m4       \u001B[0m\u001B[1;38;5;71m \u001B[0m \u001B[1;38;5;39m \u001B[0m\u001B[1;38;5;39m2022-09-12\u001B[0m\u001B[1;38;5;39m \u001B[0m \u001B[1m \u001B[0m\u001B[1m0001640147-22-000091\u001B[0m\u001B[1m \u001B[0m \u001B[1m \u001B[0m\u001B[1m    \u001B[0m\u001B[1m \u001B[0m \n",
       "  13  \u001B[38;5;71m \u001B[0m\u001B[38;5;71m4       \u001B[0m\u001B[38;5;71m \u001B[0m \u001B[38;5;39m \u001B[0m\u001B[38;5;39m2022-09-12\u001B[0m\u001B[38;5;39m \u001B[0m  0001640147-22-000090         \n",
       " \u001B[1m \u001B[0m\u001B[1m14\u001B[0m\u001B[1m \u001B[0m \u001B[1;38;5;71m \u001B[0m\u001B[1;38;5;71m4       \u001B[0m\u001B[1;38;5;71m \u001B[0m \u001B[1;38;5;39m \u001B[0m\u001B[1;38;5;39m2022-09-12\u001B[0m\u001B[1;38;5;39m \u001B[0m \u001B[1m \u001B[0m\u001B[1m0001640147-22-000089\u001B[0m\u001B[1m \u001B[0m \u001B[1m \u001B[0m\u001B[1m    \u001B[0m\u001B[1m \u001B[0m \n",
       "  15  \u001B[38;5;71m \u001B[0m\u001B[38;5;71m10-Q    \u001B[0m\u001B[38;5;71m \u001B[0m \u001B[38;5;39m \u001B[0m\u001B[38;5;39m2022-09-01\u001B[0m\u001B[38;5;39m \u001B[0m  0001640147-22-000084   ✓     \n",
       " \u001B[1m \u001B[0m\u001B[1m16\u001B[0m\u001B[1m \u001B[0m \u001B[1;38;5;71m \u001B[0m\u001B[1;38;5;71m4       \u001B[0m\u001B[1;38;5;71m \u001B[0m \u001B[1;38;5;39m \u001B[0m\u001B[1;38;5;39m2022-08-30\u001B[0m\u001B[1;38;5;39m \u001B[0m \u001B[1m \u001B[0m\u001B[1m0001640147-22-000081\u001B[0m\u001B[1m \u001B[0m \u001B[1m \u001B[0m\u001B[1m    \u001B[0m\u001B[1m \u001B[0m \n",
       "  17  \u001B[38;5;71m \u001B[0m\u001B[38;5;71m8-K     \u001B[0m\u001B[38;5;71m \u001B[0m \u001B[38;5;39m \u001B[0m\u001B[38;5;39m2022-08-24\u001B[0m\u001B[38;5;39m \u001B[0m  0001640147-22-000078   ✓     \n",
       " \u001B[1m \u001B[0m\u001B[1m18\u001B[0m\u001B[1m \u001B[0m \u001B[1;38;5;71m \u001B[0m\u001B[1;38;5;71m8-K     \u001B[0m\u001B[1;38;5;71m \u001B[0m \u001B[1;38;5;39m \u001B[0m\u001B[1;38;5;39m2022-07-12\u001B[0m\u001B[1;38;5;39m \u001B[0m \u001B[1m \u001B[0m\u001B[1m0001640147-22-000074\u001B[0m\u001B[1m \u001B[0m \u001B[1m \u001B[0m\u001B[1m✓   \u001B[0m\u001B[1m \u001B[0m \n",
       "  19  \u001B[38;5;71m \u001B[0m\u001B[38;5;71m4       \u001B[0m\u001B[38;5;71m \u001B[0m \u001B[38;5;39m \u001B[0m\u001B[38;5;39m2022-07-11\u001B[0m\u001B[38;5;39m \u001B[0m  0001225208-22-008759         \n",
       " \u001B[1m \u001B[0m\u001B[1m20\u001B[0m\u001B[1m \u001B[0m \u001B[1;38;5;71m \u001B[0m\u001B[1;38;5;71m4       \u001B[0m\u001B[1;38;5;71m \u001B[0m \u001B[1;38;5;39m \u001B[0m\u001B[1;38;5;39m2022-07-11\u001B[0m\u001B[1;38;5;39m \u001B[0m \u001B[1m \u001B[0m\u001B[1m0001640147-22-000072\u001B[0m\u001B[1m \u001B[0m \u001B[1m \u001B[0m\u001B[1m    \u001B[0m\u001B[1m \u001B[0m \n",
       "  21  \u001B[38;5;71m \u001B[0m\u001B[38;5;71m4       \u001B[0m\u001B[38;5;71m \u001B[0m \u001B[38;5;39m \u001B[0m\u001B[38;5;39m2022-07-11\u001B[0m\u001B[38;5;39m \u001B[0m  0001640147-22-000071         \n",
       " \u001B[1m \u001B[0m\u001B[1m22\u001B[0m\u001B[1m \u001B[0m \u001B[1;38;5;71m \u001B[0m\u001B[1;38;5;71m4       \u001B[0m\u001B[1;38;5;71m \u001B[0m \u001B[1;38;5;39m \u001B[0m\u001B[1;38;5;39m2022-07-11\u001B[0m\u001B[1;38;5;39m \u001B[0m \u001B[1m \u001B[0m\u001B[1m0001640147-22-000070\u001B[0m\u001B[1m \u001B[0m \u001B[1m \u001B[0m\u001B[1m    \u001B[0m\u001B[1m \u001B[0m \n",
       "  23  \u001B[38;5;71m \u001B[0m\u001B[38;5;71m4       \u001B[0m\u001B[38;5;71m \u001B[0m \u001B[38;5;39m \u001B[0m\u001B[38;5;39m2022-07-11\u001B[0m\u001B[38;5;39m \u001B[0m  0001640147-22-000069         \n",
       " \u001B[1m \u001B[0m\u001B[1m24\u001B[0m\u001B[1m \u001B[0m \u001B[1;38;5;71m \u001B[0m\u001B[1;38;5;71m4       \u001B[0m\u001B[1;38;5;71m \u001B[0m \u001B[1;38;5;39m \u001B[0m\u001B[1;38;5;39m2022-07-11\u001B[0m\u001B[1;38;5;39m \u001B[0m \u001B[1m \u001B[0m\u001B[1m0001640147-22-000068\u001B[0m\u001B[1m \u001B[0m \u001B[1m \u001B[0m\u001B[1m    \u001B[0m\u001B[1m \u001B[0m \n",
       "  25  \u001B[38;5;71m \u001B[0m\u001B[38;5;71m4       \u001B[0m\u001B[38;5;71m \u001B[0m \u001B[38;5;39m \u001B[0m\u001B[38;5;39m2022-07-11\u001B[0m\u001B[38;5;39m \u001B[0m  0001640147-22-000067         \n",
       " \u001B[1m \u001B[0m\u001B[1m26\u001B[0m\u001B[1m \u001B[0m \u001B[1;38;5;71m \u001B[0m\u001B[1;38;5;71m4       \u001B[0m\u001B[1;38;5;71m \u001B[0m \u001B[1;38;5;39m \u001B[0m\u001B[1;38;5;39m2022-07-11\u001B[0m\u001B[1;38;5;39m \u001B[0m \u001B[1m \u001B[0m\u001B[1m0001640147-22-000066\u001B[0m\u001B[1m \u001B[0m \u001B[1m \u001B[0m\u001B[1m    \u001B[0m\u001B[1m \u001B[0m \n",
       "  27  \u001B[38;5;71m \u001B[0m\u001B[38;5;71m4       \u001B[0m\u001B[38;5;71m \u001B[0m \u001B[38;5;39m \u001B[0m\u001B[38;5;39m2022-07-05\u001B[0m\u001B[38;5;39m \u001B[0m  0001640147-22-000056         \n",
       " \u001B[1m \u001B[0m\u001B[1m28\u001B[0m\u001B[1m \u001B[0m \u001B[1;38;5;71m \u001B[0m\u001B[1;38;5;71m4       \u001B[0m\u001B[1;38;5;71m \u001B[0m \u001B[1;38;5;39m \u001B[0m\u001B[1;38;5;39m2022-06-10\u001B[0m\u001B[1;38;5;39m \u001B[0m \u001B[1m \u001B[0m\u001B[1m0001640147-22-000052\u001B[0m\u001B[1m \u001B[0m \u001B[1m \u001B[0m\u001B[1m    \u001B[0m\u001B[1m \u001B[0m \n",
       "  29  \u001B[38;5;71m \u001B[0m\u001B[38;5;71m4       \u001B[0m\u001B[38;5;71m \u001B[0m \u001B[38;5;39m \u001B[0m\u001B[38;5;39m2022-06-10\u001B[0m\u001B[38;5;39m \u001B[0m  0001640147-22-000051         \n",
       " \u001B[1m \u001B[0m\u001B[1m30\u001B[0m\u001B[1m \u001B[0m \u001B[1;38;5;71m \u001B[0m\u001B[1;38;5;71m4       \u001B[0m\u001B[1;38;5;71m \u001B[0m \u001B[1;38;5;39m \u001B[0m\u001B[1;38;5;39m2022-06-10\u001B[0m\u001B[1;38;5;39m \u001B[0m \u001B[1m \u001B[0m\u001B[1m0001640147-22-000050\u001B[0m\u001B[1m \u001B[0m \u001B[1m \u001B[0m\u001B[1m    \u001B[0m\u001B[1m \u001B[0m \n",
       "  31  \u001B[38;5;71m \u001B[0m\u001B[38;5;71m4       \u001B[0m\u001B[38;5;71m \u001B[0m \u001B[38;5;39m \u001B[0m\u001B[38;5;39m2022-06-10\u001B[0m\u001B[38;5;39m \u001B[0m  0001640147-22-000049         \n",
       " \u001B[1m \u001B[0m\u001B[1m32\u001B[0m\u001B[1m \u001B[0m \u001B[1;38;5;71m \u001B[0m\u001B[1;38;5;71m10-Q    \u001B[0m\u001B[1;38;5;71m \u001B[0m \u001B[1;38;5;39m \u001B[0m\u001B[1;38;5;39m2022-06-03\u001B[0m\u001B[1;38;5;39m \u001B[0m \u001B[1m \u001B[0m\u001B[1m0001640147-22-000044\u001B[0m\u001B[1m \u001B[0m \u001B[1m \u001B[0m\u001B[1m✓   \u001B[0m\u001B[1m \u001B[0m \n",
       "  33  \u001B[38;5;71m \u001B[0m\u001B[38;5;71mDEFA14A \u001B[0m\u001B[38;5;71m \u001B[0m \u001B[38;5;39m \u001B[0m\u001B[38;5;39m2022-05-27\u001B[0m\u001B[38;5;39m \u001B[0m  0001640147-22-000039         \n",
       " \u001B[1m \u001B[0m\u001B[1m34\u001B[0m\u001B[1m \u001B[0m \u001B[1;38;5;71m \u001B[0m\u001B[1;38;5;71mDEF 14A \u001B[0m\u001B[1;38;5;71m \u001B[0m \u001B[1;38;5;39m \u001B[0m\u001B[1;38;5;39m2022-05-27\u001B[0m\u001B[1;38;5;39m \u001B[0m \u001B[1m \u001B[0m\u001B[1m0001640147-22-000038\u001B[0m\u001B[1m \u001B[0m \u001B[1m \u001B[0m\u001B[1m    \u001B[0m\u001B[1m \u001B[0m \n",
       "  35  \u001B[38;5;71m \u001B[0m\u001B[38;5;71m8-K     \u001B[0m\u001B[38;5;71m \u001B[0m \u001B[38;5;39m \u001B[0m\u001B[38;5;39m2022-05-25\u001B[0m\u001B[38;5;39m \u001B[0m  0001640147-22-000031   ✓     \n",
       " \u001B[1m \u001B[0m\u001B[1m36\u001B[0m\u001B[1m \u001B[0m \u001B[1;38;5;71m \u001B[0m\u001B[1;38;5;71m4       \u001B[0m\u001B[1;38;5;71m \u001B[0m \u001B[1;38;5;39m \u001B[0m\u001B[1;38;5;39m2022-05-10\u001B[0m\u001B[1;38;5;39m \u001B[0m \u001B[1m \u001B[0m\u001B[1m0001062993-22-012036\u001B[0m\u001B[1m \u001B[0m \u001B[1m \u001B[0m\u001B[1m    \u001B[0m\u001B[1m \u001B[0m \n",
       "  37  \u001B[38;5;71m \u001B[0m\u001B[38;5;71mD       \u001B[0m\u001B[38;5;71m \u001B[0m \u001B[38;5;39m \u001B[0m\u001B[38;5;39m2022-04-20\u001B[0m\u001B[38;5;39m \u001B[0m  0001640147-22-000027         \n",
       " \u001B[1m \u001B[0m\u001B[1m38\u001B[0m\u001B[1m \u001B[0m \u001B[1;38;5;71m \u001B[0m\u001B[1;38;5;71mS-8     \u001B[0m\u001B[1;38;5;71m \u001B[0m \u001B[1;38;5;39m \u001B[0m\u001B[1;38;5;39m2022-03-30\u001B[0m\u001B[1;38;5;39m \u001B[0m \u001B[1m \u001B[0m\u001B[1m0001640147-22-000026\u001B[0m\u001B[1m \u001B[0m \u001B[1m \u001B[0m\u001B[1m    \u001B[0m\u001B[1m \u001B[0m \n",
       "  39  \u001B[38;5;71m \u001B[0m\u001B[38;5;71m10-K    \u001B[0m\u001B[38;5;71m \u001B[0m \u001B[38;5;39m \u001B[0m\u001B[38;5;39m2022-03-30\u001B[0m\u001B[38;5;39m \u001B[0m  0001640147-22-000023   ✓     \n",
       " \u001B[1m \u001B[0m\u001B[1m40\u001B[0m\u001B[1m \u001B[0m \u001B[1;38;5;71m \u001B[0m\u001B[1;38;5;71m4       \u001B[0m\u001B[1;38;5;71m \u001B[0m \u001B[1;38;5;39m \u001B[0m\u001B[1;38;5;39m2022-03-21\u001B[0m\u001B[1;38;5;39m \u001B[0m \u001B[1m \u001B[0m\u001B[1m0001225208-22-004947\u001B[0m\u001B[1m \u001B[0m \u001B[1m \u001B[0m\u001B[1m    \u001B[0m\u001B[1m \u001B[0m \n",
       "  41  \u001B[38;5;71m \u001B[0m\u001B[38;5;71m5       \u001B[0m\u001B[38;5;71m \u001B[0m \u001B[38;5;39m \u001B[0m\u001B[38;5;39m2022-03-11\u001B[0m\u001B[38;5;39m \u001B[0m  0001640147-22-000015         \n",
       " \u001B[1m \u001B[0m\u001B[1m42\u001B[0m\u001B[1m \u001B[0m \u001B[1;38;5;71m \u001B[0m\u001B[1;38;5;71m4       \u001B[0m\u001B[1;38;5;71m \u001B[0m \u001B[1;38;5;39m \u001B[0m\u001B[1;38;5;39m2022-03-11\u001B[0m\u001B[1;38;5;39m \u001B[0m \u001B[1m \u001B[0m\u001B[1m0001640147-22-000014\u001B[0m\u001B[1m \u001B[0m \u001B[1m \u001B[0m\u001B[1m    \u001B[0m\u001B[1m \u001B[0m \n",
       "  43  \u001B[38;5;71m \u001B[0m\u001B[38;5;71m4       \u001B[0m\u001B[38;5;71m \u001B[0m \u001B[38;5;39m \u001B[0m\u001B[38;5;39m2022-03-11\u001B[0m\u001B[38;5;39m \u001B[0m  0001640147-22-000013         \n",
       " \u001B[1m \u001B[0m\u001B[1m44\u001B[0m\u001B[1m \u001B[0m \u001B[1;38;5;71m \u001B[0m\u001B[1;38;5;71m4       \u001B[0m\u001B[1;38;5;71m \u001B[0m \u001B[1;38;5;39m \u001B[0m\u001B[1;38;5;39m2022-03-11\u001B[0m\u001B[1;38;5;39m \u001B[0m \u001B[1m \u001B[0m\u001B[1m0001640147-22-000012\u001B[0m\u001B[1m \u001B[0m \u001B[1m \u001B[0m\u001B[1m    \u001B[0m\u001B[1m \u001B[0m \n",
       "  45  \u001B[38;5;71m \u001B[0m\u001B[38;5;71m4       \u001B[0m\u001B[38;5;71m \u001B[0m \u001B[38;5;39m \u001B[0m\u001B[38;5;39m2022-03-11\u001B[0m\u001B[38;5;39m \u001B[0m  0001640147-22-000011         \n",
       " \u001B[1m \u001B[0m\u001B[1m46\u001B[0m\u001B[1m \u001B[0m \u001B[1;38;5;71m \u001B[0m\u001B[1;38;5;71m4       \u001B[0m\u001B[1;38;5;71m \u001B[0m \u001B[1;38;5;39m \u001B[0m\u001B[1;38;5;39m2022-03-11\u001B[0m\u001B[1;38;5;39m \u001B[0m \u001B[1m \u001B[0m\u001B[1m0001062993-22-007514\u001B[0m\u001B[1m \u001B[0m \u001B[1m \u001B[0m\u001B[1m    \u001B[0m\u001B[1m \u001B[0m \n",
       "  47  \u001B[38;5;71m \u001B[0m\u001B[38;5;71m8-K     \u001B[0m\u001B[38;5;71m \u001B[0m \u001B[38;5;39m \u001B[0m\u001B[38;5;39m2022-03-02\u001B[0m\u001B[38;5;39m \u001B[0m  0001640147-22-000005   ✓     \n",
       " \u001B[1m \u001B[0m\u001B[1m48\u001B[0m\u001B[1m \u001B[0m \u001B[1;38;5;71m \u001B[0m\u001B[1;38;5;71m5       \u001B[0m\u001B[1;38;5;71m \u001B[0m \u001B[1;38;5;39m \u001B[0m\u001B[1;38;5;39m2022-02-25\u001B[0m\u001B[1;38;5;39m \u001B[0m \u001B[1m \u001B[0m\u001B[1m0001225208-22-003479\u001B[0m\u001B[1m \u001B[0m \u001B[1m \u001B[0m\u001B[1m    \u001B[0m\u001B[1m \u001B[0m \n",
       "  49  \u001B[38;5;71m \u001B[0m\u001B[38;5;71mSC 13G/A\u001B[0m\u001B[38;5;71m \u001B[0m \u001B[38;5;39m \u001B[0m\u001B[38;5;39m2022-02-15\u001B[0m\u001B[38;5;39m \u001B[0m  0001829398-22-000003         \n",
       "                                                            \n",
       "Showing 50 filings of 323 total"
      ]
     },
     "execution_count": 17,
     "metadata": {},
     "output_type": "execute_result"
    }
   ],
   "source": [
    "company.get_filings()"
   ]
  },
  {
   "cell_type": "markdown",
   "id": "0c2049a2",
   "metadata": {},
   "source": [
    "# Effect filings\n",
    "<hr/>"
   ]
  },
  {
   "cell_type": "code",
   "execution_count": 18,
   "id": "aaa196cd",
   "metadata": {},
   "outputs": [
    {
     "data": {
      "text/html": [
       "<pre style=\"white-space:pre;overflow-x:auto;line-height:normal;font-family:Menlo,'DejaVu Sans Mono',consolas,'Courier New',monospace\"></pre>\n"
      ],
      "text/plain": []
     },
     "metadata": {},
     "output_type": "display_data"
    },
    {
     "data": {
      "text/plain": [
       "\u001B[1m                                                Filings                                                 \u001B[0m\n",
       "                                                                                                        \n",
       " \u001B[1m \u001B[0m\u001B[1m  \u001B[0m\u001B[1m \u001B[0m \u001B[1;38;5;71m \u001B[0m\u001B[1;38;5;71mform  \u001B[0m\u001B[1;38;5;71m \u001B[0m \u001B[1m \u001B[0m\u001B[1mcompany                                \u001B[0m\u001B[1m \u001B[0m \u001B[1m \u001B[0m\u001B[1mcik    \u001B[0m\u001B[1m \u001B[0m \u001B[1;38;5;39m \u001B[0m\u001B[1;38;5;39mfiling_date\u001B[0m\u001B[1;38;5;39m \u001B[0m \u001B[1m \u001B[0m\u001B[1maccession_number    \u001B[0m\u001B[1m \u001B[0m \n",
       " ────────────────────────────────────────────────────────────────────────────────────────────────────── \n",
       " \u001B[1m \u001B[0m\u001B[1m0 \u001B[0m\u001B[1m \u001B[0m \u001B[1;38;5;71m \u001B[0m\u001B[1;38;5;71mEFFECT\u001B[0m\u001B[1;38;5;71m \u001B[0m \u001B[1m \u001B[0m\u001B[1m5E Advanced Materials, Inc.            \u001B[0m\u001B[1m \u001B[0m \u001B[1m \u001B[0m\u001B[1m1888654\u001B[0m\u001B[1m \u001B[0m \u001B[1;38;5;39m \u001B[0m\u001B[1;38;5;39m2023-02-06 \u001B[0m\u001B[1;38;5;39m \u001B[0m \u001B[1m \u001B[0m\u001B[1m9999999995-23-000284\u001B[0m\u001B[1m \u001B[0m \n",
       "  1   \u001B[38;5;71m \u001B[0m\u001B[38;5;71mEFFECT\u001B[0m\u001B[38;5;71m \u001B[0m  Arena Group Holdings, Inc.                894871   \u001B[38;5;39m \u001B[0m\u001B[38;5;39m2023-02-06 \u001B[0m\u001B[38;5;39m \u001B[0m  9999999995-23-000288  \n",
       " \u001B[1m \u001B[0m\u001B[1m2 \u001B[0m\u001B[1m \u001B[0m \u001B[1;38;5;71m \u001B[0m\u001B[1;38;5;71mEFFECT\u001B[0m\u001B[1;38;5;71m \u001B[0m \u001B[1m \u001B[0m\u001B[1mBYLINE BANCORP, INC.                   \u001B[0m\u001B[1m \u001B[0m \u001B[1m \u001B[0m\u001B[1m1702750\u001B[0m\u001B[1m \u001B[0m \u001B[1;38;5;39m \u001B[0m\u001B[1;38;5;39m2023-02-06 \u001B[0m\u001B[1;38;5;39m \u001B[0m \u001B[1m \u001B[0m\u001B[1m9999999995-23-000285\u001B[0m\u001B[1m \u001B[0m \n",
       "  3   \u001B[38;5;71m \u001B[0m\u001B[38;5;71mEFFECT\u001B[0m\u001B[38;5;71m \u001B[0m  ENTREPRENEUR UNIVERSE BRIGHT GROUP        1171326  \u001B[38;5;39m \u001B[0m\u001B[38;5;39m2023-02-06 \u001B[0m\u001B[38;5;39m \u001B[0m  9999999995-23-000286  \n",
       " \u001B[1m \u001B[0m\u001B[1m4 \u001B[0m\u001B[1m \u001B[0m \u001B[1;38;5;71m \u001B[0m\u001B[1;38;5;71mEFFECT\u001B[0m\u001B[1;38;5;71m \u001B[0m \u001B[1m \u001B[0m\u001B[1mInnovative Payment Solutions, Inc.     \u001B[0m\u001B[1m \u001B[0m \u001B[1m \u001B[0m\u001B[1m1591913\u001B[0m\u001B[1m \u001B[0m \u001B[1;38;5;39m \u001B[0m\u001B[1;38;5;39m2023-02-06 \u001B[0m\u001B[1;38;5;39m \u001B[0m \u001B[1m \u001B[0m\u001B[1m9999999995-23-000287\u001B[0m\u001B[1m \u001B[0m \n",
       "  5   \u001B[38;5;71m \u001B[0m\u001B[38;5;71mEFFECT\u001B[0m\u001B[38;5;71m \u001B[0m  RVL Pharmaceuticals plc                   1739426  \u001B[38;5;39m \u001B[0m\u001B[38;5;39m2023-02-06 \u001B[0m\u001B[38;5;39m \u001B[0m  9999999995-23-000290  \n",
       " \u001B[1m \u001B[0m\u001B[1m6 \u001B[0m\u001B[1m \u001B[0m \u001B[1;38;5;71m \u001B[0m\u001B[1;38;5;71mEFFECT\u001B[0m\u001B[1;38;5;71m \u001B[0m \u001B[1m \u001B[0m\u001B[1mSolid Biosciences Inc.                 \u001B[0m\u001B[1m \u001B[0m \u001B[1m \u001B[0m\u001B[1m1707502\u001B[0m\u001B[1m \u001B[0m \u001B[1;38;5;39m \u001B[0m\u001B[1;38;5;39m2023-02-06 \u001B[0m\u001B[1;38;5;39m \u001B[0m \u001B[1m \u001B[0m\u001B[1m9999999995-23-000289\u001B[0m\u001B[1m \u001B[0m \n",
       "  7   \u001B[38;5;71m \u001B[0m\u001B[38;5;71mEFFECT\u001B[0m\u001B[38;5;71m \u001B[0m  Xos, Inc.                                 1819493  \u001B[38;5;39m \u001B[0m\u001B[38;5;39m2023-02-06 \u001B[0m\u001B[38;5;39m \u001B[0m  9999999995-23-000282  \n",
       " \u001B[1m \u001B[0m\u001B[1m8 \u001B[0m\u001B[1m \u001B[0m \u001B[1;38;5;71m \u001B[0m\u001B[1;38;5;71mEFFECT\u001B[0m\u001B[1;38;5;71m \u001B[0m \u001B[1m \u001B[0m\u001B[1mXos, Inc.                              \u001B[0m\u001B[1m \u001B[0m \u001B[1m \u001B[0m\u001B[1m1819493\u001B[0m\u001B[1m \u001B[0m \u001B[1;38;5;39m \u001B[0m\u001B[1;38;5;39m2023-02-06 \u001B[0m\u001B[1;38;5;39m \u001B[0m \u001B[1m \u001B[0m\u001B[1m9999999995-23-000283\u001B[0m\u001B[1m \u001B[0m \n",
       "  9   \u001B[38;5;71m \u001B[0m\u001B[38;5;71mEFFECT\u001B[0m\u001B[38;5;71m \u001B[0m  Ambipar Emergency Response                1937441  \u001B[38;5;39m \u001B[0m\u001B[38;5;39m2023-02-03 \u001B[0m\u001B[38;5;39m \u001B[0m  9999999995-23-000274  \n",
       " \u001B[1m \u001B[0m\u001B[1m10\u001B[0m\u001B[1m \u001B[0m \u001B[1;38;5;71m \u001B[0m\u001B[1;38;5;71mEFFECT\u001B[0m\u001B[1;38;5;71m \u001B[0m \u001B[1m \u001B[0m\u001B[1mChilean Cobalt Corp.                   \u001B[0m\u001B[1m \u001B[0m \u001B[1m \u001B[0m\u001B[1m1727255\u001B[0m\u001B[1m \u001B[0m \u001B[1;38;5;39m \u001B[0m\u001B[1;38;5;39m2023-02-03 \u001B[0m\u001B[1;38;5;39m \u001B[0m \u001B[1m \u001B[0m\u001B[1m9999999995-23-000273\u001B[0m\u001B[1m \u001B[0m \n",
       "  11  \u001B[38;5;71m \u001B[0m\u001B[38;5;71mEFFECT\u001B[0m\u001B[38;5;71m \u001B[0m  Creatd, Inc.                              1357671  \u001B[38;5;39m \u001B[0m\u001B[38;5;39m2023-02-03 \u001B[0m\u001B[38;5;39m \u001B[0m  9999999995-23-000276  \n",
       " \u001B[1m \u001B[0m\u001B[1m12\u001B[0m\u001B[1m \u001B[0m \u001B[1;38;5;71m \u001B[0m\u001B[1;38;5;71mEFFECT\u001B[0m\u001B[1;38;5;71m \u001B[0m \u001B[1m \u001B[0m\u001B[1mCryptyde, Inc.                         \u001B[0m\u001B[1m \u001B[0m \u001B[1m \u001B[0m\u001B[1m1892492\u001B[0m\u001B[1m \u001B[0m \u001B[1;38;5;39m \u001B[0m\u001B[1;38;5;39m2023-02-03 \u001B[0m\u001B[1;38;5;39m \u001B[0m \u001B[1m \u001B[0m\u001B[1m9999999995-23-000269\u001B[0m\u001B[1m \u001B[0m \n",
       "  13  \u001B[38;5;71m \u001B[0m\u001B[38;5;71mEFFECT\u001B[0m\u001B[38;5;71m \u001B[0m  Ginkgo Bioworks Holdings, Inc.            1830214  \u001B[38;5;39m \u001B[0m\u001B[38;5;39m2023-02-03 \u001B[0m\u001B[38;5;39m \u001B[0m  9999999995-23-000281  \n",
       " \u001B[1m \u001B[0m\u001B[1m14\u001B[0m\u001B[1m \u001B[0m \u001B[1;38;5;71m \u001B[0m\u001B[1;38;5;71mEFFECT\u001B[0m\u001B[1;38;5;71m \u001B[0m \u001B[1m \u001B[0m\u001B[1mLavoro Ltd                             \u001B[0m\u001B[1m \u001B[0m \u001B[1m \u001B[0m\u001B[1m1945711\u001B[0m\u001B[1m \u001B[0m \u001B[1;38;5;39m \u001B[0m\u001B[1;38;5;39m2023-02-03 \u001B[0m\u001B[1;38;5;39m \u001B[0m \u001B[1m \u001B[0m\u001B[1m9999999995-23-000270\u001B[0m\u001B[1m \u001B[0m \n",
       "  15  \u001B[38;5;71m \u001B[0m\u001B[38;5;71mEFFECT\u001B[0m\u001B[38;5;71m \u001B[0m  Lichen China Ltd                          1876766  \u001B[38;5;39m \u001B[0m\u001B[38;5;39m2023-02-03 \u001B[0m\u001B[38;5;39m \u001B[0m  9999999995-23-000268  \n",
       " \u001B[1m \u001B[0m\u001B[1m16\u001B[0m\u001B[1m \u001B[0m \u001B[1;38;5;71m \u001B[0m\u001B[1;38;5;71mEFFECT\u001B[0m\u001B[1;38;5;71m \u001B[0m \u001B[1m \u001B[0m\u001B[1mMERIDIAN BIOSCIENCE INC                \u001B[0m\u001B[1m \u001B[0m \u001B[1m \u001B[0m\u001B[1m794172 \u001B[0m\u001B[1m \u001B[0m \u001B[1;38;5;39m \u001B[0m\u001B[1;38;5;39m2023-02-03 \u001B[0m\u001B[1;38;5;39m \u001B[0m \u001B[1m \u001B[0m\u001B[1m9999999995-23-000263\u001B[0m\u001B[1m \u001B[0m \n",
       "  17  \u001B[38;5;71m \u001B[0m\u001B[38;5;71mEFFECT\u001B[0m\u001B[38;5;71m \u001B[0m  MERIDIAN BIOSCIENCE INC                   794172   \u001B[38;5;39m \u001B[0m\u001B[38;5;39m2023-02-03 \u001B[0m\u001B[38;5;39m \u001B[0m  9999999995-23-000264  \n",
       " \u001B[1m \u001B[0m\u001B[1m18\u001B[0m\u001B[1m \u001B[0m \u001B[1;38;5;71m \u001B[0m\u001B[1;38;5;71mEFFECT\u001B[0m\u001B[1;38;5;71m \u001B[0m \u001B[1m \u001B[0m\u001B[1mMERIDIAN BIOSCIENCE INC                \u001B[0m\u001B[1m \u001B[0m \u001B[1m \u001B[0m\u001B[1m794172 \u001B[0m\u001B[1m \u001B[0m \u001B[1;38;5;39m \u001B[0m\u001B[1;38;5;39m2023-02-03 \u001B[0m\u001B[1;38;5;39m \u001B[0m \u001B[1m \u001B[0m\u001B[1m9999999995-23-000265\u001B[0m\u001B[1m \u001B[0m \n",
       "  19  \u001B[38;5;71m \u001B[0m\u001B[38;5;71mEFFECT\u001B[0m\u001B[38;5;71m \u001B[0m  MERIDIAN BIOSCIENCE INC                   794172   \u001B[38;5;39m \u001B[0m\u001B[38;5;39m2023-02-03 \u001B[0m\u001B[38;5;39m \u001B[0m  9999999995-23-000266  \n",
       " \u001B[1m \u001B[0m\u001B[1m20\u001B[0m\u001B[1m \u001B[0m \u001B[1;38;5;71m \u001B[0m\u001B[1;38;5;71mEFFECT\u001B[0m\u001B[1;38;5;71m \u001B[0m \u001B[1m \u001B[0m\u001B[1mMERIDIAN BIOSCIENCE INC                \u001B[0m\u001B[1m \u001B[0m \u001B[1m \u001B[0m\u001B[1m794172 \u001B[0m\u001B[1m \u001B[0m \u001B[1;38;5;39m \u001B[0m\u001B[1;38;5;39m2023-02-03 \u001B[0m\u001B[1;38;5;39m \u001B[0m \u001B[1m \u001B[0m\u001B[1m9999999995-23-000267\u001B[0m\u001B[1m \u001B[0m \n",
       "  21  \u001B[38;5;71m \u001B[0m\u001B[38;5;71mEFFECT\u001B[0m\u001B[38;5;71m \u001B[0m  Oculis Holding AG                         1953530  \u001B[38;5;39m \u001B[0m\u001B[38;5;39m2023-02-03 \u001B[0m\u001B[38;5;39m \u001B[0m  9999999995-23-000272  \n",
       " \u001B[1m \u001B[0m\u001B[1m22\u001B[0m\u001B[1m \u001B[0m \u001B[1;38;5;71m \u001B[0m\u001B[1;38;5;71mEFFECT\u001B[0m\u001B[1;38;5;71m \u001B[0m \u001B[1m \u001B[0m\u001B[1mReShape Lifesciences Inc.              \u001B[0m\u001B[1m \u001B[0m \u001B[1m \u001B[0m\u001B[1m1427570\u001B[0m\u001B[1m \u001B[0m \u001B[1;38;5;39m \u001B[0m\u001B[1;38;5;39m2023-02-03 \u001B[0m\u001B[1;38;5;39m \u001B[0m \u001B[1m \u001B[0m\u001B[1m9999999995-23-000278\u001B[0m\u001B[1m \u001B[0m \n",
       "  23  \u001B[38;5;71m \u001B[0m\u001B[38;5;71mEFFECT\u001B[0m\u001B[38;5;71m \u001B[0m  Senseonics Holdings, Inc.                 1616543  \u001B[38;5;39m \u001B[0m\u001B[38;5;39m2023-02-03 \u001B[0m\u001B[38;5;39m \u001B[0m  9999999995-23-000277  \n",
       " \u001B[1m \u001B[0m\u001B[1m24\u001B[0m\u001B[1m \u001B[0m \u001B[1;38;5;71m \u001B[0m\u001B[1;38;5;71mEFFECT\u001B[0m\u001B[1;38;5;71m \u001B[0m \u001B[1m \u001B[0m\u001B[1mSmartTrust 597                         \u001B[0m\u001B[1m \u001B[0m \u001B[1m \u001B[0m\u001B[1m1936064\u001B[0m\u001B[1m \u001B[0m \u001B[1;38;5;39m \u001B[0m\u001B[1;38;5;39m2023-02-03 \u001B[0m\u001B[1;38;5;39m \u001B[0m \u001B[1m \u001B[0m\u001B[1m9999999995-23-000271\u001B[0m\u001B[1m \u001B[0m \n",
       "  25  \u001B[38;5;71m \u001B[0m\u001B[38;5;71mEFFECT\u001B[0m\u001B[38;5;71m \u001B[0m  Summit Therapeutics Inc.                  1599298  \u001B[38;5;39m \u001B[0m\u001B[38;5;39m2023-02-03 \u001B[0m\u001B[38;5;39m \u001B[0m  9999999995-23-000275  \n",
       " \u001B[1m \u001B[0m\u001B[1m26\u001B[0m\u001B[1m \u001B[0m \u001B[1;38;5;71m \u001B[0m\u001B[1;38;5;71mEFFECT\u001B[0m\u001B[1;38;5;71m \u001B[0m \u001B[1m \u001B[0m\u001B[1mXORTX Therapeutics Inc.                \u001B[0m\u001B[1m \u001B[0m \u001B[1m \u001B[0m\u001B[1m1729214\u001B[0m\u001B[1m \u001B[0m \u001B[1;38;5;39m \u001B[0m\u001B[1;38;5;39m2023-02-03 \u001B[0m\u001B[1;38;5;39m \u001B[0m \u001B[1m \u001B[0m\u001B[1m9999999995-23-000280\u001B[0m\u001B[1m \u001B[0m \n",
       "  27  \u001B[38;5;71m \u001B[0m\u001B[38;5;71mEFFECT\u001B[0m\u001B[38;5;71m \u001B[0m  Xponential Fitness, Inc.                  1802156  \u001B[38;5;39m \u001B[0m\u001B[38;5;39m2023-02-03 \u001B[0m\u001B[38;5;39m \u001B[0m  9999999995-23-000279  \n",
       " \u001B[1m \u001B[0m\u001B[1m28\u001B[0m\u001B[1m \u001B[0m \u001B[1;38;5;71m \u001B[0m\u001B[1;38;5;71mEFFECT\u001B[0m\u001B[1;38;5;71m \u001B[0m \u001B[1m \u001B[0m\u001B[1mAsset Entities Inc.                    \u001B[0m\u001B[1m \u001B[0m \u001B[1m \u001B[0m\u001B[1m1920406\u001B[0m\u001B[1m \u001B[0m \u001B[1;38;5;39m \u001B[0m\u001B[1;38;5;39m2023-02-02 \u001B[0m\u001B[1;38;5;39m \u001B[0m \u001B[1m \u001B[0m\u001B[1m9999999995-23-000257\u001B[0m\u001B[1m \u001B[0m \n",
       "  29  \u001B[38;5;71m \u001B[0m\u001B[38;5;71mEFFECT\u001B[0m\u001B[38;5;71m \u001B[0m  Edible Garden AG Inc                      1809750  \u001B[38;5;39m \u001B[0m\u001B[38;5;39m2023-02-02 \u001B[0m\u001B[38;5;39m \u001B[0m  9999999995-23-000259  \n",
       " \u001B[1m \u001B[0m\u001B[1m30\u001B[0m\u001B[1m \u001B[0m \u001B[1;38;5;71m \u001B[0m\u001B[1;38;5;71mEFFECT\u001B[0m\u001B[1;38;5;71m \u001B[0m \u001B[1m \u001B[0m\u001B[1mInvesco Unit Trusts Series 2269        \u001B[0m\u001B[1m \u001B[0m \u001B[1m \u001B[0m\u001B[1m1926708\u001B[0m\u001B[1m \u001B[0m \u001B[1;38;5;39m \u001B[0m\u001B[1;38;5;39m2023-02-02 \u001B[0m\u001B[1;38;5;39m \u001B[0m \u001B[1m \u001B[0m\u001B[1m9999999995-23-000258\u001B[0m\u001B[1m \u001B[0m \n",
       "  31  \u001B[38;5;71m \u001B[0m\u001B[38;5;71mEFFECT\u001B[0m\u001B[38;5;71m \u001B[0m  Structure Therapeutics Inc.               1888886  \u001B[38;5;39m \u001B[0m\u001B[38;5;39m2023-02-02 \u001B[0m\u001B[38;5;39m \u001B[0m  9999999995-23-000260  \n",
       " \u001B[1m \u001B[0m\u001B[1m32\u001B[0m\u001B[1m \u001B[0m \u001B[1;38;5;71m \u001B[0m\u001B[1;38;5;71mEFFECT\u001B[0m\u001B[1;38;5;71m \u001B[0m \u001B[1m \u001B[0m\u001B[1mStructure Therapeutics Inc.            \u001B[0m\u001B[1m \u001B[0m \u001B[1m \u001B[0m\u001B[1m1888886\u001B[0m\u001B[1m \u001B[0m \u001B[1;38;5;39m \u001B[0m\u001B[1;38;5;39m2023-02-02 \u001B[0m\u001B[1;38;5;39m \u001B[0m \u001B[1m \u001B[0m\u001B[1m9999999995-23-000262\u001B[0m\u001B[1m \u001B[0m \n",
       "  33  \u001B[38;5;71m \u001B[0m\u001B[38;5;71mEFFECT\u001B[0m\u001B[38;5;71m \u001B[0m  TENAX THERAPEUTICS, INC.                  34956    \u001B[38;5;39m \u001B[0m\u001B[38;5;39m2023-02-02 \u001B[0m\u001B[38;5;39m \u001B[0m  9999999995-23-000261  \n",
       " \u001B[1m \u001B[0m\u001B[1m34\u001B[0m\u001B[1m \u001B[0m \u001B[1;38;5;71m \u001B[0m\u001B[1;38;5;71mEFFECT\u001B[0m\u001B[1;38;5;71m \u001B[0m \u001B[1m \u001B[0m\u001B[1mAltus Power, Inc.                      \u001B[0m\u001B[1m \u001B[0m \u001B[1m \u001B[0m\u001B[1m1828723\u001B[0m\u001B[1m \u001B[0m \u001B[1;38;5;39m \u001B[0m\u001B[1;38;5;39m2023-02-01 \u001B[0m\u001B[1;38;5;39m \u001B[0m \u001B[1m \u001B[0m\u001B[1m9999999995-23-000255\u001B[0m\u001B[1m \u001B[0m \n",
       "  35  \u001B[38;5;71m \u001B[0m\u001B[38;5;71mEFFECT\u001B[0m\u001B[38;5;71m \u001B[0m  IDEANOMICS, INC.                          837852   \u001B[38;5;39m \u001B[0m\u001B[38;5;39m2023-02-01 \u001B[0m\u001B[38;5;39m \u001B[0m  9999999995-23-000254  \n",
       " \u001B[1m \u001B[0m\u001B[1m36\u001B[0m\u001B[1m \u001B[0m \u001B[1;38;5;71m \u001B[0m\u001B[1;38;5;71mEFFECT\u001B[0m\u001B[1;38;5;71m \u001B[0m \u001B[1m \u001B[0m\u001B[1mInvesco Unit Trusts Series 2267        \u001B[0m\u001B[1m \u001B[0m \u001B[1m \u001B[0m\u001B[1m1926706\u001B[0m\u001B[1m \u001B[0m \u001B[1;38;5;39m \u001B[0m\u001B[1;38;5;39m2023-02-01 \u001B[0m\u001B[1;38;5;39m \u001B[0m \u001B[1m \u001B[0m\u001B[1m9999999995-23-000252\u001B[0m\u001B[1m \u001B[0m \n",
       "  37  \u001B[38;5;71m \u001B[0m\u001B[38;5;71mEFFECT\u001B[0m\u001B[38;5;71m \u001B[0m  LEGATO MERGER CORP. II                    1883814  \u001B[38;5;39m \u001B[0m\u001B[38;5;39m2023-02-01 \u001B[0m\u001B[38;5;39m \u001B[0m  9999999995-23-000248  \n",
       " \u001B[1m \u001B[0m\u001B[1m38\u001B[0m\u001B[1m \u001B[0m \u001B[1;38;5;71m \u001B[0m\u001B[1;38;5;71mEFFECT\u001B[0m\u001B[1;38;5;71m \u001B[0m \u001B[1m \u001B[0m\u001B[1mLINCOLN NATIONAL LIFE INSURANCE CO /IN/\u001B[0m\u001B[1m \u001B[0m \u001B[1m \u001B[0m\u001B[1m726865 \u001B[0m\u001B[1m \u001B[0m \u001B[1;38;5;39m \u001B[0m\u001B[1;38;5;39m2023-02-01 \u001B[0m\u001B[1;38;5;39m \u001B[0m \u001B[1m \u001B[0m\u001B[1m9999999995-23-000249\u001B[0m\u001B[1m \u001B[0m \n",
       "  39  \u001B[38;5;71m \u001B[0m\u001B[38;5;71mEFFECT\u001B[0m\u001B[38;5;71m \u001B[0m  MICRO FOCUS INTERNATIONAL PLC             1359711  \u001B[38;5;39m \u001B[0m\u001B[38;5;39m2023-02-01 \u001B[0m\u001B[38;5;39m \u001B[0m  9999999995-23-000246  \n",
       " \u001B[1m \u001B[0m\u001B[1m40\u001B[0m\u001B[1m \u001B[0m \u001B[1;38;5;71m \u001B[0m\u001B[1;38;5;71mEFFECT\u001B[0m\u001B[1;38;5;71m \u001B[0m \u001B[1m \u001B[0m\u001B[1mNeptune Wellness Solutions Inc.        \u001B[0m\u001B[1m \u001B[0m \u001B[1m \u001B[0m\u001B[1m1401395\u001B[0m\u001B[1m \u001B[0m \u001B[1;38;5;39m \u001B[0m\u001B[1;38;5;39m2023-02-01 \u001B[0m\u001B[1;38;5;39m \u001B[0m \u001B[1m \u001B[0m\u001B[1m9999999995-23-000251\u001B[0m\u001B[1m \u001B[0m \n",
       "  41  \u001B[38;5;71m \u001B[0m\u001B[38;5;71mEFFECT\u001B[0m\u001B[38;5;71m \u001B[0m  Rubicon Technologies, Inc.                1862068  \u001B[38;5;39m \u001B[0m\u001B[38;5;39m2023-02-01 \u001B[0m\u001B[38;5;39m \u001B[0m  9999999995-23-000247  \n",
       " \u001B[1m \u001B[0m\u001B[1m42\u001B[0m\u001B[1m \u001B[0m \u001B[1;38;5;71m \u001B[0m\u001B[1;38;5;71mEFFECT\u001B[0m\u001B[1;38;5;71m \u001B[0m \u001B[1m \u001B[0m\u001B[1mRubicon Technologies, Inc.             \u001B[0m\u001B[1m \u001B[0m \u001B[1m \u001B[0m\u001B[1m1862068\u001B[0m\u001B[1m \u001B[0m \u001B[1;38;5;39m \u001B[0m\u001B[1;38;5;39m2023-02-01 \u001B[0m\u001B[1;38;5;39m \u001B[0m \u001B[1m \u001B[0m\u001B[1m9999999995-23-000253\u001B[0m\u001B[1m \u001B[0m \n",
       "  43  \u001B[38;5;71m \u001B[0m\u001B[38;5;71mEFFECT\u001B[0m\u001B[38;5;71m \u001B[0m  SANUWAVE Health, Inc.                     1417663  \u001B[38;5;39m \u001B[0m\u001B[38;5;39m2023-02-01 \u001B[0m\u001B[38;5;39m \u001B[0m  9999999995-23-000250  \n",
       " \u001B[1m \u001B[0m\u001B[1m44\u001B[0m\u001B[1m \u001B[0m \u001B[1;38;5;71m \u001B[0m\u001B[1;38;5;71mEFFECT\u001B[0m\u001B[1;38;5;71m \u001B[0m \u001B[1m \u001B[0m\u001B[1mShuttle Pharmaceuticals Holdings, Inc. \u001B[0m\u001B[1m \u001B[0m \u001B[1m \u001B[0m\u001B[1m1757499\u001B[0m\u001B[1m \u001B[0m \u001B[1;38;5;39m \u001B[0m\u001B[1;38;5;39m2023-02-01 \u001B[0m\u001B[1;38;5;39m \u001B[0m \u001B[1m \u001B[0m\u001B[1m9999999995-23-000256\u001B[0m\u001B[1m \u001B[0m \n",
       "  45  \u001B[38;5;71m \u001B[0m\u001B[38;5;71mEFFECT\u001B[0m\u001B[38;5;71m \u001B[0m  Cetus Capital Acquisition Corp.           1936702  \u001B[38;5;39m \u001B[0m\u001B[38;5;39m2023-01-31 \u001B[0m\u001B[38;5;39m \u001B[0m  9999999995-23-000231  \n",
       " \u001B[1m \u001B[0m\u001B[1m46\u001B[0m\u001B[1m \u001B[0m \u001B[1;38;5;71m \u001B[0m\u001B[1;38;5;71mEFFECT\u001B[0m\u001B[1;38;5;71m \u001B[0m \u001B[1m \u001B[0m\u001B[1mCreatd, Inc.                           \u001B[0m\u001B[1m \u001B[0m \u001B[1m \u001B[0m\u001B[1m1357671\u001B[0m\u001B[1m \u001B[0m \u001B[1;38;5;39m \u001B[0m\u001B[1;38;5;39m2023-01-31 \u001B[0m\u001B[1;38;5;39m \u001B[0m \u001B[1m \u001B[0m\u001B[1m9999999995-23-000233\u001B[0m\u001B[1m \u001B[0m \n",
       "  47  \u001B[38;5;71m \u001B[0m\u001B[38;5;71mEFFECT\u001B[0m\u001B[38;5;71m \u001B[0m  DELAWARE GROUP EQUITY FUNDS IV            778108   \u001B[38;5;39m \u001B[0m\u001B[38;5;39m2023-01-31 \u001B[0m\u001B[38;5;39m \u001B[0m  9999999995-23-000238  \n",
       " \u001B[1m \u001B[0m\u001B[1m48\u001B[0m\u001B[1m \u001B[0m \u001B[1;38;5;71m \u001B[0m\u001B[1;38;5;71mEFFECT\u001B[0m\u001B[1;38;5;71m \u001B[0m \u001B[1m \u001B[0m\u001B[1mDELAWARE GROUP EQUITY FUNDS V          \u001B[0m\u001B[1m \u001B[0m \u001B[1m \u001B[0m\u001B[1m809821 \u001B[0m\u001B[1m \u001B[0m \u001B[1;38;5;39m \u001B[0m\u001B[1;38;5;39m2023-01-31 \u001B[0m\u001B[1;38;5;39m \u001B[0m \u001B[1m \u001B[0m\u001B[1m9999999995-23-000239\u001B[0m\u001B[1m \u001B[0m \n",
       "  49  \u001B[38;5;71m \u001B[0m\u001B[38;5;71mEFFECT\u001B[0m\u001B[38;5;71m \u001B[0m  DELAWARE VIP TRUST                        814230   \u001B[38;5;39m \u001B[0m\u001B[38;5;39m2023-01-31 \u001B[0m\u001B[38;5;39m \u001B[0m  9999999995-23-000237  \n",
       "                                                                                                        \n",
       "Showing 50 filings of 323 total from 2023-01-03 to 2023-02-06"
      ]
     },
     "execution_count": 18,
     "metadata": {},
     "output_type": "execute_result"
    }
   ],
   "source": [
    "effect_filings = get_filings(form=\"EFFECT\")\n",
    "effect_filings"
   ]
  },
  {
   "cell_type": "markdown",
   "id": "00b4ded1",
   "metadata": {},
   "source": [
    "## Show effect filing"
   ]
  },
  {
   "cell_type": "code",
   "execution_count": 19,
   "id": "37ce8b75",
   "metadata": {},
   "outputs": [
    {
     "data": {
      "text/html": [
       "<pre style=\"white-space:pre;overflow-x:auto;line-height:normal;font-family:Menlo,'DejaVu Sans Mono',consolas,'Courier New',monospace\"></pre>\n"
      ],
      "text/plain": []
     },
     "metadata": {},
     "output_type": "display_data"
    },
    {
     "data": {
      "text/plain": [
       "\u001B[1mEFFECT filing\u001B[0m\n",
       "                                                                                       \n",
       " \u001B[1m \u001B[0m\u001B[1maccession_no        \u001B[0m\u001B[1m \u001B[0m \u001B[1;38;5;71m \u001B[0m\u001B[1;38;5;71mform  \u001B[0m\u001B[1;38;5;71m \u001B[0m \u001B[1m \u001B[0m\u001B[1mcompany                    \u001B[0m\u001B[1m \u001B[0m \u001B[1m \u001B[0m\u001B[1mcik    \u001B[0m\u001B[1m \u001B[0m \u001B[1;38;5;39m \u001B[0m\u001B[1;38;5;39mfiling_date\u001B[0m\u001B[1;38;5;39m \u001B[0m \n",
       " ───────────────────────────────────────────────────────────────────────────────────── \n",
       " \u001B[1m \u001B[0m\u001B[1m9999999995-23-000284\u001B[0m\u001B[1m \u001B[0m \u001B[1;38;5;71m \u001B[0m\u001B[1;38;5;71mEFFECT\u001B[0m\u001B[1;38;5;71m \u001B[0m \u001B[1m \u001B[0m\u001B[1m5E Advanced Materials, Inc.\u001B[0m\u001B[1m \u001B[0m \u001B[1m \u001B[0m\u001B[1m1888654\u001B[0m\u001B[1m \u001B[0m \u001B[1;38;5;39m \u001B[0m\u001B[1;38;5;39m2023-02-06 \u001B[0m\u001B[1;38;5;39m \u001B[0m \n",
       "                                                                                       "
      ]
     },
     "execution_count": 19,
     "metadata": {},
     "output_type": "execute_result"
    }
   ],
   "source": [
    "effect_filing = effect_filings[0]\n",
    "effect_filing"
   ]
  },
  {
   "cell_type": "markdown",
   "id": "ea77bbaa",
   "metadata": {},
   "source": [
    "## Effect class"
   ]
  },
  {
   "cell_type": "code",
   "execution_count": 20,
   "id": "e3e94295",
   "metadata": {},
   "outputs": [
    {
     "data": {
      "text/html": [
       "<pre style=\"white-space:pre;overflow-x:auto;line-height:normal;font-family:Menlo,'DejaVu Sans Mono',consolas,'Courier New',monospace\"></pre>\n"
      ],
      "text/plain": []
     },
     "metadata": {},
     "output_type": "display_data"
    },
    {
     "data": {
      "text/plain": [
       "\u001B[1mEFFECT filing for form S-1 filing\u001B[0m\n",
       "                                                                         \n",
       " \u001B[1m \u001B[0m\u001B[1mentity                     \u001B[0m\u001B[1m \u001B[0m \u001B[1m \u001B[0m\u001B[1mcik       \u001B[0m\u001B[1m \u001B[0m \u001B[1m \u001B[0m\u001B[1msource\u001B[0m\u001B[1m \u001B[0m \u001B[1m \u001B[0m\u001B[1mlive\u001B[0m\u001B[1m \u001B[0m \u001B[1m \u001B[0m\u001B[1meffective \u001B[0m\u001B[1m \u001B[0m \n",
       " ─────────────────────────────────────────────────────────────────────── \n",
       " \u001B[1m \u001B[0m\u001B[1m5E Advanced Materials, Inc.\u001B[0m\u001B[1m \u001B[0m \u001B[1m \u001B[0m\u001B[1m0001888654\u001B[0m\u001B[1m \u001B[0m \u001B[1m \u001B[0m\u001B[1mS-1   \u001B[0m\u001B[1m \u001B[0m \u001B[1m \u001B[0m\u001B[1mTrue\u001B[0m\u001B[1m \u001B[0m \u001B[1m \u001B[0m\u001B[1m2023-02-06\u001B[0m\u001B[1m \u001B[0m \n",
       "                                                                         "
      ]
     },
     "execution_count": 20,
     "metadata": {},
     "output_type": "execute_result"
    }
   ],
   "source": [
    "Effect.from_xml(effect_filing.xml())"
   ]
  },
  {
   "cell_type": "markdown",
   "id": "96c87b98",
   "metadata": {},
   "source": [
    "# Ownership filings\n",
    "<hr/>"
   ]
  },
  {
   "cell_type": "code",
   "execution_count": 21,
   "id": "77ff20de",
   "metadata": {},
   "outputs": [],
   "source": [
    "ownership_filings = get_filings(form=[\"3\", 4, \"5\"])\n",
    "form_4_filings = ownership_filings.filter(form=\"4\")"
   ]
  },
  {
   "cell_type": "code",
   "execution_count": 22,
   "id": "278e54b1",
   "metadata": {},
   "outputs": [
    {
     "data": {
      "text/html": [
       "<pre style=\"white-space:pre;overflow-x:auto;line-height:normal;font-family:Menlo,'DejaVu Sans Mono',consolas,'Courier New',monospace\"></pre>\n"
      ],
      "text/plain": []
     },
     "metadata": {},
     "output_type": "display_data"
    },
    {
     "data": {
      "text/plain": [
       "\u001B[1m4 filing\u001B[0m\n",
       "                                                                     \n",
       " \u001B[1m \u001B[0m\u001B[1maccession_no        \u001B[0m\u001B[1m \u001B[0m \u001B[1;38;5;71m \u001B[0m\u001B[1;38;5;71mform\u001B[0m\u001B[1;38;5;71m \u001B[0m \u001B[1m \u001B[0m\u001B[1mcompany    \u001B[0m\u001B[1m \u001B[0m \u001B[1m \u001B[0m\u001B[1mcik    \u001B[0m\u001B[1m \u001B[0m \u001B[1;38;5;39m \u001B[0m\u001B[1;38;5;39mfiling_date\u001B[0m\u001B[1;38;5;39m \u001B[0m \n",
       " ─────────────────────────────────────────────────────────────────── \n",
       " \u001B[1m \u001B[0m\u001B[1m0000899243-23-004246\u001B[0m\u001B[1m \u001B[0m \u001B[1;38;5;71m \u001B[0m\u001B[1;38;5;71m4   \u001B[0m\u001B[1;38;5;71m \u001B[0m \u001B[1m \u001B[0m\u001B[1m89bio, Inc.\u001B[0m\u001B[1m \u001B[0m \u001B[1m \u001B[0m\u001B[1m1785173\u001B[0m\u001B[1m \u001B[0m \u001B[1;38;5;39m \u001B[0m\u001B[1;38;5;39m2023-02-07 \u001B[0m\u001B[1;38;5;39m \u001B[0m \n",
       "                                                                     "
      ]
     },
     "execution_count": 22,
     "metadata": {},
     "output_type": "execute_result"
    }
   ],
   "source": [
    "form_4_filing = form_4_filings[4]\n",
    "form_4_filing"
   ]
  },
  {
   "cell_type": "markdown",
   "id": "ca878804",
   "metadata": {},
   "source": [
    "## Show Ownership"
   ]
  },
  {
   "cell_type": "code",
   "execution_count": 23,
   "id": "d181bfc5",
   "metadata": {},
   "outputs": [
    {
     "data": {
      "text/html": [
       "<pre style=\"white-space:pre;overflow-x:auto;line-height:normal;font-family:Menlo,'DejaVu Sans Mono',consolas,'Courier New',monospace\"></pre>\n"
      ],
      "text/plain": []
     },
     "metadata": {},
     "output_type": "display_data"
    },
    {
     "data": {
      "text/plain": [
       "╭─────────────────────────────────────────────────────────────────────────────────────────────────────────────────╮\n",
       "│ \u001B[1;38;5;71mForm 4 Changes in beneficial ownership\u001B[0m                                                                          │\n",
       "│                                                                                                                 │\n",
       "│  \u001B[1m \u001B[0m\u001B[1mticker\u001B[0m\u001B[1m \u001B[0m \u001B[1;38;5;39m \u001B[0m\u001B[1;38;5;39missuer     \u001B[0m\u001B[1;38;5;39m \u001B[0m \u001B[1m \u001B[0m\u001B[1mreporting owner \u001B[0m\u001B[1m \u001B[0m \u001B[1m \u001B[0m\u001B[1mperiod    \u001B[0m\u001B[1m \u001B[0m                                                         │\n",
       "│  ──────────────────────────────────────────────────────                                                         │\n",
       "│  \u001B[1m \u001B[0m\u001B[1mETNB  \u001B[0m\u001B[1m \u001B[0m \u001B[1;38;5;39m \u001B[0m\u001B[1;38;5;39m89bio, Inc.\u001B[0m\u001B[1;38;5;39m \u001B[0m \u001B[1m \u001B[0m\u001B[1mMansbach Harry H\u001B[0m\u001B[1m \u001B[0m \u001B[1m \u001B[0m\u001B[1m2023-02-05\u001B[0m\u001B[1m \u001B[0m                                                         │\n",
       "│                                                                                                                 │\n",
       "╰─────────────────────────────────────────────────────────────────────────────────────────────────────────────────╯\n",
       "╭──────────────────────────────────────────────── Non Derivatives ────────────────────────────────────────────────╮\n",
       "│ 0 non derivative holdings                                                                                       │\n",
       "│ \u001B[1mTransactions\u001B[0m                                                                                                    │\n",
       "│                                                                                                                 │\n",
       "│  \u001B[1m \u001B[0m\u001B[1mdate      \u001B[0m\u001B[1m \u001B[0m \u001B[1;38;5;39m \u001B[0m\u001B[1;38;5;39msecurity    \u001B[0m\u001B[1;38;5;39m \u001B[0m \u001B[1m \u001B[0m\u001B[1mshares\u001B[0m\u001B[1m \u001B[0m \u001B[1m \u001B[0m\u001B[1mremaining\u001B[0m\u001B[1m \u001B[0m \u001B[1m \u001B[0m\u001B[1mprice\u001B[0m\u001B[1m \u001B[0m                                                       │\n",
       "│  ────────────────────────────────────────────────────────                                                       │\n",
       "│  \u001B[1m \u001B[0m\u001B[1m2023-02-05\u001B[0m\u001B[1m \u001B[0m \u001B[1;38;5;39m \u001B[0m\u001B[1;38;5;39mCommon Stock\u001B[0m\u001B[1;38;5;39m \u001B[0m \u001B[1m \u001B[0m\u001B[1m-1360 \u001B[0m\u001B[1m \u001B[0m \u001B[1m \u001B[0m\u001B[1m66798    \u001B[0m\u001B[1m \u001B[0m \u001B[1m \u001B[0m\u001B[1m13.24\u001B[0m\u001B[1m \u001B[0m                                                       │\n",
       "│                                                                                                                 │\n",
       "╰─────────────────────────────────────────────────────────────────────────────────────────────────────────────────╯\n",
       "╭────────────────────────────────────────────────── Derivatives ──────────────────────────────────────────────────╮\n",
       "│ 0 derivative holdings                                                                                           │\n",
       "│ 0 derivative transactions                                                                                       │\n",
       "╰─────────────────────────────────────────────────────────────────────────────────────────────────────────────────╯\n",
       "\u001B[1mFootnotes\u001B[0m\n",
       "                                                                                                                   \n",
       " \u001B[1m \u001B[0m\u001B[1mid\u001B[0m\u001B[1m \u001B[0m \u001B[1m \u001B[0m\u001B[1mfootnote                                                                                                  \u001B[0m\u001B[1m \u001B[0m \n",
       " ───────────────────────────────────────────────────────────────────────────────────────────────────────────────── \n",
       " \u001B[1m \u001B[0m\u001B[1mF1\u001B[0m\u001B[1m \u001B[0m \u001B[1m \u001B[0m\u001B[1mRepresents shares withheld by the Issuer to satisfy tax withholding obligations in connection with the    \u001B[0m\u001B[1m \u001B[0m \n",
       " \u001B[1m    \u001B[0m \u001B[1m \u001B[0m\u001B[1mrelease of 3,333 performance stock units on February 5, 2023.                                             \u001B[0m\u001B[1m \u001B[0m \n",
       "                                                                                                                   "
      ]
     },
     "execution_count": 23,
     "metadata": {},
     "output_type": "execute_result"
    }
   ],
   "source": [
    "Ownership.from_xml(form_4_filing.xml())"
   ]
  },
  {
   "cell_type": "markdown",
   "id": "411b7135",
   "metadata": {},
   "source": [
    "# Fund Filings\n",
    "\n",
    "<hr/>"
   ]
  },
  {
   "cell_type": "code",
   "execution_count": 24,
   "id": "97cc7167",
   "metadata": {},
   "outputs": [
    {
     "data": {
      "text/html": [
       "<pre style=\"white-space:pre;overflow-x:auto;line-height:normal;font-family:Menlo,'DejaVu Sans Mono',consolas,'Courier New',monospace\"></pre>\n"
      ],
      "text/plain": []
     },
     "metadata": {},
     "output_type": "display_data"
    },
    {
     "data": {
      "text/plain": [
       "\u001B[1m                                                 Filings                                                  \u001B[0m\n",
       "                                                                                                          \n",
       " \u001B[1m \u001B[0m\u001B[1m  \u001B[0m\u001B[1m \u001B[0m \u001B[1;38;5;71m \u001B[0m\u001B[1;38;5;71mform     \u001B[0m\u001B[1;38;5;71m \u001B[0m \u001B[1m \u001B[0m\u001B[1mcompany                               \u001B[0m\u001B[1m \u001B[0m \u001B[1m \u001B[0m\u001B[1mcik    \u001B[0m\u001B[1m \u001B[0m \u001B[1;38;5;39m \u001B[0m\u001B[1;38;5;39mfiling_date\u001B[0m\u001B[1;38;5;39m \u001B[0m \u001B[1m \u001B[0m\u001B[1maccession_number    \u001B[0m\u001B[1m \u001B[0m \n",
       " ──────────────────────────────────────────────────────────────────────────────────────────────────────── \n",
       " \u001B[1m \u001B[0m\u001B[1m0 \u001B[0m\u001B[1m \u001B[0m \u001B[1;38;5;71m \u001B[0m\u001B[1;38;5;71mNPORT-P  \u001B[0m\u001B[1;38;5;71m \u001B[0m \u001B[1m \u001B[0m\u001B[1mFORUM FUNDS II                        \u001B[0m\u001B[1m \u001B[0m \u001B[1m \u001B[0m\u001B[1m1576367\u001B[0m\u001B[1m \u001B[0m \u001B[1;38;5;39m \u001B[0m\u001B[1;38;5;39m2023-02-06 \u001B[0m\u001B[1;38;5;39m \u001B[0m \u001B[1m \u001B[0m\u001B[1m0001752724-23-019922\u001B[0m\u001B[1m \u001B[0m \n",
       "  1   \u001B[38;5;71m \u001B[0m\u001B[38;5;71mNPORT-P  \u001B[0m\u001B[38;5;71m \u001B[0m  FORUM FUNDS II                           1576367  \u001B[38;5;39m \u001B[0m\u001B[38;5;39m2023-02-06 \u001B[0m\u001B[38;5;39m \u001B[0m  0001752724-23-019923  \n",
       " \u001B[1m \u001B[0m\u001B[1m2 \u001B[0m\u001B[1m \u001B[0m \u001B[1;38;5;71m \u001B[0m\u001B[1;38;5;71mNPORT-P  \u001B[0m\u001B[1;38;5;71m \u001B[0m \u001B[1m \u001B[0m\u001B[1mHOMESTEAD FUNDS INC                   \u001B[0m\u001B[1m \u001B[0m \u001B[1m \u001B[0m\u001B[1m865733 \u001B[0m\u001B[1m \u001B[0m \u001B[1;38;5;39m \u001B[0m\u001B[1;38;5;39m2023-02-06 \u001B[0m\u001B[1;38;5;39m \u001B[0m \u001B[1m \u001B[0m\u001B[1m0001752724-23-019946\u001B[0m\u001B[1m \u001B[0m \n",
       "  3   \u001B[38;5;71m \u001B[0m\u001B[38;5;71mNPORT-P  \u001B[0m\u001B[38;5;71m \u001B[0m  HOMESTEAD FUNDS INC                      865733   \u001B[38;5;39m \u001B[0m\u001B[38;5;39m2023-02-06 \u001B[0m\u001B[38;5;39m \u001B[0m  0001752724-23-019947  \n",
       " \u001B[1m \u001B[0m\u001B[1m4 \u001B[0m\u001B[1m \u001B[0m \u001B[1;38;5;71m \u001B[0m\u001B[1;38;5;71mNPORT-P  \u001B[0m\u001B[1;38;5;71m \u001B[0m \u001B[1m \u001B[0m\u001B[1mHOMESTEAD FUNDS INC                   \u001B[0m\u001B[1m \u001B[0m \u001B[1m \u001B[0m\u001B[1m865733 \u001B[0m\u001B[1m \u001B[0m \u001B[1;38;5;39m \u001B[0m\u001B[1;38;5;39m2023-02-06 \u001B[0m\u001B[1;38;5;39m \u001B[0m \u001B[1m \u001B[0m\u001B[1m0001752724-23-019948\u001B[0m\u001B[1m \u001B[0m \n",
       "  5   \u001B[38;5;71m \u001B[0m\u001B[38;5;71mNPORT-P  \u001B[0m\u001B[38;5;71m \u001B[0m  HOMESTEAD FUNDS INC                      865733   \u001B[38;5;39m \u001B[0m\u001B[38;5;39m2023-02-06 \u001B[0m\u001B[38;5;39m \u001B[0m  0001752724-23-019950  \n",
       " \u001B[1m \u001B[0m\u001B[1m6 \u001B[0m\u001B[1m \u001B[0m \u001B[1;38;5;71m \u001B[0m\u001B[1;38;5;71mNPORT-P  \u001B[0m\u001B[1;38;5;71m \u001B[0m \u001B[1m \u001B[0m\u001B[1mHOMESTEAD FUNDS INC                   \u001B[0m\u001B[1m \u001B[0m \u001B[1m \u001B[0m\u001B[1m865733 \u001B[0m\u001B[1m \u001B[0m \u001B[1;38;5;39m \u001B[0m\u001B[1;38;5;39m2023-02-06 \u001B[0m\u001B[1;38;5;39m \u001B[0m \u001B[1m \u001B[0m\u001B[1m0001752724-23-019951\u001B[0m\u001B[1m \u001B[0m \n",
       "  7   \u001B[38;5;71m \u001B[0m\u001B[38;5;71mNPORT-P  \u001B[0m\u001B[38;5;71m \u001B[0m  HOMESTEAD FUNDS INC                      865733   \u001B[38;5;39m \u001B[0m\u001B[38;5;39m2023-02-06 \u001B[0m\u001B[38;5;39m \u001B[0m  0001752724-23-019953  \n",
       " \u001B[1m \u001B[0m\u001B[1m8 \u001B[0m\u001B[1m \u001B[0m \u001B[1;38;5;71m \u001B[0m\u001B[1;38;5;71mNPORT-P  \u001B[0m\u001B[1;38;5;71m \u001B[0m \u001B[1m \u001B[0m\u001B[1mHOMESTEAD FUNDS INC                   \u001B[0m\u001B[1m \u001B[0m \u001B[1m \u001B[0m\u001B[1m865733 \u001B[0m\u001B[1m \u001B[0m \u001B[1;38;5;39m \u001B[0m\u001B[1;38;5;39m2023-02-06 \u001B[0m\u001B[1;38;5;39m \u001B[0m \u001B[1m \u001B[0m\u001B[1m0001752724-23-019954\u001B[0m\u001B[1m \u001B[0m \n",
       "  9   \u001B[38;5;71m \u001B[0m\u001B[38;5;71mNPORT-P  \u001B[0m\u001B[38;5;71m \u001B[0m  Homestead Funds Trust                    1768447  \u001B[38;5;39m \u001B[0m\u001B[38;5;39m2023-02-06 \u001B[0m\u001B[38;5;39m \u001B[0m  0001752724-23-019949  \n",
       " \u001B[1m \u001B[0m\u001B[1m10\u001B[0m\u001B[1m \u001B[0m \u001B[1;38;5;71m \u001B[0m\u001B[1;38;5;71mNPORT-P  \u001B[0m\u001B[1;38;5;71m \u001B[0m \u001B[1m \u001B[0m\u001B[1mHomestead Funds Trust                 \u001B[0m\u001B[1m \u001B[0m \u001B[1m \u001B[0m\u001B[1m1768447\u001B[0m\u001B[1m \u001B[0m \u001B[1;38;5;39m \u001B[0m\u001B[1;38;5;39m2023-02-06 \u001B[0m\u001B[1;38;5;39m \u001B[0m \u001B[1m \u001B[0m\u001B[1m0001752724-23-019952\u001B[0m\u001B[1m \u001B[0m \n",
       "  11  \u001B[38;5;71m \u001B[0m\u001B[38;5;71mNPORT-P  \u001B[0m\u001B[38;5;71m \u001B[0m  VOLUMETRIC FUND INC                      792394   \u001B[38;5;39m \u001B[0m\u001B[38;5;39m2023-02-06 \u001B[0m\u001B[38;5;39m \u001B[0m  0001667731-23-000071  \n",
       " \u001B[1m \u001B[0m\u001B[1m12\u001B[0m\u001B[1m \u001B[0m \u001B[1;38;5;71m \u001B[0m\u001B[1;38;5;71mNPORT-P/A\u001B[0m\u001B[1;38;5;71m \u001B[0m \u001B[1m \u001B[0m\u001B[1mRBB FUND, INC.                        \u001B[0m\u001B[1m \u001B[0m \u001B[1m \u001B[0m\u001B[1m831114 \u001B[0m\u001B[1m \u001B[0m \u001B[1;38;5;39m \u001B[0m\u001B[1;38;5;39m2023-02-03 \u001B[0m\u001B[1;38;5;39m \u001B[0m \u001B[1m \u001B[0m\u001B[1m0001145549-23-004958\u001B[0m\u001B[1m \u001B[0m \n",
       "  13  \u001B[38;5;71m \u001B[0m\u001B[38;5;71mNPORT-P/A\u001B[0m\u001B[38;5;71m \u001B[0m  RBB FUND, INC.                           831114   \u001B[38;5;39m \u001B[0m\u001B[38;5;39m2023-02-03 \u001B[0m\u001B[38;5;39m \u001B[0m  0001145549-23-004959  \n",
       " \u001B[1m \u001B[0m\u001B[1m14\u001B[0m\u001B[1m \u001B[0m \u001B[1;38;5;71m \u001B[0m\u001B[1;38;5;71mNPORT-P/A\u001B[0m\u001B[1;38;5;71m \u001B[0m \u001B[1m \u001B[0m\u001B[1mRBB FUND, INC.                        \u001B[0m\u001B[1m \u001B[0m \u001B[1m \u001B[0m\u001B[1m831114 \u001B[0m\u001B[1m \u001B[0m \u001B[1;38;5;39m \u001B[0m\u001B[1;38;5;39m2023-02-03 \u001B[0m\u001B[1;38;5;39m \u001B[0m \u001B[1m \u001B[0m\u001B[1m0001145549-23-004960\u001B[0m\u001B[1m \u001B[0m \n",
       "  15  \u001B[38;5;71m \u001B[0m\u001B[38;5;71mNPORT-P/A\u001B[0m\u001B[38;5;71m \u001B[0m  RBB FUND, INC.                           831114   \u001B[38;5;39m \u001B[0m\u001B[38;5;39m2023-02-03 \u001B[0m\u001B[38;5;39m \u001B[0m  0001145549-23-004961  \n",
       " \u001B[1m \u001B[0m\u001B[1m16\u001B[0m\u001B[1m \u001B[0m \u001B[1;38;5;71m \u001B[0m\u001B[1;38;5;71mNPORT-P/A\u001B[0m\u001B[1;38;5;71m \u001B[0m \u001B[1m \u001B[0m\u001B[1mRBB FUND, INC.                        \u001B[0m\u001B[1m \u001B[0m \u001B[1m \u001B[0m\u001B[1m831114 \u001B[0m\u001B[1m \u001B[0m \u001B[1;38;5;39m \u001B[0m\u001B[1;38;5;39m2023-02-03 \u001B[0m\u001B[1;38;5;39m \u001B[0m \u001B[1m \u001B[0m\u001B[1m0001145549-23-004962\u001B[0m\u001B[1m \u001B[0m \n",
       "  17  \u001B[38;5;71m \u001B[0m\u001B[38;5;71mNPORT-P/A\u001B[0m\u001B[38;5;71m \u001B[0m  RBB FUND, INC.                           831114   \u001B[38;5;39m \u001B[0m\u001B[38;5;39m2023-02-03 \u001B[0m\u001B[38;5;39m \u001B[0m  0001145549-23-004963  \n",
       " \u001B[1m \u001B[0m\u001B[1m18\u001B[0m\u001B[1m \u001B[0m \u001B[1;38;5;71m \u001B[0m\u001B[1;38;5;71mNPORT-P/A\u001B[0m\u001B[1;38;5;71m \u001B[0m \u001B[1m \u001B[0m\u001B[1mRBB Fund Trust                        \u001B[0m\u001B[1m \u001B[0m \u001B[1m \u001B[0m\u001B[1m1618627\u001B[0m\u001B[1m \u001B[0m \u001B[1;38;5;39m \u001B[0m\u001B[1;38;5;39m2023-02-03 \u001B[0m\u001B[1;38;5;39m \u001B[0m \u001B[1m \u001B[0m\u001B[1m0001145549-23-004965\u001B[0m\u001B[1m \u001B[0m \n",
       "  19  \u001B[38;5;71m \u001B[0m\u001B[38;5;71mNPORT-P/A\u001B[0m\u001B[38;5;71m \u001B[0m  RBB Fund Trust                           1618627  \u001B[38;5;39m \u001B[0m\u001B[38;5;39m2023-02-03 \u001B[0m\u001B[38;5;39m \u001B[0m  0001145549-23-004968  \n",
       " \u001B[1m \u001B[0m\u001B[1m20\u001B[0m\u001B[1m \u001B[0m \u001B[1;38;5;71m \u001B[0m\u001B[1;38;5;71mNPORT-P  \u001B[0m\u001B[1;38;5;71m \u001B[0m \u001B[1m \u001B[0m\u001B[1mCALIFORNIA FIRST LEASING CORP         \u001B[0m\u001B[1m \u001B[0m \u001B[1m \u001B[0m\u001B[1m803016 \u001B[0m\u001B[1m \u001B[0m \u001B[1;38;5;39m \u001B[0m\u001B[1;38;5;39m2023-02-02 \u001B[0m\u001B[1;38;5;39m \u001B[0m \u001B[1m \u001B[0m\u001B[1m0001398344-23-001862\u001B[0m\u001B[1m \u001B[0m \n",
       "  21  \u001B[38;5;71m \u001B[0m\u001B[38;5;71mNPORT-P  \u001B[0m\u001B[38;5;71m \u001B[0m  FORUM FUNDS                              315774   \u001B[38;5;39m \u001B[0m\u001B[38;5;39m2023-02-02 \u001B[0m\u001B[38;5;39m \u001B[0m  0001752724-23-019252  \n",
       " \u001B[1m \u001B[0m\u001B[1m22\u001B[0m\u001B[1m \u001B[0m \u001B[1;38;5;71m \u001B[0m\u001B[1;38;5;71mNPORT-P  \u001B[0m\u001B[1;38;5;71m \u001B[0m \u001B[1m \u001B[0m\u001B[1mKEYCO BOND FUND INC                   \u001B[0m\u001B[1m \u001B[0m \u001B[1m \u001B[0m\u001B[1m313180 \u001B[0m\u001B[1m \u001B[0m \u001B[1;38;5;39m \u001B[0m\u001B[1;38;5;39m2023-02-02 \u001B[0m\u001B[1;38;5;39m \u001B[0m \u001B[1m \u001B[0m\u001B[1m0001387131-23-001290\u001B[0m\u001B[1m \u001B[0m \n",
       "  23  \u001B[38;5;71m \u001B[0m\u001B[38;5;71mNPORT-P/A\u001B[0m\u001B[38;5;71m \u001B[0m  HIGH INCOME SECURITIES FUND              810943   \u001B[38;5;39m \u001B[0m\u001B[38;5;39m2023-02-02 \u001B[0m\u001B[38;5;39m \u001B[0m  0001145549-23-004861  \n",
       " \u001B[1m \u001B[0m\u001B[1m24\u001B[0m\u001B[1m \u001B[0m \u001B[1;38;5;71m \u001B[0m\u001B[1;38;5;71mNPORT-P  \u001B[0m\u001B[1;38;5;71m \u001B[0m \u001B[1m \u001B[0m\u001B[1mDSS AMERICAFIRST QUANTITATIVE FUNDS   \u001B[0m\u001B[1m \u001B[0m \u001B[1m \u001B[0m\u001B[1m1539996\u001B[0m\u001B[1m \u001B[0m \u001B[1;38;5;39m \u001B[0m\u001B[1;38;5;39m2023-02-01 \u001B[0m\u001B[1;38;5;39m \u001B[0m \u001B[1m \u001B[0m\u001B[1m0001162044-23-000142\u001B[0m\u001B[1m \u001B[0m \n",
       "  25  \u001B[38;5;71m \u001B[0m\u001B[38;5;71mNPORT-P  \u001B[0m\u001B[38;5;71m \u001B[0m  DSS AMERICAFIRST QUANTITATIVE FUNDS      1539996  \u001B[38;5;39m \u001B[0m\u001B[38;5;39m2023-02-01 \u001B[0m\u001B[38;5;39m \u001B[0m  0001162044-23-000143  \n",
       " \u001B[1m \u001B[0m\u001B[1m26\u001B[0m\u001B[1m \u001B[0m \u001B[1;38;5;71m \u001B[0m\u001B[1;38;5;71mNPORT-P  \u001B[0m\u001B[1;38;5;71m \u001B[0m \u001B[1m \u001B[0m\u001B[1mDSS AMERICAFIRST QUANTITATIVE FUNDS   \u001B[0m\u001B[1m \u001B[0m \u001B[1m \u001B[0m\u001B[1m1539996\u001B[0m\u001B[1m \u001B[0m \u001B[1;38;5;39m \u001B[0m\u001B[1;38;5;39m2023-02-01 \u001B[0m\u001B[1;38;5;39m \u001B[0m \u001B[1m \u001B[0m\u001B[1m0001162044-23-000144\u001B[0m\u001B[1m \u001B[0m \n",
       "  27  \u001B[38;5;71m \u001B[0m\u001B[38;5;71mNPORT-P  \u001B[0m\u001B[38;5;71m \u001B[0m  Provident Mutual Funds, Inc.             796227   \u001B[38;5;39m \u001B[0m\u001B[38;5;39m2023-02-01 \u001B[0m\u001B[38;5;39m \u001B[0m  0001145549-23-004831  \n",
       " \u001B[1m \u001B[0m\u001B[1m28\u001B[0m\u001B[1m \u001B[0m \u001B[1;38;5;71m \u001B[0m\u001B[1;38;5;71mNPORT-P/A\u001B[0m\u001B[1;38;5;71m \u001B[0m \u001B[1m \u001B[0m\u001B[1mMorningstar Funds Trust               \u001B[0m\u001B[1m \u001B[0m \u001B[1m \u001B[0m\u001B[1m1699360\u001B[0m\u001B[1m \u001B[0m \u001B[1;38;5;39m \u001B[0m\u001B[1;38;5;39m2023-02-01 \u001B[0m\u001B[1;38;5;39m \u001B[0m \u001B[1m \u001B[0m\u001B[1m0001145549-23-004840\u001B[0m\u001B[1m \u001B[0m \n",
       "  29  \u001B[38;5;71m \u001B[0m\u001B[38;5;71mNPORT-P  \u001B[0m\u001B[38;5;71m \u001B[0m  DSS AMERICAFIRST QUANTITATIVE FUNDS      1539996  \u001B[38;5;39m \u001B[0m\u001B[38;5;39m2023-01-31 \u001B[0m\u001B[38;5;39m \u001B[0m  0001162044-23-000130  \n",
       " \u001B[1m \u001B[0m\u001B[1m30\u001B[0m\u001B[1m \u001B[0m \u001B[1;38;5;71m \u001B[0m\u001B[1;38;5;71mNPORT-P  \u001B[0m\u001B[1;38;5;71m \u001B[0m \u001B[1m \u001B[0m\u001B[1mDUPREE MUTUAL FUNDS                   \u001B[0m\u001B[1m \u001B[0m \u001B[1m \u001B[0m\u001B[1m311101 \u001B[0m\u001B[1m \u001B[0m \u001B[1;38;5;39m \u001B[0m\u001B[1;38;5;39m2023-01-31 \u001B[0m\u001B[1;38;5;39m \u001B[0m \u001B[1m \u001B[0m\u001B[1m0001145549-23-004800\u001B[0m\u001B[1m \u001B[0m \n",
       "  31  \u001B[38;5;71m \u001B[0m\u001B[38;5;71mNPORT-P  \u001B[0m\u001B[38;5;71m \u001B[0m  DUPREE MUTUAL FUNDS                      311101   \u001B[38;5;39m \u001B[0m\u001B[38;5;39m2023-01-31 \u001B[0m\u001B[38;5;39m \u001B[0m  0001145549-23-004801  \n",
       " \u001B[1m \u001B[0m\u001B[1m32\u001B[0m\u001B[1m \u001B[0m \u001B[1;38;5;71m \u001B[0m\u001B[1;38;5;71mNPORT-P  \u001B[0m\u001B[1;38;5;71m \u001B[0m \u001B[1m \u001B[0m\u001B[1mDUPREE MUTUAL FUNDS                   \u001B[0m\u001B[1m \u001B[0m \u001B[1m \u001B[0m\u001B[1m311101 \u001B[0m\u001B[1m \u001B[0m \u001B[1;38;5;39m \u001B[0m\u001B[1;38;5;39m2023-01-31 \u001B[0m\u001B[1;38;5;39m \u001B[0m \u001B[1m \u001B[0m\u001B[1m0001145549-23-004802\u001B[0m\u001B[1m \u001B[0m \n",
       "  33  \u001B[38;5;71m \u001B[0m\u001B[38;5;71mNPORT-P  \u001B[0m\u001B[38;5;71m \u001B[0m  DUPREE MUTUAL FUNDS                      311101   \u001B[38;5;39m \u001B[0m\u001B[38;5;39m2023-01-31 \u001B[0m\u001B[38;5;39m \u001B[0m  0001145549-23-004803  \n",
       " \u001B[1m \u001B[0m\u001B[1m34\u001B[0m\u001B[1m \u001B[0m \u001B[1;38;5;71m \u001B[0m\u001B[1;38;5;71mNPORT-P  \u001B[0m\u001B[1;38;5;71m \u001B[0m \u001B[1m \u001B[0m\u001B[1mDUPREE MUTUAL FUNDS                   \u001B[0m\u001B[1m \u001B[0m \u001B[1m \u001B[0m\u001B[1m311101 \u001B[0m\u001B[1m \u001B[0m \u001B[1;38;5;39m \u001B[0m\u001B[1;38;5;39m2023-01-31 \u001B[0m\u001B[1;38;5;39m \u001B[0m \u001B[1m \u001B[0m\u001B[1m0001145549-23-004804\u001B[0m\u001B[1m \u001B[0m \n",
       "  35  \u001B[38;5;71m \u001B[0m\u001B[38;5;71mNPORT-P  \u001B[0m\u001B[38;5;71m \u001B[0m  DUPREE MUTUAL FUNDS                      311101   \u001B[38;5;39m \u001B[0m\u001B[38;5;39m2023-01-31 \u001B[0m\u001B[38;5;39m \u001B[0m  0001145549-23-004805  \n",
       " \u001B[1m \u001B[0m\u001B[1m36\u001B[0m\u001B[1m \u001B[0m \u001B[1;38;5;71m \u001B[0m\u001B[1;38;5;71mNPORT-P  \u001B[0m\u001B[1;38;5;71m \u001B[0m \u001B[1m \u001B[0m\u001B[1mDUPREE MUTUAL FUNDS                   \u001B[0m\u001B[1m \u001B[0m \u001B[1m \u001B[0m\u001B[1m311101 \u001B[0m\u001B[1m \u001B[0m \u001B[1;38;5;39m \u001B[0m\u001B[1;38;5;39m2023-01-31 \u001B[0m\u001B[1;38;5;39m \u001B[0m \u001B[1m \u001B[0m\u001B[1m0001145549-23-004806\u001B[0m\u001B[1m \u001B[0m \n",
       "  37  \u001B[38;5;71m \u001B[0m\u001B[38;5;71mNPORT-P  \u001B[0m\u001B[38;5;71m \u001B[0m  DUPREE MUTUAL FUNDS                      311101   \u001B[38;5;39m \u001B[0m\u001B[38;5;39m2023-01-31 \u001B[0m\u001B[38;5;39m \u001B[0m  0001145549-23-004807  \n",
       " \u001B[1m \u001B[0m\u001B[1m38\u001B[0m\u001B[1m \u001B[0m \u001B[1;38;5;71m \u001B[0m\u001B[1;38;5;71mNPORT-P  \u001B[0m\u001B[1;38;5;71m \u001B[0m \u001B[1m \u001B[0m\u001B[1mDUPREE MUTUAL FUNDS                   \u001B[0m\u001B[1m \u001B[0m \u001B[1m \u001B[0m\u001B[1m311101 \u001B[0m\u001B[1m \u001B[0m \u001B[1;38;5;39m \u001B[0m\u001B[1;38;5;39m2023-01-31 \u001B[0m\u001B[1;38;5;39m \u001B[0m \u001B[1m \u001B[0m\u001B[1m0001145549-23-004808\u001B[0m\u001B[1m \u001B[0m \n",
       "  39  \u001B[38;5;71m \u001B[0m\u001B[38;5;71mNPORT-P  \u001B[0m\u001B[38;5;71m \u001B[0m  DUPREE MUTUAL FUNDS                      311101   \u001B[38;5;39m \u001B[0m\u001B[38;5;39m2023-01-31 \u001B[0m\u001B[38;5;39m \u001B[0m  0001145549-23-004809  \n",
       " \u001B[1m \u001B[0m\u001B[1m40\u001B[0m\u001B[1m \u001B[0m \u001B[1;38;5;71m \u001B[0m\u001B[1;38;5;71mNPORT-P  \u001B[0m\u001B[1;38;5;71m \u001B[0m \u001B[1m \u001B[0m\u001B[1mOxford Lane Capital Corp.             \u001B[0m\u001B[1m \u001B[0m \u001B[1m \u001B[0m\u001B[1m1495222\u001B[0m\u001B[1m \u001B[0m \u001B[1;38;5;39m \u001B[0m\u001B[1;38;5;39m2023-01-31 \u001B[0m\u001B[1;38;5;39m \u001B[0m \u001B[1m \u001B[0m\u001B[1m0001145549-23-004822\u001B[0m\u001B[1m \u001B[0m \n",
       "  41  \u001B[38;5;71m \u001B[0m\u001B[38;5;71mNPORT-P/A\u001B[0m\u001B[38;5;71m \u001B[0m  ALLSPRING UTILITIES & HIGH INCOME FUND   1279014  \u001B[38;5;39m \u001B[0m\u001B[38;5;39m2023-01-31 \u001B[0m\u001B[38;5;39m \u001B[0m  0001752724-23-018622  \n",
       " \u001B[1m \u001B[0m\u001B[1m42\u001B[0m\u001B[1m \u001B[0m \u001B[1;38;5;71m \u001B[0m\u001B[1;38;5;71mNPORT-P/A\u001B[0m\u001B[1;38;5;71m \u001B[0m \u001B[1m \u001B[0m\u001B[1mALPS Series Trust                     \u001B[0m\u001B[1m \u001B[0m \u001B[1m \u001B[0m\u001B[1m1558107\u001B[0m\u001B[1m \u001B[0m \u001B[1;38;5;39m \u001B[0m\u001B[1;38;5;39m2023-01-31 \u001B[0m\u001B[1;38;5;39m \u001B[0m \u001B[1m \u001B[0m\u001B[1m0001752724-23-018691\u001B[0m\u001B[1m \u001B[0m \n",
       "  43  \u001B[38;5;71m \u001B[0m\u001B[38;5;71mNPORT-P/A\u001B[0m\u001B[38;5;71m \u001B[0m  ALPS Series Trust                        1558107  \u001B[38;5;39m \u001B[0m\u001B[38;5;39m2023-01-31 \u001B[0m\u001B[38;5;39m \u001B[0m  0001752724-23-018728  \n",
       " \u001B[1m \u001B[0m\u001B[1m44\u001B[0m\u001B[1m \u001B[0m \u001B[1;38;5;71m \u001B[0m\u001B[1;38;5;71mNPORT-P/A\u001B[0m\u001B[1;38;5;71m \u001B[0m \u001B[1m \u001B[0m\u001B[1mMassMutual Advantage Funds            \u001B[0m\u001B[1m \u001B[0m \u001B[1m \u001B[0m\u001B[1m1859808\u001B[0m\u001B[1m \u001B[0m \u001B[1;38;5;39m \u001B[0m\u001B[1;38;5;39m2023-01-31 \u001B[0m\u001B[1;38;5;39m \u001B[0m \u001B[1m \u001B[0m\u001B[1m0001398344-23-001605\u001B[0m\u001B[1m \u001B[0m \n",
       "  45  \u001B[38;5;71m \u001B[0m\u001B[38;5;71mNPORT-P/A\u001B[0m\u001B[38;5;71m \u001B[0m  MassMutual Advantage Funds               1859808  \u001B[38;5;39m \u001B[0m\u001B[38;5;39m2023-01-31 \u001B[0m\u001B[38;5;39m \u001B[0m  0001398344-23-001606  \n",
       " \u001B[1m \u001B[0m\u001B[1m46\u001B[0m\u001B[1m \u001B[0m \u001B[1;38;5;71m \u001B[0m\u001B[1;38;5;71mNPORT-P/A\u001B[0m\u001B[1;38;5;71m \u001B[0m \u001B[1m \u001B[0m\u001B[1mMassMutual Advantage Funds            \u001B[0m\u001B[1m \u001B[0m \u001B[1m \u001B[0m\u001B[1m1859808\u001B[0m\u001B[1m \u001B[0m \u001B[1;38;5;39m \u001B[0m\u001B[1;38;5;39m2023-01-31 \u001B[0m\u001B[1;38;5;39m \u001B[0m \u001B[1m \u001B[0m\u001B[1m0001398344-23-001612\u001B[0m\u001B[1m \u001B[0m \n",
       "  47  \u001B[38;5;71m \u001B[0m\u001B[38;5;71mNPORT-P/A\u001B[0m\u001B[38;5;71m \u001B[0m  MassMutual Advantage Funds               1859808  \u001B[38;5;39m \u001B[0m\u001B[38;5;39m2023-01-31 \u001B[0m\u001B[38;5;39m \u001B[0m  0001398344-23-001613  \n",
       " \u001B[1m \u001B[0m\u001B[1m48\u001B[0m\u001B[1m \u001B[0m \u001B[1;38;5;71m \u001B[0m\u001B[1;38;5;71mNPORT-P  \u001B[0m\u001B[1;38;5;71m \u001B[0m \u001B[1m \u001B[0m\u001B[1m360 Funds                             \u001B[0m\u001B[1m \u001B[0m \u001B[1m \u001B[0m\u001B[1m1319067\u001B[0m\u001B[1m \u001B[0m \u001B[1;38;5;39m \u001B[0m\u001B[1;38;5;39m2023-01-30 \u001B[0m\u001B[1;38;5;39m \u001B[0m \u001B[1m \u001B[0m\u001B[1m0001387131-23-000942\u001B[0m\u001B[1m \u001B[0m \n",
       "  49  \u001B[38;5;71m \u001B[0m\u001B[38;5;71mNPORT-P  \u001B[0m\u001B[38;5;71m \u001B[0m  AB Active ETFs, Inc.                     1496608  \u001B[38;5;39m \u001B[0m\u001B[38;5;39m2023-01-30 \u001B[0m\u001B[38;5;39m \u001B[0m  0001752724-23-018104  \n",
       "                                                                                                          \n",
       "Showing 50 filings of 2,534 total from 2023-01-03 to 2023-02-06"
      ]
     },
     "execution_count": 24,
     "metadata": {},
     "output_type": "execute_result"
    }
   ],
   "source": [
    "funds = get_funds()\n",
    "funds"
   ]
  },
  {
   "cell_type": "markdown",
   "id": "6b2a3ce0",
   "metadata": {},
   "source": [
    "## Fund Report"
   ]
  },
  {
   "cell_type": "code",
   "execution_count": 25,
   "id": "cb7df50e",
   "metadata": {},
   "outputs": [
    {
     "data": {
      "text/html": [
       "<pre style=\"white-space:pre;overflow-x:auto;line-height:normal;font-family:Menlo,'DejaVu Sans Mono',consolas,'Courier New',monospace\"></pre>\n"
      ],
      "text/plain": []
     },
     "metadata": {},
     "output_type": "display_data"
    },
    {
     "data": {
      "text/plain": [
       "\u001B[1;38;5;71mFORUM FUNDS II - BAYWOOD VALUEPLUS FUND\u001B[0m\n",
       "\u001B[1;38;5;39m                                  Fund Summary                                   \u001B[0m\n",
       "                                                                                 \n",
       " \u001B[1m \u001B[0m\u001B[1mAssets    \u001B[0m\u001B[1m \u001B[0m \u001B[1m \u001B[0m\u001B[1mLiabilities\u001B[0m\u001B[1m \u001B[0m \u001B[1m \u001B[0m\u001B[1mNet Assets\u001B[0m\u001B[1m \u001B[0m \u001B[1m \u001B[0m\u001B[1mInvestments\u001B[0m\u001B[1m \u001B[0m \u001B[1m \u001B[0m\u001B[1mPeriod                 \u001B[0m\u001B[1m \u001B[0m \n",
       " ─────────────────────────────────────────────────────────────────────────────── \n",
       "  $3,801,372   $20,757       $3,780,615   53            2022-12-31 - 2023-09-30  \n",
       "                                                                                 \n",
       "\u001B[1;38;5;39m                      Interest Rate Sensitivity                      \u001B[0m\n",
       "                                                                     \n",
       " \u001B[1m \u001B[0m\u001B[1mMetric\u001B[0m\u001B[1m \u001B[0m \u001B[1m \u001B[0m\u001B[1mCurrency\u001B[0m\u001B[1m \u001B[0m \u001B[1m \u001B[0m\u001B[1m3 month\u001B[0m\u001B[1m \u001B[0m \u001B[1m \u001B[0m\u001B[1m1 year\u001B[0m\u001B[1m \u001B[0m \u001B[1m \u001B[0m\u001B[1m5 year\u001B[0m\u001B[1m \u001B[0m \u001B[1m \u001B[0m\u001B[1m10 year\u001B[0m\u001B[1m \u001B[0m \u001B[1m \u001B[0m\u001B[1m30 year\u001B[0m\u001B[1m \u001B[0m \n",
       " ─────────────────────────────────────────────────────────────────── \n",
       "                                                                     \n",
       " \n",
       "\u001B[1;38;5;39m                                                    Investments                                                    \u001B[0m\n",
       "                                                                                                                   \n",
       " \u001B[1m \u001B[0m\u001B[1m  \u001B[0m\u001B[1m \u001B[0m \u001B[1m \u001B[0m\u001B[1mName                          \u001B[0m\u001B[1m \u001B[0m \u001B[1m \u001B[0m\u001B[1mTitle                        \u001B[0m\u001B[1m \u001B[0m \u001B[1m \u001B[0m\u001B[1mCusip    \u001B[0m\u001B[1m \u001B[0m \u001B[1m \u001B[0m\u001B[1mCategory\u001B[0m\u001B[1m \u001B[0m \u001B[1m \u001B[0m\u001B[1mValue   \u001B[0m\u001B[1m \u001B[0m \u001B[1m \u001B[0m\u001B[1mPercent\u001B[0m\u001B[1m \u001B[0m \n",
       " ───────────────────────────────────────────────────────────────────────────────────────────────────────────────── \n",
       " \u001B[1m \u001B[0m\u001B[1m0 \u001B[0m\u001B[1m \u001B[0m \u001B[1m \u001B[0m\u001B[1mMerck & Co Inc                \u001B[0m\u001B[1m \u001B[0m \u001B[1m \u001B[0m\u001B[1mMerck & Co., Inc.            \u001B[0m\u001B[1m \u001B[0m \u001B[1m \u001B[0m\u001B[1m58933Y105\u001B[0m\u001B[1m \u001B[0m \u001B[1m \u001B[0m\u001B[1mCORP EC \u001B[0m\u001B[1m \u001B[0m \u001B[1m \u001B[0m\u001B[1m$133,140\u001B[0m\u001B[1m \u001B[0m \u001B[1m \u001B[0m\u001B[1m3.5    \u001B[0m\u001B[1m \u001B[0m \n",
       "  1    Raytheon Technologies Corp       Raytheon Technologies Corp.     75513E101   CORP EC    $131,196   3.5      \n",
       " \u001B[1m \u001B[0m\u001B[1m2 \u001B[0m\u001B[1m \u001B[0m \u001B[1m \u001B[0m\u001B[1mConocoPhillips                \u001B[0m\u001B[1m \u001B[0m \u001B[1m \u001B[0m\u001B[1mConocoPhillips               \u001B[0m\u001B[1m \u001B[0m \u001B[1m \u001B[0m\u001B[1m20825C104\u001B[0m\u001B[1m \u001B[0m \u001B[1m \u001B[0m\u001B[1mCORP EC \u001B[0m\u001B[1m \u001B[0m \u001B[1m \u001B[0m\u001B[1m$129,800\u001B[0m\u001B[1m \u001B[0m \u001B[1m \u001B[0m\u001B[1m3.4    \u001B[0m\u001B[1m \u001B[0m \n",
       "  3    American International Group I   American International Group,   026874784   CORP EC    $126,480   3.3      \n",
       "                                        Inc.                                                                       \n",
       " \u001B[1m \u001B[0m\u001B[1m4 \u001B[0m\u001B[1m \u001B[0m \u001B[1m \u001B[0m\u001B[1mN/A                           \u001B[0m\u001B[1m \u001B[0m \u001B[1m \u001B[0m\u001B[1mFirst American Government    \u001B[0m\u001B[1m \u001B[0m \u001B[1m \u001B[0m\u001B[1m31846V336\u001B[0m\u001B[1m \u001B[0m \u001B[1m \u001B[0m\u001B[1mRF STIV \u001B[0m\u001B[1m \u001B[0m \u001B[1m \u001B[0m\u001B[1m$115,947\u001B[0m\u001B[1m \u001B[0m \u001B[1m \u001B[0m\u001B[1m3.1    \u001B[0m\u001B[1m \u001B[0m \n",
       " \u001B[1m    \u001B[0m \u001B[1m                                \u001B[0m \u001B[1m \u001B[0m\u001B[1mObligations Fund             \u001B[0m\u001B[1m \u001B[0m \u001B[1m           \u001B[0m \u001B[1m          \u001B[0m \u001B[1m          \u001B[0m \u001B[1m         \u001B[0m \n",
       "  5    IBM                              International Business          459200101   CORP EC    $112,712   3.0      \n",
       "                                        Machines Corp.                                                             \n",
       " \u001B[1m \u001B[0m\u001B[1m6 \u001B[0m\u001B[1m \u001B[0m \u001B[1m \u001B[0m\u001B[1mAT&T Inc                      \u001B[0m\u001B[1m \u001B[0m \u001B[1m \u001B[0m\u001B[1mAT&T, Inc.                   \u001B[0m\u001B[1m \u001B[0m \u001B[1m \u001B[0m\u001B[1m00206R102\u001B[0m\u001B[1m \u001B[0m \u001B[1m \u001B[0m\u001B[1mCORP EC \u001B[0m\u001B[1m \u001B[0m \u001B[1m \u001B[0m\u001B[1m$108,619\u001B[0m\u001B[1m \u001B[0m \u001B[1m \u001B[0m\u001B[1m2.9    \u001B[0m\u001B[1m \u001B[0m \n",
       "  7    MetLife Inc                      MetLife, Inc.                   59156R108   CORP EC    $101,318   2.7      \n",
       " \u001B[1m \u001B[0m\u001B[1m8 \u001B[0m\u001B[1m \u001B[0m \u001B[1m \u001B[0m\u001B[1mRio Tinto PLC                 \u001B[0m\u001B[1m \u001B[0m \u001B[1m \u001B[0m\u001B[1mRio Tinto PLC                \u001B[0m\u001B[1m \u001B[0m \u001B[1m \u001B[0m\u001B[1m767204100\u001B[0m\u001B[1m \u001B[0m \u001B[1m \u001B[0m\u001B[1mCORP EC \u001B[0m\u001B[1m \u001B[0m \u001B[1m \u001B[0m\u001B[1m$99,680 \u001B[0m\u001B[1m \u001B[0m \u001B[1m \u001B[0m\u001B[1m2.6    \u001B[0m\u001B[1m \u001B[0m \n",
       "  9    AbbVie Inc                       AbbVie, Inc.                    00287Y109   CORP EC    $96,966    2.6      \n",
       " \u001B[1m \u001B[0m\u001B[1m10\u001B[0m\u001B[1m \u001B[0m \u001B[1m \u001B[0m\u001B[1mKraft Heinz Co/The            \u001B[0m\u001B[1m \u001B[0m \u001B[1m \u001B[0m\u001B[1mThe Kraft Heinz Co.          \u001B[0m\u001B[1m \u001B[0m \u001B[1m \u001B[0m\u001B[1m500754106\u001B[0m\u001B[1m \u001B[0m \u001B[1m \u001B[0m\u001B[1mCORP EC \u001B[0m\u001B[1m \u001B[0m \u001B[1m \u001B[0m\u001B[1m$93,633 \u001B[0m\u001B[1m \u001B[0m \u001B[1m \u001B[0m\u001B[1m2.5    \u001B[0m\u001B[1m \u001B[0m \n",
       "  11   Chubb Ltd                        Chubb, Ltd.                     H1467J104   CORP EC    $88,240    2.3      \n",
       " \u001B[1m \u001B[0m\u001B[1m12\u001B[0m\u001B[1m \u001B[0m \u001B[1m \u001B[0m\u001B[1mKontoor Brands Inc            \u001B[0m\u001B[1m \u001B[0m \u001B[1m \u001B[0m\u001B[1mKontoor Brands, Inc.         \u001B[0m\u001B[1m \u001B[0m \u001B[1m \u001B[0m\u001B[1m50050N103\u001B[0m\u001B[1m \u001B[0m \u001B[1m \u001B[0m\u001B[1mCORP EC \u001B[0m\u001B[1m \u001B[0m \u001B[1m \u001B[0m\u001B[1m$87,978 \u001B[0m\u001B[1m \u001B[0m \u001B[1m \u001B[0m\u001B[1m2.3    \u001B[0m\u001B[1m \u001B[0m \n",
       "  13   Newmont Corp                     Newmont Corp.                   651639106   CORP EC    $84,960    2.2      \n",
       " \u001B[1m \u001B[0m\u001B[1m14\u001B[0m\u001B[1m \u001B[0m \u001B[1m \u001B[0m\u001B[1mCardinal Health Inc           \u001B[0m\u001B[1m \u001B[0m \u001B[1m \u001B[0m\u001B[1mCardinal Health, Inc.        \u001B[0m\u001B[1m \u001B[0m \u001B[1m \u001B[0m\u001B[1m14149Y108\u001B[0m\u001B[1m \u001B[0m \u001B[1m \u001B[0m\u001B[1mCORP EC \u001B[0m\u001B[1m \u001B[0m \u001B[1m \u001B[0m\u001B[1m$84,557 \u001B[0m\u001B[1m \u001B[0m \u001B[1m \u001B[0m\u001B[1m2.2    \u001B[0m\u001B[1m \u001B[0m \n",
       "  15   Citigroup Inc                    Citigroup, Inc.                 172967424   CORP EC    $81,414    2.2      \n",
       " \u001B[1m \u001B[0m\u001B[1m16\u001B[0m\u001B[1m \u001B[0m \u001B[1m \u001B[0m\u001B[1mKoninklijke Philips NV        \u001B[0m\u001B[1m \u001B[0m \u001B[1m \u001B[0m\u001B[1mKoninklijke Philips NV       \u001B[0m\u001B[1m \u001B[0m \u001B[1m \u001B[0m\u001B[1m500472303\u001B[0m\u001B[1m \u001B[0m \u001B[1m \u001B[0m\u001B[1mCORP EC \u001B[0m\u001B[1m \u001B[0m \u001B[1m \u001B[0m\u001B[1m$81,186 \u001B[0m\u001B[1m \u001B[0m \u001B[1m \u001B[0m\u001B[1m2.1    \u001B[0m\u001B[1m \u001B[0m \n",
       "  17   Comcast Corp                     Comcast Corp.                   20030N101   CORP EC    $80,431    2.1      \n",
       " \u001B[1m \u001B[0m\u001B[1m18\u001B[0m\u001B[1m \u001B[0m \u001B[1m \u001B[0m\u001B[1mIngredion Inc                 \u001B[0m\u001B[1m \u001B[0m \u001B[1m \u001B[0m\u001B[1mIngredion, Inc.              \u001B[0m\u001B[1m \u001B[0m \u001B[1m \u001B[0m\u001B[1m457187102\u001B[0m\u001B[1m \u001B[0m \u001B[1m \u001B[0m\u001B[1mCORP EC \u001B[0m\u001B[1m \u001B[0m \u001B[1m \u001B[0m\u001B[1m$78,344 \u001B[0m\u001B[1m \u001B[0m \u001B[1m \u001B[0m\u001B[1m2.1    \u001B[0m\u001B[1m \u001B[0m \n",
       "  19   NetApp Inc                       NetApp, Inc.                    64110D104   CORP EC    $78,078    2.1      \n",
       " \u001B[1m \u001B[0m\u001B[1m20\u001B[0m\u001B[1m \u001B[0m \u001B[1m \u001B[0m\u001B[1mVICI Properties Inc           \u001B[0m\u001B[1m \u001B[0m \u001B[1m \u001B[0m\u001B[1mVICI Properties, Inc.        \u001B[0m\u001B[1m \u001B[0m \u001B[1m \u001B[0m\u001B[1m925652109\u001B[0m\u001B[1m \u001B[0m \u001B[1m \u001B[0m\u001B[1mCORP EC \u001B[0m\u001B[1m \u001B[0m \u001B[1m \u001B[0m\u001B[1m$77,760 \u001B[0m\u001B[1m \u001B[0m \u001B[1m \u001B[0m\u001B[1m2.1    \u001B[0m\u001B[1m \u001B[0m \n",
       "  21   Atlas Corp                       Atlas Corp.                     Y0436Q109   CORP EC    $73,632    1.9      \n",
       " \u001B[1m \u001B[0m\u001B[1m22\u001B[0m\u001B[1m \u001B[0m \u001B[1m \u001B[0m\u001B[1mIFF                           \u001B[0m\u001B[1m \u001B[0m \u001B[1m \u001B[0m\u001B[1mInternational Flavors &      \u001B[0m\u001B[1m \u001B[0m \u001B[1m \u001B[0m\u001B[1m459506101\u001B[0m\u001B[1m \u001B[0m \u001B[1m \u001B[0m\u001B[1mCORP EC \u001B[0m\u001B[1m \u001B[0m \u001B[1m \u001B[0m\u001B[1m$73,388 \u001B[0m\u001B[1m \u001B[0m \u001B[1m \u001B[0m\u001B[1m1.9    \u001B[0m\u001B[1m \u001B[0m \n",
       " \u001B[1m    \u001B[0m \u001B[1m                                \u001B[0m \u001B[1m \u001B[0m\u001B[1mFragrances, Inc.             \u001B[0m\u001B[1m \u001B[0m \u001B[1m           \u001B[0m \u001B[1m          \u001B[0m \u001B[1m          \u001B[0m \u001B[1m         \u001B[0m \n",
       "  23   Phillips 66                      Phillips 66                     718546104   CORP EC    $72,856    1.9      \n",
       " \u001B[1m \u001B[0m\u001B[1m24\u001B[0m\u001B[1m \u001B[0m \u001B[1m \u001B[0m\u001B[1mProsperity Bancshares Inc     \u001B[0m\u001B[1m \u001B[0m \u001B[1m \u001B[0m\u001B[1mProsperity Bancshares, Inc.  \u001B[0m\u001B[1m \u001B[0m \u001B[1m \u001B[0m\u001B[1m743606105\u001B[0m\u001B[1m \u001B[0m \u001B[1m \u001B[0m\u001B[1mCORP EC \u001B[0m\u001B[1m \u001B[0m \u001B[1m \u001B[0m\u001B[1m$72,680 \u001B[0m\u001B[1m \u001B[0m \u001B[1m \u001B[0m\u001B[1m1.9    \u001B[0m\u001B[1m \u001B[0m \n",
       "  25   Realty Income Corp               Realty Income Corp.             756109104   CORP EC    $70,027    1.9      \n",
       " \u001B[1m \u001B[0m\u001B[1m26\u001B[0m\u001B[1m \u001B[0m \u001B[1m \u001B[0m\u001B[1mGenuine Parts Co              \u001B[0m\u001B[1m \u001B[0m \u001B[1m \u001B[0m\u001B[1mGenuine Parts Co.            \u001B[0m\u001B[1m \u001B[0m \u001B[1m \u001B[0m\u001B[1m372460105\u001B[0m\u001B[1m \u001B[0m \u001B[1m \u001B[0m\u001B[1mCORP EC \u001B[0m\u001B[1m \u001B[0m \u001B[1m \u001B[0m\u001B[1m$69,404 \u001B[0m\u001B[1m \u001B[0m \u001B[1m \u001B[0m\u001B[1m1.8    \u001B[0m\u001B[1m \u001B[0m \n",
       "  27   Darden Restaurants Inc           Darden Restaurants, Inc.        237194105   CORP EC    $69,165    1.8      \n",
       " \u001B[1m \u001B[0m\u001B[1m28\u001B[0m\u001B[1m \u001B[0m \u001B[1m \u001B[0m\u001B[1mKinder Morgan Inc             \u001B[0m\u001B[1m \u001B[0m \u001B[1m \u001B[0m\u001B[1mKinder Morgan, Inc.          \u001B[0m\u001B[1m \u001B[0m \u001B[1m \u001B[0m\u001B[1m49456B101\u001B[0m\u001B[1m \u001B[0m \u001B[1m \u001B[0m\u001B[1mCORP EC \u001B[0m\u001B[1m \u001B[0m \u001B[1m \u001B[0m\u001B[1m$68,704 \u001B[0m\u001B[1m \u001B[0m \u001B[1m \u001B[0m\u001B[1m1.8    \u001B[0m\u001B[1m \u001B[0m \n",
       "  29   Equinor ASA                      Equinor ASA                     29446M102   CORP EC    $64,458    1.7      \n",
       " \u001B[1m \u001B[0m\u001B[1m30\u001B[0m\u001B[1m \u001B[0m \u001B[1m \u001B[0m\u001B[1mParker-Hannifin Corp          \u001B[0m\u001B[1m \u001B[0m \u001B[1m \u001B[0m\u001B[1mParker-Hannifin Corp.        \u001B[0m\u001B[1m \u001B[0m \u001B[1m \u001B[0m\u001B[1m701094104\u001B[0m\u001B[1m \u001B[0m \u001B[1m \u001B[0m\u001B[1mCORP EC \u001B[0m\u001B[1m \u001B[0m \u001B[1m \u001B[0m\u001B[1m$58,200 \u001B[0m\u001B[1m \u001B[0m \u001B[1m \u001B[0m\u001B[1m1.5    \u001B[0m\u001B[1m \u001B[0m \n",
       "  31   Wells Fargo & Co                 Wells Fargo & Co.               949746101   CORP EC    $57,806    1.5      \n",
       " \u001B[1m \u001B[0m\u001B[1m32\u001B[0m\u001B[1m \u001B[0m \u001B[1m \u001B[0m\u001B[1mRadian Group Inc              \u001B[0m\u001B[1m \u001B[0m \u001B[1m \u001B[0m\u001B[1mRadian Group, Inc.           \u001B[0m\u001B[1m \u001B[0m \u001B[1m \u001B[0m\u001B[1m750236101\u001B[0m\u001B[1m \u001B[0m \u001B[1m \u001B[0m\u001B[1mCORP EC \u001B[0m\u001B[1m \u001B[0m \u001B[1m \u001B[0m\u001B[1m$57,210 \u001B[0m\u001B[1m \u001B[0m \u001B[1m \u001B[0m\u001B[1m1.5    \u001B[0m\u001B[1m \u001B[0m \n",
       "  33   Nutrien Ltd                      Nutrien, Ltd.                   67077M108   CORP EC    $55,503    1.5      \n",
       " \u001B[1m \u001B[0m\u001B[1m34\u001B[0m\u001B[1m \u001B[0m \u001B[1m \u001B[0m\u001B[1mChevron Corp                  \u001B[0m\u001B[1m \u001B[0m \u001B[1m \u001B[0m\u001B[1mChevron Corp.                \u001B[0m\u001B[1m \u001B[0m \u001B[1m \u001B[0m\u001B[1m166764100\u001B[0m\u001B[1m \u001B[0m \u001B[1m \u001B[0m\u001B[1mCORP EC \u001B[0m\u001B[1m \u001B[0m \u001B[1m \u001B[0m\u001B[1m$53,847 \u001B[0m\u001B[1m \u001B[0m \u001B[1m \u001B[0m\u001B[1m1.4    \u001B[0m\u001B[1m \u001B[0m \n",
       "  35   Northern Trust Corp              Northern Trust Corp.            665859104   CORP EC    $53,094    1.4      \n",
       " \u001B[1m \u001B[0m\u001B[1m36\u001B[0m\u001B[1m \u001B[0m \u001B[1m \u001B[0m\u001B[1mAmgen Inc                     \u001B[0m\u001B[1m \u001B[0m \u001B[1m \u001B[0m\u001B[1mAmgen, Inc.                  \u001B[0m\u001B[1m \u001B[0m \u001B[1m \u001B[0m\u001B[1m031162100\u001B[0m\u001B[1m \u001B[0m \u001B[1m \u001B[0m\u001B[1mCORP EC \u001B[0m\u001B[1m \u001B[0m \u001B[1m \u001B[0m\u001B[1m$52,528 \u001B[0m\u001B[1m \u001B[0m \u001B[1m \u001B[0m\u001B[1m1.4    \u001B[0m\u001B[1m \u001B[0m \n",
       "  37   Cisco Systems Inc                Cisco Systems, Inc.             17275R102   CORP EC    $52,404    1.4      \n",
       " \u001B[1m \u001B[0m\u001B[1m38\u001B[0m\u001B[1m \u001B[0m \u001B[1m \u001B[0m\u001B[1mCME Group Inc                 \u001B[0m\u001B[1m \u001B[0m \u001B[1m \u001B[0m\u001B[1mCME Group, Inc.              \u001B[0m\u001B[1m \u001B[0m \u001B[1m \u001B[0m\u001B[1m12572Q105\u001B[0m\u001B[1m \u001B[0m \u001B[1m \u001B[0m\u001B[1mCORP EC \u001B[0m\u001B[1m \u001B[0m \u001B[1m \u001B[0m\u001B[1m$50,448 \u001B[0m\u001B[1m \u001B[0m \u001B[1m \u001B[0m\u001B[1m1.3    \u001B[0m\u001B[1m \u001B[0m \n",
       "  39   Lear Corp                        Lear Corp.                      521865204   CORP EC    $49,608    1.3      \n",
       " \u001B[1m \u001B[0m\u001B[1m40\u001B[0m\u001B[1m \u001B[0m \u001B[1m \u001B[0m\u001B[1mTexas Instruments Inc         \u001B[0m\u001B[1m \u001B[0m \u001B[1m \u001B[0m\u001B[1mTexas Instruments, Inc.      \u001B[0m\u001B[1m \u001B[0m \u001B[1m \u001B[0m\u001B[1m882508104\u001B[0m\u001B[1m \u001B[0m \u001B[1m \u001B[0m\u001B[1mCORP EC \u001B[0m\u001B[1m \u001B[0m \u001B[1m \u001B[0m\u001B[1m$49,566 \u001B[0m\u001B[1m \u001B[0m \u001B[1m \u001B[0m\u001B[1m1.3    \u001B[0m\u001B[1m \u001B[0m \n",
       "  41   Molson Coors Beverage Co         Molson Coors Beverage Co.       60871R209   CORP EC    $46,883    1.2      \n",
       " \u001B[1m \u001B[0m\u001B[1m42\u001B[0m\u001B[1m \u001B[0m \u001B[1m \u001B[0m\u001B[1mMedtronic PLC                 \u001B[0m\u001B[1m \u001B[0m \u001B[1m \u001B[0m\u001B[1mMedtronic PLC                \u001B[0m\u001B[1m \u001B[0m \u001B[1m \u001B[0m\u001B[1mG5960L103\u001B[0m\u001B[1m \u001B[0m \u001B[1m \u001B[0m\u001B[1mCORP EC \u001B[0m\u001B[1m \u001B[0m \u001B[1m \u001B[0m\u001B[1m$46,632 \u001B[0m\u001B[1m \u001B[0m \u001B[1m \u001B[0m\u001B[1m1.2    \u001B[0m\u001B[1m \u001B[0m \n",
       "  43   Corebridge Financial Inc         Corebridge Financial, Inc.      21871X109   CORP EC    $42,126    1.1      \n",
       " \u001B[1m \u001B[0m\u001B[1m44\u001B[0m\u001B[1m \u001B[0m \u001B[1m \u001B[0m\u001B[1mUnion Pacific Corp            \u001B[0m\u001B[1m \u001B[0m \u001B[1m \u001B[0m\u001B[1mUnion Pacific Corp.          \u001B[0m\u001B[1m \u001B[0m \u001B[1m \u001B[0m\u001B[1m907818108\u001B[0m\u001B[1m \u001B[0m \u001B[1m \u001B[0m\u001B[1mCORP EC \u001B[0m\u001B[1m \u001B[0m \u001B[1m \u001B[0m\u001B[1m$41,414 \u001B[0m\u001B[1m \u001B[0m \u001B[1m \u001B[0m\u001B[1m1.1    \u001B[0m\u001B[1m \u001B[0m \n",
       "  45   OGE Energy Corp                  OGE Energy Corp.                670837103   CORP EC    $39,550    1.0      \n",
       " \u001B[1m \u001B[0m\u001B[1m46\u001B[0m\u001B[1m \u001B[0m \u001B[1m \u001B[0m\u001B[1mVerizon Communications Inc    \u001B[0m\u001B[1m \u001B[0m \u001B[1m \u001B[0m\u001B[1mVerizon Communications, Inc. \u001B[0m\u001B[1m \u001B[0m \u001B[1m \u001B[0m\u001B[1m92343V104\u001B[0m\u001B[1m \u001B[0m \u001B[1m \u001B[0m\u001B[1mCORP EC \u001B[0m\u001B[1m \u001B[0m \u001B[1m \u001B[0m\u001B[1m$39,400 \u001B[0m\u001B[1m \u001B[0m \u001B[1m \u001B[0m\u001B[1m1.0    \u001B[0m\u001B[1m \u001B[0m \n",
       "  47   Packaging Corp of America        Packaging Corp. of America      695156109   CORP EC    $38,373    1.0      \n",
       " \u001B[1m \u001B[0m\u001B[1m48\u001B[0m\u001B[1m \u001B[0m \u001B[1m \u001B[0m\u001B[1mPepsiCo Inc                   \u001B[0m\u001B[1m \u001B[0m \u001B[1m \u001B[0m\u001B[1mPepsiCo., Inc.               \u001B[0m\u001B[1m \u001B[0m \u001B[1m \u001B[0m\u001B[1m713448108\u001B[0m\u001B[1m \u001B[0m \u001B[1m \u001B[0m\u001B[1mCORP EC \u001B[0m\u001B[1m \u001B[0m \u001B[1m \u001B[0m\u001B[1m$36,132 \u001B[0m\u001B[1m \u001B[0m \u001B[1m \u001B[0m\u001B[1m1.0    \u001B[0m\u001B[1m \u001B[0m \n",
       "  49   Corning Inc                      Corning, Inc.                   219350105   CORP EC    $35,134    0.9      \n",
       " \u001B[1m \u001B[0m\u001B[1m50\u001B[0m\u001B[1m \u001B[0m \u001B[1m \u001B[0m\u001B[1mTE Connectivity Ltd           \u001B[0m\u001B[1m \u001B[0m \u001B[1m \u001B[0m\u001B[1mTE Connectivity, Ltd.        \u001B[0m\u001B[1m \u001B[0m \u001B[1m \u001B[0m\u001B[1mH84989104\u001B[0m\u001B[1m \u001B[0m \u001B[1m \u001B[0m\u001B[1mCORP EC \u001B[0m\u001B[1m \u001B[0m \u001B[1m \u001B[0m\u001B[1m$34,440 \u001B[0m\u001B[1m \u001B[0m \u001B[1m \u001B[0m\u001B[1m0.9    \u001B[0m\u001B[1m \u001B[0m \n",
       "  51   AstraZeneca PLC                  AstraZeneca PLC                 046353108   CORP EC    $33,900    0.9      \n",
       " \u001B[1m \u001B[0m\u001B[1m52\u001B[0m\u001B[1m \u001B[0m \u001B[1m \u001B[0m\u001B[1mNXP Semiconductors NV         \u001B[0m\u001B[1m \u001B[0m \u001B[1m \u001B[0m\u001B[1mNXP Semiconductors NV        \u001B[0m\u001B[1m \u001B[0m \u001B[1m \u001B[0m\u001B[1mN6596X109\u001B[0m\u001B[1m \u001B[0m \u001B[1m \u001B[0m\u001B[1mCORP EC \u001B[0m\u001B[1m \u001B[0m \u001B[1m \u001B[0m\u001B[1m$31,606 \u001B[0m\u001B[1m \u001B[0m \u001B[1m \u001B[0m\u001B[1m0.8    \u001B[0m\u001B[1m \u001B[0m \n",
       "                                                                                                                   "
      ]
     },
     "execution_count": 25,
     "metadata": {},
     "output_type": "execute_result"
    }
   ],
   "source": [
    "FundReport.from_xml(funds[1].xml())"
   ]
  }
 ],
 "metadata": {
  "kernelspec": {
   "display_name": "edgar",
   "language": "python",
   "name": "edgar"
  },
  "language_info": {
   "codemirror_mode": {
    "name": "ipython",
    "version": 3
   },
   "file_extension": ".py",
   "mimetype": "text/x-python",
   "name": "python",
   "nbconvert_exporter": "python",
   "pygments_lexer": "ipython3",
   "version": "3.10.5"
  }
 },
 "nbformat": 4,
 "nbformat_minor": 5
}
